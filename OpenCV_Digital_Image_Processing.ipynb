{
 "cells": [
  {
   "cell_type": "markdown",
   "metadata": {},
   "source": [
    "# OpenCV \n",
    "- Open Source Computer Vision Library\n",
    "- image_net: http://image-net.org/\n",
    "- pip install opencv-python\n",
    "- https://opencv.org/\n"
   ]
  },
  {
   "cell_type": "markdown",
   "metadata": {},
   "source": [
    "# TensorFlow\n",
    "- AI 神器\n",
    "- 计算图 + 张量\n",
    "- pip install tensorflow\n",
    "- https://www.tensorflow.org/\n"
   ]
  },
  {
   "cell_type": "code",
   "execution_count": 1,
   "metadata": {},
   "outputs": [],
   "source": [
    "import cv2\n",
    "import tensorflow as tf\n"
   ]
  },
  {
   "cell_type": "code",
   "execution_count": 1,
   "metadata": {},
   "outputs": [
    {
     "data": {
      "text/plain": [
       "-1"
      ]
     },
     "execution_count": 1,
     "metadata": {},
     "output_type": "execute_result"
    }
   ],
   "source": [
    "# 引入 OpenCV\n",
    "import cv2\n",
    "\n",
    "# 调用 API 读取图片\n",
    "# 参数1 图片文件路径；参数2 读取格式，0代表灰度，1代表彩色\n",
    "img = cv2.imread(\"./image/image0.jpg\", 1)\n",
    "\n",
    "# 调用 API 展示图片\n",
    "# 参数1 展示窗体名称；参数2 需要展示的图片\n",
    "cv2.imshow(\"image\", img)\n",
    "\n",
    "# 需要一个等待，窗体才能正常显示，否则就是报错\n",
    "cv2.waitKey(0)"
   ]
  },
  {
   "cell_type": "markdown",
   "metadata": {},
   "source": [
    "直接关闭窗体，表示程序异常退出，返回值为 -1\n",
    "\n",
    "imread 方法完成了 1 文件的读取，2 封装格式解析，3 数据解码，4 数据加载\n",
    "\n",
    "jpg 格式，png 格式  ：文件头，文件数据；压缩编码（文件头描述压缩格式等等信息）"
   ]
  },
  {
   "cell_type": "code",
   "execution_count": 3,
   "metadata": {},
   "outputs": [
    {
     "data": {
      "text/plain": [
       "True"
      ]
     },
     "execution_count": 3,
     "metadata": {},
     "output_type": "execute_result"
    }
   ],
   "source": [
    "# 调用 API 写入图像\n",
    "# 参数1 写入图像的名称以及路径（自动保存）；参数2 需要写入的图像数据\n",
    "cv2.imwrite(\"./image/image1.jpg\", img)"
   ]
  },
  {
   "cell_type": "markdown",
   "metadata": {},
   "source": [
    "True 代表图像写入成功，返回值为 bool 类型"
   ]
  },
  {
   "cell_type": "code",
   "execution_count": 5,
   "metadata": {},
   "outputs": [
    {
     "data": {
      "text/plain": [
       "True"
      ]
     },
     "execution_count": 5,
     "metadata": {},
     "output_type": "execute_result"
    }
   ],
   "source": [
    "# 图像质量\n",
    "cv2.imwrite(\"./image/imageTest.jpg\", img, [cv2.IMWRITE_JPEG_QUALITY, 50])"
   ]
  },
  {
   "cell_type": "markdown",
   "metadata": {},
   "source": [
    "jpg   IMWRITE_JPEG_QUALITY 当前图像的质量，0——100，有损压缩，0代表压缩比高，\n",
    "\n",
    "png   IMWRITE_PNG_COMPRESSION  当前图像质量，0——9 无损压缩，0代表压缩比低"
   ]
  },
  {
   "cell_type": "code",
   "execution_count": 6,
   "metadata": {},
   "outputs": [
    {
     "data": {
      "text/plain": [
       "True"
      ]
     },
     "execution_count": 6,
     "metadata": {},
     "output_type": "execute_result"
    }
   ],
   "source": [
    "# 图像质量\n",
    "cv2.imwrite(\"./image/imageTest.png\", img, [cv2.IMWRITE_PNG_COMPRESSION, 0])"
   ]
  },
  {
   "cell_type": "markdown",
   "metadata": {},
   "source": [
    "## 图像像素操作\n",
    "- 像素\n",
    "- RGB 分量\n",
    "- 颜色深度（0-255）8bit 颜色深度\n",
    "- 宽 高 / W H 640*480 代表着水平像素点 640，垂直像素点 480\n",
    "- 1.14 M = 720 * 547 * 3 * 8bit = 720 * 547 * 3 B = 1.14 M\n",
    "- RGB alpha(图像透明度信息)，颜色通道和透明度通道\n",
    "- BGR bgr 颜色顺序分量 （OpenCV 就是这样的颜色顺序）\n",
    "- 图像储存的坐标结构，左上角为坐标原点"
   ]
  },
  {
   "cell_type": "code",
   "execution_count": 7,
   "metadata": {},
   "outputs": [
    {
     "name": "stdout",
     "output_type": "stream",
     "text": [
      "70 23 91\n"
     ]
    }
   ],
   "source": [
    "# 读取像素点\n",
    "(b, g, r) = img[100, 100]\n",
    "print(b, g, r)"
   ]
  },
  {
   "cell_type": "code",
   "execution_count": 10,
   "metadata": {},
   "outputs": [
    {
     "data": {
      "text/plain": [
       "-1"
      ]
     },
     "execution_count": 10,
     "metadata": {},
     "output_type": "execute_result"
    }
   ],
   "source": [
    "# 操作图像像素，绘制一条红色竖线\n",
    "# 像素坐标：10 100 - 100 100\n",
    "for i in range(1, 100):\n",
    "    img[10 + i, 100] = (0, 0, 255)\n",
    "    \n",
    "cv2.imshow(\"image\", img)\n",
    "cv2.waitKey(0)"
   ]
  },
  {
   "cell_type": "markdown",
   "metadata": {},
   "source": [
    "# 图像的几何变换\n",
    "- 图像缩放\n",
    "- 图像剪切\n",
    "- 图像位移\n",
    "- 图像镜像\n",
    "- 图像仿射变换：位移 旋转 缩放\n"
   ]
  },
  {
   "cell_type": "code",
   "execution_count": 29,
   "metadata": {},
   "outputs": [
    {
     "data": {
      "text/plain": [
       "(255, 511, 3)"
      ]
     },
     "execution_count": 29,
     "metadata": {},
     "output_type": "execute_result"
    }
   ],
   "source": [
    "# 图像缩放\n",
    "# OpenCV API \n",
    "# step 1 load, 2 info, 3 resize, 4 check\n",
    "import cv2\n",
    "\n",
    "img = cv2.imread(\"./image/image0.jpg\", 1)\n",
    "imgInfo = img.shape\n",
    "imgInfo"
   ]
  },
  {
   "cell_type": "code",
   "execution_count": 35,
   "metadata": {},
   "outputs": [
    {
     "name": "stdout",
     "output_type": "stream",
     "text": [
      "<class 'numpy.ndarray'>\n",
      "<class 'tuple'>\n"
     ]
    },
    {
     "data": {
      "text/plain": [
       "['T',\n",
       " '__abs__',\n",
       " '__add__',\n",
       " '__and__',\n",
       " '__array__',\n",
       " '__array_finalize__',\n",
       " '__array_function__',\n",
       " '__array_interface__',\n",
       " '__array_prepare__',\n",
       " '__array_priority__',\n",
       " '__array_struct__',\n",
       " '__array_ufunc__',\n",
       " '__array_wrap__',\n",
       " '__bool__',\n",
       " '__class__',\n",
       " '__complex__',\n",
       " '__contains__',\n",
       " '__copy__',\n",
       " '__deepcopy__',\n",
       " '__delattr__',\n",
       " '__delitem__',\n",
       " '__dir__',\n",
       " '__divmod__',\n",
       " '__doc__',\n",
       " '__eq__',\n",
       " '__float__',\n",
       " '__floordiv__',\n",
       " '__format__',\n",
       " '__ge__',\n",
       " '__getattribute__',\n",
       " '__getitem__',\n",
       " '__gt__',\n",
       " '__hash__',\n",
       " '__iadd__',\n",
       " '__iand__',\n",
       " '__ifloordiv__',\n",
       " '__ilshift__',\n",
       " '__imatmul__',\n",
       " '__imod__',\n",
       " '__imul__',\n",
       " '__index__',\n",
       " '__init__',\n",
       " '__init_subclass__',\n",
       " '__int__',\n",
       " '__invert__',\n",
       " '__ior__',\n",
       " '__ipow__',\n",
       " '__irshift__',\n",
       " '__isub__',\n",
       " '__iter__',\n",
       " '__itruediv__',\n",
       " '__ixor__',\n",
       " '__le__',\n",
       " '__len__',\n",
       " '__lshift__',\n",
       " '__lt__',\n",
       " '__matmul__',\n",
       " '__mod__',\n",
       " '__mul__',\n",
       " '__ne__',\n",
       " '__neg__',\n",
       " '__new__',\n",
       " '__or__',\n",
       " '__pos__',\n",
       " '__pow__',\n",
       " '__radd__',\n",
       " '__rand__',\n",
       " '__rdivmod__',\n",
       " '__reduce__',\n",
       " '__reduce_ex__',\n",
       " '__repr__',\n",
       " '__rfloordiv__',\n",
       " '__rlshift__',\n",
       " '__rmatmul__',\n",
       " '__rmod__',\n",
       " '__rmul__',\n",
       " '__ror__',\n",
       " '__rpow__',\n",
       " '__rrshift__',\n",
       " '__rshift__',\n",
       " '__rsub__',\n",
       " '__rtruediv__',\n",
       " '__rxor__',\n",
       " '__setattr__',\n",
       " '__setitem__',\n",
       " '__setstate__',\n",
       " '__sizeof__',\n",
       " '__str__',\n",
       " '__sub__',\n",
       " '__subclasshook__',\n",
       " '__truediv__',\n",
       " '__xor__',\n",
       " 'all',\n",
       " 'any',\n",
       " 'argmax',\n",
       " 'argmin',\n",
       " 'argpartition',\n",
       " 'argsort',\n",
       " 'astype',\n",
       " 'base',\n",
       " 'byteswap',\n",
       " 'choose',\n",
       " 'clip',\n",
       " 'compress',\n",
       " 'conj',\n",
       " 'conjugate',\n",
       " 'copy',\n",
       " 'ctypes',\n",
       " 'cumprod',\n",
       " 'cumsum',\n",
       " 'data',\n",
       " 'diagonal',\n",
       " 'dot',\n",
       " 'dtype',\n",
       " 'dump',\n",
       " 'dumps',\n",
       " 'fill',\n",
       " 'flags',\n",
       " 'flat',\n",
       " 'flatten',\n",
       " 'getfield',\n",
       " 'imag',\n",
       " 'item',\n",
       " 'itemset',\n",
       " 'itemsize',\n",
       " 'max',\n",
       " 'mean',\n",
       " 'min',\n",
       " 'nbytes',\n",
       " 'ndim',\n",
       " 'newbyteorder',\n",
       " 'nonzero',\n",
       " 'partition',\n",
       " 'prod',\n",
       " 'ptp',\n",
       " 'put',\n",
       " 'ravel',\n",
       " 'real',\n",
       " 'repeat',\n",
       " 'reshape',\n",
       " 'resize',\n",
       " 'round',\n",
       " 'searchsorted',\n",
       " 'setfield',\n",
       " 'setflags',\n",
       " 'shape',\n",
       " 'size',\n",
       " 'sort',\n",
       " 'squeeze',\n",
       " 'std',\n",
       " 'strides',\n",
       " 'sum',\n",
       " 'swapaxes',\n",
       " 'take',\n",
       " 'tobytes',\n",
       " 'tofile',\n",
       " 'tolist',\n",
       " 'tostring',\n",
       " 'trace',\n",
       " 'transpose',\n",
       " 'var',\n",
       " 'view']"
      ]
     },
     "execution_count": 35,
     "metadata": {},
     "output_type": "execute_result"
    }
   ],
   "source": [
    "# help() 函数可以打印输出一个函数的文档字符串\n",
    "# type() 函数是用于求一个未知数据类型对象，type 主要用于判断未知数据类型\n",
    "# dir() 函数可以找到模块内定义的所有名称。以一个字符串列表的形式返回\n",
    "print(type(img))\n",
    "print(type(imgInfo))\n",
    "dir(img)"
   ]
  },
  {
   "cell_type": "code",
   "execution_count": 37,
   "metadata": {},
   "outputs": [
    {
     "data": {
      "text/plain": [
       "-1"
      ]
     },
     "execution_count": 37,
     "metadata": {},
     "output_type": "execute_result"
    }
   ],
   "source": [
    "# 高 宽 通道数\n",
    "height = imgInfo[0]\n",
    "width = imgInfo[1]\n",
    "mode = imgInfo[2]\n",
    "\n",
    "# 等比例缩放 放大或者缩小\n",
    "dst_height = int (height *0.5)\n",
    "dst_width = int (width *0.5)\n",
    "\n",
    "# 最近邻域插值、双线性插值（默认）、像素关系重采样、立方插值\n",
    "dst = cv2.resize(img, (dst_width, dst_height))\n",
    "cv2.imshow(\"image\", dst)\n",
    "cv2.waitKey(0)"
   ]
  },
  {
   "cell_type": "code",
   "execution_count": 39,
   "metadata": {},
   "outputs": [
    {
     "data": {
      "text/plain": [
       "-1"
      ]
     },
     "execution_count": 39,
     "metadata": {},
     "output_type": "execute_result"
    }
   ],
   "source": [
    "# 最近邻域插值、双线性插值 原理\n",
    "# 源码实现最近邻域插值\n",
    "import cv2\n",
    "import numpy as np\n",
    "\n",
    "img = cv2.imread(\"./image/image0.jpg\", 1)\n",
    "imgInfo = img.shape\n",
    "height = imgInfo[0]\n",
    "width = imgInfo[1]\n",
    "channels = imgInfo[2]\n",
    "\n",
    "dst_heigth = int(height/2)\n",
    "dst_width = int(width/2)\n",
    "dst_mode = channels\n",
    "\n",
    "# 颜色深度为 8bit(0-255)\n",
    "dst_img = np.zeros((dst_heigth, dst_width, channels), np.uint8)\n",
    "\n",
    "for i in range(0, dst_height): # row\n",
    "    for j in range(0, dst_width): # column\n",
    "        i_new = int(i * (height*1.0 / dst_height))\n",
    "        j_new = int(j * (width*1.0 / dst_width))\n",
    "        dst_img[i, j] = img[i_new, j_new]\n",
    "\n",
    "cv2.imshow(\"image\", dst_img)\n",
    "cv2.waitKey(0)"
   ]
  },
  {
   "cell_type": "markdown",
   "metadata": {},
   "source": [
    "1. OpenCV API 调用\n",
    "2. 算法原理（数学理论）\n",
    "3. 算法源码浏览查看\n",
    "4. 算法源码自定义实现"
   ]
  },
  {
   "cell_type": "code",
   "execution_count": 40,
   "metadata": {},
   "outputs": [
    {
     "data": {
      "text/plain": [
       "-1"
      ]
     },
     "execution_count": 40,
     "metadata": {},
     "output_type": "execute_result"
    }
   ],
   "source": [
    "# 图像剪切\n",
    "# 坐标信息（矩阵形式）\n",
    "# X 从 100 到 200\n",
    "# Y 从 100 到 300\n",
    "\n",
    "# import cv2\n",
    "# img = cv2.imread(\"./image/image0.jpg\", 1)\n",
    "# imgInfo = img.shape\n",
    "dst = img[100:200, 100:300]\n",
    "cv2.imshow(\"image\", dst)\n",
    "cv2.waitKey(0)"
   ]
  },
  {
   "cell_type": "code",
   "execution_count": 41,
   "metadata": {},
   "outputs": [
    {
     "data": {
      "text/plain": [
       "-1"
      ]
     },
     "execution_count": 41,
     "metadata": {},
     "output_type": "execute_result"
    }
   ],
   "source": [
    "# 图像移位\n",
    "# import cv2\n",
    "# img = cv2.imread(\"./image/image0.jpg\", 1)\n",
    "cv2.imshow(\"src\", img)\n",
    "# imgInfo = img.shape\n",
    "# height = imgInfo[0]\n",
    "# width = imgInfo[1]\n",
    "\n",
    "# 移位矩阵\n",
    "mat_shift = np.float32([[1, 0, 100], [0, 1, 200]]) # 2*3\n",
    "\n",
    "# 矩阵运算； 参数1 图像数据；参数2 移位矩阵；参数3 原始图像信息 \n",
    "dst = cv2.warpAffine(img, mat_shift, (height, width))\n",
    "\n",
    "cv2.imshow(\"dst\", dst)\n",
    "cv2.waitKey(0)"
   ]
  },
  {
   "cell_type": "code",
   "execution_count": 43,
   "metadata": {},
   "outputs": [
    {
     "data": {
      "text/plain": [
       "-1"
      ]
     },
     "execution_count": 43,
     "metadata": {},
     "output_type": "execute_result"
    }
   ],
   "source": [
    "# 移位算法原理\n",
    "# 源码实现移位\n",
    "\n",
    "import cv2\n",
    "import numpy as np\n",
    "\n",
    "img = cv2.imread(\"./image/image0.jpg\", 1)\n",
    "cv2.imshow(\"src\", img)\n",
    "imgInfo = img.shape\n",
    "\n",
    "dst = np.zeros(img.shape, np.uint8)\n",
    "height = imgInfo[0]\n",
    "width = imgInfo[1]\n",
    "\n",
    "for i in range(0, height):\n",
    "    for j in range(0, width-100):\n",
    "        dst[i, j+100] = img[i, j]\n",
    "    \n",
    "cv2.imshow(\"image\", dst)\n",
    "cv2.waitKey(0)"
   ]
  },
  {
   "cell_type": "code",
   "execution_count": null,
   "metadata": {},
   "outputs": [],
   "source": []
  }
 ],
 "metadata": {
  "kernelspec": {
   "display_name": "Python 3",
   "language": "python",
   "name": "python3"
  },
  "language_info": {
   "codemirror_mode": {
    "name": "ipython",
    "version": 3
   },
   "file_extension": ".py",
   "mimetype": "text/x-python",
   "name": "python",
   "nbconvert_exporter": "python",
   "pygments_lexer": "ipython3",
   "version": "3.7.6"
  }
 },
 "nbformat": 4,
 "nbformat_minor": 4
}
