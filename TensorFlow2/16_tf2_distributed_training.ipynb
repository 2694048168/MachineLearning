{
 "cells": [
  {
   "cell_type": "markdown",
   "id": "renewable-audit",
   "metadata": {},
   "source": [
    "# Distributed training with Keras"
   ]
  },
  {
   "cell_type": "markdown",
   "id": "black-minneapolis",
   "metadata": {},
   "source": [
    "## 0. Overview"
   ]
  },
  {
   "cell_type": "markdown",
   "id": "proprietary-thomas",
   "metadata": {},
   "source": [
    "### i. Keras API"
   ]
  },
  {
   "cell_type": "markdown",
   "id": "warming-standing",
   "metadata": {},
   "source": [
    "## 1. Import dependencies"
   ]
  },
  {
   "cell_type": "code",
   "execution_count": 1,
   "id": "needed-efficiency",
   "metadata": {},
   "outputs": [
    {
     "name": "stdout",
     "output_type": "stream",
     "text": [
      "The version of Tensorflow: 2.4.1\n"
     ]
    }
   ],
   "source": [
    "# Import TensorFlow and TensorFlow Datasets\n",
    "\n",
    "import tensorflow_datasets as tfds\n",
    "import tensorflow as tf\n",
    "\n",
    "import os\n",
    "\n",
    "print(\"The version of Tensorflow: {}\".format(tf.__version__))"
   ]
  },
  {
   "cell_type": "markdown",
   "id": "round-witness",
   "metadata": {},
   "source": [
    "## 2. Download the dataset"
   ]
  },
  {
   "cell_type": "code",
   "execution_count": 2,
   "id": "fossil-status",
   "metadata": {},
   "outputs": [
    {
     "name": "stdout",
     "output_type": "stream",
     "text": [
      "\u001b[1mDownloading and preparing dataset Unknown size (download: Unknown size, generated: Unknown size, total: Unknown size) to C:\\Users\\admin\\tensorflow_datasets\\mnist\\3.0.1...\u001b[0m\n"
     ]
    },
    {
     "data": {
      "application/vnd.jupyter.widget-view+json": {
       "model_id": "f5de7317e0ce45d09c1d47ad82c5ff41",
       "version_major": 2,
       "version_minor": 0
      },
      "text/plain": [
       "HBox(children=(HTML(value='Dl Completed...'), FloatProgress(value=1.0, bar_style='info', layout=Layout(width='…"
      ]
     },
     "metadata": {},
     "output_type": "display_data"
    },
    {
     "data": {
      "application/vnd.jupyter.widget-view+json": {
       "model_id": "7c0c9203f4194cc8abd744e1e5c4f0ff",
       "version_major": 2,
       "version_minor": 0
      },
      "text/plain": [
       "HBox(children=(HTML(value='Dl Size...'), FloatProgress(value=1.0, bar_style='info', layout=Layout(width='20px'…"
      ]
     },
     "metadata": {},
     "output_type": "display_data"
    },
    {
     "data": {
      "application/vnd.jupyter.widget-view+json": {
       "model_id": "b80af1879e0c45058054b161180115dc",
       "version_major": 2,
       "version_minor": 0
      },
      "text/plain": [
       "HBox(children=(HTML(value='Extraction completed...'), FloatProgress(value=1.0, bar_style='info', layout=Layout…"
      ]
     },
     "metadata": {},
     "output_type": "display_data"
    },
    {
     "name": "stdout",
     "output_type": "stream",
     "text": [
      "\n",
      "\n",
      "\n",
      "\n",
      "\n",
      "\n"
     ]
    },
    {
     "data": {
      "application/vnd.jupyter.widget-view+json": {
       "model_id": "",
       "version_major": 2,
       "version_minor": 0
      },
      "text/plain": [
       "HBox(children=(HTML(value='Generating splits...'), FloatProgress(value=0.0, max=2.0), HTML(value='')))"
      ]
     },
     "metadata": {},
     "output_type": "display_data"
    },
    {
     "data": {
      "application/vnd.jupyter.widget-view+json": {
       "model_id": "",
       "version_major": 2,
       "version_minor": 0
      },
      "text/plain": [
       "HBox(children=(HTML(value='Generating train examples...'), FloatProgress(value=1.0, bar_style='info', layout=L…"
      ]
     },
     "metadata": {},
     "output_type": "display_data"
    },
    {
     "data": {
      "application/vnd.jupyter.widget-view+json": {
       "model_id": "",
       "version_major": 2,
       "version_minor": 0
      },
      "text/plain": [
       "HBox(children=(HTML(value='Shuffling mnist-train.tfrecord...'), FloatProgress(value=0.0, max=60000.0), HTML(va…"
      ]
     },
     "metadata": {},
     "output_type": "display_data"
    },
    {
     "data": {
      "application/vnd.jupyter.widget-view+json": {
       "model_id": "",
       "version_major": 2,
       "version_minor": 0
      },
      "text/plain": [
       "HBox(children=(HTML(value='Generating test examples...'), FloatProgress(value=1.0, bar_style='info', layout=La…"
      ]
     },
     "metadata": {},
     "output_type": "display_data"
    },
    {
     "data": {
      "application/vnd.jupyter.widget-view+json": {
       "model_id": "",
       "version_major": 2,
       "version_minor": 0
      },
      "text/plain": [
       "HBox(children=(HTML(value='Shuffling mnist-test.tfrecord...'), FloatProgress(value=0.0, max=10000.0), HTML(val…"
      ]
     },
     "metadata": {},
     "output_type": "display_data"
    },
    {
     "name": "stdout",
     "output_type": "stream",
     "text": [
      "\u001b[1mDataset mnist downloaded and prepared to C:\\Users\\admin\\tensorflow_datasets\\mnist\\3.0.1. Subsequent calls will reuse this data.\u001b[0m\n"
     ]
    }
   ],
   "source": [
    "datasets, info = tfds.load(name='mnist', with_info=True, as_supervised=True)\n",
    "\n",
    "mnist_train, mnist_test = datasets['train'], datasets['test']"
   ]
  },
  {
   "cell_type": "markdown",
   "id": "raised-vertical",
   "metadata": {},
   "source": [
    "## 3. Define distribution strategy"
   ]
  },
  {
   "cell_type": "code",
   "execution_count": 3,
   "id": "wicked-theme",
   "metadata": {},
   "outputs": [
    {
     "name": "stdout",
     "output_type": "stream",
     "text": [
      "INFO:tensorflow:Using MirroredStrategy with devices ('/job:localhost/replica:0/task:0/device:GPU:0',)\n"
     ]
    },
    {
     "name": "stderr",
     "output_type": "stream",
     "text": [
      "INFO:tensorflow:Using MirroredStrategy with devices ('/job:localhost/replica:0/task:0/device:GPU:0',)\n"
     ]
    }
   ],
   "source": [
    "strategy = tf.distribute.MirroredStrategy()"
   ]
  },
  {
   "cell_type": "code",
   "execution_count": 4,
   "id": "bacterial-municipality",
   "metadata": {},
   "outputs": [
    {
     "name": "stdout",
     "output_type": "stream",
     "text": [
      "Number of devices: 1\n"
     ]
    }
   ],
   "source": [
    "print('Number of devices: {}'.format(strategy.num_replicas_in_sync))"
   ]
  },
  {
   "cell_type": "markdown",
   "id": "revolutionary-equation",
   "metadata": {},
   "source": [
    "## 4. Setup input pipeline"
   ]
  },
  {
   "cell_type": "code",
   "execution_count": 5,
   "id": "planned-sarah",
   "metadata": {},
   "outputs": [],
   "source": [
    "# You can also do info.splits.total_num_examples to get the total\n",
    "# number of examples in the dataset.\n",
    "\n",
    "num_train_examples = info.splits['train'].num_examples\n",
    "num_test_examples = info.splits['test'].num_examples\n",
    "\n",
    "BUFFER_SIZE = 10000\n",
    "\n",
    "BATCH_SIZE_PER_REPLICA = 64\n",
    "BATCH_SIZE = BATCH_SIZE_PER_REPLICA * strategy.num_replicas_in_sync"
   ]
  },
  {
   "cell_type": "code",
   "execution_count": 6,
   "id": "equivalent-stranger",
   "metadata": {},
   "outputs": [],
   "source": [
    "def scale(image, label):\n",
    "  image = tf.cast(image, tf.float32)\n",
    "  image /= 255\n",
    "\n",
    "  return image, label"
   ]
  },
  {
   "cell_type": "code",
   "execution_count": 7,
   "id": "mathematical-sleeping",
   "metadata": {},
   "outputs": [],
   "source": [
    "train_dataset = mnist_train.map(scale).cache().shuffle(BUFFER_SIZE).batch(BATCH_SIZE)\n",
    "eval_dataset = mnist_test.map(scale).batch(BATCH_SIZE)"
   ]
  },
  {
   "cell_type": "markdown",
   "id": "alive-sterling",
   "metadata": {},
   "source": [
    "## 5. Create the model"
   ]
  },
  {
   "cell_type": "code",
   "execution_count": 8,
   "id": "bridal-billion",
   "metadata": {},
   "outputs": [
    {
     "name": "stdout",
     "output_type": "stream",
     "text": [
      "INFO:tensorflow:Reduce to /job:localhost/replica:0/task:0/device:CPU:0 then broadcast to ('/job:localhost/replica:0/task:0/device:CPU:0',).\n"
     ]
    },
    {
     "name": "stderr",
     "output_type": "stream",
     "text": [
      "INFO:tensorflow:Reduce to /job:localhost/replica:0/task:0/device:CPU:0 then broadcast to ('/job:localhost/replica:0/task:0/device:CPU:0',).\n"
     ]
    },
    {
     "name": "stdout",
     "output_type": "stream",
     "text": [
      "INFO:tensorflow:Reduce to /job:localhost/replica:0/task:0/device:CPU:0 then broadcast to ('/job:localhost/replica:0/task:0/device:CPU:0',).\n"
     ]
    },
    {
     "name": "stderr",
     "output_type": "stream",
     "text": [
      "INFO:tensorflow:Reduce to /job:localhost/replica:0/task:0/device:CPU:0 then broadcast to ('/job:localhost/replica:0/task:0/device:CPU:0',).\n"
     ]
    },
    {
     "name": "stdout",
     "output_type": "stream",
     "text": [
      "INFO:tensorflow:Reduce to /job:localhost/replica:0/task:0/device:CPU:0 then broadcast to ('/job:localhost/replica:0/task:0/device:CPU:0',).\n"
     ]
    },
    {
     "name": "stderr",
     "output_type": "stream",
     "text": [
      "INFO:tensorflow:Reduce to /job:localhost/replica:0/task:0/device:CPU:0 then broadcast to ('/job:localhost/replica:0/task:0/device:CPU:0',).\n"
     ]
    },
    {
     "name": "stdout",
     "output_type": "stream",
     "text": [
      "INFO:tensorflow:Reduce to /job:localhost/replica:0/task:0/device:CPU:0 then broadcast to ('/job:localhost/replica:0/task:0/device:CPU:0',).\n"
     ]
    },
    {
     "name": "stderr",
     "output_type": "stream",
     "text": [
      "INFO:tensorflow:Reduce to /job:localhost/replica:0/task:0/device:CPU:0 then broadcast to ('/job:localhost/replica:0/task:0/device:CPU:0',).\n"
     ]
    }
   ],
   "source": [
    "with strategy.scope():\n",
    "  model = tf.keras.Sequential([\n",
    "      tf.keras.layers.Conv2D(32, 3, activation='relu', input_shape=(28, 28, 1)),\n",
    "      tf.keras.layers.MaxPooling2D(),\n",
    "      tf.keras.layers.Flatten(),\n",
    "      tf.keras.layers.Dense(64, activation='relu'),\n",
    "      tf.keras.layers.Dense(10)\n",
    "  ])\n",
    "\n",
    "  model.compile(loss=tf.keras.losses.SparseCategoricalCrossentropy(from_logits=True),\n",
    "                optimizer=tf.keras.optimizers.Adam(),\n",
    "                metrics=['accuracy'])"
   ]
  },
  {
   "cell_type": "markdown",
   "id": "trying-button",
   "metadata": {},
   "source": [
    "## 6. Define the callbacks"
   ]
  },
  {
   "cell_type": "code",
   "execution_count": 9,
   "id": "satisfied-transmission",
   "metadata": {},
   "outputs": [],
   "source": [
    "# Define the checkpoint directory to store the checkpoints\n",
    "\n",
    "checkpoint_dir = './training_checkpoints'\n",
    "# Name of the checkpoint files\n",
    "checkpoint_prefix = os.path.join(checkpoint_dir, \"ckpt_{epoch}\")"
   ]
  },
  {
   "cell_type": "code",
   "execution_count": 10,
   "id": "confused-richards",
   "metadata": {},
   "outputs": [],
   "source": [
    "# Function for decaying the learning rate.\n",
    "# You can define any decay function you need.\n",
    "def decay(epoch):\n",
    "  if epoch < 3:\n",
    "    return 1e-3\n",
    "  elif epoch >= 3 and epoch < 7:\n",
    "    return 1e-4\n",
    "  else:\n",
    "    return 1e-5"
   ]
  },
  {
   "cell_type": "code",
   "execution_count": 12,
   "id": "conservative-measure",
   "metadata": {},
   "outputs": [],
   "source": [
    "# Callback for printing the LR at the end of each epoch.\n",
    "class PrintLR(tf.keras.callbacks.Callback):\n",
    "  def on_epoch_end(self, epoch, logs=None):\n",
    "    print('\\nLearning rate for epoch {} is {}'.format(epoch + 1,model.optimizer.lr.numpy()))"
   ]
  },
  {
   "cell_type": "code",
   "execution_count": 13,
   "id": "specified-aquatic",
   "metadata": {},
   "outputs": [],
   "source": [
    "callbacks = [\n",
    "    tf.keras.callbacks.TensorBoard(log_dir='./logs'),\n",
    "    tf.keras.callbacks.ModelCheckpoint(filepath=checkpoint_prefix,\n",
    "                                       save_weights_only=True),\n",
    "    tf.keras.callbacks.LearningRateScheduler(decay),\n",
    "    PrintLR()\n",
    "]"
   ]
  },
  {
   "cell_type": "markdown",
   "id": "significant-bruce",
   "metadata": {},
   "source": [
    "## 7. Train and evaluate"
   ]
  },
  {
   "cell_type": "code",
   "execution_count": 14,
   "id": "cellular-criticism",
   "metadata": {},
   "outputs": [
    {
     "name": "stdout",
     "output_type": "stream",
     "text": [
      "Epoch 1/12\n",
      "INFO:tensorflow:Reduce to /job:localhost/replica:0/task:0/device:CPU:0 then broadcast to ('/job:localhost/replica:0/task:0/device:CPU:0',).\n"
     ]
    },
    {
     "name": "stderr",
     "output_type": "stream",
     "text": [
      "INFO:tensorflow:Reduce to /job:localhost/replica:0/task:0/device:CPU:0 then broadcast to ('/job:localhost/replica:0/task:0/device:CPU:0',).\n"
     ]
    },
    {
     "name": "stdout",
     "output_type": "stream",
     "text": [
      "INFO:tensorflow:Reduce to /job:localhost/replica:0/task:0/device:CPU:0 then broadcast to ('/job:localhost/replica:0/task:0/device:CPU:0',).\n"
     ]
    },
    {
     "name": "stderr",
     "output_type": "stream",
     "text": [
      "INFO:tensorflow:Reduce to /job:localhost/replica:0/task:0/device:CPU:0 then broadcast to ('/job:localhost/replica:0/task:0/device:CPU:0',).\n"
     ]
    },
    {
     "name": "stdout",
     "output_type": "stream",
     "text": [
      "INFO:tensorflow:Reduce to /job:localhost/replica:0/task:0/device:CPU:0 then broadcast to ('/job:localhost/replica:0/task:0/device:CPU:0',).\n"
     ]
    },
    {
     "name": "stderr",
     "output_type": "stream",
     "text": [
      "INFO:tensorflow:Reduce to /job:localhost/replica:0/task:0/device:CPU:0 then broadcast to ('/job:localhost/replica:0/task:0/device:CPU:0',).\n"
     ]
    },
    {
     "name": "stdout",
     "output_type": "stream",
     "text": [
      "INFO:tensorflow:Reduce to /job:localhost/replica:0/task:0/device:CPU:0 then broadcast to ('/job:localhost/replica:0/task:0/device:CPU:0',).\n"
     ]
    },
    {
     "name": "stderr",
     "output_type": "stream",
     "text": [
      "INFO:tensorflow:Reduce to /job:localhost/replica:0/task:0/device:CPU:0 then broadcast to ('/job:localhost/replica:0/task:0/device:CPU:0',).\n"
     ]
    },
    {
     "name": "stdout",
     "output_type": "stream",
     "text": [
      "INFO:tensorflow:Reduce to /job:localhost/replica:0/task:0/device:CPU:0 then broadcast to ('/job:localhost/replica:0/task:0/device:CPU:0',).\n"
     ]
    },
    {
     "name": "stderr",
     "output_type": "stream",
     "text": [
      "INFO:tensorflow:Reduce to /job:localhost/replica:0/task:0/device:CPU:0 then broadcast to ('/job:localhost/replica:0/task:0/device:CPU:0',).\n"
     ]
    },
    {
     "name": "stdout",
     "output_type": "stream",
     "text": [
      "INFO:tensorflow:Reduce to /job:localhost/replica:0/task:0/device:CPU:0 then broadcast to ('/job:localhost/replica:0/task:0/device:CPU:0',).\n"
     ]
    },
    {
     "name": "stderr",
     "output_type": "stream",
     "text": [
      "INFO:tensorflow:Reduce to /job:localhost/replica:0/task:0/device:CPU:0 then broadcast to ('/job:localhost/replica:0/task:0/device:CPU:0',).\n"
     ]
    },
    {
     "name": "stdout",
     "output_type": "stream",
     "text": [
      "  5/938 [..............................] - ETA: 30s - loss: 2.2282 - accuracy: 0.2185  WARNING:tensorflow:Callback method `on_train_batch_end` is slow compared to the batch time (batch time: 0.0044s vs `on_train_batch_end` time: 0.0182s). Check your callbacks.\n"
     ]
    },
    {
     "name": "stderr",
     "output_type": "stream",
     "text": [
      "WARNING:tensorflow:Callback method `on_train_batch_end` is slow compared to the batch time (batch time: 0.0044s vs `on_train_batch_end` time: 0.0182s). Check your callbacks.\n"
     ]
    },
    {
     "name": "stdout",
     "output_type": "stream",
     "text": [
      "938/938 [==============================] - 9s 4ms/step - loss: 0.3968 - accuracy: 0.8853\n",
      "\n",
      "Learning rate for epoch 1 is 0.0010000000474974513\n",
      "Epoch 2/12\n",
      "938/938 [==============================] - 4s 4ms/step - loss: 0.0786 - accuracy: 0.9767\n",
      "\n",
      "Learning rate for epoch 2 is 0.0010000000474974513\n",
      "Epoch 3/12\n",
      "938/938 [==============================] - 4s 4ms/step - loss: 0.0537 - accuracy: 0.9847\n",
      "\n",
      "Learning rate for epoch 3 is 0.0010000000474974513\n",
      "Epoch 4/12\n",
      "938/938 [==============================] - 4s 4ms/step - loss: 0.0321 - accuracy: 0.9911\n",
      "\n",
      "Learning rate for epoch 4 is 9.999999747378752e-05\n",
      "Epoch 5/12\n",
      "938/938 [==============================] - 4s 4ms/step - loss: 0.0267 - accuracy: 0.9928\n",
      "\n",
      "Learning rate for epoch 5 is 9.999999747378752e-05\n",
      "Epoch 6/12\n",
      "938/938 [==============================] - 4s 4ms/step - loss: 0.0245 - accuracy: 0.9935\n",
      "\n",
      "Learning rate for epoch 6 is 9.999999747378752e-05\n",
      "Epoch 7/12\n",
      "938/938 [==============================] - 4s 4ms/step - loss: 0.0212 - accuracy: 0.9945\n",
      "\n",
      "Learning rate for epoch 7 is 9.999999747378752e-05\n",
      "Epoch 8/12\n",
      "938/938 [==============================] - 3s 4ms/step - loss: 0.0201 - accuracy: 0.9954\n",
      "\n",
      "Learning rate for epoch 8 is 9.999999747378752e-06\n",
      "Epoch 9/12\n",
      "938/938 [==============================] - 3s 4ms/step - loss: 0.0183 - accuracy: 0.9957\n",
      "\n",
      "Learning rate for epoch 9 is 9.999999747378752e-06\n",
      "Epoch 10/12\n",
      "938/938 [==============================] - 4s 4ms/step - loss: 0.0190 - accuracy: 0.9954\n",
      "\n",
      "Learning rate for epoch 10 is 9.999999747378752e-06\n",
      "Epoch 11/12\n",
      "938/938 [==============================] - 4s 4ms/step - loss: 0.0185 - accuracy: 0.9955\n",
      "\n",
      "Learning rate for epoch 11 is 9.999999747378752e-06\n",
      "Epoch 12/12\n",
      "938/938 [==============================] - 4s 4ms/step - loss: 0.0183 - accuracy: 0.9957\n",
      "\n",
      "Learning rate for epoch 12 is 9.999999747378752e-06\n"
     ]
    },
    {
     "data": {
      "text/plain": [
       "<tensorflow.python.keras.callbacks.History at 0x27fe22d6130>"
      ]
     },
     "execution_count": 14,
     "metadata": {},
     "output_type": "execute_result"
    }
   ],
   "source": [
    "model.fit(train_dataset, epochs=12, callbacks=callbacks)"
   ]
  },
  {
   "cell_type": "raw",
   "id": "parental-massachusetts",
   "metadata": {},
   "source": [
    "# check the checkpoint directory\n",
    "ls checkpoint_dir"
   ]
  },
  {
   "cell_type": "raw",
   "id": "worth-edward",
   "metadata": {},
   "source": [
    "checkpoint           ckpt_4.data-00000-of-00001\n",
    "ckpt_1.data-00000-of-00001   ckpt_4.index\n",
    "ckpt_1.index             ckpt_5.data-00000-of-00001\n",
    "ckpt_10.data-00000-of-00001  ckpt_5.index\n",
    "ckpt_10.index            ckpt_6.data-00000-of-00001\n",
    "ckpt_11.data-00000-of-00001  ckpt_6.index\n",
    "ckpt_11.index            ckpt_7.data-00000-of-00001\n",
    "ckpt_12.data-00000-of-00001  ckpt_7.index\n",
    "ckpt_12.index            ckpt_8.data-00000-of-00001\n",
    "ckpt_2.data-00000-of-00001   ckpt_8.index\n",
    "ckpt_2.index             ckpt_9.data-00000-of-00001\n",
    "ckpt_3.data-00000-of-00001   ckpt_9.index\n",
    "ckpt_3.index"
   ]
  },
  {
   "cell_type": "code",
   "execution_count": 21,
   "id": "speaking-cosmetic",
   "metadata": {},
   "outputs": [
    {
     "name": "stdout",
     "output_type": "stream",
     "text": [
      " 驱动器 D 中的卷是 Data\n",
      " 卷的序列号是 12E0-D62D\n",
      "\n",
      " D:\\miniconda\\workspace\\TensorFlow2\\training_checkpoints 的目录\n",
      "\n",
      "2021/04/02  00:11    <DIR>          .\n",
      "2021/04/02  00:11    <DIR>          ..\n",
      "2021/04/02  00:11                71 checkpoint\n",
      "2021/04/02  00:11         4,168,209 ckpt_1.data-00000-of-00001\n",
      "2021/04/02  00:11             1,654 ckpt_1.index\n",
      "2021/04/02  00:11         4,168,209 ckpt_10.data-00000-of-00001\n",
      "2021/04/02  00:11             1,654 ckpt_10.index\n",
      "2021/04/02  00:11         4,168,209 ckpt_11.data-00000-of-00001\n",
      "2021/04/02  00:11             1,654 ckpt_11.index\n",
      "2021/04/02  00:11         4,168,209 ckpt_12.data-00000-of-00001\n",
      "2021/04/02  00:11             1,654 ckpt_12.index\n",
      "2021/04/02  00:11         4,168,209 ckpt_2.data-00000-of-00001\n",
      "2021/04/02  00:11             1,654 ckpt_2.index\n",
      "2021/04/02  00:11         4,168,209 ckpt_3.data-00000-of-00001\n",
      "2021/04/02  00:11             1,654 ckpt_3.index\n",
      "2021/04/02  00:11         4,168,209 ckpt_4.data-00000-of-00001\n",
      "2021/04/02  00:11             1,654 ckpt_4.index\n",
      "2021/04/02  00:11         4,168,209 ckpt_5.data-00000-of-00001\n",
      "2021/04/02  00:11             1,654 ckpt_5.index\n",
      "2021/04/02  00:11         4,168,209 ckpt_6.data-00000-of-00001\n",
      "2021/04/02  00:11             1,654 ckpt_6.index\n",
      "2021/04/02  00:11         4,168,209 ckpt_7.data-00000-of-00001\n",
      "2021/04/02  00:11             1,654 ckpt_7.index\n",
      "2021/04/02  00:11         4,168,209 ckpt_8.data-00000-of-00001\n",
      "2021/04/02  00:11             1,654 ckpt_8.index\n",
      "2021/04/02  00:11         4,168,209 ckpt_9.data-00000-of-00001\n",
      "2021/04/02  00:11             1,654 ckpt_9.index\n",
      "              25 个文件     50,038,427 字节\n",
      "               2 个目录 319,329,017,856 可用字节\n"
     ]
    }
   ],
   "source": [
    "%ls training_checkpoints"
   ]
  },
  {
   "cell_type": "code",
   "execution_count": 22,
   "id": "infrared-territory",
   "metadata": {},
   "outputs": [
    {
     "name": "stdout",
     "output_type": "stream",
     "text": [
      "157/157 [==============================] - 2s 4ms/step - loss: 0.0399 - accuracy: 0.9855\n",
      "Eval loss: 0.03994723781943321, Eval Accuracy: 0.9854999780654907\n"
     ]
    }
   ],
   "source": [
    "model.load_weights(tf.train.latest_checkpoint(checkpoint_dir))\n",
    "\n",
    "eval_loss, eval_acc = model.evaluate(eval_dataset)\n",
    "\n",
    "print('Eval loss: {}, Eval Accuracy: {}'.format(eval_loss, eval_acc))"
   ]
  },
  {
   "cell_type": "raw",
   "id": "explicit-ghost",
   "metadata": {},
   "source": [
    "$ tensorboard --logdir=path/to/log-directory\n",
    "\n",
    "$ tensorboard --logdir=./logs\n",
    "http://localhost:6006/"
   ]
  },
  {
   "cell_type": "raw",
   "id": "basic-number",
   "metadata": {},
   "source": [
    "$ ls -sh ./logs"
   ]
  },
  {
   "cell_type": "code",
   "execution_count": 30,
   "id": "wrapped-tamil",
   "metadata": {},
   "outputs": [
    {
     "name": "stdout",
     "output_type": "stream",
     "text": [
      " 驱动器 D 中的卷是 Data"
     ]
    },
    {
     "name": "stderr",
     "output_type": "stream",
     "text": [
      "找不到文件\n"
     ]
    },
    {
     "name": "stdout",
     "output_type": "stream",
     "text": [
      "\n",
      " 卷的序列号是 12E0-D62D\n",
      "\n",
      " D:\\miniconda\\workspace\\TensorFlow2 的目录\n",
      "\n",
      "\n",
      " D:\\miniconda\\workspace\\TensorFlow2\\logs\\train 的目录\n",
      "\n",
      "2021/04/02  00:11    <DIR>          .\n",
      "2021/04/02  00:11    <DIR>          ..\n",
      "2021/04/02  00:11            50,706 events.out.tfevents.1617293469.LAPTOP-4SAJKMHC.7032.140334.v2\n",
      "2021/04/02  00:11                40 events.out.tfevents.1617293473.LAPTOP-4SAJKMHC.profile-empty\n",
      "2021/04/02  00:11    <DIR>          plugins\n",
      "               2 个文件         50,746 字节\n",
      "               3 个目录 319,329,013,760 可用字节\n"
     ]
    }
   ],
   "source": [
    "%ls -sh logs\\train"
   ]
  },
  {
   "cell_type": "markdown",
   "id": "wired-training",
   "metadata": {},
   "source": [
    "## 8. Export to SavedModel"
   ]
  },
  {
   "cell_type": "code",
   "execution_count": 31,
   "id": "potential-assumption",
   "metadata": {},
   "outputs": [],
   "source": [
    "path = './saved_model/'"
   ]
  },
  {
   "cell_type": "code",
   "execution_count": 32,
   "id": "fresh-accused",
   "metadata": {},
   "outputs": [
    {
     "name": "stdout",
     "output_type": "stream",
     "text": [
      "INFO:tensorflow:Assets written to: ./saved_model/assets\n"
     ]
    },
    {
     "name": "stderr",
     "output_type": "stream",
     "text": [
      "INFO:tensorflow:Assets written to: ./saved_model/assets\n"
     ]
    }
   ],
   "source": [
    "model.save(path, save_format='tf')"
   ]
  },
  {
   "cell_type": "code",
   "execution_count": 33,
   "id": "proper-calcium",
   "metadata": {},
   "outputs": [
    {
     "name": "stdout",
     "output_type": "stream",
     "text": [
      "157/157 [==============================] - 0s 2ms/step - loss: 0.0390 - accuracy: 0.9857\n",
      "Eval loss: 0.03994723781943321, Eval Accuracy: 0.9854999780654907\n"
     ]
    }
   ],
   "source": [
    "# Load the model without strategy.scope\n",
    "\n",
    "unreplicated_model = tf.keras.models.load_model(path)\n",
    "\n",
    "unreplicated_model.compile(\n",
    "    loss=tf.keras.losses.SparseCategoricalCrossentropy(from_logits=True),\n",
    "    optimizer=tf.keras.optimizers.Adam(),\n",
    "    metrics=['accuracy'])\n",
    "\n",
    "eval_loss, eval_acc = unreplicated_model.evaluate(eval_dataset)\n",
    "\n",
    "print('Eval loss: {}, Eval Accuracy: {}'.format(eval_loss, eval_acc))"
   ]
  },
  {
   "cell_type": "code",
   "execution_count": 34,
   "id": "excited-auction",
   "metadata": {},
   "outputs": [
    {
     "name": "stdout",
     "output_type": "stream",
     "text": [
      "157/157 [==============================] - 2s 3ms/step - loss: 0.0390 - accuracy: 0.9857\n",
      "Eval loss: 0.03994723781943321, Eval Accuracy: 0.9854999780654907\n"
     ]
    }
   ],
   "source": [
    "# Load the model with strategy.scope\n",
    "\n",
    "with strategy.scope():\n",
    "  replicated_model = tf.keras.models.load_model(path)\n",
    "  replicated_model.compile(loss=tf.keras.losses.SparseCategoricalCrossentropy(from_logits=True),\n",
    "                           optimizer=tf.keras.optimizers.Adam(),\n",
    "                           metrics=['accuracy'])\n",
    "\n",
    "  eval_loss, eval_acc = replicated_model.evaluate(eval_dataset)\n",
    "  print ('Eval loss: {}, Eval Accuracy: {}'.format(eval_loss, eval_acc))"
   ]
  },
  {
   "cell_type": "markdown",
   "id": "protecting-eleven",
   "metadata": {},
   "source": [
    "### i. Examples and Tutorials"
   ]
  },
  {
   "cell_type": "markdown",
   "id": "threaded-karma",
   "metadata": {},
   "source": [
    "## 9. Next steps"
   ]
  },
  {
   "cell_type": "markdown",
   "id": "aquatic-collector",
   "metadata": {},
   "source": [
    "# reference\n",
    "\n",
    "### https://tensorflow.google.cn/tutorials/distribute/keras"
   ]
  },
  {
   "cell_type": "code",
   "execution_count": null,
   "id": "animated-directive",
   "metadata": {},
   "outputs": [],
   "source": []
  }
 ],
 "metadata": {
  "kernelspec": {
   "display_name": "Python 3",
   "language": "python",
   "name": "python3"
  },
  "language_info": {
   "codemirror_mode": {
    "name": "ipython",
    "version": 3
   },
   "file_extension": ".py",
   "mimetype": "text/x-python",
   "name": "python",
   "nbconvert_exporter": "python",
   "pygments_lexer": "ipython3",
   "version": "3.8.5"
  }
 },
 "nbformat": 4,
 "nbformat_minor": 5
}
