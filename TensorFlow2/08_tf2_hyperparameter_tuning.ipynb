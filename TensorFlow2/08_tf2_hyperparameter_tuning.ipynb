{
 "cells": [
  {
   "cell_type": "markdown",
   "id": "chinese-laundry",
   "metadata": {},
   "source": [
    "# Introduction to the Keras Tuner"
   ]
  },
  {
   "cell_type": "markdown",
   "id": "employed-freeze",
   "metadata": {},
   "source": [
    "## 1. Overview"
   ]
  },
  {
   "cell_type": "markdown",
   "id": "adequate-cloud",
   "metadata": {},
   "source": [
    "The Keras Tuner is a library that helps you pick the **optimal set of hyperparameters for your TensorFlow program**. The process of selecting the right set of hyperparameters for your machine learning (ML) application is called **hyperparameter tuning or hypertuning.**\n",
    "\n",
    "Hyperparameters are the variables that govern the training process and the topology of an ML model. These variables remain constant over the training process and directly impact the performance of your ML program. Hyperparameters are of two types:\n",
    "\n",
    "- **Model hyperparameters** which influence model selection such as the number and width of hidden layers\n",
    "- **Algorithm hyperparameters** which influence the speed and quality of the learning algorithm such as the learning rate for Stochastic Gradient Descent (SGD) and the number of nearest neighbors for a k Nearest Neighbors (KNN) classifier\n",
    "\n",
    "In this tutorial, you will use the Keras Tuner to perform hypertuning for an image classification application."
   ]
  },
  {
   "cell_type": "markdown",
   "id": "continent-uzbekistan",
   "metadata": {},
   "source": [
    "## 2. Setup"
   ]
  },
  {
   "cell_type": "code",
   "execution_count": 2,
   "id": "square-section",
   "metadata": {},
   "outputs": [
    {
     "name": "stdout",
     "output_type": "stream",
     "text": [
      "The version of Tensorflow: 2.4.1\n",
      "The version of KerasTuner: 1.0.2\n"
     ]
    }
   ],
   "source": [
    "import tensorflow as tf\n",
    "from tensorflow import keras\n",
    "# pip install -q -U keras-tuner\n",
    "import kerastuner as kt\n",
    "\n",
    "print(\"The version of Tensorflow: {}\".format(tf.__version__))\n",
    "print(\"The version of KerasTuner: {}\".format(kt.__version__))"
   ]
  },
  {
   "cell_type": "markdown",
   "id": "genetic-riverside",
   "metadata": {},
   "source": [
    "## 3. Download and prepare the dataset"
   ]
  },
  {
   "cell_type": "code",
   "execution_count": 3,
   "id": "swiss-pillow",
   "metadata": {},
   "outputs": [],
   "source": [
    "(img_train, label_train), (img_test, label_test) = keras.datasets.fashion_mnist.load_data()"
   ]
  },
  {
   "cell_type": "code",
   "execution_count": 4,
   "id": "searching-hollow",
   "metadata": {},
   "outputs": [],
   "source": [
    "# Normalize pixel values between 0 and 1\n",
    "img_train = img_train.astype('float32') / 255.0\n",
    "img_test = img_test.astype('float32') / 255.0"
   ]
  },
  {
   "cell_type": "markdown",
   "id": "confidential-temperature",
   "metadata": {},
   "source": [
    "## 4. Define the model"
   ]
  },
  {
   "cell_type": "code",
   "execution_count": 5,
   "id": "homeless-least",
   "metadata": {},
   "outputs": [],
   "source": [
    "def model_builder(hp):\n",
    "  model = keras.Sequential()\n",
    "  model.add(keras.layers.Flatten(input_shape=(28, 28)))\n",
    "\n",
    "  # Tune the number of units in the first Dense layer\n",
    "  # Choose an optimal value between 32-512\n",
    "  hp_units = hp.Int('units', min_value=32, max_value=512, step=32)\n",
    "  model.add(keras.layers.Dense(units=hp_units, activation='relu'))\n",
    "  model.add(keras.layers.Dense(10))\n",
    "\n",
    "  # Tune the learning rate for the optimizer\n",
    "  # Choose an optimal value from 0.01, 0.001, or 0.0001\n",
    "  hp_learning_rate = hp.Choice('learning_rate', values=[1e-2, 1e-3, 1e-4])\n",
    "\n",
    "  model.compile(optimizer=keras.optimizers.Adam(learning_rate=hp_learning_rate),\n",
    "                loss=keras.losses.SparseCategoricalCrossentropy(from_logits=True),\n",
    "                metrics=['accuracy'])\n",
    "\n",
    "  return model"
   ]
  },
  {
   "cell_type": "markdown",
   "id": "damaged-inclusion",
   "metadata": {},
   "source": [
    "## 5. Instantiate the tuner and perform hypertuning"
   ]
  },
  {
   "cell_type": "code",
   "execution_count": 6,
   "id": "existing-given",
   "metadata": {},
   "outputs": [],
   "source": [
    "tuner = kt.Hyperband(model_builder,\n",
    "                     objective='val_accuracy',\n",
    "                     max_epochs=10,\n",
    "                     factor=3,\n",
    "                     directory='my_dir',\n",
    "                     project_name='intro_to_kt')"
   ]
  },
  {
   "cell_type": "code",
   "execution_count": 7,
   "id": "mysterious-reggae",
   "metadata": {},
   "outputs": [],
   "source": [
    "stop_early = tf.keras.callbacks.EarlyStopping(monitor='val_loss', patience=5)"
   ]
  },
  {
   "cell_type": "code",
   "execution_count": 8,
   "id": "functional-classics",
   "metadata": {},
   "outputs": [
    {
     "name": "stdout",
     "output_type": "stream",
     "text": [
      "Trial 30 Complete [00h 00m 29s]\n",
      "val_accuracy: 0.8819166421890259\n",
      "\n",
      "Best val_accuracy So Far: 0.8831666707992554\n",
      "Total elapsed time: 00h 05m 49s\n",
      "INFO:tensorflow:Oracle triggered exit\n",
      "\n",
      "The hyperparameter search is complete. The optimal number of units in the first densely-connected\n",
      "layer is 192 and the optimal learning rate for the optimizer\n",
      "is 0.001.\n",
      "\n"
     ]
    }
   ],
   "source": [
    "tuner.search(img_train, label_train, epochs=50, validation_split=0.2, callbacks=[stop_early])\n",
    "\n",
    "# Get the optimal hyperparameters\n",
    "best_hps=tuner.get_best_hyperparameters(num_trials=1)[0]\n",
    "\n",
    "print(f\"\"\"\n",
    "The hyperparameter search is complete. The optimal number of units in the first densely-connected\n",
    "layer is {best_hps.get('units')} and the optimal learning rate for the optimizer\n",
    "is {best_hps.get('learning_rate')}.\n",
    "\"\"\")"
   ]
  },
  {
   "cell_type": "markdown",
   "id": "atlantic-render",
   "metadata": {},
   "source": [
    "## 6. Train the model"
   ]
  },
  {
   "cell_type": "code",
   "execution_count": 9,
   "id": "solved-creek",
   "metadata": {},
   "outputs": [
    {
     "name": "stdout",
     "output_type": "stream",
     "text": [
      "Epoch 1/50\n",
      "1500/1500 [==============================] - 3s 2ms/step - loss: 0.6430 - accuracy: 0.7726 - val_loss: 0.4450 - val_accuracy: 0.8441\n",
      "Epoch 2/50\n",
      "1500/1500 [==============================] - 3s 2ms/step - loss: 0.3922 - accuracy: 0.8570 - val_loss: 0.3723 - val_accuracy: 0.8698\n",
      "Epoch 3/50\n",
      "1500/1500 [==============================] - 3s 2ms/step - loss: 0.3402 - accuracy: 0.8765 - val_loss: 0.3608 - val_accuracy: 0.8687\n",
      "Epoch 4/50\n",
      "1500/1500 [==============================] - 3s 2ms/step - loss: 0.3117 - accuracy: 0.8836 - val_loss: 0.3503 - val_accuracy: 0.8743\n",
      "Epoch 5/50\n",
      "1500/1500 [==============================] - 3s 2ms/step - loss: 0.2937 - accuracy: 0.8908 - val_loss: 0.3283 - val_accuracy: 0.8807\n",
      "Epoch 6/50\n",
      "1500/1500 [==============================] - 3s 2ms/step - loss: 0.2805 - accuracy: 0.8955 - val_loss: 0.3215 - val_accuracy: 0.8853\n",
      "Epoch 7/50\n",
      "1500/1500 [==============================] - 3s 2ms/step - loss: 0.2675 - accuracy: 0.8982 - val_loss: 0.3219 - val_accuracy: 0.8857\n",
      "Epoch 8/50\n",
      "1500/1500 [==============================] - 3s 2ms/step - loss: 0.2535 - accuracy: 0.9057 - val_loss: 0.3271 - val_accuracy: 0.8817\n",
      "Epoch 9/50\n",
      "1500/1500 [==============================] - 3s 2ms/step - loss: 0.2426 - accuracy: 0.9085 - val_loss: 0.3230 - val_accuracy: 0.8864\n",
      "Epoch 10/50\n",
      "1500/1500 [==============================] - 3s 2ms/step - loss: 0.2301 - accuracy: 0.9135 - val_loss: 0.3242 - val_accuracy: 0.8876\n",
      "Epoch 11/50\n",
      "1500/1500 [==============================] - 3s 2ms/step - loss: 0.2203 - accuracy: 0.9172 - val_loss: 0.3214 - val_accuracy: 0.8873\n",
      "Epoch 12/50\n",
      "1500/1500 [==============================] - 3s 2ms/step - loss: 0.2139 - accuracy: 0.9189 - val_loss: 0.3074 - val_accuracy: 0.8903\n",
      "Epoch 13/50\n",
      "1500/1500 [==============================] - 3s 2ms/step - loss: 0.2032 - accuracy: 0.9233 - val_loss: 0.3300 - val_accuracy: 0.8863\n",
      "Epoch 14/50\n",
      "1500/1500 [==============================] - 3s 2ms/step - loss: 0.1988 - accuracy: 0.9251 - val_loss: 0.3077 - val_accuracy: 0.8929\n",
      "Epoch 15/50\n",
      "1500/1500 [==============================] - 3s 2ms/step - loss: 0.1956 - accuracy: 0.9268 - val_loss: 0.3211 - val_accuracy: 0.8915\n",
      "Epoch 16/50\n",
      "1500/1500 [==============================] - 3s 2ms/step - loss: 0.1872 - accuracy: 0.9303 - val_loss: 0.3209 - val_accuracy: 0.8913\n",
      "Epoch 17/50\n",
      "1500/1500 [==============================] - 3s 2ms/step - loss: 0.1736 - accuracy: 0.9339 - val_loss: 0.3282 - val_accuracy: 0.8936\n",
      "Epoch 18/50\n",
      "1500/1500 [==============================] - 3s 2ms/step - loss: 0.1767 - accuracy: 0.9340 - val_loss: 0.3393 - val_accuracy: 0.8923\n",
      "Epoch 19/50\n",
      "1500/1500 [==============================] - 3s 2ms/step - loss: 0.1703 - accuracy: 0.9347 - val_loss: 0.3320 - val_accuracy: 0.8919\n",
      "Epoch 20/50\n",
      "1500/1500 [==============================] - 3s 2ms/step - loss: 0.1651 - accuracy: 0.9363 - val_loss: 0.3311 - val_accuracy: 0.8909\n",
      "Epoch 21/50\n",
      "1500/1500 [==============================] - 3s 2ms/step - loss: 0.1576 - accuracy: 0.9416 - val_loss: 0.3466 - val_accuracy: 0.8887\n",
      "Epoch 22/50\n",
      "1500/1500 [==============================] - 3s 2ms/step - loss: 0.1545 - accuracy: 0.9416 - val_loss: 0.3473 - val_accuracy: 0.8941\n",
      "Epoch 23/50\n",
      "1500/1500 [==============================] - 3s 2ms/step - loss: 0.1499 - accuracy: 0.9433 - val_loss: 0.3419 - val_accuracy: 0.8942\n",
      "Epoch 24/50\n",
      "1500/1500 [==============================] - 3s 2ms/step - loss: 0.1471 - accuracy: 0.9432 - val_loss: 0.3543 - val_accuracy: 0.8923\n",
      "Epoch 25/50\n",
      "1500/1500 [==============================] - 3s 2ms/step - loss: 0.1368 - accuracy: 0.9491 - val_loss: 0.3533 - val_accuracy: 0.8938\n",
      "Epoch 26/50\n",
      "1500/1500 [==============================] - 3s 2ms/step - loss: 0.1348 - accuracy: 0.9513 - val_loss: 0.3581 - val_accuracy: 0.8961\n",
      "Epoch 27/50\n",
      "1500/1500 [==============================] - 3s 2ms/step - loss: 0.1326 - accuracy: 0.9499 - val_loss: 0.3696 - val_accuracy: 0.8890\n",
      "Epoch 28/50\n",
      "1500/1500 [==============================] - 3s 2ms/step - loss: 0.1290 - accuracy: 0.9516 - val_loss: 0.3491 - val_accuracy: 0.8929\n",
      "Epoch 29/50\n",
      "1500/1500 [==============================] - 3s 2ms/step - loss: 0.1261 - accuracy: 0.9506 - val_loss: 0.3825 - val_accuracy: 0.8942\n",
      "Epoch 30/50\n",
      "1500/1500 [==============================] - 3s 2ms/step - loss: 0.1261 - accuracy: 0.9519 - val_loss: 0.3896 - val_accuracy: 0.8903\n",
      "Epoch 31/50\n",
      "1500/1500 [==============================] - 3s 2ms/step - loss: 0.1235 - accuracy: 0.9547 - val_loss: 0.3861 - val_accuracy: 0.8892\n",
      "Epoch 32/50\n",
      "1500/1500 [==============================] - 3s 2ms/step - loss: 0.1147 - accuracy: 0.9571 - val_loss: 0.4100 - val_accuracy: 0.8851\n",
      "Epoch 33/50\n",
      "1500/1500 [==============================] - 3s 2ms/step - loss: 0.1147 - accuracy: 0.9579 - val_loss: 0.3973 - val_accuracy: 0.8924\n",
      "Epoch 34/50\n",
      "1500/1500 [==============================] - 3s 2ms/step - loss: 0.1089 - accuracy: 0.9605 - val_loss: 0.4297 - val_accuracy: 0.8891\n",
      "Epoch 35/50\n",
      "1500/1500 [==============================] - 3s 2ms/step - loss: 0.1115 - accuracy: 0.9568 - val_loss: 0.4352 - val_accuracy: 0.8907\n",
      "Epoch 36/50\n",
      "1500/1500 [==============================] - 3s 2ms/step - loss: 0.1013 - accuracy: 0.9626 - val_loss: 0.4134 - val_accuracy: 0.8920\n",
      "Epoch 37/50\n",
      "1500/1500 [==============================] - 3s 2ms/step - loss: 0.1013 - accuracy: 0.9640 - val_loss: 0.4329 - val_accuracy: 0.8902\n",
      "Epoch 38/50\n",
      "1500/1500 [==============================] - 3s 2ms/step - loss: 0.1024 - accuracy: 0.9629 - val_loss: 0.4169 - val_accuracy: 0.8924\n",
      "Epoch 39/50\n",
      "1500/1500 [==============================] - 3s 2ms/step - loss: 0.0978 - accuracy: 0.9627 - val_loss: 0.4223 - val_accuracy: 0.8920\n",
      "Epoch 40/50\n",
      "1500/1500 [==============================] - 3s 2ms/step - loss: 0.0987 - accuracy: 0.9653 - val_loss: 0.4134 - val_accuracy: 0.8923\n",
      "Epoch 41/50\n",
      "1500/1500 [==============================] - 3s 2ms/step - loss: 0.0951 - accuracy: 0.9656 - val_loss: 0.4508 - val_accuracy: 0.8935\n",
      "Epoch 42/50\n",
      "1500/1500 [==============================] - 3s 2ms/step - loss: 0.0879 - accuracy: 0.9683 - val_loss: 0.4602 - val_accuracy: 0.8890\n",
      "Epoch 43/50\n",
      "1500/1500 [==============================] - 3s 2ms/step - loss: 0.0916 - accuracy: 0.9660 - val_loss: 0.4678 - val_accuracy: 0.8929\n",
      "Epoch 44/50\n",
      "1500/1500 [==============================] - 3s 2ms/step - loss: 0.0871 - accuracy: 0.9674 - val_loss: 0.4785 - val_accuracy: 0.8934\n",
      "Epoch 45/50\n",
      "1500/1500 [==============================] - 3s 2ms/step - loss: 0.0872 - accuracy: 0.9668 - val_loss: 0.4650 - val_accuracy: 0.8884\n",
      "Epoch 46/50\n",
      "1500/1500 [==============================] - 3s 2ms/step - loss: 0.0889 - accuracy: 0.9671 - val_loss: 0.4755 - val_accuracy: 0.8909\n",
      "Epoch 47/50\n",
      "1500/1500 [==============================] - 3s 2ms/step - loss: 0.0822 - accuracy: 0.9696 - val_loss: 0.4870 - val_accuracy: 0.8898\n",
      "Epoch 48/50\n",
      "1500/1500 [==============================] - 3s 2ms/step - loss: 0.0842 - accuracy: 0.9693 - val_loss: 0.4811 - val_accuracy: 0.8941\n",
      "Epoch 49/50\n",
      "1500/1500 [==============================] - 3s 2ms/step - loss: 0.0805 - accuracy: 0.9708 - val_loss: 0.4937 - val_accuracy: 0.8863\n",
      "Epoch 50/50\n",
      "1500/1500 [==============================] - 3s 2ms/step - loss: 0.0808 - accuracy: 0.9707 - val_loss: 0.4975 - val_accuracy: 0.8902\n",
      "Best epoch: 26\n"
     ]
    }
   ],
   "source": [
    "# Build the model with the optimal hyperparameters and train it on the data for 50 epochs\n",
    "model = tuner.hypermodel.build(best_hps)\n",
    "history = model.fit(img_train, label_train, epochs=50, validation_split=0.2)\n",
    "\n",
    "val_acc_per_epoch = history.history['val_accuracy']\n",
    "best_epoch = val_acc_per_epoch.index(max(val_acc_per_epoch)) + 1\n",
    "print('Best epoch: %d' % (best_epoch,))"
   ]
  },
  {
   "cell_type": "code",
   "execution_count": 10,
   "id": "meaning-winter",
   "metadata": {},
   "outputs": [
    {
     "name": "stdout",
     "output_type": "stream",
     "text": [
      "Epoch 1/26\n",
      "1500/1500 [==============================] - 3s 2ms/step - loss: 0.6460 - accuracy: 0.7749 - val_loss: 0.4482 - val_accuracy: 0.8329\n",
      "Epoch 2/26\n",
      "1500/1500 [==============================] - 3s 2ms/step - loss: 0.3943 - accuracy: 0.8599 - val_loss: 0.3613 - val_accuracy: 0.8712\n",
      "Epoch 3/26\n",
      "1500/1500 [==============================] - 3s 2ms/step - loss: 0.3375 - accuracy: 0.8763 - val_loss: 0.3789 - val_accuracy: 0.8608\n",
      "Epoch 4/26\n",
      "1500/1500 [==============================] - 3s 2ms/step - loss: 0.3134 - accuracy: 0.8846 - val_loss: 0.3512 - val_accuracy: 0.8714\n",
      "Epoch 5/26\n",
      "1500/1500 [==============================] - 3s 2ms/step - loss: 0.2972 - accuracy: 0.8899 - val_loss: 0.3247 - val_accuracy: 0.8839\n",
      "Epoch 6/26\n",
      "1500/1500 [==============================] - 3s 2ms/step - loss: 0.2697 - accuracy: 0.8991 - val_loss: 0.3211 - val_accuracy: 0.8844\n",
      "Epoch 7/26\n",
      "1500/1500 [==============================] - 3s 2ms/step - loss: 0.2677 - accuracy: 0.8993 - val_loss: 0.3120 - val_accuracy: 0.8896\n",
      "Epoch 8/26\n",
      "1500/1500 [==============================] - 3s 2ms/step - loss: 0.2579 - accuracy: 0.9032 - val_loss: 0.3335 - val_accuracy: 0.8823\n",
      "Epoch 9/26\n",
      "1500/1500 [==============================] - 3s 2ms/step - loss: 0.2429 - accuracy: 0.9086 - val_loss: 0.3291 - val_accuracy: 0.8865\n",
      "Epoch 10/26\n",
      "1500/1500 [==============================] - 3s 2ms/step - loss: 0.2342 - accuracy: 0.9126 - val_loss: 0.3111 - val_accuracy: 0.8913\n",
      "Epoch 11/26\n",
      "1500/1500 [==============================] - 3s 2ms/step - loss: 0.2257 - accuracy: 0.9166 - val_loss: 0.3118 - val_accuracy: 0.8932\n",
      "Epoch 12/26\n",
      "1500/1500 [==============================] - 3s 2ms/step - loss: 0.2124 - accuracy: 0.9211 - val_loss: 0.3398 - val_accuracy: 0.8860\n",
      "Epoch 13/26\n",
      "1500/1500 [==============================] - 3s 2ms/step - loss: 0.2070 - accuracy: 0.9226 - val_loss: 0.3254 - val_accuracy: 0.8905\n",
      "Epoch 14/26\n",
      "1500/1500 [==============================] - 3s 2ms/step - loss: 0.1964 - accuracy: 0.9259 - val_loss: 0.3142 - val_accuracy: 0.8938\n",
      "Epoch 15/26\n",
      "1500/1500 [==============================] - 3s 2ms/step - loss: 0.1948 - accuracy: 0.9274 - val_loss: 0.3186 - val_accuracy: 0.8932\n",
      "Epoch 16/26\n",
      "1500/1500 [==============================] - 3s 2ms/step - loss: 0.1867 - accuracy: 0.9298 - val_loss: 0.3230 - val_accuracy: 0.8919\n",
      "Epoch 17/26\n",
      "1500/1500 [==============================] - 3s 2ms/step - loss: 0.1814 - accuracy: 0.9327 - val_loss: 0.3247 - val_accuracy: 0.8919\n",
      "Epoch 18/26\n",
      "1500/1500 [==============================] - 3s 2ms/step - loss: 0.1764 - accuracy: 0.9338 - val_loss: 0.3488 - val_accuracy: 0.8838\n",
      "Epoch 19/26\n",
      "1500/1500 [==============================] - 3s 2ms/step - loss: 0.1705 - accuracy: 0.9357 - val_loss: 0.3346 - val_accuracy: 0.8951\n",
      "Epoch 20/26\n",
      "1500/1500 [==============================] - 3s 2ms/step - loss: 0.1649 - accuracy: 0.9383 - val_loss: 0.3518 - val_accuracy: 0.8865\n",
      "Epoch 21/26\n",
      "1500/1500 [==============================] - 3s 2ms/step - loss: 0.1624 - accuracy: 0.9379 - val_loss: 0.3784 - val_accuracy: 0.8845\n",
      "Epoch 22/26\n",
      "1500/1500 [==============================] - 3s 2ms/step - loss: 0.1560 - accuracy: 0.9401 - val_loss: 0.3517 - val_accuracy: 0.8946\n",
      "Epoch 23/26\n",
      "1500/1500 [==============================] - 3s 2ms/step - loss: 0.1472 - accuracy: 0.9454 - val_loss: 0.3644 - val_accuracy: 0.8956\n",
      "Epoch 24/26\n",
      "1500/1500 [==============================] - 3s 2ms/step - loss: 0.1489 - accuracy: 0.9427 - val_loss: 0.3718 - val_accuracy: 0.8919\n",
      "Epoch 25/26\n",
      "1500/1500 [==============================] - 3s 2ms/step - loss: 0.1440 - accuracy: 0.9481 - val_loss: 0.3797 - val_accuracy: 0.8892\n",
      "Epoch 26/26\n",
      "1500/1500 [==============================] - 3s 2ms/step - loss: 0.1390 - accuracy: 0.9462 - val_loss: 0.3677 - val_accuracy: 0.8919\n"
     ]
    },
    {
     "data": {
      "text/plain": [
       "<tensorflow.python.keras.callbacks.History at 0x2644283d670>"
      ]
     },
     "execution_count": 10,
     "metadata": {},
     "output_type": "execute_result"
    }
   ],
   "source": [
    "hypermodel = tuner.hypermodel.build(best_hps)\n",
    "\n",
    "# Retrain the model\n",
    "hypermodel.fit(img_train, label_train, epochs=best_epoch, validation_split=0.2)"
   ]
  },
  {
   "cell_type": "code",
   "execution_count": 11,
   "id": "eastern-parameter",
   "metadata": {},
   "outputs": [
    {
     "name": "stdout",
     "output_type": "stream",
     "text": [
      "313/313 [==============================] - 1s 2ms/step - loss: 0.3983 - accuracy: 0.8890\n",
      "[test loss, test accuracy]: [0.3982964754104614, 0.8889999985694885]\n"
     ]
    }
   ],
   "source": [
    "eval_result = hypermodel.evaluate(img_test, label_test)\n",
    "print(\"[test loss, test accuracy]:\", eval_result)"
   ]
  },
  {
   "cell_type": "markdown",
   "id": "perfect-farmer",
   "metadata": {},
   "source": [
    "## 7. Summary"
   ]
  },
  {
   "cell_type": "markdown",
   "id": "driving-joint",
   "metadata": {},
   "source": [
    "### https://keras-team.github.io/keras-tuner/\n",
    "\n",
    "### https://blog.tensorflow.org/2020/01/hyperparameter-tuning-with-keras-tuner.html\n",
    "\n",
    "### https://keras.io/examples/"
   ]
  },
  {
   "cell_type": "markdown",
   "id": "affecting-raising",
   "metadata": {},
   "source": [
    "# reference\n",
    "\n",
    "### https://tensorflow.google.cn/tutorials/keras/keras_tuner"
   ]
  },
  {
   "cell_type": "code",
   "execution_count": null,
   "id": "ideal-motorcycle",
   "metadata": {},
   "outputs": [],
   "source": []
  }
 ],
 "metadata": {
  "kernelspec": {
   "display_name": "Python 3",
   "language": "python",
   "name": "python3"
  },
  "language_info": {
   "codemirror_mode": {
    "name": "ipython",
    "version": 3
   },
   "file_extension": ".py",
   "mimetype": "text/x-python",
   "name": "python",
   "nbconvert_exporter": "python",
   "pygments_lexer": "ipython3",
   "version": "3.8.5"
  }
 },
 "nbformat": 4,
 "nbformat_minor": 5
}
