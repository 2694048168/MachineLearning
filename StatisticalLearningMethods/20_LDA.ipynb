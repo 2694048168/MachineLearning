{
 "cells": [
  {
   "cell_type": "markdown",
   "metadata": {},
   "source": [
    "# 第20章 潜在狄利克雷分配 Latent Dirichlet allocation"
   ]
  },
  {
   "cell_type": "markdown",
   "metadata": {},
   "source": [
    "1.狄利克雷分布的概率密度函数为$$p ( \\theta | \\alpha ) = \\frac { \\Gamma ( \\sum _ { i = 1 } ^ { k } \\alpha _ { i } ) } { \\prod _ { i = 1 } ^ { k } \\Gamma ( \\alpha _ { i } ) } \\prod _ { i = 1 } ^ { k } \\theta _ { i } ^ { \\alpha _ { i } - 1 }$$\n",
    "其中$\\sum _ { i = 1 } ^ { k } \\theta _ { i } = 1 , \\theta _ { i } \\geq 0 , \\alpha = ( \\alpha _ { 1 } , \\alpha _ { 2 } , \\cdots , \\alpha _ { k } ) , \\alpha _ { i } > 0 , i = 1,2 , \\cdots , $狄利克雷分布是多项分布的共轭先验。\n",
    "\n",
    "2.潜在狄利克雷分配2.潜在狄利克雷分配（LDA）是文本集合的生成概率模型。模型假设话题由单词的多项分布表示，文本由话题的多项分布表示，单词分布和话题分布的先验分布都是狄利克雷分布。LDA模型属于概率图模型可以由板块表示法表示LDA模型中，每个话题的单词分布、每个文本的话题分布、文本的每个位置的话题是隐变量，文本的每个位置的单词是观测变量。"
   ]
  },
  {
   "cell_type": "code",
   "execution_count": 2,
   "metadata": {},
   "outputs": [],
   "source": [
    "from gensim import corpora, models, similarities\n",
    "from pprint import pprint\n",
    "import warnings"
   ]
  },
  {
   "cell_type": "code",
   "execution_count": 6,
   "metadata": {},
   "outputs": [
    {
     "name": "stdout",
     "output_type": "stream",
     "text": [
      "Text = \n",
      "[['human', 'machine', 'interface', 'lab', 'abc', 'computer', 'applications'],\n",
      " ['survey', 'user', 'opinion', 'computer', 'system', 'response', 'time'],\n",
      " ['eps', 'user', 'interface', 'management', 'system'],\n",
      " ['system', 'human', 'system', 'engineering', 'testing', 'eps'],\n",
      " ['relation', 'user', 'perceived', 'response', 'time', 'error', 'measurement'],\n",
      " ['generation', 'random', 'binary', 'unordered', 'trees'],\n",
      " ['intersection', 'graph', 'paths', 'trees'],\n",
      " ['graph', 'minors', 'iv', 'widths', 'trees', 'well', 'quasi', 'ordering'],\n",
      " ['graph', 'minors', 'survey']]\n"
     ]
    }
   ],
   "source": [
    "f = open('./LDA_test.txt')\n",
    "stop_list = set('for a of the and to in'.split())\n",
    "# texts = [line.strip().split() for line in f]\n",
    "# print('Before\\n')\n",
    "# pprint(texts)\n",
    "# print('After\\n')\n",
    "texts = [[word for word in line.strip().lower().split() if word not in stop_list] for line in f]\n",
    "print('Text = ')\n",
    "pprint(texts)"
   ]
  },
  {
   "cell_type": "code",
   "execution_count": 7,
   "metadata": {},
   "outputs": [
    {
     "name": "stdout",
     "output_type": "stream",
     "text": [
      "Dictionary(35 unique tokens: ['abc', 'applications', 'computer', 'human', 'interface']...)\n"
     ]
    }
   ],
   "source": [
    "dictionary = corpora.Dictionary(texts)\n",
    "print(dictionary)"
   ]
  },
  {
   "cell_type": "code",
   "execution_count": 8,
   "metadata": {},
   "outputs": [
    {
     "name": "stdout",
     "output_type": "stream",
     "text": [
      "TF-IDF:\n",
      "[(0, 1), (1, 1), (2, 1), (3, 1), (4, 1), (5, 1), (6, 1)]\n",
      "[(2, 1), (7, 1), (8, 1), (9, 1), (10, 1), (11, 1), (12, 1)]\n",
      "[(4, 1), (10, 1), (12, 1), (13, 1), (14, 1)]\n",
      "[(3, 1), (10, 2), (13, 1), (15, 1), (16, 1)]\n",
      "[(8, 1), (11, 1), (12, 1), (17, 1), (18, 1), (19, 1), (20, 1)]\n",
      "[(21, 1), (22, 1), (23, 1), (24, 1), (25, 1)]\n",
      "[(24, 1), (26, 1), (27, 1), (28, 1)]\n",
      "[(24, 1), (26, 1), (29, 1), (30, 1), (31, 1), (32, 1), (33, 1), (34, 1)]\n",
      "[(9, 1), (26, 1), (30, 1)]\n"
     ]
    }
   ],
   "source": [
    "V = len(dictionary)\n",
    "corpus = [dictionary.doc2bow(text) for text in texts]\n",
    "corpus_tfidf = models.TfidfModel(corpus)[corpus]\n",
    "corpus_tfidf = corpus\n",
    "\n",
    "print('TF-IDF:')\n",
    "for c in corpus_tfidf:\n",
    "  print(c)"
   ]
  },
  {
   "cell_type": "code",
   "execution_count": 9,
   "metadata": {},
   "outputs": [
    {
     "name": "stdout",
     "output_type": "stream",
     "text": [
      "\n",
      "LSI Model:\n",
      "[[(0, 0.9334981916792661), (1, 0.10508952614085784)],\n",
      " [(0, 2.031992374687028), (1, -0.047145314121734186)],\n",
      " [(0, 1.5351342836582094), (1, 0.13488784052204578)],\n",
      " [(0, 1.9540077194594532), (1, 0.21780498576074558)],\n",
      " [(0, 1.2902472956004132), (1, -0.0022521437499251062)],\n",
      " [(0, 0.022783081905507166), (1, -0.7778052604326751)],\n",
      " [(0, 0.05671567576921101), (1, -1.1827703446704847)],\n",
      " [(0, 0.1236000332064837), (1, -2.634306860823685)],\n",
      " [(0, 0.23560627195889272), (1, -0.9407936203668306)]]\n"
     ]
    }
   ],
   "source": [
    "print('\\nLSI Model:')\n",
    "lsi = models.LsiModel(corpus_tfidf, num_topics=2, id2word=dictionary)\n",
    "topic_result = [a for a in lsi[corpus_tfidf]]\n",
    "pprint(topic_result)"
   ]
  },
  {
   "cell_type": "code",
   "execution_count": 10,
   "metadata": {},
   "outputs": [
    {
     "name": "stdout",
     "output_type": "stream",
     "text": [
      "LSI Topics:\n",
      "[(0,\n",
      "  '0.579*\"system\" + 0.376*\"user\" + 0.270*\"eps\" + 0.257*\"response\" + '\n",
      "  '0.257*\"time\"'),\n",
      " (1,\n",
      "  '-0.480*\"graph\" + -0.464*\"trees\" + -0.361*\"minors\" + -0.266*\"quasi\" + '\n",
      "  '-0.266*\"ordering\"')]\n"
     ]
    }
   ],
   "source": [
    "print('LSI Topics:')\n",
    "pprint(lsi.print_topics(num_topics=2, num_words=5))"
   ]
  },
  {
   "cell_type": "code",
   "execution_count": 11,
   "metadata": {},
   "outputs": [
    {
     "name": "stdout",
     "output_type": "stream",
     "text": [
      "Similarity:\n",
      "[array([ 1.        ,  0.9908607 ,  0.9997008 ,  0.9999994 ,  0.9935261 ,\n",
      "       -0.08272626, -0.06414512, -0.06517283,  0.13288835], dtype=float32),\n",
      " array([0.9908607 , 0.99999994, 0.9938636 , 0.99100804, 0.99976987,\n",
      "       0.0524564 , 0.07105229, 0.070025  , 0.2653665 ], dtype=float32),\n",
      " array([ 0.9997008 ,  0.9938636 ,  0.99999994,  0.999727  ,  0.99600756,\n",
      "       -0.05832579, -0.03971674, -0.04074576,  0.15709123], dtype=float32),\n",
      " array([ 0.9999994 ,  0.99100804,  0.999727  ,  1.        ,  0.9936501 ,\n",
      "       -0.08163348, -0.06305084, -0.06407862,  0.13397504], dtype=float32),\n",
      " array([0.9935261 , 0.99976987, 0.99600756, 0.9936501 , 0.99999994,\n",
      "       0.03102366, 0.04963995, 0.04861134, 0.24462426], dtype=float32),\n",
      " array([-0.08272626,  0.0524564 , -0.05832579, -0.08163348,  0.03102366,\n",
      "        0.99999994,  0.99982643,  0.9998451 ,  0.97674036], dtype=float32),\n",
      " array([-0.06414512,  0.07105229, -0.03971674, -0.06305084,  0.04963995,\n",
      "        0.99982643,  1.        ,  0.9999995 ,  0.9805657 ], dtype=float32),\n",
      " array([-0.06517283,  0.070025  , -0.04074576, -0.06407862,  0.04861134,\n",
      "        0.9998451 ,  0.9999995 ,  1.        ,  0.9803632 ], dtype=float32),\n",
      " array([0.13288835, 0.2653665 , 0.15709123, 0.13397504, 0.24462426,\n",
      "       0.97674036, 0.9805657 , 0.9803632 , 1.        ], dtype=float32)]\n"
     ]
    }
   ],
   "source": [
    "similarity = similarities.MatrixSimilarity(lsi[corpus_tfidf])   # similarities.Similarity()\n",
    "print('Similarity:')\n",
    "pprint(list(similarity))"
   ]
  },
  {
   "cell_type": "code",
   "execution_count": 12,
   "metadata": {},
   "outputs": [
    {
     "name": "stdout",
     "output_type": "stream",
     "text": [
      "\n",
      "LDA Model:\n",
      "Document-Topic:\n",
      "\n",
      "[[(0, 0.9754764), (1, 0.024523618)],\n",
      " [(0, 0.019281428), (1, 0.98071855)],\n",
      " [(0, 0.026525376), (1, 0.9734746)],\n",
      " [(0, 0.022324322), (1, 0.9776757)],\n",
      " [(0, 0.019260732), (1, 0.9807393)],\n",
      " [(0, 0.026561616), (1, 0.9734383)],\n",
      " [(0, 0.9586078), (1, 0.041392185)],\n",
      " [(0, 0.97852516), (1, 0.021474862)],\n",
      " [(0, 0.9459338), (1, 0.054066237)]]\n"
     ]
    }
   ],
   "source": [
    "print('\\nLDA Model:')\n",
    "num_topics = 2\n",
    "lda = models.LdaModel(corpus_tfidf, num_topics=num_topics, id2word=dictionary, \n",
    "                      alpha='auto', eta='auto', minimum_probability=0.001, passes=10)\n",
    "doc_topic = [doc_t for doc_t in lda[corpus_tfidf]]\n",
    "print('Document-Topic:\\n')\n",
    "pprint(doc_topic)"
   ]
  },
  {
   "cell_type": "code",
   "execution_count": 13,
   "metadata": {},
   "outputs": [
    {
     "name": "stdout",
     "output_type": "stream",
     "text": [
      "[(0, 0.9754717), (1, 0.024528308)]\n",
      "[(0, 0.019281477), (1, 0.9807185)]\n",
      "[(0, 0.026525391), (1, 0.9734746)]\n",
      "[(0, 0.02232408), (1, 0.9776759)]\n",
      "[(0, 0.019261276), (1, 0.9807387)]\n",
      "[(0, 0.026561601), (1, 0.97343844)]\n",
      "[(0, 0.95860773), (1, 0.041392237)]\n",
      "[(0, 0.97852516), (1, 0.021474792)]\n",
      "[(0, 0.94593143), (1, 0.0540686)]\n"
     ]
    }
   ],
   "source": [
    "for doc_topic in lda.get_document_topics(corpus_tfidf):\n",
    "  print(doc_topic)"
   ]
  },
  {
   "cell_type": "code",
   "execution_count": 14,
   "metadata": {},
   "outputs": [
    {
     "name": "stdout",
     "output_type": "stream",
     "text": [
      "Topic 0\n",
      "[('graph', 0.08828391),\n",
      " ('trees', 0.06360026),\n",
      " ('minors', 0.062823996),\n",
      " ('interface', 0.038095064),\n",
      " ('quasi', 0.038075138),\n",
      " ('iv', 0.038073055),\n",
      " ('widths', 0.03807044),\n",
      " ('well', 0.038069926),\n",
      " ('ordering', 0.03806954),\n",
      " ('machine', 0.038058978)]\n",
      "Topic 1\n",
      "[('system', 0.09442629),\n",
      " ('user', 0.07338805),\n",
      " ('eps', 0.05244716),\n",
      " ('time', 0.05240226),\n",
      " ('response', 0.052366935),\n",
      " ('survey', 0.03377131),\n",
      " ('human', 0.031527326),\n",
      " ('computer', 0.03152715),\n",
      " ('interface', 0.03149664),\n",
      " ('testing', 0.03147464)]\n",
      "Similarity:\n",
      "[array([1.        , 0.0447779 , 0.05235166, 0.04794651, 0.04475633,\n",
      "       0.05239008, 0.99983776, 0.9999949 , 0.9994896 ], dtype=float32),\n",
      " array([0.0447779 , 0.99999994, 0.9999713 , 0.99999493, 1.        ,\n",
      "       0.9999709 , 0.06276947, 0.04158859, 0.07667071], dtype=float32),\n",
      " array([0.05235166, 0.9999713 , 1.        , 0.9999903 , 0.99997115,\n",
      "       1.        , 0.07033537, 0.04916349, 0.08422884], dtype=float32),\n",
      " array([0.04794651, 0.99999493, 0.9999903 , 1.        , 0.99999493,\n",
      "       0.9999901 , 0.06593491, 0.04475765, 0.07983299], dtype=float32),\n",
      " array([0.04475633, 1.        , 0.99997115, 0.99999493, 1.        ,\n",
      "       0.99997085, 0.06274792, 0.04156702, 0.07664918], dtype=float32),\n",
      " array([0.05239008, 0.9999709 , 1.        , 0.9999901 , 0.99997085,\n",
      "       1.        , 0.07037374, 0.04920191, 0.08426717], dtype=float32),\n",
      " array([0.99983776, 0.06276947, 0.07033537, 0.06593491, 0.06274792,\n",
      "       0.07037374, 1.0000001 , 0.9997751 , 0.9999029 ], dtype=float32),\n",
      " array([0.9999949 , 0.04158859, 0.04916349, 0.04475765, 0.04156702,\n",
      "       0.04920191, 0.9997751 , 1.        , 0.9993825 ], dtype=float32),\n",
      " array([0.9994896 , 0.07667071, 0.08422884, 0.07983299, 0.07664918,\n",
      "       0.08426717, 0.9999029 , 0.9993825 , 1.0000001 ], dtype=float32)]\n",
      "\n",
      "\n",
      "USE WITH CARE--\n",
      "HDA Model:\n",
      "[[(0, 0.3385901515551263),\n",
      "  (1, 0.024332489738812427),\n",
      "  (2, 0.01780382602946349),\n",
      "  (3, 0.580447299144083),\n",
      "  (4, 0.010138001225330678)],\n",
      " [(0, 0.03424188658940884),\n",
      "  (1, 0.5566573349965529),\n",
      "  (2, 0.017788427153251667),\n",
      "  (3, 0.3524864311382352),\n",
      "  (4, 0.010137693156735962)],\n",
      " [(0, 0.04482326829662072),\n",
      "  (1, 0.8621806661859474),\n",
      "  (2, 0.023707155474764582),\n",
      "  (3, 0.017520703315317156),\n",
      "  (4, 0.0135172358417456),\n",
      "  (5, 0.010159495048391856)],\n",
      " [(0, 0.04080311605433921),\n",
      "  (1, 0.8794631547975355),\n",
      "  (2, 0.02034191778157657),\n",
      "  (3, 0.015019088645223198),\n",
      "  (4, 0.011586181375702368)],\n",
      " [(0, 0.9062162755483415),\n",
      "  (1, 0.024048766797768573),\n",
      "  (2, 0.01776234625322287),\n",
      "  (3, 0.013146929595269315),\n",
      "  (4, 0.010137458581858801)],\n",
      " [(0, 0.04912263171176724),\n",
      "  (1, 0.8578150640645474),\n",
      "  (2, 0.023775971444330066),\n",
      "  (3, 0.017518497838668406),\n",
      "  (4, 0.013516869497629425),\n",
      "  (5, 0.010159489600541211)],\n",
      " [(0, 0.8497682393036221),\n",
      "  (1, 0.038671217789192094),\n",
      "  (2, 0.02841938868741942),\n",
      "  (3, 0.021020044830198512),\n",
      "  (4, 0.01621994530220803),\n",
      "  (5, 0.012191393097068709)],\n",
      " [(0, 0.29836838530266463),\n",
      "  (1, 0.021663909359736146),\n",
      "  (2, 0.6337747834905785),\n",
      "  (3, 0.011680816826612034)],\n",
      " [(0, 0.8119777649636178),\n",
      "  (1, 0.04837369201237244),\n",
      "  (2, 0.03570541856736731),\n",
      "  (3, 0.02629055822567128),\n",
      "  (4, 0.020276110364093925),\n",
      "  (5, 0.015239242133459785),\n",
      "  (6, 0.010984096790510562)]]\n",
      "HDA Topics:\n",
      "[(0, '0.116*unordered + 0.078*perceived + 0.065*well + 0.059*time + 0.058*abc'), (1, '0.139*opinion + 0.092*paths + 0.086*widths + 0.053*random + 0.045*quasi')]\n"
     ]
    }
   ],
   "source": [
    "for topic_id in range(num_topics):\n",
    "  print('Topic', topic_id)\n",
    "  # pprint(lda.get_topic_terms(topicid=topic_id))\n",
    "  pprint(lda.show_topic(topic_id))\n",
    "similarity = similarities.MatrixSimilarity(lda[corpus_tfidf])\n",
    "print('Similarity:')\n",
    "pprint(list(similarity))\n",
    "\n",
    "hda = models.HdpModel(corpus_tfidf, id2word=dictionary)\n",
    "topic_result = [a for a in hda[corpus_tfidf]]\n",
    "print('\\n\\nUSE WITH CARE--\\nHDA Model:')\n",
    "pprint(topic_result)\n",
    "print('HDA Topics:')\n",
    "print(hda.print_topics(num_topics=2, num_words=5))"
   ]
  },
  {
   "cell_type": "code",
   "execution_count": null,
   "metadata": {},
   "outputs": [],
   "source": []
  }
 ],
 "metadata": {
  "kernelspec": {
   "display_name": "Python 3",
   "language": "python",
   "name": "python3"
  },
  "language_info": {
   "codemirror_mode": {
    "name": "ipython",
    "version": 3
   },
   "file_extension": ".py",
   "mimetype": "text/x-python",
   "name": "python",
   "nbconvert_exporter": "python",
   "pygments_lexer": "ipython3",
   "version": "3.8.3"
  }
 },
 "nbformat": 4,
 "nbformat_minor": 4
}
