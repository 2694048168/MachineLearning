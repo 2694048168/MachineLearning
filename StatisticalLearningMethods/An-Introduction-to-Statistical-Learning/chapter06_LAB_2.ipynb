{
 "cells": [
  {
   "cell_type": "markdown",
   "metadata": {},
   "source": [
    "# 6.6 Lab 2: Ridge Regression and the Lasso"
   ]
  },
  {
   "cell_type": "code",
   "execution_count": 1,
   "metadata": {},
   "outputs": [],
   "source": [
    "import pandas as pd\n",
    "import numpy as np\n",
    "\n",
    "from sklearn.linear_model import Ridge,Lasso\n",
    "from sklearn.model_selection import train_test_split,GridSearchCV\n",
    "from sklearn.metrics import mean_squared_error,r2_score\n",
    "from sklearn.preprocessing import StandardScaler\n",
    "\n",
    "import matplotlib.pyplot as plt\n",
    "%matplotlib inline\n",
    "import seaborn as sns\n",
    "\n",
    "from itertools import combinations"
   ]
  },
  {
   "cell_type": "code",
   "execution_count": 2,
   "metadata": {},
   "outputs": [
    {
     "name": "stdout",
     "output_type": "stream",
     "text": [
      "(322, 21)\n"
     ]
    },
    {
     "data": {
      "text/html": [
       "<div>\n",
       "<style scoped>\n",
       "    .dataframe tbody tr th:only-of-type {\n",
       "        vertical-align: middle;\n",
       "    }\n",
       "\n",
       "    .dataframe tbody tr th {\n",
       "        vertical-align: top;\n",
       "    }\n",
       "\n",
       "    .dataframe thead th {\n",
       "        text-align: right;\n",
       "    }\n",
       "</style>\n",
       "<table border=\"1\" class=\"dataframe\">\n",
       "  <thead>\n",
       "    <tr style=\"text-align: right;\">\n",
       "      <th></th>\n",
       "      <th>Unnamed: 0</th>\n",
       "      <th>AtBat</th>\n",
       "      <th>Hits</th>\n",
       "      <th>HmRun</th>\n",
       "      <th>Runs</th>\n",
       "      <th>RBI</th>\n",
       "      <th>Walks</th>\n",
       "      <th>Years</th>\n",
       "      <th>CAtBat</th>\n",
       "      <th>CHits</th>\n",
       "      <th>...</th>\n",
       "      <th>CRuns</th>\n",
       "      <th>CRBI</th>\n",
       "      <th>CWalks</th>\n",
       "      <th>League</th>\n",
       "      <th>Division</th>\n",
       "      <th>PutOuts</th>\n",
       "      <th>Assists</th>\n",
       "      <th>Errors</th>\n",
       "      <th>Salary</th>\n",
       "      <th>NewLeague</th>\n",
       "    </tr>\n",
       "  </thead>\n",
       "  <tbody>\n",
       "    <tr>\n",
       "      <th>0</th>\n",
       "      <td>-Andy Allanson</td>\n",
       "      <td>293</td>\n",
       "      <td>66</td>\n",
       "      <td>1</td>\n",
       "      <td>30</td>\n",
       "      <td>29</td>\n",
       "      <td>14</td>\n",
       "      <td>1</td>\n",
       "      <td>293</td>\n",
       "      <td>66</td>\n",
       "      <td>...</td>\n",
       "      <td>30</td>\n",
       "      <td>29</td>\n",
       "      <td>14</td>\n",
       "      <td>A</td>\n",
       "      <td>E</td>\n",
       "      <td>446</td>\n",
       "      <td>33</td>\n",
       "      <td>20</td>\n",
       "      <td>NaN</td>\n",
       "      <td>A</td>\n",
       "    </tr>\n",
       "    <tr>\n",
       "      <th>1</th>\n",
       "      <td>-Alan Ashby</td>\n",
       "      <td>315</td>\n",
       "      <td>81</td>\n",
       "      <td>7</td>\n",
       "      <td>24</td>\n",
       "      <td>38</td>\n",
       "      <td>39</td>\n",
       "      <td>14</td>\n",
       "      <td>3449</td>\n",
       "      <td>835</td>\n",
       "      <td>...</td>\n",
       "      <td>321</td>\n",
       "      <td>414</td>\n",
       "      <td>375</td>\n",
       "      <td>N</td>\n",
       "      <td>W</td>\n",
       "      <td>632</td>\n",
       "      <td>43</td>\n",
       "      <td>10</td>\n",
       "      <td>475.0</td>\n",
       "      <td>N</td>\n",
       "    </tr>\n",
       "    <tr>\n",
       "      <th>2</th>\n",
       "      <td>-Alvin Davis</td>\n",
       "      <td>479</td>\n",
       "      <td>130</td>\n",
       "      <td>18</td>\n",
       "      <td>66</td>\n",
       "      <td>72</td>\n",
       "      <td>76</td>\n",
       "      <td>3</td>\n",
       "      <td>1624</td>\n",
       "      <td>457</td>\n",
       "      <td>...</td>\n",
       "      <td>224</td>\n",
       "      <td>266</td>\n",
       "      <td>263</td>\n",
       "      <td>A</td>\n",
       "      <td>W</td>\n",
       "      <td>880</td>\n",
       "      <td>82</td>\n",
       "      <td>14</td>\n",
       "      <td>480.0</td>\n",
       "      <td>A</td>\n",
       "    </tr>\n",
       "    <tr>\n",
       "      <th>3</th>\n",
       "      <td>-Andre Dawson</td>\n",
       "      <td>496</td>\n",
       "      <td>141</td>\n",
       "      <td>20</td>\n",
       "      <td>65</td>\n",
       "      <td>78</td>\n",
       "      <td>37</td>\n",
       "      <td>11</td>\n",
       "      <td>5628</td>\n",
       "      <td>1575</td>\n",
       "      <td>...</td>\n",
       "      <td>828</td>\n",
       "      <td>838</td>\n",
       "      <td>354</td>\n",
       "      <td>N</td>\n",
       "      <td>E</td>\n",
       "      <td>200</td>\n",
       "      <td>11</td>\n",
       "      <td>3</td>\n",
       "      <td>500.0</td>\n",
       "      <td>N</td>\n",
       "    </tr>\n",
       "    <tr>\n",
       "      <th>4</th>\n",
       "      <td>-Andres Galarraga</td>\n",
       "      <td>321</td>\n",
       "      <td>87</td>\n",
       "      <td>10</td>\n",
       "      <td>39</td>\n",
       "      <td>42</td>\n",
       "      <td>30</td>\n",
       "      <td>2</td>\n",
       "      <td>396</td>\n",
       "      <td>101</td>\n",
       "      <td>...</td>\n",
       "      <td>48</td>\n",
       "      <td>46</td>\n",
       "      <td>33</td>\n",
       "      <td>N</td>\n",
       "      <td>E</td>\n",
       "      <td>805</td>\n",
       "      <td>40</td>\n",
       "      <td>4</td>\n",
       "      <td>91.5</td>\n",
       "      <td>N</td>\n",
       "    </tr>\n",
       "  </tbody>\n",
       "</table>\n",
       "<p>5 rows × 21 columns</p>\n",
       "</div>"
      ],
      "text/plain": [
       "          Unnamed: 0  AtBat  Hits  HmRun  Runs  RBI  Walks  Years  CAtBat  \\\n",
       "0     -Andy Allanson    293    66      1    30   29     14      1     293   \n",
       "1        -Alan Ashby    315    81      7    24   38     39     14    3449   \n",
       "2       -Alvin Davis    479   130     18    66   72     76      3    1624   \n",
       "3      -Andre Dawson    496   141     20    65   78     37     11    5628   \n",
       "4  -Andres Galarraga    321    87     10    39   42     30      2     396   \n",
       "\n",
       "   CHits  ...  CRuns  CRBI  CWalks  League Division PutOuts  Assists  Errors  \\\n",
       "0     66  ...     30    29      14       A        E     446       33      20   \n",
       "1    835  ...    321   414     375       N        W     632       43      10   \n",
       "2    457  ...    224   266     263       A        W     880       82      14   \n",
       "3   1575  ...    828   838     354       N        E     200       11       3   \n",
       "4    101  ...     48    46      33       N        E     805       40       4   \n",
       "\n",
       "   Salary  NewLeague  \n",
       "0     NaN          A  \n",
       "1   475.0          N  \n",
       "2   480.0          A  \n",
       "3   500.0          N  \n",
       "4    91.5          N  \n",
       "\n",
       "[5 rows x 21 columns]"
      ]
     },
     "execution_count": 2,
     "metadata": {},
     "output_type": "execute_result"
    }
   ],
   "source": [
    "data = pd.read_csv(r'./data/Hitters.csv')\n",
    "print(data.shape)\n",
    "data.head()"
   ]
  },
  {
   "cell_type": "code",
   "execution_count": 3,
   "metadata": {},
   "outputs": [
    {
     "data": {
      "text/plain": [
       "['Salary']"
      ]
     },
     "execution_count": 3,
     "metadata": {},
     "output_type": "execute_result"
    }
   ],
   "source": [
    "[col for col in data.columns if data[col].isnull().sum()>0]"
   ]
  },
  {
   "cell_type": "code",
   "execution_count": 4,
   "metadata": {},
   "outputs": [],
   "source": [
    "# ONly Salarty has missing values\n",
    "data.dropna(inplace = True)\n",
    "# also we don;t need the name col\n",
    "data.drop('Unnamed: 0',axis = 1,inplace = True)"
   ]
  },
  {
   "cell_type": "code",
   "execution_count": 5,
   "metadata": {},
   "outputs": [
    {
     "name": "stdout",
     "output_type": "stream",
     "text": [
      "['League', 'Division', 'NewLeague']\n"
     ]
    }
   ],
   "source": [
    "# In R, the qualitative variables are automatically converted into dummy variables, but here, we have to do it manually.\n",
    "qual_vars = [col for col in data.columns if data[col].dtype == 'O']\n",
    "print(qual_vars)"
   ]
  },
  {
   "cell_type": "code",
   "execution_count": 6,
   "metadata": {},
   "outputs": [
    {
     "data": {
      "text/html": [
       "<div>\n",
       "<style scoped>\n",
       "    .dataframe tbody tr th:only-of-type {\n",
       "        vertical-align: middle;\n",
       "    }\n",
       "\n",
       "    .dataframe tbody tr th {\n",
       "        vertical-align: top;\n",
       "    }\n",
       "\n",
       "    .dataframe thead th {\n",
       "        text-align: right;\n",
       "    }\n",
       "</style>\n",
       "<table border=\"1\" class=\"dataframe\">\n",
       "  <thead>\n",
       "    <tr style=\"text-align: right;\">\n",
       "      <th></th>\n",
       "      <th>AtBat</th>\n",
       "      <th>Hits</th>\n",
       "      <th>HmRun</th>\n",
       "      <th>Runs</th>\n",
       "      <th>RBI</th>\n",
       "      <th>Walks</th>\n",
       "      <th>Years</th>\n",
       "      <th>CAtBat</th>\n",
       "      <th>CHits</th>\n",
       "      <th>CHmRun</th>\n",
       "      <th>CRuns</th>\n",
       "      <th>CRBI</th>\n",
       "      <th>CWalks</th>\n",
       "      <th>PutOuts</th>\n",
       "      <th>Assists</th>\n",
       "      <th>Errors</th>\n",
       "      <th>Salary</th>\n",
       "      <th>League_N</th>\n",
       "      <th>Division_W</th>\n",
       "      <th>NewLeague_N</th>\n",
       "    </tr>\n",
       "  </thead>\n",
       "  <tbody>\n",
       "    <tr>\n",
       "      <th>1</th>\n",
       "      <td>315</td>\n",
       "      <td>81</td>\n",
       "      <td>7</td>\n",
       "      <td>24</td>\n",
       "      <td>38</td>\n",
       "      <td>39</td>\n",
       "      <td>14</td>\n",
       "      <td>3449</td>\n",
       "      <td>835</td>\n",
       "      <td>69</td>\n",
       "      <td>321</td>\n",
       "      <td>414</td>\n",
       "      <td>375</td>\n",
       "      <td>632</td>\n",
       "      <td>43</td>\n",
       "      <td>10</td>\n",
       "      <td>475.0</td>\n",
       "      <td>1</td>\n",
       "      <td>1</td>\n",
       "      <td>1</td>\n",
       "    </tr>\n",
       "    <tr>\n",
       "      <th>2</th>\n",
       "      <td>479</td>\n",
       "      <td>130</td>\n",
       "      <td>18</td>\n",
       "      <td>66</td>\n",
       "      <td>72</td>\n",
       "      <td>76</td>\n",
       "      <td>3</td>\n",
       "      <td>1624</td>\n",
       "      <td>457</td>\n",
       "      <td>63</td>\n",
       "      <td>224</td>\n",
       "      <td>266</td>\n",
       "      <td>263</td>\n",
       "      <td>880</td>\n",
       "      <td>82</td>\n",
       "      <td>14</td>\n",
       "      <td>480.0</td>\n",
       "      <td>0</td>\n",
       "      <td>1</td>\n",
       "      <td>0</td>\n",
       "    </tr>\n",
       "    <tr>\n",
       "      <th>3</th>\n",
       "      <td>496</td>\n",
       "      <td>141</td>\n",
       "      <td>20</td>\n",
       "      <td>65</td>\n",
       "      <td>78</td>\n",
       "      <td>37</td>\n",
       "      <td>11</td>\n",
       "      <td>5628</td>\n",
       "      <td>1575</td>\n",
       "      <td>225</td>\n",
       "      <td>828</td>\n",
       "      <td>838</td>\n",
       "      <td>354</td>\n",
       "      <td>200</td>\n",
       "      <td>11</td>\n",
       "      <td>3</td>\n",
       "      <td>500.0</td>\n",
       "      <td>1</td>\n",
       "      <td>0</td>\n",
       "      <td>1</td>\n",
       "    </tr>\n",
       "    <tr>\n",
       "      <th>4</th>\n",
       "      <td>321</td>\n",
       "      <td>87</td>\n",
       "      <td>10</td>\n",
       "      <td>39</td>\n",
       "      <td>42</td>\n",
       "      <td>30</td>\n",
       "      <td>2</td>\n",
       "      <td>396</td>\n",
       "      <td>101</td>\n",
       "      <td>12</td>\n",
       "      <td>48</td>\n",
       "      <td>46</td>\n",
       "      <td>33</td>\n",
       "      <td>805</td>\n",
       "      <td>40</td>\n",
       "      <td>4</td>\n",
       "      <td>91.5</td>\n",
       "      <td>1</td>\n",
       "      <td>0</td>\n",
       "      <td>1</td>\n",
       "    </tr>\n",
       "    <tr>\n",
       "      <th>5</th>\n",
       "      <td>594</td>\n",
       "      <td>169</td>\n",
       "      <td>4</td>\n",
       "      <td>74</td>\n",
       "      <td>51</td>\n",
       "      <td>35</td>\n",
       "      <td>11</td>\n",
       "      <td>4408</td>\n",
       "      <td>1133</td>\n",
       "      <td>19</td>\n",
       "      <td>501</td>\n",
       "      <td>336</td>\n",
       "      <td>194</td>\n",
       "      <td>282</td>\n",
       "      <td>421</td>\n",
       "      <td>25</td>\n",
       "      <td>750.0</td>\n",
       "      <td>0</td>\n",
       "      <td>1</td>\n",
       "      <td>0</td>\n",
       "    </tr>\n",
       "  </tbody>\n",
       "</table>\n",
       "</div>"
      ],
      "text/plain": [
       "   AtBat  Hits  HmRun  Runs  RBI  Walks  Years  CAtBat  CHits  CHmRun  CRuns  \\\n",
       "1    315    81      7    24   38     39     14    3449    835      69    321   \n",
       "2    479   130     18    66   72     76      3    1624    457      63    224   \n",
       "3    496   141     20    65   78     37     11    5628   1575     225    828   \n",
       "4    321    87     10    39   42     30      2     396    101      12     48   \n",
       "5    594   169      4    74   51     35     11    4408   1133      19    501   \n",
       "\n",
       "   CRBI  CWalks  PutOuts  Assists  Errors  Salary  League_N  Division_W  \\\n",
       "1   414     375      632       43      10   475.0         1           1   \n",
       "2   266     263      880       82      14   480.0         0           1   \n",
       "3   838     354      200       11       3   500.0         1           0   \n",
       "4    46      33      805       40       4    91.5         1           0   \n",
       "5   336     194      282      421      25   750.0         0           1   \n",
       "\n",
       "   NewLeague_N  \n",
       "1            1  \n",
       "2            0  \n",
       "3            1  \n",
       "4            1  \n",
       "5            0  "
      ]
     },
     "execution_count": 6,
     "metadata": {},
     "output_type": "execute_result"
    }
   ],
   "source": [
    "data = pd.get_dummies(data,columns= qual_vars,drop_first=True)\n",
    "data.head()"
   ]
  },
  {
   "cell_type": "markdown",
   "metadata": {},
   "source": [
    "# 6.6.1 Ridge Regression"
   ]
  },
  {
   "cell_type": "code",
   "execution_count": 7,
   "metadata": {},
   "outputs": [],
   "source": [
    "list_alpha = 10**np.linspace(-2,10,100)"
   ]
  },
  {
   "cell_type": "code",
   "execution_count": 8,
   "metadata": {},
   "outputs": [],
   "source": [
    "# in R, by default, the predictors are standardized\n",
    "X = data.drop('Salary',axis = 1)\n",
    "y = data['Salary']\n",
    "scaler = StandardScaler()\n",
    "X = scaler.fit_transform(X)\n",
    "# Now, X is standardised"
   ]
  },
  {
   "cell_type": "code",
   "execution_count": 9,
   "metadata": {},
   "outputs": [],
   "source": [
    "coeff_matrix = {}\n",
    "\n",
    "for alpha in list_alpha:\n",
    "  model = Ridge(alpha=alpha)\n",
    "  model.fit(X,y)\n",
    "  coeff_matrix[alpha] = list(model.coef_)"
   ]
  },
  {
   "cell_type": "code",
   "execution_count": 10,
   "metadata": {},
   "outputs": [
    {
     "data": {
      "text/html": [
       "<div>\n",
       "<style scoped>\n",
       "    .dataframe tbody tr th:only-of-type {\n",
       "        vertical-align: middle;\n",
       "    }\n",
       "\n",
       "    .dataframe tbody tr th {\n",
       "        vertical-align: top;\n",
       "    }\n",
       "\n",
       "    .dataframe thead th {\n",
       "        text-align: right;\n",
       "    }\n",
       "</style>\n",
       "<table border=\"1\" class=\"dataframe\">\n",
       "  <thead>\n",
       "    <tr style=\"text-align: right;\">\n",
       "      <th></th>\n",
       "      <th>0</th>\n",
       "      <th>1</th>\n",
       "      <th>2</th>\n",
       "      <th>3</th>\n",
       "      <th>4</th>\n",
       "      <th>5</th>\n",
       "      <th>6</th>\n",
       "      <th>7</th>\n",
       "      <th>8</th>\n",
       "      <th>9</th>\n",
       "      <th>10</th>\n",
       "      <th>11</th>\n",
       "      <th>12</th>\n",
       "      <th>13</th>\n",
       "      <th>14</th>\n",
       "      <th>15</th>\n",
       "      <th>16</th>\n",
       "      <th>17</th>\n",
       "      <th>18</th>\n",
       "    </tr>\n",
       "  </thead>\n",
       "  <tbody>\n",
       "    <tr>\n",
       "      <th>1.000000e-02</th>\n",
       "      <td>-290.918728</td>\n",
       "      <td>337.229910</td>\n",
       "      <td>37.495419</td>\n",
       "      <td>-60.017790</td>\n",
       "      <td>-26.665375</td>\n",
       "      <td>134.928045</td>\n",
       "      <td>-17.051824</td>\n",
       "      <td>-388.777849</td>\n",
       "      <td>88.580588</td>\n",
       "      <td>-12.898994</td>\n",
       "      <td>477.601029</td>\n",
       "      <td>258.387712</td>\n",
       "      <td>-213.378990</td>\n",
       "      <td>78.761482</td>\n",
       "      <td>5.365672e+01</td>\n",
       "      <td>-2.219265e+01</td>\n",
       "      <td>3.125460e+01</td>\n",
       "      <td>-58.443824</td>\n",
       "      <td>-1.238497e+01</td>\n",
       "    </tr>\n",
       "    <tr>\n",
       "      <th>1.321941e-02</th>\n",
       "      <td>-290.862746</td>\n",
       "      <td>337.039648</td>\n",
       "      <td>37.381713</td>\n",
       "      <td>-59.842092</td>\n",
       "      <td>-26.560787</td>\n",
       "      <td>134.881689</td>\n",
       "      <td>-17.166596</td>\n",
       "      <td>-388.046721</td>\n",
       "      <td>89.164057</td>\n",
       "      <td>-12.494991</td>\n",
       "      <td>476.606154</td>\n",
       "      <td>257.661560</td>\n",
       "      <td>-213.216987</td>\n",
       "      <td>78.761568</td>\n",
       "      <td>5.363224e+01</td>\n",
       "      <td>-2.220266e+01</td>\n",
       "      <td>3.125631e+01</td>\n",
       "      <td>-58.453308</td>\n",
       "      <td>-1.239630e+01</td>\n",
       "    </tr>\n",
       "    <tr>\n",
       "      <th>1.747528e-02</th>\n",
       "      <td>-290.789150</td>\n",
       "      <td>336.790313</td>\n",
       "      <td>37.232619</td>\n",
       "      <td>-59.611894</td>\n",
       "      <td>-26.423634</td>\n",
       "      <td>134.820836</td>\n",
       "      <td>-17.317830</td>\n",
       "      <td>-387.078202</td>\n",
       "      <td>89.916997</td>\n",
       "      <td>-11.967363</td>\n",
       "      <td>475.303911</td>\n",
       "      <td>256.712435</td>\n",
       "      <td>-213.005133</td>\n",
       "      <td>78.761698</td>\n",
       "      <td>5.359983e+01</td>\n",
       "      <td>-2.221573e+01</td>\n",
       "      <td>3.125844e+01</td>\n",
       "      <td>-58.465774</td>\n",
       "      <td>-1.241105e+01</td>\n",
       "    </tr>\n",
       "    <tr>\n",
       "      <th>2.310130e-02</th>\n",
       "      <td>-290.692507</td>\n",
       "      <td>336.464367</td>\n",
       "      <td>37.037600</td>\n",
       "      <td>-59.311089</td>\n",
       "      <td>-26.244216</td>\n",
       "      <td>134.741106</td>\n",
       "      <td>-17.516885</td>\n",
       "      <td>-385.794898</td>\n",
       "      <td>90.881489</td>\n",
       "      <td>-11.280807</td>\n",
       "      <td>473.604369</td>\n",
       "      <td>255.476124</td>\n",
       "      <td>-212.728953</td>\n",
       "      <td>78.761896</td>\n",
       "      <td>5.355691e+01</td>\n",
       "      <td>-2.223273e+01</td>\n",
       "      <td>3.126106e+01</td>\n",
       "      <td>-58.482132</td>\n",
       "      <td>-1.243018e+01</td>\n",
       "    </tr>\n",
       "    <tr>\n",
       "      <th>3.053856e-02</th>\n",
       "      <td>-290.565733</td>\n",
       "      <td>336.039547</td>\n",
       "      <td>36.783312</td>\n",
       "      <td>-58.919331</td>\n",
       "      <td>-26.010245</td>\n",
       "      <td>134.636895</td>\n",
       "      <td>-17.778470</td>\n",
       "      <td>-384.094384</td>\n",
       "      <td>92.105310</td>\n",
       "      <td>-10.391640</td>\n",
       "      <td>471.394628</td>\n",
       "      <td>253.872789</td>\n",
       "      <td>-212.370325</td>\n",
       "      <td>78.762198</td>\n",
       "      <td>5.350006e+01</td>\n",
       "      <td>-2.225474e+01</td>\n",
       "      <td>3.126419e+01</td>\n",
       "      <td>-58.503548</td>\n",
       "      <td>-1.245482e+01</td>\n",
       "    </tr>\n",
       "    <tr>\n",
       "      <th>...</th>\n",
       "      <td>...</td>\n",
       "      <td>...</td>\n",
       "      <td>...</td>\n",
       "      <td>...</td>\n",
       "      <td>...</td>\n",
       "      <td>...</td>\n",
       "      <td>...</td>\n",
       "      <td>...</td>\n",
       "      <td>...</td>\n",
       "      <td>...</td>\n",
       "      <td>...</td>\n",
       "      <td>...</td>\n",
       "      <td>...</td>\n",
       "      <td>...</td>\n",
       "      <td>...</td>\n",
       "      <td>...</td>\n",
       "      <td>...</td>\n",
       "      <td>...</td>\n",
       "      <td>...</td>\n",
       "    </tr>\n",
       "    <tr>\n",
       "      <th>3.274549e+09</th>\n",
       "      <td>0.000014</td>\n",
       "      <td>0.000016</td>\n",
       "      <td>0.000012</td>\n",
       "      <td>0.000015</td>\n",
       "      <td>0.000016</td>\n",
       "      <td>0.000016</td>\n",
       "      <td>0.000014</td>\n",
       "      <td>0.000019</td>\n",
       "      <td>0.000020</td>\n",
       "      <td>0.000019</td>\n",
       "      <td>0.000020</td>\n",
       "      <td>0.000021</td>\n",
       "      <td>0.000018</td>\n",
       "      <td>0.000011</td>\n",
       "      <td>9.198538e-07</td>\n",
       "      <td>-1.953073e-07</td>\n",
       "      <td>-5.164761e-07</td>\n",
       "      <td>-0.000007</td>\n",
       "      <td>-1.025022e-07</td>\n",
       "    </tr>\n",
       "    <tr>\n",
       "      <th>4.328761e+09</th>\n",
       "      <td>0.000011</td>\n",
       "      <td>0.000012</td>\n",
       "      <td>0.000009</td>\n",
       "      <td>0.000011</td>\n",
       "      <td>0.000012</td>\n",
       "      <td>0.000012</td>\n",
       "      <td>0.000011</td>\n",
       "      <td>0.000014</td>\n",
       "      <td>0.000015</td>\n",
       "      <td>0.000014</td>\n",
       "      <td>0.000015</td>\n",
       "      <td>0.000016</td>\n",
       "      <td>0.000013</td>\n",
       "      <td>0.000008</td>\n",
       "      <td>6.958357e-07</td>\n",
       "      <td>-1.477427e-07</td>\n",
       "      <td>-3.906955e-07</td>\n",
       "      <td>-0.000005</td>\n",
       "      <td>-7.753936e-08</td>\n",
       "    </tr>\n",
       "    <tr>\n",
       "      <th>5.722368e+09</th>\n",
       "      <td>0.000008</td>\n",
       "      <td>0.000009</td>\n",
       "      <td>0.000007</td>\n",
       "      <td>0.000009</td>\n",
       "      <td>0.000009</td>\n",
       "      <td>0.000009</td>\n",
       "      <td>0.000008</td>\n",
       "      <td>0.000011</td>\n",
       "      <td>0.000011</td>\n",
       "      <td>0.000011</td>\n",
       "      <td>0.000012</td>\n",
       "      <td>0.000012</td>\n",
       "      <td>0.000010</td>\n",
       "      <td>0.000006</td>\n",
       "      <td>5.263742e-07</td>\n",
       "      <td>-1.117620e-07</td>\n",
       "      <td>-2.955470e-07</td>\n",
       "      <td>-0.000004</td>\n",
       "      <td>-5.865581e-08</td>\n",
       "    </tr>\n",
       "    <tr>\n",
       "      <th>7.564633e+09</th>\n",
       "      <td>0.000006</td>\n",
       "      <td>0.000007</td>\n",
       "      <td>0.000005</td>\n",
       "      <td>0.000007</td>\n",
       "      <td>0.000007</td>\n",
       "      <td>0.000007</td>\n",
       "      <td>0.000006</td>\n",
       "      <td>0.000008</td>\n",
       "      <td>0.000009</td>\n",
       "      <td>0.000008</td>\n",
       "      <td>0.000009</td>\n",
       "      <td>0.000009</td>\n",
       "      <td>0.000008</td>\n",
       "      <td>0.000005</td>\n",
       "      <td>3.981828e-07</td>\n",
       "      <td>-8.454381e-08</td>\n",
       "      <td>-2.235706e-07</td>\n",
       "      <td>-0.000003</td>\n",
       "      <td>-4.437104e-08</td>\n",
       "    </tr>\n",
       "    <tr>\n",
       "      <th>1.000000e+10</th>\n",
       "      <td>0.000005</td>\n",
       "      <td>0.000005</td>\n",
       "      <td>0.000004</td>\n",
       "      <td>0.000005</td>\n",
       "      <td>0.000005</td>\n",
       "      <td>0.000005</td>\n",
       "      <td>0.000005</td>\n",
       "      <td>0.000006</td>\n",
       "      <td>0.000007</td>\n",
       "      <td>0.000006</td>\n",
       "      <td>0.000007</td>\n",
       "      <td>0.000007</td>\n",
       "      <td>0.000006</td>\n",
       "      <td>0.000004</td>\n",
       "      <td>3.012107e-07</td>\n",
       "      <td>-6.395428e-08</td>\n",
       "      <td>-1.691230e-07</td>\n",
       "      <td>-0.000002</td>\n",
       "      <td>-3.356510e-08</td>\n",
       "    </tr>\n",
       "  </tbody>\n",
       "</table>\n",
       "<p>100 rows × 19 columns</p>\n",
       "</div>"
      ],
      "text/plain": [
       "                      0           1          2          3          4   \\\n",
       "1.000000e-02 -290.918728  337.229910  37.495419 -60.017790 -26.665375   \n",
       "1.321941e-02 -290.862746  337.039648  37.381713 -59.842092 -26.560787   \n",
       "1.747528e-02 -290.789150  336.790313  37.232619 -59.611894 -26.423634   \n",
       "2.310130e-02 -290.692507  336.464367  37.037600 -59.311089 -26.244216   \n",
       "3.053856e-02 -290.565733  336.039547  36.783312 -58.919331 -26.010245   \n",
       "...                  ...         ...        ...        ...        ...   \n",
       "3.274549e+09    0.000014    0.000016   0.000012   0.000015   0.000016   \n",
       "4.328761e+09    0.000011    0.000012   0.000009   0.000011   0.000012   \n",
       "5.722368e+09    0.000008    0.000009   0.000007   0.000009   0.000009   \n",
       "7.564633e+09    0.000006    0.000007   0.000005   0.000007   0.000007   \n",
       "1.000000e+10    0.000005    0.000005   0.000004   0.000005   0.000005   \n",
       "\n",
       "                      5          6           7          8          9   \\\n",
       "1.000000e-02  134.928045 -17.051824 -388.777849  88.580588 -12.898994   \n",
       "1.321941e-02  134.881689 -17.166596 -388.046721  89.164057 -12.494991   \n",
       "1.747528e-02  134.820836 -17.317830 -387.078202  89.916997 -11.967363   \n",
       "2.310130e-02  134.741106 -17.516885 -385.794898  90.881489 -11.280807   \n",
       "3.053856e-02  134.636895 -17.778470 -384.094384  92.105310 -10.391640   \n",
       "...                  ...        ...         ...        ...        ...   \n",
       "3.274549e+09    0.000016   0.000014    0.000019   0.000020   0.000019   \n",
       "4.328761e+09    0.000012   0.000011    0.000014   0.000015   0.000014   \n",
       "5.722368e+09    0.000009   0.000008    0.000011   0.000011   0.000011   \n",
       "7.564633e+09    0.000007   0.000006    0.000008   0.000009   0.000008   \n",
       "1.000000e+10    0.000005   0.000005    0.000006   0.000007   0.000006   \n",
       "\n",
       "                      10          11          12         13            14  \\\n",
       "1.000000e-02  477.601029  258.387712 -213.378990  78.761482  5.365672e+01   \n",
       "1.321941e-02  476.606154  257.661560 -213.216987  78.761568  5.363224e+01   \n",
       "1.747528e-02  475.303911  256.712435 -213.005133  78.761698  5.359983e+01   \n",
       "2.310130e-02  473.604369  255.476124 -212.728953  78.761896  5.355691e+01   \n",
       "3.053856e-02  471.394628  253.872789 -212.370325  78.762198  5.350006e+01   \n",
       "...                  ...         ...         ...        ...           ...   \n",
       "3.274549e+09    0.000020    0.000021    0.000018   0.000011  9.198538e-07   \n",
       "4.328761e+09    0.000015    0.000016    0.000013   0.000008  6.958357e-07   \n",
       "5.722368e+09    0.000012    0.000012    0.000010   0.000006  5.263742e-07   \n",
       "7.564633e+09    0.000009    0.000009    0.000008   0.000005  3.981828e-07   \n",
       "1.000000e+10    0.000007    0.000007    0.000006   0.000004  3.012107e-07   \n",
       "\n",
       "                        15            16         17            18  \n",
       "1.000000e-02 -2.219265e+01  3.125460e+01 -58.443824 -1.238497e+01  \n",
       "1.321941e-02 -2.220266e+01  3.125631e+01 -58.453308 -1.239630e+01  \n",
       "1.747528e-02 -2.221573e+01  3.125844e+01 -58.465774 -1.241105e+01  \n",
       "2.310130e-02 -2.223273e+01  3.126106e+01 -58.482132 -1.243018e+01  \n",
       "3.053856e-02 -2.225474e+01  3.126419e+01 -58.503548 -1.245482e+01  \n",
       "...                    ...           ...        ...           ...  \n",
       "3.274549e+09 -1.953073e-07 -5.164761e-07  -0.000007 -1.025022e-07  \n",
       "4.328761e+09 -1.477427e-07 -3.906955e-07  -0.000005 -7.753936e-08  \n",
       "5.722368e+09 -1.117620e-07 -2.955470e-07  -0.000004 -5.865581e-08  \n",
       "7.564633e+09 -8.454381e-08 -2.235706e-07  -0.000003 -4.437104e-08  \n",
       "1.000000e+10 -6.395428e-08 -1.691230e-07  -0.000002 -3.356510e-08  \n",
       "\n",
       "[100 rows x 19 columns]"
      ]
     },
     "execution_count": 10,
     "metadata": {},
     "output_type": "execute_result"
    }
   ],
   "source": [
    "tmp = pd.DataFrame(coeff_matrix).T\n",
    "tmp.index = list_alpha\n",
    "tmp"
   ]
  },
  {
   "cell_type": "code",
   "execution_count": 11,
   "metadata": {},
   "outputs": [
    {
     "data": {
      "text/plain": [
       "<matplotlib.legend.Legend at 0x1da22ded760>"
      ]
     },
     "execution_count": 11,
     "metadata": {},
     "output_type": "execute_result"
    },
    {
     "data": {
      "image/png": "[encoded data removed]",
      "text/plain": [
       "<Figure size 1152x576 with 1 Axes>"
      ]
     },
     "metadata": {
      "needs_background": "light"
     },
     "output_type": "display_data"
    }
   ],
   "source": [
    "plt.figure(figsize = (16,8))\n",
    "sns.lineplot(data = tmp, dashes=False)\n",
    "plt.axhline(y = 0,linestyle = 'dashed',lw = 0.1,color = 'black')\n",
    "plt.xscale('log')\n",
    "plt.xticks(list_alpha)\n",
    "plt.ylabel('Coeffients',fontsize = 14)\n",
    "plt.xlabel('Alpha')\n",
    "plt.legend(loc='right')"
   ]
  },
  {
   "cell_type": "code",
   "execution_count": 12,
   "metadata": {},
   "outputs": [
    {
     "name": "stdout",
     "output_type": "stream",
     "text": [
      "[-289.51865327020033, 332.67911842339134, 34.779441936715294, -55.8447822963307, -24.166567449874105, 133.80205477153677, -19.909741728267363, -369.742687501733, 100.54237339890794, -3.614039922941853, 454.205685660006, 241.57214343742038, -209.5884504988249, 78.76557723286005, 53.01946396095706, -22.423285078781092, 31.278539444237804, -58.67555869272168, -12.63857792962912]\n"
     ]
    }
   ],
   "source": [
    "#for a small value of aplpha, the coeff are - \n",
    "print(coeff_matrix[list_alpha[8]])"
   ]
  },
  {
   "cell_type": "code",
   "execution_count": 13,
   "metadata": {},
   "outputs": [
    {
     "name": "stdout",
     "output_type": "stream",
     "text": [
      "[5.763318248704298e-05, 6.40427770922997e-05, 5.007915350288836e-05, 6.129576852892078e-05, 6.561689194262846e-05, 6.480083916119167e-05, 5.849247359810473e-05, 7.681124525639192e-05, 8.013609785207737e-05, 7.663536669557499e-05, 8.214613025072635e-05, 8.277213810215086e-05, 7.150981326993898e-05, 4.386760495701926e-05, 3.713461226222579e-06, -7.8846092396675e-07, -2.08500226533533e-06, -2.810549748199536e-05, -4.13788785581499e-07]\n"
     ]
    }
   ],
   "source": [
    "# for a large value of alpha, the coeff are - \n",
    "print(coeff_matrix[list_alpha[90]])"
   ]
  },
  {
   "cell_type": "markdown",
   "metadata": {},
   "source": [
    "#### we can see that for large values for lambda the ceoff are very very small, although none is equal to 0."
   ]
  },
  {
   "cell_type": "code",
   "execution_count": 14,
   "metadata": {},
   "outputs": [],
   "source": [
    "list_l2_norm = []\n",
    "for alpha in list_alpha:\n",
    "  list_l2_norm.append(np.linalg.norm(coeff_matrix[alpha]))"
   ]
  },
  {
   "cell_type": "code",
   "execution_count": 16,
   "metadata": {},
   "outputs": [
    {
     "data": {
      "text/plain": [
       "(0.0, 100.0)"
      ]
     },
     "execution_count": 16,
     "metadata": {},
     "output_type": "execute_result"
    },
    {
     "data": {
      "image/png": "[encoded data removed]",
      "text/plain": [
       "<Figure size 1260x540 with 1 Axes>"
      ]
     },
     "metadata": {
      "needs_background": "light"
     },
     "output_type": "display_data"
    }
   ],
   "source": [
    "plt.figure(figsize = (14,6), dpi=90)\n",
    "plt.plot(list_alpha,list_l2_norm)\n",
    "plt.xlabel('Alpha')\n",
    "plt.ylabel('L2 Norm')\n",
    "plt.xlim(0,100)"
   ]
  },
  {
   "cell_type": "markdown",
   "metadata": {},
   "source": [
    "#### this is the relationship between, l2 norm, and alpha, We can see that as X increases, l2 norm decreases. Which means \n",
    "#### the size of the coefficients are decreasing"
   ]
  },
  {
   "cell_type": "markdown",
   "metadata": {},
   "source": [
    "### Selecting the best value of alpha"
   ]
  },
  {
   "cell_type": "code",
   "execution_count": 17,
   "metadata": {},
   "outputs": [],
   "source": [
    "# Using validation approach\n",
    "X_train,X_test,y_train,y_test = train_test_split(data.drop('Salary',axis = 1),data['Salary'],test_size = 0.3,random_state = 1)"
   ]
  },
  {
   "cell_type": "code",
   "execution_count": 18,
   "metadata": {},
   "outputs": [],
   "source": [
    "validation_score = []\n",
    "for alpha in list_alpha:\n",
    "  model = Ridge(alpha=alpha)\n",
    "  model.fit(X_train,y_train)\n",
    "  validation_score.append(mean_squared_error(model.predict(X_test),y_test)*len(y_test))"
   ]
  },
  {
   "cell_type": "code",
   "execution_count": 20,
   "metadata": {},
   "outputs": [
    {
     "data": {
      "image/png": "[encoded data removed]",
      "text/plain": [
       "<Figure size 432x288 with 1 Axes>"
      ]
     },
     "metadata": {
      "needs_background": "light"
     },
     "output_type": "display_data"
    }
   ],
   "source": [
    "sns.lineplot(x=list_alpha, y=validation_score)\n",
    "plt.xscale('log')"
   ]
  },
  {
   "cell_type": "code",
   "execution_count": 21,
   "metadata": {},
   "outputs": [
    {
     "data": {
      "text/plain": [
       "52"
      ]
     },
     "execution_count": 21,
     "metadata": {},
     "output_type": "execute_result"
    }
   ],
   "source": [
    "np.argmin(validation_score)"
   ]
  },
  {
   "cell_type": "markdown",
   "metadata": {},
   "source": [
    "## Lasso"
   ]
  },
  {
   "cell_type": "code",
   "execution_count": 31,
   "metadata": {},
   "outputs": [
    {
     "data": {
      "text/plain": [
       "dtype('float64')"
      ]
     },
     "execution_count": 31,
     "metadata": {},
     "output_type": "execute_result"
    }
   ],
   "source": [
    "list_alpha = 10**np.linspace(-2,10,100)\n",
    "list_alpha.dtype"
   ]
  },
  {
   "cell_type": "code",
   "execution_count": 32,
   "metadata": {},
   "outputs": [],
   "source": [
    "# in R, by default, the predictors are standardized\n",
    "X = data.drop('Salary',axis = 1)\n",
    "y = data['Salary']\n",
    "scaler = StandardScaler()\n",
    "X = scaler.fit_transform(X)\n",
    "# Now, X is standardised"
   ]
  },
  {
   "cell_type": "code",
   "execution_count": 38,
   "metadata": {},
   "outputs": [],
   "source": [
    "# to ignore warnings\n",
    "import warnings\n",
    "warnings.filterwarnings(\"ignore\")\n",
    "\n",
    "coeff_matrix = {}\n",
    "\n",
    "for alpha in list_alpha:\n",
    "  model = Lasso(alpha=alpha)\n",
    "  model.fit(X,y)\n",
    "  coeff_matrix[alpha] = list(model.coef_)"
   ]
  },
  {
   "cell_type": "code",
   "execution_count": 39,
   "metadata": {},
   "outputs": [
    {
     "data": {
      "text/html": [
       "<div>\n",
       "<style scoped>\n",
       "    .dataframe tbody tr th:only-of-type {\n",
       "        vertical-align: middle;\n",
       "    }\n",
       "\n",
       "    .dataframe tbody tr th {\n",
       "        vertical-align: top;\n",
       "    }\n",
       "\n",
       "    .dataframe thead th {\n",
       "        text-align: right;\n",
       "    }\n",
       "</style>\n",
       "<table border=\"1\" class=\"dataframe\">\n",
       "  <thead>\n",
       "    <tr style=\"text-align: right;\">\n",
       "      <th></th>\n",
       "      <th>0</th>\n",
       "      <th>1</th>\n",
       "      <th>2</th>\n",
       "      <th>3</th>\n",
       "      <th>4</th>\n",
       "      <th>5</th>\n",
       "      <th>6</th>\n",
       "      <th>7</th>\n",
       "      <th>8</th>\n",
       "      <th>9</th>\n",
       "      <th>10</th>\n",
       "      <th>11</th>\n",
       "      <th>12</th>\n",
       "      <th>13</th>\n",
       "      <th>14</th>\n",
       "      <th>15</th>\n",
       "      <th>16</th>\n",
       "      <th>17</th>\n",
       "      <th>18</th>\n",
       "    </tr>\n",
       "  </thead>\n",
       "  <tbody>\n",
       "    <tr>\n",
       "      <th>0.010000</th>\n",
       "      <td>-286.905007</td>\n",
       "      <td>331.363096</td>\n",
       "      <td>36.212359</td>\n",
       "      <td>-57.357808</td>\n",
       "      <td>-25.658648</td>\n",
       "      <td>133.787447</td>\n",
       "      <td>-14.313048</td>\n",
       "      <td>-422.215279</td>\n",
       "      <td>133.673334</td>\n",
       "      <td>-4.578178</td>\n",
       "      <td>464.460502</td>\n",
       "      <td>246.073678</td>\n",
       "      <td>-208.802960</td>\n",
       "      <td>78.639945</td>\n",
       "      <td>54.350452</td>\n",
       "      <td>-22.467425</td>\n",
       "      <td>31.583507</td>\n",
       "      <td>-58.365877</td>\n",
       "      <td>-12.672573</td>\n",
       "    </tr>\n",
       "    <tr>\n",
       "      <th>0.013219</th>\n",
       "      <td>-286.950122</td>\n",
       "      <td>331.325695</td>\n",
       "      <td>36.091031</td>\n",
       "      <td>-57.257930</td>\n",
       "      <td>-25.528647</td>\n",
       "      <td>133.747959</td>\n",
       "      <td>-14.398744</td>\n",
       "      <td>-420.990800</td>\n",
       "      <td>132.935083</td>\n",
       "      <td>-4.435307</td>\n",
       "      <td>464.206011</td>\n",
       "      <td>245.764342</td>\n",
       "      <td>-208.778380</td>\n",
       "      <td>78.644615</td>\n",
       "      <td>54.304079</td>\n",
       "      <td>-22.452758</td>\n",
       "      <td>31.554027</td>\n",
       "      <td>-58.363511</td>\n",
       "      <td>-12.643337</td>\n",
       "    </tr>\n",
       "    <tr>\n",
       "      <th>0.017475</th>\n",
       "      <td>-287.009869</td>\n",
       "      <td>331.275922</td>\n",
       "      <td>35.930298</td>\n",
       "      <td>-57.125588</td>\n",
       "      <td>-25.356432</td>\n",
       "      <td>133.695761</td>\n",
       "      <td>-14.512163</td>\n",
       "      <td>-419.372611</td>\n",
       "      <td>131.963418</td>\n",
       "      <td>-4.244520</td>\n",
       "      <td>463.867405</td>\n",
       "      <td>245.352140</td>\n",
       "      <td>-208.745736</td>\n",
       "      <td>78.650806</td>\n",
       "      <td>54.242814</td>\n",
       "      <td>-22.433398</td>\n",
       "      <td>31.515092</td>\n",
       "      <td>-58.360387</td>\n",
       "      <td>-12.604741</td>\n",
       "    </tr>\n",
       "    <tr>\n",
       "      <th>0.023101</th>\n",
       "      <td>-287.089063</td>\n",
       "      <td>331.210178</td>\n",
       "      <td>35.717682</td>\n",
       "      <td>-56.950581</td>\n",
       "      <td>-25.128615</td>\n",
       "      <td>133.626802</td>\n",
       "      <td>-14.662262</td>\n",
       "      <td>-417.232465</td>\n",
       "      <td>130.679408</td>\n",
       "      <td>-3.991625</td>\n",
       "      <td>463.419197</td>\n",
       "      <td>244.805989</td>\n",
       "      <td>-208.702686</td>\n",
       "      <td>78.659004</td>\n",
       "      <td>54.161818</td>\n",
       "      <td>-22.407810</td>\n",
       "      <td>31.463628</td>\n",
       "      <td>-58.356260</td>\n",
       "      <td>-12.553732</td>\n",
       "    </tr>\n",
       "    <tr>\n",
       "      <th>0.030539</th>\n",
       "      <td>-287.193575</td>\n",
       "      <td>331.122512</td>\n",
       "      <td>35.436185</td>\n",
       "      <td>-56.718727</td>\n",
       "      <td>-24.827025</td>\n",
       "      <td>133.535567</td>\n",
       "      <td>-14.860641</td>\n",
       "      <td>-414.406159</td>\n",
       "      <td>128.989613</td>\n",
       "      <td>-3.654757</td>\n",
       "      <td>462.823461</td>\n",
       "      <td>244.079779</td>\n",
       "      <td>-208.645293</td>\n",
       "      <td>78.669850</td>\n",
       "      <td>54.054836</td>\n",
       "      <td>-22.374038</td>\n",
       "      <td>31.395662</td>\n",
       "      <td>-58.350806</td>\n",
       "      <td>-12.486383</td>\n",
       "    </tr>\n",
       "  </tbody>\n",
       "</table>\n",
       "</div>"
      ],
      "text/plain": [
       "                  0           1          2          3          4           5   \\\n",
       "0.010000 -286.905007  331.363096  36.212359 -57.357808 -25.658648  133.787447   \n",
       "0.013219 -286.950122  331.325695  36.091031 -57.257930 -25.528647  133.747959   \n",
       "0.017475 -287.009869  331.275922  35.930298 -57.125588 -25.356432  133.695761   \n",
       "0.023101 -287.089063  331.210178  35.717682 -56.950581 -25.128615  133.626802   \n",
       "0.030539 -287.193575  331.122512  35.436185 -56.718727 -24.827025  133.535567   \n",
       "\n",
       "                 6           7           8         9           10          11  \\\n",
       "0.010000 -14.313048 -422.215279  133.673334 -4.578178  464.460502  246.073678   \n",
       "0.013219 -14.398744 -420.990800  132.935083 -4.435307  464.206011  245.764342   \n",
       "0.017475 -14.512163 -419.372611  131.963418 -4.244520  463.867405  245.352140   \n",
       "0.023101 -14.662262 -417.232465  130.679408 -3.991625  463.419197  244.805989   \n",
       "0.030539 -14.860641 -414.406159  128.989613 -3.654757  462.823461  244.079779   \n",
       "\n",
       "                  12         13         14         15         16         17  \\\n",
       "0.010000 -208.802960  78.639945  54.350452 -22.467425  31.583507 -58.365877   \n",
       "0.013219 -208.778380  78.644615  54.304079 -22.452758  31.554027 -58.363511   \n",
       "0.017475 -208.745736  78.650806  54.242814 -22.433398  31.515092 -58.360387   \n",
       "0.023101 -208.702686  78.659004  54.161818 -22.407810  31.463628 -58.356260   \n",
       "0.030539 -208.645293  78.669850  54.054836 -22.374038  31.395662 -58.350806   \n",
       "\n",
       "                 18  \n",
       "0.010000 -12.672573  \n",
       "0.013219 -12.643337  \n",
       "0.017475 -12.604741  \n",
       "0.023101 -12.553732  \n",
       "0.030539 -12.486383  "
      ]
     },
     "execution_count": 39,
     "metadata": {},
     "output_type": "execute_result"
    }
   ],
   "source": [
    "tmp = pd.DataFrame(coeff_matrix).T\n",
    "tmp.index = list_alpha\n",
    "tmp.head()"
   ]
  },
  {
   "cell_type": "code",
   "execution_count": 40,
   "metadata": {},
   "outputs": [
    {
     "data": {
      "text/plain": [
       "<matplotlib.legend.Legend at 0x1da23b6ff70>"
      ]
     },
     "execution_count": 40,
     "metadata": {},
     "output_type": "execute_result"
    },
    {
     "data": {
      "image/png": "[encoded data removed]",
      "text/plain": [
       "<Figure size 1152x576 with 1 Axes>"
      ]
     },
     "metadata": {
      "needs_background": "light"
     },
     "output_type": "display_data"
    }
   ],
   "source": [
    "plt.figure(figsize = (16,8))\n",
    "sns.lineplot(data = tmp, dashes=False)\n",
    "plt.axhline(y = 0,linestyle = 'dashed',lw = 0.1,color = 'black')\n",
    "plt.xscale('log')\n",
    "plt.xticks(list_alpha)\n",
    "plt.ylabel('Coeffients',fontsize = 14)\n",
    "plt.xlabel('Alpha')\n",
    "plt.legend(loc='right')"
   ]
  },
  {
   "cell_type": "code",
   "execution_count": 41,
   "metadata": {},
   "outputs": [
    {
     "name": "stdout",
     "output_type": "stream",
     "text": [
      "[-288.06252906937317, 330.3698119988722, 33.06222643992311, -54.759037031179844, -22.284629558490984, 132.76311903093168, -16.525200498349694, -390.65923055726637, 114.82688141722784, -0.8084173075275888, 457.7814835607462, 237.95136546687874, -208.14987606522283, 78.76080852606087, 53.15428784246409, -22.0898409876407, 30.82323924266085, -58.30463802012481, -11.91895965736175]\n"
     ]
    }
   ],
   "source": [
    "#for a small value of aplpha, the coeff are - \n",
    "print(coeff_matrix[list_alpha[8]])"
   ]
  },
  {
   "cell_type": "code",
   "execution_count": 42,
   "metadata": {},
   "outputs": [
    {
     "name": "stdout",
     "output_type": "stream",
     "text": [
      "[0.0, 0.0, 0.0, 0.0, 0.0, 0.0, 0.0, 0.0, 0.0, 0.0, 0.0, 0.0, 0.0, 0.0, 0.0, -0.0, -0.0, -0.0, -0.0]\n"
     ]
    }
   ],
   "source": [
    "# for a large value of alpha, the coeff are - \n",
    "print(coeff_matrix[list_alpha[90]])"
   ]
  },
  {
   "cell_type": "markdown",
   "metadata": {},
   "source": [
    "#### we can see that for large values for lambda the ceoff are exactly zero, we can compare this with what we got from ridge."
   ]
  },
  {
   "cell_type": "code",
   "execution_count": 44,
   "metadata": {},
   "outputs": [],
   "source": [
    "list_l2_norm = []\n",
    "for alpha in list_alpha:\n",
    "  list_l2_norm.append(np.linalg.norm(coeff_matrix[alpha]))"
   ]
  },
  {
   "cell_type": "code",
   "execution_count": 45,
   "metadata": {},
   "outputs": [
    {
     "data": {
      "text/plain": [
       "(0.0, 100.0)"
      ]
     },
     "execution_count": 45,
     "metadata": {},
     "output_type": "execute_result"
    },
    {
     "data": {
      "image/png": "[encoded data removed]",
      "text/plain": [
       "<Figure size 1008x432 with 1 Axes>"
      ]
     },
     "metadata": {
      "needs_background": "light"
     },
     "output_type": "display_data"
    }
   ],
   "source": [
    "plt.figure(figsize = (14,6))\n",
    "plt.plot(list_alpha,list_l2_norm)\n",
    "plt.xlabel('Alpha')\n",
    "plt.ylabel('L2 Norm')\n",
    "plt.xlim(0,100)"
   ]
  },
  {
   "cell_type": "markdown",
   "metadata": {},
   "source": [
    "#### this is the relationship between, l2 norm, and alpha, We can see that as X increases, l2 norm decreases. Which means \n",
    "#### the size of the coefficients are decreasing, but the decrease is not that smooth as it was in the case of Ridge regression"
   ]
  },
  {
   "cell_type": "markdown",
   "metadata": {},
   "source": [
    "## Selecting the best value of alpha, this time using cross validation"
   ]
  },
  {
   "cell_type": "code",
   "execution_count": 47,
   "metadata": {},
   "outputs": [
    {
     "data": {
      "text/plain": [
       "GridSearchCV(estimator=Lasso(),\n",
       "             param_grid={'alpha': array([1.00000000e-02, 1.32194115e-02, 1.74752840e-02, 2.31012970e-02,\n",
       "       3.05385551e-02, 4.03701726e-02, 5.33669923e-02, 7.05480231e-02,\n",
       "       9.32603347e-02, 1.23284674e-01, 1.62975083e-01, 2.15443469e-01,\n",
       "       2.84803587e-01, 3.76493581e-01, 4.97702356e-01, 6.57933225e-01,\n",
       "       8.69749003e-01, 1.14975700e+00, 1.51991108e+00, 2.00923...\n",
       "       1.62975083e+07, 2.15443469e+07, 2.84803587e+07, 3.76493581e+07,\n",
       "       4.97702356e+07, 6.57933225e+07, 8.69749003e+07, 1.14975700e+08,\n",
       "       1.51991108e+08, 2.00923300e+08, 2.65608778e+08, 3.51119173e+08,\n",
       "       4.64158883e+08, 6.13590727e+08, 8.11130831e+08, 1.07226722e+09,\n",
       "       1.41747416e+09, 1.87381742e+09, 2.47707636e+09, 3.27454916e+09,\n",
       "       4.32876128e+09, 5.72236766e+09, 7.56463328e+09, 1.00000000e+10])})"
      ]
     },
     "execution_count": 47,
     "metadata": {},
     "output_type": "execute_result"
    }
   ],
   "source": [
    "parameters = {'alpha':list_alpha}\n",
    "lasso = Lasso()\n",
    "model = GridSearchCV(lasso,parameters)\n",
    "model.fit(data.drop('Salary',axis = 1),data['Salary'])"
   ]
  },
  {
   "cell_type": "code",
   "execution_count": 48,
   "metadata": {},
   "outputs": [
    {
     "data": {
      "text/plain": [
       "Lasso(alpha=174.7528400007683)"
      ]
     },
     "execution_count": 48,
     "metadata": {},
     "output_type": "execute_result"
    }
   ],
   "source": [
    "best_model = model.best_estimator_\n",
    "best_model\n",
    "# value of alpha is 174.75"
   ]
  },
  {
   "cell_type": "code",
   "execution_count": 49,
   "metadata": {},
   "outputs": [
    {
     "data": {
      "text/plain": [
       "array([-1.39313334,  5.00607536,  0.        ,  0.        ,  0.        ,\n",
       "        4.11310808, -0.        , -0.24893363,  0.43432675,  0.        ,\n",
       "        1.19379874,  0.72902921, -0.49482578,  0.28710204,  0.24005195,\n",
       "       -0.        ,  0.        , -0.        ,  0.        ])"
      ]
     },
     "execution_count": 49,
     "metadata": {},
     "output_type": "execute_result"
    }
   ],
   "source": [
    "# this is the model that is choosen\n",
    "best_model.coef_"
   ]
  },
  {
   "cell_type": "markdown",
   "metadata": {},
   "source": [
    "#### We can see that only 10 coeffficients are having non zero weights. "
   ]
  },
  {
   "cell_type": "code",
   "execution_count": 52,
   "metadata": {},
   "outputs": [
    {
     "data": {
      "text/html": [
       "<div>\n",
       "<style scoped>\n",
       "    .dataframe tbody tr th:only-of-type {\n",
       "        vertical-align: middle;\n",
       "    }\n",
       "\n",
       "    .dataframe tbody tr th {\n",
       "        vertical-align: top;\n",
       "    }\n",
       "\n",
       "    .dataframe thead th {\n",
       "        text-align: right;\n",
       "    }\n",
       "</style>\n",
       "<table border=\"1\" class=\"dataframe\">\n",
       "  <thead>\n",
       "    <tr style=\"text-align: right;\">\n",
       "      <th></th>\n",
       "      <th>Coefficients</th>\n",
       "    </tr>\n",
       "  </thead>\n",
       "  <tbody>\n",
       "    <tr>\n",
       "      <th>AtBat</th>\n",
       "      <td>-1.393133</td>\n",
       "    </tr>\n",
       "    <tr>\n",
       "      <th>Hits</th>\n",
       "      <td>5.006075</td>\n",
       "    </tr>\n",
       "    <tr>\n",
       "      <th>HmRun</th>\n",
       "      <td>0.000000</td>\n",
       "    </tr>\n",
       "    <tr>\n",
       "      <th>Runs</th>\n",
       "      <td>0.000000</td>\n",
       "    </tr>\n",
       "    <tr>\n",
       "      <th>RBI</th>\n",
       "      <td>0.000000</td>\n",
       "    </tr>\n",
       "    <tr>\n",
       "      <th>Walks</th>\n",
       "      <td>4.113108</td>\n",
       "    </tr>\n",
       "    <tr>\n",
       "      <th>Years</th>\n",
       "      <td>-0.000000</td>\n",
       "    </tr>\n",
       "    <tr>\n",
       "      <th>CAtBat</th>\n",
       "      <td>-0.248934</td>\n",
       "    </tr>\n",
       "    <tr>\n",
       "      <th>CHits</th>\n",
       "      <td>0.434327</td>\n",
       "    </tr>\n",
       "    <tr>\n",
       "      <th>CHmRun</th>\n",
       "      <td>0.000000</td>\n",
       "    </tr>\n",
       "    <tr>\n",
       "      <th>CRuns</th>\n",
       "      <td>1.193799</td>\n",
       "    </tr>\n",
       "    <tr>\n",
       "      <th>CRBI</th>\n",
       "      <td>0.729029</td>\n",
       "    </tr>\n",
       "    <tr>\n",
       "      <th>CWalks</th>\n",
       "      <td>-0.494826</td>\n",
       "    </tr>\n",
       "    <tr>\n",
       "      <th>PutOuts</th>\n",
       "      <td>0.287102</td>\n",
       "    </tr>\n",
       "    <tr>\n",
       "      <th>Assists</th>\n",
       "      <td>0.240052</td>\n",
       "    </tr>\n",
       "    <tr>\n",
       "      <th>Errors</th>\n",
       "      <td>-0.000000</td>\n",
       "    </tr>\n",
       "    <tr>\n",
       "      <th>League_N</th>\n",
       "      <td>0.000000</td>\n",
       "    </tr>\n",
       "    <tr>\n",
       "      <th>Division_W</th>\n",
       "      <td>-0.000000</td>\n",
       "    </tr>\n",
       "    <tr>\n",
       "      <th>NewLeague_N</th>\n",
       "      <td>0.000000</td>\n",
       "    </tr>\n",
       "  </tbody>\n",
       "</table>\n",
       "</div>"
      ],
      "text/plain": [
       "             Coefficients\n",
       "AtBat           -1.393133\n",
       "Hits             5.006075\n",
       "HmRun            0.000000\n",
       "Runs             0.000000\n",
       "RBI              0.000000\n",
       "Walks            4.113108\n",
       "Years           -0.000000\n",
       "CAtBat          -0.248934\n",
       "CHits            0.434327\n",
       "CHmRun           0.000000\n",
       "CRuns            1.193799\n",
       "CRBI             0.729029\n",
       "CWalks          -0.494826\n",
       "PutOuts          0.287102\n",
       "Assists          0.240052\n",
       "Errors          -0.000000\n",
       "League_N         0.000000\n",
       "Division_W      -0.000000\n",
       "NewLeague_N      0.000000"
      ]
     },
     "execution_count": 52,
     "metadata": {},
     "output_type": "execute_result"
    }
   ],
   "source": [
    "pd.DataFrame({'Coefficients':list(best_model.coef_)},index = list(data.drop('Salary',axis = 1).columns))"
   ]
  },
  {
   "cell_type": "code",
   "execution_count": null,
   "metadata": {},
   "outputs": [],
   "source": []
  }
 ],
 "metadata": {
  "kernelspec": {
   "display_name": "Python 3",
   "language": "python",
   "name": "python3"
  },
  "language_info": {
   "codemirror_mode": {
    "name": "ipython",
    "version": 3
   },
   "file_extension": ".py",
   "mimetype": "text/x-python",
   "name": "python",
   "nbconvert_exporter": "python",
   "pygments_lexer": "ipython3",
   "version": "3.8.3"
  }
 },
 "nbformat": 4,
 "nbformat_minor": 4
}
