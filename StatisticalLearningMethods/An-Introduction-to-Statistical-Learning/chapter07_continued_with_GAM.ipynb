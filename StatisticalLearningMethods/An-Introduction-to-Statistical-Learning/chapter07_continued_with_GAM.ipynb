{
 "cells": [
  {
   "cell_type": "markdown",
   "metadata": {},
   "source": [
    "# 7.8.3 GAM"
   ]
  },
  {
   "cell_type": "code",
   "execution_count": 1,
   "metadata": {},
   "outputs": [],
   "source": [
    "import pandas as pd\n",
    "import numpy as np\n",
    "\n",
    "import statsmodels.api as sm\n",
    "import statsmodels.formula.api as smf\n",
    "from sklearn.preprocessing import PolynomialFeatures\n",
    "from sklearn.linear_model import LinearRegression\n",
    "from patsy import dmatrix\n",
    "\n",
    "import matplotlib.pyplot as plt\n",
    "%matplotlib inline\n",
    "import seaborn as sns"
   ]
  },
  {
   "cell_type": "code",
   "execution_count": 2,
   "metadata": {},
   "outputs": [
    {
     "name": "stdout",
     "output_type": "stream",
     "text": [
      "(3000, 13)\n"
     ]
    },
    {
     "data": {
      "text/html": [
       "<div>\n",
       "<style scoped>\n",
       "    .dataframe tbody tr th:only-of-type {\n",
       "        vertical-align: middle;\n",
       "    }\n",
       "\n",
       "    .dataframe tbody tr th {\n",
       "        vertical-align: top;\n",
       "    }\n",
       "\n",
       "    .dataframe thead th {\n",
       "        text-align: right;\n",
       "    }\n",
       "</style>\n",
       "<table border=\"1\" class=\"dataframe\">\n",
       "  <thead>\n",
       "    <tr style=\"text-align: right;\">\n",
       "      <th></th>\n",
       "      <th>Unnamed: 0</th>\n",
       "      <th>year</th>\n",
       "      <th>age</th>\n",
       "      <th>sex</th>\n",
       "      <th>maritl</th>\n",
       "      <th>race</th>\n",
       "      <th>education</th>\n",
       "      <th>region</th>\n",
       "      <th>jobclass</th>\n",
       "      <th>health</th>\n",
       "      <th>health_ins</th>\n",
       "      <th>logwage</th>\n",
       "      <th>wage</th>\n",
       "    </tr>\n",
       "  </thead>\n",
       "  <tbody>\n",
       "    <tr>\n",
       "      <th>0</th>\n",
       "      <td>231655</td>\n",
       "      <td>2006</td>\n",
       "      <td>18</td>\n",
       "      <td>1. Male</td>\n",
       "      <td>1. Never Married</td>\n",
       "      <td>1. White</td>\n",
       "      <td>1. &lt; HS Grad</td>\n",
       "      <td>2. Middle Atlantic</td>\n",
       "      <td>1. Industrial</td>\n",
       "      <td>1. &lt;=Good</td>\n",
       "      <td>2. No</td>\n",
       "      <td>4.318063</td>\n",
       "      <td>75.043154</td>\n",
       "    </tr>\n",
       "    <tr>\n",
       "      <th>1</th>\n",
       "      <td>86582</td>\n",
       "      <td>2004</td>\n",
       "      <td>24</td>\n",
       "      <td>1. Male</td>\n",
       "      <td>1. Never Married</td>\n",
       "      <td>1. White</td>\n",
       "      <td>4. College Grad</td>\n",
       "      <td>2. Middle Atlantic</td>\n",
       "      <td>2. Information</td>\n",
       "      <td>2. &gt;=Very Good</td>\n",
       "      <td>2. No</td>\n",
       "      <td>4.255273</td>\n",
       "      <td>70.476020</td>\n",
       "    </tr>\n",
       "    <tr>\n",
       "      <th>2</th>\n",
       "      <td>161300</td>\n",
       "      <td>2003</td>\n",
       "      <td>45</td>\n",
       "      <td>1. Male</td>\n",
       "      <td>2. Married</td>\n",
       "      <td>1. White</td>\n",
       "      <td>3. Some College</td>\n",
       "      <td>2. Middle Atlantic</td>\n",
       "      <td>1. Industrial</td>\n",
       "      <td>1. &lt;=Good</td>\n",
       "      <td>1. Yes</td>\n",
       "      <td>4.875061</td>\n",
       "      <td>130.982177</td>\n",
       "    </tr>\n",
       "    <tr>\n",
       "      <th>3</th>\n",
       "      <td>155159</td>\n",
       "      <td>2003</td>\n",
       "      <td>43</td>\n",
       "      <td>1. Male</td>\n",
       "      <td>2. Married</td>\n",
       "      <td>3. Asian</td>\n",
       "      <td>4. College Grad</td>\n",
       "      <td>2. Middle Atlantic</td>\n",
       "      <td>2. Information</td>\n",
       "      <td>2. &gt;=Very Good</td>\n",
       "      <td>1. Yes</td>\n",
       "      <td>5.041393</td>\n",
       "      <td>154.685293</td>\n",
       "    </tr>\n",
       "    <tr>\n",
       "      <th>4</th>\n",
       "      <td>11443</td>\n",
       "      <td>2005</td>\n",
       "      <td>50</td>\n",
       "      <td>1. Male</td>\n",
       "      <td>4. Divorced</td>\n",
       "      <td>1. White</td>\n",
       "      <td>2. HS Grad</td>\n",
       "      <td>2. Middle Atlantic</td>\n",
       "      <td>2. Information</td>\n",
       "      <td>1. &lt;=Good</td>\n",
       "      <td>1. Yes</td>\n",
       "      <td>4.318063</td>\n",
       "      <td>75.043154</td>\n",
       "    </tr>\n",
       "  </tbody>\n",
       "</table>\n",
       "</div>"
      ],
      "text/plain": [
       "   Unnamed: 0  year  age      sex            maritl      race  \\\n",
       "0      231655  2006   18  1. Male  1. Never Married  1. White   \n",
       "1       86582  2004   24  1. Male  1. Never Married  1. White   \n",
       "2      161300  2003   45  1. Male        2. Married  1. White   \n",
       "3      155159  2003   43  1. Male        2. Married  3. Asian   \n",
       "4       11443  2005   50  1. Male       4. Divorced  1. White   \n",
       "\n",
       "         education              region        jobclass          health  \\\n",
       "0     1. < HS Grad  2. Middle Atlantic   1. Industrial       1. <=Good   \n",
       "1  4. College Grad  2. Middle Atlantic  2. Information  2. >=Very Good   \n",
       "2  3. Some College  2. Middle Atlantic   1. Industrial       1. <=Good   \n",
       "3  4. College Grad  2. Middle Atlantic  2. Information  2. >=Very Good   \n",
       "4       2. HS Grad  2. Middle Atlantic  2. Information       1. <=Good   \n",
       "\n",
       "  health_ins   logwage        wage  \n",
       "0      2. No  4.318063   75.043154  \n",
       "1      2. No  4.255273   70.476020  \n",
       "2     1. Yes  4.875061  130.982177  \n",
       "3     1. Yes  5.041393  154.685293  \n",
       "4     1. Yes  4.318063   75.043154  "
      ]
     },
     "execution_count": 2,
     "metadata": {},
     "output_type": "execute_result"
    }
   ],
   "source": [
    "data = pd.read_csv(r'./data/Wage.csv')\n",
    "print(data.shape)\n",
    "data.head()"
   ]
  },
  {
   "cell_type": "code",
   "execution_count": 3,
   "metadata": {},
   "outputs": [
    {
     "name": "stdout",
     "output_type": "stream",
     "text": [
      "int64\n",
      "[1 4 3 2 5]\n"
     ]
    }
   ],
   "source": [
    "# the first col dones't seem to be that relevant\n",
    "data = data.iloc[:,1:]\n",
    "\n",
    "# encoding eduation column\n",
    "data['education'].unique()\n",
    "# we can see it has some numbers, so, lets use that for encoding\n",
    "\n",
    "data['education'] = data['education'].map(lambda x: int(x[0]))\n",
    "print(data['education'].dtype)\n",
    "print(data['education'].unique())"
   ]
  },
  {
   "cell_type": "code",
   "execution_count": 4,
   "metadata": {},
   "outputs": [],
   "source": [
    "# \"GAM is just a big linear regression model using an appropriate choice of basis functions\" - taken from book\n",
    "# so, for generative additive models, we create a matrix from patsy.dmatrix, which will be a combination of several functions, \n",
    "# like cubic splines, natural spline. etc, hence it has additive models in its name\n",
    "# we are cuurently working on this line in the book - > gam1=lm(wage∼ns(year ,4)+ns(age ,5)+education ,data=Wage)"
   ]
  },
  {
   "cell_type": "code",
   "execution_count": 5,
   "metadata": {},
   "outputs": [],
   "source": [
    "X_transformed = dmatrix('cr(year,df = 4) + cr(age,df=5) + education', data = {'year':data['year'],'age':data['age'],\n",
    "                                                                              'education':data['education']} ,\n",
    "                                                                            return_type = 'dataframe')\n",
    "# fit the model\n",
    "model_gam = sm.OLS(data['wage'],X_transformed).fit()\n",
    "preds = model_gam.predict(X_transformed)"
   ]
  },
  {
   "cell_type": "markdown",
   "metadata": {},
   "source": [
    "fig (7.12) in text"
   ]
  },
  {
   "cell_type": "code",
   "execution_count": 7,
   "metadata": {},
   "outputs": [
    {
     "data": {
      "text/plain": [
       "Text(0, 0.5, 'f1(year)')"
      ]
     },
     "execution_count": 7,
     "metadata": {},
     "output_type": "execute_result"
    },
    {
     "data": {
      "image/png": "[encoded data removed]",
      "text/plain": [
       "<Figure size 432x288 with 1 Axes>"
      ]
     },
     "metadata": {
      "needs_background": "light"
     },
     "output_type": "display_data"
    }
   ],
   "source": [
    "sns.lineplot(x=data['year'], y=preds)\n",
    "plt.xlabel('Year')\n",
    "plt.ylabel('f1(year)')"
   ]
  },
  {
   "cell_type": "code",
   "execution_count": 9,
   "metadata": {},
   "outputs": [
    {
     "data": {
      "text/plain": [
       "Text(0, 0.5, 'f1(year)')"
      ]
     },
     "execution_count": 9,
     "metadata": {},
     "output_type": "execute_result"
    },
    {
     "data": {
      "image/png": "[encoded data removed]",
      "text/plain": [
       "<Figure size 432x288 with 1 Axes>"
      ]
     },
     "metadata": {
      "needs_background": "light"
     },
     "output_type": "display_data"
    }
   ],
   "source": [
    "sns.lineplot(x=data['age'], y=preds)\n",
    "plt.xlabel('age')\n",
    "plt.ylabel('f1(year)')\n",
    "# as it can be seen the figure is not similar as in the text, that;s because here it is not a smooth spline as it was in the \n",
    "# book."
   ]
  },
  {
   "cell_type": "code",
   "execution_count": 11,
   "metadata": {},
   "outputs": [
    {
     "data": {
      "text/plain": [
       "Text(0, 0.5, 'Wage')"
      ]
     },
     "execution_count": 11,
     "metadata": {},
     "output_type": "execute_result"
    },
    {
     "data": {
      "image/png": "[encoded data removed]",
      "text/plain": [
       "<Figure size 432x288 with 1 Axes>"
      ]
     },
     "metadata": {
      "needs_background": "light"
     },
     "output_type": "display_data"
    }
   ],
   "source": [
    "sns.boxplot(x=data['education'], y=preds)\n",
    "plt.ylabel('Wage')"
   ]
  },
  {
   "cell_type": "markdown",
   "metadata": {},
   "source": [
    "## Using ANNOVA \n",
    "### We will use annova test to decide which of the following three functions is best to use.  \n",
    "- model 1 - GAM that excludes year \n",
    "- model 2 - GAM that uses a linear function of linear \n",
    "- model 3 - GAM that uses a spline of year"
   ]
  },
  {
   "cell_type": "code",
   "execution_count": 12,
   "metadata": {},
   "outputs": [
    {
     "name": "stdout",
     "output_type": "stream",
     "text": [
      "   df_resid           ssr  df_diff       ss_diff          F    Pr(>F)\n",
      "0    2994.0  3.750437e+06      0.0           NaN        NaN       NaN\n",
      "1    2993.0  3.732809e+06      1.0  17627.473318  14.129318  0.000174\n",
      "2    2991.0  3.731516e+06      2.0   1293.696286   0.518482  0.595477\n"
     ]
    }
   ],
   "source": [
    "#model1\n",
    "X_transformed1 = dmatrix('cr(age,df=5) + education', data = {'age':data['age'],\n",
    "                                                                              'education':data['education']} ,\n",
    "                                                                            return_type = 'dataframe')\n",
    "fit1 = sm.OLS(data['wage'],X_transformed1).fit(disp = 0)\n",
    "\n",
    "#model2\n",
    "X_transformed2 = dmatrix('year + cr(age,df=5) + education', data = {'year':data['year'],'age':data['age'],\n",
    "                                                                              'education':data['education']} ,\n",
    "                                                                            return_type = 'dataframe')\n",
    "fit2 = sm.OLS(data['wage'],X_transformed2).fit(disp = 0)\n",
    "\n",
    "#model3\n",
    "X_transformed3 = dmatrix('cr(year,df = 4) + cr(age,df=5) + education', data = {'year':data['year'],'age':data['age'],\n",
    "                                                                              'education':data['education']} ,\n",
    "                                                                            return_type = 'dataframe')\n",
    "fit3 = sm.OLS(data['wage'],X_transformed3).fit(disp = 0)\n",
    "\n",
    "\n",
    "table = sm.stats.anova_lm(fit1,fit2,fit3)\n",
    "print(table)"
   ]
  },
  {
   "cell_type": "code",
   "execution_count": 13,
   "metadata": {},
   "outputs": [],
   "source": [
    "# the first p value is small enough to conclude that model1 is not enough to explain the data, and model2 is better.\n",
    "# the second p value is not significant enough to say that model 3 is better than model2, \n",
    "# hence we conclude that model 2 is the best choice among the three"
   ]
  },
  {
   "cell_type": "markdown",
   "metadata": {},
   "source": [
    "# Happy Learning :) , keep hustling"
   ]
  },
  {
   "cell_type": "code",
   "execution_count": null,
   "metadata": {},
   "outputs": [],
   "source": []
  }
 ],
 "metadata": {
  "kernelspec": {
   "display_name": "Python 3",
   "language": "python",
   "name": "python3"
  },
  "language_info": {
   "codemirror_mode": {
    "name": "ipython",
    "version": 3
   },
   "file_extension": ".py",
   "mimetype": "text/x-python",
   "name": "python",
   "nbconvert_exporter": "python",
   "pygments_lexer": "ipython3",
   "version": "3.8.3"
  }
 },
 "nbformat": 4,
 "nbformat_minor": 4
}
