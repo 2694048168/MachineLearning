{
 "cells": [
  {
   "cell_type": "code",
   "execution_count": 1,
   "metadata": {},
   "outputs": [],
   "source": [
    "import pandas as pd\n",
    "import numpy as np\n",
    "\n",
    "from sklearn.preprocessing import PolynomialFeatures\n",
    "from sklearn.linear_model import LinearRegression\n",
    "from sklearn.model_selection import train_test_split\n",
    "from sklearn.metrics import mean_squared_error\n",
    "\n",
    "import matplotlib.pyplot as plt\n",
    "%matplotlib inline\n",
    "import seaborn as sns"
   ]
  },
  {
   "cell_type": "code",
   "execution_count": 2,
   "metadata": {},
   "outputs": [
    {
     "name": "stdout",
     "output_type": "stream",
     "text": [
      "(397, 9)\n"
     ]
    },
    {
     "data": {
      "text/html": [
       "<div>\n",
       "<style scoped>\n",
       "    .dataframe tbody tr th:only-of-type {\n",
       "        vertical-align: middle;\n",
       "    }\n",
       "\n",
       "    .dataframe tbody tr th {\n",
       "        vertical-align: top;\n",
       "    }\n",
       "\n",
       "    .dataframe thead th {\n",
       "        text-align: right;\n",
       "    }\n",
       "</style>\n",
       "<table border=\"1\" class=\"dataframe\">\n",
       "  <thead>\n",
       "    <tr style=\"text-align: right;\">\n",
       "      <th></th>\n",
       "      <th>mpg</th>\n",
       "      <th>cylinders</th>\n",
       "      <th>displacement</th>\n",
       "      <th>horsepower</th>\n",
       "      <th>weight</th>\n",
       "      <th>acceleration</th>\n",
       "      <th>year</th>\n",
       "      <th>origin</th>\n",
       "      <th>name</th>\n",
       "    </tr>\n",
       "  </thead>\n",
       "  <tbody>\n",
       "    <tr>\n",
       "      <th>0</th>\n",
       "      <td>18.0</td>\n",
       "      <td>8</td>\n",
       "      <td>307.0</td>\n",
       "      <td>130</td>\n",
       "      <td>3504</td>\n",
       "      <td>12.0</td>\n",
       "      <td>70</td>\n",
       "      <td>1</td>\n",
       "      <td>chevrolet chevelle malibu</td>\n",
       "    </tr>\n",
       "    <tr>\n",
       "      <th>1</th>\n",
       "      <td>15.0</td>\n",
       "      <td>8</td>\n",
       "      <td>350.0</td>\n",
       "      <td>165</td>\n",
       "      <td>3693</td>\n",
       "      <td>11.5</td>\n",
       "      <td>70</td>\n",
       "      <td>1</td>\n",
       "      <td>buick skylark 320</td>\n",
       "    </tr>\n",
       "    <tr>\n",
       "      <th>2</th>\n",
       "      <td>18.0</td>\n",
       "      <td>8</td>\n",
       "      <td>318.0</td>\n",
       "      <td>150</td>\n",
       "      <td>3436</td>\n",
       "      <td>11.0</td>\n",
       "      <td>70</td>\n",
       "      <td>1</td>\n",
       "      <td>plymouth satellite</td>\n",
       "    </tr>\n",
       "    <tr>\n",
       "      <th>3</th>\n",
       "      <td>16.0</td>\n",
       "      <td>8</td>\n",
       "      <td>304.0</td>\n",
       "      <td>150</td>\n",
       "      <td>3433</td>\n",
       "      <td>12.0</td>\n",
       "      <td>70</td>\n",
       "      <td>1</td>\n",
       "      <td>amc rebel sst</td>\n",
       "    </tr>\n",
       "    <tr>\n",
       "      <th>4</th>\n",
       "      <td>17.0</td>\n",
       "      <td>8</td>\n",
       "      <td>302.0</td>\n",
       "      <td>140</td>\n",
       "      <td>3449</td>\n",
       "      <td>10.5</td>\n",
       "      <td>70</td>\n",
       "      <td>1</td>\n",
       "      <td>ford torino</td>\n",
       "    </tr>\n",
       "  </tbody>\n",
       "</table>\n",
       "</div>"
      ],
      "text/plain": [
       "    mpg  cylinders  displacement horsepower  weight  acceleration  year  \\\n",
       "0  18.0          8         307.0        130    3504          12.0    70   \n",
       "1  15.0          8         350.0        165    3693          11.5    70   \n",
       "2  18.0          8         318.0        150    3436          11.0    70   \n",
       "3  16.0          8         304.0        150    3433          12.0    70   \n",
       "4  17.0          8         302.0        140    3449          10.5    70   \n",
       "\n",
       "   origin                       name  \n",
       "0       1  chevrolet chevelle malibu  \n",
       "1       1          buick skylark 320  \n",
       "2       1         plymouth satellite  \n",
       "3       1              amc rebel sst  \n",
       "4       1                ford torino  "
      ]
     },
     "execution_count": 2,
     "metadata": {},
     "output_type": "execute_result"
    }
   ],
   "source": [
    "data = pd.read_csv(r'./data/Auto.csv')\n",
    "print(data.shape)\n",
    "data.head()"
   ]
  },
  {
   "cell_type": "code",
   "execution_count": 3,
   "metadata": {},
   "outputs": [
    {
     "data": {
      "text/plain": [
       "mpg             float64\n",
       "cylinders         int64\n",
       "displacement    float64\n",
       "horsepower       object\n",
       "weight            int64\n",
       "acceleration    float64\n",
       "year              int64\n",
       "origin            int64\n",
       "name             object\n",
       "dtype: object"
      ]
     },
     "execution_count": 3,
     "metadata": {},
     "output_type": "execute_result"
    }
   ],
   "source": [
    "data.dtypes"
   ]
  },
  {
   "cell_type": "code",
   "execution_count": 4,
   "metadata": {},
   "outputs": [
    {
     "data": {
      "text/plain": [
       "array(['130', '165', '150', '140', '198', '220', '215', '225', '190',\n",
       "       '170', '160', '95', '97', '85', '88', '46', '87', '90', '113',\n",
       "       '200', '210', '193', '?', '100', '105', '175', '153', '180', '110',\n",
       "       '72', '86', '70', '76', '65', '69', '60', '80', '54', '208', '155',\n",
       "       '112', '92', '145', '137', '158', '167', '94', '107', '230', '49',\n",
       "       '75', '91', '122', '67', '83', '78', '52', '61', '93', '148',\n",
       "       '129', '96', '71', '98', '115', '53', '81', '79', '120', '152',\n",
       "       '102', '108', '68', '58', '149', '89', '63', '48', '66', '139',\n",
       "       '103', '125', '133', '138', '135', '142', '77', '62', '132', '84',\n",
       "       '64', '74', '116', '82'], dtype=object)"
      ]
     },
     "execution_count": 4,
     "metadata": {},
     "output_type": "execute_result"
    }
   ],
   "source": [
    "data['horsepower'].unique()"
   ]
  },
  {
   "cell_type": "code",
   "execution_count": 5,
   "metadata": {},
   "outputs": [
    {
     "data": {
      "text/plain": [
       "mpg             float64\n",
       "cylinders         int64\n",
       "displacement    float64\n",
       "horsepower        int32\n",
       "weight            int64\n",
       "acceleration    float64\n",
       "year              int64\n",
       "origin            int64\n",
       "name             object\n",
       "dtype: object"
      ]
     },
     "execution_count": 5,
     "metadata": {},
     "output_type": "execute_result"
    }
   ],
   "source": [
    "data['horsepower'] = data['horsepower'].replace('?',np.nan)\n",
    "data = data.dropna()\n",
    "data['horsepower'] = data['horsepower'].astype('int')\n",
    "data.dtypes"
   ]
  },
  {
   "cell_type": "code",
   "execution_count": 6,
   "metadata": {},
   "outputs": [],
   "source": [
    "powers = np.arange(1,11)"
   ]
  },
  {
   "cell_type": "code",
   "execution_count": 7,
   "metadata": {},
   "outputs": [],
   "source": [
    "errors = []\n",
    "for power in powers:\n",
    "  poly = PolynomialFeatures(power)\n",
    "  X = poly.fit_transform(data['horsepower'].to_frame())\n",
    "  y = data['mpg']\n",
    "  X_train,X_test,y_train,y_test = train_test_split(X,y,test_size = 0.1,random_state = 0)\n",
    "\n",
    "  lr = LinearRegression()\n",
    "  lr.fit(X_train,y_train)\n",
    "  errors.append(mean_squared_error(y_test,lr.predict(X_test)))"
   ]
  },
  {
   "cell_type": "code",
   "execution_count": 8,
   "metadata": {},
   "outputs": [
    {
     "data": {
      "text/plain": [
       "Text(0.5, 1.0, 'LOOCV')"
      ]
     },
     "execution_count": 8,
     "metadata": {},
     "output_type": "execute_result"
    },
    {
     "data": {
      "text/plain": [
       "<Figure size 1080x540 with 0 Axes>"
      ]
     },
     "metadata": {},
     "output_type": "display_data"
    },
    {
     "data": {
      "image/png": "[encoded data removed]",
      "text/plain": [
       "<Figure size 360x360 with 1 Axes>"
      ]
     },
     "metadata": {
      "needs_background": "light"
     },
     "output_type": "display_data"
    }
   ],
   "source": [
    "temp = pd.DataFrame({\"power\":powers,'Errors':errors})\n",
    "plt.figure(figsize = (12,6), dpi=90)\n",
    "g = sns.FacetGrid(data = temp,height=5)\n",
    "g.map(plt.scatter, 'power' , 'Errors')\n",
    "g.map(plt.plot, 'power', 'Errors')\n",
    "plt.title('LOOCV')"
   ]
  },
  {
   "cell_type": "code",
   "execution_count": 9,
   "metadata": {},
   "outputs": [],
   "source": [
    "errors_list = []\n",
    "from sklearn.utils import shuffle\n",
    "for i in range(10):\n",
    "  errors = []\n",
    "  n = len(data)\n",
    "  for power in powers:\n",
    "    poly = PolynomialFeatures(power)\n",
    "    X = poly.fit_transform(data['horsepower'].to_frame())\n",
    "    y = data['mpg']\n",
    "    X_train,X_test,y_train,y_test = train_test_split(X,y,test_size = 0.1,random_state = i)\n",
    "\n",
    "    lr = LinearRegression()\n",
    "    lr.fit(X_train,y_train)\n",
    "    errors.append(mean_squared_error(y_test,lr.predict(X_test)))\n",
    "  errors_list.append(errors)"
   ]
  },
  {
   "cell_type": "code",
   "execution_count": 10,
   "metadata": {},
   "outputs": [],
   "source": [
    "powers = np.arange(1,11)"
   ]
  },
  {
   "cell_type": "code",
   "execution_count": 11,
   "metadata": {},
   "outputs": [],
   "source": [
    "data_dict = {'Errors'+ str(i):errors_list[i] for i in range(10)}\n",
    "temp = pd.DataFrame(data_dict)\n",
    "temp.index = powers"
   ]
  },
  {
   "cell_type": "code",
   "execution_count": 12,
   "metadata": {},
   "outputs": [
    {
     "data": {
      "text/html": [
       "<div>\n",
       "<style scoped>\n",
       "    .dataframe tbody tr th:only-of-type {\n",
       "        vertical-align: middle;\n",
       "    }\n",
       "\n",
       "    .dataframe tbody tr th {\n",
       "        vertical-align: top;\n",
       "    }\n",
       "\n",
       "    .dataframe thead th {\n",
       "        text-align: right;\n",
       "    }\n",
       "</style>\n",
       "<table border=\"1\" class=\"dataframe\">\n",
       "  <thead>\n",
       "    <tr style=\"text-align: right;\">\n",
       "      <th></th>\n",
       "      <th>Errors0</th>\n",
       "      <th>Errors1</th>\n",
       "      <th>Errors2</th>\n",
       "      <th>Errors3</th>\n",
       "      <th>Errors4</th>\n",
       "      <th>Errors5</th>\n",
       "      <th>Errors6</th>\n",
       "      <th>Errors7</th>\n",
       "      <th>Errors8</th>\n",
       "      <th>Errors9</th>\n",
       "    </tr>\n",
       "  </thead>\n",
       "  <tbody>\n",
       "    <tr>\n",
       "      <th>1</th>\n",
       "      <td>21.811143</td>\n",
       "      <td>25.650160</td>\n",
       "      <td>28.827536</td>\n",
       "      <td>24.301369</td>\n",
       "      <td>19.272390</td>\n",
       "      <td>27.642677</td>\n",
       "      <td>23.776677</td>\n",
       "      <td>19.308620</td>\n",
       "      <td>21.060574</td>\n",
       "      <td>19.866369</td>\n",
       "    </tr>\n",
       "    <tr>\n",
       "      <th>2</th>\n",
       "      <td>15.977120</td>\n",
       "      <td>17.264520</td>\n",
       "      <td>23.742558</td>\n",
       "      <td>16.833850</td>\n",
       "      <td>13.476055</td>\n",
       "      <td>24.596552</td>\n",
       "      <td>17.410193</td>\n",
       "      <td>16.455937</td>\n",
       "      <td>12.453263</td>\n",
       "      <td>15.961779</td>\n",
       "    </tr>\n",
       "    <tr>\n",
       "      <th>3</th>\n",
       "      <td>15.915739</td>\n",
       "      <td>17.108497</td>\n",
       "      <td>23.604935</td>\n",
       "      <td>16.904634</td>\n",
       "      <td>13.398018</td>\n",
       "      <td>24.738484</td>\n",
       "      <td>17.722400</td>\n",
       "      <td>17.946887</td>\n",
       "      <td>12.251760</td>\n",
       "      <td>15.760263</td>\n",
       "    </tr>\n",
       "    <tr>\n",
       "      <th>4</th>\n",
       "      <td>15.778294</td>\n",
       "      <td>16.927266</td>\n",
       "      <td>24.277251</td>\n",
       "      <td>17.061203</td>\n",
       "      <td>13.286756</td>\n",
       "      <td>24.676498</td>\n",
       "      <td>18.807723</td>\n",
       "      <td>17.703585</td>\n",
       "      <td>12.478693</td>\n",
       "      <td>16.198389</td>\n",
       "    </tr>\n",
       "    <tr>\n",
       "      <th>5</th>\n",
       "      <td>15.938330</td>\n",
       "      <td>16.824461</td>\n",
       "      <td>25.036739</td>\n",
       "      <td>16.354700</td>\n",
       "      <td>12.552330</td>\n",
       "      <td>24.498951</td>\n",
       "      <td>16.656918</td>\n",
       "      <td>15.593623</td>\n",
       "      <td>12.469069</td>\n",
       "      <td>15.313376</td>\n",
       "    </tr>\n",
       "  </tbody>\n",
       "</table>\n",
       "</div>"
      ],
      "text/plain": [
       "     Errors0    Errors1    Errors2    Errors3    Errors4    Errors5  \\\n",
       "1  21.811143  25.650160  28.827536  24.301369  19.272390  27.642677   \n",
       "2  15.977120  17.264520  23.742558  16.833850  13.476055  24.596552   \n",
       "3  15.915739  17.108497  23.604935  16.904634  13.398018  24.738484   \n",
       "4  15.778294  16.927266  24.277251  17.061203  13.286756  24.676498   \n",
       "5  15.938330  16.824461  25.036739  16.354700  12.552330  24.498951   \n",
       "\n",
       "     Errors6    Errors7    Errors8    Errors9  \n",
       "1  23.776677  19.308620  21.060574  19.866369  \n",
       "2  17.410193  16.455937  12.453263  15.961779  \n",
       "3  17.722400  17.946887  12.251760  15.760263  \n",
       "4  18.807723  17.703585  12.478693  16.198389  \n",
       "5  16.656918  15.593623  12.469069  15.313376  "
      ]
     },
     "execution_count": 12,
     "metadata": {},
     "output_type": "execute_result"
    }
   ],
   "source": [
    "temp.head()"
   ]
  },
  {
   "cell_type": "code",
   "execution_count": 13,
   "metadata": {},
   "outputs": [
    {
     "data": {
      "text/plain": [
       "<AxesSubplot:>"
      ]
     },
     "execution_count": 13,
     "metadata": {},
     "output_type": "execute_result"
    },
    {
     "data": {
      "image/png": "[encoded data removed]",
      "text/plain": [
       "<Figure size 864x432 with 1 Axes>"
      ]
     },
     "metadata": {
      "needs_background": "light"
     },
     "output_type": "display_data"
    }
   ],
   "source": [
    "temp.plot.line(figsize = (12,6))"
   ]
  },
  {
   "cell_type": "code",
   "execution_count": 15,
   "metadata": {},
   "outputs": [],
   "source": [
    "from sklearn.model_selection import cross_val_score\n",
    "\n",
    "scores = []\n",
    "n = len(data)\n",
    "for power in range(1,11):\n",
    "  poly = PolynomialFeatures(power,include_bias=False)\n",
    "  X = poly.fit_transform(data['horsepower'].to_frame())\n",
    "  y = data['mpg']\n",
    "  lr = LinearRegression()\n",
    "  scores.append(cross_val_score(lr,X,y,cv = n,scoring = 'neg_mean_squared_error').mean())"
   ]
  },
  {
   "cell_type": "code",
   "execution_count": 16,
   "metadata": {},
   "outputs": [],
   "source": [
    "scores = list(map(abs,scores))\n",
    "powers = np.arange(1,11)"
   ]
  },
  {
   "cell_type": "code",
   "execution_count": 18,
   "metadata": {},
   "outputs": [
    {
     "data": {
      "text/plain": [
       "(15.0, 28.0)"
      ]
     },
     "execution_count": 18,
     "metadata": {},
     "output_type": "execute_result"
    },
    {
     "data": {
      "text/plain": [
       "<Figure size 1080x540 with 0 Axes>"
      ]
     },
     "metadata": {},
     "output_type": "display_data"
    },
    {
     "data": {
      "image/png": "[encoded data removed]",
      "text/plain": [
       "<Figure size 360x360 with 1 Axes>"
      ]
     },
     "metadata": {
      "needs_background": "light"
     },
     "output_type": "display_data"
    }
   ],
   "source": [
    "temp = pd.DataFrame({\"power\":powers,'scores':scores})\n",
    "plt.figure(figsize = (12,6), dpi=90)\n",
    "g = sns.FacetGrid(data = temp,height=5)\n",
    "g.map(plt.scatter, 'power' , 'scores')\n",
    "g.map(plt.plot, 'power', 'scores')\n",
    "plt.title('LOOCV')\n",
    "plt.ylim(15,28)"
   ]
  },
  {
   "cell_type": "code",
   "execution_count": 19,
   "metadata": {},
   "outputs": [],
   "source": [
    "scores_list = []\n",
    "from sklearn.utils import shuffle\n",
    "for _ in range(10):\n",
    "  scores = []\n",
    "  n = len(data)\n",
    "  for power in range(1,11):\n",
    "    poly = PolynomialFeatures(power,include_bias=False)\n",
    "    X = poly.fit_transform(data['horsepower'].to_frame())\n",
    "    y = data['mpg']\n",
    "    X,y = shuffle(X,y)\n",
    "    lr = LinearRegression()\n",
    "    scores.append(cross_val_score(lr,X,y,cv = 10,scoring = 'neg_mean_squared_error').mean())\n",
    "  scores_list.append(list(map(abs,scores)))    "
   ]
  },
  {
   "cell_type": "code",
   "execution_count": 20,
   "metadata": {},
   "outputs": [],
   "source": [
    "powers = np.arange(1,11)"
   ]
  },
  {
   "cell_type": "code",
   "execution_count": 21,
   "metadata": {},
   "outputs": [],
   "source": [
    "data_dict = {'Scores'+ str(i):scores_list[i] for i in range(10)}\n",
    "temp = pd.DataFrame(data_dict)\n",
    "temp.index = powers"
   ]
  },
  {
   "cell_type": "code",
   "execution_count": 22,
   "metadata": {},
   "outputs": [
    {
     "data": {
      "text/html": [
       "<div>\n",
       "<style scoped>\n",
       "    .dataframe tbody tr th:only-of-type {\n",
       "        vertical-align: middle;\n",
       "    }\n",
       "\n",
       "    .dataframe tbody tr th {\n",
       "        vertical-align: top;\n",
       "    }\n",
       "\n",
       "    .dataframe thead th {\n",
       "        text-align: right;\n",
       "    }\n",
       "</style>\n",
       "<table border=\"1\" class=\"dataframe\">\n",
       "  <thead>\n",
       "    <tr style=\"text-align: right;\">\n",
       "      <th></th>\n",
       "      <th>Scores0</th>\n",
       "      <th>Scores1</th>\n",
       "      <th>Scores2</th>\n",
       "      <th>Scores3</th>\n",
       "      <th>Scores4</th>\n",
       "      <th>Scores5</th>\n",
       "      <th>Scores6</th>\n",
       "      <th>Scores7</th>\n",
       "      <th>Scores8</th>\n",
       "      <th>Scores9</th>\n",
       "    </tr>\n",
       "  </thead>\n",
       "  <tbody>\n",
       "    <tr>\n",
       "      <th>1</th>\n",
       "      <td>24.266788</td>\n",
       "      <td>24.293917</td>\n",
       "      <td>24.155549</td>\n",
       "      <td>24.301901</td>\n",
       "      <td>24.285816</td>\n",
       "      <td>24.209121</td>\n",
       "      <td>24.265565</td>\n",
       "      <td>24.252640</td>\n",
       "      <td>24.272354</td>\n",
       "      <td>24.090627</td>\n",
       "    </tr>\n",
       "    <tr>\n",
       "      <th>2</th>\n",
       "      <td>19.099754</td>\n",
       "      <td>19.126147</td>\n",
       "      <td>19.384261</td>\n",
       "      <td>19.230459</td>\n",
       "      <td>19.264249</td>\n",
       "      <td>19.249729</td>\n",
       "      <td>19.185349</td>\n",
       "      <td>19.219713</td>\n",
       "      <td>19.346360</td>\n",
       "      <td>19.279975</td>\n",
       "    </tr>\n",
       "    <tr>\n",
       "      <th>3</th>\n",
       "      <td>19.452744</td>\n",
       "      <td>19.122199</td>\n",
       "      <td>19.553409</td>\n",
       "      <td>19.389509</td>\n",
       "      <td>19.460867</td>\n",
       "      <td>19.638050</td>\n",
       "      <td>19.506531</td>\n",
       "      <td>19.420947</td>\n",
       "      <td>19.395535</td>\n",
       "      <td>19.223198</td>\n",
       "    </tr>\n",
       "    <tr>\n",
       "      <th>4</th>\n",
       "      <td>19.230870</td>\n",
       "      <td>19.387564</td>\n",
       "      <td>19.737614</td>\n",
       "      <td>19.189975</td>\n",
       "      <td>19.565503</td>\n",
       "      <td>19.225195</td>\n",
       "      <td>19.472663</td>\n",
       "      <td>19.453717</td>\n",
       "      <td>19.464834</td>\n",
       "      <td>19.281146</td>\n",
       "    </tr>\n",
       "    <tr>\n",
       "      <th>5</th>\n",
       "      <td>19.378585</td>\n",
       "      <td>19.192655</td>\n",
       "      <td>18.845684</td>\n",
       "      <td>19.079435</td>\n",
       "      <td>18.739566</td>\n",
       "      <td>19.210514</td>\n",
       "      <td>18.915827</td>\n",
       "      <td>18.930138</td>\n",
       "      <td>19.083811</td>\n",
       "      <td>18.999872</td>\n",
       "    </tr>\n",
       "  </tbody>\n",
       "</table>\n",
       "</div>"
      ],
      "text/plain": [
       "     Scores0    Scores1    Scores2    Scores3    Scores4    Scores5  \\\n",
       "1  24.266788  24.293917  24.155549  24.301901  24.285816  24.209121   \n",
       "2  19.099754  19.126147  19.384261  19.230459  19.264249  19.249729   \n",
       "3  19.452744  19.122199  19.553409  19.389509  19.460867  19.638050   \n",
       "4  19.230870  19.387564  19.737614  19.189975  19.565503  19.225195   \n",
       "5  19.378585  19.192655  18.845684  19.079435  18.739566  19.210514   \n",
       "\n",
       "     Scores6    Scores7    Scores8    Scores9  \n",
       "1  24.265565  24.252640  24.272354  24.090627  \n",
       "2  19.185349  19.219713  19.346360  19.279975  \n",
       "3  19.506531  19.420947  19.395535  19.223198  \n",
       "4  19.472663  19.453717  19.464834  19.281146  \n",
       "5  18.915827  18.930138  19.083811  18.999872  "
      ]
     },
     "execution_count": 22,
     "metadata": {},
     "output_type": "execute_result"
    }
   ],
   "source": [
    "temp.head()"
   ]
  },
  {
   "cell_type": "code",
   "execution_count": 23,
   "metadata": {},
   "outputs": [
    {
     "data": {
      "text/plain": [
       "Text(0, 0.5, 'Error')"
      ]
     },
     "execution_count": 23,
     "metadata": {},
     "output_type": "execute_result"
    },
    {
     "data": {
      "image/png": "[encoded data removed]",
      "text/plain": [
       "<Figure size 1008x576 with 1 Axes>"
      ]
     },
     "metadata": {
      "needs_background": "light"
     },
     "output_type": "display_data"
    }
   ],
   "source": [
    "temp.plot.line(figsize = (14,8))\n",
    "plt.ylim(16,28)\n",
    "plt.title('10 Fold CV')\n",
    "plt.xlabel('Degree')\n",
    "plt.ylabel('Error')"
   ]
  },
  {
   "cell_type": "code",
   "execution_count": null,
   "metadata": {},
   "outputs": [],
   "source": []
  }
 ],
 "metadata": {
  "kernelspec": {
   "display_name": "Python 3",
   "language": "python",
   "name": "python3"
  },
  "language_info": {
   "codemirror_mode": {
    "name": "ipython",
    "version": 3
   },
   "file_extension": ".py",
   "mimetype": "text/x-python",
   "name": "python",
   "nbconvert_exporter": "python",
   "pygments_lexer": "ipython3",
   "version": "3.8.3"
  }
 },
 "nbformat": 4,
 "nbformat_minor": 4
}
