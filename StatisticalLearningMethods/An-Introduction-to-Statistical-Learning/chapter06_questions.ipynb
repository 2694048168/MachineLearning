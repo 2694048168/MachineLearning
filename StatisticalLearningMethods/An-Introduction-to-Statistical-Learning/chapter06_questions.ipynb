{
 "cells": [
  {
   "cell_type": "markdown",
   "metadata": {},
   "source": [
    "# Chapter 6 - Exercises"
   ]
  },
  {
   "cell_type": "markdown",
   "metadata": {},
   "source": [
    "# Applied Questions"
   ]
  },
  {
   "cell_type": "code",
   "execution_count": 1,
   "metadata": {},
   "outputs": [],
   "source": [
    "import pandas as pd\n",
    "import numpy as np\n",
    "\n",
    "from sklearn.decomposition import PCA\n",
    "from sklearn.cross_decomposition import PLSRegression\n",
    "from sklearn.preprocessing import PolynomialFeatures\n",
    "from sklearn.linear_model import LinearRegression,Lasso,LassoCV,RidgeCV\n",
    "from sklearn.metrics import mean_squared_error\n",
    "from sklearn.model_selection import cross_val_score,train_test_split\n",
    "from sklearn.metrics import r2_score\n",
    "from sklearn.preprocessing import StandardScaler\n",
    "\n",
    "import statsmodels.api as sm\n",
    "\n",
    "import matplotlib.pyplot as plt\n",
    "%matplotlib inline\n",
    "import seaborn as sns"
   ]
  },
  {
   "cell_type": "markdown",
   "metadata": {},
   "source": [
    "## 8. In this exercise, we will generate simulated data, and will then use this data to perform best subset selection.\n"
   ]
  },
  {
   "cell_type": "markdown",
   "metadata": {},
   "source": [
    "### (a) Use the rnorm() function to generate a predictor X of length n = 100, as well as a noise vector  of length n = 100.\n"
   ]
  },
  {
   "cell_type": "code",
   "execution_count": 2,
   "metadata": {},
   "outputs": [
    {
     "name": "stdout",
     "output_type": "stream",
     "text": [
      "Size of X is  100\n"
     ]
    }
   ],
   "source": [
    "np.random.seed(1)\n",
    "\n",
    "X = np.random.randn(100)\n",
    "eps = np.random.randn(100)\n",
    "print('Size of X is ',len(X))"
   ]
  },
  {
   "cell_type": "markdown",
   "metadata": {},
   "source": [
    "### (b) Generate a response vector Y of length n = 100 according to the model\n"
   ]
  },
  {
   "cell_type": "markdown",
   "metadata": {},
   "source": [
    "Y = β0 + β1X + β2X2 + β3X3 + eps"
   ]
  },
  {
   "cell_type": "code",
   "execution_count": 3,
   "metadata": {},
   "outputs": [],
   "source": [
    "# weights are of our choice\n",
    "beta = [3,4,2,1]\n",
    "Y = beta[0] + beta[1]*X + beta[2]*X**2 + beta[3]*X**3 + eps"
   ]
  },
  {
   "cell_type": "markdown",
   "metadata": {},
   "source": [
    "### (c) Use the regsubsets() function to perform best subset selection in order to choose the best model containing the predictors X, X2,...,X10. What is the best model obtained according to Cp, BIC, and adjusted R2? Show some plots to provide evidence for your answer, and report the coefficients of the best model obtained.\n",
    "\n",
    " \n",
    "\n"
   ]
  },
  {
   "cell_type": "code",
   "execution_count": 4,
   "metadata": {},
   "outputs": [
    {
     "data": {
      "text/html": [
       "<div>\n",
       "<style scoped>\n",
       "    .dataframe tbody tr th:only-of-type {\n",
       "        vertical-align: middle;\n",
       "    }\n",
       "\n",
       "    .dataframe tbody tr th {\n",
       "        vertical-align: top;\n",
       "    }\n",
       "\n",
       "    .dataframe thead th {\n",
       "        text-align: right;\n",
       "    }\n",
       "</style>\n",
       "<table border=\"1\" class=\"dataframe\">\n",
       "  <thead>\n",
       "    <tr style=\"text-align: right;\">\n",
       "      <th></th>\n",
       "      <th>X1</th>\n",
       "      <th>X2</th>\n",
       "      <th>X3</th>\n",
       "      <th>X4</th>\n",
       "      <th>X5</th>\n",
       "      <th>X6</th>\n",
       "      <th>X7</th>\n",
       "      <th>X8</th>\n",
       "      <th>X9</th>\n",
       "      <th>X10</th>\n",
       "    </tr>\n",
       "  </thead>\n",
       "  <tbody>\n",
       "    <tr>\n",
       "      <th>0</th>\n",
       "      <td>1.624345</td>\n",
       "      <td>2.638498</td>\n",
       "      <td>4.285832</td>\n",
       "      <td>6.961671</td>\n",
       "      <td>11.308158</td>\n",
       "      <td>18.368354</td>\n",
       "      <td>29.836551</td>\n",
       "      <td>48.464863</td>\n",
       "      <td>78.723675</td>\n",
       "      <td>127.874436</td>\n",
       "    </tr>\n",
       "    <tr>\n",
       "      <th>1</th>\n",
       "      <td>-0.611756</td>\n",
       "      <td>0.374246</td>\n",
       "      <td>-0.228947</td>\n",
       "      <td>0.140060</td>\n",
       "      <td>-0.085683</td>\n",
       "      <td>0.052417</td>\n",
       "      <td>-0.032066</td>\n",
       "      <td>0.019617</td>\n",
       "      <td>-0.012001</td>\n",
       "      <td>0.007342</td>\n",
       "    </tr>\n",
       "    <tr>\n",
       "      <th>2</th>\n",
       "      <td>-0.528172</td>\n",
       "      <td>0.278965</td>\n",
       "      <td>-0.147342</td>\n",
       "      <td>0.077822</td>\n",
       "      <td>-0.041103</td>\n",
       "      <td>0.021710</td>\n",
       "      <td>-0.011466</td>\n",
       "      <td>0.006056</td>\n",
       "      <td>-0.003199</td>\n",
       "      <td>0.001689</td>\n",
       "    </tr>\n",
       "    <tr>\n",
       "      <th>3</th>\n",
       "      <td>-1.072969</td>\n",
       "      <td>1.151262</td>\n",
       "      <td>-1.235268</td>\n",
       "      <td>1.325403</td>\n",
       "      <td>-1.422116</td>\n",
       "      <td>1.525886</td>\n",
       "      <td>-1.637228</td>\n",
       "      <td>1.756694</td>\n",
       "      <td>-1.884878</td>\n",
       "      <td>2.022415</td>\n",
       "    </tr>\n",
       "    <tr>\n",
       "      <th>4</th>\n",
       "      <td>0.865408</td>\n",
       "      <td>0.748930</td>\n",
       "      <td>0.648130</td>\n",
       "      <td>0.560897</td>\n",
       "      <td>0.485404</td>\n",
       "      <td>0.420073</td>\n",
       "      <td>0.363534</td>\n",
       "      <td>0.314605</td>\n",
       "      <td>0.272262</td>\n",
       "      <td>0.235617</td>\n",
       "    </tr>\n",
       "  </tbody>\n",
       "</table>\n",
       "</div>"
      ],
      "text/plain": [
       "         X1        X2        X3        X4         X5         X6         X7  \\\n",
       "0  1.624345  2.638498  4.285832  6.961671  11.308158  18.368354  29.836551   \n",
       "1 -0.611756  0.374246 -0.228947  0.140060  -0.085683   0.052417  -0.032066   \n",
       "2 -0.528172  0.278965 -0.147342  0.077822  -0.041103   0.021710  -0.011466   \n",
       "3 -1.072969  1.151262 -1.235268  1.325403  -1.422116   1.525886  -1.637228   \n",
       "4  0.865408  0.748930  0.648130  0.560897   0.485404   0.420073   0.363534   \n",
       "\n",
       "          X8         X9         X10  \n",
       "0  48.464863  78.723675  127.874436  \n",
       "1   0.019617  -0.012001    0.007342  \n",
       "2   0.006056  -0.003199    0.001689  \n",
       "3   1.756694  -1.884878    2.022415  \n",
       "4   0.314605   0.272262    0.235617  "
      ]
     },
     "execution_count": 4,
     "metadata": {},
     "output_type": "execute_result"
    }
   ],
   "source": [
    "poly = PolynomialFeatures(10,include_bias=False)\n",
    "predictors = poly.fit_transform(pd.DataFrame({'X':X}))\n",
    "predictors = pd.DataFrame(predictors)\n",
    "col = ['X' + str(i) for i in range(1,11)]\n",
    "predictors.columns = col\n",
    "predictors.head()"
   ]
  },
  {
   "cell_type": "code",
   "execution_count": 6,
   "metadata": {},
   "outputs": [],
   "source": [
    "def fit_linear_reg(X,Y):\n",
    "  #Fit linear regression model and return RSS and R squared values\n",
    "  X = sm.add_constant(X)\n",
    "  model = sm.OLS(Y,X).fit()\n",
    "  return model.ssr,model.rsquared,model\n",
    "\n",
    "\n",
    "from tqdm import tnrange, tqdm_notebook\n",
    "from itertools import combinations\n",
    "\n",
    "def run_subset_selection(X,y):\n",
    "  #Initialization variables\n",
    "  RSS_list, R_squared_list, feature_list = [],[],[]\n",
    "  aic_list,bic_list,adj_r_squared_list = [],[],[]\n",
    "  numb_features = []\n",
    "\n",
    "  #Looping over k = 1 to k = 11 features in X\n",
    "  for k in tnrange(1,len(X.columns) + 1, desc = 'Loop...'):\n",
    "    best_features = None\n",
    "    best_RSS = None\n",
    "    best_r2 = 0\n",
    "    best_model = None\n",
    "\n",
    "    # Looping over all possible combinations: \n",
    "    for combo in combinations(X.columns,k):\n",
    "      tmp_result = fit_linear_reg(X[list(combo)],Y)   # Store temp result  \n",
    "      r2 = tmp_result[1]\n",
    "      if r2 > best_r2:\n",
    "        best_features = combo\n",
    "        best_RSS = tmp_result[0]\n",
    "        best_r2 = tmp_result[1]\n",
    "        best_model = tmp_result[2]\n",
    "\n",
    "    RSS_list.append(best_RSS)\n",
    "    R_squared_list.append(best_r2)\n",
    "    feature_list.append(best_features)\n",
    "    numb_features.append(len(best_features))\n",
    "    aic_list.append(best_model.aic)\n",
    "    bic_list.append(best_model.bic)\n",
    "    adj_r_squared_list.append(best_model.rsquared_adj)\n",
    "\n",
    "  #Store in DataFrame\n",
    "  df = pd.DataFrame({'numb_features': numb_features,'RSS': RSS_list, 'R_squared':R_squared_list,\n",
    "                    'AIC':aic_list,'BIC':bic_list,'adj_r2':adj_r_squared_list,'features':feature_list})\n",
    "  return df"
   ]
  },
  {
   "cell_type": "code",
   "execution_count": 7,
   "metadata": {},
   "outputs": [
    {
     "name": "stderr",
     "output_type": "stream",
     "text": [
      "<ipython-input-6-b2f0e2f53d0e>:18: TqdmDeprecationWarning: Please use `tqdm.notebook.trange` instead of `tqdm.tnrange`\n",
      "  for k in tnrange(1,len(X.columns) + 1, desc = 'Loop...'):\n"
     ]
    },
    {
     "data": {
      "application/vnd.jupyter.widget-view+json": {
       "model_id": "c99272cc54cc47deb3bb624578f8ec07",
       "version_major": 2,
       "version_minor": 0
      },
      "text/plain": [
       "HBox(children=(FloatProgress(value=0.0, description='Loop...', max=10.0, style=ProgressStyle(description_width…"
      ]
     },
     "metadata": {},
     "output_type": "display_data"
    },
    {
     "name": "stdout",
     "output_type": "stream",
     "text": [
      "\n"
     ]
    }
   ],
   "source": [
    "best_subset_results = run_subset_selection(predictors,Y)"
   ]
  },
  {
   "cell_type": "code",
   "execution_count": 8,
   "metadata": {},
   "outputs": [
    {
     "data": {
      "text/html": [
       "<div>\n",
       "<style scoped>\n",
       "    .dataframe tbody tr th:only-of-type {\n",
       "        vertical-align: middle;\n",
       "    }\n",
       "\n",
       "    .dataframe tbody tr th {\n",
       "        vertical-align: top;\n",
       "    }\n",
       "\n",
       "    .dataframe thead th {\n",
       "        text-align: right;\n",
       "    }\n",
       "</style>\n",
       "<table border=\"1\" class=\"dataframe\">\n",
       "  <thead>\n",
       "    <tr style=\"text-align: right;\">\n",
       "      <th></th>\n",
       "      <th>numb_features</th>\n",
       "      <th>RSS</th>\n",
       "      <th>R_squared</th>\n",
       "      <th>AIC</th>\n",
       "      <th>BIC</th>\n",
       "      <th>adj_r2</th>\n",
       "      <th>features</th>\n",
       "    </tr>\n",
       "  </thead>\n",
       "  <tbody>\n",
       "    <tr>\n",
       "      <th>0</th>\n",
       "      <td>1</td>\n",
       "      <td>771.612854</td>\n",
       "      <td>0.819633</td>\n",
       "      <td>492.118982</td>\n",
       "      <td>497.329322</td>\n",
       "      <td>0.817793</td>\n",
       "      <td>(X1,)</td>\n",
       "    </tr>\n",
       "    <tr>\n",
       "      <th>1</th>\n",
       "      <td>2</td>\n",
       "      <td>329.558323</td>\n",
       "      <td>0.922965</td>\n",
       "      <td>409.046022</td>\n",
       "      <td>416.861533</td>\n",
       "      <td>0.921376</td>\n",
       "      <td>(X1, X2)</td>\n",
       "    </tr>\n",
       "    <tr>\n",
       "      <th>2</th>\n",
       "      <td>3</td>\n",
       "      <td>84.811563</td>\n",
       "      <td>0.980175</td>\n",
       "      <td>275.313877</td>\n",
       "      <td>285.734557</td>\n",
       "      <td>0.979556</td>\n",
       "      <td>(X1, X2, X3)</td>\n",
       "    </tr>\n",
       "    <tr>\n",
       "      <th>3</th>\n",
       "      <td>4</td>\n",
       "      <td>79.800246</td>\n",
       "      <td>0.981346</td>\n",
       "      <td>271.223347</td>\n",
       "      <td>284.249198</td>\n",
       "      <td>0.980561</td>\n",
       "      <td>(X1, X2, X3, X6)</td>\n",
       "    </tr>\n",
       "    <tr>\n",
       "      <th>4</th>\n",
       "      <td>5</td>\n",
       "      <td>79.446732</td>\n",
       "      <td>0.981429</td>\n",
       "      <td>272.779363</td>\n",
       "      <td>288.410385</td>\n",
       "      <td>0.980441</td>\n",
       "      <td>(X1, X2, X3, X8, X10)</td>\n",
       "    </tr>\n",
       "    <tr>\n",
       "      <th>5</th>\n",
       "      <td>6</td>\n",
       "      <td>77.901340</td>\n",
       "      <td>0.981790</td>\n",
       "      <td>272.815004</td>\n",
       "      <td>291.051195</td>\n",
       "      <td>0.980616</td>\n",
       "      <td>(X1, X2, X5, X7, X8, X9)</td>\n",
       "    </tr>\n",
       "    <tr>\n",
       "      <th>6</th>\n",
       "      <td>7</td>\n",
       "      <td>77.535196</td>\n",
       "      <td>0.981876</td>\n",
       "      <td>274.343886</td>\n",
       "      <td>295.185248</td>\n",
       "      <td>0.980497</td>\n",
       "      <td>(X1, X2, X3, X5, X7, X9, X10)</td>\n",
       "    </tr>\n",
       "    <tr>\n",
       "      <th>7</th>\n",
       "      <td>8</td>\n",
       "      <td>77.090698</td>\n",
       "      <td>0.981980</td>\n",
       "      <td>275.768950</td>\n",
       "      <td>299.215482</td>\n",
       "      <td>0.980396</td>\n",
       "      <td>(X1, X2, X3, X4, X5, X6, X7, X9)</td>\n",
       "    </tr>\n",
       "    <tr>\n",
       "      <th>8</th>\n",
       "      <td>9</td>\n",
       "      <td>76.794677</td>\n",
       "      <td>0.982049</td>\n",
       "      <td>277.384221</td>\n",
       "      <td>303.435923</td>\n",
       "      <td>0.980254</td>\n",
       "      <td>(X1, X2, X4, X5, X6, X7, X8, X9, X10)</td>\n",
       "    </tr>\n",
       "    <tr>\n",
       "      <th>9</th>\n",
       "      <td>10</td>\n",
       "      <td>76.498124</td>\n",
       "      <td>0.982118</td>\n",
       "      <td>278.997310</td>\n",
       "      <td>307.654182</td>\n",
       "      <td>0.980109</td>\n",
       "      <td>(X1, X2, X3, X4, X5, X6, X7, X8, X9, X10)</td>\n",
       "    </tr>\n",
       "  </tbody>\n",
       "</table>\n",
       "</div>"
      ],
      "text/plain": [
       "   numb_features         RSS  R_squared         AIC         BIC    adj_r2  \\\n",
       "0              1  771.612854   0.819633  492.118982  497.329322  0.817793   \n",
       "1              2  329.558323   0.922965  409.046022  416.861533  0.921376   \n",
       "2              3   84.811563   0.980175  275.313877  285.734557  0.979556   \n",
       "3              4   79.800246   0.981346  271.223347  284.249198  0.980561   \n",
       "4              5   79.446732   0.981429  272.779363  288.410385  0.980441   \n",
       "5              6   77.901340   0.981790  272.815004  291.051195  0.980616   \n",
       "6              7   77.535196   0.981876  274.343886  295.185248  0.980497   \n",
       "7              8   77.090698   0.981980  275.768950  299.215482  0.980396   \n",
       "8              9   76.794677   0.982049  277.384221  303.435923  0.980254   \n",
       "9             10   76.498124   0.982118  278.997310  307.654182  0.980109   \n",
       "\n",
       "                                    features  \n",
       "0                                      (X1,)  \n",
       "1                                   (X1, X2)  \n",
       "2                               (X1, X2, X3)  \n",
       "3                           (X1, X2, X3, X6)  \n",
       "4                      (X1, X2, X3, X8, X10)  \n",
       "5                   (X1, X2, X5, X7, X8, X9)  \n",
       "6              (X1, X2, X3, X5, X7, X9, X10)  \n",
       "7           (X1, X2, X3, X4, X5, X6, X7, X9)  \n",
       "8      (X1, X2, X4, X5, X6, X7, X8, X9, X10)  \n",
       "9  (X1, X2, X3, X4, X5, X6, X7, X8, X9, X10)  "
      ]
     },
     "execution_count": 8,
     "metadata": {},
     "output_type": "execute_result"
    }
   ],
   "source": [
    "best_subset_results"
   ]
  },
  {
   "cell_type": "code",
   "execution_count": 9,
   "metadata": {},
   "outputs": [
    {
     "name": "stdout",
     "output_type": "stream",
     "text": [
      "The best model according to adjR2 is model having features -  6\n",
      "The best model according to AIC is model having features -  4\n",
      "The best model according to BIC is model having features -  4\n"
     ]
    }
   ],
   "source": [
    "print('The best model according to adjR2 is model having features - ',\n",
    "      best_subset_results.sort_values('adj_r2',ascending=False)['numb_features'].values[0],\n",
    "     )\n",
    "print('The best model according to AIC is model having features - ',\n",
    "      best_subset_results.sort_values('AIC',ascending=True)['numb_features'].values[0])\n",
    "print('The best model according to BIC is model having features - ',\n",
    "      best_subset_results.sort_values('BIC',ascending=True)['numb_features'].values[0])\n",
    "\n",
    "# we can see that using different metrics can give us different outcomes, althuohg what we will observe is that \n",
    "# AIC and BIC will give us simialr results"
   ]
  },
  {
   "cell_type": "code",
   "execution_count": 10,
   "metadata": {},
   "outputs": [
    {
     "data": {
      "image/png": "[encoded data removed]",
      "text/plain": [
       "<Figure size 1296x288 with 3 Axes>"
      ]
     },
     "metadata": {
      "needs_background": "light"
     },
     "output_type": "display_data"
    }
   ],
   "source": [
    "# Since we are going to need to plot these many times, lets make a functions to save us the trouble of writing this again and again\n",
    "def plot_results(df):\n",
    "  fig,(a1,a2,a3) = plt.subplots(1,3,figsize = (18,4))\n",
    "  a1.plot(df['numb_features'],df['AIC'],marker = 'o')\n",
    "  a1.axhline(y = min(df['AIC']),linestyle = 'dashed',linewidth = 0.8,color = 'black')\n",
    "  a1.axvline(x =  df.sort_values('AIC',ascending=True)['numb_features'].values[0],color = 'black',\n",
    "             linestyle = 'dashed',linewidth = 0.8)\n",
    "  a1.set_title('AIC')\n",
    "  a1.set_xlabel('Number of features')\n",
    "  a1.set_ylabel('AIC values')\n",
    "\n",
    "  a2.plot(df['numb_features'],df['BIC'],marker = 'o')\n",
    "  a2.axhline(y = min(df['BIC']),linestyle = 'dashed',linewidth = 0.8,color = 'black')\n",
    "  a2.axvline(x =  df.sort_values('BIC',ascending=True)['numb_features'].values[0],color = 'black',\n",
    "             linestyle = 'dashed',linewidth = 0.8)\n",
    "  a2.set_title('BIC')\n",
    "  a2.set_xlabel('Number of features')\n",
    "  a2.set_ylabel('BIC values')\n",
    "\n",
    "  a3.plot(df['numb_features'],df['adj_r2'],marker=  'o')\n",
    "  a3.axhline(y = max(df['adj_r2']),linestyle = 'dashed',linewidth = 0.8,color = 'black')\n",
    "  a3.axvline(x =  df.sort_values('adj_r2',ascending=False)['numb_features'].values[0],color = 'black',\n",
    "             linestyle = 'dashed',linewidth = 0.8)\n",
    "  a3.set_title('ADJUSTED R2 values')\n",
    "  a3.set_xlabel('Number of features')\n",
    "  a3.set_ylabel('Adj R2')\n",
    "\n",
    "plot_results(best_subset_results)    "
   ]
  },
  {
   "cell_type": "code",
   "execution_count": 11,
   "metadata": {},
   "outputs": [
    {
     "name": "stdout",
     "output_type": "stream",
     "text": [
      "Features choosen by AIC  ['X1', 'X2', 'X3', 'X6']\n",
      "Features choosen by BIC  ['X1', 'X2', 'X3', 'X6']\n",
      "Features choosen by adj_r2  ['X1', 'X2', 'X3', 'X5', 'X7', 'X9', 'X10']\n"
     ]
    }
   ],
   "source": [
    "print('Features choosen by AIC ',list(best_subset_results['features'][3]))\n",
    "print('Features choosen by BIC ',list(best_subset_results['features'][3]))\n",
    "print('Features choosen by adj_r2 ',list(best_subset_results['features'][6]))"
   ]
  },
  {
   "cell_type": "markdown",
   "metadata": {},
   "source": [
    "### (d) Repeat (c), using forward stepwise selection and also using backwards stepwise selection. How does your answer compare to the results in (c)?\n"
   ]
  },
  {
   "cell_type": "code",
   "execution_count": 12,
   "metadata": {},
   "outputs": [],
   "source": [
    "def forward_stepwise_selection(data,target):\n",
    "  total_features = [[]]\n",
    "  list_r2 = []\n",
    "  list_adj_r2 = []\n",
    "  list_aic,list_bic = [],[]\n",
    "  len_features = []\n",
    "  remaining_features = [col for col in data.columns if not col == target]\n",
    "  for i in range(1,len(data.columns)):\n",
    "    best_score = 0;best_feature = None\n",
    "    best_model = None\n",
    "    for feature in remaining_features:\n",
    "      X = total_features[i-1] + [feature]\n",
    "      model = sm.OLS(data[target],sm.add_constant(data[X])).fit()\n",
    "      score = model.rsquared\n",
    "      # print('For len {}, feature - {}, score is {}'.format(i,feature,score))\n",
    "      if score > best_score:\n",
    "        best_score = score\n",
    "        best_feature = feature\n",
    "        best_model = model\n",
    "\n",
    "    total_features.append(total_features[i-1] + [best_feature])\n",
    "    remaining_features.remove(best_feature)\n",
    "    list_r2.append(best_model.rsquared)\n",
    "    list_adj_r2.append(best_model.rsquared_adj)\n",
    "    list_aic.append(best_model.aic)\n",
    "    list_bic.append(best_model.bic)\n",
    "    len_features.append(len(total_features[-1]))\n",
    "\n",
    "  return pd.DataFrame({'numb_features': len_features, 'R_squared':list_r2,\n",
    "                    'AIC':list_aic,'BIC':list_bic,'adj_r2':list_adj_r2,'features':total_features[1:]})"
   ]
  },
  {
   "cell_type": "code",
   "execution_count": 13,
   "metadata": {},
   "outputs": [
    {
     "data": {
      "text/html": [
       "<div>\n",
       "<style scoped>\n",
       "    .dataframe tbody tr th:only-of-type {\n",
       "        vertical-align: middle;\n",
       "    }\n",
       "\n",
       "    .dataframe tbody tr th {\n",
       "        vertical-align: top;\n",
       "    }\n",
       "\n",
       "    .dataframe thead th {\n",
       "        text-align: right;\n",
       "    }\n",
       "</style>\n",
       "<table border=\"1\" class=\"dataframe\">\n",
       "  <thead>\n",
       "    <tr style=\"text-align: right;\">\n",
       "      <th></th>\n",
       "      <th>X1</th>\n",
       "      <th>X2</th>\n",
       "      <th>X3</th>\n",
       "      <th>X4</th>\n",
       "      <th>X5</th>\n",
       "      <th>X6</th>\n",
       "      <th>X7</th>\n",
       "      <th>X8</th>\n",
       "      <th>X9</th>\n",
       "      <th>X10</th>\n",
       "      <th>Y</th>\n",
       "    </tr>\n",
       "  </thead>\n",
       "  <tbody>\n",
       "    <tr>\n",
       "      <th>0</th>\n",
       "      <td>1.624345</td>\n",
       "      <td>2.638498</td>\n",
       "      <td>4.285832</td>\n",
       "      <td>6.961671</td>\n",
       "      <td>11.308158</td>\n",
       "      <td>18.368354</td>\n",
       "      <td>29.836551</td>\n",
       "      <td>48.464863</td>\n",
       "      <td>78.723675</td>\n",
       "      <td>127.874436</td>\n",
       "      <td>18.613080</td>\n",
       "    </tr>\n",
       "    <tr>\n",
       "      <th>1</th>\n",
       "      <td>-0.611756</td>\n",
       "      <td>0.374246</td>\n",
       "      <td>-0.228947</td>\n",
       "      <td>0.140060</td>\n",
       "      <td>-0.085683</td>\n",
       "      <td>0.052417</td>\n",
       "      <td>-0.032066</td>\n",
       "      <td>0.019617</td>\n",
       "      <td>-0.012001</td>\n",
       "      <td>0.007342</td>\n",
       "      <td>2.297027</td>\n",
       "    </tr>\n",
       "    <tr>\n",
       "      <th>2</th>\n",
       "      <td>-0.528172</td>\n",
       "      <td>0.278965</td>\n",
       "      <td>-0.147342</td>\n",
       "      <td>0.077822</td>\n",
       "      <td>-0.041103</td>\n",
       "      <td>0.021710</td>\n",
       "      <td>-0.011466</td>\n",
       "      <td>0.006056</td>\n",
       "      <td>-0.003199</td>\n",
       "      <td>0.001689</td>\n",
       "      <td>1.701394</td>\n",
       "    </tr>\n",
       "    <tr>\n",
       "      <th>3</th>\n",
       "      <td>-1.072969</td>\n",
       "      <td>1.151262</td>\n",
       "      <td>-1.235268</td>\n",
       "      <td>1.325403</td>\n",
       "      <td>-1.422116</td>\n",
       "      <td>1.525886</td>\n",
       "      <td>-1.637228</td>\n",
       "      <td>1.756694</td>\n",
       "      <td>-1.884878</td>\n",
       "      <td>2.022415</td>\n",
       "      <td>0.368960</td>\n",
       "    </tr>\n",
       "    <tr>\n",
       "      <th>4</th>\n",
       "      <td>0.865408</td>\n",
       "      <td>0.748930</td>\n",
       "      <td>0.648130</td>\n",
       "      <td>0.560897</td>\n",
       "      <td>0.485404</td>\n",
       "      <td>0.420073</td>\n",
       "      <td>0.363534</td>\n",
       "      <td>0.314605</td>\n",
       "      <td>0.272262</td>\n",
       "      <td>0.235617</td>\n",
       "      <td>7.512709</td>\n",
       "    </tr>\n",
       "  </tbody>\n",
       "</table>\n",
       "</div>"
      ],
      "text/plain": [
       "         X1        X2        X3        X4         X5         X6         X7  \\\n",
       "0  1.624345  2.638498  4.285832  6.961671  11.308158  18.368354  29.836551   \n",
       "1 -0.611756  0.374246 -0.228947  0.140060  -0.085683   0.052417  -0.032066   \n",
       "2 -0.528172  0.278965 -0.147342  0.077822  -0.041103   0.021710  -0.011466   \n",
       "3 -1.072969  1.151262 -1.235268  1.325403  -1.422116   1.525886  -1.637228   \n",
       "4  0.865408  0.748930  0.648130  0.560897   0.485404   0.420073   0.363534   \n",
       "\n",
       "          X8         X9         X10          Y  \n",
       "0  48.464863  78.723675  127.874436  18.613080  \n",
       "1   0.019617  -0.012001    0.007342   2.297027  \n",
       "2   0.006056  -0.003199    0.001689   1.701394  \n",
       "3   1.756694  -1.884878    2.022415   0.368960  \n",
       "4   0.314605   0.272262    0.235617   7.512709  "
      ]
     },
     "execution_count": 13,
     "metadata": {},
     "output_type": "execute_result"
    }
   ],
   "source": [
    "data = pd.concat([predictors,pd.DataFrame(Y,columns = ['Y'])],axis = 1)\n",
    "data.head()"
   ]
  },
  {
   "cell_type": "code",
   "execution_count": 14,
   "metadata": {},
   "outputs": [],
   "source": [
    "result_fwd = forward_stepwise_selection(data,'Y')"
   ]
  },
  {
   "cell_type": "code",
   "execution_count": 15,
   "metadata": {},
   "outputs": [
    {
     "data": {
      "text/html": [
       "<div>\n",
       "<style scoped>\n",
       "    .dataframe tbody tr th:only-of-type {\n",
       "        vertical-align: middle;\n",
       "    }\n",
       "\n",
       "    .dataframe tbody tr th {\n",
       "        vertical-align: top;\n",
       "    }\n",
       "\n",
       "    .dataframe thead th {\n",
       "        text-align: right;\n",
       "    }\n",
       "</style>\n",
       "<table border=\"1\" class=\"dataframe\">\n",
       "  <thead>\n",
       "    <tr style=\"text-align: right;\">\n",
       "      <th></th>\n",
       "      <th>numb_features</th>\n",
       "      <th>R_squared</th>\n",
       "      <th>AIC</th>\n",
       "      <th>BIC</th>\n",
       "      <th>adj_r2</th>\n",
       "      <th>features</th>\n",
       "    </tr>\n",
       "  </thead>\n",
       "  <tbody>\n",
       "    <tr>\n",
       "      <th>0</th>\n",
       "      <td>1</td>\n",
       "      <td>0.819633</td>\n",
       "      <td>492.118982</td>\n",
       "      <td>497.329322</td>\n",
       "      <td>0.817793</td>\n",
       "      <td>[X1]</td>\n",
       "    </tr>\n",
       "    <tr>\n",
       "      <th>1</th>\n",
       "      <td>2</td>\n",
       "      <td>0.922965</td>\n",
       "      <td>409.046022</td>\n",
       "      <td>416.861533</td>\n",
       "      <td>0.921376</td>\n",
       "      <td>[X1, X2]</td>\n",
       "    </tr>\n",
       "    <tr>\n",
       "      <th>2</th>\n",
       "      <td>3</td>\n",
       "      <td>0.980175</td>\n",
       "      <td>275.313877</td>\n",
       "      <td>285.734557</td>\n",
       "      <td>0.979556</td>\n",
       "      <td>[X1, X2, X3]</td>\n",
       "    </tr>\n",
       "    <tr>\n",
       "      <th>3</th>\n",
       "      <td>4</td>\n",
       "      <td>0.981346</td>\n",
       "      <td>271.223347</td>\n",
       "      <td>284.249198</td>\n",
       "      <td>0.980561</td>\n",
       "      <td>[X1, X2, X3, X6]</td>\n",
       "    </tr>\n",
       "    <tr>\n",
       "      <th>4</th>\n",
       "      <td>5</td>\n",
       "      <td>0.981413</td>\n",
       "      <td>272.863273</td>\n",
       "      <td>288.494294</td>\n",
       "      <td>0.980425</td>\n",
       "      <td>[X1, X2, X3, X6, X10]</td>\n",
       "    </tr>\n",
       "    <tr>\n",
       "      <th>5</th>\n",
       "      <td>6</td>\n",
       "      <td>0.981497</td>\n",
       "      <td>274.414314</td>\n",
       "      <td>292.650506</td>\n",
       "      <td>0.980303</td>\n",
       "      <td>[X1, X2, X3, X6, X10, X4]</td>\n",
       "    </tr>\n",
       "    <tr>\n",
       "      <th>6</th>\n",
       "      <td>7</td>\n",
       "      <td>0.981718</td>\n",
       "      <td>275.210066</td>\n",
       "      <td>296.051427</td>\n",
       "      <td>0.980327</td>\n",
       "      <td>[X1, X2, X3, X6, X10, X4, X8]</td>\n",
       "    </tr>\n",
       "    <tr>\n",
       "      <th>7</th>\n",
       "      <td>8</td>\n",
       "      <td>0.981722</td>\n",
       "      <td>277.190336</td>\n",
       "      <td>300.636868</td>\n",
       "      <td>0.980115</td>\n",
       "      <td>[X1, X2, X3, X6, X10, X4, X8, X9]</td>\n",
       "    </tr>\n",
       "    <tr>\n",
       "      <th>8</th>\n",
       "      <td>9</td>\n",
       "      <td>0.981743</td>\n",
       "      <td>279.076446</td>\n",
       "      <td>305.128148</td>\n",
       "      <td>0.979917</td>\n",
       "      <td>[X1, X2, X3, X6, X10, X4, X8, X9, X7]</td>\n",
       "    </tr>\n",
       "    <tr>\n",
       "      <th>9</th>\n",
       "      <td>10</td>\n",
       "      <td>0.982118</td>\n",
       "      <td>278.997310</td>\n",
       "      <td>307.654182</td>\n",
       "      <td>0.980109</td>\n",
       "      <td>[X1, X2, X3, X6, X10, X4, X8, X9, X7, X5]</td>\n",
       "    </tr>\n",
       "  </tbody>\n",
       "</table>\n",
       "</div>"
      ],
      "text/plain": [
       "   numb_features  R_squared         AIC         BIC    adj_r2  \\\n",
       "0              1   0.819633  492.118982  497.329322  0.817793   \n",
       "1              2   0.922965  409.046022  416.861533  0.921376   \n",
       "2              3   0.980175  275.313877  285.734557  0.979556   \n",
       "3              4   0.981346  271.223347  284.249198  0.980561   \n",
       "4              5   0.981413  272.863273  288.494294  0.980425   \n",
       "5              6   0.981497  274.414314  292.650506  0.980303   \n",
       "6              7   0.981718  275.210066  296.051427  0.980327   \n",
       "7              8   0.981722  277.190336  300.636868  0.980115   \n",
       "8              9   0.981743  279.076446  305.128148  0.979917   \n",
       "9             10   0.982118  278.997310  307.654182  0.980109   \n",
       "\n",
       "                                    features  \n",
       "0                                       [X1]  \n",
       "1                                   [X1, X2]  \n",
       "2                               [X1, X2, X3]  \n",
       "3                           [X1, X2, X3, X6]  \n",
       "4                      [X1, X2, X3, X6, X10]  \n",
       "5                  [X1, X2, X3, X6, X10, X4]  \n",
       "6              [X1, X2, X3, X6, X10, X4, X8]  \n",
       "7          [X1, X2, X3, X6, X10, X4, X8, X9]  \n",
       "8      [X1, X2, X3, X6, X10, X4, X8, X9, X7]  \n",
       "9  [X1, X2, X3, X6, X10, X4, X8, X9, X7, X5]  "
      ]
     },
     "execution_count": 15,
     "metadata": {},
     "output_type": "execute_result"
    }
   ],
   "source": [
    "result_fwd"
   ]
  },
  {
   "cell_type": "code",
   "execution_count": 16,
   "metadata": {},
   "outputs": [
    {
     "data": {
      "image/png": "[encoded data removed]",
      "text/plain": [
       "<Figure size 1296x288 with 3 Axes>"
      ]
     },
     "metadata": {
      "needs_background": "light"
     },
     "output_type": "display_data"
    }
   ],
   "source": [
    "plot_results(result_fwd)"
   ]
  },
  {
   "cell_type": "markdown",
   "metadata": {},
   "source": [
    "#### in this case, best model is model with 4 features, for all the three metrics"
   ]
  },
  {
   "cell_type": "code",
   "execution_count": 18,
   "metadata": {},
   "outputs": [],
   "source": [
    "def backward_stepwise_selection(data, target):\n",
    "  features =  [col for col in data.columns if not col == target]\n",
    "  total_features = []\n",
    "  list_r2 = []\n",
    "  list_adj_r2 = []\n",
    "  list_aic,list_bic = [],[]\n",
    "  len_features = []\n",
    "  while(len(features)>0):\n",
    "    features_with_constant = sm.add_constant(data[features])\n",
    "    model = sm.OLS(data[target], features_with_constant).fit()\n",
    "    max_p_value = model.pvalues[1:].max()\n",
    "    total_features.append(features.copy())\n",
    "    list_r2.append(model.rsquared)\n",
    "    list_aic.append(model.aic)\n",
    "    list_bic.append(model.bic)\n",
    "    len_features.append(len(total_features[-1]))\n",
    "    list_adj_r2.append(model.rsquared_adj)\n",
    "    excluded_feature = model.pvalues[1:].idxmax()\n",
    "    features.remove(excluded_feature)\n",
    "  return pd.DataFrame({'numb_features': len_features, 'R_squared':list_r2,\n",
    "                    'AIC':list_aic,'BIC':list_bic,'adj_r2':list_adj_r2,'features':total_features})"
   ]
  },
  {
   "cell_type": "code",
   "execution_count": 19,
   "metadata": {},
   "outputs": [],
   "source": [
    "result_bwd = backward_stepwise_selection(data,'Y')"
   ]
  },
  {
   "cell_type": "code",
   "execution_count": 20,
   "metadata": {},
   "outputs": [
    {
     "data": {
      "text/html": [
       "<div>\n",
       "<style scoped>\n",
       "    .dataframe tbody tr th:only-of-type {\n",
       "        vertical-align: middle;\n",
       "    }\n",
       "\n",
       "    .dataframe tbody tr th {\n",
       "        vertical-align: top;\n",
       "    }\n",
       "\n",
       "    .dataframe thead th {\n",
       "        text-align: right;\n",
       "    }\n",
       "</style>\n",
       "<table border=\"1\" class=\"dataframe\">\n",
       "  <thead>\n",
       "    <tr style=\"text-align: right;\">\n",
       "      <th></th>\n",
       "      <th>numb_features</th>\n",
       "      <th>R_squared</th>\n",
       "      <th>AIC</th>\n",
       "      <th>BIC</th>\n",
       "      <th>adj_r2</th>\n",
       "      <th>features</th>\n",
       "    </tr>\n",
       "  </thead>\n",
       "  <tbody>\n",
       "    <tr>\n",
       "      <th>0</th>\n",
       "      <td>10</td>\n",
       "      <td>0.982118</td>\n",
       "      <td>278.997310</td>\n",
       "      <td>307.654182</td>\n",
       "      <td>0.980109</td>\n",
       "      <td>[X1, X2, X3, X4, X5, X6, X7, X8, X9, X10]</td>\n",
       "    </tr>\n",
       "    <tr>\n",
       "      <th>1</th>\n",
       "      <td>9</td>\n",
       "      <td>0.982049</td>\n",
       "      <td>277.384221</td>\n",
       "      <td>303.435923</td>\n",
       "      <td>0.980254</td>\n",
       "      <td>[X1, X2, X4, X5, X6, X7, X8, X9, X10]</td>\n",
       "    </tr>\n",
       "    <tr>\n",
       "      <th>2</th>\n",
       "      <td>8</td>\n",
       "      <td>0.981940</td>\n",
       "      <td>275.989785</td>\n",
       "      <td>299.436317</td>\n",
       "      <td>0.980352</td>\n",
       "      <td>[X1, X2, X4, X5, X6, X7, X8, X9]</td>\n",
       "    </tr>\n",
       "    <tr>\n",
       "      <th>3</th>\n",
       "      <td>7</td>\n",
       "      <td>0.981844</td>\n",
       "      <td>274.521879</td>\n",
       "      <td>295.363241</td>\n",
       "      <td>0.980462</td>\n",
       "      <td>[X1, X2, X4, X5, X6, X7, X9]</td>\n",
       "    </tr>\n",
       "    <tr>\n",
       "      <th>4</th>\n",
       "      <td>6</td>\n",
       "      <td>0.981764</td>\n",
       "      <td>272.962058</td>\n",
       "      <td>291.198249</td>\n",
       "      <td>0.980587</td>\n",
       "      <td>[X1, X2, X5, X6, X7, X9]</td>\n",
       "    </tr>\n",
       "    <tr>\n",
       "      <th>5</th>\n",
       "      <td>5</td>\n",
       "      <td>0.980788</td>\n",
       "      <td>276.172489</td>\n",
       "      <td>291.803510</td>\n",
       "      <td>0.979766</td>\n",
       "      <td>[X1, X2, X5, X6, X7]</td>\n",
       "    </tr>\n",
       "    <tr>\n",
       "      <th>6</th>\n",
       "      <td>4</td>\n",
       "      <td>0.980037</td>\n",
       "      <td>278.006463</td>\n",
       "      <td>291.032314</td>\n",
       "      <td>0.979197</td>\n",
       "      <td>[X1, X2, X5, X7]</td>\n",
       "    </tr>\n",
       "    <tr>\n",
       "      <th>7</th>\n",
       "      <td>3</td>\n",
       "      <td>0.977367</td>\n",
       "      <td>288.559405</td>\n",
       "      <td>298.980086</td>\n",
       "      <td>0.976660</td>\n",
       "      <td>[X1, X2, X5]</td>\n",
       "    </tr>\n",
       "    <tr>\n",
       "      <th>8</th>\n",
       "      <td>2</td>\n",
       "      <td>0.922965</td>\n",
       "      <td>409.046022</td>\n",
       "      <td>416.861533</td>\n",
       "      <td>0.921376</td>\n",
       "      <td>[X1, X2]</td>\n",
       "    </tr>\n",
       "    <tr>\n",
       "      <th>9</th>\n",
       "      <td>1</td>\n",
       "      <td>0.819633</td>\n",
       "      <td>492.118982</td>\n",
       "      <td>497.329322</td>\n",
       "      <td>0.817793</td>\n",
       "      <td>[X1]</td>\n",
       "    </tr>\n",
       "  </tbody>\n",
       "</table>\n",
       "</div>"
      ],
      "text/plain": [
       "   numb_features  R_squared         AIC         BIC    adj_r2  \\\n",
       "0             10   0.982118  278.997310  307.654182  0.980109   \n",
       "1              9   0.982049  277.384221  303.435923  0.980254   \n",
       "2              8   0.981940  275.989785  299.436317  0.980352   \n",
       "3              7   0.981844  274.521879  295.363241  0.980462   \n",
       "4              6   0.981764  272.962058  291.198249  0.980587   \n",
       "5              5   0.980788  276.172489  291.803510  0.979766   \n",
       "6              4   0.980037  278.006463  291.032314  0.979197   \n",
       "7              3   0.977367  288.559405  298.980086  0.976660   \n",
       "8              2   0.922965  409.046022  416.861533  0.921376   \n",
       "9              1   0.819633  492.118982  497.329322  0.817793   \n",
       "\n",
       "                                    features  \n",
       "0  [X1, X2, X3, X4, X5, X6, X7, X8, X9, X10]  \n",
       "1      [X1, X2, X4, X5, X6, X7, X8, X9, X10]  \n",
       "2           [X1, X2, X4, X5, X6, X7, X8, X9]  \n",
       "3               [X1, X2, X4, X5, X6, X7, X9]  \n",
       "4                   [X1, X2, X5, X6, X7, X9]  \n",
       "5                       [X1, X2, X5, X6, X7]  \n",
       "6                           [X1, X2, X5, X7]  \n",
       "7                               [X1, X2, X5]  \n",
       "8                                   [X1, X2]  \n",
       "9                                       [X1]  "
      ]
     },
     "execution_count": 20,
     "metadata": {},
     "output_type": "execute_result"
    }
   ],
   "source": [
    "result_bwd"
   ]
  },
  {
   "cell_type": "code",
   "execution_count": 21,
   "metadata": {},
   "outputs": [
    {
     "data": {
      "image/png": "[encoded data removed]",
      "text/plain": [
       "<Figure size 1296x288 with 3 Axes>"
      ]
     },
     "metadata": {
      "needs_background": "light"
     },
     "output_type": "display_data"
    }
   ],
   "source": [
    "plot_results(result_bwd)"
   ]
  },
  {
   "cell_type": "markdown",
   "metadata": {},
   "source": [
    "### (e) Now fit a lasso model to the simulated data, again using X, X2, ...,X10 as predictors. Use cross-validation to select the optimal value of λ. Create plots of the cross-validation error as a function of λ. Report the resulting coefficient estimates, and discuss the results obtained.\n",
    "\n",
    "\n",
    "\n"
   ]
  },
  {
   "cell_type": "code",
   "execution_count": 22,
   "metadata": {},
   "outputs": [
    {
     "data": {
      "text/html": [
       "<div>\n",
       "<style scoped>\n",
       "    .dataframe tbody tr th:only-of-type {\n",
       "        vertical-align: middle;\n",
       "    }\n",
       "\n",
       "    .dataframe tbody tr th {\n",
       "        vertical-align: top;\n",
       "    }\n",
       "\n",
       "    .dataframe thead th {\n",
       "        text-align: right;\n",
       "    }\n",
       "</style>\n",
       "<table border=\"1\" class=\"dataframe\">\n",
       "  <thead>\n",
       "    <tr style=\"text-align: right;\">\n",
       "      <th></th>\n",
       "      <th>X1</th>\n",
       "      <th>X2</th>\n",
       "      <th>X3</th>\n",
       "      <th>X4</th>\n",
       "      <th>X5</th>\n",
       "      <th>X6</th>\n",
       "      <th>X7</th>\n",
       "      <th>X8</th>\n",
       "      <th>X9</th>\n",
       "      <th>X10</th>\n",
       "    </tr>\n",
       "  </thead>\n",
       "  <tbody>\n",
       "    <tr>\n",
       "      <th>0</th>\n",
       "      <td>1.624345</td>\n",
       "      <td>2.638498</td>\n",
       "      <td>4.285832</td>\n",
       "      <td>6.961671</td>\n",
       "      <td>11.308158</td>\n",
       "      <td>18.368354</td>\n",
       "      <td>29.836551</td>\n",
       "      <td>48.464863</td>\n",
       "      <td>78.723675</td>\n",
       "      <td>127.874436</td>\n",
       "    </tr>\n",
       "    <tr>\n",
       "      <th>1</th>\n",
       "      <td>-0.611756</td>\n",
       "      <td>0.374246</td>\n",
       "      <td>-0.228947</td>\n",
       "      <td>0.140060</td>\n",
       "      <td>-0.085683</td>\n",
       "      <td>0.052417</td>\n",
       "      <td>-0.032066</td>\n",
       "      <td>0.019617</td>\n",
       "      <td>-0.012001</td>\n",
       "      <td>0.007342</td>\n",
       "    </tr>\n",
       "    <tr>\n",
       "      <th>2</th>\n",
       "      <td>-0.528172</td>\n",
       "      <td>0.278965</td>\n",
       "      <td>-0.147342</td>\n",
       "      <td>0.077822</td>\n",
       "      <td>-0.041103</td>\n",
       "      <td>0.021710</td>\n",
       "      <td>-0.011466</td>\n",
       "      <td>0.006056</td>\n",
       "      <td>-0.003199</td>\n",
       "      <td>0.001689</td>\n",
       "    </tr>\n",
       "    <tr>\n",
       "      <th>3</th>\n",
       "      <td>-1.072969</td>\n",
       "      <td>1.151262</td>\n",
       "      <td>-1.235268</td>\n",
       "      <td>1.325403</td>\n",
       "      <td>-1.422116</td>\n",
       "      <td>1.525886</td>\n",
       "      <td>-1.637228</td>\n",
       "      <td>1.756694</td>\n",
       "      <td>-1.884878</td>\n",
       "      <td>2.022415</td>\n",
       "    </tr>\n",
       "    <tr>\n",
       "      <th>4</th>\n",
       "      <td>0.865408</td>\n",
       "      <td>0.748930</td>\n",
       "      <td>0.648130</td>\n",
       "      <td>0.560897</td>\n",
       "      <td>0.485404</td>\n",
       "      <td>0.420073</td>\n",
       "      <td>0.363534</td>\n",
       "      <td>0.314605</td>\n",
       "      <td>0.272262</td>\n",
       "      <td>0.235617</td>\n",
       "    </tr>\n",
       "  </tbody>\n",
       "</table>\n",
       "</div>"
      ],
      "text/plain": [
       "         X1        X2        X3        X4         X5         X6         X7  \\\n",
       "0  1.624345  2.638498  4.285832  6.961671  11.308158  18.368354  29.836551   \n",
       "1 -0.611756  0.374246 -0.228947  0.140060  -0.085683   0.052417  -0.032066   \n",
       "2 -0.528172  0.278965 -0.147342  0.077822  -0.041103   0.021710  -0.011466   \n",
       "3 -1.072969  1.151262 -1.235268  1.325403  -1.422116   1.525886  -1.637228   \n",
       "4  0.865408  0.748930  0.648130  0.560897   0.485404   0.420073   0.363534   \n",
       "\n",
       "          X8         X9         X10  \n",
       "0  48.464863  78.723675  127.874436  \n",
       "1   0.019617  -0.012001    0.007342  \n",
       "2   0.006056  -0.003199    0.001689  \n",
       "3   1.756694  -1.884878    2.022415  \n",
       "4   0.314605   0.272262    0.235617  "
      ]
     },
     "execution_count": 22,
     "metadata": {},
     "output_type": "execute_result"
    }
   ],
   "source": [
    "# predictors contain the dataframe for all the X's, response is stored in Y dataframe\n",
    "predictors.head()"
   ]
  },
  {
   "cell_type": "code",
   "execution_count": 23,
   "metadata": {},
   "outputs": [],
   "source": [
    "alpha_list = 10**np.linspace(-5,3,100)"
   ]
  },
  {
   "cell_type": "code",
   "execution_count": 24,
   "metadata": {},
   "outputs": [],
   "source": [
    "def run_lasso(X,y,alpha_list):\n",
    "  \"\"\"\n",
    "  Input - \n",
    "     X - predictors\n",
    "     y - response\n",
    "     alpha_list - list of parameter for lasso - alpha\n",
    "  Returns - \n",
    "     coeff dict - dict of alpha - coeffs \n",
    "     cv_error_list - list of cross val errors\n",
    "  \"\"\"\n",
    "  coeff_dict = {}\n",
    "  cv_error_list = []\n",
    "  for alpha in alpha_list:\n",
    "    lasso = Lasso(alpha = alpha)\n",
    "    lasso.fit(X,y)\n",
    "    coeff_dict[alpha] = list(lasso.coef_)\n",
    "    cv_error_list.append(-np.mean(cross_val_score(lasso,X,y,cv = 10,scoring = 'neg_mean_squared_error')))\n",
    "  return coeff_dict,cv_error_list     "
   ]
  },
  {
   "cell_type": "code",
   "execution_count": 26,
   "metadata": {},
   "outputs": [],
   "source": [
    "from warnings import filterwarnings\n",
    "filterwarnings('ignore')\n",
    "\n",
    "coeff_dict,cv_error_list = run_lasso(predictors,Y,alpha_list)"
   ]
  },
  {
   "cell_type": "code",
   "execution_count": 28,
   "metadata": {},
   "outputs": [
    {
     "data": {
      "image/png": "[encoded data removed]",
      "text/plain": [
       "<Figure size 1440x720 with 1 Axes>"
      ]
     },
     "metadata": {
      "needs_background": "light"
     },
     "output_type": "display_data"
    }
   ],
   "source": [
    "# Analyzing the coefficients\n",
    "tmp = pd.DataFrame(coeff_dict).T\n",
    "tmp.index = alpha_list\n",
    "tmp.head()\n",
    "\n",
    "plt.figure(figsize = (16,8), dpi=90)\n",
    "sns.lineplot(data = tmp, dashes=False)\n",
    "plt.axhline(y = 0,linestyle = 'dashed',lw = 0.1,color = 'black')\n",
    "plt.xticks(alpha_list)\n",
    "plt.ylabel('Coeffients',fontsize = 14)\n",
    "plt.xlabel('Alpha')\n",
    "plt.legend(loc='right')\n",
    "plt.xscale('log')"
   ]
  },
  {
   "cell_type": "code",
   "execution_count": 29,
   "metadata": {},
   "outputs": [
    {
     "data": {
      "image/png": "[encoded data removed]",
      "text/plain": [
       "<Figure size 432x288 with 1 Axes>"
      ]
     },
     "metadata": {
      "needs_background": "light"
     },
     "output_type": "display_data"
    }
   ],
   "source": [
    "# Cross validation error\n",
    "plt.plot(alpha_list,cv_error_list)\n",
    "plt.xscale('log')"
   ]
  },
  {
   "cell_type": "markdown",
   "metadata": {},
   "source": [
    "#### FOr cv, we can use a built finction LassoCV"
   ]
  },
  {
   "cell_type": "markdown",
   "metadata": {},
   "source": [
    "https://scikit-learn.org/stable/modules/generated/sklearn.linear_model.LassoCV.html"
   ]
  },
  {
   "cell_type": "code",
   "execution_count": 30,
   "metadata": {},
   "outputs": [],
   "source": [
    "# Using lassoCV\n",
    "# we just need to pass number of alphas, it automatically chooses the list of alphas to be considerd for normalization\n",
    "# Since, we have only 100 observations, we are going to set a high number of iterations\n",
    "\n",
    "lasso_cv = LassoCV(alphas = alpha_list,normalize = True,max_iter = 100000)\n",
    "lasso_cv.fit(predictors,Y)\n",
    "\n",
    "alphas_used = lasso_cv.alphas_\n",
    "mse_cv = np.mean(lasso_cv.mse_path_,axis = 1)"
   ]
  },
  {
   "cell_type": "code",
   "execution_count": 31,
   "metadata": {},
   "outputs": [
    {
     "data": {
      "image/png": "[encoded data removed]",
      "text/plain": [
       "<Figure size 432x288 with 1 Axes>"
      ]
     },
     "metadata": {
      "needs_background": "light"
     },
     "output_type": "display_data"
    }
   ],
   "source": [
    "plt.plot(alphas_used,mse_cv)\n",
    "plt.plot(lasso_cv.alpha_,min(mse_cv),marker = 'o',color = 'red',markersize = 8)\n",
    "plt.xlabel('Alpha')\n",
    "plt.ylabel('k fold MSE')\n",
    "plt.xscale('log')"
   ]
  },
  {
   "cell_type": "code",
   "execution_count": 32,
   "metadata": {},
   "outputs": [
    {
     "name": "stdout",
     "output_type": "stream",
     "text": [
      "Intercept    3.306204\n",
      "X1           3.907543\n",
      "X2           1.527781\n",
      "X3           1.097265\n",
      "X4           0.087495\n",
      "X5           0.000000\n",
      "X6           0.007354\n",
      "X7           0.000000\n",
      "X8           0.000000\n",
      "X9           0.000000\n",
      "X10          0.000000\n",
      "dtype: float64\n"
     ]
    }
   ],
   "source": [
    "# Model Selected \n",
    "\n",
    "print(pd.Series(np.hstack([lasso_cv.intercept_,lasso_cv.coef_]),index = ['Intercept']+['X' + str(i) for i in range(1,11)]))"
   ]
  },
  {
   "cell_type": "code",
   "execution_count": 33,
   "metadata": {},
   "outputs": [],
   "source": [
    "# this is our stimualted data - beta = [3,4,2,1]\n",
    "# our model predicted - [3.3,3.9,1.5,1.09]\n",
    "# this is very clase to the real coefficients"
   ]
  },
  {
   "cell_type": "markdown",
   "metadata": {},
   "source": [
    "### (f) Now generate a response vector Y according to the model, and perform best subset selection and the lasso. Discuss the results obtained."
   ]
  },
  {
   "cell_type": "markdown",
   "metadata": {},
   "source": [
    "Y = β0 + β7X7 + eps"
   ]
  },
  {
   "cell_type": "code",
   "execution_count": 34,
   "metadata": {},
   "outputs": [
    {
     "data": {
      "text/plain": [
       "(100,)"
      ]
     },
     "execution_count": 34,
     "metadata": {},
     "output_type": "execute_result"
    }
   ],
   "source": [
    "X.shape"
   ]
  },
  {
   "cell_type": "code",
   "execution_count": 35,
   "metadata": {},
   "outputs": [],
   "source": [
    "beta = [0.5,2]\n",
    "Y =  beta[0] + beta[1]*X**7 + np.random.randn(100)"
   ]
  },
  {
   "cell_type": "code",
   "execution_count": 36,
   "metadata": {},
   "outputs": [
    {
     "data": {
      "text/html": [
       "<div>\n",
       "<style scoped>\n",
       "    .dataframe tbody tr th:only-of-type {\n",
       "        vertical-align: middle;\n",
       "    }\n",
       "\n",
       "    .dataframe tbody tr th {\n",
       "        vertical-align: top;\n",
       "    }\n",
       "\n",
       "    .dataframe thead th {\n",
       "        text-align: right;\n",
       "    }\n",
       "</style>\n",
       "<table border=\"1\" class=\"dataframe\">\n",
       "  <thead>\n",
       "    <tr style=\"text-align: right;\">\n",
       "      <th></th>\n",
       "      <th>X1</th>\n",
       "      <th>X2</th>\n",
       "      <th>X3</th>\n",
       "      <th>X4</th>\n",
       "      <th>X5</th>\n",
       "      <th>X6</th>\n",
       "      <th>X7</th>\n",
       "      <th>X8</th>\n",
       "      <th>X9</th>\n",
       "      <th>X10</th>\n",
       "    </tr>\n",
       "  </thead>\n",
       "  <tbody>\n",
       "    <tr>\n",
       "      <th>0</th>\n",
       "      <td>1.624345</td>\n",
       "      <td>2.638498</td>\n",
       "      <td>4.285832</td>\n",
       "      <td>6.961671</td>\n",
       "      <td>11.308158</td>\n",
       "      <td>18.368354</td>\n",
       "      <td>29.836551</td>\n",
       "      <td>48.464863</td>\n",
       "      <td>78.723675</td>\n",
       "      <td>127.874436</td>\n",
       "    </tr>\n",
       "    <tr>\n",
       "      <th>1</th>\n",
       "      <td>-0.611756</td>\n",
       "      <td>0.374246</td>\n",
       "      <td>-0.228947</td>\n",
       "      <td>0.140060</td>\n",
       "      <td>-0.085683</td>\n",
       "      <td>0.052417</td>\n",
       "      <td>-0.032066</td>\n",
       "      <td>0.019617</td>\n",
       "      <td>-0.012001</td>\n",
       "      <td>0.007342</td>\n",
       "    </tr>\n",
       "    <tr>\n",
       "      <th>2</th>\n",
       "      <td>-0.528172</td>\n",
       "      <td>0.278965</td>\n",
       "      <td>-0.147342</td>\n",
       "      <td>0.077822</td>\n",
       "      <td>-0.041103</td>\n",
       "      <td>0.021710</td>\n",
       "      <td>-0.011466</td>\n",
       "      <td>0.006056</td>\n",
       "      <td>-0.003199</td>\n",
       "      <td>0.001689</td>\n",
       "    </tr>\n",
       "    <tr>\n",
       "      <th>3</th>\n",
       "      <td>-1.072969</td>\n",
       "      <td>1.151262</td>\n",
       "      <td>-1.235268</td>\n",
       "      <td>1.325403</td>\n",
       "      <td>-1.422116</td>\n",
       "      <td>1.525886</td>\n",
       "      <td>-1.637228</td>\n",
       "      <td>1.756694</td>\n",
       "      <td>-1.884878</td>\n",
       "      <td>2.022415</td>\n",
       "    </tr>\n",
       "    <tr>\n",
       "      <th>4</th>\n",
       "      <td>0.865408</td>\n",
       "      <td>0.748930</td>\n",
       "      <td>0.648130</td>\n",
       "      <td>0.560897</td>\n",
       "      <td>0.485404</td>\n",
       "      <td>0.420073</td>\n",
       "      <td>0.363534</td>\n",
       "      <td>0.314605</td>\n",
       "      <td>0.272262</td>\n",
       "      <td>0.235617</td>\n",
       "    </tr>\n",
       "  </tbody>\n",
       "</table>\n",
       "</div>"
      ],
      "text/plain": [
       "         X1        X2        X3        X4         X5         X6         X7  \\\n",
       "0  1.624345  2.638498  4.285832  6.961671  11.308158  18.368354  29.836551   \n",
       "1 -0.611756  0.374246 -0.228947  0.140060  -0.085683   0.052417  -0.032066   \n",
       "2 -0.528172  0.278965 -0.147342  0.077822  -0.041103   0.021710  -0.011466   \n",
       "3 -1.072969  1.151262 -1.235268  1.325403  -1.422116   1.525886  -1.637228   \n",
       "4  0.865408  0.748930  0.648130  0.560897   0.485404   0.420073   0.363534   \n",
       "\n",
       "          X8         X9         X10  \n",
       "0  48.464863  78.723675  127.874436  \n",
       "1   0.019617  -0.012001    0.007342  \n",
       "2   0.006056  -0.003199    0.001689  \n",
       "3   1.756694  -1.884878    2.022415  \n",
       "4   0.314605   0.272262    0.235617  "
      ]
     },
     "execution_count": 36,
     "metadata": {},
     "output_type": "execute_result"
    }
   ],
   "source": [
    "predictors.head()"
   ]
  },
  {
   "cell_type": "code",
   "execution_count": 37,
   "metadata": {},
   "outputs": [
    {
     "data": {
      "application/vnd.jupyter.widget-view+json": {
       "model_id": "a696a2991fe045b8b19f72f57f827573",
       "version_major": 2,
       "version_minor": 0
      },
      "text/plain": [
       "HBox(children=(FloatProgress(value=0.0, description='Loop...', max=10.0, style=ProgressStyle(description_width…"
      ]
     },
     "metadata": {},
     "output_type": "display_data"
    },
    {
     "name": "stdout",
     "output_type": "stream",
     "text": [
      "\n"
     ]
    }
   ],
   "source": [
    "result_subset = run_subset_selection(predictors,Y)"
   ]
  },
  {
   "cell_type": "code",
   "execution_count": 38,
   "metadata": {},
   "outputs": [
    {
     "data": {
      "text/html": [
       "<div>\n",
       "<style scoped>\n",
       "    .dataframe tbody tr th:only-of-type {\n",
       "        vertical-align: middle;\n",
       "    }\n",
       "\n",
       "    .dataframe tbody tr th {\n",
       "        vertical-align: top;\n",
       "    }\n",
       "\n",
       "    .dataframe thead th {\n",
       "        text-align: right;\n",
       "    }\n",
       "</style>\n",
       "<table border=\"1\" class=\"dataframe\">\n",
       "  <thead>\n",
       "    <tr style=\"text-align: right;\">\n",
       "      <th></th>\n",
       "      <th>numb_features</th>\n",
       "      <th>RSS</th>\n",
       "      <th>R_squared</th>\n",
       "      <th>AIC</th>\n",
       "      <th>BIC</th>\n",
       "      <th>adj_r2</th>\n",
       "      <th>features</th>\n",
       "    </tr>\n",
       "  </thead>\n",
       "  <tbody>\n",
       "    <tr>\n",
       "      <th>0</th>\n",
       "      <td>1</td>\n",
       "      <td>101.459924</td>\n",
       "      <td>0.999901</td>\n",
       "      <td>289.237077</td>\n",
       "      <td>294.447417</td>\n",
       "      <td>0.999900</td>\n",
       "      <td>(X7,)</td>\n",
       "    </tr>\n",
       "    <tr>\n",
       "      <th>1</th>\n",
       "      <td>2</td>\n",
       "      <td>99.287288</td>\n",
       "      <td>0.999904</td>\n",
       "      <td>289.072443</td>\n",
       "      <td>296.887954</td>\n",
       "      <td>0.999902</td>\n",
       "      <td>(X7, X9)</td>\n",
       "    </tr>\n",
       "    <tr>\n",
       "      <th>2</th>\n",
       "      <td>3</td>\n",
       "      <td>98.640400</td>\n",
       "      <td>0.999904</td>\n",
       "      <td>290.418780</td>\n",
       "      <td>300.839460</td>\n",
       "      <td>0.999901</td>\n",
       "      <td>(X1, X7, X9)</td>\n",
       "    </tr>\n",
       "    <tr>\n",
       "      <th>3</th>\n",
       "      <td>4</td>\n",
       "      <td>97.091836</td>\n",
       "      <td>0.999906</td>\n",
       "      <td>290.836417</td>\n",
       "      <td>303.862268</td>\n",
       "      <td>0.999902</td>\n",
       "      <td>(X1, X7, X8, X10)</td>\n",
       "    </tr>\n",
       "    <tr>\n",
       "      <th>4</th>\n",
       "      <td>5</td>\n",
       "      <td>97.035259</td>\n",
       "      <td>0.999906</td>\n",
       "      <td>292.778129</td>\n",
       "      <td>308.409150</td>\n",
       "      <td>0.999901</td>\n",
       "      <td>(X1, X6, X7, X8, X10)</td>\n",
       "    </tr>\n",
       "  </tbody>\n",
       "</table>\n",
       "</div>"
      ],
      "text/plain": [
       "   numb_features         RSS  R_squared         AIC         BIC    adj_r2  \\\n",
       "0              1  101.459924   0.999901  289.237077  294.447417  0.999900   \n",
       "1              2   99.287288   0.999904  289.072443  296.887954  0.999902   \n",
       "2              3   98.640400   0.999904  290.418780  300.839460  0.999901   \n",
       "3              4   97.091836   0.999906  290.836417  303.862268  0.999902   \n",
       "4              5   97.035259   0.999906  292.778129  308.409150  0.999901   \n",
       "\n",
       "                features  \n",
       "0                  (X7,)  \n",
       "1               (X7, X9)  \n",
       "2           (X1, X7, X9)  \n",
       "3      (X1, X7, X8, X10)  \n",
       "4  (X1, X6, X7, X8, X10)  "
      ]
     },
     "execution_count": 38,
     "metadata": {},
     "output_type": "execute_result"
    }
   ],
   "source": [
    "result_subset.head()"
   ]
  },
  {
   "cell_type": "code",
   "execution_count": 39,
   "metadata": {},
   "outputs": [
    {
     "data": {
      "image/png": "[encoded data removed]",
      "text/plain": [
       "<Figure size 1296x288 with 3 Axes>"
      ]
     },
     "metadata": {
      "needs_background": "light"
     },
     "output_type": "display_data"
    }
   ],
   "source": [
    "plot_results(result_subset)"
   ]
  },
  {
   "cell_type": "code",
   "execution_count": 40,
   "metadata": {},
   "outputs": [
    {
     "name": "stdout",
     "output_type": "stream",
     "text": [
      "0.5674985885775612 [2.00015928]\n"
     ]
    }
   ],
   "source": [
    "# we can see that the first feature choosen is X7. Lets see what are the coeff for it\n",
    "model = LinearRegression()\n",
    "model.fit(predictors['X7'].to_frame(),Y)\n",
    "print(model.intercept_,model.coef_)\n",
    "# we can see how close the predicted weights are that to the real ones"
   ]
  },
  {
   "cell_type": "code",
   "execution_count": 41,
   "metadata": {},
   "outputs": [],
   "source": [
    "# Lasso \n",
    "lasso_cv = LassoCV(alphas = alpha_list,normalize = True,max_iter = 100000)\n",
    "lasso_cv.fit(predictors,Y)\n",
    "\n",
    "alphas_used = lasso_cv.alphas_\n",
    "mse_cv = np.mean(lasso_cv.mse_path_,axis = 1)"
   ]
  },
  {
   "cell_type": "code",
   "execution_count": 42,
   "metadata": {},
   "outputs": [
    {
     "name": "stdout",
     "output_type": "stream",
     "text": [
      "Intercept    0.527720\n",
      "X1          -0.000000\n",
      "X2          -0.000000\n",
      "X3           0.000000\n",
      "X4          -0.000000\n",
      "X5           0.461373\n",
      "X6           0.000000\n",
      "X7           1.792293\n",
      "X8           0.000000\n",
      "X9           0.022493\n",
      "X10          0.000000\n",
      "dtype: float64\n"
     ]
    }
   ],
   "source": [
    "print(pd.Series(np.hstack([lasso_cv.intercept_,lasso_cv.coef_]),index = ['Intercept']+['X' + str(i) for i in range(1,11)]))"
   ]
  },
  {
   "cell_type": "code",
   "execution_count": 43,
   "metadata": {},
   "outputs": [],
   "source": [
    "# The weights of intercept and X7 here too is close to the original"
   ]
  },
  {
   "cell_type": "markdown",
   "metadata": {},
   "source": [
    "## 9. In this exercise, we will predict the number of applications received using the other variables in the College data set.\n",
    " "
   ]
  },
  {
   "cell_type": "code",
   "execution_count": 45,
   "metadata": {},
   "outputs": [
    {
     "name": "stdout",
     "output_type": "stream",
     "text": [
      "(777, 19)\n"
     ]
    },
    {
     "data": {
      "text/html": [
       "<div>\n",
       "<style scoped>\n",
       "    .dataframe tbody tr th:only-of-type {\n",
       "        vertical-align: middle;\n",
       "    }\n",
       "\n",
       "    .dataframe tbody tr th {\n",
       "        vertical-align: top;\n",
       "    }\n",
       "\n",
       "    .dataframe thead th {\n",
       "        text-align: right;\n",
       "    }\n",
       "</style>\n",
       "<table border=\"1\" class=\"dataframe\">\n",
       "  <thead>\n",
       "    <tr style=\"text-align: right;\">\n",
       "      <th></th>\n",
       "      <th>Unnamed: 0</th>\n",
       "      <th>Private</th>\n",
       "      <th>Apps</th>\n",
       "      <th>Accept</th>\n",
       "      <th>Enroll</th>\n",
       "      <th>Top10perc</th>\n",
       "      <th>Top25perc</th>\n",
       "      <th>F.Undergrad</th>\n",
       "      <th>P.Undergrad</th>\n",
       "      <th>Outstate</th>\n",
       "      <th>Room.Board</th>\n",
       "      <th>Books</th>\n",
       "      <th>Personal</th>\n",
       "      <th>PhD</th>\n",
       "      <th>Terminal</th>\n",
       "      <th>S.F.Ratio</th>\n",
       "      <th>perc.alumni</th>\n",
       "      <th>Expend</th>\n",
       "      <th>Grad.Rate</th>\n",
       "    </tr>\n",
       "  </thead>\n",
       "  <tbody>\n",
       "    <tr>\n",
       "      <th>0</th>\n",
       "      <td>Abilene Christian University</td>\n",
       "      <td>Yes</td>\n",
       "      <td>1660</td>\n",
       "      <td>1232</td>\n",
       "      <td>721</td>\n",
       "      <td>23</td>\n",
       "      <td>52</td>\n",
       "      <td>2885</td>\n",
       "      <td>537</td>\n",
       "      <td>7440</td>\n",
       "      <td>3300</td>\n",
       "      <td>450</td>\n",
       "      <td>2200</td>\n",
       "      <td>70</td>\n",
       "      <td>78</td>\n",
       "      <td>18.1</td>\n",
       "      <td>12</td>\n",
       "      <td>7041</td>\n",
       "      <td>60</td>\n",
       "    </tr>\n",
       "    <tr>\n",
       "      <th>1</th>\n",
       "      <td>Adelphi University</td>\n",
       "      <td>Yes</td>\n",
       "      <td>2186</td>\n",
       "      <td>1924</td>\n",
       "      <td>512</td>\n",
       "      <td>16</td>\n",
       "      <td>29</td>\n",
       "      <td>2683</td>\n",
       "      <td>1227</td>\n",
       "      <td>12280</td>\n",
       "      <td>6450</td>\n",
       "      <td>750</td>\n",
       "      <td>1500</td>\n",
       "      <td>29</td>\n",
       "      <td>30</td>\n",
       "      <td>12.2</td>\n",
       "      <td>16</td>\n",
       "      <td>10527</td>\n",
       "      <td>56</td>\n",
       "    </tr>\n",
       "    <tr>\n",
       "      <th>2</th>\n",
       "      <td>Adrian College</td>\n",
       "      <td>Yes</td>\n",
       "      <td>1428</td>\n",
       "      <td>1097</td>\n",
       "      <td>336</td>\n",
       "      <td>22</td>\n",
       "      <td>50</td>\n",
       "      <td>1036</td>\n",
       "      <td>99</td>\n",
       "      <td>11250</td>\n",
       "      <td>3750</td>\n",
       "      <td>400</td>\n",
       "      <td>1165</td>\n",
       "      <td>53</td>\n",
       "      <td>66</td>\n",
       "      <td>12.9</td>\n",
       "      <td>30</td>\n",
       "      <td>8735</td>\n",
       "      <td>54</td>\n",
       "    </tr>\n",
       "    <tr>\n",
       "      <th>3</th>\n",
       "      <td>Agnes Scott College</td>\n",
       "      <td>Yes</td>\n",
       "      <td>417</td>\n",
       "      <td>349</td>\n",
       "      <td>137</td>\n",
       "      <td>60</td>\n",
       "      <td>89</td>\n",
       "      <td>510</td>\n",
       "      <td>63</td>\n",
       "      <td>12960</td>\n",
       "      <td>5450</td>\n",
       "      <td>450</td>\n",
       "      <td>875</td>\n",
       "      <td>92</td>\n",
       "      <td>97</td>\n",
       "      <td>7.7</td>\n",
       "      <td>37</td>\n",
       "      <td>19016</td>\n",
       "      <td>59</td>\n",
       "    </tr>\n",
       "    <tr>\n",
       "      <th>4</th>\n",
       "      <td>Alaska Pacific University</td>\n",
       "      <td>Yes</td>\n",
       "      <td>193</td>\n",
       "      <td>146</td>\n",
       "      <td>55</td>\n",
       "      <td>16</td>\n",
       "      <td>44</td>\n",
       "      <td>249</td>\n",
       "      <td>869</td>\n",
       "      <td>7560</td>\n",
       "      <td>4120</td>\n",
       "      <td>800</td>\n",
       "      <td>1500</td>\n",
       "      <td>76</td>\n",
       "      <td>72</td>\n",
       "      <td>11.9</td>\n",
       "      <td>2</td>\n",
       "      <td>10922</td>\n",
       "      <td>15</td>\n",
       "    </tr>\n",
       "  </tbody>\n",
       "</table>\n",
       "</div>"
      ],
      "text/plain": [
       "                     Unnamed: 0 Private  Apps  Accept  Enroll  Top10perc  \\\n",
       "0  Abilene Christian University     Yes  1660    1232     721         23   \n",
       "1            Adelphi University     Yes  2186    1924     512         16   \n",
       "2                Adrian College     Yes  1428    1097     336         22   \n",
       "3           Agnes Scott College     Yes   417     349     137         60   \n",
       "4     Alaska Pacific University     Yes   193     146      55         16   \n",
       "\n",
       "   Top25perc  F.Undergrad  P.Undergrad  Outstate  Room.Board  Books  Personal  \\\n",
       "0         52         2885          537      7440        3300    450      2200   \n",
       "1         29         2683         1227     12280        6450    750      1500   \n",
       "2         50         1036           99     11250        3750    400      1165   \n",
       "3         89          510           63     12960        5450    450       875   \n",
       "4         44          249          869      7560        4120    800      1500   \n",
       "\n",
       "   PhD  Terminal  S.F.Ratio  perc.alumni  Expend  Grad.Rate  \n",
       "0   70        78       18.1           12    7041         60  \n",
       "1   29        30       12.2           16   10527         56  \n",
       "2   53        66       12.9           30    8735         54  \n",
       "3   92        97        7.7           37   19016         59  \n",
       "4   76        72       11.9            2   10922         15  "
      ]
     },
     "execution_count": 45,
     "metadata": {},
     "output_type": "execute_result"
    }
   ],
   "source": [
    "college = pd.read_csv(r'./data/College.csv')\n",
    "print(college.shape)\n",
    "college.head()"
   ]
  },
  {
   "cell_type": "code",
   "execution_count": 46,
   "metadata": {},
   "outputs": [],
   "source": [
    "college.drop('Unnamed: 0',axis = 1,inplace = True)"
   ]
  },
  {
   "cell_type": "markdown",
   "metadata": {},
   "source": [
    "### (a) Split the data set into a training set and a test set"
   ]
  },
  {
   "cell_type": "code",
   "execution_count": 47,
   "metadata": {},
   "outputs": [],
   "source": [
    "# before splitting , lets convert the cat features into numerical by one hot encoding\n",
    "college['Private'] = college['Private'].map({'Yes':1,'No':0})"
   ]
  },
  {
   "cell_type": "code",
   "execution_count": 48,
   "metadata": {},
   "outputs": [
    {
     "name": "stdout",
     "output_type": "stream",
     "text": [
      "(543, 17) (234, 17)\n"
     ]
    }
   ],
   "source": [
    "# now lets split into train and test\n",
    "X_train,X_test,y_train,y_test = train_test_split(college.drop('Apps',axis = 1),college['Apps'],test_size = 0.3,random_state = 0)\n",
    "print(X_train.shape,X_test.shape)"
   ]
  },
  {
   "cell_type": "markdown",
   "metadata": {},
   "source": [
    "### (b) Fit a linear model using least squares on the training set, and report the test error obtained.\n"
   ]
  },
  {
   "cell_type": "code",
   "execution_count": 49,
   "metadata": {},
   "outputs": [],
   "source": [
    "# we wil look at this at last\n",
    "results_dict = {}"
   ]
  },
  {
   "cell_type": "code",
   "execution_count": 50,
   "metadata": {},
   "outputs": [
    {
     "name": "stdout",
     "output_type": "stream",
     "text": [
      "Score is  0.9086043157818345\n"
     ]
    }
   ],
   "source": [
    "lin_reg = LinearRegression()\n",
    "lin_reg.fit(X_train,y_train)\n",
    "pred = lin_reg.predict(X_test)\n",
    "print('Score is ',r2_score(y_test,pred))\n",
    "results_dict['Least_squares'] = r2_score(y_test,pred)"
   ]
  },
  {
   "cell_type": "markdown",
   "metadata": {},
   "source": [
    "### (c) Fit a ridge regression model on the training set, with λ chosen by cross-validation. Report the test error obtained.\n"
   ]
  },
  {
   "cell_type": "code",
   "execution_count": 51,
   "metadata": {},
   "outputs": [
    {
     "data": {
      "text/plain": [
       "RidgeCV(alphas=array([1.00000000e-04, 1.09749877e-04, 1.20450354e-04, 1.32194115e-04,\n",
       "       1.45082878e-04, 1.59228279e-04, 1.74752840e-04, 1.91791026e-04,\n",
       "       2.10490414e-04, 2.31012970e-04, 2.53536449e-04, 2.78255940e-04,\n",
       "       3.05385551e-04, 3.35160265e-04, 3.67837977e-04, 4.03701726e-04,\n",
       "       4.43062146e-04, 4.86260158e-04, 5.33669923e-04, 5.85702082e-04,\n",
       "       6.42807312e-04, 7.05480231e-0...\n",
       "       1.17681195e-01, 1.29154967e-01, 1.41747416e-01, 1.55567614e-01,\n",
       "       1.70735265e-01, 1.87381742e-01, 2.05651231e-01, 2.25701972e-01,\n",
       "       2.47707636e-01, 2.71858824e-01, 2.98364724e-01, 3.27454916e-01,\n",
       "       3.59381366e-01, 3.94420606e-01, 4.32876128e-01, 4.75081016e-01,\n",
       "       5.21400829e-01, 5.72236766e-01, 6.28029144e-01, 6.89261210e-01,\n",
       "       7.56463328e-01, 8.30217568e-01, 9.11162756e-01, 1.00000000e+00]),\n",
       "        normalize=True, store_cv_values=True)"
      ]
     },
     "execution_count": 51,
     "metadata": {},
     "output_type": "execute_result"
    }
   ],
   "source": [
    "alphas = 10**(np.linspace(-4,0,100))\n",
    "ridge_cv = RidgeCV(alphas = alphas,normalize=True,store_cv_values=True)\n",
    "ridge_cv.fit(X_train,y_train)"
   ]
  },
  {
   "cell_type": "code",
   "execution_count": 52,
   "metadata": {},
   "outputs": [
    {
     "name": "stdout",
     "output_type": "stream",
     "text": [
      "valur of alpha choosen is  0.0041320124001153384\n"
     ]
    }
   ],
   "source": [
    "print('valur of alpha choosen is ',ridge_cv.alpha_)"
   ]
  },
  {
   "cell_type": "code",
   "execution_count": 53,
   "metadata": {},
   "outputs": [
    {
     "data": {
      "text/plain": [
       "Text(0.5, 1.0, 'Ridge Regression')"
      ]
     },
     "execution_count": 53,
     "metadata": {},
     "output_type": "execute_result"
    },
    {
     "data": {
      "image/png": "[encoded data removed]",
      "text/plain": [
       "<Figure size 432x288 with 1 Axes>"
      ]
     },
     "metadata": {
      "needs_background": "light"
     },
     "output_type": "display_data"
    }
   ],
   "source": [
    "mse_values = ridge_cv.cv_values_\n",
    "#mse_values.shape\n",
    "mse_errors = np.mean(mse_values,axis = 0)\n",
    "plt.plot(ridge_cv.alphas,mse_errors)\n",
    "plt.plot(ridge_cv.alpha_,np.min(mse_errors),marker = '*',markersize = 10,color = 'red')\n",
    "plt.xscale('log')\n",
    "plt.xlabel('Alphas')\n",
    "plt.ylabel('MSE with cv = 5')\n",
    "plt.title('Ridge Regression')"
   ]
  },
  {
   "cell_type": "code",
   "execution_count": 54,
   "metadata": {},
   "outputs": [
    {
     "name": "stdout",
     "output_type": "stream",
     "text": [
      "R2 Score is  0.9028402319645064\n"
     ]
    }
   ],
   "source": [
    "pred = ridge_cv.predict(X_test)\n",
    "print('R2 Score is ',r2_score(y_test,pred))\n",
    "results_dict['Ridge'] = r2_score(y_test,pred)"
   ]
  },
  {
   "cell_type": "code",
   "execution_count": 55,
   "metadata": {},
   "outputs": [
    {
     "name": "stdout",
     "output_type": "stream",
     "text": [
      "Intercept     -418.377749\n",
      "Private       -686.576113\n",
      "Accept           1.203935\n",
      "Enroll          -0.210836\n",
      "Top10perc       49.876799\n",
      "Top25perc      -14.321659\n",
      "F.Undergrad      0.092081\n",
      "P.Undergrad      0.035984\n",
      "Outstate        -0.036489\n",
      "Room.Board       0.225146\n",
      "Books            0.036336\n",
      "Personal        -0.048860\n",
      "PhD             -8.943022\n",
      "Terminal        -5.093359\n",
      "S.F.Ratio        4.544561\n",
      "perc.alumni     -8.628554\n",
      "Expend           0.065120\n",
      "Grad.Rate       10.695085\n",
      "dtype: float64\n"
     ]
    }
   ],
   "source": [
    "print(pd.Series(np.hstack([ridge_cv.intercept_,ridge_cv.coef_]),index = ['Intercept'] + list(college.drop('Apps',axis = 1).columns)))"
   ]
  },
  {
   "cell_type": "markdown",
   "metadata": {},
   "source": [
    "### (d) Fit a lasso model on the training set, with λ chosen by crossvalidation. Report the test error obtained, along with the number of non-zero coefficient estimates."
   ]
  },
  {
   "cell_type": "code",
   "execution_count": 56,
   "metadata": {},
   "outputs": [
    {
     "data": {
      "text/plain": [
       "LassoCV(alphas=array([1.00000000e-04, 1.09749877e-04, 1.20450354e-04, 1.32194115e-04,\n",
       "       1.45082878e-04, 1.59228279e-04, 1.74752840e-04, 1.91791026e-04,\n",
       "       2.10490414e-04, 2.31012970e-04, 2.53536449e-04, 2.78255940e-04,\n",
       "       3.05385551e-04, 3.35160265e-04, 3.67837977e-04, 4.03701726e-04,\n",
       "       4.43062146e-04, 4.86260158e-04, 5.33669923e-04, 5.85702082e-04,\n",
       "       6.42807312e-04, 7.05480231e-0...\n",
       "       1.17681195e-01, 1.29154967e-01, 1.41747416e-01, 1.55567614e-01,\n",
       "       1.70735265e-01, 1.87381742e-01, 2.05651231e-01, 2.25701972e-01,\n",
       "       2.47707636e-01, 2.71858824e-01, 2.98364724e-01, 3.27454916e-01,\n",
       "       3.59381366e-01, 3.94420606e-01, 4.32876128e-01, 4.75081016e-01,\n",
       "       5.21400829e-01, 5.72236766e-01, 6.28029144e-01, 6.89261210e-01,\n",
       "       7.56463328e-01, 8.30217568e-01, 9.11162756e-01, 1.00000000e+00]),\n",
       "        cv=10, normalize=True)"
      ]
     },
     "execution_count": 56,
     "metadata": {},
     "output_type": "execute_result"
    }
   ],
   "source": [
    "lasso_cv = LassoCV(alphas = alphas,normalize = True,cv = 10)\n",
    "lasso_cv.fit(X_train,y_train)"
   ]
  },
  {
   "cell_type": "code",
   "execution_count": 57,
   "metadata": {},
   "outputs": [
    {
     "data": {
      "text/plain": [
       "0.4750810162102798"
      ]
     },
     "execution_count": 57,
     "metadata": {},
     "output_type": "execute_result"
    }
   ],
   "source": [
    "lasso_cv.alpha_"
   ]
  },
  {
   "cell_type": "code",
   "execution_count": 58,
   "metadata": {},
   "outputs": [
    {
     "data": {
      "image/png": "[encoded data removed]",
      "text/plain": [
       "<Figure size 432x288 with 1 Axes>"
      ]
     },
     "metadata": {
      "needs_background": "light"
     },
     "output_type": "display_data"
    }
   ],
   "source": [
    "mse_lasso = np.mean(lasso_cv.mse_path_,axis = 1)\n",
    "plt.plot(lasso_cv.alphas,mse_lasso)\n",
    "plt.axhline(y = min(mse_lasso),linewidth = 0.5,linestyle = 'dashed',color = 'r')\n",
    "plt.plot(lasso_cv.alpha_,np.min(mse_lasso),marker = 'o',markersize = 10)\n",
    "plt.xscale('log')"
   ]
  },
  {
   "cell_type": "markdown",
   "metadata": {},
   "source": [
    "#### After lots of hair pulling i am still not ablet to get why this dot is not on the line, please if you can find it, \n",
    "#### do leave an issue"
   ]
  },
  {
   "cell_type": "code",
   "execution_count": 61,
   "metadata": {},
   "outputs": [
    {
     "name": "stdout",
     "output_type": "stream",
     "text": [
      "R2 score is  0.9034594192776941\n"
     ]
    }
   ],
   "source": [
    "pred = lasso_cv.predict(X_test)\n",
    "print('R2 score is ',r2_score(y_test,pred))\n",
    "results_dict['Lasso'] = r2_score(y_test,pred)"
   ]
  },
  {
   "cell_type": "code",
   "execution_count": 62,
   "metadata": {},
   "outputs": [
    {
     "name": "stdout",
     "output_type": "stream",
     "text": [
      "Intercept     -465.630008\n",
      "Private       -670.751294\n",
      "Accept           1.199801\n",
      "Enroll          -0.000000\n",
      "Top10perc       44.166457\n",
      "Top25perc       -9.580167\n",
      "F.Undergrad      0.054075\n",
      "P.Undergrad      0.030898\n",
      "Outstate        -0.025573\n",
      "Room.Board       0.205365\n",
      "Books            0.000000\n",
      "Personal        -0.018548\n",
      "PhD             -7.816703\n",
      "Terminal        -4.509051\n",
      "S.F.Ratio        0.000000\n",
      "perc.alumni     -7.671402\n",
      "Expend           0.058111\n",
      "Grad.Rate        8.396615\n",
      "dtype: float64\n"
     ]
    }
   ],
   "source": [
    "print(pd.Series(np.hstack([lasso_cv.intercept_,lasso_cv.coef_]),index = ['Intercept'] + list(college.drop('Apps',axis = 1).columns)))"
   ]
  },
  {
   "cell_type": "markdown",
   "metadata": {},
   "source": [
    "#### Three coefficients are shrunk to zero."
   ]
  },
  {
   "cell_type": "markdown",
   "metadata": {},
   "source": [
    "### (e) Fit a PCR model on the training set, with M chosen by crossvalidation. Report the test error obtained, along with the value of M selected by cross-validation.\n",
    "\n"
   ]
  },
  {
   "cell_type": "code",
   "execution_count": 65,
   "metadata": {},
   "outputs": [],
   "source": [
    "num_components = np.arange(1,X_train.shape[1])\n",
    "cv_score_pcr = []\n",
    "\n",
    "for num_component in num_components:\n",
    "  scaler = StandardScaler()\n",
    "  X_scaled = scaler.fit_transform(X_train)\n",
    "\n",
    "  pca = PCA(n_components=num_component)\n",
    "  X_pc = pca.fit_transform(X_scaled)\n",
    "\n",
    "  lin_model = LinearRegression()\n",
    "\n",
    "  cv_score_pcr.append(np.mean(cross_val_score(lin_model,X_pc,y_train,cv = 10)))"
   ]
  },
  {
   "cell_type": "code",
   "execution_count": 66,
   "metadata": {},
   "outputs": [
    {
     "data": {
      "text/plain": [
       "Text(0.5, 1.0, 'PCR')"
      ]
     },
     "execution_count": 66,
     "metadata": {},
     "output_type": "execute_result"
    },
    {
     "data": {
      "image/png": "[encoded data removed]",
      "text/plain": [
       "<Figure size 432x288 with 1 Axes>"
      ]
     },
     "metadata": {
      "needs_background": "light"
     },
     "output_type": "display_data"
    }
   ],
   "source": [
    "plt.plot(num_components,cv_score_pcr,marker = 'o')\n",
    "plt.xlabel('Num of Components')\n",
    "plt.ylabel('CV with k = 10')\n",
    "plt.title('PCR')"
   ]
  },
  {
   "cell_type": "markdown",
   "metadata": {},
   "source": [
    "#### The max score is for num_comp = 17, through which we will have the same model as with simple least squares\n",
    "#### but, lets see what score will we get when we choose num_components = 5"
   ]
  },
  {
   "cell_type": "code",
   "execution_count": 67,
   "metadata": {},
   "outputs": [
    {
     "name": "stdout",
     "output_type": "stream",
     "text": [
      "Score for pcr with num_components = 5 is  0.7659199507222769\n"
     ]
    }
   ],
   "source": [
    "scaler = StandardScaler()\n",
    "X_scaled = scaler.fit_transform(X_train)\n",
    "    \n",
    "pca = PCA(n_components=5)\n",
    "X_pc = pca.fit_transform(X_scaled)\n",
    "    \n",
    "lin_model = LinearRegression()\n",
    "lin_model.fit(X_pc,y_train)\n",
    "\n",
    "# To find the predictions for X_test, we need to scale it \n",
    "X_test_scaled = scaler.transform(X_test)\n",
    "X_test_pc = pca.transform(X_test_scaled)\n",
    "\n",
    "pred = lin_model.predict(X_test_pc)\n",
    "print('Score for pcr with num_components = 5 is ',r2_score(y_test,pred))\n",
    "# that's not good at all, we will stich with num_components = 17, which will give sane model as least squares"
   ]
  },
  {
   "cell_type": "code",
   "execution_count": 68,
   "metadata": {},
   "outputs": [
    {
     "name": "stdout",
     "output_type": "stream",
     "text": [
      "Score for pcr with num_components = 17 is  0.9086043157818379\n"
     ]
    }
   ],
   "source": [
    "scaler = StandardScaler()\n",
    "X_scaled = scaler.fit_transform(X_train)\n",
    "    \n",
    "pca = PCA(n_components=17)\n",
    "X_pc = pca.fit_transform(X_scaled)\n",
    "    \n",
    "lin_model = LinearRegression()\n",
    "lin_model.fit(X_pc,y_train)\n",
    "\n",
    "# To find the predictions for X_test, we need to scale it \n",
    "X_test_scaled = scaler.transform(X_test)\n",
    "X_test_pc = pca.transform(X_test_scaled)\n",
    "\n",
    "pred = lin_model.predict(X_test_pc)\n",
    "print('Score for pcr with num_components = 17 is ',r2_score(y_test,pred))\n",
    "# that's not good at all, we will stich with num_components = 17, which will give sane model as least squares\n",
    "results_dict['PCR'] = r2_score(y_test,pred)"
   ]
  },
  {
   "cell_type": "markdown",
   "metadata": {},
   "source": [
    "### (f) Fit a PLS model on the training set, with M chosen by crossvalidation. Report the test error obtained, along with the value of M selected by cross-validation.\n"
   ]
  },
  {
   "cell_type": "code",
   "execution_count": 69,
   "metadata": {},
   "outputs": [
    {
     "data": {
      "text/plain": [
       "array([ 1,  2,  3,  4,  5,  6,  7,  8,  9, 10, 11, 12, 13, 14, 15, 16])"
      ]
     },
     "execution_count": 69,
     "metadata": {},
     "output_type": "execute_result"
    }
   ],
   "source": [
    "num_components"
   ]
  },
  {
   "cell_type": "code",
   "execution_count": 70,
   "metadata": {},
   "outputs": [],
   "source": [
    "cv_scores_pls = []\n",
    "for num_component in num_components:\n",
    "  pls = PLSRegression(n_components=num_component,scale = True)\n",
    "  cv_scores_pls.append(np.mean(cross_val_score(pls,X_train,y_train)))"
   ]
  },
  {
   "cell_type": "code",
   "execution_count": 71,
   "metadata": {},
   "outputs": [
    {
     "data": {
      "text/plain": [
       "Text(0.5, 1.0, 'PLS')"
      ]
     },
     "execution_count": 71,
     "metadata": {},
     "output_type": "execute_result"
    },
    {
     "data": {
      "image/png": "[encoded data removed]",
      "text/plain": [
       "<Figure size 432x288 with 1 Axes>"
      ]
     },
     "metadata": {
      "needs_background": "light"
     },
     "output_type": "display_data"
    }
   ],
   "source": [
    "plt.plot(num_components,cv_scores_pls,marker = 'o')\n",
    "plt.xlabel('Num of components')\n",
    "plt.ylabel('Cv score - 5 fold')\n",
    "plt.title('PLS')"
   ]
  },
  {
   "cell_type": "code",
   "execution_count": 72,
   "metadata": {},
   "outputs": [
    {
     "data": {
      "text/plain": [
       "(0.9188797303508398, 9)"
      ]
     },
     "execution_count": 72,
     "metadata": {},
     "output_type": "execute_result"
    }
   ],
   "source": [
    "max(zip(cv_scores_pls,num_components))"
   ]
  },
  {
   "cell_type": "code",
   "execution_count": 73,
   "metadata": {},
   "outputs": [],
   "source": [
    "# By corss validation we have num components as 9"
   ]
  },
  {
   "cell_type": "code",
   "execution_count": 74,
   "metadata": {},
   "outputs": [
    {
     "name": "stdout",
     "output_type": "stream",
     "text": [
      "Score for PLS is  0.9083013629152908\n"
     ]
    }
   ],
   "source": [
    "# lets see how this model performs\n",
    "pls = PLSRegression(n_components=9,scale = True)\n",
    "pls.fit(X_train,y_train)\n",
    "pred = pls.predict(X_test)\n",
    "print('Score for PLS is ',r2_score(y_test,pred))\n",
    "results_dict['PLS'] = r2_score(y_test,pred)"
   ]
  },
  {
   "cell_type": "markdown",
   "metadata": {},
   "source": [
    "### (g) Comment on the results obtained. How accurately can we predict the number of college applications received? Is there much difference among the test errors resulting from these five approaches?\n",
    " "
   ]
  },
  {
   "cell_type": "code",
   "execution_count": 75,
   "metadata": {},
   "outputs": [
    {
     "name": "stdout",
     "output_type": "stream",
     "text": [
      "Least_squares    0.908604\n",
      "Ridge            0.902840\n",
      "Lasso            0.903459\n",
      "PCR              0.908604\n",
      "PLS              0.908301\n",
      "dtype: float64\n"
     ]
    }
   ],
   "source": [
    "print(pd.Series(results_dict))"
   ]
  },
  {
   "cell_type": "code",
   "execution_count": 76,
   "metadata": {},
   "outputs": [],
   "source": [
    "# We can see from above that all the methods have almost similar results"
   ]
  },
  {
   "cell_type": "markdown",
   "metadata": {},
   "source": [
    "## 10. We have seen that as the number of features used in a model increases, the training error will necessarily decrease, but the test error may not. We will now explore this in a simulated data set\n",
    "\n"
   ]
  },
  {
   "cell_type": "markdown",
   "metadata": {},
   "source": [
    "### (a) Generate a data set with p = 20 features, n = 1,000 observations, and an associated quantitative response vector generated according to the model. where β has some elements that are exactly equal to zero.\n"
   ]
  },
  {
   "cell_type": "markdown",
   "metadata": {},
   "source": [
    "Y = Xβ + eps"
   ]
  },
  {
   "cell_type": "code",
   "execution_count": 77,
   "metadata": {},
   "outputs": [
    {
     "name": "stdout",
     "output_type": "stream",
     "text": [
      "Shape of X is  (1000, 20)\n"
     ]
    }
   ],
   "source": [
    "X = np.random.normal(size = (1000,20))\n",
    "print('Shape of X is ',X.shape)"
   ]
  },
  {
   "cell_type": "code",
   "execution_count": 78,
   "metadata": {},
   "outputs": [
    {
     "data": {
      "text/plain": [
       "array([  9.,   0.,   0.,   0.,   0.,   0.,  -4., -10.,   0.,   0.,  -2.,\n",
       "         1.,   0.,  -7.,   0.,   0.,   0.,  -1.,   0.,   0.])"
      ]
     },
     "execution_count": 78,
     "metadata": {},
     "output_type": "execute_result"
    }
   ],
   "source": [
    "np.random.seed(3)\n",
    "\n",
    "# we are going to select beta in such a way that half of the value contain 0\n",
    "beta = np.random.randint(-10,10,10)\n",
    "beta = np.concatenate([beta,np.zeros(10)])\n",
    "np.random.shuffle(beta)\n",
    "beta"
   ]
  },
  {
   "cell_type": "code",
   "execution_count": 79,
   "metadata": {},
   "outputs": [
    {
     "data": {
      "text/plain": [
       "(20, 1)"
      ]
     },
     "execution_count": 79,
     "metadata": {},
     "output_type": "execute_result"
    }
   ],
   "source": [
    "beta = np.expand_dims(beta,axis = 1)\n",
    "beta.shape"
   ]
  },
  {
   "cell_type": "code",
   "execution_count": 80,
   "metadata": {},
   "outputs": [],
   "source": [
    "np.random.seed(1)\n",
    "# Y = X*Beta + eps\n",
    "# shapees - (1000,1) = (1000,20)*(20,1) + (1000,1)\n",
    "Y = np.dot(X,beta) + np.random.normal(size = (1000,1))"
   ]
  },
  {
   "cell_type": "code",
   "execution_count": 81,
   "metadata": {},
   "outputs": [
    {
     "name": "stdout",
     "output_type": "stream",
     "text": [
      "(1000, 20)\n"
     ]
    },
    {
     "data": {
      "text/html": [
       "<div>\n",
       "<style scoped>\n",
       "    .dataframe tbody tr th:only-of-type {\n",
       "        vertical-align: middle;\n",
       "    }\n",
       "\n",
       "    .dataframe tbody tr th {\n",
       "        vertical-align: top;\n",
       "    }\n",
       "\n",
       "    .dataframe thead th {\n",
       "        text-align: right;\n",
       "    }\n",
       "</style>\n",
       "<table border=\"1\" class=\"dataframe\">\n",
       "  <thead>\n",
       "    <tr style=\"text-align: right;\">\n",
       "      <th></th>\n",
       "      <th>X_1</th>\n",
       "      <th>X_2</th>\n",
       "      <th>X_3</th>\n",
       "      <th>X_4</th>\n",
       "      <th>X_5</th>\n",
       "      <th>X_6</th>\n",
       "      <th>X_7</th>\n",
       "      <th>X_8</th>\n",
       "      <th>X_9</th>\n",
       "      <th>X_10</th>\n",
       "      <th>X_11</th>\n",
       "      <th>X_12</th>\n",
       "      <th>X_13</th>\n",
       "      <th>X_14</th>\n",
       "      <th>X_15</th>\n",
       "      <th>X_16</th>\n",
       "      <th>X_17</th>\n",
       "      <th>X_18</th>\n",
       "      <th>X_19</th>\n",
       "      <th>X_20</th>\n",
       "    </tr>\n",
       "  </thead>\n",
       "  <tbody>\n",
       "    <tr>\n",
       "      <th>0</th>\n",
       "      <td>0.241323</td>\n",
       "      <td>1.955134</td>\n",
       "      <td>0.426956</td>\n",
       "      <td>0.261552</td>\n",
       "      <td>0.617686</td>\n",
       "      <td>-0.799991</td>\n",
       "      <td>-1.144385</td>\n",
       "      <td>0.973780</td>\n",
       "      <td>-0.448918</td>\n",
       "      <td>0.476674</td>\n",
       "      <td>-0.755448</td>\n",
       "      <td>0.713506</td>\n",
       "      <td>-0.288638</td>\n",
       "      <td>-0.769540</td>\n",
       "      <td>-0.020298</td>\n",
       "      <td>1.051197</td>\n",
       "      <td>0.286832</td>\n",
       "      <td>-0.623056</td>\n",
       "      <td>0.828185</td>\n",
       "      <td>0.086526</td>\n",
       "    </tr>\n",
       "    <tr>\n",
       "      <th>1</th>\n",
       "      <td>-0.987976</td>\n",
       "      <td>-0.898286</td>\n",
       "      <td>0.782034</td>\n",
       "      <td>0.397926</td>\n",
       "      <td>-1.835601</td>\n",
       "      <td>-1.510353</td>\n",
       "      <td>-0.033285</td>\n",
       "      <td>-0.753336</td>\n",
       "      <td>0.945832</td>\n",
       "      <td>-2.256253</td>\n",
       "      <td>-0.659567</td>\n",
       "      <td>0.438306</td>\n",
       "      <td>-0.913731</td>\n",
       "      <td>-1.323511</td>\n",
       "      <td>-0.446425</td>\n",
       "      <td>-0.798085</td>\n",
       "      <td>-1.919052</td>\n",
       "      <td>0.532547</td>\n",
       "      <td>0.677955</td>\n",
       "      <td>-0.249261</td>\n",
       "    </tr>\n",
       "    <tr>\n",
       "      <th>2</th>\n",
       "      <td>0.302180</td>\n",
       "      <td>0.998392</td>\n",
       "      <td>-0.114597</td>\n",
       "      <td>0.780467</td>\n",
       "      <td>-1.088104</td>\n",
       "      <td>2.543010</td>\n",
       "      <td>-0.680824</td>\n",
       "      <td>-1.301080</td>\n",
       "      <td>-0.734238</td>\n",
       "      <td>-0.709654</td>\n",
       "      <td>1.402016</td>\n",
       "      <td>-0.233470</td>\n",
       "      <td>-0.022781</td>\n",
       "      <td>0.407471</td>\n",
       "      <td>1.681403</td>\n",
       "      <td>-0.206323</td>\n",
       "      <td>0.657948</td>\n",
       "      <td>-1.359967</td>\n",
       "      <td>0.572952</td>\n",
       "      <td>-0.014225</td>\n",
       "    </tr>\n",
       "    <tr>\n",
       "      <th>3</th>\n",
       "      <td>-0.051045</td>\n",
       "      <td>0.259845</td>\n",
       "      <td>0.029629</td>\n",
       "      <td>-0.097268</td>\n",
       "      <td>-0.787144</td>\n",
       "      <td>-0.526088</td>\n",
       "      <td>-1.171730</td>\n",
       "      <td>-1.630688</td>\n",
       "      <td>-0.487596</td>\n",
       "      <td>0.274052</td>\n",
       "      <td>-0.396987</td>\n",
       "      <td>0.296913</td>\n",
       "      <td>1.614031</td>\n",
       "      <td>-1.539734</td>\n",
       "      <td>-0.143267</td>\n",
       "      <td>-0.818176</td>\n",
       "      <td>-1.265632</td>\n",
       "      <td>1.745341</td>\n",
       "      <td>1.485732</td>\n",
       "      <td>0.087746</td>\n",
       "    </tr>\n",
       "    <tr>\n",
       "      <th>4</th>\n",
       "      <td>-0.347875</td>\n",
       "      <td>-0.838813</td>\n",
       "      <td>2.462865</td>\n",
       "      <td>1.713489</td>\n",
       "      <td>-0.971495</td>\n",
       "      <td>-0.839616</td>\n",
       "      <td>-0.451388</td>\n",
       "      <td>1.288959</td>\n",
       "      <td>0.854213</td>\n",
       "      <td>-1.281334</td>\n",
       "      <td>1.582656</td>\n",
       "      <td>0.758452</td>\n",
       "      <td>-0.177142</td>\n",
       "      <td>-0.689560</td>\n",
       "      <td>1.695916</td>\n",
       "      <td>-0.947132</td>\n",
       "      <td>0.350777</td>\n",
       "      <td>0.935838</td>\n",
       "      <td>-0.960158</td>\n",
       "      <td>-0.182359</td>\n",
       "    </tr>\n",
       "  </tbody>\n",
       "</table>\n",
       "</div>"
      ],
      "text/plain": [
       "        X_1       X_2       X_3       X_4       X_5       X_6       X_7  \\\n",
       "0  0.241323  1.955134  0.426956  0.261552  0.617686 -0.799991 -1.144385   \n",
       "1 -0.987976 -0.898286  0.782034  0.397926 -1.835601 -1.510353 -0.033285   \n",
       "2  0.302180  0.998392 -0.114597  0.780467 -1.088104  2.543010 -0.680824   \n",
       "3 -0.051045  0.259845  0.029629 -0.097268 -0.787144 -0.526088 -1.171730   \n",
       "4 -0.347875 -0.838813  2.462865  1.713489 -0.971495 -0.839616 -0.451388   \n",
       "\n",
       "        X_8       X_9      X_10      X_11      X_12      X_13      X_14  \\\n",
       "0  0.973780 -0.448918  0.476674 -0.755448  0.713506 -0.288638 -0.769540   \n",
       "1 -0.753336  0.945832 -2.256253 -0.659567  0.438306 -0.913731 -1.323511   \n",
       "2 -1.301080 -0.734238 -0.709654  1.402016 -0.233470 -0.022781  0.407471   \n",
       "3 -1.630688 -0.487596  0.274052 -0.396987  0.296913  1.614031 -1.539734   \n",
       "4  1.288959  0.854213 -1.281334  1.582656  0.758452 -0.177142 -0.689560   \n",
       "\n",
       "       X_15      X_16      X_17      X_18      X_19      X_20  \n",
       "0 -0.020298  1.051197  0.286832 -0.623056  0.828185  0.086526  \n",
       "1 -0.446425 -0.798085 -1.919052  0.532547  0.677955 -0.249261  \n",
       "2  1.681403 -0.206323  0.657948 -1.359967  0.572952 -0.014225  \n",
       "3 -0.143267 -0.818176 -1.265632  1.745341  1.485732  0.087746  \n",
       "4  1.695916 -0.947132  0.350777  0.935838 -0.960158 -0.182359  "
      ]
     },
     "execution_count": 81,
     "metadata": {},
     "output_type": "execute_result"
    }
   ],
   "source": [
    "# Converting it into a dataframe\n",
    "data = pd.DataFrame(X,columns=['X_' + str(i) for i in range(1,21)])\n",
    "print(data.shape)\n",
    "data.head()"
   ]
  },
  {
   "cell_type": "markdown",
   "metadata": {},
   "source": [
    "### (b) Split your data set into a training set containing 100 observations and a test set containing 900 observations.\n",
    " "
   ]
  },
  {
   "cell_type": "code",
   "execution_count": 82,
   "metadata": {},
   "outputs": [
    {
     "name": "stdout",
     "output_type": "stream",
     "text": [
      "Shape of X_train and X_test are respecitively  (100, 20) (900, 20)\n"
     ]
    }
   ],
   "source": [
    "X_train,X_test,y_train,y_test = train_test_split(data,Y,test_size = 0.9,random_state = 1)\n",
    "print('Shape of X_train and X_test are respecitively ',X_train.shape,X_test.shape)"
   ]
  },
  {
   "cell_type": "markdown",
   "metadata": {},
   "source": [
    "### (c) Perform best subset selection on the training set, and plot the training set MSE associated with the best model of each size.\n"
   ]
  },
  {
   "cell_type": "code",
   "execution_count": 83,
   "metadata": {},
   "outputs": [],
   "source": [
    "def fit_linear_reg(X,Y):\n",
    "  #Fit linear regression model and return RSS and R squared values\n",
    "  X = sm.add_constant(X)\n",
    "  model = sm.OLS(Y,X).fit()\n",
    "  return model.ssr,model.rsquared,model\n",
    "\n",
    "\n",
    "from tqdm import tnrange, tqdm_notebook\n",
    "from itertools import combinations\n",
    "\n",
    "def run_subset_selection_with_return_models(X,y):\n",
    "  #Initialization variables\n",
    "  RSS_list, R_squared_list, feature_list = [],[],[]\n",
    "  aic_list,bic_list,adj_r_squared_list = [],[],[]\n",
    "  numb_features = []\n",
    "  list_models = []\n",
    "  list_train_mse = []\n",
    "\n",
    "  #Looping over k = 1 to k = 11 features in X\n",
    "  for k in tnrange(1,len(X.columns) + 1, desc = 'Loop...'):\n",
    "    best_features = None\n",
    "    best_RSS = None\n",
    "    best_r2 = 0\n",
    "    best_model = None\n",
    "\n",
    "    #Looping over all possible combinations: \n",
    "    for combo in combinations(X.columns,k):\n",
    "        tmp_result = fit_linear_reg(X[list(combo)],y)   #Store temp result  \n",
    "        r2 = tmp_result[1]\n",
    "        if r2 > best_r2:\n",
    "            best_features = combo\n",
    "            best_RSS = tmp_result[0]\n",
    "            best_r2 = tmp_result[1]\n",
    "            best_model = tmp_result[2]\n",
    "\n",
    "    RSS_list.append(best_RSS)\n",
    "    R_squared_list.append(best_r2)\n",
    "    feature_list.append(best_features)\n",
    "    numb_features.append(len(best_features))\n",
    "    aic_list.append(best_model.aic)\n",
    "    bic_list.append(best_model.bic)\n",
    "    adj_r_squared_list.append(best_model.rsquared_adj)\n",
    "    list_models.append(best_model)\n",
    "\n",
    "  #Store in DataFrame\n",
    "  df = pd.DataFrame({'numb_features': numb_features,'RSS': RSS_list, 'R_squared':R_squared_list,\n",
    "                    'AIC':aic_list,'BIC':bic_list,'adj_r2':adj_r_squared_list,'features':feature_list})\n",
    "  return df,list_models"
   ]
  },
  {
   "cell_type": "code",
   "execution_count": 84,
   "metadata": {},
   "outputs": [
    {
     "data": {
      "application/vnd.jupyter.widget-view+json": {
       "model_id": "481c13449cbb4f3c92af621157102aab",
       "version_major": 2,
       "version_minor": 0
      },
      "text/plain": [
       "HBox(children=(FloatProgress(value=0.0, description='Loop...', max=12.0, style=ProgressStyle(description_width…"
      ]
     },
     "metadata": {},
     "output_type": "display_data"
    },
    {
     "name": "stdout",
     "output_type": "stream",
     "text": [
      "\n"
     ]
    },
    {
     "data": {
      "text/html": [
       "<div>\n",
       "<style scoped>\n",
       "    .dataframe tbody tr th:only-of-type {\n",
       "        vertical-align: middle;\n",
       "    }\n",
       "\n",
       "    .dataframe tbody tr th {\n",
       "        vertical-align: top;\n",
       "    }\n",
       "\n",
       "    .dataframe thead th {\n",
       "        text-align: right;\n",
       "    }\n",
       "</style>\n",
       "<table border=\"1\" class=\"dataframe\">\n",
       "  <thead>\n",
       "    <tr style=\"text-align: right;\">\n",
       "      <th></th>\n",
       "      <th>numb_features</th>\n",
       "      <th>RSS</th>\n",
       "      <th>R_squared</th>\n",
       "      <th>AIC</th>\n",
       "      <th>BIC</th>\n",
       "      <th>adj_r2</th>\n",
       "      <th>features</th>\n",
       "    </tr>\n",
       "  </thead>\n",
       "  <tbody>\n",
       "    <tr>\n",
       "      <th>0</th>\n",
       "      <td>1</td>\n",
       "      <td>17679.770786</td>\n",
       "      <td>0.419284</td>\n",
       "      <td>805.288325</td>\n",
       "      <td>810.498666</td>\n",
       "      <td>0.413358</td>\n",
       "      <td>(X_8,)</td>\n",
       "    </tr>\n",
       "    <tr>\n",
       "      <th>1</th>\n",
       "      <td>2</td>\n",
       "      <td>8254.627404</td>\n",
       "      <td>0.728866</td>\n",
       "      <td>731.123610</td>\n",
       "      <td>738.939121</td>\n",
       "      <td>0.723275</td>\n",
       "      <td>(X_1, X_8)</td>\n",
       "    </tr>\n",
       "    <tr>\n",
       "      <th>2</th>\n",
       "      <td>3</td>\n",
       "      <td>5683.248442</td>\n",
       "      <td>0.813326</td>\n",
       "      <td>695.798514</td>\n",
       "      <td>706.219194</td>\n",
       "      <td>0.807492</td>\n",
       "      <td>(X_1, X_7, X_8)</td>\n",
       "    </tr>\n",
       "    <tr>\n",
       "      <th>3</th>\n",
       "      <td>4</td>\n",
       "      <td>5043.534123</td>\n",
       "      <td>0.834338</td>\n",
       "      <td>685.856921</td>\n",
       "      <td>698.882772</td>\n",
       "      <td>0.827363</td>\n",
       "      <td>(X_1, X_7, X_8, X_11)</td>\n",
       "    </tr>\n",
       "    <tr>\n",
       "      <th>4</th>\n",
       "      <td>5</td>\n",
       "      <td>4783.818852</td>\n",
       "      <td>0.842869</td>\n",
       "      <td>682.570131</td>\n",
       "      <td>698.201152</td>\n",
       "      <td>0.834511</td>\n",
       "      <td>(X_1, X_5, X_7, X_8, X_11)</td>\n",
       "    </tr>\n",
       "    <tr>\n",
       "      <th>5</th>\n",
       "      <td>6</td>\n",
       "      <td>4755.815015</td>\n",
       "      <td>0.843789</td>\n",
       "      <td>683.983024</td>\n",
       "      <td>702.219216</td>\n",
       "      <td>0.833711</td>\n",
       "      <td>(X_1, X_4, X_5, X_7, X_8, X_11)</td>\n",
       "    </tr>\n",
       "    <tr>\n",
       "      <th>6</th>\n",
       "      <td>7</td>\n",
       "      <td>4729.376679</td>\n",
       "      <td>0.844657</td>\n",
       "      <td>685.425557</td>\n",
       "      <td>706.266919</td>\n",
       "      <td>0.832838</td>\n",
       "      <td>(X_1, X_4, X_5, X_6, X_7, X_8, X_11)</td>\n",
       "    </tr>\n",
       "    <tr>\n",
       "      <th>7</th>\n",
       "      <td>8</td>\n",
       "      <td>4716.608316</td>\n",
       "      <td>0.845077</td>\n",
       "      <td>687.155212</td>\n",
       "      <td>710.601744</td>\n",
       "      <td>0.831457</td>\n",
       "      <td>(X_1, X_4, X_5, X_6, X_7, X_8, X_11, X_12)</td>\n",
       "    </tr>\n",
       "    <tr>\n",
       "      <th>8</th>\n",
       "      <td>9</td>\n",
       "      <td>4706.598057</td>\n",
       "      <td>0.845405</td>\n",
       "      <td>688.942753</td>\n",
       "      <td>714.994454</td>\n",
       "      <td>0.829946</td>\n",
       "      <td>(X_1, X_4, X_5, X_6, X_7, X_8, X_10, X_11, X_12)</td>\n",
       "    </tr>\n",
       "    <tr>\n",
       "      <th>9</th>\n",
       "      <td>10</td>\n",
       "      <td>4704.169897</td>\n",
       "      <td>0.845485</td>\n",
       "      <td>690.891149</td>\n",
       "      <td>719.548021</td>\n",
       "      <td>0.828124</td>\n",
       "      <td>(X_1, X_4, X_5, X_6, X_7, X_8, X_9, X_10, X_11...</td>\n",
       "    </tr>\n",
       "    <tr>\n",
       "      <th>10</th>\n",
       "      <td>11</td>\n",
       "      <td>4702.367933</td>\n",
       "      <td>0.845544</td>\n",
       "      <td>692.852836</td>\n",
       "      <td>724.114878</td>\n",
       "      <td>0.826237</td>\n",
       "      <td>(X_1, X_2, X_4, X_5, X_6, X_7, X_8, X_9, X_10,...</td>\n",
       "    </tr>\n",
       "    <tr>\n",
       "      <th>11</th>\n",
       "      <td>12</td>\n",
       "      <td>4702.269278</td>\n",
       "      <td>0.845548</td>\n",
       "      <td>694.850738</td>\n",
       "      <td>728.717950</td>\n",
       "      <td>0.824244</td>\n",
       "      <td>(X_1, X_2, X_3, X_4, X_5, X_6, X_7, X_8, X_9, ...</td>\n",
       "    </tr>\n",
       "  </tbody>\n",
       "</table>\n",
       "</div>"
      ],
      "text/plain": [
       "    numb_features           RSS  R_squared         AIC         BIC    adj_r2  \\\n",
       "0               1  17679.770786   0.419284  805.288325  810.498666  0.413358   \n",
       "1               2   8254.627404   0.728866  731.123610  738.939121  0.723275   \n",
       "2               3   5683.248442   0.813326  695.798514  706.219194  0.807492   \n",
       "3               4   5043.534123   0.834338  685.856921  698.882772  0.827363   \n",
       "4               5   4783.818852   0.842869  682.570131  698.201152  0.834511   \n",
       "5               6   4755.815015   0.843789  683.983024  702.219216  0.833711   \n",
       "6               7   4729.376679   0.844657  685.425557  706.266919  0.832838   \n",
       "7               8   4716.608316   0.845077  687.155212  710.601744  0.831457   \n",
       "8               9   4706.598057   0.845405  688.942753  714.994454  0.829946   \n",
       "9              10   4704.169897   0.845485  690.891149  719.548021  0.828124   \n",
       "10             11   4702.367933   0.845544  692.852836  724.114878  0.826237   \n",
       "11             12   4702.269278   0.845548  694.850738  728.717950  0.824244   \n",
       "\n",
       "                                             features  \n",
       "0                                              (X_8,)  \n",
       "1                                          (X_1, X_8)  \n",
       "2                                     (X_1, X_7, X_8)  \n",
       "3                               (X_1, X_7, X_8, X_11)  \n",
       "4                          (X_1, X_5, X_7, X_8, X_11)  \n",
       "5                     (X_1, X_4, X_5, X_7, X_8, X_11)  \n",
       "6                (X_1, X_4, X_5, X_6, X_7, X_8, X_11)  \n",
       "7          (X_1, X_4, X_5, X_6, X_7, X_8, X_11, X_12)  \n",
       "8    (X_1, X_4, X_5, X_6, X_7, X_8, X_10, X_11, X_12)  \n",
       "9   (X_1, X_4, X_5, X_6, X_7, X_8, X_9, X_10, X_11...  \n",
       "10  (X_1, X_2, X_4, X_5, X_6, X_7, X_8, X_9, X_10,...  \n",
       "11  (X_1, X_2, X_3, X_4, X_5, X_6, X_7, X_8, X_9, ...  "
      ]
     },
     "execution_count": 84,
     "metadata": {},
     "output_type": "execute_result"
    }
   ],
   "source": [
    "results_best_subset,best_subset_models = run_subset_selection_with_return_models(X_train.iloc[:,:12],y_train)\n",
    "results_best_subset"
   ]
  },
  {
   "cell_type": "markdown",
   "metadata": {},
   "source": [
    "#### IT was taking too much time on my computer to run best subset selection for p = 20, hence i reduced it to 12 features"
   ]
  },
  {
   "cell_type": "code",
   "execution_count": 86,
   "metadata": {},
   "outputs": [],
   "source": [
    "from warnings import filterwarnings\n",
    "filterwarnings('ignore')\n",
    "# Adding test_mse \n",
    "test_mse = []\n",
    "for model,features in zip(best_subset_models,results_best_subset['features']):\n",
    "    pred = model.predict(sm.add_constant(X_test.iloc[:,:12][list(features)]))\n",
    "    test_mse.append(mean_squared_error(pred,y_test))"
   ]
  },
  {
   "cell_type": "markdown",
   "metadata": {},
   "source": [
    "### d) Plot the test set MSE associated with the best model of each size."
   ]
  },
  {
   "cell_type": "code",
   "execution_count": 87,
   "metadata": {},
   "outputs": [
    {
     "data": {
      "text/plain": [
       "Text(0, 0.5, 'Test MSE')"
      ]
     },
     "execution_count": 87,
     "metadata": {},
     "output_type": "execute_result"
    },
    {
     "data": {
      "image/png": "[encoded data removed]",
      "text/plain": [
       "<Figure size 432x288 with 1 Axes>"
      ]
     },
     "metadata": {
      "needs_background": "light"
     },
     "output_type": "display_data"
    }
   ],
   "source": [
    "plt.plot(results_best_subset['numb_features'],test_mse,marker = 'o')\n",
    "plt.plot((min(zip(test_mse,results_best_subset['numb_features'])))[1],np.min(test_mse),marker = 'o',markersize = 8)\n",
    "plt.xlabel('Number of Features')\n",
    "plt.ylabel('Test MSE')\n",
    "# Min mse is at num_features = 4"
   ]
  },
  {
   "cell_type": "code",
   "execution_count": 88,
   "metadata": {},
   "outputs": [
    {
     "data": {
      "text/plain": [
       "Text(0.5, 1.0, 'Train vs Test MSE')"
      ]
     },
     "execution_count": 88,
     "metadata": {},
     "output_type": "execute_result"
    },
    {
     "data": {
      "image/png": "[encoded data removed]",
      "text/plain": [
       "<Figure size 432x288 with 1 Axes>"
      ]
     },
     "metadata": {
      "needs_background": "light"
     },
     "output_type": "display_data"
    }
   ],
   "source": [
    "# Comparing the plot of test mse and train mse\n",
    "plt.plot(results_best_subset['numb_features'],test_mse,marker = 'o')\n",
    "plt.plot(results_best_subset['numb_features'],results_best_subset['RSS'] / len(X_train),marker = 'o',color = 'red')\n",
    "\n",
    "# we can see that train mse goes on decreasing with increase in number of features, however that is not the case with test mse\n",
    "plt.legend(['Test error','Train_error'])\n",
    "plt.xlabel('Number of features')\n",
    "plt.ylabel('Error')\n",
    "plt.title('Train vs Test MSE')"
   ]
  },
  {
   "cell_type": "markdown",
   "metadata": {},
   "source": [
    "### (e) For which model size does the test set MSE take on its minimum value? Comment on your results. \n",
    " "
   ]
  },
  {
   "cell_type": "code",
   "execution_count": 89,
   "metadata": {},
   "outputs": [
    {
     "name": "stdout",
     "output_type": "stream",
     "text": [
      "The features of the moodel which has the lowest test mse are  ('X_1', 'X_7', 'X_8', 'X_11')\n"
     ]
    }
   ],
   "source": [
    "# Test error is minimum for a model with four features\n",
    "print('The features of the moodel which has the lowest test mse are ',results_best_subset['features'].loc[3])"
   ]
  },
  {
   "cell_type": "markdown",
   "metadata": {},
   "source": [
    "### (f) How does the model at which the test set MSE is minimized compare to the true model used to generate the data? Comment on the coefficient values\n",
    "\n"
   ]
  },
  {
   "cell_type": "code",
   "execution_count": 90,
   "metadata": {},
   "outputs": [],
   "source": [
    "select_model = best_subset_models[3]"
   ]
  },
  {
   "cell_type": "code",
   "execution_count": 91,
   "metadata": {},
   "outputs": [
    {
     "data": {
      "text/plain": [
       "[array([9.]), array([-4.]), array([-10.]), array([-2.])]"
      ]
     },
     "execution_count": 91,
     "metadata": {},
     "output_type": "execute_result"
    }
   ],
   "source": [
    "# if we compare it to the original model\n",
    "list(beta[[0,6,7,10]])"
   ]
  },
  {
   "cell_type": "code",
   "execution_count": 92,
   "metadata": {},
   "outputs": [
    {
     "data": {
      "text/html": [
       "<div>\n",
       "<style scoped>\n",
       "    .dataframe tbody tr th:only-of-type {\n",
       "        vertical-align: middle;\n",
       "    }\n",
       "\n",
       "    .dataframe tbody tr th {\n",
       "        vertical-align: top;\n",
       "    }\n",
       "\n",
       "    .dataframe thead th {\n",
       "        text-align: right;\n",
       "    }\n",
       "</style>\n",
       "<table border=\"1\" class=\"dataframe\">\n",
       "  <thead>\n",
       "    <tr style=\"text-align: right;\">\n",
       "      <th></th>\n",
       "      <th>Predicted</th>\n",
       "      <th>True</th>\n",
       "    </tr>\n",
       "  </thead>\n",
       "  <tbody>\n",
       "    <tr>\n",
       "      <th>0</th>\n",
       "      <td>8.949168</td>\n",
       "      <td>[9.0]</td>\n",
       "    </tr>\n",
       "    <tr>\n",
       "      <th>1</th>\n",
       "      <td>-4.658341</td>\n",
       "      <td>[-4.0]</td>\n",
       "    </tr>\n",
       "    <tr>\n",
       "      <th>2</th>\n",
       "      <td>-10.138200</td>\n",
       "      <td>[-10.0]</td>\n",
       "    </tr>\n",
       "    <tr>\n",
       "      <th>3</th>\n",
       "      <td>-2.622982</td>\n",
       "      <td>[-2.0]</td>\n",
       "    </tr>\n",
       "  </tbody>\n",
       "</table>\n",
       "</div>"
      ],
      "text/plain": [
       "   Predicted     True\n",
       "0   8.949168    [9.0]\n",
       "1  -4.658341   [-4.0]\n",
       "2 -10.138200  [-10.0]\n",
       "3  -2.622982   [-2.0]"
      ]
     },
     "execution_count": 92,
     "metadata": {},
     "output_type": "execute_result"
    }
   ],
   "source": [
    "pd.DataFrame({'Predicted':select_model.params.values[1:],'True':list(beta[[0,6,7,10]])})"
   ]
  },
  {
   "cell_type": "markdown",
   "metadata": {},
   "source": [
    "#### We can see that the values  selected are very close to the true values"
   ]
  },
  {
   "cell_type": "markdown",
   "metadata": {},
   "source": [
    "### g) Create a plot displaying 'for a range of values of r, where βˆr j is the jth coefficient estimate for the best model containing r coefficients. Comment on what you observe. How does this compare to the test MSE plot from (d)?"
   ]
  },
  {
   "cell_type": "markdown",
   "metadata": {},
   "source": [
    "eq given in the question"
   ]
  },
  {
   "cell_type": "code",
   "execution_count": 95,
   "metadata": {},
   "outputs": [],
   "source": [
    "best_estimates = select_model.params.values[1:]\n",
    "l2_norms = []\n",
    "for model in best_subset_models:\n",
    "  params = model.params.values[1:]\n",
    "  l2_norms.append(np.linalg.norm(params))"
   ]
  },
  {
   "cell_type": "code",
   "execution_count": 96,
   "metadata": {},
   "outputs": [
    {
     "data": {
      "text/plain": [
       "Text(0, 0.5, 'L2 Norm')"
      ]
     },
     "execution_count": 96,
     "metadata": {},
     "output_type": "execute_result"
    },
    {
     "data": {
      "image/png": "[encoded data removed]",
      "text/plain": [
       "<Figure size 432x288 with 1 Axes>"
      ]
     },
     "metadata": {
      "needs_background": "light"
     },
     "output_type": "display_data"
    }
   ],
   "source": [
    "plt.plot(results_best_subset['numb_features'],l2_norms,marker = 'o')\n",
    "plt.xlabel('Number of features')\n",
    "plt.ylabel('L2 Norm')"
   ]
  },
  {
   "cell_type": "markdown",
   "metadata": {},
   "source": [
    "## 11. We will now try to predict per capita crime rate in the Boston data set."
   ]
  },
  {
   "cell_type": "code",
   "execution_count": 97,
   "metadata": {},
   "outputs": [],
   "source": [
    "from sklearn.datasets import load_boston\n",
    "boston = load_boston()"
   ]
  },
  {
   "cell_type": "code",
   "execution_count": 98,
   "metadata": {},
   "outputs": [
    {
     "data": {
      "text/html": [
       "<div>\n",
       "<style scoped>\n",
       "    .dataframe tbody tr th:only-of-type {\n",
       "        vertical-align: middle;\n",
       "    }\n",
       "\n",
       "    .dataframe tbody tr th {\n",
       "        vertical-align: top;\n",
       "    }\n",
       "\n",
       "    .dataframe thead th {\n",
       "        text-align: right;\n",
       "    }\n",
       "</style>\n",
       "<table border=\"1\" class=\"dataframe\">\n",
       "  <thead>\n",
       "    <tr style=\"text-align: right;\">\n",
       "      <th></th>\n",
       "      <th>CRIM</th>\n",
       "      <th>ZN</th>\n",
       "      <th>INDUS</th>\n",
       "      <th>CHAS</th>\n",
       "      <th>NOX</th>\n",
       "      <th>RM</th>\n",
       "      <th>AGE</th>\n",
       "      <th>DIS</th>\n",
       "      <th>RAD</th>\n",
       "      <th>TAX</th>\n",
       "      <th>PTRATIO</th>\n",
       "      <th>B</th>\n",
       "      <th>LSTAT</th>\n",
       "    </tr>\n",
       "  </thead>\n",
       "  <tbody>\n",
       "    <tr>\n",
       "      <th>0</th>\n",
       "      <td>0.00632</td>\n",
       "      <td>18.0</td>\n",
       "      <td>2.31</td>\n",
       "      <td>0.0</td>\n",
       "      <td>0.538</td>\n",
       "      <td>6.575</td>\n",
       "      <td>65.2</td>\n",
       "      <td>4.0900</td>\n",
       "      <td>1.0</td>\n",
       "      <td>296.0</td>\n",
       "      <td>15.3</td>\n",
       "      <td>396.90</td>\n",
       "      <td>4.98</td>\n",
       "    </tr>\n",
       "    <tr>\n",
       "      <th>1</th>\n",
       "      <td>0.02731</td>\n",
       "      <td>0.0</td>\n",
       "      <td>7.07</td>\n",
       "      <td>0.0</td>\n",
       "      <td>0.469</td>\n",
       "      <td>6.421</td>\n",
       "      <td>78.9</td>\n",
       "      <td>4.9671</td>\n",
       "      <td>2.0</td>\n",
       "      <td>242.0</td>\n",
       "      <td>17.8</td>\n",
       "      <td>396.90</td>\n",
       "      <td>9.14</td>\n",
       "    </tr>\n",
       "    <tr>\n",
       "      <th>2</th>\n",
       "      <td>0.02729</td>\n",
       "      <td>0.0</td>\n",
       "      <td>7.07</td>\n",
       "      <td>0.0</td>\n",
       "      <td>0.469</td>\n",
       "      <td>7.185</td>\n",
       "      <td>61.1</td>\n",
       "      <td>4.9671</td>\n",
       "      <td>2.0</td>\n",
       "      <td>242.0</td>\n",
       "      <td>17.8</td>\n",
       "      <td>392.83</td>\n",
       "      <td>4.03</td>\n",
       "    </tr>\n",
       "    <tr>\n",
       "      <th>3</th>\n",
       "      <td>0.03237</td>\n",
       "      <td>0.0</td>\n",
       "      <td>2.18</td>\n",
       "      <td>0.0</td>\n",
       "      <td>0.458</td>\n",
       "      <td>6.998</td>\n",
       "      <td>45.8</td>\n",
       "      <td>6.0622</td>\n",
       "      <td>3.0</td>\n",
       "      <td>222.0</td>\n",
       "      <td>18.7</td>\n",
       "      <td>394.63</td>\n",
       "      <td>2.94</td>\n",
       "    </tr>\n",
       "    <tr>\n",
       "      <th>4</th>\n",
       "      <td>0.06905</td>\n",
       "      <td>0.0</td>\n",
       "      <td>2.18</td>\n",
       "      <td>0.0</td>\n",
       "      <td>0.458</td>\n",
       "      <td>7.147</td>\n",
       "      <td>54.2</td>\n",
       "      <td>6.0622</td>\n",
       "      <td>3.0</td>\n",
       "      <td>222.0</td>\n",
       "      <td>18.7</td>\n",
       "      <td>396.90</td>\n",
       "      <td>5.33</td>\n",
       "    </tr>\n",
       "  </tbody>\n",
       "</table>\n",
       "</div>"
      ],
      "text/plain": [
       "      CRIM    ZN  INDUS  CHAS    NOX     RM   AGE     DIS  RAD    TAX  \\\n",
       "0  0.00632  18.0   2.31   0.0  0.538  6.575  65.2  4.0900  1.0  296.0   \n",
       "1  0.02731   0.0   7.07   0.0  0.469  6.421  78.9  4.9671  2.0  242.0   \n",
       "2  0.02729   0.0   7.07   0.0  0.469  7.185  61.1  4.9671  2.0  242.0   \n",
       "3  0.03237   0.0   2.18   0.0  0.458  6.998  45.8  6.0622  3.0  222.0   \n",
       "4  0.06905   0.0   2.18   0.0  0.458  7.147  54.2  6.0622  3.0  222.0   \n",
       "\n",
       "   PTRATIO       B  LSTAT  \n",
       "0     15.3  396.90   4.98  \n",
       "1     17.8  396.90   9.14  \n",
       "2     17.8  392.83   4.03  \n",
       "3     18.7  394.63   2.94  \n",
       "4     18.7  396.90   5.33  "
      ]
     },
     "execution_count": 98,
     "metadata": {},
     "output_type": "execute_result"
    }
   ],
   "source": [
    "data = pd.DataFrame(boston.data,columns = boston.feature_names)\n",
    "data.head()"
   ]
  },
  {
   "cell_type": "code",
   "execution_count": 99,
   "metadata": {},
   "outputs": [
    {
     "data": {
      "text/html": [
       "<div>\n",
       "<style scoped>\n",
       "    .dataframe tbody tr th:only-of-type {\n",
       "        vertical-align: middle;\n",
       "    }\n",
       "\n",
       "    .dataframe tbody tr th {\n",
       "        vertical-align: top;\n",
       "    }\n",
       "\n",
       "    .dataframe thead th {\n",
       "        text-align: right;\n",
       "    }\n",
       "</style>\n",
       "<table border=\"1\" class=\"dataframe\">\n",
       "  <thead>\n",
       "    <tr style=\"text-align: right;\">\n",
       "      <th></th>\n",
       "      <th>ZN</th>\n",
       "      <th>INDUS</th>\n",
       "      <th>CHAS</th>\n",
       "      <th>NOX</th>\n",
       "      <th>RM</th>\n",
       "      <th>AGE</th>\n",
       "      <th>DIS</th>\n",
       "      <th>RAD</th>\n",
       "      <th>TAX</th>\n",
       "      <th>PTRATIO</th>\n",
       "      <th>B</th>\n",
       "      <th>LSTAT</th>\n",
       "    </tr>\n",
       "  </thead>\n",
       "  <tbody>\n",
       "    <tr>\n",
       "      <th>0</th>\n",
       "      <td>18.0</td>\n",
       "      <td>2.31</td>\n",
       "      <td>0.0</td>\n",
       "      <td>0.538</td>\n",
       "      <td>6.575</td>\n",
       "      <td>65.2</td>\n",
       "      <td>4.0900</td>\n",
       "      <td>1.0</td>\n",
       "      <td>296.0</td>\n",
       "      <td>15.3</td>\n",
       "      <td>396.90</td>\n",
       "      <td>4.98</td>\n",
       "    </tr>\n",
       "    <tr>\n",
       "      <th>1</th>\n",
       "      <td>0.0</td>\n",
       "      <td>7.07</td>\n",
       "      <td>0.0</td>\n",
       "      <td>0.469</td>\n",
       "      <td>6.421</td>\n",
       "      <td>78.9</td>\n",
       "      <td>4.9671</td>\n",
       "      <td>2.0</td>\n",
       "      <td>242.0</td>\n",
       "      <td>17.8</td>\n",
       "      <td>396.90</td>\n",
       "      <td>9.14</td>\n",
       "    </tr>\n",
       "    <tr>\n",
       "      <th>2</th>\n",
       "      <td>0.0</td>\n",
       "      <td>7.07</td>\n",
       "      <td>0.0</td>\n",
       "      <td>0.469</td>\n",
       "      <td>7.185</td>\n",
       "      <td>61.1</td>\n",
       "      <td>4.9671</td>\n",
       "      <td>2.0</td>\n",
       "      <td>242.0</td>\n",
       "      <td>17.8</td>\n",
       "      <td>392.83</td>\n",
       "      <td>4.03</td>\n",
       "    </tr>\n",
       "    <tr>\n",
       "      <th>3</th>\n",
       "      <td>0.0</td>\n",
       "      <td>2.18</td>\n",
       "      <td>0.0</td>\n",
       "      <td>0.458</td>\n",
       "      <td>6.998</td>\n",
       "      <td>45.8</td>\n",
       "      <td>6.0622</td>\n",
       "      <td>3.0</td>\n",
       "      <td>222.0</td>\n",
       "      <td>18.7</td>\n",
       "      <td>394.63</td>\n",
       "      <td>2.94</td>\n",
       "    </tr>\n",
       "    <tr>\n",
       "      <th>4</th>\n",
       "      <td>0.0</td>\n",
       "      <td>2.18</td>\n",
       "      <td>0.0</td>\n",
       "      <td>0.458</td>\n",
       "      <td>7.147</td>\n",
       "      <td>54.2</td>\n",
       "      <td>6.0622</td>\n",
       "      <td>3.0</td>\n",
       "      <td>222.0</td>\n",
       "      <td>18.7</td>\n",
       "      <td>396.90</td>\n",
       "      <td>5.33</td>\n",
       "    </tr>\n",
       "  </tbody>\n",
       "</table>\n",
       "</div>"
      ],
      "text/plain": [
       "     ZN  INDUS  CHAS    NOX     RM   AGE     DIS  RAD    TAX  PTRATIO       B  \\\n",
       "0  18.0   2.31   0.0  0.538  6.575  65.2  4.0900  1.0  296.0     15.3  396.90   \n",
       "1   0.0   7.07   0.0  0.469  6.421  78.9  4.9671  2.0  242.0     17.8  396.90   \n",
       "2   0.0   7.07   0.0  0.469  7.185  61.1  4.9671  2.0  242.0     17.8  392.83   \n",
       "3   0.0   2.18   0.0  0.458  6.998  45.8  6.0622  3.0  222.0     18.7  394.63   \n",
       "4   0.0   2.18   0.0  0.458  7.147  54.2  6.0622  3.0  222.0     18.7  396.90   \n",
       "\n",
       "   LSTAT  \n",
       "0   4.98  \n",
       "1   9.14  \n",
       "2   4.03  \n",
       "3   2.94  \n",
       "4   5.33  "
      ]
     },
     "execution_count": 99,
     "metadata": {},
     "output_type": "execute_result"
    }
   ],
   "source": [
    "predictors = data.drop('CRIM',axis = 1)\n",
    "y = data['CRIM']\n",
    "predictors.head()"
   ]
  },
  {
   "cell_type": "code",
   "execution_count": 101,
   "metadata": {},
   "outputs": [
    {
     "data": {
      "image/png": "[encoded data removed]",
      "text/plain": [
       "<Figure size 432x288 with 1 Axes>"
      ]
     },
     "metadata": {
      "needs_background": "light"
     },
     "output_type": "display_data"
    },
    {
     "data": {
      "image/png": "[encoded data removed]",
      "text/plain": [
       "<Figure size 432x288 with 1 Axes>"
      ]
     },
     "metadata": {
      "needs_background": "light"
     },
     "output_type": "display_data"
    },
    {
     "data": {
      "image/png": "[encoded data removed]",
      "text/plain": [
       "<Figure size 432x288 with 1 Axes>"
      ]
     },
     "metadata": {
      "needs_background": "light"
     },
     "output_type": "display_data"
    },
    {
     "data": {
      "image/png": "[encoded data removed]",
      "text/plain": [
       "<Figure size 432x288 with 1 Axes>"
      ]
     },
     "metadata": {
      "needs_background": "light"
     },
     "output_type": "display_data"
    },
    {
     "data": {
      "image/png": "[encoded data removed]",
      "text/plain": [
       "<Figure size 432x288 with 1 Axes>"
      ]
     },
     "metadata": {
      "needs_background": "light"
     },
     "output_type": "display_data"
    },
    {
     "data": {
      "image/png": "[encoded data removed]",
      "text/plain": [
       "<Figure size 432x288 with 1 Axes>"
      ]
     },
     "metadata": {
      "needs_background": "light"
     },
     "output_type": "display_data"
    },
    {
     "data": {
      "image/png": "[encoded data removed]",
      "text/plain": [
       "<Figure size 432x288 with 1 Axes>"
      ]
     },
     "metadata": {
      "needs_background": "light"
     },
     "output_type": "display_data"
    },
    {
     "data": {
      "image/png": "[encoded data removed]",
      "text/plain": [
       "<Figure size 432x288 with 1 Axes>"
      ]
     },
     "metadata": {
      "needs_background": "light"
     },
     "output_type": "display_data"
    },
    {
     "data": {
      "image/png": "[encoded data removed]",
      "text/plain": [
       "<Figure size 432x288 with 1 Axes>"
      ]
     },
     "metadata": {
      "needs_background": "light"
     },
     "output_type": "display_data"
    },
    {
     "data": {
      "image/png": "[encoded data removed]",
      "text/plain": [
       "<Figure size 432x288 with 1 Axes>"
      ]
     },
     "metadata": {
      "needs_background": "light"
     },
     "output_type": "display_data"
    },
    {
     "data": {
      "image/png": "[encoded data removed]",
      "text/plain": [
       "<Figure size 432x288 with 1 Axes>"
      ]
     },
     "metadata": {
      "needs_background": "light"
     },
     "output_type": "display_data"
    },
    {
     "data": {
      "image/png": "[encoded data removed]",
      "text/plain": [
       "<Figure size 432x288 with 1 Axes>"
      ]
     },
     "metadata": {
      "needs_background": "light"
     },
     "output_type": "display_data"
    }
   ],
   "source": [
    "for feature in predictors.columns:\n",
    "  sns.scatterplot(predictors[feature],data['CRIM'])\n",
    "  plt.title(feature)\n",
    "  plt.show()"
   ]
  },
  {
   "cell_type": "markdown",
   "metadata": {},
   "source": [
    "### (a) Try out some of the regression methods explored in this chapter, such as best subset selection, the lasso, ridge regression, and PCR. Present and discuss results for the approaches that you consider.\n",
    "\n",
    "\n"
   ]
  },
  {
   "cell_type": "code",
   "execution_count": 102,
   "metadata": {},
   "outputs": [],
   "source": [
    "results_dict = {}"
   ]
  },
  {
   "cell_type": "markdown",
   "metadata": {},
   "source": [
    "### Best subset selection"
   ]
  },
  {
   "cell_type": "code",
   "execution_count": 103,
   "metadata": {},
   "outputs": [],
   "source": [
    "# Insteading of running the algorithm, lets try it with hand selected features\n",
    "hand_selected_features = ['NOX','DIS','RAD','LSTAT']"
   ]
  },
  {
   "cell_type": "code",
   "execution_count": 104,
   "metadata": {},
   "outputs": [
    {
     "name": "stdout",
     "output_type": "stream",
     "text": [
      "Error for best subset selection is  44.468614289929995\n"
     ]
    }
   ],
   "source": [
    "lin_reg = LinearRegression()\n",
    "error = cross_val_score(lin_reg,predictors[hand_selected_features],y,cv = 5,scoring = 'neg_mean_squared_error')\n",
    "print('Error for best subset selection is ',-np.mean(error))\n",
    "results_dict['Best_subset'] = -np.mean(error)"
   ]
  },
  {
   "cell_type": "markdown",
   "metadata": {},
   "source": [
    "###  Least Squares"
   ]
  },
  {
   "cell_type": "code",
   "execution_count": 105,
   "metadata": {},
   "outputs": [
    {
     "name": "stdout",
     "output_type": "stream",
     "text": [
      "Error for best subset selection is  48.57680751139635\n"
     ]
    }
   ],
   "source": [
    "lin_reg = LinearRegression()\n",
    "error = cross_val_score(lin_reg,predictors,y,cv = 5,scoring = 'neg_mean_squared_error')\n",
    "print('Error for best subset selection is ',-np.mean(error))\n",
    "results_dict['least_squares'] = -np.mean(error)"
   ]
  },
  {
   "cell_type": "markdown",
   "metadata": {},
   "source": [
    "### RIdge Regression"
   ]
  },
  {
   "cell_type": "code",
   "execution_count": 106,
   "metadata": {},
   "outputs": [
    {
     "data": {
      "text/plain": [
       "(506, 100)"
      ]
     },
     "execution_count": 106,
     "metadata": {},
     "output_type": "execute_result"
    }
   ],
   "source": [
    "ridgecv = RidgeCV(alphas = 10**np.linspace(-4,0,100),normalize = True,store_cv_values=True)\n",
    "ridgecv.fit(predictors,y)\n",
    "#lets look at the shape of cv values\n",
    "ridgecv.cv_values_.shape"
   ]
  },
  {
   "cell_type": "code",
   "execution_count": 107,
   "metadata": {},
   "outputs": [
    {
     "name": "stdout",
     "output_type": "stream",
     "text": [
      "The best score for ridge regression is  0.4415281762142198\n"
     ]
    }
   ],
   "source": [
    "print(\"The best score for ridge regression is \",ridgecv.score(predictors,y))\n",
    "results_dict['Ridge'] = ridgecv.score(predictors,y)"
   ]
  },
  {
   "cell_type": "code",
   "execution_count": 108,
   "metadata": {},
   "outputs": [
    {
     "data": {
      "text/plain": [
       "Text(0, 0.5, 'CV ERROR MSE')"
      ]
     },
     "execution_count": 108,
     "metadata": {},
     "output_type": "execute_result"
    },
    {
     "data": {
      "image/png": "[encoded data removed]",
      "text/plain": [
       "<Figure size 432x288 with 1 Axes>"
      ]
     },
     "metadata": {
      "needs_background": "light"
     },
     "output_type": "display_data"
    }
   ],
   "source": [
    "# Cv value are having a shape of (506,100), which means that for each alpha we have to take mean at axis = 0, t0\n",
    "# get mean cv values. 506 suggets that it is LOOCV\n",
    "mse_cv = np.mean(ridgecv.cv_values_,axis = 0)\n",
    "plt.plot(ridge_cv.alphas,mse_cv)\n",
    "plt.plot(ridge_cv.alpha_,np.min(mse_cv),marker = 'o',color = 'red',markersize = 8)\n",
    "plt.xscale('log')\n",
    "plt.xlabel('Alpha')\n",
    "plt.ylabel('CV ERROR MSE')\n"
   ]
  },
  {
   "cell_type": "code",
   "execution_count": 109,
   "metadata": {},
   "outputs": [
    {
     "data": {
      "text/plain": [
       "Intercept    8.217616\n",
       "ZN           0.033446\n",
       "INDUS       -0.078059\n",
       "CHAS        -1.244094\n",
       "NOX         -5.822660\n",
       "RM          -0.289045\n",
       "AGE          0.001512\n",
       "DIS         -0.656616\n",
       "RAD          0.486683\n",
       "TAX          0.001082\n",
       "PTRATIO     -0.060691\n",
       "B           -0.009707\n",
       "LSTAT        0.229104\n",
       "dtype: float64"
      ]
     },
     "execution_count": 109,
     "metadata": {},
     "output_type": "execute_result"
    }
   ],
   "source": [
    "# We will use hstack, for horizontal stacing of numpy arrays, for vertical we would use vstack\n",
    "pd.Series(np.hstack([ridgecv.intercept_,ridgecv.coef_]),index = ['Intercept'] + list(predictors.columns))"
   ]
  },
  {
   "cell_type": "markdown",
   "metadata": {},
   "source": [
    "### Lasso"
   ]
  },
  {
   "cell_type": "code",
   "execution_count": 110,
   "metadata": {},
   "outputs": [
    {
     "data": {
      "text/plain": [
       "(100, 5)"
      ]
     },
     "execution_count": 110,
     "metadata": {},
     "output_type": "execute_result"
    }
   ],
   "source": [
    "lassocv = LassoCV(alphas = 10**np.linspace(-4,0,100),normalize = True,cv = 5)\n",
    "lassocv.fit(predictors,y)\n",
    "\n",
    "lassocv.mse_path_.shape"
   ]
  },
  {
   "cell_type": "code",
   "execution_count": 111,
   "metadata": {},
   "outputs": [
    {
     "name": "stdout",
     "output_type": "stream",
     "text": [
      "The best score for lasso is  0.425720149350171\n"
     ]
    }
   ],
   "source": [
    "print(\"The best score for lasso is \",lassocv.score(predictors,y))\n",
    "results_dict['Lasso'] = lassocv.score(predictors,y)"
   ]
  },
  {
   "cell_type": "code",
   "execution_count": 112,
   "metadata": {},
   "outputs": [
    {
     "data": {
      "text/plain": [
       "Text(0, 0.5, 'CV ERROR MSE')"
      ]
     },
     "execution_count": 112,
     "metadata": {},
     "output_type": "execute_result"
    },
    {
     "data": {
      "image/png": "[encoded data removed]",
      "text/plain": [
       "<Figure size 432x288 with 1 Axes>"
      ]
     },
     "metadata": {
      "needs_background": "light"
     },
     "output_type": "display_data"
    }
   ],
   "source": [
    "# in this case we will take the mean at axis = 1\n",
    "mse_cv = np.mean(lassocv.mse_path_,axis = 1)\n",
    "plt.plot(lassocv.alphas_,mse_cv)\n",
    "plt.plot(lassocv.alpha_,np.min(mse_cv),marker = 'o',color = 'red',markersize = 8)\n",
    "plt.xscale('log')\n",
    "plt.xlabel('Alpha')\n",
    "plt.ylabel('CV ERROR MSE')\n"
   ]
  },
  {
   "cell_type": "code",
   "execution_count": 113,
   "metadata": {},
   "outputs": [
    {
     "data": {
      "text/plain": [
       "Intercept   -0.545888\n",
       "ZN           0.000000\n",
       "INDUS        0.000000\n",
       "CHAS        -0.000000\n",
       "NOX          0.000000\n",
       "RM          -0.000000\n",
       "AGE          0.000000\n",
       "DIS         -0.023275\n",
       "RAD          0.466255\n",
       "TAX          0.000000\n",
       "PTRATIO     -0.000000\n",
       "B           -0.007033\n",
       "LSTAT        0.182062\n",
       "dtype: float64"
      ]
     },
     "execution_count": 113,
     "metadata": {},
     "output_type": "execute_result"
    }
   ],
   "source": [
    "pd.Series(np.hstack([lassocv.intercept_,lassocv.coef_]),index = ['Intercept'] + list(predictors.columns))"
   ]
  },
  {
   "cell_type": "code",
   "execution_count": 114,
   "metadata": {},
   "outputs": [],
   "source": [
    "# 8 coefficients have been reduced to 0 weights, GREAT!"
   ]
  },
  {
   "cell_type": "markdown",
   "metadata": {},
   "source": [
    "### (b) Propose a model (or set of models) that seem to perform well on this data set, and justify your answer. Make sure that you are evaluating model performance using validation set error, crossvalidation, or some other reasonable alternative, as opposed to using training error.\n",
    "\n",
    "\n"
   ]
  },
  {
   "cell_type": "code",
   "execution_count": 115,
   "metadata": {},
   "outputs": [
    {
     "data": {
      "text/html": [
       "<div>\n",
       "<style scoped>\n",
       "    .dataframe tbody tr th:only-of-type {\n",
       "        vertical-align: middle;\n",
       "    }\n",
       "\n",
       "    .dataframe tbody tr th {\n",
       "        vertical-align: top;\n",
       "    }\n",
       "\n",
       "    .dataframe thead th {\n",
       "        text-align: right;\n",
       "    }\n",
       "</style>\n",
       "<table border=\"1\" class=\"dataframe\">\n",
       "  <thead>\n",
       "    <tr style=\"text-align: right;\">\n",
       "      <th></th>\n",
       "      <th>Error</th>\n",
       "    </tr>\n",
       "  </thead>\n",
       "  <tbody>\n",
       "    <tr>\n",
       "      <th>Lasso</th>\n",
       "      <td>0.425720</td>\n",
       "    </tr>\n",
       "    <tr>\n",
       "      <th>Ridge</th>\n",
       "      <td>0.441528</td>\n",
       "    </tr>\n",
       "    <tr>\n",
       "      <th>Best_subset</th>\n",
       "      <td>44.468614</td>\n",
       "    </tr>\n",
       "    <tr>\n",
       "      <th>least_squares</th>\n",
       "      <td>48.576808</td>\n",
       "    </tr>\n",
       "  </tbody>\n",
       "</table>\n",
       "</div>"
      ],
      "text/plain": [
       "                   Error\n",
       "Lasso           0.425720\n",
       "Ridge           0.441528\n",
       "Best_subset    44.468614\n",
       "least_squares  48.576808"
      ]
     },
     "execution_count": 115,
     "metadata": {},
     "output_type": "execute_result"
    }
   ],
   "source": [
    "pd.DataFrame(results_dict,index = ['Error']).T.sort_values(by = 'Error')"
   ]
  },
  {
   "cell_type": "markdown",
   "metadata": {},
   "source": [
    "#### We can see in the above dataframe, that ridge regression has the lease cv error followed by Ridge, best_subset, and least_squares"
   ]
  },
  {
   "cell_type": "markdown",
   "metadata": {},
   "source": [
    "### (c) Does your chosen model involve all of the features in the data set? Why or why not?\n"
   ]
  },
  {
   "cell_type": "markdown",
   "metadata": {},
   "source": [
    "#### No the choosen model, does not contain all the features. In fact, 8 of the features, have 0 coefficients."
   ]
  },
  {
   "cell_type": "markdown",
   "metadata": {},
   "source": [
    "## Hope you enjoyed the notebook :)\n",
    "## Keep learning"
   ]
  },
  {
   "cell_type": "code",
   "execution_count": null,
   "metadata": {},
   "outputs": [],
   "source": []
  }
 ],
 "metadata": {
  "kernelspec": {
   "display_name": "Python 3",
   "language": "python",
   "name": "python3"
  },
  "language_info": {
   "codemirror_mode": {
    "name": "ipython",
    "version": 3
   },
   "file_extension": ".py",
   "mimetype": "text/x-python",
   "name": "python",
   "nbconvert_exporter": "python",
   "pygments_lexer": "ipython3",
   "version": "3.8.3"
  }
 },
 "nbformat": 4,
 "nbformat_minor": 4
}
