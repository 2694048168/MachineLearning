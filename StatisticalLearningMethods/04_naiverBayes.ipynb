{
 "cells": [
  {
   "cell_type": "markdown",
   "metadata": {},
   "source": [
    "# 第 4 章 朴素贝叶斯 Naive Bayes"
   ]
  },
  {
   "cell_type": "markdown",
   "metadata": {},
   "source": [
    "朴素贝叶斯法是训练数据学习联合概率分布 $P(X,Y)$，然后求得后验概率分布 $P(Y|X)$\n",
    "\n",
    "利用训练数据学习 $P(X|Y)$ 和 $P(Y)$ 的估计，根据数学上的三者之间的关系得到数据分布的联合概率分布\n",
    "$$P(X,Y)＝P(Y)P(X|Y)$$\n",
    "\n",
    "概率估计方法可以是**极大似然估计(Maximum likelihood estimation)** 或 **贝叶斯估计(Bayesian estimation)**\n",
    "\n",
    "朴素贝叶斯法的基本假设是条件独立性，\n",
    "$$\\begin{aligned} P(X&=x | Y=c_{k} )=P\\left(X^{(1)}=x^{(1)}, \\cdots, X^{(n)}=x^{(n)} | Y=c_{k}\\right) \\\\ &=\\prod_{j=1}^{n} P\\left(X^{(j)}=x^{(j)} | Y=c_{k}\\right) \\end{aligned}$$\n",
    "\n",
    "\n",
    "强假设，模型包含的条件概率的数量大为减少，朴素贝叶斯法的学习与预测大为简化。因而朴素贝叶斯法高效，且易于实现。其缺点是分类的性能不一定很高。\n",
    "\n",
    "朴素贝叶斯法利用贝叶斯定理与学到的联合概率模型进行分类预测\n",
    "$$P(Y | X)=\\frac{P(X, Y)}{P(X)}=\\frac{P(Y) P(X | Y)}{\\sum_{Y} P(Y) P(X | Y)}$$\n",
    " \n",
    "将输入 $x$ 分到后验概率最大的类 $y$\n",
    "$$y=\\arg \\max _{c_{k}} P\\left(Y=c_{k}\\right) \\prod_{j=1}^{n} P\\left(X_{j}=x^{(j)} | Y=c_{k}\\right)$$\n",
    "\n",
    "后验概率最大等价于0-1损失函数时的期望风险最小化。\n",
    "\n",
    "模型：\n",
    "- **Gaussian** distribution\n",
    "- Polynomial distribution\n",
    "- Bernoulli distribution"
   ]
  },
  {
   "cell_type": "code",
   "execution_count": 5,
   "metadata": {},
   "outputs": [
    {
     "name": "stdout",
     "output_type": "stream",
     "text": [
      "The training data shape: X-(70, 4), y-(70,)\n",
      "The test data shape: X-(30, 4), y-(30,)\n"
     ]
    }
   ],
   "source": [
    "import numpy as np\n",
    "import pandas as pd\n",
    "import matplotlib.pyplot as plt\n",
    "%matplotlib inline\n",
    "\n",
    "from sklearn.datasets import load_iris\n",
    "from sklearn.model_selection import train_test_split\n",
    "from collections import Counter\n",
    "import math\n",
    "\n",
    "# loading dataset iris\n",
    "def create_data():\n",
    "    iris = load_iris()\n",
    "    df = pd.DataFrame(iris.data, columns=iris.feature_names)\n",
    "    df['label'] = iris.target\n",
    "    df.columns = [\n",
    "        'sepal length', 'sepal width', 'petal length', 'petal width', 'label'\n",
    "    ]\n",
    "    data = np.array(df.iloc[:100, :])\n",
    "    # print(data)\n",
    "    return data[:, :-1], data[:, -1]\n",
    "\n",
    "# processing data for model\n",
    "X, y = create_data()\n",
    "X_train, X_test, y_train, y_test = train_test_split(X, y, test_size=0.3)\n",
    "print(\"The training data shape: X-{}, y-{}\".format(np.shape(X_train), np.shape(y_train)))\n",
    "print(\"The test data shape: X-{}, y-{}\".format(np.shape(X_test), np.shape(y_test)))"
   ]
  },
  {
   "cell_type": "markdown",
   "metadata": {},
   "source": [
    "## reference：https://machinelearningmastery.com/naive-bayes-classifier-scratch-python/"
   ]
  },
  {
   "cell_type": "code",
   "execution_count": 10,
   "metadata": {},
   "outputs": [
    {
     "name": "stdout",
     "output_type": "stream",
     "text": [
      "The classification of a sample: 0.0\n",
      "The accuracy of classifier for a sample: 1.0\n"
     ]
    }
   ],
   "source": [
    "# the class of Naive Bayes with Gaussian Distribution for assuming data distribution.\n",
    "class NaiveBayes:\n",
    "  def __init__(self):\n",
    "    self.model = None\n",
    "    \n",
    "  # compute Mathematical Expectation\n",
    "  @staticmethod\n",
    "  def mean(X):\n",
    "    return sum(X) / float(len(X))\n",
    "  \n",
    "  # compute Standard deviation or variance\n",
    "  def standard_deviation(self, X):\n",
    "    average = self.mean(X)\n",
    "    return math.sqrt(sum([pow(x - average, 2) for x in X]) / float(len(X)))\n",
    "  \n",
    "  # compute Probability density function\n",
    "  def gaussian_probability(self, x, mean, standard_deviation):\n",
    "    exponent = math.exp(-(math.pow(x - mean, 2) / (2 * math.pow(standard_deviation, 2))))\n",
    "    return (1 / (math.sqrt(2 * math.pi) * standard_deviation)) * exponent\n",
    "  \n",
    "  # processing training data\n",
    "  def summarize(self, train_data):\n",
    "    summaries = [(self.mean(i), self.standard_deviation(i)) for i in zip(*train_data)]\n",
    "    return summaries\n",
    "  \n",
    "  # 按照 label 类别 计算 数学期望和标准差\n",
    "  def fit(self, X, y):\n",
    "    labels = list(set(y))\n",
    "    data = {label: [] for label in labels}\n",
    "    for f, label in zip(X, y):\n",
    "      data[label].append(f)\n",
    "    self.model = {label: self.summarize(value) for label, value in data.items()}\n",
    "    return \"Gaussian Naive Bayes done.\"\n",
    "  \n",
    "  # compute Probability\n",
    "  def calculate_probability(self, input_data):\n",
    "    probabilities = {}\n",
    "    for label, value in self.model.items():\n",
    "      probabilities[label] = 1\n",
    "      for i in range(len(value)):\n",
    "        mean, standard_deviation = value[i]\n",
    "        probabilities[label] *= self.gaussian_probability(input_data[i], mean, standard_deviation)\n",
    "    return probabilities\n",
    "  \n",
    "  # classifcation\n",
    "  def predict(self, X_test):\n",
    "    label = sorted(self.calculate_probability(X_test).items(), key=lambda x : x[-1])[-1][0]\n",
    "    return label\n",
    "  \n",
    "  # compute accuracy\n",
    "  def  accuracy(self, X_test, y_test):\n",
    "    num_correct = 0\n",
    "    for X, y in zip(X_test, y_test):\n",
    "      label = self.predict(X)\n",
    "      if label == y:\n",
    "        num_correct += 1\n",
    "    return num_correct / float(len(X_test))\n",
    "  \n",
    "# ---------------------------------------\n",
    "# TEST\n",
    "model = NaiveBayes()\n",
    "model.fit(X_train, y_train)\n",
    "\n",
    "print(\"The classification of a sample: {}\".format(model.predict([4.4,  3.2,  1.3,  0.2])))\n",
    "print(\"The accuracy of classifier for a sample: {}\".format(model.accuracy(X_test, y_test)))"
   ]
  },
  {
   "cell_type": "code",
   "execution_count": 14,
   "metadata": {},
   "outputs": [
    {
     "name": "stdout",
     "output_type": "stream",
     "text": [
      "The Gaussian Naive Bayes classification of a sample: [0.]\n",
      "The accuracy of Gaussian Naive Bayes classifier for a sample: 1.0\n",
      "--------------------------------------------------------------------------\n",
      "The Multinomial Naive Bayes classification of a sample: [0.]\n",
      "The accuracy of Multinomial Naive Bayes classifier for a sample: 1.0\n",
      "--------------------------------------------------------------------------\n",
      "The Bernoulli Naive Bayes classification of a sample: [1.]\n",
      "The accuracy of Bernoulli Naive Bayes classifier for a sample: 0.4\n"
     ]
    }
   ],
   "source": [
    "# sklearn instances\n",
    "from sklearn.naive_bayes import GaussianNB\n",
    "from sklearn.naive_bayes import MultinomialNB # 伯努利模型和多项式模型\n",
    "from sklearn.naive_bayes import BernoulliNB\n",
    "\n",
    "clf_GaussianNB = GaussianNB()\n",
    "clf_GaussianNB.fit(X_train, y_train)\n",
    "print(\"The Gaussian Naive Bayes classification of a sample: {}\".format(clf_GaussianNB.predict([[4.4,  3.2,  1.3,  0.2]])))\n",
    "print(\"The accuracy of Gaussian Naive Bayes classifier for a sample: {}\".format(clf_GaussianNB.score(X_test, y_test)))\n",
    "print(\"--------------------------------------------------------------------------\")\n",
    "clf_MultinomialNB = MultinomialNB()\n",
    "clf_MultinomialNB.fit(X_train, y_train)\n",
    "print(\"The Multinomial Naive Bayes classification of a sample: {}\".format(clf_MultinomialNB.predict([[4.4,  3.2,  1.3,  0.2]])))\n",
    "print(\"The accuracy of Multinomial Naive Bayes classifier for a sample: {}\".format(clf_MultinomialNB.score(X_test, y_test)))\n",
    "print(\"--------------------------------------------------------------------------\")\n",
    "clf_BernoulliNB = BernoulliNB()\n",
    "clf_BernoulliNB.fit(X_train, y_train)\n",
    "print(\"The Bernoulli Naive Bayes classification of a sample: {}\".format(clf_BernoulliNB.predict([[4.4,  3.2,  1.3,  0.2]])))\n",
    "print(\"The accuracy of Bernoulli Naive Bayes classifier for a sample: {}\".format(clf_BernoulliNB.score(X_test, y_test)))"
   ]
  },
  {
   "cell_type": "code",
   "execution_count": null,
   "metadata": {},
   "outputs": [],
   "source": []
  }
 ],
 "metadata": {
  "kernelspec": {
   "display_name": "Python 3",
   "language": "python",
   "name": "python3"
  },
  "language_info": {
   "codemirror_mode": {
    "name": "ipython",
    "version": 3
   },
   "file_extension": ".py",
   "mimetype": "text/x-python",
   "name": "python",
   "nbconvert_exporter": "python",
   "pygments_lexer": "ipython3",
   "version": "3.8.3"
  }
 },
 "nbformat": 4,
 "nbformat_minor": 4
}
