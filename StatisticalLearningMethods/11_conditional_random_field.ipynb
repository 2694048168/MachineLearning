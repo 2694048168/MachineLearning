{
 "cells": [
  {
   "cell_type": "markdown",
   "metadata": {},
   "source": [
    "# 第 11 章 条件随机场"
   ]
  },
  {
   "cell_type": "markdown",
   "metadata": {},
   "source": [
    "#### 条件随机场 conditional random field, CRF\n",
    "#### 概率无向图模型 probabilistic undirected grapical model\n",
    "#### 马尔可夫随机场 Markov random field"
   ]
  },
  {
   "cell_type": "code",
   "execution_count": 1,
   "metadata": {},
   "outputs": [],
   "source": [
    "from numpy import *"
   ]
  },
  {
   "cell_type": "markdown",
   "metadata": {},
   "source": [
    "## 例 11.1"
   ]
  },
  {
   "cell_type": "code",
   "execution_count": 2,
   "metadata": {},
   "outputs": [
    {
     "name": "stdout",
     "output_type": "stream",
     "text": [
      "24.532530197109345\n",
      "24.532530197109352\n"
     ]
    }
   ],
   "source": [
    "#这里定义T为转移矩阵列代表前一个y(ij)代表由状态i转到状态j的概率,Tx矩阵x对应于时间序列\n",
    "#这里将书上的转移特征转换为如下以时间轴为区别的三个多维列表，维度为输出的维度\n",
    "T1 = [[0.6, 1], [1, 0]]\n",
    "T2 = [[0, 1], [1, 0.2]]\n",
    "#将书上的状态特征同样转换成列表,第一个是为y1的未规划概率，第二个为y2的未规划概率\n",
    "S0 = [1, 0.5]\n",
    "S1 = [0.8, 0.5]\n",
    "S2 = [0.8, 0.5]\n",
    "Y = [1, 2, 2]  #即书上例一需要计算的非规划条件概率的标记序列\n",
    "Y = array(Y) - 1  #这里为了将数与索引相对应即从零开始\n",
    "P = exp(S0[Y[0]])\n",
    "for i in range(1, len(Y)):\n",
    "    P *= exp((eval('S%d' % i)[Y[i]]) + eval('T%d' % i)[Y[i - 1]][Y[i]])\n",
    "print(P)\n",
    "print(exp(3.2))"
   ]
  },
  {
   "cell_type": "markdown",
   "metadata": {},
   "source": [
    "## 例 11.2"
   ]
  },
  {
   "cell_type": "code",
   "execution_count": 3,
   "metadata": {},
   "outputs": [
    {
     "name": "stdout",
     "output_type": "stream",
     "text": [
      "非规范化概率 24.532530197109345\n"
     ]
    }
   ],
   "source": [
    "#这里根据例11.2的启发整合为一个矩阵\n",
    "F0 = S0\n",
    "F1 = T1 + array(S1 * len(T1)).reshape(shape(T1))\n",
    "F2 = T2 + array(S2 * len(T2)).reshape(shape(T2))\n",
    "Y = [1, 2, 2]  #即书上例一需要计算的非规划条件概率的标记序列\n",
    "Y = array(Y) - 1\n",
    "\n",
    "P = exp(F0[Y[0]])\n",
    "Sum = P\n",
    "for i in range(1, len(Y)):\n",
    "    PIter = exp((eval('F%d' % i)[Y[i - 1]][Y[i]]))\n",
    "    P *= PIter\n",
    "    Sum += PIter\n",
    "print('非规范化概率', P)"
   ]
  },
  {
   "cell_type": "markdown",
   "metadata": {},
   "source": [
    "## 习题 11.4"
   ]
  },
  {
   "cell_type": "code",
   "execution_count": 5,
   "metadata": {},
   "outputs": [
    {
     "name": "stdout",
     "output_type": "stream",
     "text": [
      "[[[0, 0], [0.5, 0.5]], [[0.3, 0.7], [0.7, 0.3]], [[0.5, 0.5], [0.6, 0.4]], [[0, 1], [0, 1]]]\n",
      "---------------------------------------------------------------------------------\n",
      "[array([2, 1, 1, 1, 2]), array([2, 1, 1, 2, 2]), array([2, 1, 2, 1, 2]), array([2, 1, 2, 2, 2]), array([2, 2, 1, 1, 2]), array([2, 2, 1, 2, 2]), array([2, 2, 2, 1, 2]), array([2, 2, 2, 2, 2])]\n",
      "---------------------------------------------------------------------------------\n",
      "[([2, 1, 2, 1, 2], 0.21), ([2, 2, 1, 1, 2], 0.175), ([2, 2, 1, 2, 2], 0.175), ([2, 1, 2, 2, 2], 0.13999999999999999), ([2, 2, 2, 1, 2], 0.09), ([2, 1, 1, 1, 2], 0.075), ([2, 1, 1, 2, 2], 0.075), ([2, 2, 2, 2, 2], 0.06)]\n",
      "---------------------------------------------------------------------------------\n",
      "以start=2为起点stop=2为终点的所有路径的状态序列y的概率为：\n",
      "    路径为：2->1->2->1->2 概率为：0.21\n",
      "    路径为：2->2->1->1->2 概率为：0.175\n",
      "    路径为：2->2->1->2->2 概率为：0.175\n",
      "    路径为：2->1->2->2->2 概率为：0.13999999999999999\n",
      "    路径为：2->2->2->1->2 概率为：0.09\n",
      "    路径为：2->1->1->1->2 概率为：0.075\n",
      "    路径为：2->1->1->2->2 概率为：0.075\n",
      "    路径为：2->2->2->2->2 概率为：0.06\n",
      "概率[0.21]最大的状态序列为: 2->1->2->1->2\n",
      "---------------------------------------------------------------------------------\n"
     ]
    }
   ],
   "source": [
    "import numpy as np\n",
    "\n",
    "# 创建随机矩阵\n",
    "M1 = [[0, 0], [0.5, 0.5]]\n",
    "M2 = [[0.3, 0.7], [0.7, 0.3]]\n",
    "M3 = [[0.5, 0.5], [0.6, 0.4]]\n",
    "M4 = [[0, 1], [0, 1]]\n",
    "M = [M1, M2, M3, M4]\n",
    "print(M)\n",
    "print(\"---------------------------------------------------------------------------------\")\n",
    "\n",
    "# 生成路径\n",
    "path = [2]\n",
    "for i in range(1, 4):\n",
    "  paths = []\n",
    "  for _, r in enumerate(path):\n",
    "      temp = np.transpose(r)\n",
    "      paths.append(np.append(temp, 1))\n",
    "      paths.append(np.append(temp, 2))\n",
    "  path = paths.copy()\n",
    "\n",
    "path = [np.append(r, 2) for _, r in enumerate(path)]\n",
    "print(path)\n",
    "print(\"---------------------------------------------------------------------------------\")\n",
    "\n",
    "# 计算概率\n",
    "pr = []\n",
    "for _, row in enumerate(path):\n",
    "  p = 1\n",
    "  for i in range(len(row) - 1):\n",
    "      a = row[i]\n",
    "      b = row[i + 1]\n",
    "      p *= M[i][a - 1][b - 1]\n",
    "  pr.append((row.tolist(), p))\n",
    "pr = sorted(pr, key=lambda x: x[1], reverse=True)\n",
    "print(pr)\n",
    "print(\"---------------------------------------------------------------------------------\")\n",
    "\n",
    "# 打印结果\n",
    "print(\"以start=2为起点stop=2为终点的所有路径的状态序列y的概率为：\")\n",
    "for path, p in pr:\n",
    "  print(\"    路径为：\" + \"->\".join([str(x) for x in path]), end=\" \")\n",
    "  print(\"概率为：\" + str(p))\n",
    "print(\"概率[\" + str(pr[0][1]) + \"]最大的状态序列为:\", \"->\".join([str(x) for x in pr[0][0]]))\n",
    "print(\"---------------------------------------------------------------------------------\")"
   ]
  },
  {
   "cell_type": "code",
   "execution_count": null,
   "metadata": {},
   "outputs": [],
   "source": []
  }
 ],
 "metadata": {
  "kernelspec": {
   "display_name": "Python 3",
   "language": "python",
   "name": "python3"
  },
  "language_info": {
   "codemirror_mode": {
    "name": "ipython",
    "version": 3
   },
   "file_extension": ".py",
   "mimetype": "text/x-python",
   "name": "python",
   "nbconvert_exporter": "python",
   "pygments_lexer": "ipython3",
   "version": "3.8.3"
  }
 },
 "nbformat": 4,
 "nbformat_minor": 4
}
