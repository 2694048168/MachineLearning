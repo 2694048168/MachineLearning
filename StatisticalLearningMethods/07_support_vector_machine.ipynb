{
 "cells": [
  {
   "cell_type": "markdown",
   "metadata": {},
   "source": [
    "# 第 7 章 支持向量机"
   ]
  },
  {
   "cell_type": "markdown",
   "metadata": {},
   "source": [
    "### 支持向量机 support vector machine, SVM\n",
    "- 线性可分支持向量机 **linear support vector machine in linearly separable case**\n",
    "- 线性支持向量机 **linear support vector machine**\n",
    "- 非线性支持向量机 **non-linear support vector machine**\n",
    "\n",
    "### 学习策略 Learning strategy\n",
    "- 数据线性可分，硬间隔最大化 **hard margin maximization**\n",
    "- 数据近似线性可分， 软间隔最大化 **soft marigin maximization**\n",
    "- 数据线性不可分，核技巧或者核方法 **kernel trick or kernel method**\n",
    "\n",
    "### 核方法 kernel method\n",
    "- 输入空间为欧氏空间或者离散集合；特征空间为希伯尔特空间，\n",
    "- 核函数 kernel function 表示将输入从输入空间映射到特征空间得到的特征向量之间的内积\n",
    "\n",
    "### 序列最小最优化算法 Sequence Minimum Optimization algorithm，SMO\n",
    "- 贪心策略，分解问题，每一个子问题求最优解，得到的解就是原始问题的最优解"
   ]
  },
  {
   "cell_type": "code",
   "execution_count": 1,
   "metadata": {},
   "outputs": [],
   "source": [
    "from math import exp\n",
    "import numpy as np\n",
    "import pandas as pd\n",
    "import matplotlib.pyplot as plt\n",
    "%matplotlib inline\n",
    "\n",
    "from sklearn.datasets import load_iris\n",
    "from sklearn.model_selection import train_test_split"
   ]
  },
  {
   "cell_type": "code",
   "execution_count": 2,
   "metadata": {},
   "outputs": [
    {
     "name": "stdout",
     "output_type": "stream",
     "text": [
      "The shape of train data: X-(70, 2), y-(70,)\n",
      "The shape of test data: X-(30, 2), y-(30,)\n"
     ]
    }
   ],
   "source": [
    "# processing data for model.\n",
    "def create_data():\n",
    "  iris = load_iris()\n",
    "  df = pd.DataFrame(iris.data, columns=iris.feature_names)\n",
    "  df['label'] = iris.target\n",
    "  df.columns = ['sepal length', 'sepal width', 'petal length', 'petal width', 'label']\n",
    "  data = np.array(df.iloc[:100, [0,1,-1]])\n",
    "  return data[:,:2], data[:,-1]\n",
    "\n",
    "# loadding data\n",
    "X, y = create_data()\n",
    "X_train, X_test, y_train, y_test = train_test_split(X, y, test_size=0.3)\n",
    "print(\"The shape of train data: X-{}, y-{}\".format(X_train.shape, y_train.shape))\n",
    "print(\"The shape of test data: X-{}, y-{}\".format(X_test.shape, y_test.shape))"
   ]
  },
  {
   "cell_type": "code",
   "execution_count": 3,
   "metadata": {},
   "outputs": [
    {
     "name": "stdout",
     "output_type": "stream",
     "text": [
      "The accuracy of SVM model: 0.43333333333333335\n"
     ]
    }
   ],
   "source": [
    "# the class of SVM algorithm.\n",
    "class SVM:\n",
    "  def __init__(self, max_iter=100, kernel='linear'):\n",
    "    self.max_iter = max_iter\n",
    "    self._kernel = kernel\n",
    "    \n",
    "  def init_args(self, features, labels):\n",
    "    self.m, self.n = features.shape\n",
    "    self.X = features\n",
    "    self.Y = labels\n",
    "    self.b = 0.0\n",
    "    # save E(i) to a list.\n",
    "    self.alpha = np.ones(self.m)\n",
    "    self.E = [self._E(i) for i in range(self.m)]\n",
    "    # 松弛变量\n",
    "    self.C = 1.0\n",
    "    \n",
    "  def _KKT(self, i):\n",
    "    y_g = self._g(i) * self.Y[i]\n",
    "    if self.alpha[i] == 0:\n",
    "      return y_g >= 1\n",
    "    elif 0 < self.alpha[i] < self.C:\n",
    "      return y_g == 1\n",
    "    else:\n",
    "      return y_g <= 1\n",
    "    \n",
    "  # g(x) 预测值，input value x(i)\n",
    "  def _g(self, i):\n",
    "    r = self.b\n",
    "    for j in range(self.m):\n",
    "      r += self.alpha[j] * self.Y[j] * self.kernel(self.X[i], self.X[j])\n",
    "    return r\n",
    "  \n",
    "  # kernel function\n",
    "  def kernel(self, x1, x2):\n",
    "    if self._kernel == 'linear':\n",
    "      return sum([ x1[k] * x2[k] for k in range(self.n) ])\n",
    "    elif self._kernel == 'poly':\n",
    "      return (sum([ x1[k] * x2[k] for k in range(self.n) ]) + 1)**2\n",
    "    return 0\n",
    "  \n",
    "  # E(x) 为 g(x) 的预测值与 label y 之间的差值\n",
    "  def _E(self, i):\n",
    "    return self._g(i) - self.Y[i]\n",
    "  \n",
    "  def _init_alpha(self):\n",
    "    # 外层循环遍历所有满足 0 < a < C 的样本点，检验是否满足 KKT\n",
    "    index_list = [i for i in range(self.m) if 0 < self.alpha[i] < self.C]\n",
    "    # 否则遍历整个 train_set\n",
    "    not_staisfy_list = [i for i in range(self.m) if i not in index_list]\n",
    "    index_list.extend(not_staisfy_list)\n",
    "    \n",
    "    for i in index_list:\n",
    "      if self._KKT(i):\n",
    "        continue\n",
    "      E1 = self.E[i]\n",
    "      # if E2 is positive, selecting minimum; if E2 is negative, selecting maximum.\n",
    "      if E1 >= 0:\n",
    "        j = min(range(self.m), key=lambda x: self.E[x])\n",
    "      else:\n",
    "        j = max(range(self.m), key=lambda x: self.E[x])\n",
    "      return i, j\n",
    "    \n",
    "  def _compare(self, _alpha, L, H):\n",
    "    if _alpha > H:\n",
    "      return H\n",
    "    elif _alpha < L:\n",
    "      return L\n",
    "    else:\n",
    "      return _alpha\n",
    "      \n",
    "  def fit(self, features, labels):\n",
    "    self.init_args(features, labels)\n",
    "    for t in range(self.max_iter):\n",
    "      i1, i2 = self._init_alpha()\n",
    "      if self.Y[i1] == self.Y[i2]:\n",
    "        L = max(0, self.alpha[i1] + self.alpha[i2] - self.C)\n",
    "        H = mix(self.C, self.alpha[i1] + self.alpha[i2])\n",
    "      else:\n",
    "        L = max(0, self.alpha[i2] - self.alpha[i1])\n",
    "        H = min(self.C, self.C + self.alpha[i2] - self.alpha[i1])\n",
    "      E1 = self.E[i1]\n",
    "      E2 = self.E[i2]\n",
    "      eta = self.kernel(self.X[i1], self.X[i1]) + self.kernel(self.X[i2], self.X[i2] - 2 * self.kernel(self.X[i1], self.X[i2]))\n",
    "      if eta <= 0:\n",
    "        continue\n",
    "      alpha2_new_unc = self.alpha[i2] + self.Y[i2] * (E1 - E2) / eta  #此处有修改，根据书上应该是E1 - E2，书上130-131页\n",
    "      alpha2_new = self._compare(alpha2_new_unc, L, H)\n",
    "      alpha1_new = self.alpha[i1] + self.Y[i1] * self.Y[i2] * (self.alpha[i2] - alpha2_new)\n",
    "      b1_new = -E1 - self.Y[i1] * self.kernel(self.X[i1], self.X[i1]) * (alpha1_new - self.alpha[i1]) \\\n",
    "               - self.Y[i2] * self.kernel(self.X[i2], self.X[i1]) * (alpha2_new - self.alpha[i2]) + self.b\n",
    "      b2_new = -E2 - self.Y[i1] * self.kernel(self.X[i1], self.X[i2]) * (alpha1_new - self.alpha[i1]) \\\n",
    "               - self.Y[i2] * self.kernel(self.X[i2], self.X[i2]) * (alpha2_new - self.alpha[i2]) + self.b\n",
    "      if 0 < alpha1_new < self.C:\n",
    "        b_new = b1_new\n",
    "      elif 0 < alpha2_new < self.C:\n",
    "        b_new = b2_new\n",
    "      else:\n",
    "        # 选择中点\n",
    "        b_new = (b1_new + b2_new) / 2\n",
    "\n",
    "      # 更新参数\n",
    "      self.alpha[i1] = alpha1_new\n",
    "      self.alpha[i2] = alpha2_new\n",
    "      self.b = b_new\n",
    "      self.E[i1] = self._E(i1)\n",
    "      self.E[i2] = self._E(i2)\n",
    "    return \"Training done\"\n",
    "    \n",
    "  def predict(self, data):\n",
    "    r = self.b\n",
    "    for i in range(self.m):\n",
    "      r += self.alpha[i] * self.Y[i] * self.kernel(data, self.X[i])\n",
    "    return 1 if r > 0 else -1\n",
    "    \n",
    "  def accuracy(self, X_test, y_test):\n",
    "    num_correct = 0\n",
    "    for i in range(len(X_test)):\n",
    "      result = self.predict(X_test[i])\n",
    "      if result == y_test[i]:\n",
    "        num_correct += 1\n",
    "    return num_correct / len(X_test)\n",
    "    \n",
    "  def _weight(self):\n",
    "    yx = self.Y.reshape(-1, 1) * self.X\n",
    "    self.w = np.dot(yx.T, self.alpha)\n",
    "    return self.w\n",
    "\n",
    "# ------------------------------------------------\n",
    "# TEST\n",
    "svm = SVM(max_iter=200)\n",
    "svm.fit(X_train, y_train)\n",
    "print(\"The accuracy of SVM model: {}\".format(svm.accuracy(X_test, y_test)))"
   ]
  },
  {
   "cell_type": "markdown",
   "metadata": {},
   "source": [
    "## sklearn instance"
   ]
  },
  {
   "cell_type": "code",
   "execution_count": 4,
   "metadata": {},
   "outputs": [
    {
     "data": {
      "text/plain": [
       "1.0"
      ]
     },
     "execution_count": 4,
     "metadata": {},
     "output_type": "execute_result"
    }
   ],
   "source": [
    "from sklearn.svm import SVC\n",
    "clf = SVC()\n",
    "clf.fit(X_train, y_train)\n",
    "clf.score(X_test, y_test)"
   ]
  },
  {
   "cell_type": "markdown",
   "metadata": {},
   "source": [
    "## 习题 7.2"
   ]
  },
  {
   "cell_type": "code",
   "execution_count": 5,
   "metadata": {},
   "outputs": [
    {
     "name": "stdout",
     "output_type": "stream",
     "text": [
      "w = [[-1.  2.]]\n",
      "b = [-2.]\n",
      "support vectors = [[3. 2.]\n",
      " [1. 2.]\n",
      " [3. 3.]]\n",
      "----------------------------------------\n"
     ]
    }
   ],
   "source": [
    "%matplotlib inline\n",
    "from sklearn.svm import SVC\n",
    "\n",
    "# 加载数据\n",
    "X = [[1, 2], [2, 3], [3, 3], [2, 1], [3, 2]]\n",
    "y = [1, 1, 1, -1, -1]\n",
    "\n",
    "# 训练SVM模型\n",
    "clf = SVC(kernel='linear', C=10000)\n",
    "clf.fit(X, y)\n",
    "\n",
    "print(\"w =\", clf.coef_)\n",
    "print(\"b =\", clf.intercept_)\n",
    "print(\"support vectors =\", clf.support_vectors_)\n",
    "print(\"----------------------------------------\")"
   ]
  },
  {
   "cell_type": "markdown",
   "metadata": {},
   "source": [
    "**最大间隔分离超平面：**$-x^{(1)}+2x^{(2)}-2=0$  \n",
    "**分类决策函数：**$f(x)=\\text{sign}(-x^{(1)}+2x^{(2)}-2)$  \n",
    "**支持向量：**$x_1=(3,2)^T,x_2=(1,2)^T, x_3=(3,3)^T$  "
   ]
  },
  {
   "cell_type": "code",
   "execution_count": 7,
   "metadata": {},
   "outputs": [
    {
     "data": {
      "image/png": "[encoded data removed]",
      "text/plain": [
       "<Figure size 720x540 with 1 Axes>"
      ]
     },
     "metadata": {
      "needs_background": "light"
     },
     "output_type": "display_data"
    }
   ],
   "source": [
    "import matplotlib.pyplot as plt\n",
    "import numpy as np\n",
    "\n",
    "# 绘制数据点\n",
    "fig = plt.figure(figsize = (8, 6), dpi=90)\n",
    "\n",
    "color_seq = ['red' if v == 1 else 'blue' for v in y]\n",
    "plt.scatter([i[0] for i in X], [i[1] for i in X], c=color_seq)\n",
    "# 得到x轴的所有点\n",
    "xaxis = np.linspace(0, 3.5)\n",
    "w = clf.coef_[0]\n",
    "# 计算斜率\n",
    "a = -w[0] / w[1]\n",
    "# 得到分离超平面\n",
    "y_sep = a * xaxis - (clf.intercept_[0]) / w[1]\n",
    "# 下边界超平面\n",
    "b = clf.support_vectors_[0]\n",
    "yy_down = a * xaxis + (b[1] - a * b[0])\n",
    "# 上边界超平面\n",
    "b = clf.support_vectors_[-1]\n",
    "yy_up = a * xaxis + (b[1] - a * b[0])\n",
    "# 绘制超平面\n",
    "plt.plot(xaxis, y_sep, 'k-')\n",
    "plt.plot(xaxis, yy_down, 'k--')\n",
    "plt.plot(xaxis, yy_up, 'k--')\n",
    "# 绘制支持向量\n",
    "plt.xlabel('$x^{(1)}$')\n",
    "plt.ylabel('$x^{(2)}$')\n",
    "plt.scatter(clf.support_vectors_[:, 0], clf.support_vectors_[:, 1], s=150, facecolors='none', edgecolors='k')\n",
    "plt.show()"
   ]
  },
  {
   "cell_type": "code",
   "execution_count": null,
   "metadata": {},
   "outputs": [],
   "source": []
  }
 ],
 "metadata": {
  "kernelspec": {
   "display_name": "Python 3",
   "language": "python",
   "name": "python3"
  },
  "language_info": {
   "codemirror_mode": {
    "name": "ipython",
    "version": 3
   },
   "file_extension": ".py",
   "mimetype": "text/x-python",
   "name": "python",
   "nbconvert_exporter": "python",
   "pygments_lexer": "ipython3",
   "version": "3.8.3"
  }
 },
 "nbformat": 4,
 "nbformat_minor": 4
}
