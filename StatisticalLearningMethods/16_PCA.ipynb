{
 "cells": [
  {
   "cell_type": "markdown",
   "metadata": {},
   "source": [
    "# 第 16 章 主成分分析 Principal Component Analysis, PCA"
   ]
  },
  {
   "cell_type": "markdown",
   "metadata": {},
   "source": [
    "1.假设$x$为$m$ 维随机变量，其均值为$\\mu$，协方差矩阵为$\\Sigma$。\n",
    "\n",
    "考虑由$m$维随机变量$x$到$m$维随机变量$y$的线性变换\n",
    "$$y _ { i } = \\alpha _ { i } ^ { T } x = \\sum _ { k = 1 } ^ { m } \\alpha _ { k i } x _ { k } , \\quad i = 1,2 , \\cdots , m$$\n",
    "\n",
    "其中$\\alpha _ { i } ^ { T } = ( \\alpha _ { 1 i } , \\alpha _ { 2 i } , \\cdots , \\alpha _ { m i } )$。\n",
    "\n",
    "如果该线性变换满足以下条件，则称之为总体主成分：\n",
    "\n",
    "（1）$\\alpha _ { i } ^ { T } \\alpha _ { i } = 1 , i = 1,2 , \\cdots , m$；\n",
    "\n",
    "（2）$\\operatorname { cov } ( y _ { i } , y _ { j } ) = 0 ( i \\neq j )$;\n",
    "\n",
    "（3）变量$y_1$是$x$的所有线性变换中方差最大的；$y_2$是与$y_1$不相关的$x$的所有线性变换中方差最大的；一般地，$y_i$是与$y _ { 1 } , y _ { 2 } , \\cdots , y _ { i - 1 } , ( i = 1,2 , \\cdots , m )$都不相关的$x$的所有线性变换中方差最大的；这时分别称$y _ { 1 } , y _ { 2 } , \\cdots , y _ { m }$为$x$的第一主成分、第二主成分、…、第$m$主成分。\n",
    "\n",
    "2.假设$x$是$m$维随机变量，其协方差矩阵是$\\Sigma$，$\\Sigma$的特征值分别是$\\lambda _ { 1 } \\geq\\lambda _ { 2 } \\geq \\cdots \\geq \\lambda _ { m } \\geq 0$，特征值对应的单位特征向量分别是$\\alpha _ { 1 } , \\alpha _ { 2 } , \\cdots , \\alpha _ { m }$，则$x$的第2主成分可以写作\n",
    "\n",
    "$$y _ { i } = \\alpha _ { i } ^ { T } x = \\sum _ { k = 1 } ^ { m } \\alpha _ { k i } x _ { k } , \\quad i = 1,2 , \\cdots , m$$\n",
    "并且，$x$的第$i$主成分的方差是协方差矩阵$\\Sigma$的第$i$个特征值，即$$\\operatorname { var } ( y _ { i } ) = \\alpha _ { i } ^ { T } \\Sigma \\alpha _ { i } = \\lambda _ { i }$$\n",
    "\n",
    "3.主成分有以下性质：\n",
    "\n",
    "主成分$y$的协方差矩阵是对角矩阵$$\\operatorname { cov } ( y ) = \\Lambda = \\operatorname { diag } ( \\lambda _ { 1 } , \\lambda _ { 2 } , \\cdots , \\lambda _ { m } )$$\n",
    "\n",
    "主成分$y$的方差之和等于随机变量$x$的方差之和\n",
    "$$\\sum _ { i = 1 } ^ { m } \\lambda _ { i } = \\sum _ { i = 1 } ^ { m } \\sigma _ { i i }$$\n",
    "其中$\\sigma _ { i i }$是$x_2$的方差，即协方差矩阵$\\Sigma$的对角线元素。\n",
    "\n",
    "主成分$y_k$与变量$x_2$的相关系数$\\rho ( y _ { k } , x _ { i } )$称为因子负荷量（factor loading），它表示第$k$个主成分$y_k$与变量$x$的相关关系，即$y_k$对$x$的贡献程度。\n",
    "$$\\rho ( y _ { k } , x _ { i } ) = \\frac { \\sqrt { \\lambda _ { k } } \\alpha _ { i k } } { \\sqrt { \\sigma _ { i i } } } , \\quad k , i = 1,2 , \\cdots , m$$\n",
    "\n",
    "4.样本主成分分析就是基于样本协方差矩阵的主成分分析。\n",
    "\n",
    "给定样本矩阵\n",
    "$$X = \\left[ \\begin{array} { l l l l } { x _ { 1 } } & { x _ { 2 } } & { \\cdots } & { x _ { n } } \\end{array} \\right] = \\left[ \\begin{array} { c c c c } { x _ { 11 } } & { x _ { 12 } } & { \\cdots } & { x _ { 1 n } } \\\\ { x _ { 21 } } & { x _ { 22 } } & { \\cdots } & { x _ { 2 n } } \\\\ { \\vdots } & { \\vdots } & { } & { \\vdots } \\\\ { x _ { m 1 } } & { x _ { m 2 } } & { \\cdots } & { x _ { m n } } \\end{array} \\right]$$\n",
    "\n",
    "其中$x _ { j } = ( x _ { 1 j } , x _ { 2 j } , \\cdots , x _ { m j } ) ^ { T }$是$x$的第$j$个独立观测样本，$j=1,2，…,n$。 \n",
    "\n",
    "$X$的样本协方差矩阵\n",
    "$$\\left. \\begin{array} { c } { S = [ s _ { i j } ] _ { m \\times m } , \\quad s _ { i j } = \\frac { 1 } { n - 1 } \\sum _ { k = 1 } ^ { n } ( x _ { i k } - \\overline { x } _ { i } ) ( x _ { j k } - \\overline { x } _ { j } ) } \\\\ { i = 1,2 , \\cdots , m , \\quad j = 1,2 , \\cdots , m } \\end{array} \\right.$$\n",
    "\n",
    "给定样本数据矩阵$X$，考虑向量$x$到$y$的线性变换$$y = A ^ { T } x$$\n",
    "这里\n",
    "$$A = \\left[ \\begin{array} { l l l l } { a _ { 1 } } & { a _ { 2 } } & { \\cdots } & { a _ { m } } \\end{array} \\right] = \\left[ \\begin{array} { c c c c } { a _ { 11 } } & { a _ { 12 } } & { \\cdots } & { a _ { 1 m } } \\\\ { a _ { 21 } } & { a _ { 22 } } & { \\cdots } & { a _ { 2 m } } \\\\ { \\vdots } & { \\vdots } & { } & { \\vdots } \\\\ { a _ { m 1 } } & { a _ { m 2 } } & { \\cdots } & { a _ { m m } } \\end{array} \\right]$$\n",
    "\n",
    "如果该线性变换满足以下条件，则称之为样本主成分。样本第一主成分$y _ { 1 } = a _ { 1 } ^ { T } x$是在$a _ { 1 } ^ { T } a _ { 1 } = 1$条件下，使得$a _ { 1 } ^ { T } x _ { j } ( j = 1,2 , \\cdots , n )$的样本方差$a _ { 1 } ^ { T } S a _ { 1 }$最大的$x$的线性变换；\n",
    "\n",
    "样本第二主成分$y _ { 2 } = a _ { 2 } ^ { T } x$是在$a _ { 2 } ^ { T } a _ { 2 } = 1$和$a _ { 2 } ^ { T } x _ { j }$与$a _ { 1 } ^ { T } x _ { j } ( j = 1,2 , \\cdots , n )$的样本协方差$a _ { 1 } ^ { T } S a _ { 2 } = 0$条件下，使得$a _ { 2 } ^ { T } x _ { j } ( j = 1,2 , \\cdots , n )$的样本方差$a _ { 2 } ^ { T } S a _ { 2 }$最大的$x$的线性变换；\n",
    "\n",
    "一般地，样本第$i$主成分$y _ { i } = a _ { i } ^ { T } x$是在$a _ { i } ^ { T } a _ { i } = 1$和$a _ { i } ^ { T } x _ { j }$与$a _ { k } ^ { T } x _ { j } ( k < i , j = 1,2 , \\cdots , n )$的样本协方差$a _ { k } ^ { T } S a _ { i } = 0$条件下，使得$a _ { i } ^ { T } x _ { j } ( j = 1,2 , \\cdots , n )$的样本方差$a _ { k } ^ { T } S a _ { i }$最大的$x$的线性变换。\n",
    "\n",
    "5.主成分分析方法主要有两种，可以通过相关矩阵的特征值分解或样本矩阵的奇异值分解进行。\n",
    "\n",
    "（1）相关矩阵的特征值分解算法。针对$m \\times n$样本矩阵$X$，求样本相关矩阵\n",
    "$$R = \\frac { 1 } { n - 1 } X X ^ { T }$$\n",
    "再求样本相关矩阵的$k$个特征值和对应的单位特征向量，构造正交矩阵\n",
    "$$V = ( v _ { 1 } , v _ { 2 } , \\cdots , v _ { k } )$$\n",
    "\n",
    "$V$的每一列对应一个主成分，得到$k \\times n$样本主成分矩阵\n",
    "$$Y = V ^ { T } X$$\n",
    "\n",
    "（2）矩阵$X$的奇异值分解算法。针对$m \\times n$样本矩阵$X$ \n",
    "$$X ^ { \\prime } = \\frac { 1 } { \\sqrt { n - 1 } } X ^ { T }$$\n",
    "对矩阵$X ^ { \\prime }$进行截断奇异值分解，保留$k$个奇异值、奇异向量，得到\n",
    "$$X ^ { \\prime } = U S V ^ { T }$$\n",
    "$V$的每一列对应一个主成分，得到$k \\times n$样本主成分矩阵$Y$\n",
    "$$Y = V ^ { T } X$$"
   ]
  },
  {
   "cell_type": "code",
   "execution_count": 3,
   "metadata": {},
   "outputs": [],
   "source": [
    "import numpy as np\n",
    "import pandas as pd\n",
    "import matplotlib.pyplot as plt\n",
    "%matplotlib inline\n",
    "\n",
    "import seaborn as sb\n",
    "from scipy.io import loadmat"
   ]
  },
  {
   "cell_type": "code",
   "execution_count": 6,
   "metadata": {},
   "outputs": [
    {
     "name": "stdout",
     "output_type": "stream",
     "text": [
      "{'__header__': b'MATLAB 5.0 MAT-file, Platform: PCWIN64, Created on: Mon Nov 14 22:41:44 2011', '__version__': '1.0', '__globals__': [], 'X': array([[3.38156267, 3.38911268],\n",
      "       [4.52787538, 5.8541781 ],\n",
      "       [2.65568187, 4.41199472],\n",
      "       [2.76523467, 3.71541365],\n",
      "       [2.84656011, 4.17550645],\n",
      "       [3.89067196, 6.48838087],\n",
      "       [3.47580524, 3.63284876],\n",
      "       [5.91129845, 6.68076853],\n",
      "       [3.92889397, 5.09844661],\n",
      "       [4.56183537, 5.62329929],\n",
      "       [4.57407171, 5.39765069],\n",
      "       [4.37173356, 5.46116549],\n",
      "       [4.19169388, 4.95469359],\n",
      "       [5.24408518, 4.66148767],\n",
      "       [2.8358402 , 3.76801716],\n",
      "       [5.63526969, 6.31211438],\n",
      "       [4.68632968, 5.6652411 ],\n",
      "       [2.85051337, 4.62645627],\n",
      "       [5.1101573 , 7.36319662],\n",
      "       [5.18256377, 4.64650909],\n",
      "       [5.70732809, 6.68103995],\n",
      "       [3.57968458, 4.80278074],\n",
      "       [5.63937773, 6.12043594],\n",
      "       [4.26346851, 4.68942896],\n",
      "       [2.53651693, 3.88449078],\n",
      "       [3.22382902, 4.94255585],\n",
      "       [4.92948801, 5.95501971],\n",
      "       [5.79295774, 5.10839305],\n",
      "       [2.81684824, 4.81895769],\n",
      "       [3.88882414, 5.10036564],\n",
      "       [3.34323419, 5.89301345],\n",
      "       [5.87973414, 5.52141664],\n",
      "       [3.10391912, 3.85710242],\n",
      "       [5.33150572, 4.68074235],\n",
      "       [3.37542687, 4.56537852],\n",
      "       [4.77667888, 6.25435039],\n",
      "       [2.6757463 , 3.73096988],\n",
      "       [5.50027665, 5.67948113],\n",
      "       [1.79709714, 3.24753885],\n",
      "       [4.3225147 , 5.11110472],\n",
      "       [4.42100445, 6.02563978],\n",
      "       [3.17929886, 4.43686032],\n",
      "       [3.03354125, 3.97879278],\n",
      "       [4.6093482 , 5.879792  ],\n",
      "       [2.96378859, 3.30024835],\n",
      "       [3.97176248, 5.40773735],\n",
      "       [1.18023321, 2.87869409],\n",
      "       [1.91895045, 5.07107848],\n",
      "       [3.95524687, 4.5053271 ],\n",
      "       [5.11795499, 6.08507386]])}\n",
      "--------------------------------------\n"
     ]
    },
    {
     "data": {
      "image/png": "[encoded data removed]",
      "text/plain": [
       "<Figure size 864x576 with 1 Axes>"
      ]
     },
     "metadata": {
      "needs_background": "light"
     },
     "output_type": "display_data"
    }
   ],
   "source": [
    "data = loadmat('./ex7data1.mat')\n",
    "print(data)\n",
    "print(\"--------------------------------------\")\n",
    "X = data['X']\n",
    "fig, ax = plt.subplots(figsize=(12,8))\n",
    "ax.scatter(X[:, 0], X[:, 1])\n",
    "plt.show()"
   ]
  },
  {
   "cell_type": "code",
   "execution_count": 8,
   "metadata": {},
   "outputs": [
    {
     "data": {
      "text/plain": [
       "(matrix([[-0.79241747, -0.60997914],\n",
       "         [-0.60997914,  0.79241747]]),\n",
       " array([1.43584536, 0.56415464]),\n",
       " matrix([[-0.79241747, -0.60997914],\n",
       "         [-0.60997914,  0.79241747]]))"
      ]
     },
     "execution_count": 8,
     "metadata": {},
     "output_type": "execute_result"
    }
   ],
   "source": [
    "def pca(X):\n",
    "  # normalize the features\n",
    "  X = (X - X.mean()) / X.std()\n",
    "  # compute the covariance matrix\n",
    "  X = np.matrix(X)\n",
    "  cov = (X.T * X) / X.shape[0]\n",
    "  # perform SVD\n",
    "  U, S, V = np.linalg.svd(cov)\n",
    "  return U, S, V\n",
    "\n",
    "U, S, V = pca(X)\n",
    "U, S, V"
   ]
  },
  {
   "cell_type": "code",
   "execution_count": 9,
   "metadata": {},
   "outputs": [
    {
     "data": {
      "text/plain": [
       "matrix([[-4.74689738],\n",
       "        [-7.15889408],\n",
       "        [-4.79563345],\n",
       "        [-4.45754509],\n",
       "        [-4.80263579],\n",
       "        [-7.04081342],\n",
       "        [-4.97025076],\n",
       "        [-8.75934561],\n",
       "        [-6.2232703 ],\n",
       "        [-7.04497331],\n",
       "        [-6.91702866],\n",
       "        [-6.79543508],\n",
       "        [-6.3438312 ],\n",
       "        [-6.99891495],\n",
       "        [-4.54558119],\n",
       "        [-8.31574426],\n",
       "        [-7.16920841],\n",
       "        [-5.08083842],\n",
       "        [-8.54077427],\n",
       "        [-6.94102769],\n",
       "        [-8.5978815 ],\n",
       "        [-5.76620067],\n",
       "        [-8.2020797 ],\n",
       "        [-6.23890078],\n",
       "        [-4.37943868],\n",
       "        [-5.56947441],\n",
       "        [-7.53865023],\n",
       "        [-7.70645413],\n",
       "        [-5.17158343],\n",
       "        [-6.19268884],\n",
       "        [-6.24385246],\n",
       "        [-8.02715303],\n",
       "        [-4.81235176],\n",
       "        [-7.07993347],\n",
       "        [-5.45953289],\n",
       "        [-7.60014707],\n",
       "        [-4.39612191],\n",
       "        [-7.82288033],\n",
       "        [-3.40498213],\n",
       "        [-6.54290343],\n",
       "        [-7.17879573],\n",
       "        [-5.22572421],\n",
       "        [-4.83081168],\n",
       "        [-7.23907851],\n",
       "        [-4.36164051],\n",
       "        [-6.44590096],\n",
       "        [-2.69118076],\n",
       "        [-4.61386195],\n",
       "        [-5.88236227],\n",
       "        [-7.76732508]])"
      ]
     },
     "execution_count": 9,
     "metadata": {},
     "output_type": "execute_result"
    }
   ],
   "source": [
    "def project_data(X, U, k):\n",
    "  U_reduced = U[:,:k]\n",
    "  return np.dot(X, U_reduced)\n",
    "\n",
    "Z = project_data(X, U, 1)\n",
    "Z"
   ]
  },
  {
   "cell_type": "code",
   "execution_count": 10,
   "metadata": {},
   "outputs": [
    {
     "data": {
      "text/plain": [
       "matrix([[3.76152442, 2.89550838],\n",
       "        [5.67283275, 4.36677606],\n",
       "        [3.80014373, 2.92523637],\n",
       "        [3.53223661, 2.71900952],\n",
       "        [3.80569251, 2.92950765],\n",
       "        [5.57926356, 4.29474931],\n",
       "        [3.93851354, 3.03174929],\n",
       "        [6.94105849, 5.3430181 ],\n",
       "        [4.93142811, 3.79606507],\n",
       "        [5.58255993, 4.29728676],\n",
       "        [5.48117436, 4.21924319],\n",
       "        [5.38482148, 4.14507365],\n",
       "        [5.02696267, 3.8696047 ],\n",
       "        [5.54606249, 4.26919213],\n",
       "        [3.60199795, 2.77270971],\n",
       "        [6.58954104, 5.07243054],\n",
       "        [5.681006  , 4.37306758],\n",
       "        [4.02614513, 3.09920545],\n",
       "        [6.76785875, 5.20969415],\n",
       "        [5.50019161, 4.2338821 ],\n",
       "        [6.81311151, 5.24452836],\n",
       "        [4.56923815, 3.51726213],\n",
       "        [6.49947125, 5.00309752],\n",
       "        [4.94381398, 3.80559934],\n",
       "        [3.47034372, 2.67136624],\n",
       "        [4.41334883, 3.39726321],\n",
       "        [5.97375815, 4.59841938],\n",
       "        [6.10672889, 4.70077626],\n",
       "        [4.09805306, 3.15455801],\n",
       "        [4.90719483, 3.77741101],\n",
       "        [4.94773778, 3.80861976],\n",
       "        [6.36085631, 4.8963959 ],\n",
       "        [3.81339161, 2.93543419],\n",
       "        [5.61026298, 4.31861173],\n",
       "        [4.32622924, 3.33020118],\n",
       "        [6.02248932, 4.63593118],\n",
       "        [3.48356381, 2.68154267],\n",
       "        [6.19898705, 4.77179382],\n",
       "        [2.69816733, 2.07696807],\n",
       "        [5.18471099, 3.99103461],\n",
       "        [5.68860316, 4.37891565],\n",
       "        [4.14095516, 3.18758276],\n",
       "        [3.82801958, 2.94669436],\n",
       "        [5.73637229, 4.41568689],\n",
       "        [3.45624014, 2.66050973],\n",
       "        [5.10784454, 3.93186513],\n",
       "        [2.13253865, 1.64156413],\n",
       "        [3.65610482, 2.81435955],\n",
       "        [4.66128664, 3.58811828],\n",
       "        [6.1549641 , 4.73790627]])"
      ]
     },
     "execution_count": 10,
     "metadata": {},
     "output_type": "execute_result"
    }
   ],
   "source": [
    "def recover_data(Z, U, k):\n",
    "  U_reduced = U[:,:k]\n",
    "  return np.dot(Z, U_reduced.T)\n",
    "\n",
    "X_recovered = recover_data(Z, U, 1)\n",
    "X_recovered"
   ]
  },
  {
   "cell_type": "code",
   "execution_count": 11,
   "metadata": {},
   "outputs": [
    {
     "data": {
      "image/png": "[encoded data removed]",
      "text/plain": [
       "<Figure size 864x576 with 1 Axes>"
      ]
     },
     "metadata": {
      "needs_background": "light"
     },
     "output_type": "display_data"
    }
   ],
   "source": [
    "fig, ax = plt.subplots(figsize=(12,8))\n",
    "ax.scatter(list(X_recovered[:, 0]), list(X_recovered[:, 1]))\n",
    "plt.show()"
   ]
  },
  {
   "cell_type": "code",
   "execution_count": null,
   "metadata": {},
   "outputs": [],
   "source": []
  }
 ],
 "metadata": {
  "kernelspec": {
   "display_name": "Python 3",
   "language": "python",
   "name": "python3"
  },
  "language_info": {
   "codemirror_mode": {
    "name": "ipython",
    "version": 3
   },
   "file_extension": ".py",
   "mimetype": "text/x-python",
   "name": "python",
   "nbconvert_exporter": "python",
   "pygments_lexer": "ipython3",
   "version": "3.8.3"
  }
 },
 "nbformat": 4,
 "nbformat_minor": 4
}
