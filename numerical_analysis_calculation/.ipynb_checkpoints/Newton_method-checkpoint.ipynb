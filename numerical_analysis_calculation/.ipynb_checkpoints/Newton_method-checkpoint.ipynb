{
 "cells": [
  {
   "cell_type": "markdown",
   "metadata": {},
   "source": [
    "## 二分法\n",
    "\n",
    "### Pseudocode 伪代码\n",
    "\n",
    "```\n",
    "Binary_Search(a, b, epsilon, function)\n",
    "  binary_root = 0\n",
    "  a_value = function(a)\n",
    "  b_value = function(b)\n",
    "  while True\n",
    "    binary_root = (a+b)/2\n",
    "    binary_value = function(binary_root)\n",
    "    if (b-a)/2 < epsilon  || binary_value == 0\n",
    "      break\n",
    "    if a_value * binary_value < 0\n",
    "      b = binary_root\n",
    "    else if b_value * binary_value < 0\n",
    "      a = binary_root\n",
    "      \n",
    "  return binary_root\n",
    "```\n",
    "\n",
    "### Coding\n"
   ]
  },
  {
   "cell_type": "code",
   "execution_count": 3,
   "metadata": {},
   "outputs": [
    {
     "name": "stdout",
     "output_type": "stream",
     "text": [
      "函数方程的近视解为： 1.25\n"
     ]
    }
   ],
   "source": [
    "import math\n",
    "\n",
    "def Binary_Search(a, b, epsilon, function):\n",
    "    binary_root = 0\n",
    "    a_value = function(a)\n",
    "    b_value = function(b)\n",
    "    \n",
    "    if a_value * b_value > 0:\n",
    "        raise ValueError(\"The function must have different sign at a and b.\")\n",
    "    \n",
    "    while True:\n",
    "        binary_root = (a + b) / 2\n",
    "        binary_value = function(binary_root)\n",
    "        \n",
    "        if ((a - b) / 2 < epsilon) or (binary_value == 0):\n",
    "            break\n",
    "        if a_value * binary_value < 0:\n",
    "            b = binary_root\n",
    "        elif b_value * binary_value < 0:\n",
    "            a = binary_root\n",
    "        \n",
    "    return binary_root\n",
    "\n",
    "\n",
    "def function(x):\n",
    "    return math.pow(x, 3) - x - 1\n",
    "\n",
    "\n",
    "if __name__ == '__main__':\n",
    "    a = 1.0\n",
    "    b = 1.5\n",
    "    epsilon = 0.005\n",
    "    \n",
    "    x = Binary_Search(a, b, epsilon, function)\n",
    "    \n",
    "    print(\"函数方程的近视解为：\", x)\n",
    "      "
   ]
  },
  {
   "cell_type": "code",
   "execution_count": null,
   "metadata": {},
   "outputs": [],
   "source": [
    "## 牛顿迭代法\n",
    "\n",
    "### Pseudocode\n",
    "\n",
    "```\n",
    "Newton_Method()\n",
    "  \n",
    "\n",
    "```\n",
    "\n",
    "### Coding"
   ]
  }
 ],
 "metadata": {
  "kernelspec": {
   "display_name": "Python 3",
   "language": "python",
   "name": "python3"
  },
  "language_info": {
   "codemirror_mode": {
    "name": "ipython",
    "version": 3
   },
   "file_extension": ".py",
   "mimetype": "text/x-python",
   "name": "python",
   "nbconvert_exporter": "python",
   "pygments_lexer": "ipython3",
   "version": "3.7.6"
  }
 },
 "nbformat": 4,
 "nbformat_minor": 4
}
