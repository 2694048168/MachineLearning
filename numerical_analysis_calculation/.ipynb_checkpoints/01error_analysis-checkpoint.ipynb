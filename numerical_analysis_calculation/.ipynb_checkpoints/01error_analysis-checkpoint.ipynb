{
 "cells": [
  {
   "cell_type": "markdown",
   "metadata": {},
   "source": [
    "# 江西财经大学 软件与物联网工程学院20级研究生课程\n",
    "\n",
    "## 课程名称：**数值计算**\n",
    "\n",
    "## 授课教师：**蔡鹏**\n"
   ]
  },
  {
   "cell_type": "markdown",
   "metadata": {},
   "source": [
    "# Theory\n"
   ]
  },
  {
   "cell_type": "markdown",
   "metadata": {},
   "source": [
    "## the overview of Numerical Algorithm Analysis\n",
    "\n",
    "### 数值分析特点\n",
    "- 面向计算机 Computer Calculation\n",
    "- 可靠的理论分析\n",
    "- 计算复杂度，一般是指加减乘除和微分、积分计算次数\n",
    "- 算法分析里面，专业术语，时间复杂度T(n)和空间复杂度S(n)的度量\n",
    "- 数值实验，是行之有效的算法\n",
    "\n",
    "### 学习数值算法\n",
    "- 掌握方法的基本原理和核心思想\n",
    "- 注意方法的处理技巧与计算机的结合\n",
    "- 重视误差分析、收敛性、稳定性\n",
    "- 使用数值方法解决实际计算问题\n",
    "- 做理论分析与计算的练习\n",
    "\n",
    "### 误差估计分析\n",
    "- 研究求解时定量分析方法误差\n",
    "- 研究算法设计时定性分析舍入误差\n",
    "- 重视在逐步计算过程中误差的传播：逐步缩小(数值稳定) & 逐步放大(数值不稳定)\n",
    "- 在深度学习DeepLearning中，计算反向梯度传播时，使用链式法则计算梯度也就是误差在计算过程中的传播计算\n",
    "\n",
    "### the base conceptions to using frequently\n",
    "- 绝对误差 Absolute error\n",
    "- 绝对误差限 Absolute error limit\n",
    "- 相对误差 Relative error\n",
    "- 相对误差限 Relative error limit\n",
    "- 有效数字 & 有效数字的位数\n",
    "- 每一个数学符号和其上下标号都有其实际含义，仔细理解符号 “symbol”\n",
    "\n",
    "### 数值运算中误差分析的方法\n",
    "- 误差传播，即就是误差累积有大小，正负\n",
    "- 误差分布随机性，使用概率统计方法，称之为 概率分析法\n",
    "- 定性分析误差在运算中的累计，称之为 数值稳定性\n",
    "- 在运算过程中舍入误差不增长的计算公式是数值稳定的\n",
    "\n",
    "### 数值运算中误差分析的原则\n",
    "- 避免除数绝对值远小于被除数绝对值，即就是做除法运算时，两者越接近越好\n",
    "- 避免两相近的数相减，导致有效数字位数的损失\n",
    "- 防止大数“吃掉”小数，即就是运算过程中两个数的数量级相差很大\n",
    "- 由于计算机硬件的限制，即计算机位数有限，应该注意运算的处理方式和运算次序\n",
    "- 使用理论简化计算步骤，减小运算次数，有利于运行时间效率的提升，同时减小误差（由于误差的传播）\n",
    "- 理解计算机运算单元，就是基本的逻辑门电路，加法和减法电路，乘除运算最好等效于移位运算，计算机使用其寄存器进行移位运算\n",
    "\n",
    "### Taylor Formula\n",
    "- 基函数\n",
    "- 系数\n",
    "- 余项\n"
   ]
  },
  {
   "cell_type": "markdown",
   "metadata": {},
   "source": [
    "# Coding"
   ]
  },
  {
   "cell_type": "markdown",
   "metadata": {},
   "source": [
    "## 实现算法\n",
    "- 时间复杂度T(n)和空间复杂度S(n)权衡,时间复杂度的提升是以空间复杂度为代价的\n",
    "\n",
    "- 数值计算的算法实现更应该注意计算量C(n)，即就是计算量大小问题\n",
    "\n",
    "- 效率 = 算法效率 + 编程语言效率 + 计算机硬件效率\n",
    "\n",
    "- 计算机语言有两大特性：生产效率 && 运行效率\n",
    "\n",
    "- C++ 运行效率比 Python 高；Python 生产效率比 C++ 高\n",
    "\n",
    "- 推荐书籍：《算法导论》和《算法4》\n",
    "\n",
    "\n",
    "# Coding Standard\n",
    "- [Google style for CPP](https://zh-google-styleguide.readthedocs.io/en/latest/google-cpp-styleguide/contents/)\n",
    "\n",
    "- [Google style for Python](https://zh-google-styleguide.readthedocs.io/en/latest/google-python-styleguide/contents/)\n",
    "\n",
    "- 命名一定有一套规范，尽量与普遍的规范一致\n",
    "\n",
    "- 算法或者数据结构的编码实现\n",
    "    - 首先要弄懂算法或者数据结构的基本原理\n",
    "    - 做好能写出来伪代码 Pseudocode\n",
    "    - 然后针对使用的编程语言进行思考\n",
    "    - 借鉴优秀的（高效与简洁）实现方式\n",
    "    - 最后动手开始编程实现\n",
    "    "
   ]
  },
  {
   "cell_type": "code",
   "execution_count": null,
   "metadata": {},
   "outputs": [],
   "source": []
  }
 ],
 "metadata": {
  "kernelspec": {
   "display_name": "Python 3",
   "language": "python",
   "name": "python3"
  },
  "language_info": {
   "codemirror_mode": {
    "name": "ipython",
    "version": 3
   },
   "file_extension": ".py",
   "mimetype": "text/x-python",
   "name": "python",
   "nbconvert_exporter": "python",
   "pygments_lexer": "ipython3",
   "version": "3.8.3"
  }
 },
 "nbformat": 4,
 "nbformat_minor": 4
}
