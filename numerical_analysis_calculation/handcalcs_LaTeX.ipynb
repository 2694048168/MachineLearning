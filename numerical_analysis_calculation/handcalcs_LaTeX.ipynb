{
 "cells": [
  {
   "cell_type": "code",
   "execution_count": 17,
   "metadata": {},
   "outputs": [],
   "source": [
    "from math import sqrt\n",
    "from math import asin\n",
    "from math import sin\n",
    "\n",
    "import handcalcs.render\n",
    "\n",
    "# %%render 这种 magic 方法，通常其必须在第一行中显示，所以尽量在 %%render 的后面进行注释，而且导入函数库也只有在上方的 cell 导入"
   ]
  },
  {
   "cell_type": "code",
   "execution_count": 18,
   "metadata": {},
   "outputs": [
    {
     "data": {
      "text/latex": [
       "\\[\n",
       "\\begin{aligned}\n",
       "a &= 2 \\; \n",
       "\\\\[10pt]\n",
       "b &= 3 \\; \n",
       "\\\\[10pt]\n",
       "c &= 2 \\cdot a + \\frac{ b }{ 3 }  = 2 \\cdot 2 + \\frac{ 3 }{ 3 } &= 5.0  \n",
       "\\end{aligned}\n",
       "\\]"
      ],
      "text/plain": [
       "<IPython.core.display.Latex object>"
      ]
     },
     "metadata": {},
     "output_type": "display_data"
    }
   ],
   "source": [
    "%%render\n",
    "a = 2\n",
    "b = 3\n",
    "c = 2*a+b/3"
   ]
  },
  {
   "cell_type": "code",
   "execution_count": 19,
   "metadata": {},
   "outputs": [
    {
     "name": "stdout",
     "output_type": "stream",
     "text": [
      "\\[\n",
      "\\begin{aligned}\n",
      "a &= 2 \\; \n",
      "\\\\[10pt]\n",
      "b &= 3 \\; \n",
      "\\\\[10pt]\n",
      "c &= 2 \\cdot a + \\frac{ b }{ 3 }  = 2 \\cdot 2 + \\frac{ 3 }{ 3 } &= 5.0  \n",
      "\\end{aligned}\n",
      "\\]\n"
     ]
    }
   ],
   "source": [
    "%%tex\n",
    "a = 2\n",
    "b = 3\n",
    "c = 2*a + b/3"
   ]
  },
  {
   "cell_type": "code",
   "execution_count": 20,
   "metadata": {},
   "outputs": [
    {
     "data": {
      "text/latex": [
       "\\[\n",
       "\\begin{aligned}\n",
       "a &= 2 \\cdot \\frac{ x }{ y }  = 2 \\cdot \\frac{ 1 }{ 1 } &= 2.0  \n",
       "\\\\[10pt]\n",
       "b &= 3 \\cdot a  = 3 \\cdot 2.0 &= 6.0  \n",
       "\\\\[10pt]\n",
       "c &= \\frac{ a + b }{ z }  = \\frac{ 2.0 + 6.0 }{ 1 } &= 8.0  \n",
       "\\end{aligned}\n",
       "\\]"
      ],
      "text/plain": [
       "<IPython.core.display.Latex object>"
      ]
     },
     "metadata": {},
     "output_type": "display_data"
    },
    {
     "data": {
      "text/plain": [
       "{'x': 1, 'y': 1, 'z': 1, 'a': 2.0, 'b': 6.0, 'c': 8.0}"
      ]
     },
     "execution_count": 20,
     "metadata": {},
     "output_type": "execute_result"
    }
   ],
   "source": [
    "# 基础用法2——在方程中进行显示\n",
    "from handcalcs.decorator import handcalc\n",
    "@handcalc(left=\"\",right=\"\",jupyter_display=True)\n",
    "def my_calc(x,y,z):\n",
    "    a = 2*x/y\n",
    "    b = 3*a\n",
    "    c = (a+b)/z \n",
    "    return locals()\n",
    "my_calc(1,1,1)"
   ]
  },
  {
   "cell_type": "code",
   "execution_count": 21,
   "metadata": {},
   "outputs": [
    {
     "data": {
      "text/latex": [
       "\\[\n",
       "\\begin{aligned}\n",
       "f &= \\frac{ c }{ a } + b \\; \\;\\textrm{(Comment)}\n",
       "\\\\[10pt]\n",
       "g &= c \\cdot \\frac{ f }{ a } \\; \\;\\textrm{(Comment)}\n",
       "\\\\[10pt]\n",
       "d &= \\sqrt { \\frac{ a }{ b } } + \\arcsin \\left( \\sin \\left( \\frac{ b }{ c } \\right) \\right) + \\left( \\frac{ a }{ b } \\right) ^{ 0.5 } + \\sqrt { \\frac{ a \\cdot b + b \\cdot c }{ \\left( b \\right) ^{ 2 } } } + \\sin \\left( \\frac{ a }{ b } \\right) \\; \\;\\textrm{(Comment)}\n",
       "\\end{aligned}\n",
       "\\]"
      ],
      "text/plain": [
       "<IPython.core.display.Latex object>"
      ]
     },
     "metadata": {},
     "output_type": "display_data"
    }
   ],
   "source": [
    "%%render\n",
    "#symbolic\n",
    "f = c/a + b #Comment\n",
    "g = c*f / a # Comment\n",
    "d = sqrt(a / b) + asin(sin(b / c)) + (a/b)**(0.5) + sqrt((a*b + b*c)/(b**2)) + sin(a/b) #Comment"
   ]
  },
  {
   "cell_type": "code",
   "execution_count": 22,
   "metadata": {},
   "outputs": [
    {
     "name": "stdout",
     "output_type": "stream",
     "text": [
      "\\[\n",
      "\\begin{aligned}\n",
      "f &= \\frac{ c }{ a } + b \\; \\;\\textrm{(Comment)}\n",
      "\\\\[10pt]\n",
      "g &= c \\cdot \\frac{ f }{ a } \\; \\;\\textrm{(Comment)}\n",
      "\\\\[10pt]\n",
      "d &= \\sqrt { \\frac{ a }{ b } } + \\arcsin \\left( \\sin \\left( \\frac{ b }{ c } \\right) \\right) + \\left( \\frac{ a }{ b } \\right) ^{ 0.5 } + \\sqrt { \\frac{ a \\cdot b + b \\cdot c }{ \\left( b \\right) ^{ 2 } } } + \\sin \\left( \\frac{ a }{ b } \\right) \\; \\;\\textrm{(Comment)}\n",
      "\\end{aligned}\n",
      "\\]\n"
     ]
    }
   ],
   "source": [
    "%%tex\n",
    "#symbolic\n",
    "f = c/a + b #Comment\n",
    "g = c*f / a # Comment\n",
    "d = sqrt(a / b) + asin(sin(b / c)) + (a/b)**(0.5) + sqrt((a*b + b*c)/(b**2)) + sin(a/b) #Comment"
   ]
  },
  {
   "cell_type": "code",
   "execution_count": 24,
   "metadata": {},
   "outputs": [
    {
     "data": {
      "text/latex": [
       "\\[\n",
       "\\begin{aligned}\n",
       "\\mathrm{Mag}_{1} &= 100 \\; \n",
       "\\\\[10pt]\n",
       "&\\text{Since, } \\mathrm{Mag}_{1} \\lt 10000 \\rightarrow \\left( 100 \\lt 10000 \\right) :   \\end{aligned}\n",
       "\\]\n",
       "\\[\n",
       "\\begin{aligned}\n",
       "\\mathrm{Mag} &= \\mathrm{Mag}_{1} + 100  = 100 + 100 &= 200  \n",
       "\\end{aligned}\n",
       "\\]"
      ],
      "text/plain": [
       "<IPython.core.display.Latex object>"
      ]
     },
     "metadata": {},
     "output_type": "display_data"
    }
   ],
   "source": [
    "%%render\n",
    "# 基础应用——条件输出LaTeX\n",
    "#Symbolic\n",
    "Mag_1 = 100\n",
    "if Mag_1< 10000:Mag = Mag_1+100\n",
    "else:Mag = Mag_1-100"
   ]
  },
  {
   "cell_type": "code",
   "execution_count": 25,
   "metadata": {},
   "outputs": [
    {
     "data": {
      "text/latex": [
       "\\[\n",
       "\\begin{aligned}\n",
       "\\alpha &= 0.9 \\; \\;\\textrm{(α)}\n",
       "\\\\[10pt]\n",
       "\\beta_{x} &= 1.6 \\; \\;\\textrm{(β加上下标x)}\n",
       "\\\\[10pt]\n",
       "\\theta_{2} &= 1 \\; \\;\\textrm{(θ加加下标2)}\n",
       "\\end{aligned}\n",
       "\\]"
      ],
      "text/plain": [
       "<IPython.core.display.Latex object>"
      ]
     },
     "metadata": {},
     "output_type": "display_data"
    }
   ],
   "source": [
    "%%render\n",
    "# 希腊字母和特殊字符\n",
    "alpha  = 0.9 #α\n",
    "beta_x = 1.6 #β加上下标x\n",
    "theta_2 = 1 #θ加加下标2"
   ]
  },
  {
   "cell_type": "code",
   "execution_count": 26,
   "metadata": {},
   "outputs": [
    {
     "name": "stdout",
     "output_type": "stream",
     "text": [
      "\\[\n",
      "\\begin{aligned}\n",
      "\\alpha &= 0.9 \\; \\;\\textrm{(α)}\n",
      "\\\\[10pt]\n",
      "\\beta_{x} &= 1.6 \\; \\;\\textrm{(β加上下标x)}\n",
      "\\\\[10pt]\n",
      "\\theta_{2} &= 1 \\; \\;\\textrm{(θ加加下标2)}\n",
      "\\end{aligned}\n",
      "\\]\n"
     ]
    }
   ],
   "source": [
    "%%tex\n",
    "# 希腊字母和特殊字符\n",
    "alpha  = 0.9 #α\n",
    "beta_x = 1.6 #β加上下标x\n",
    "theta_2 = 1 #θ加加下标2"
   ]
  },
  {
   "cell_type": "code",
   "execution_count": 27,
   "metadata": {},
   "outputs": [
    {
     "data": {
      "text/latex": [
       "$\\sqrt{x^2+y^2}$"
      ],
      "text/plain": [
       "<IPython.core.display.Latex object>"
      ]
     },
     "execution_count": 27,
     "metadata": {},
     "output_type": "execute_result"
    }
   ],
   "source": [
    "# 可以使用LaTeX表示数学公式\n",
    "from IPython.display import Latex\n",
    "Latex(r\"$\\sqrt{x^2+y^2}$\")"
   ]
  },
  {
   "cell_type": "code",
   "execution_count": null,
   "metadata": {},
   "outputs": [],
   "source": []
  }
 ],
 "metadata": {
  "kernelspec": {
   "display_name": "Python 3",
   "language": "python",
   "name": "python3"
  },
  "language_info": {
   "codemirror_mode": {
    "name": "ipython",
    "version": 3
   },
   "file_extension": ".py",
   "mimetype": "text/x-python",
   "name": "python",
   "nbconvert_exporter": "python",
   "pygments_lexer": "ipython3",
   "version": "3.8.3"
  }
 },
 "nbformat": 4,
 "nbformat_minor": 4
}
