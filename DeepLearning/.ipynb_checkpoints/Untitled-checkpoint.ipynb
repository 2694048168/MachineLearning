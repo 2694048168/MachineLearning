{
 "cells": [
  {
   "cell_type": "markdown",
   "metadata": {},
   "source": [
    "# 深度神经网络优化\n",
    "\n",
    "**监督机器学习**核心思想：正则化参数的同时最小化经验误差函数\n",
    "- 最小化经验误差是为了极大程度的拟合训练数据\n",
    "- 正则化参数是为了防止过分拟合训练数据\n",
    "\n",
    "\n",
    "\n",
    "**正则化**：正则化系数、正则化项（L1 and L2 范数）\n",
    "\n",
    "**dropout**：在神经网络训练过程中，对所有神经元按照一定的概率进行消除的处理方式。\n",
    "简单概述，dropout 就是在正常的神经网络基础之上给每一层的每一个神经元添加一道概率流程来随机丢弃某些神经元以达到防止过拟合的目的。\n",
    "\n",
    "\n",
    "**梯度下降法 Gradient Descent**\n",
    "- mini-batch Gradient Descent, 小批量梯度下降法\n",
    "- Stochastic Gradient Descent, 随机梯度下降法\n",
    "- momentum，带动量的梯度下降法\n",
    "\n",
    "**Adam 算法**\n",
    "- Adam，Adaptive Moment Estimation\n",
    "- 是在带动量的梯度下降法的基础上融合一种称之为 RMSprop（加速梯度下降）的算法而成的\n",
    "\n",
    "\n",
    "- CNN，卷积神经网络\n",
    "- CapsNet 胶囊网络\n"
   ]
  },
  {
   "cell_type": "code",
   "execution_count": null,
   "metadata": {},
   "outputs": [],
   "source": []
  }
 ],
 "metadata": {
  "kernelspec": {
   "display_name": "Python 3",
   "language": "python",
   "name": "python3"
  },
  "language_info": {
   "codemirror_mode": {
    "name": "ipython",
    "version": 3
   },
   "file_extension": ".py",
   "mimetype": "text/x-python",
   "name": "python",
   "nbconvert_exporter": "python",
   "pygments_lexer": "ipython3",
   "version": "3.7.6"
  }
 },
 "nbformat": 4,
 "nbformat_minor": 4
}
