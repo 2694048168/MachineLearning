{
 "cells": [
  {
   "cell_type": "markdown",
   "id": "conceptual-lottery",
   "metadata": {},
   "source": [
    "# Advanced Automatic Differentiation"
   ]
  },
  {
   "cell_type": "raw",
   "id": "awful-productivity",
   "metadata": {},
   "source": [
    "The automatic differentiation guide includes everything required to calculate gradients. This guide focuses on deeper, less common features of the tf.GradientTape api."
   ]
  },
  {
   "cell_type": "markdown",
   "id": "biological-hearts",
   "metadata": {},
   "source": [
    "## 1. Setup"
   ]
  },
  {
   "cell_type": "code",
   "execution_count": 1,
   "id": "mobile-rochester",
   "metadata": {},
   "outputs": [
    {
     "name": "stdout",
     "output_type": "stream",
     "text": [
      "The version of Tensorflow: 2.4.1\n"
     ]
    }
   ],
   "source": [
    "import tensorflow as tf\n",
    "\n",
    "# TensorFlow: Blas GEMM launch failed\n",
    "physical_devices = tf.config.list_physical_devices('GPU') \n",
    "tf.config.experimental.set_memory_growth(physical_devices[0], True)\n",
    "\n",
    "import matplotlib as mpl\n",
    "import matplotlib.pyplot as plt\n",
    "%matplotlib inline\n",
    "mpl.rcParams['figure.figsize'] = (8, 6)\n",
    "\n",
    "print(\"The version of Tensorflow: {}\".format(tf.__version__))"
   ]
  },
  {
   "cell_type": "markdown",
   "id": "unnecessary-retro",
   "metadata": {},
   "source": [
    "## 2. Controlling gradient recording"
   ]
  },
  {
   "cell_type": "raw",
   "id": "sharp-chambers",
   "metadata": {},
   "source": [
    "In the automatic differentiation guide you saw how to control which variables and tensors are watched by the tape while building the gradient calculation.\n",
    "\n",
    "The tape also has methods to manipulate the recording.\n",
    "\n",
    "If you wish to stop recording gradients, you can use GradientTape.stop_recording() to temporarily suspend recording.\n",
    "\n",
    "This may be useful to reduce overhead if you do not wish to differentiate a complicated operation in the middle of your model. This could include calculating a metric or an intermediate result:"
   ]
  },
  {
   "cell_type": "code",
   "execution_count": 2,
   "id": "preliminary-exception",
   "metadata": {},
   "outputs": [
    {
     "name": "stdout",
     "output_type": "stream",
     "text": [
      "dz/dx: tf.Tensor(4.0, shape=(), dtype=float32)\n",
      "dz/dy: None\n"
     ]
    }
   ],
   "source": [
    "x = tf.Variable(2.0)\n",
    "y = tf.Variable(3.0)\n",
    "\n",
    "with tf.GradientTape() as t:\n",
    "  x_sq = x * x\n",
    "  with t.stop_recording():\n",
    "    y_sq = y * y\n",
    "  z = x_sq + y_sq\n",
    "\n",
    "grad = t.gradient(z, {'x': x, 'y': y})\n",
    "\n",
    "print('dz/dx:', grad['x'])  # 2*x => 4\n",
    "print('dz/dy:', grad['y'])"
   ]
  },
  {
   "cell_type": "raw",
   "id": "initial-texture",
   "metadata": {},
   "source": [
    "If you wish to start over entirely, use reset(). Simply exiting the gradient tape block and restarting is usually easier to read, but you can use reset when exiting the tape block is difficult or impossible."
   ]
  },
  {
   "cell_type": "code",
   "execution_count": 3,
   "id": "macro-judges",
   "metadata": {},
   "outputs": [
    {
     "name": "stdout",
     "output_type": "stream",
     "text": [
      "dz/dx: tf.Tensor(4.0, shape=(), dtype=float32)\n",
      "dz/dy: None\n"
     ]
    }
   ],
   "source": [
    "x = tf.Variable(2.0)\n",
    "y = tf.Variable(3.0)\n",
    "reset = True\n",
    "\n",
    "with tf.GradientTape() as t:\n",
    "  y_sq = y * y\n",
    "  if reset:\n",
    "    # Throw out all the tape recorded so far\n",
    "    t.reset()\n",
    "  z = x * x + y_sq\n",
    "\n",
    "grad = t.gradient(z, {'x': x, 'y': y})\n",
    "\n",
    "print('dz/dx:', grad['x'])  # 2*x => 4\n",
    "print('dz/dy:', grad['y'])"
   ]
  },
  {
   "cell_type": "markdown",
   "id": "informational-stress",
   "metadata": {},
   "source": [
    "## 3. Stop gradient"
   ]
  },
  {
   "cell_type": "raw",
   "id": "applicable-doubt",
   "metadata": {},
   "source": [
    "In contrast to the global tape controls above, the tf.stop_gradient function is much more precise. It can be used to stop gradients from flowing along a particular path, without needing access to the tape itself:"
   ]
  },
  {
   "cell_type": "code",
   "execution_count": 4,
   "id": "rising-librarian",
   "metadata": {},
   "outputs": [
    {
     "name": "stdout",
     "output_type": "stream",
     "text": [
      "dz/dx: tf.Tensor(4.0, shape=(), dtype=float32)\n",
      "dz/dy: None\n"
     ]
    }
   ],
   "source": [
    "x = tf.Variable(2.0)\n",
    "y = tf.Variable(3.0)\n",
    "\n",
    "with tf.GradientTape() as t:\n",
    "  y_sq = y**2\n",
    "  z = x**2 + tf.stop_gradient(y_sq)\n",
    "\n",
    "grad = t.gradient(z, {'x': x, 'y': y})\n",
    "\n",
    "print('dz/dx:', grad['x'])  # 2*x => 4\n",
    "print('dz/dy:', grad['y'])"
   ]
  },
  {
   "cell_type": "markdown",
   "id": "median-collective",
   "metadata": {},
   "source": [
    "## 4. Custom gradients"
   ]
  },
  {
   "cell_type": "raw",
   "id": "adverse-sender",
   "metadata": {},
   "source": [
    "In some cases, you may want to control exactly how gradients are calculated rather than using the default. \n",
    "These situations include:\n",
    "- There is no defined gradient for a new op you are writing.\n",
    "- The default calculations are numerically unstable.\n",
    "- You wish to cache an expensive computation from the forward pass.\n",
    "- You want to modify a value (for example using: tf.clip_by_value, tf.math.round) without modifying the gradient.\n",
    "\n",
    "\n",
    "For writing a new op, you can use tf.RegisterGradient to set up your own. See that page for details. (Note that the gradient registry is global, so change it with caution.)\n",
    "\n",
    "For the latter three cases, you can use tf.custom_gradient.\n",
    "\n",
    "Here is an example that applies tf.clip_by_norm to the intermediate gradient."
   ]
  },
  {
   "cell_type": "code",
   "execution_count": 5,
   "id": "reported-tradition",
   "metadata": {},
   "outputs": [
    {
     "name": "stdout",
     "output_type": "stream",
     "text": [
      "tf.Tensor(2.0, shape=(), dtype=float32)\n"
     ]
    }
   ],
   "source": [
    "# Establish an identity operation, but clip during the gradient pass\n",
    "@tf.custom_gradient\n",
    "def clip_gradients(y):\n",
    "  def backward(dy):\n",
    "    return tf.clip_by_norm(dy, 0.5)\n",
    "  return y, backward\n",
    "\n",
    "v = tf.Variable(2.0)\n",
    "with tf.GradientTape() as t:\n",
    "  output = clip_gradients(v * v)\n",
    "print(t.gradient(output, v))  # calls \"backward\", which clips 4 to 2"
   ]
  },
  {
   "cell_type": "raw",
   "id": "pending-coalition",
   "metadata": {},
   "source": [
    "See the tf.custom_gradient decorator for more details."
   ]
  },
  {
   "cell_type": "markdown",
   "id": "historical-variance",
   "metadata": {},
   "source": [
    "## 5. Multiple tapes"
   ]
  },
  {
   "cell_type": "code",
   "execution_count": 6,
   "id": "continent-probability",
   "metadata": {},
   "outputs": [],
   "source": [
    "# Multiple tapes interact seamlessly. For example, here each tape watches a different set of tensors:\n",
    "\n",
    "x0 = tf.constant(0.0)\n",
    "x1 = tf.constant(0.0)\n",
    "\n",
    "with tf.GradientTape() as tape0, tf.GradientTape() as tape1:\n",
    "  tape0.watch(x0)\n",
    "  tape1.watch(x1)\n",
    "\n",
    "  y0 = tf.math.sin(x0)\n",
    "  y1 = tf.nn.sigmoid(x1)\n",
    "\n",
    "  y = y0 + y1\n",
    "\n",
    "  ys = tf.reduce_sum(y)"
   ]
  },
  {
   "cell_type": "code",
   "execution_count": 7,
   "id": "approximate-retirement",
   "metadata": {},
   "outputs": [
    {
     "data": {
      "text/plain": [
       "1.0"
      ]
     },
     "execution_count": 7,
     "metadata": {},
     "output_type": "execute_result"
    }
   ],
   "source": [
    "tape0.gradient(ys, x0).numpy()   # cos(x) => 1.0"
   ]
  },
  {
   "cell_type": "code",
   "execution_count": 8,
   "id": "painted-lucas",
   "metadata": {},
   "outputs": [
    {
     "data": {
      "text/plain": [
       "0.25"
      ]
     },
     "execution_count": 8,
     "metadata": {},
     "output_type": "execute_result"
    }
   ],
   "source": [
    "tape1.gradient(ys, x1).numpy()   # sigmoid(x1)*(1-sigmoid(x1)) => 0.25"
   ]
  },
  {
   "cell_type": "markdown",
   "id": "faced-rotation",
   "metadata": {},
   "source": [
    "### Higher-order gradients"
   ]
  },
  {
   "cell_type": "raw",
   "id": "daily-curtis",
   "metadata": {},
   "source": [
    "Operations inside of the GradientTape context manager are recorded for automatic differentiation. If gradients are computed in that context, then the gradient computation is recorded as well. As a result, the exact same API works for higher-order gradients as well. For example:1r"
   ]
  },
  {
   "cell_type": "code",
   "execution_count": 9,
   "id": "given-indian",
   "metadata": {},
   "outputs": [
    {
     "name": "stdout",
     "output_type": "stream",
     "text": [
      "dy_dx: 3.0\n",
      "d2y_dx2: 6.0\n"
     ]
    }
   ],
   "source": [
    "x = tf.Variable(1.0)  # Create a Tensorflow variable initialized to 1.0\n",
    "\n",
    "with tf.GradientTape() as t2:\n",
    "  with tf.GradientTape() as t1:\n",
    "    y = x * x * x\n",
    "\n",
    "  # Compute the gradient inside the outer `t2` context manager\n",
    "  # which means the gradient computation is differentiable as well.\n",
    "  dy_dx = t1.gradient(y, x)\n",
    "d2y_dx2 = t2.gradient(dy_dx, x)\n",
    "\n",
    "print('dy_dx:', dy_dx.numpy())  # 3 * x**2 => 3.0\n",
    "print('d2y_dx2:', d2y_dx2.numpy())  # 6 * x => 6.0"
   ]
  },
  {
   "cell_type": "raw",
   "id": "southwest-stationery",
   "metadata": {},
   "source": [
    "While that does give you the second derivative of a scalar function, this pattern does not generalize to produce a Hessian matrix, since GradientTape.gradient only computes the gradient of a scalar. To construct a Hessian, see the Hessian example under the Jacobian section.\n",
    "\n",
    "\"Nested calls to GradientTape.gradient\" is a good pattern when you are calculating a scalar from a gradient, and then the resulting scalar acts as a source for a second gradient calculation, as in the following example."
   ]
  },
  {
   "cell_type": "markdown",
   "id": "christian-diary",
   "metadata": {},
   "source": [
    "### Example: Input gradient regularization"
   ]
  },
  {
   "cell_type": "raw",
   "id": "physical-bunch",
   "metadata": {},
   "source": [
    "Many models are susceptible to \"adversarial examples\". This collection of techniques modifies the model's input to confuse the model's output. The simplest implementation takes a single step along the gradient of the output with respect to the input; the \"input gradient\".\n",
    "\n",
    "One technique to increase robustness to adversarial examples is input gradient regularization, which attempts to minimize the magnitude of the input gradient. If the input gradient is small, then the change in the output should be small too.\n",
    "\n",
    "Below is a naive implementation of input gradient regularization. The implementation is:\n",
    "- Calculate the gradient of the output with respect to the input using an inner tape.\n",
    "- Calculate the magnitude of that input gradient.\n",
    "- Calculate the gradient of that magnitude with respect to the model."
   ]
  },
  {
   "cell_type": "code",
   "execution_count": 10,
   "id": "expanded-story",
   "metadata": {},
   "outputs": [],
   "source": [
    "x = tf.random.normal([7, 5])\n",
    "\n",
    "layer = tf.keras.layers.Dense(10, activation=tf.nn.relu)"
   ]
  },
  {
   "cell_type": "code",
   "execution_count": 11,
   "id": "administrative-walter",
   "metadata": {},
   "outputs": [],
   "source": [
    "with tf.GradientTape() as t2:\n",
    "  # The inner tape only takes the gradient with respect to the input,\n",
    "  # not the variables.\n",
    "  with tf.GradientTape(watch_accessed_variables=False) as t1:\n",
    "    t1.watch(x)\n",
    "    y = layer(x)\n",
    "    out = tf.reduce_sum(layer(x)**2)\n",
    "  # 1. Calculate the input gradient.\n",
    "  g1 = t1.gradient(out, x)\n",
    "  # 2. Calculate the magnitude of the input gradient.\n",
    "  g1_mag = tf.norm(g1)\n",
    "\n",
    "# 3. Calculate the gradient of the magnitude with respect to the model.\n",
    "dg1_mag = t2.gradient(g1_mag, layer.trainable_variables)"
   ]
  },
  {
   "cell_type": "code",
   "execution_count": 12,
   "id": "beautiful-sector",
   "metadata": {},
   "outputs": [
    {
     "data": {
      "text/plain": [
       "[TensorShape([5, 10]), TensorShape([10])]"
      ]
     },
     "execution_count": 12,
     "metadata": {},
     "output_type": "execute_result"
    }
   ],
   "source": [
    "[var.shape for var in dg1_mag]"
   ]
  },
  {
   "cell_type": "markdown",
   "id": "capital-newfoundland",
   "metadata": {},
   "source": [
    "## 6. Jacobians"
   ]
  },
  {
   "cell_type": "raw",
   "id": "forty-directive",
   "metadata": {},
   "source": [
    "All the previous examples took the gradients of a scalar target with respect to some source tensor(s).\n",
    "\n",
    "The Jacobian matrix represents the gradients of a vector valued function. Each row contains the gradient of one of the vector's elements.\n",
    "\n",
    "The GradientTape.jacobian method allows you to efficiently calculate a Jacobian matrix.\n",
    "\n",
    "Note that:\n",
    "- Like gradient: The sources argument can be a tensor or a container of tensors.\n",
    "- sUnlike gradient: The target tensor must be a single tensor."
   ]
  },
  {
   "cell_type": "markdown",
   "id": "applicable-birthday",
   "metadata": {},
   "source": [
    "### [Jacobian matrix](https://en.wikipedia.org/wiki/Jacobian_matrix_and_determinant)"
   ]
  },
  {
   "cell_type": "markdown",
   "id": "thorough-pizza",
   "metadata": {},
   "source": [
    "### i. Scalar source"
   ]
  },
  {
   "cell_type": "code",
   "execution_count": 13,
   "id": "front-switzerland",
   "metadata": {},
   "outputs": [],
   "source": [
    "# As a first example, here is the Jacobian of a vector-target with respect to a scalar-source.\n",
    "\n",
    "x = tf.linspace(-10.0, 10.0, 200+1)\n",
    "delta = tf.Variable(0.0)\n",
    "\n",
    "with tf.GradientTape() as tape:\n",
    "  y = tf.nn.sigmoid(x+delta)\n",
    "\n",
    "dy_dx = tape.jacobian(y, delta)"
   ]
  },
  {
   "cell_type": "raw",
   "id": "systematic-performer",
   "metadata": {},
   "source": [
    "When you take the Jacobian with respect to a scalar the result has the shape of the target, and gives the gradient of the each element with respect to the source:"
   ]
  },
  {
   "cell_type": "code",
   "execution_count": 14,
   "id": "functioning-solid",
   "metadata": {},
   "outputs": [
    {
     "name": "stdout",
     "output_type": "stream",
     "text": [
      "(201,)\n",
      "(201,)\n"
     ]
    }
   ],
   "source": [
    "print(y.shape)\n",
    "print(dy_dx.shape)"
   ]
  },
  {
   "cell_type": "code",
   "execution_count": 15,
   "id": "vulnerable-jimmy",
   "metadata": {},
   "outputs": [
    {
     "data": {
      "image/png": "[encoded data removed]",
      "text/plain": [
       "<Figure size 960x720 with 1 Axes>"
      ]
     },
     "metadata": {
      "needs_background": "light"
     },
     "output_type": "display_data"
    }
   ],
   "source": [
    "plt.figure(dpi=120)\n",
    "plt.plot(x.numpy(), y, label='y')\n",
    "plt.plot(x.numpy(), dy_dx, label='dy/dx')\n",
    "plt.legend()\n",
    "_ = plt.xlabel('x')"
   ]
  },
  {
   "cell_type": "markdown",
   "id": "canadian-pilot",
   "metadata": {},
   "source": [
    "### ii. Tensor source"
   ]
  },
  {
   "cell_type": "raw",
   "id": "twelve-auditor",
   "metadata": {},
   "source": [
    "Whether the input is scalar or tensor, GradientTape.jacobian efficiently calculates the gradient of each element of the source with respect to each element of the target(s).\n",
    "\n",
    "For example, the output of this layer has a shape of (10, 7):"
   ]
  },
  {
   "cell_type": "code",
   "execution_count": 16,
   "id": "welsh-arthur",
   "metadata": {},
   "outputs": [
    {
     "data": {
      "text/plain": [
       "TensorShape([7, 10])"
      ]
     },
     "execution_count": 16,
     "metadata": {},
     "output_type": "execute_result"
    }
   ],
   "source": [
    "x = tf.random.normal([7, 5])\n",
    "layer = tf.keras.layers.Dense(10, activation=tf.nn.relu)\n",
    "\n",
    "with tf.GradientTape(persistent=True) as tape:\n",
    "  y = layer(x)\n",
    "\n",
    "y.shape"
   ]
  },
  {
   "cell_type": "code",
   "execution_count": 17,
   "id": "annoying-heater",
   "metadata": {},
   "outputs": [
    {
     "data": {
      "text/plain": [
       "TensorShape([5, 10])"
      ]
     },
     "execution_count": 17,
     "metadata": {},
     "output_type": "execute_result"
    }
   ],
   "source": [
    "# And the layer's kernel's shape is (5, 10):\n",
    "\n",
    "layer.kernel.shape"
   ]
  },
  {
   "cell_type": "code",
   "execution_count": 18,
   "id": "norwegian-complement",
   "metadata": {},
   "outputs": [
    {
     "data": {
      "text/plain": [
       "TensorShape([7, 10, 5, 10])"
      ]
     },
     "execution_count": 18,
     "metadata": {},
     "output_type": "execute_result"
    }
   ],
   "source": [
    "# The shape of the Jacobian of the output with respect to the kernel is those two shapes concatenated together:\n",
    "\n",
    "\n",
    "j = tape.jacobian(y, layer.kernel)\n",
    "j.shape"
   ]
  },
  {
   "cell_type": "code",
   "execution_count": 19,
   "id": "referenced-handy",
   "metadata": {},
   "outputs": [
    {
     "name": "stdout",
     "output_type": "stream",
     "text": [
      "g.shape: (5, 10)\n",
      "delta: 4.7683716e-07\n"
     ]
    }
   ],
   "source": [
    "# If you sum over the target's dimensions, \n",
    "# you're left with the gradient of the sum that would have been calculated by GradientTape.gradient:\n",
    "\n",
    "g = tape.gradient(y, layer.kernel)\n",
    "print('g.shape:', g.shape)\n",
    "\n",
    "j_sum = tf.reduce_sum(j, axis=[0, 1])\n",
    "delta = tf.reduce_max(abs(g - j_sum)).numpy()\n",
    "assert delta < 1e-3\n",
    "print('delta:', delta)"
   ]
  },
  {
   "cell_type": "markdown",
   "id": "sufficient-digit",
   "metadata": {},
   "source": [
    "### Example: Hessian"
   ]
  },
  {
   "cell_type": "raw",
   "id": "attractive-creator",
   "metadata": {},
   "source": [
    "While tf.GradientTape doesn't give an explicit method for constructing a Hessian matrix it's possible to build one using the GradientTape.jacobian method."
   ]
  },
  {
   "cell_type": "code",
   "execution_count": 20,
   "id": "suited-bench",
   "metadata": {},
   "outputs": [],
   "source": [
    "x = tf.random.normal([7, 5])\n",
    "layer1 = tf.keras.layers.Dense(8, activation=tf.nn.relu)\n",
    "layer2 = tf.keras.layers.Dense(6, activation=tf.nn.relu)\n",
    "\n",
    "with tf.GradientTape() as t2:\n",
    "  with tf.GradientTape() as t1:\n",
    "    x = layer1(x)\n",
    "    x = layer2(x)\n",
    "    loss = tf.reduce_mean(x**2)\n",
    "\n",
    "  g = t1.gradient(loss, layer1.kernel)\n",
    "\n",
    "h = t2.jacobian(g, layer1.kernel)"
   ]
  },
  {
   "cell_type": "code",
   "execution_count": 21,
   "id": "elder-bathroom",
   "metadata": {},
   "outputs": [
    {
     "name": "stdout",
     "output_type": "stream",
     "text": [
      "layer.kernel.shape: (5, 8)\n",
      "h.shape: (5, 8, 5, 8)\n"
     ]
    }
   ],
   "source": [
    "print(f'layer.kernel.shape: {layer1.kernel.shape}')\n",
    "print(f'h.shape: {h.shape}')"
   ]
  },
  {
   "cell_type": "code",
   "execution_count": 22,
   "id": "amateur-demand",
   "metadata": {},
   "outputs": [],
   "source": [
    "# To use this Hessian for a Newton's method step, \n",
    "# you would first flatten out its axes into a matrix, and flatten out the gradient into a vector:\n",
    "\n",
    "n_params = tf.reduce_prod(layer1.kernel.shape)\n",
    "\n",
    "g_vec = tf.reshape(g, [n_params, 1])\n",
    "h_mat = tf.reshape(h, [n_params, n_params])"
   ]
  },
  {
   "cell_type": "code",
   "execution_count": 23,
   "id": "velvet-sally",
   "metadata": {},
   "outputs": [],
   "source": [
    "# The Hessian matrix should be symmetric:\n",
    "\n",
    "def imshow_zero_center(image, **kwargs):\n",
    "  lim = tf.reduce_max(abs(image))\n",
    "  plt.imshow(image, vmin=-lim, vmax=lim, cmap='seismic', **kwargs)\n",
    "  plt.colorbar()"
   ]
  },
  {
   "cell_type": "code",
   "execution_count": 24,
   "id": "local-seminar",
   "metadata": {},
   "outputs": [
    {
     "data": {
      "image/png": "[encoded data removed]",
      "text/plain": [
       "<Figure size 576x432 with 2 Axes>"
      ]
     },
     "metadata": {
      "needs_background": "light"
     },
     "output_type": "display_data"
    }
   ],
   "source": [
    "imshow_zero_center(h_mat)"
   ]
  },
  {
   "cell_type": "code",
   "execution_count": 25,
   "id": "central-labor",
   "metadata": {},
   "outputs": [],
   "source": [
    "# The Newton's method update step is shown below.\n",
    "\n",
    "eps = 1e-3\n",
    "eye_eps = tf.eye(h_mat.shape[0])*eps"
   ]
  },
  {
   "cell_type": "code",
   "execution_count": 26,
   "id": "finite-depression",
   "metadata": {},
   "outputs": [],
   "source": [
    "# X(k+1) = X(k) - (∇²f(X(k)))^-1 @ ∇f(X(k))\n",
    "# h_mat = ∇²f(X(k))\n",
    "# g_vec = ∇f(X(k))\n",
    "update = tf.linalg.solve(h_mat + eye_eps, g_vec)\n",
    "\n",
    "# Reshape the update and apply it to the variable.\n",
    "_ = layer1.kernel.assign_sub(tf.reshape(update, layer1.kernel.shape))"
   ]
  },
  {
   "cell_type": "raw",
   "id": "hungarian-directive",
   "metadata": {},
   "source": [
    "While this is relatively simple for a single tf.Variable, applying this to a non-trivial model would require careful concatenation and slicing to produce a full Hessian across multiple variables."
   ]
  },
  {
   "cell_type": "markdown",
   "id": "pregnant-cathedral",
   "metadata": {},
   "source": [
    "### iii. Batch Jacobian"
   ]
  },
  {
   "cell_type": "raw",
   "id": "essential-amsterdam",
   "metadata": {},
   "source": [
    "In some cases, you want to take the Jacobian of each of a stack of targets with respect to a stack of sources, where the Jacobians for each target-source pair are independent.\n",
    "\n",
    "For example, here the input x is shaped (batch, ins) and the output y is shaped (batch, outs)"
   ]
  },
  {
   "cell_type": "code",
   "execution_count": 27,
   "id": "posted-louisiana",
   "metadata": {},
   "outputs": [
    {
     "data": {
      "text/plain": [
       "TensorShape([7, 6])"
      ]
     },
     "execution_count": 27,
     "metadata": {},
     "output_type": "execute_result"
    }
   ],
   "source": [
    "x = tf.random.normal([7, 5])\n",
    "\n",
    "layer1 = tf.keras.layers.Dense(8, activation=tf.nn.elu)\n",
    "layer2 = tf.keras.layers.Dense(6, activation=tf.nn.elu)\n",
    "\n",
    "with tf.GradientTape(persistent=True, watch_accessed_variables=False) as tape:\n",
    "  tape.watch(x)\n",
    "  y = layer1(x)\n",
    "  y = layer2(y)\n",
    "\n",
    "y.shape"
   ]
  },
  {
   "cell_type": "code",
   "execution_count": 28,
   "id": "physical-converter",
   "metadata": {},
   "outputs": [
    {
     "data": {
      "text/plain": [
       "TensorShape([7, 6, 7, 5])"
      ]
     },
     "execution_count": 28,
     "metadata": {},
     "output_type": "execute_result"
    }
   ],
   "source": [
    "# The full Jacobian of y with respect to x has a shape of (batch, ins, batch, outs), even if you only want (batch, ins, outs).\n",
    "\n",
    "j = tape.jacobian(y, x)\n",
    "j.shape"
   ]
  },
  {
   "cell_type": "code",
   "execution_count": 29,
   "id": "referenced-cleveland",
   "metadata": {},
   "outputs": [
    {
     "data": {
      "image/png": "[encoded data removed]",
      "text/plain": [
       "<Figure size 576x432 with 2 Axes>"
      ]
     },
     "metadata": {
      "needs_background": "light"
     },
     "output_type": "display_data"
    }
   ],
   "source": [
    "# If the gradients of each item in the stack are independent, \n",
    "# then every (batch, batch) slice of this tensor is a diagonal matrix:\n",
    "\n",
    "imshow_zero_center(j[:, 0, :, 0])\n",
    "_ = plt.title('A (batch, batch) slice')"
   ]
  },
  {
   "cell_type": "code",
   "execution_count": 30,
   "id": "promising-hindu",
   "metadata": {},
   "outputs": [
    {
     "data": {
      "image/png": "[encoded data removed]",
      "text/plain": [
       "<Figure size 576x432 with 2 Axes>"
      ]
     },
     "metadata": {
      "needs_background": "light"
     },
     "output_type": "display_data"
    }
   ],
   "source": [
    "def plot_as_patches(j):\n",
    "  # Reorder axes so the diagonals will each form a contiguous patch.\n",
    "  j = tf.transpose(j, [1, 0, 3, 2])\n",
    "  # Pad in between each patch.\n",
    "  lim = tf.reduce_max(abs(j))\n",
    "  j = tf.pad(j, [[0, 0], [1, 1], [0, 0], [1, 1]],\n",
    "             constant_values=-lim)\n",
    "  # Reshape to form a single image.\n",
    "  s = j.shape\n",
    "  j = tf.reshape(j, [s[0]*s[1], s[2]*s[3]])\n",
    "  imshow_zero_center(j, extent=[-0.5, s[2]-0.5, s[0]-0.5, -0.5])\n",
    "\n",
    "plot_as_patches(j)\n",
    "_ = plt.title('All (batch, batch) slices are diagonal')"
   ]
  },
  {
   "cell_type": "code",
   "execution_count": 31,
   "id": "wicked-grenada",
   "metadata": {},
   "outputs": [
    {
     "name": "stdout",
     "output_type": "stream",
     "text": [
      "(7, 6, 5)\n",
      "(7, 6, 5)\n"
     ]
    }
   ],
   "source": [
    "# To get the desired result you can sum over the duplicate batch dimension, \n",
    "# or else select the diagonals using tf.einsum.\n",
    "\n",
    "j_sum = tf.reduce_sum(j, axis=2)\n",
    "print(j_sum.shape)\n",
    "j_select = tf.einsum('bxby->bxy', j)\n",
    "print(j_select.shape)"
   ]
  },
  {
   "cell_type": "raw",
   "id": "distant-montreal",
   "metadata": {},
   "source": [
    "It would be much more efficient to do the calculation without the extra dimension in the first place. The GradientTape.batch_jacobian method does exactly that."
   ]
  },
  {
   "cell_type": "code",
   "execution_count": 32,
   "id": "frequent-apollo",
   "metadata": {},
   "outputs": [
    {
     "name": "stdout",
     "output_type": "stream",
     "text": [
      "WARNING:tensorflow:5 out of the last 5 calls to <function pfor.<locals>.f at 0x0000015A50BD9790> triggered tf.function retracing. Tracing is expensive and the excessive number of tracings could be due to (1) creating @tf.function repeatedly in a loop, (2) passing tensors with different shapes, (3) passing Python objects instead of tensors. For (1), please define your @tf.function outside of the loop. For (2), @tf.function has experimental_relax_shapes=True option that relaxes argument shapes that can avoid unnecessary retracing. For (3), please refer to https://www.tensorflow.org/guide/function#controlling_retracing and https://www.tensorflow.org/api_docs/python/tf/function for  more details.\n"
     ]
    },
    {
     "data": {
      "text/plain": [
       "TensorShape([7, 6, 5])"
      ]
     },
     "execution_count": 32,
     "metadata": {},
     "output_type": "execute_result"
    }
   ],
   "source": [
    "jb = tape.batch_jacobian(y, x)\n",
    "jb.shape"
   ]
  },
  {
   "cell_type": "code",
   "execution_count": 33,
   "id": "chronic-confidence",
   "metadata": {},
   "outputs": [
    {
     "name": "stdout",
     "output_type": "stream",
     "text": [
      "0.0\n"
     ]
    }
   ],
   "source": [
    "error = tf.reduce_max(abs(jb - j_sum))\n",
    "assert error < 1e-3\n",
    "print(error.numpy())"
   ]
  },
  {
   "cell_type": "code",
   "execution_count": 34,
   "id": "enhanced-traffic",
   "metadata": {},
   "outputs": [
    {
     "name": "stdout",
     "output_type": "stream",
     "text": [
      "WARNING:tensorflow:6 out of the last 6 calls to <function pfor.<locals>.f at 0x0000015A4857F160> triggered tf.function retracing. Tracing is expensive and the excessive number of tracings could be due to (1) creating @tf.function repeatedly in a loop, (2) passing tensors with different shapes, (3) passing Python objects instead of tensors. For (1), please define your @tf.function outside of the loop. For (2), @tf.function has experimental_relax_shapes=True option that relaxes argument shapes that can avoid unnecessary retracing. For (3), please refer to https://www.tensorflow.org/guide/function#controlling_retracing and https://www.tensorflow.org/api_docs/python/tf/function for  more details.\n",
      "j.shape: (7, 6, 7, 5)\n"
     ]
    }
   ],
   "source": [
    "x = tf.random.normal([7, 5])\n",
    "\n",
    "layer1 = tf.keras.layers.Dense(8, activation=tf.nn.elu)\n",
    "bn = tf.keras.layers.BatchNormalization()\n",
    "layer2 = tf.keras.layers.Dense(6, activation=tf.nn.elu)\n",
    "\n",
    "with tf.GradientTape(persistent=True, watch_accessed_variables=False) as tape:\n",
    "  tape.watch(x)\n",
    "  y = layer1(x)\n",
    "  y = bn(y, training=True)\n",
    "  y = layer2(y)\n",
    "\n",
    "j = tape.jacobian(y, x)\n",
    "print(f'j.shape: {j.shape}')"
   ]
  },
  {
   "cell_type": "code",
   "execution_count": 35,
   "id": "homeless-acoustic",
   "metadata": {},
   "outputs": [
    {
     "data": {
      "image/png": "[encoded data removed]",
      "text/plain": [
       "<Figure size 576x432 with 2 Axes>"
      ]
     },
     "metadata": {
      "needs_background": "light"
     },
     "output_type": "display_data"
    }
   ],
   "source": [
    "plot_as_patches(j)\n",
    "\n",
    "_ = plt.title('These slices are not diagonal')\n",
    "_ = plt.xlabel(\"Don't use `batch_jacobian`\")"
   ]
  },
  {
   "cell_type": "raw",
   "id": "aquatic-practitioner",
   "metadata": {},
   "source": [
    "In this case batch_jacobian still runs and returns something with the expected shape, but it's contents have an unclear meaning."
   ]
  },
  {
   "cell_type": "code",
   "execution_count": 36,
   "id": "conditional-sauce",
   "metadata": {},
   "outputs": [
    {
     "name": "stdout",
     "output_type": "stream",
     "text": [
      "WARNING:tensorflow:7 out of the last 7 calls to <function pfor.<locals>.f at 0x0000015A507ECAF0> triggered tf.function retracing. Tracing is expensive and the excessive number of tracings could be due to (1) creating @tf.function repeatedly in a loop, (2) passing tensors with different shapes, (3) passing Python objects instead of tensors. For (1), please define your @tf.function outside of the loop. For (2), @tf.function has experimental_relax_shapes=True option that relaxes argument shapes that can avoid unnecessary retracing. For (3), please refer to https://www.tensorflow.org/guide/function#controlling_retracing and https://www.tensorflow.org/api_docs/python/tf/function for  more details.\n",
      "jb.shape: (7, 6, 5)\n"
     ]
    }
   ],
   "source": [
    "jb = tape.batch_jacobian(y, x)\n",
    "print(f'jb.shape: {jb.shape}')"
   ]
  },
  {
   "cell_type": "markdown",
   "id": "imperial-interim",
   "metadata": {},
   "source": [
    "# reference\n",
    "\n",
    "### https://tensorflow.google.cn/guide/advanced_autodiff"
   ]
  },
  {
   "cell_type": "code",
   "execution_count": null,
   "id": "practical-print",
   "metadata": {},
   "outputs": [],
   "source": []
  }
 ],
 "metadata": {
  "kernelspec": {
   "display_name": "Python 3",
   "language": "python",
   "name": "python3"
  },
  "language_info": {
   "codemirror_mode": {
    "name": "ipython",
    "version": 3
   },
   "file_extension": ".py",
   "mimetype": "text/x-python",
   "name": "python",
   "nbconvert_exporter": "python",
   "pygments_lexer": "ipython3",
   "version": "3.8.5"
  }
 },
 "nbformat": 4,
 "nbformat_minor": 5
}
