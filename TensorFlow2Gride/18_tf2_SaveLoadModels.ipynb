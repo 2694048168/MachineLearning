{
 "cells": [
  {
   "cell_type": "markdown",
   "id": "built-anatomy",
   "metadata": {},
   "source": [
    "# Save and load Keras models"
   ]
  },
  {
   "cell_type": "markdown",
   "id": "basic-flashing",
   "metadata": {},
   "source": [
    "## 0. Introduction"
   ]
  },
  {
   "cell_type": "raw",
   "id": "peripheral-accent",
   "metadata": {},
   "source": [
    "A Keras model consists of multiple components:\n",
    "\n",
    "- The architecture, or configuration, which specifies what layers the model contain, and how they're connected.\n",
    "- A set of weights values (the \"state of the model\").\n",
    "- An optimizer (defined by compiling the model).\n",
    "- A set of losses and metrics (defined by compiling the model or calling add_loss() or add_metric())."
   ]
  },
  {
   "cell_type": "raw",
   "id": "polish-lancaster",
   "metadata": {},
   "source": [
    "The Keras API makes it possible to save all of these pieces to disk at once, or to only selectively save some of them:\n",
    "\n",
    "- Saving everything into a single archive in the TensorFlow SavedModel format (or in the older Keras H5 format). This is the standard practice.\n",
    "- Saving the architecture / configuration only, typically as a JSON file.\n",
    "- Saving the weights values only. This is generally used when training the model."
   ]
  },
  {
   "cell_type": "raw",
   "id": "mexican-coalition",
   "metadata": {},
   "source": [
    "Let's take a look at each of these options. When would you use one or the other, and how do they work?"
   ]
  },
  {
   "cell_type": "markdown",
   "id": "continental-mixture",
   "metadata": {},
   "source": [
    "## 1. How to save and load a model"
   ]
  },
  {
   "cell_type": "raw",
   "id": "appropriate-cleaners",
   "metadata": {},
   "source": [
    "If you only have 10 seconds to read this guide, here's what you need to know."
   ]
  },
  {
   "cell_type": "code",
   "execution_count": null,
   "id": "cloudy-texture",
   "metadata": {},
   "outputs": [],
   "source": [
    "# Saving a Keras model:\n",
    "\n",
    "model = ...  # Get model (Sequential, Functional Model, or Model subclass)\n",
    "model.save('path/to/location')"
   ]
  },
  {
   "cell_type": "code",
   "execution_count": null,
   "id": "packed-overview",
   "metadata": {},
   "outputs": [],
   "source": [
    "# Loading the model back:\n",
    "\n",
    "from tensorflow import keras\n",
    "model = keras.models.load_model('path/to/location')"
   ]
  },
  {
   "cell_type": "raw",
   "id": "extensive-massachusetts",
   "metadata": {},
   "source": [
    "Now, let's look at the details."
   ]
  },
  {
   "cell_type": "markdown",
   "id": "productive-quebec",
   "metadata": {},
   "source": [
    "## 2. Setup"
   ]
  },
  {
   "cell_type": "code",
   "execution_count": 2,
   "id": "interstate-caution",
   "metadata": {},
   "outputs": [
    {
     "name": "stdout",
     "output_type": "stream",
     "text": [
      "The version of Tensorflow: 2.4.1\n"
     ]
    }
   ],
   "source": [
    "import numpy as np\n",
    "import tensorflow as tf\n",
    "from tensorflow import keras\n",
    "\n",
    "print(\"The version of Tensorflow: {}\".format(tf.__version__))"
   ]
  },
  {
   "cell_type": "markdown",
   "id": "worldwide-locator",
   "metadata": {},
   "source": [
    "## 3. Whole-model saving & loading"
   ]
  },
  {
   "cell_type": "raw",
   "id": "failing-english",
   "metadata": {},
   "source": [
    "You can save an entire model to a single artifact. It will include:\n",
    "\n",
    "- The model's architecture/config\n",
    "- The model's weight values (which were learned during training)\n",
    "- The model's compilation information (if compile() was called)\n",
    "- The optimizer and its state, if any (this enables you to restart training where you left)"
   ]
  },
  {
   "cell_type": "raw",
   "id": "distributed-pension",
   "metadata": {},
   "source": [
    "APIs\n",
    "- model.save() or tf.keras.models.save_model()\n",
    "- tf.keras.models.load_model()\n",
    "\n",
    "\n",
    "There are two formats you can use to save an entire model to disk: the TensorFlow SavedModel format, and the older Keras H5 format. The recommended format is SavedModel. It is the default when you use model.save().\n",
    "\n",
    "You can switch to the H5 format by:\n",
    "\n",
    "- Passing save_format='h5' to save().\n",
    "- Passing a filename that ends in .h5 or .keras to save()."
   ]
  },
  {
   "cell_type": "markdown",
   "id": "broadband-klein",
   "metadata": {},
   "source": [
    "### i. SavedModel format"
   ]
  },
  {
   "cell_type": "raw",
   "id": "consolidated-cowboy",
   "metadata": {},
   "source": [
    "SavedModel is the more comprehensive save format that saves the model architecture, weights, and the traced Tensorflow subgraphs of the call functions. This enables Keras to restore both built-in layers as well as custom objects."
   ]
  },
  {
   "cell_type": "code",
   "execution_count": 3,
   "id": "accurate-addition",
   "metadata": {},
   "outputs": [
    {
     "name": "stdout",
     "output_type": "stream",
     "text": [
      "4/4 [==============================] - 1s 998us/step - loss: 0.7190\n",
      "INFO:tensorflow:Assets written to: my_model\\assets\n",
      "4/4 [==============================] - 0s 1ms/step - loss: 0.6178\n"
     ]
    },
    {
     "data": {
      "text/plain": [
       "<tensorflow.python.keras.callbacks.History at 0x193b965f1f0>"
      ]
     },
     "execution_count": 3,
     "metadata": {},
     "output_type": "execute_result"
    }
   ],
   "source": [
    "# Example:\n",
    "\n",
    "def get_model():\n",
    "    # Create a simple model.\n",
    "    inputs = keras.Input(shape=(32,))\n",
    "    outputs = keras.layers.Dense(1)(inputs)\n",
    "    model = keras.Model(inputs, outputs)\n",
    "    model.compile(optimizer=\"adam\", loss=\"mean_squared_error\")\n",
    "    return model\n",
    "\n",
    "\n",
    "model = get_model()\n",
    "\n",
    "# Train the model.\n",
    "test_input = np.random.random((128, 32))\n",
    "test_target = np.random.random((128, 1))\n",
    "model.fit(test_input, test_target)\n",
    "\n",
    "# Calling `save('my_model')` creates a SavedModel folder `my_model`.\n",
    "model.save(\"my_model\")\n",
    "\n",
    "# It can be used to reconstruct the model identically.\n",
    "reconstructed_model = keras.models.load_model(\"my_model\")\n",
    "\n",
    "# Let's check:\n",
    "np.testing.assert_allclose(\n",
    "    model.predict(test_input), reconstructed_model.predict(test_input)\n",
    ")\n",
    "\n",
    "# The reconstructed model is already compiled and has retained the optimizer\n",
    "# state, so training can resume:\n",
    "reconstructed_model.fit(test_input, test_target)"
   ]
  },
  {
   "cell_type": "markdown",
   "id": "designing-declaration",
   "metadata": {},
   "source": [
    "### What the SavedModel contains"
   ]
  },
  {
   "cell_type": "code",
   "execution_count": 5,
   "id": "vital-shareware",
   "metadata": {},
   "outputs": [
    {
     "name": "stdout",
     "output_type": "stream",
     "text": [
      " 驱动器 D 中的卷是 Data\n",
      " 卷的序列号是 12E0-D62D\n",
      "\n",
      " D:\\miniconda\\workspace\\TensorFlow2Gride\\my_model 的目录\n",
      "\n",
      "2021/04/05  13:37    <DIR>          .\n",
      "2021/04/05  13:37    <DIR>          ..\n",
      "2021/04/05  13:37    <DIR>          assets\n",
      "2021/04/05  13:37            46,010 saved_model.pb\n",
      "2021/04/05  13:37    <DIR>          variables\n",
      "               1 个文件         46,010 字节\n",
      "               4 个目录 318,236,028,928 可用字节\n"
     ]
    }
   ],
   "source": [
    "# Calling model.save('my_model') creates a folder named my_model, containing the following:\n",
    "\n",
    "%ls my_model"
   ]
  },
  {
   "cell_type": "raw",
   "id": "tamil-medicare",
   "metadata": {},
   "source": [
    "The model architecture, and training configuration (including the optimizer, losses, and metrics) are stored in saved_model.pb. The weights are saved in the variables/ directory.\n",
    "\n",
    "For detailed information on the SavedModel format, see the SavedModel guide (The SavedModel format on disk)."
   ]
  },
  {
   "cell_type": "markdown",
   "id": "friendly-hawaii",
   "metadata": {},
   "source": [
    "### How SavedModel handles custom objects"
   ]
  },
  {
   "cell_type": "raw",
   "id": "federal-smooth",
   "metadata": {},
   "source": [
    "When saving the model and its layers, the SavedModel format stores the class name, call function, losses, and weights (and the config, if implemented). The call function defines the computation graph of the model/layer.\n",
    "\n",
    "In the absence of the model/layer config, the call function is used to create a model that exists like the original model which can be trained, evaluated, and used for inference.\n",
    "\n",
    "Nevertheless, it is always a good practice to define the get_config and from_config methods when writing a custom model or layer class. This allows you to easily update the computation later if needed. See the section about Custom objects for more information."
   ]
  },
  {
   "cell_type": "code",
   "execution_count": 6,
   "id": "divine-museum",
   "metadata": {},
   "outputs": [
    {
     "name": "stdout",
     "output_type": "stream",
     "text": [
      "INFO:tensorflow:Assets written to: my_model\\assets\n",
      "WARNING:tensorflow:No training configuration found in save file, so the model was *not* compiled. Compile it manually.\n",
      "WARNING:tensorflow:No training configuration found in save file, so the model was *not* compiled. Compile it manually.\n",
      "Original model: <__main__.CustomModel object at 0x00000193B9860730>\n",
      "Model Loaded with custom objects: <__main__.CustomModel object at 0x00000195193B4340>\n",
      "Model loaded without the custom object class: <tensorflow.python.keras.saving.saved_model.load.CustomModel object at 0x00000193DCC38D90>\n"
     ]
    }
   ],
   "source": [
    "# Example:\n",
    "\n",
    "class CustomModel(keras.Model):\n",
    "    def __init__(self, hidden_units):\n",
    "        super(CustomModel, self).__init__()\n",
    "        self.hidden_units = hidden_units\n",
    "        self.dense_layers = [keras.layers.Dense(u) for u in hidden_units]\n",
    "\n",
    "    def call(self, inputs):\n",
    "        x = inputs\n",
    "        for layer in self.dense_layers:\n",
    "            x = layer(x)\n",
    "        return x\n",
    "\n",
    "    def get_config(self):\n",
    "        return {\"hidden_units\": self.hidden_units}\n",
    "\n",
    "    @classmethod\n",
    "    def from_config(cls, config):\n",
    "        return cls(**config)\n",
    "\n",
    "\n",
    "model = CustomModel([16, 16, 10])\n",
    "# Build the model by calling it\n",
    "input_arr = tf.random.uniform((1, 5))\n",
    "outputs = model(input_arr)\n",
    "model.save(\"my_model\")\n",
    "\n",
    "# Option 1: Load with the custom_object argument.\n",
    "loaded_1 = keras.models.load_model(\n",
    "    \"my_model\", custom_objects={\"CustomModel\": CustomModel}\n",
    ")\n",
    "\n",
    "# Option 2: Load without the CustomModel class.\n",
    "\n",
    "# Delete the custom-defined model class to ensure that the loader does not have\n",
    "# access to it.\n",
    "del CustomModel\n",
    "\n",
    "loaded_2 = keras.models.load_model(\"my_model\")\n",
    "np.testing.assert_allclose(loaded_1(input_arr), outputs)\n",
    "np.testing.assert_allclose(loaded_2(input_arr), outputs)\n",
    "\n",
    "print(\"Original model:\", model)\n",
    "print(\"Model Loaded with custom objects:\", loaded_1)\n",
    "print(\"Model loaded without the custom object class:\", loaded_2)"
   ]
  },
  {
   "cell_type": "raw",
   "id": "nervous-approach",
   "metadata": {},
   "source": [
    "The first loaded model is loaded using the config and CustomModel class. The second model is loaded by dynamically creating the model class that acts like the original model."
   ]
  },
  {
   "cell_type": "markdown",
   "id": "still-march",
   "metadata": {},
   "source": [
    "### Configuring the SavedModel"
   ]
  },
  {
   "cell_type": "raw",
   "id": "assumed-being",
   "metadata": {},
   "source": [
    "New in TensoFlow 2.4 The argument save_traces has been added to model.save, which allows you to toggle SavedModel function tracing. Functions are saved to allow the Keras to re-load custom objects without the original class definitons, so when save_traces=False, all custom objects must have defined get_config/from_config methods. When loading, the custom objects must be passed to the custom_objects argument. save_traces=False reduces the disk space used by the SavedModel and saving time."
   ]
  },
  {
   "cell_type": "markdown",
   "id": "sound-chuck",
   "metadata": {},
   "source": [
    "### ii. Keras H5 format"
   ]
  },
  {
   "cell_type": "raw",
   "id": "white-royalty",
   "metadata": {},
   "source": [
    "Keras also supports saving a single HDF5 file containing the model's architecture, weights values, and compile() information. It is a light-weight alternative to SavedModel."
   ]
  },
  {
   "cell_type": "code",
   "execution_count": 7,
   "id": "blessed-macedonia",
   "metadata": {},
   "outputs": [
    {
     "name": "stdout",
     "output_type": "stream",
     "text": [
      "4/4 [==============================] - 0s 680us/step - loss: 3.3006\n",
      "4/4 [==============================] - 0s 1ms/step - loss: 2.9274\n"
     ]
    },
    {
     "data": {
      "text/plain": [
       "<tensorflow.python.keras.callbacks.History at 0x19514347520>"
      ]
     },
     "execution_count": 7,
     "metadata": {},
     "output_type": "execute_result"
    }
   ],
   "source": [
    "# Example:\n",
    "\n",
    "model = get_model()\n",
    "\n",
    "# Train the model.\n",
    "test_input = np.random.random((128, 32))\n",
    "test_target = np.random.random((128, 1))\n",
    "model.fit(test_input, test_target)\n",
    "\n",
    "# Calling `save('my_model.h5')` creates a h5 file `my_model.h5`.\n",
    "model.save(\"my_h5_model.h5\")\n",
    "\n",
    "# It can be used to reconstruct the model identically.\n",
    "reconstructed_model = keras.models.load_model(\"my_h5_model.h5\")\n",
    "\n",
    "# Let's check:\n",
    "np.testing.assert_allclose(\n",
    "    model.predict(test_input), reconstructed_model.predict(test_input)\n",
    ")\n",
    "\n",
    "# The reconstructed model is already compiled and has retained the optimizer\n",
    "# state, so training can resume:\n",
    "reconstructed_model.fit(test_input, test_target)"
   ]
  },
  {
   "cell_type": "markdown",
   "id": "contemporary-produce",
   "metadata": {},
   "source": [
    "### Limitations"
   ]
  },
  {
   "cell_type": "raw",
   "id": "operating-soldier",
   "metadata": {},
   "source": [
    "Compared to the SavedModel format, there are two things that don't get included in the H5 file:\n",
    "\n",
    "1. External losses & metrics added via model.add_loss() & model.add_metric() are not saved (unlike SavedModel). If you have such losses & metrics on your model and you want to resume training, you need to add these losses back yourself after loading the model. Note that this does not apply to losses/metrics created inside layers via self.add_loss() & self.add_metric(). As long as the layer gets loaded, these losses & metrics are kept, since they are part of the call method of the layer.\n",
    "\n",
    "2. The computation graph of custom objects such as custom layers is not included in the saved file. At loading time, Keras will need access to the Python classes/functions of these objects in order to reconstruct the model. See Custom objects."
   ]
  },
  {
   "cell_type": "markdown",
   "id": "sought-velvet",
   "metadata": {},
   "source": [
    "## 4. Saving the architecture"
   ]
  },
  {
   "cell_type": "raw",
   "id": "portuguese-tyler",
   "metadata": {},
   "source": [
    "The model's configuration (or architecture) specifies what layers the model contains, and how these layers are connected*. If you have the configuration of a model, then the model can be created with a freshly initialized state for the weights and no compilation information.\n",
    "\n",
    "*Note this only applies to models defined using the functional or Sequential apis not subclassed models."
   ]
  },
  {
   "cell_type": "markdown",
   "id": "technological-version",
   "metadata": {},
   "source": [
    "### i. Configuration of a Sequential model or Functional API model"
   ]
  },
  {
   "cell_type": "raw",
   "id": "diagnostic-characterization",
   "metadata": {},
   "source": [
    "These types of models are explicit graphs of layers: their configuration is always available in a structured form."
   ]
  },
  {
   "cell_type": "raw",
   "id": "above-cloud",
   "metadata": {},
   "source": [
    "APIs\n",
    "- get_config() and from_config()\n",
    "- tf.keras.models.model_to_json() and tf.keras.models.model_from_json()\n",
    "\n",
    "get_config() and from_config()\n",
    "\n",
    "Calling config = model.get_config() will return a Python dict containing the configuration of the model. The same model can then be reconstructed via Sequential.from_config(config) (for a Sequential model) or Model.from_config(config) (for a Functional API model).\n",
    "\n",
    "The same workflow also works for any serializable layer."
   ]
  },
  {
   "cell_type": "code",
   "execution_count": 8,
   "id": "limited-optimum",
   "metadata": {},
   "outputs": [],
   "source": [
    "# Layer example:\n",
    "\n",
    "layer = keras.layers.Dense(3, activation=\"relu\")\n",
    "layer_config = layer.get_config()\n",
    "new_layer = keras.layers.Dense.from_config(layer_config)"
   ]
  },
  {
   "cell_type": "code",
   "execution_count": 9,
   "id": "second-carpet",
   "metadata": {},
   "outputs": [],
   "source": [
    "# Sequential model example:\n",
    "\n",
    "model = keras.Sequential([keras.Input((32,)), keras.layers.Dense(1)])\n",
    "config = model.get_config()\n",
    "new_model = keras.Sequential.from_config(config)"
   ]
  },
  {
   "cell_type": "code",
   "execution_count": 10,
   "id": "hollow-telescope",
   "metadata": {},
   "outputs": [],
   "source": [
    "# Functional model example:\n",
    "\n",
    "inputs = keras.Input((32,))\n",
    "outputs = keras.layers.Dense(1)(inputs)\n",
    "model = keras.Model(inputs, outputs)\n",
    "config = model.get_config()\n",
    "new_model = keras.Model.from_config(config)"
   ]
  },
  {
   "cell_type": "raw",
   "id": "nearby-bowling",
   "metadata": {},
   "source": [
    "to_json() and tf.keras.models.model_from_json()\n",
    "\n",
    "This is similar to get_config / from_config, except it turns the model into a JSON string, which can then be loaded without the original model class. It is also specific to models, it isn't meant for layers."
   ]
  },
  {
   "cell_type": "code",
   "execution_count": 11,
   "id": "confused-bride",
   "metadata": {},
   "outputs": [],
   "source": [
    "# Example:\n",
    "\n",
    "model = keras.Sequential([keras.Input((32,)), keras.layers.Dense(1)])\n",
    "json_config = model.to_json()\n",
    "new_model = keras.models.model_from_json(json_config)"
   ]
  },
  {
   "cell_type": "markdown",
   "id": "overhead-gnome",
   "metadata": {},
   "source": [
    "### ii. Custom objects"
   ]
  },
  {
   "cell_type": "markdown",
   "id": "infrared-calendar",
   "metadata": {},
   "source": [
    "### Models and layers"
   ]
  },
  {
   "cell_type": "raw",
   "id": "explicit-cancer",
   "metadata": {},
   "source": [
    "The architecture of subclassed models and layers are defined in the methods __init__ and call. They are considered Python bytecode, which cannot be serialized into a JSON-compatible config -- you could try serializing the bytecode (e.g. via pickle), but it's completely unsafe and means your model cannot be loaded on a different system.\n",
    "\n",
    "In order to save/load a model with custom-defined layers, or a subclassed model, you should overwrite the get_config and optionally from_config methods. Additionally, you should use register the custom object so that Keras is aware of it."
   ]
  },
  {
   "cell_type": "markdown",
   "id": "confirmed-thanksgiving",
   "metadata": {},
   "source": [
    "### Custom functions"
   ]
  },
  {
   "cell_type": "raw",
   "id": "hairy-philip",
   "metadata": {},
   "source": [
    "Custom-defined functions (e.g. activation loss or initialization) do not need a get_config method. The function name is sufficient for loading as long as it is registered as a custom object."
   ]
  },
  {
   "cell_type": "markdown",
   "id": "accredited-petite",
   "metadata": {},
   "source": [
    "### Loading the TensorFlow graph only"
   ]
  },
  {
   "cell_type": "raw",
   "id": "vocational-elder",
   "metadata": {},
   "source": [
    "It's possible to load the TensorFlow graph generated by the Keras. If you do so, you won't need to provide any custom_objects. You can do so like this:"
   ]
  },
  {
   "cell_type": "code",
   "execution_count": 12,
   "id": "million-custom",
   "metadata": {},
   "outputs": [
    {
     "name": "stdout",
     "output_type": "stream",
     "text": [
      "INFO:tensorflow:Assets written to: my_model\\assets\n"
     ]
    }
   ],
   "source": [
    "model.save(\"my_model\")\n",
    "tensorflow_graph = tf.saved_model.load(\"my_model\")\n",
    "x = np.random.uniform(size=(4, 32)).astype(np.float32)\n",
    "predicted = tensorflow_graph(x).numpy()"
   ]
  },
  {
   "cell_type": "raw",
   "id": "previous-sheep",
   "metadata": {},
   "source": [
    "Note that this method has several drawbacks:\n",
    "\n",
    "1. For traceability reasons, you should always have access to the custom objects that were used. You wouldn't want to put in production a model that you cannot re-create.\n",
    "\n",
    "2. The object returned by tf.saved_model.load isn't a Keras model. So it's not as easy to use. For example, you won't have access to .predict() or .fit()"
   ]
  },
  {
   "cell_type": "raw",
   "id": "angry-employer",
   "metadata": {},
   "source": [
    "Even if its use is discouraged, it can help you if you're in a tight spot, for example, if you lost the code of your custom objects or have issues loading the model with tf.keras.models.load_model().\n",
    "\n",
    "You can find out more in the page about tf.saved_model.load"
   ]
  },
  {
   "cell_type": "markdown",
   "id": "prepared-pride",
   "metadata": {},
   "source": [
    "### Defining the config methods"
   ]
  },
  {
   "cell_type": "raw",
   "id": "married-singing",
   "metadata": {},
   "source": [
    "Specifications:\n",
    "\n",
    "- get_config should return a JSON-serializable dictionary in order to be compatible with the Keras architecture- and model-saving APIs.\n",
    "\n",
    "- from_config(config) (classmethod) should return a new layer or model object that is created from the config. The default implementation returns cls(**config)."
   ]
  },
  {
   "cell_type": "code",
   "execution_count": 13,
   "id": "dirty-hamilton",
   "metadata": {},
   "outputs": [],
   "source": [
    "# Example:\n",
    "\n",
    "class CustomLayer(keras.layers.Layer):\n",
    "    def __init__(self, a):\n",
    "        self.var = tf.Variable(a, name=\"var_a\")\n",
    "\n",
    "    def call(self, inputs, training=False):\n",
    "        if training:\n",
    "            return inputs * self.var\n",
    "        else:\n",
    "            return inputs\n",
    "\n",
    "    def get_config(self):\n",
    "        return {\"a\": self.var.numpy()}\n",
    "\n",
    "    # There's actually no need to define `from_config` here, since returning\n",
    "    # `cls(**config)` is the default behavior.\n",
    "    @classmethod\n",
    "    def from_config(cls, config):\n",
    "        return cls(**config)\n",
    "\n",
    "\n",
    "layer = CustomLayer(5)\n",
    "layer.var.assign(2)\n",
    "\n",
    "serialized_layer = keras.layers.serialize(layer)\n",
    "new_layer = keras.layers.deserialize(\n",
    "    serialized_layer, custom_objects={\"CustomLayer\": CustomLayer}\n",
    ")"
   ]
  },
  {
   "cell_type": "markdown",
   "id": "original-gravity",
   "metadata": {},
   "source": [
    "### Registering the custom object"
   ]
  },
  {
   "cell_type": "raw",
   "id": "third-inquiry",
   "metadata": {},
   "source": [
    "Keras keeps a note of which class generated the config. From the example above, tf.keras.layers.serialize generates a serialized form of the custom layer:"
   ]
  },
  {
   "cell_type": "code",
   "execution_count": 14,
   "id": "logical-tunnel",
   "metadata": {},
   "outputs": [
    {
     "data": {
      "text/plain": [
       "{'class_name': 'CustomLayer', 'config': {'a': 2}}"
      ]
     },
     "execution_count": 14,
     "metadata": {},
     "output_type": "execute_result"
    }
   ],
   "source": [
    "{'class_name': 'CustomLayer', 'config': {'a': 2} }"
   ]
  },
  {
   "cell_type": "raw",
   "id": "primary-present",
   "metadata": {},
   "source": [
    "Keras keeps a master list of all built-in layer, model, optimizer, and metric classes, which is used to find the correct class to call from_config. If the class can't be found, then an error is raised (Value Error: Unknown layer). There are a few ways to register custom classes to this list:\n",
    "\n",
    "1. Setting custom_objects argument in the loading function. (see the example in section above \"Defining the config methods\")\n",
    "2. tf.keras.utils.custom_object_scope or tf.keras.utils.CustomObjectScope\n",
    "3. tf.keras.utils.register_keras_serializable"
   ]
  },
  {
   "cell_type": "markdown",
   "id": "sporting-reggae",
   "metadata": {},
   "source": [
    "### Custom layer and function example"
   ]
  },
  {
   "cell_type": "code",
   "execution_count": 15,
   "id": "visible-cassette",
   "metadata": {},
   "outputs": [],
   "source": [
    "class CustomLayer(keras.layers.Layer):\n",
    "    def __init__(self, units=32, **kwargs):\n",
    "        super(CustomLayer, self).__init__(**kwargs)\n",
    "        self.units = units\n",
    "\n",
    "    def build(self, input_shape):\n",
    "        self.w = self.add_weight(\n",
    "            shape=(input_shape[-1], self.units),\n",
    "            initializer=\"random_normal\",\n",
    "            trainable=True,\n",
    "        )\n",
    "        self.b = self.add_weight(\n",
    "            shape=(self.units,), initializer=\"random_normal\", trainable=True\n",
    "        )\n",
    "\n",
    "    def call(self, inputs):\n",
    "        return tf.matmul(inputs, self.w) + self.b\n",
    "\n",
    "    def get_config(self):\n",
    "        config = super(CustomLayer, self).get_config()\n",
    "        config.update({\"units\": self.units})\n",
    "        return config\n",
    "\n",
    "\n",
    "def custom_activation(x):\n",
    "    return tf.nn.tanh(x) ** 2\n",
    "\n",
    "\n",
    "# Make a model with the CustomLayer and custom_activation\n",
    "inputs = keras.Input((32,))\n",
    "x = CustomLayer(32)(inputs)\n",
    "outputs = keras.layers.Activation(custom_activation)(x)\n",
    "model = keras.Model(inputs, outputs)\n",
    "\n",
    "# Retrieve the config\n",
    "config = model.get_config()\n",
    "\n",
    "# At loading time, register the custom objects with a `custom_object_scope`:\n",
    "custom_objects = {\"CustomLayer\": CustomLayer, \"custom_activation\": custom_activation}\n",
    "with keras.utils.custom_object_scope(custom_objects):\n",
    "    new_model = keras.Model.from_config(config)"
   ]
  },
  {
   "cell_type": "markdown",
   "id": "simple-tractor",
   "metadata": {},
   "source": [
    "### iii. In-memory model cloning"
   ]
  },
  {
   "cell_type": "raw",
   "id": "metallic-assault",
   "metadata": {},
   "source": [
    "You can also do in-memory cloning of a model via tf.keras.models.clone_model(). This is equivalent to getting the config then recreating the model from its config (so it does not preserve compilation information or layer weights values)."
   ]
  },
  {
   "cell_type": "code",
   "execution_count": 16,
   "id": "welcome-livestock",
   "metadata": {},
   "outputs": [],
   "source": [
    "# Example:\n",
    "\n",
    "with keras.utils.custom_object_scope(custom_objects):\n",
    "    new_model = keras.models.clone_model(model)"
   ]
  },
  {
   "cell_type": "markdown",
   "id": "exterior-lebanon",
   "metadata": {},
   "source": [
    "## 5. Saving & loading only the model's weights values"
   ]
  },
  {
   "cell_type": "raw",
   "id": "internal-thanks",
   "metadata": {},
   "source": [
    "You can choose to only save & load a model's weights. This can be useful if:\n",
    "\n",
    "- You only need the model for inference: in this case you won't need to restart training, so you don't need the compilation information or optimizer state.\n",
    "\n",
    "- You are doing transfer learning: in this case you will be training a new model reusing the state of a prior model, so you don't need the compilation information of the prior model."
   ]
  },
  {
   "cell_type": "markdown",
   "id": "international-process",
   "metadata": {},
   "source": [
    "### i. APIs for in-memory weight transfer"
   ]
  },
  {
   "cell_type": "raw",
   "id": "reasonable-assignment",
   "metadata": {},
   "source": [
    "Weights can be copied between different objects by using get_weights and set_weights:\n",
    "\n",
    "- tf.keras.layers.Layer.get_weights(): Returns a list of numpy arrays.\n",
    "- tf.keras.layers.Layer.set_weights(): Sets the model weights to the values in the weights argument.\n",
    "\n",
    "\n",
    "Examples below."
   ]
  },
  {
   "cell_type": "markdown",
   "id": "phantom-pollution",
   "metadata": {},
   "source": [
    "### Transfering weights from one layer to another, in memory"
   ]
  },
  {
   "cell_type": "code",
   "execution_count": 17,
   "id": "provincial-portland",
   "metadata": {},
   "outputs": [],
   "source": [
    "def create_layer():\n",
    "    layer = keras.layers.Dense(64, activation=\"relu\", name=\"dense_2\")\n",
    "    layer.build((None, 784))\n",
    "    return layer\n",
    "\n",
    "\n",
    "layer_1 = create_layer()\n",
    "layer_2 = create_layer()\n",
    "\n",
    "# Copy weights from layer 1 to layer 2\n",
    "layer_2.set_weights(layer_1.get_weights())"
   ]
  },
  {
   "cell_type": "markdown",
   "id": "searching-system",
   "metadata": {},
   "source": [
    "### Transfering weights from one model to another model with a compatible architecture, in memory"
   ]
  },
  {
   "cell_type": "code",
   "execution_count": 18,
   "id": "grand-auckland",
   "metadata": {},
   "outputs": [],
   "source": [
    "# Create a simple functional model\n",
    "inputs = keras.Input(shape=(784,), name=\"digits\")\n",
    "x = keras.layers.Dense(64, activation=\"relu\", name=\"dense_1\")(inputs)\n",
    "x = keras.layers.Dense(64, activation=\"relu\", name=\"dense_2\")(x)\n",
    "outputs = keras.layers.Dense(10, name=\"predictions\")(x)\n",
    "functional_model = keras.Model(inputs=inputs, outputs=outputs, name=\"3_layer_mlp\")\n",
    "\n",
    "# Define a subclassed model with the same architecture\n",
    "class SubclassedModel(keras.Model):\n",
    "    def __init__(self, output_dim, name=None):\n",
    "        super(SubclassedModel, self).__init__(name=name)\n",
    "        self.output_dim = output_dim\n",
    "        self.dense_1 = keras.layers.Dense(64, activation=\"relu\", name=\"dense_1\")\n",
    "        self.dense_2 = keras.layers.Dense(64, activation=\"relu\", name=\"dense_2\")\n",
    "        self.dense_3 = keras.layers.Dense(output_dim, name=\"predictions\")\n",
    "\n",
    "    def call(self, inputs):\n",
    "        x = self.dense_1(inputs)\n",
    "        x = self.dense_2(x)\n",
    "        x = self.dense_3(x)\n",
    "        return x\n",
    "\n",
    "    def get_config(self):\n",
    "        return {\"output_dim\": self.output_dim, \"name\": self.name}\n",
    "\n",
    "\n",
    "subclassed_model = SubclassedModel(10)\n",
    "# Call the subclassed model once to create the weights.\n",
    "subclassed_model(tf.ones((1, 784)))\n",
    "\n",
    "# Copy weights from functional_model to subclassed_model.\n",
    "subclassed_model.set_weights(functional_model.get_weights())\n",
    "\n",
    "assert len(functional_model.weights) == len(subclassed_model.weights)\n",
    "for a, b in zip(functional_model.weights, subclassed_model.weights):\n",
    "    np.testing.assert_allclose(a.numpy(), b.numpy())"
   ]
  },
  {
   "cell_type": "markdown",
   "id": "different-plaza",
   "metadata": {},
   "source": [
    "### The case of stateless layers"
   ]
  },
  {
   "cell_type": "raw",
   "id": "sustained-courage",
   "metadata": {},
   "source": [
    "Because stateless layers do not change the order or number of weights, models can have compatible architectures even if there are extra/missing stateless layers."
   ]
  },
  {
   "cell_type": "code",
   "execution_count": 19,
   "id": "interim-sector",
   "metadata": {},
   "outputs": [],
   "source": [
    "inputs = keras.Input(shape=(784,), name=\"digits\")\n",
    "x = keras.layers.Dense(64, activation=\"relu\", name=\"dense_1\")(inputs)\n",
    "x = keras.layers.Dense(64, activation=\"relu\", name=\"dense_2\")(x)\n",
    "outputs = keras.layers.Dense(10, name=\"predictions\")(x)\n",
    "functional_model = keras.Model(inputs=inputs, outputs=outputs, name=\"3_layer_mlp\")\n",
    "\n",
    "inputs = keras.Input(shape=(784,), name=\"digits\")\n",
    "x = keras.layers.Dense(64, activation=\"relu\", name=\"dense_1\")(inputs)\n",
    "x = keras.layers.Dense(64, activation=\"relu\", name=\"dense_2\")(x)\n",
    "\n",
    "# Add a dropout layer, which does not contain any weights.\n",
    "x = keras.layers.Dropout(0.5)(x)\n",
    "outputs = keras.layers.Dense(10, name=\"predictions\")(x)\n",
    "functional_model_with_dropout = keras.Model(\n",
    "    inputs=inputs, outputs=outputs, name=\"3_layer_mlp\"\n",
    ")\n",
    "\n",
    "functional_model_with_dropout.set_weights(functional_model.get_weights())"
   ]
  },
  {
   "cell_type": "markdown",
   "id": "cosmetic-ferry",
   "metadata": {},
   "source": [
    "### ii. APIs for saving weights to disk & loading them back"
   ]
  },
  {
   "cell_type": "raw",
   "id": "comparable-tribute",
   "metadata": {},
   "source": [
    "Weights can be saved to disk by calling model.save_weights in the following formats:\n",
    "\n",
    "- TensorFlow Checkpoint\n",
    "- HDF5\n",
    "\n",
    "\n",
    "The default format for model.save_weights is TensorFlow checkpoint. There are two ways to specify the save format:\n",
    "\n",
    "- save_format argument: Set the value to save_format=\"tf\" or save_format=\"h5\".\n",
    "- path argument: If the path ends with .h5 or .hdf5, then the HDF5 format is used. Other suffixes will result in a TensorFlow checkpoint unless save_format is set.\n",
    "\n",
    "\n",
    "There is also an option of retrieving weights as in-memory numpy arrays. Each API has its pros and cons which are detailed below."
   ]
  },
  {
   "cell_type": "markdown",
   "id": "phantom-frost",
   "metadata": {},
   "source": [
    "### iii. TF Checkpoint format"
   ]
  },
  {
   "cell_type": "code",
   "execution_count": 20,
   "id": "secret-madonna",
   "metadata": {},
   "outputs": [
    {
     "data": {
      "text/plain": [
       "<tensorflow.python.training.tracking.util.CheckpointLoadStatus at 0x1951d87d970>"
      ]
     },
     "execution_count": 20,
     "metadata": {},
     "output_type": "execute_result"
    }
   ],
   "source": [
    "# Example:\n",
    "\n",
    "# Runnable example\n",
    "sequential_model = keras.Sequential(\n",
    "    [\n",
    "        keras.Input(shape=(784,), name=\"digits\"),\n",
    "        keras.layers.Dense(64, activation=\"relu\", name=\"dense_1\"),\n",
    "        keras.layers.Dense(64, activation=\"relu\", name=\"dense_2\"),\n",
    "        keras.layers.Dense(10, name=\"predictions\"),\n",
    "    ]\n",
    ")\n",
    "sequential_model.save_weights(\"ckpt\")\n",
    "load_status = sequential_model.load_weights(\"ckpt\")\n",
    "\n",
    "# `assert_consumed` can be used as validation that all variable values have been\n",
    "# restored from the checkpoint. See `tf.train.Checkpoint.restore` for other\n",
    "# methods in the Status object.\n",
    "load_status.assert_consumed()"
   ]
  },
  {
   "cell_type": "markdown",
   "id": "classical-candy",
   "metadata": {},
   "source": [
    "### Format details"
   ]
  },
  {
   "cell_type": "raw",
   "id": "labeled-worship",
   "metadata": {},
   "source": [
    "The TensorFlow Checkpoint format saves and restores the weights using object attribute names. For instance, consider the tf.keras.layers.Dense layer. The layer contains two weights: dense.kernel and dense.bias. When the layer is saved to the tf format, the resulting checkpoint contains the keys \"kernel\" and \"bias\" and their corresponding weight values. For more information see \"Loading mechanics\" in the TF Checkpoint guide.\n",
    "\n",
    "Note that attribute/graph edge is named after the name used in parent object, not the name of the variable. Consider the CustomLayer in the example below. The variable CustomLayer.var is saved with \"var\" as part of key, not \"var_a\"."
   ]
  },
  {
   "cell_type": "code",
   "execution_count": 21,
   "id": "blank-government",
   "metadata": {},
   "outputs": [
    {
     "data": {
      "text/plain": [
       "{'_CHECKPOINTABLE_OBJECT_GRAPH': tf.string,\n",
       " 'layer/var/.ATTRIBUTES/VARIABLE_VALUE': tf.int32,\n",
       " 'save_counter/.ATTRIBUTES/VARIABLE_VALUE': tf.int64}"
      ]
     },
     "execution_count": 21,
     "metadata": {},
     "output_type": "execute_result"
    }
   ],
   "source": [
    "class CustomLayer(keras.layers.Layer):\n",
    "    def __init__(self, a):\n",
    "        self.var = tf.Variable(a, name=\"var_a\")\n",
    "\n",
    "\n",
    "layer = CustomLayer(5)\n",
    "layer_ckpt = tf.train.Checkpoint(layer=layer).save(\"custom_layer\")\n",
    "\n",
    "ckpt_reader = tf.train.load_checkpoint(layer_ckpt)\n",
    "\n",
    "ckpt_reader.get_variable_to_dtype_map()"
   ]
  },
  {
   "cell_type": "markdown",
   "id": "alternative-kingston",
   "metadata": {},
   "source": [
    "### Transfer learning example"
   ]
  },
  {
   "cell_type": "raw",
   "id": "favorite-support",
   "metadata": {},
   "source": [
    "Essentially, as long as two models have the same architecture, they are able to share the same checkpoint."
   ]
  },
  {
   "cell_type": "code",
   "execution_count": 22,
   "id": "express-beast",
   "metadata": {},
   "outputs": [
    {
     "name": "stdout",
     "output_type": "stream",
     "text": [
      "Model: \"pretrained_model\"\n",
      "_________________________________________________________________\n",
      "Layer (type)                 Output Shape              Param #   \n",
      "=================================================================\n",
      "digits (InputLayer)          [(None, 784)]             0         \n",
      "_________________________________________________________________\n",
      "dense_1 (Dense)              (None, 64)                50240     \n",
      "_________________________________________________________________\n",
      "dense_2 (Dense)              (None, 64)                4160      \n",
      "=================================================================\n",
      "Total params: 54,400\n",
      "Trainable params: 54,400\n",
      "Non-trainable params: 0\n",
      "_________________________________________________________________\n",
      "\n",
      " --------------------------------------------------\n",
      "Model: \"new_model\"\n",
      "_________________________________________________________________\n",
      "Layer (type)                 Output Shape              Param #   \n",
      "=================================================================\n",
      "digits (InputLayer)          [(None, 784)]             0         \n",
      "_________________________________________________________________\n",
      "dense_1 (Dense)              (None, 64)                50240     \n",
      "_________________________________________________________________\n",
      "dense_2 (Dense)              (None, 64)                4160      \n",
      "_________________________________________________________________\n",
      "predictions (Dense)          (None, 5)                 325       \n",
      "=================================================================\n",
      "Total params: 54,725\n",
      "Trainable params: 54,725\n",
      "Non-trainable params: 0\n",
      "_________________________________________________________________\n",
      "Model: \"sequential_3\"\n",
      "_________________________________________________________________\n",
      "Layer (type)                 Output Shape              Param #   \n",
      "=================================================================\n",
      "pretrained (Functional)      (None, 64)                54400     \n",
      "_________________________________________________________________\n",
      "predictions (Dense)          (None, 5)                 325       \n",
      "=================================================================\n",
      "Total params: 54,725\n",
      "Trainable params: 54,725\n",
      "Non-trainable params: 0\n",
      "_________________________________________________________________\n"
     ]
    },
    {
     "data": {
      "text/plain": [
       "<tensorflow.python.training.tracking.util.CheckpointLoadStatus at 0x195193a4a90>"
      ]
     },
     "execution_count": 22,
     "metadata": {},
     "output_type": "execute_result"
    }
   ],
   "source": [
    "# Example:\n",
    "\n",
    "\n",
    "inputs = keras.Input(shape=(784,), name=\"digits\")\n",
    "x = keras.layers.Dense(64, activation=\"relu\", name=\"dense_1\")(inputs)\n",
    "x = keras.layers.Dense(64, activation=\"relu\", name=\"dense_2\")(x)\n",
    "outputs = keras.layers.Dense(10, name=\"predictions\")(x)\n",
    "functional_model = keras.Model(inputs=inputs, outputs=outputs, name=\"3_layer_mlp\")\n",
    "\n",
    "# Extract a portion of the functional model defined in the Setup section.\n",
    "# The following lines produce a new model that excludes the final output\n",
    "# layer of the functional model.\n",
    "pretrained = keras.Model(\n",
    "    functional_model.inputs, functional_model.layers[-1].input, name=\"pretrained_model\"\n",
    ")\n",
    "# Randomly assign \"trained\" weights.\n",
    "for w in pretrained.weights:\n",
    "    w.assign(tf.random.normal(w.shape))\n",
    "pretrained.save_weights(\"pretrained_ckpt\")\n",
    "pretrained.summary()\n",
    "\n",
    "# Assume this is a separate program where only 'pretrained_ckpt' exists.\n",
    "# Create a new functional model with a different output dimension.\n",
    "inputs = keras.Input(shape=(784,), name=\"digits\")\n",
    "x = keras.layers.Dense(64, activation=\"relu\", name=\"dense_1\")(inputs)\n",
    "x = keras.layers.Dense(64, activation=\"relu\", name=\"dense_2\")(x)\n",
    "outputs = keras.layers.Dense(5, name=\"predictions\")(x)\n",
    "model = keras.Model(inputs=inputs, outputs=outputs, name=\"new_model\")\n",
    "\n",
    "# Load the weights from pretrained_ckpt into model.\n",
    "model.load_weights(\"pretrained_ckpt\")\n",
    "\n",
    "# Check that all of the pretrained weights have been loaded.\n",
    "for a, b in zip(pretrained.weights, model.weights):\n",
    "    np.testing.assert_allclose(a.numpy(), b.numpy())\n",
    "\n",
    "print(\"\\n\", \"-\" * 50)\n",
    "model.summary()\n",
    "\n",
    "# Example 2: Sequential model\n",
    "# Recreate the pretrained model, and load the saved weights.\n",
    "inputs = keras.Input(shape=(784,), name=\"digits\")\n",
    "x = keras.layers.Dense(64, activation=\"relu\", name=\"dense_1\")(inputs)\n",
    "x = keras.layers.Dense(64, activation=\"relu\", name=\"dense_2\")(x)\n",
    "pretrained_model = keras.Model(inputs=inputs, outputs=x, name=\"pretrained\")\n",
    "\n",
    "# Sequential example:\n",
    "model = keras.Sequential([pretrained_model, keras.layers.Dense(5, name=\"predictions\")])\n",
    "model.summary()\n",
    "\n",
    "pretrained_model.load_weights(\"pretrained_ckpt\")\n",
    "\n",
    "# Warning! Calling `model.load_weights('pretrained_ckpt')` won't throw an error,\n",
    "# but will *not* work as expected. If you inspect the weights, you'll see that\n",
    "# none of the weights will have loaded. `pretrained_model.load_weights()` is the\n",
    "# correct method to call."
   ]
  },
  {
   "cell_type": "raw",
   "id": "representative-privacy",
   "metadata": {},
   "source": [
    "It is generally recommended to stick to the same API for building models. If you switch between Sequential and Functional, or Functional and subclassed, etc., then always rebuild the pre-trained model and load the pre-trained weights to that model."
   ]
  },
  {
   "cell_type": "raw",
   "id": "veterinary-charger",
   "metadata": {},
   "source": [
    "The next question is, how can weights be saved and loaded to different models if the model architectures are quite different? The solution is to use tf.train.Checkpoint to save and restore the exact layers/variables."
   ]
  },
  {
   "cell_type": "code",
   "execution_count": 25,
   "id": "advisory-scott",
   "metadata": {},
   "outputs": [
    {
     "data": {
      "text/plain": [
       "<tensorflow.python.training.tracking.util.CheckpointLoadStatus at 0x19508d9d9d0>"
      ]
     },
     "execution_count": 25,
     "metadata": {},
     "output_type": "execute_result"
    }
   ],
   "source": [
    "# Example:\n",
    "\n",
    "# Create a subclassed model that essentially uses functional_model's first\n",
    "# and last layers.\n",
    "# First, save the weights of functional_model's first and last dense layers.\n",
    "first_dense = functional_model.layers[1]\n",
    "last_dense = functional_model.layers[-1]\n",
    "ckpt_path = tf.train.Checkpoint(\n",
    "    dense=first_dense, kernel=last_dense.kernel, bias=last_dense.bias\n",
    ").save(\"ckpt\")\n",
    "\n",
    "# Define the subclassed model.\n",
    "class ContrivedModel(keras.Model):\n",
    "    def __init__(self):\n",
    "        super(ContrivedModel, self).__init__()\n",
    "        self.first_dense = keras.layers.Dense(64)\n",
    "        # self.kernel = self.add_variable(\"kernel\", shape=(64, 10))\n",
    "        # self.bias = self.add_variable(\"bias\", shape=(10,))\n",
    "        self.kernel = self.add_weight(\"kernel\", shape=(64, 10))\n",
    "        self.bias = self.add_weight(\"bias\", shape=(10,))\n",
    "\n",
    "    def call(self, inputs):\n",
    "        x = self.first_dense(inputs)\n",
    "        return tf.matmul(x, self.kernel) + self.bias\n",
    "\n",
    "\n",
    "model = ContrivedModel()\n",
    "# Call model on inputs to create the variables of the dense layer.\n",
    "_ = model(tf.ones((1, 784)))\n",
    "\n",
    "# Create a Checkpoint with the same structure as before, and load the weights.\n",
    "tf.train.Checkpoint(\n",
    "    dense=model.first_dense, kernel=model.kernel, bias=model.bias\n",
    ").restore(ckpt_path).assert_consumed()"
   ]
  },
  {
   "cell_type": "markdown",
   "id": "impressive-arrival",
   "metadata": {},
   "source": [
    "### iv. HDF5 format"
   ]
  },
  {
   "cell_type": "raw",
   "id": "fatty-shannon",
   "metadata": {},
   "source": [
    "The HDF5 format contains weights grouped by layer names. The weights are lists ordered by concatenating the list of trainable weights to the list of non-trainable weights (same as layer.weights). Thus, a model can use a hdf5 checkpoint if it has the same layers and trainable statuses as saved in the checkpoint."
   ]
  },
  {
   "cell_type": "code",
   "execution_count": 27,
   "id": "duplicate-diving",
   "metadata": {},
   "outputs": [],
   "source": [
    "# Example:\n",
    "\n",
    "# Runnable example\n",
    "sequential_model = keras.Sequential(\n",
    "    [\n",
    "        keras.Input(shape=(784,), name=\"digits\"),\n",
    "        keras.layers.Dense(64, activation=\"relu\", name=\"dense_1\"),\n",
    "        keras.layers.Dense(64, activation=\"relu\", name=\"dense_2\"),\n",
    "        keras.layers.Dense(10, name=\"predictions\"),\n",
    "    ]\n",
    ")\n",
    "sequential_model.save_weights(\"weights.h5\")\n",
    "sequential_model.load_weights(\"weights.h5\")"
   ]
  },
  {
   "cell_type": "raw",
   "id": "square-seventh",
   "metadata": {},
   "source": [
    "Note that changing layer.trainable may result in a different layer.weights ordering when the model contains nested layers."
   ]
  },
  {
   "cell_type": "code",
   "execution_count": 28,
   "id": "completed-drinking",
   "metadata": {},
   "outputs": [
    {
     "name": "stdout",
     "output_type": "stream",
     "text": [
      "variables: ['nested/dense_1/kernel:0', 'nested/dense_1/bias:0', 'nested/dense_2/kernel:0', 'nested/dense_2/bias:0']\n",
      "\n",
      "Changing trainable status of one of the nested layers...\n",
      "\n",
      "variables: ['nested/dense_2/kernel:0', 'nested/dense_2/bias:0', 'nested/dense_1/kernel:0', 'nested/dense_1/bias:0']\n",
      "variable ordering changed: True\n"
     ]
    }
   ],
   "source": [
    "class NestedDenseLayer(keras.layers.Layer):\n",
    "    def __init__(self, units, name=None):\n",
    "        super(NestedDenseLayer, self).__init__(name=name)\n",
    "        self.dense_1 = keras.layers.Dense(units, name=\"dense_1\")\n",
    "        self.dense_2 = keras.layers.Dense(units, name=\"dense_2\")\n",
    "\n",
    "    def call(self, inputs):\n",
    "        return self.dense_2(self.dense_1(inputs))\n",
    "\n",
    "\n",
    "nested_model = keras.Sequential([keras.Input((784,)), NestedDenseLayer(10, \"nested\")])\n",
    "variable_names = [v.name for v in nested_model.weights]\n",
    "print(\"variables: {}\".format(variable_names))\n",
    "\n",
    "print(\"\\nChanging trainable status of one of the nested layers...\")\n",
    "nested_model.get_layer(\"nested\").dense_1.trainable = False\n",
    "\n",
    "variable_names_2 = [v.name for v in nested_model.weights]\n",
    "print(\"\\nvariables: {}\".format(variable_names_2))\n",
    "print(\"variable ordering changed:\", variable_names != variable_names_2)"
   ]
  },
  {
   "cell_type": "markdown",
   "id": "finnish-tongue",
   "metadata": {},
   "source": [
    "### Transfer learning example"
   ]
  },
  {
   "cell_type": "raw",
   "id": "norwegian-owner",
   "metadata": {},
   "source": [
    "When loading pretrained weights from HDF5, it is recommended to load the weights into the original checkpointed model, and then extract the desired weights/layers into a new model."
   ]
  },
  {
   "cell_type": "code",
   "execution_count": 29,
   "id": "confidential-penguin",
   "metadata": {},
   "outputs": [
    {
     "name": "stdout",
     "output_type": "stream",
     "text": [
      "Model: \"sequential_6\"\n",
      "_________________________________________________________________\n",
      "Layer (type)                 Output Shape              Param #   \n",
      "=================================================================\n",
      "dense_1 (Dense)              (None, 64)                50240     \n",
      "_________________________________________________________________\n",
      "dense_2 (Dense)              (None, 64)                4160      \n",
      "_________________________________________________________________\n",
      "dense_3 (Dense)              (None, 5)                 325       \n",
      "=================================================================\n",
      "Total params: 54,725\n",
      "Trainable params: 54,725\n",
      "Non-trainable params: 0\n",
      "_________________________________________________________________\n"
     ]
    }
   ],
   "source": [
    "# Example:\n",
    "\n",
    "def create_functional_model():\n",
    "    inputs = keras.Input(shape=(784,), name=\"digits\")\n",
    "    x = keras.layers.Dense(64, activation=\"relu\", name=\"dense_1\")(inputs)\n",
    "    x = keras.layers.Dense(64, activation=\"relu\", name=\"dense_2\")(x)\n",
    "    outputs = keras.layers.Dense(10, name=\"predictions\")(x)\n",
    "    return keras.Model(inputs=inputs, outputs=outputs, name=\"3_layer_mlp\")\n",
    "\n",
    "\n",
    "functional_model = create_functional_model()\n",
    "functional_model.save_weights(\"pretrained_weights.h5\")\n",
    "\n",
    "# In a separate program:\n",
    "pretrained_model = create_functional_model()\n",
    "pretrained_model.load_weights(\"pretrained_weights.h5\")\n",
    "\n",
    "# Create a new model by extracting layers from the original model:\n",
    "extracted_layers = pretrained_model.layers[:-1]\n",
    "extracted_layers.append(keras.layers.Dense(5, name=\"dense_3\"))\n",
    "model = keras.Sequential(extracted_layers)\n",
    "model.summary()"
   ]
  },
  {
   "cell_type": "markdown",
   "id": "circular-trinity",
   "metadata": {},
   "source": [
    "# reference\n",
    "\n",
    "### https://tensorflow.google.cn/guide/keras/save_and_serialize"
   ]
  },
  {
   "cell_type": "code",
   "execution_count": null,
   "id": "hybrid-corporation",
   "metadata": {},
   "outputs": [],
   "source": []
  }
 ],
 "metadata": {
  "kernelspec": {
   "display_name": "Python 3",
   "language": "python",
   "name": "python3"
  },
  "language_info": {
   "codemirror_mode": {
    "name": "ipython",
    "version": 3
   },
   "file_extension": ".py",
   "mimetype": "text/x-python",
   "name": "python",
   "nbconvert_exporter": "python",
   "pygments_lexer": "ipython3",
   "version": "3.8.5"
  }
 },
 "nbformat": 4,
 "nbformat_minor": 5
}
