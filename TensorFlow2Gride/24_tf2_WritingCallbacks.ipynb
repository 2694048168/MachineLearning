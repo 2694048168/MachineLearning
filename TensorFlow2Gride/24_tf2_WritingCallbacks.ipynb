{
 "cells": [
  {
   "cell_type": "markdown",
   "id": "solved-pittsburgh",
   "metadata": {},
   "source": [
    "# Writing your own callbacks"
   ]
  },
  {
   "cell_type": "markdown",
   "id": "engaging-payment",
   "metadata": {},
   "source": [
    "## 1. Introduction "
   ]
  },
  {
   "cell_type": "raw",
   "id": "identified-yellow",
   "metadata": {},
   "source": [
    "A callback is a powerful tool to customize the behavior of a Keras model during training, evaluation, or inference. Examples include tf.keras.callbacks.TensorBoard to visualize training progress and results with TensorBoard, or tf.keras.callbacks.ModelCheckpoint to periodically save your model during training.\n",
    "\n",
    "In this guide, you will learn what a Keras callback is, what it can do, and how you can build your own. We provide a few demos of simple callback applications to get you started."
   ]
  },
  {
   "cell_type": "markdown",
   "id": "downtown-possession",
   "metadata": {},
   "source": [
    "## 2. Setup"
   ]
  },
  {
   "cell_type": "code",
   "execution_count": 1,
   "id": "supreme-occasions",
   "metadata": {},
   "outputs": [
    {
     "name": "stdout",
     "output_type": "stream",
     "text": [
      "The version of Tensorflow: 2.4.1\n"
     ]
    }
   ],
   "source": [
    "import tensorflow as tf\n",
    "from tensorflow import keras\n",
    "\n",
    "print(\"The version of Tensorflow: {}\".format(tf.__version__))"
   ]
  },
  {
   "cell_type": "markdown",
   "id": "perfect-pierce",
   "metadata": {},
   "source": [
    "## 3. Keras callbacks overview"
   ]
  },
  {
   "cell_type": "raw",
   "id": "worldwide-texture",
   "metadata": {},
   "source": [
    "All callbacks subclass the keras.callbacks.Callback class, and override a set of methods called at various stages of training, testing, and predicting. Callbacks are useful to get a view on internal states and statistics of the model during training."
   ]
  },
  {
   "cell_type": "raw",
   "id": "proof-lewis",
   "metadata": {},
   "source": [
    "You can pass a list of callbacks (as the keyword argument callbacks) to the following model methods:\n",
    "\n",
    "- keras.Model.fit()\n",
    "- keras.Model.evaluate()\n",
    "- keras.Model.predict()"
   ]
  },
  {
   "cell_type": "markdown",
   "id": "typical-working",
   "metadata": {},
   "source": [
    "## 4. An overview of callback methods"
   ]
  },
  {
   "cell_type": "markdown",
   "id": "cloudy-smooth",
   "metadata": {},
   "source": [
    "### i. Global methods"
   ]
  },
  {
   "cell_type": "raw",
   "id": "equal-poetry",
   "metadata": {},
   "source": [
    "on_(train|test|predict)_begin(self, logs=None)\n",
    "Called at the beginning of fit/evaluate/predict.\n",
    "\n",
    "on_(train|test|predict)_end(self, logs=None)\n",
    "Called at the end of fit/evaluate/predict."
   ]
  },
  {
   "cell_type": "markdown",
   "id": "blond-marriage",
   "metadata": {},
   "source": [
    "### ii. Batch-level methods for training/testing/predicting"
   ]
  },
  {
   "cell_type": "raw",
   "id": "stupid-former",
   "metadata": {},
   "source": [
    "on_(train|test|predict)_batch_begin(self, batch, logs=None)\n",
    "Called right before processing a batch during training/testing/predicting.\n",
    "\n",
    "on_(train|test|predict)_batch_end(self, batch, logs=None)\n",
    "Called at the end of training/testing/predicting a batch. Within this method, logs is a dict containing the metrics results."
   ]
  },
  {
   "cell_type": "markdown",
   "id": "controlled-pontiac",
   "metadata": {},
   "source": [
    "### iii. Epoch-level methods (training only)"
   ]
  },
  {
   "cell_type": "raw",
   "id": "willing-north",
   "metadata": {},
   "source": [
    "on_epoch_begin(self, epoch, logs=None)\n",
    "Called at the beginning of an epoch during training.\n",
    "\n",
    "on_epoch_end(self, epoch, logs=None)\n",
    "Called at the end of an epoch during training."
   ]
  },
  {
   "cell_type": "markdown",
   "id": "independent-recommendation",
   "metadata": {},
   "source": [
    "## 5. A basic example"
   ]
  },
  {
   "cell_type": "code",
   "execution_count": 2,
   "id": "institutional-internet",
   "metadata": {},
   "outputs": [],
   "source": [
    "# Let's take a look at a concrete example. \n",
    "# To get started, let's import tensorflow and define a simple Sequential Keras model:\n",
    "\n",
    "# Define the Keras model to add callbacks to\n",
    "def get_model():\n",
    "    model = keras.Sequential()\n",
    "    model.add(keras.layers.Dense(1, input_dim=784))\n",
    "    model.compile(\n",
    "        optimizer=keras.optimizers.RMSprop(learning_rate=0.1),\n",
    "        loss=\"mean_squared_error\",\n",
    "        metrics=[\"mean_absolute_error\"],\n",
    "    )\n",
    "    return model"
   ]
  },
  {
   "cell_type": "code",
   "execution_count": 3,
   "id": "superior-treasure",
   "metadata": {},
   "outputs": [],
   "source": [
    "# Then, load the MNIST data for training and testing from Keras datasets API:\n",
    "\n",
    "# Load example MNIST data and pre-process it\n",
    "(x_train, y_train), (x_test, y_test) = tf.keras.datasets.mnist.load_data()\n",
    "x_train = x_train.reshape(-1, 784).astype(\"float32\") / 255.0\n",
    "x_test = x_test.reshape(-1, 784).astype(\"float32\") / 255.0\n",
    "\n",
    "# Limit the data to 1000 samples\n",
    "x_train = x_train[:1000]\n",
    "y_train = y_train[:1000]\n",
    "x_test = x_test[:1000]\n",
    "y_test = y_test[:1000]"
   ]
  },
  {
   "cell_type": "raw",
   "id": "absent-sarah",
   "metadata": {},
   "source": [
    "Now, define a simple custom callback that logs:\n",
    "\n",
    "- When fit/evaluate/predict starts & ends\n",
    "- When each epoch starts & ends\n",
    "- When each training batch starts & ends\n",
    "- When each evaluation (test) batch starts & ends\n",
    "- When each inference (prediction) batch starts & ends"
   ]
  },
  {
   "cell_type": "code",
   "execution_count": 4,
   "id": "centered-thriller",
   "metadata": {},
   "outputs": [],
   "source": [
    "class CustomCallback(keras.callbacks.Callback):\n",
    "    def on_train_begin(self, logs=None):\n",
    "        keys = list(logs.keys())\n",
    "        print(\"Starting training; got log keys: {}\".format(keys))\n",
    "\n",
    "    def on_train_end(self, logs=None):\n",
    "        keys = list(logs.keys())\n",
    "        print(\"Stop training; got log keys: {}\".format(keys))\n",
    "\n",
    "    def on_epoch_begin(self, epoch, logs=None):\n",
    "        keys = list(logs.keys())\n",
    "        print(\"Start epoch {} of training; got log keys: {}\".format(epoch, keys))\n",
    "\n",
    "    def on_epoch_end(self, epoch, logs=None):\n",
    "        keys = list(logs.keys())\n",
    "        print(\"End epoch {} of training; got log keys: {}\".format(epoch, keys))\n",
    "\n",
    "    def on_test_begin(self, logs=None):\n",
    "        keys = list(logs.keys())\n",
    "        print(\"Start testing; got log keys: {}\".format(keys))\n",
    "\n",
    "    def on_test_end(self, logs=None):\n",
    "        keys = list(logs.keys())\n",
    "        print(\"Stop testing; got log keys: {}\".format(keys))\n",
    "\n",
    "    def on_predict_begin(self, logs=None):\n",
    "        keys = list(logs.keys())\n",
    "        print(\"Start predicting; got log keys: {}\".format(keys))\n",
    "\n",
    "    def on_predict_end(self, logs=None):\n",
    "        keys = list(logs.keys())\n",
    "        print(\"Stop predicting; got log keys: {}\".format(keys))\n",
    "\n",
    "    def on_train_batch_begin(self, batch, logs=None):\n",
    "        keys = list(logs.keys())\n",
    "        print(\"...Training: start of batch {}; got log keys: {}\".format(batch, keys))\n",
    "\n",
    "    def on_train_batch_end(self, batch, logs=None):\n",
    "        keys = list(logs.keys())\n",
    "        print(\"...Training: end of batch {}; got log keys: {}\".format(batch, keys))\n",
    "\n",
    "    def on_test_batch_begin(self, batch, logs=None):\n",
    "        keys = list(logs.keys())\n",
    "        print(\"...Evaluating: start of batch {}; got log keys: {}\".format(batch, keys))\n",
    "\n",
    "    def on_test_batch_end(self, batch, logs=None):\n",
    "        keys = list(logs.keys())\n",
    "        print(\"...Evaluating: end of batch {}; got log keys: {}\".format(batch, keys))\n",
    "\n",
    "    def on_predict_batch_begin(self, batch, logs=None):\n",
    "        keys = list(logs.keys())\n",
    "        print(\"...Predicting: start of batch {}; got log keys: {}\".format(batch, keys))\n",
    "\n",
    "    def on_predict_batch_end(self, batch, logs=None):\n",
    "        keys = list(logs.keys())\n",
    "        print(\"...Predicting: end of batch {}; got log keys: {}\".format(batch, keys))"
   ]
  },
  {
   "cell_type": "code",
   "execution_count": 5,
   "id": "found-complaint",
   "metadata": {},
   "outputs": [
    {
     "name": "stdout",
     "output_type": "stream",
     "text": [
      "Starting training; got log keys: []\n",
      "Start epoch 0 of training; got log keys: []\n",
      "...Training: start of batch 0; got log keys: []\n",
      "...Training: end of batch 0; got log keys: ['loss', 'mean_absolute_error']\n",
      "...Training: start of batch 1; got log keys: []\n",
      "...Training: end of batch 1; got log keys: ['loss', 'mean_absolute_error']\n",
      "...Training: start of batch 2; got log keys: []\n",
      "...Training: end of batch 2; got log keys: ['loss', 'mean_absolute_error']\n",
      "...Training: start of batch 3; got log keys: []\n",
      "...Training: end of batch 3; got log keys: ['loss', 'mean_absolute_error']\n",
      "Start testing; got log keys: []\n",
      "...Evaluating: start of batch 0; got log keys: []\n",
      "...Evaluating: end of batch 0; got log keys: ['loss', 'mean_absolute_error']\n",
      "...Evaluating: start of batch 1; got log keys: []\n",
      "...Evaluating: end of batch 1; got log keys: ['loss', 'mean_absolute_error']\n",
      "...Evaluating: start of batch 2; got log keys: []\n",
      "...Evaluating: end of batch 2; got log keys: ['loss', 'mean_absolute_error']\n",
      "...Evaluating: start of batch 3; got log keys: []\n",
      "...Evaluating: end of batch 3; got log keys: ['loss', 'mean_absolute_error']\n",
      "Stop testing; got log keys: ['loss', 'mean_absolute_error']\n",
      "End epoch 0 of training; got log keys: ['loss', 'mean_absolute_error', 'val_loss', 'val_mean_absolute_error']\n",
      "Stop training; got log keys: ['loss', 'mean_absolute_error', 'val_loss', 'val_mean_absolute_error']\n",
      "Start testing; got log keys: []\n",
      "...Evaluating: start of batch 0; got log keys: []\n",
      "...Evaluating: end of batch 0; got log keys: ['loss', 'mean_absolute_error']\n",
      "...Evaluating: start of batch 1; got log keys: []\n",
      "...Evaluating: end of batch 1; got log keys: ['loss', 'mean_absolute_error']\n",
      "...Evaluating: start of batch 2; got log keys: []\n",
      "...Evaluating: end of batch 2; got log keys: ['loss', 'mean_absolute_error']\n",
      "...Evaluating: start of batch 3; got log keys: []\n",
      "...Evaluating: end of batch 3; got log keys: ['loss', 'mean_absolute_error']\n",
      "...Evaluating: start of batch 4; got log keys: []\n",
      "...Evaluating: end of batch 4; got log keys: ['loss', 'mean_absolute_error']\n",
      "...Evaluating: start of batch 5; got log keys: []\n",
      "...Evaluating: end of batch 5; got log keys: ['loss', 'mean_absolute_error']\n",
      "...Evaluating: start of batch 6; got log keys: []\n",
      "...Evaluating: end of batch 6; got log keys: ['loss', 'mean_absolute_error']\n",
      "...Evaluating: start of batch 7; got log keys: []\n",
      "...Evaluating: end of batch 7; got log keys: ['loss', 'mean_absolute_error']\n",
      "Stop testing; got log keys: ['loss', 'mean_absolute_error']\n",
      "Start predicting; got log keys: []\n",
      "...Predicting: start of batch 0; got log keys: []\n",
      "...Predicting: end of batch 0; got log keys: ['outputs']\n",
      "...Predicting: start of batch 1; got log keys: []\n",
      "...Predicting: end of batch 1; got log keys: ['outputs']\n",
      "...Predicting: start of batch 2; got log keys: []\n",
      "...Predicting: end of batch 2; got log keys: ['outputs']\n",
      "...Predicting: start of batch 3; got log keys: []\n",
      "...Predicting: end of batch 3; got log keys: ['outputs']\n",
      "...Predicting: start of batch 4; got log keys: []\n",
      "...Predicting: end of batch 4; got log keys: ['outputs']\n",
      "...Predicting: start of batch 5; got log keys: []\n",
      "...Predicting: end of batch 5; got log keys: ['outputs']\n",
      "...Predicting: start of batch 6; got log keys: []\n",
      "...Predicting: end of batch 6; got log keys: ['outputs']\n",
      "...Predicting: start of batch 7; got log keys: []\n",
      "...Predicting: end of batch 7; got log keys: ['outputs']\n",
      "Stop predicting; got log keys: []\n"
     ]
    }
   ],
   "source": [
    "# Let's try it out:\n",
    "\n",
    "model = get_model()\n",
    "model.fit(\n",
    "    x_train,\n",
    "    y_train,\n",
    "    batch_size=128,\n",
    "    epochs=1,\n",
    "    verbose=0,\n",
    "    validation_split=0.5,\n",
    "    callbacks=[CustomCallback()],\n",
    ")\n",
    "\n",
    "res = model.evaluate(\n",
    "    x_test, y_test, batch_size=128, verbose=0, callbacks=[CustomCallback()]\n",
    ")\n",
    "\n",
    "res = model.predict(x_test, batch_size=128, callbacks=[CustomCallback()])"
   ]
  },
  {
   "cell_type": "markdown",
   "id": "outside-preparation",
   "metadata": {},
   "source": [
    "### Usage of logs dict"
   ]
  },
  {
   "cell_type": "raw",
   "id": "computational-discussion",
   "metadata": {},
   "source": [
    "The logs dict contains the loss value, and all the metrics at the end of a batch or epoch. Example includes the loss and mean absolute error."
   ]
  },
  {
   "cell_type": "code",
   "execution_count": 6,
   "id": "lightweight-morris",
   "metadata": {},
   "outputs": [
    {
     "name": "stdout",
     "output_type": "stream",
     "text": [
      "For batch 0, loss is   31.33.\n",
      "For batch 1, loss is  442.26.\n",
      "For batch 2, loss is  303.57.\n",
      "For batch 3, loss is  229.86.\n",
      "For batch 4, loss is  185.47.\n",
      "For batch 5, loss is  155.68.\n",
      "For batch 6, loss is  134.26.\n",
      "For batch 7, loss is  120.97.\n",
      "The average loss for epoch 0 is  120.97 and mean absolute error is    5.99.\n",
      "For batch 0, loss is    6.83.\n",
      "For batch 1, loss is    5.83.\n",
      "For batch 2, loss is    5.48.\n",
      "For batch 3, loss is    5.15.\n",
      "For batch 4, loss is    5.13.\n",
      "For batch 5, loss is    5.06.\n",
      "For batch 6, loss is    4.90.\n",
      "For batch 7, loss is    4.95.\n",
      "The average loss for epoch 1 is    4.95 and mean absolute error is    1.80.\n",
      "For batch 0, loss is    7.39.\n",
      "For batch 1, loss is    7.35.\n",
      "For batch 2, loss is    7.20.\n",
      "For batch 3, loss is    7.10.\n",
      "For batch 4, loss is    7.13.\n",
      "For batch 5, loss is    7.21.\n",
      "For batch 6, loss is    7.17.\n",
      "For batch 7, loss is    7.10.\n"
     ]
    }
   ],
   "source": [
    "class LossAndErrorPrintingCallback(keras.callbacks.Callback):\n",
    "    def on_train_batch_end(self, batch, logs=None):\n",
    "        print(\"For batch {}, loss is {:7.2f}.\".format(batch, logs[\"loss\"]))\n",
    "\n",
    "    def on_test_batch_end(self, batch, logs=None):\n",
    "        print(\"For batch {}, loss is {:7.2f}.\".format(batch, logs[\"loss\"]))\n",
    "\n",
    "    def on_epoch_end(self, epoch, logs=None):\n",
    "        print(\n",
    "            \"The average loss for epoch {} is {:7.2f} \"\n",
    "            \"and mean absolute error is {:7.2f}.\".format(\n",
    "                epoch, logs[\"loss\"], logs[\"mean_absolute_error\"]\n",
    "            )\n",
    "        )\n",
    "\n",
    "\n",
    "model = get_model()\n",
    "model.fit(\n",
    "    x_train,\n",
    "    y_train,\n",
    "    batch_size=128,\n",
    "    epochs=2,\n",
    "    verbose=0,\n",
    "    callbacks=[LossAndErrorPrintingCallback()],\n",
    ")\n",
    "\n",
    "res = model.evaluate(\n",
    "    x_test,\n",
    "    y_test,\n",
    "    batch_size=128,\n",
    "    verbose=0,\n",
    "    callbacks=[LossAndErrorPrintingCallback()],\n",
    ")"
   ]
  },
  {
   "cell_type": "markdown",
   "id": "natural-gibraltar",
   "metadata": {},
   "source": [
    "## 6. Usage of self.model attribute"
   ]
  },
  {
   "cell_type": "raw",
   "id": "korean-fusion",
   "metadata": {},
   "source": [
    "In addition to receiving log information when one of their methods is called, callbacks have access to the model associated with the current round of training/evaluation/inference: self.model"
   ]
  },
  {
   "cell_type": "raw",
   "id": "based-crawford",
   "metadata": {},
   "source": [
    "Here are of few of the things you can do with self.model in a callback:\n",
    "\n",
    "- Set self.model.stop_training = True to immediately interrupt training.\n",
    "- Mutate hyperparameters of the optimizer (available as self.model.optimizer), such as self.model.optimizer.learning_rate.\n",
    "- Save the model at period intervals.\n",
    "- Record the output of model.predict() on a few test samples at the end of each epoch, to use as a sanity check during training.\n",
    "- Extract visualizations of intermediate features at the end of each epoch, to monitor what the model is learning over time.\n",
    "\n",
    "\n",
    "Let's see this in action in a couple of examples."
   ]
  },
  {
   "cell_type": "markdown",
   "id": "outdoor-suite",
   "metadata": {},
   "source": [
    "## 7. Examples of Keras callback applications"
   ]
  },
  {
   "cell_type": "markdown",
   "id": "cognitive-simple",
   "metadata": {},
   "source": [
    "### i. Early stopping at minimum loss"
   ]
  },
  {
   "cell_type": "raw",
   "id": "suffering-reduction",
   "metadata": {},
   "source": [
    "This first example shows the creation of a Callback that stops training when the minimum of loss has been reached, by setting the attribute self.model.stop_training (boolean). Optionally, you can provide an argument patience to specify how many epochs we should wait before stopping after having reached a local minimum."
   ]
  },
  {
   "cell_type": "code",
   "execution_count": 7,
   "id": "serious-closure",
   "metadata": {},
   "outputs": [
    {
     "name": "stdout",
     "output_type": "stream",
     "text": [
      "For batch 0, loss is   37.50.\n",
      "For batch 1, loss is  517.74.\n",
      "For batch 2, loss is  353.30.\n",
      "For batch 3, loss is  267.52.\n",
      "For batch 4, loss is  215.15.\n",
      "The average loss for epoch 0 is  215.15 and mean absolute error is    8.79.\n",
      "For batch 0, loss is    6.17.\n",
      "For batch 1, loss is    5.62.\n",
      "For batch 2, loss is    5.99.\n",
      "For batch 3, loss is    5.99.\n",
      "For batch 4, loss is    5.84.\n",
      "The average loss for epoch 1 is    5.84 and mean absolute error is    2.00.\n",
      "For batch 0, loss is    5.41.\n",
      "For batch 1, loss is    5.47.\n",
      "For batch 2, loss is    4.82.\n",
      "For batch 3, loss is    4.90.\n",
      "For batch 4, loss is    4.85.\n",
      "The average loss for epoch 2 is    4.85 and mean absolute error is    1.75.\n",
      "For batch 0, loss is    5.30.\n",
      "For batch 1, loss is    6.61.\n",
      "For batch 2, loss is    6.30.\n",
      "For batch 3, loss is    6.50.\n",
      "For batch 4, loss is    7.27.\n",
      "The average loss for epoch 3 is    7.27 and mean absolute error is    2.24.\n",
      "Restoring model weights from the end of the best epoch.\n",
      "Epoch 00004: early stopping\n"
     ]
    },
    {
     "data": {
      "text/plain": [
       "<tensorflow.python.keras.callbacks.History at 0x284162ffd90>"
      ]
     },
     "execution_count": 7,
     "metadata": {},
     "output_type": "execute_result"
    }
   ],
   "source": [
    "# tf.keras.callbacks.EarlyStopping provides a more complete and general implementation.\n",
    "\n",
    "import numpy as np\n",
    "\n",
    "\n",
    "class EarlyStoppingAtMinLoss(keras.callbacks.Callback):\n",
    "    \"\"\"Stop training when the loss is at its min, i.e. the loss stops decreasing.\n",
    "\n",
    "  Arguments:\n",
    "      patience: Number of epochs to wait after min has been hit. After this\n",
    "      number of no improvement, training stops.\n",
    "  \"\"\"\n",
    "\n",
    "    def __init__(self, patience=0):\n",
    "        super(EarlyStoppingAtMinLoss, self).__init__()\n",
    "        self.patience = patience\n",
    "        # best_weights to store the weights at which the minimum loss occurs.\n",
    "        self.best_weights = None\n",
    "\n",
    "    def on_train_begin(self, logs=None):\n",
    "        # The number of epoch it has waited when loss is no longer minimum.\n",
    "        self.wait = 0\n",
    "        # The epoch the training stops at.\n",
    "        self.stopped_epoch = 0\n",
    "        # Initialize the best as infinity.\n",
    "        self.best = np.Inf\n",
    "\n",
    "    def on_epoch_end(self, epoch, logs=None):\n",
    "        current = logs.get(\"loss\")\n",
    "        if np.less(current, self.best):\n",
    "            self.best = current\n",
    "            self.wait = 0\n",
    "            # Record the best weights if current results is better (less).\n",
    "            self.best_weights = self.model.get_weights()\n",
    "        else:\n",
    "            self.wait += 1\n",
    "            if self.wait >= self.patience:\n",
    "                self.stopped_epoch = epoch\n",
    "                self.model.stop_training = True\n",
    "                print(\"Restoring model weights from the end of the best epoch.\")\n",
    "                self.model.set_weights(self.best_weights)\n",
    "\n",
    "    def on_train_end(self, logs=None):\n",
    "        if self.stopped_epoch > 0:\n",
    "            print(\"Epoch %05d: early stopping\" % (self.stopped_epoch + 1))\n",
    "\n",
    "\n",
    "model = get_model()\n",
    "model.fit(\n",
    "    x_train,\n",
    "    y_train,\n",
    "    batch_size=64,\n",
    "    steps_per_epoch=5,\n",
    "    epochs=30,\n",
    "    verbose=0,\n",
    "    callbacks=[LossAndErrorPrintingCallback(), EarlyStoppingAtMinLoss()],\n",
    ")"
   ]
  },
  {
   "cell_type": "markdown",
   "id": "intelligent-basement",
   "metadata": {},
   "source": [
    "### ii. Learning rate scheduling"
   ]
  },
  {
   "cell_type": "raw",
   "id": "numeric-paper",
   "metadata": {},
   "source": [
    "In this example, we show how a custom Callback can be used to dynamically change the learning rate of the optimizer during the course of training."
   ]
  },
  {
   "cell_type": "code",
   "execution_count": 8,
   "id": "theoretical-duncan",
   "metadata": {},
   "outputs": [
    {
     "name": "stdout",
     "output_type": "stream",
     "text": [
      "\n",
      "Epoch 00000: Learning rate is 0.1000.\n",
      "For batch 0, loss is   27.13.\n",
      "For batch 1, loss is  446.25.\n",
      "For batch 2, loss is  305.99.\n",
      "For batch 3, loss is  231.97.\n",
      "For batch 4, loss is  187.28.\n",
      "The average loss for epoch 0 is  187.28 and mean absolute error is    8.21.\n",
      "\n",
      "Epoch 00001: Learning rate is 0.1000.\n",
      "For batch 0, loss is    7.70.\n",
      "For batch 1, loss is    7.73.\n",
      "For batch 2, loss is    7.37.\n",
      "For batch 3, loss is    6.87.\n",
      "For batch 4, loss is    6.59.\n",
      "The average loss for epoch 1 is    6.59 and mean absolute error is    2.11.\n",
      "\n",
      "Epoch 00002: Learning rate is 0.1000.\n",
      "For batch 0, loss is    5.35.\n",
      "For batch 1, loss is    4.90.\n",
      "For batch 2, loss is    5.17.\n",
      "For batch 3, loss is    4.60.\n",
      "For batch 4, loss is    4.35.\n",
      "The average loss for epoch 2 is    4.35 and mean absolute error is    1.69.\n",
      "\n",
      "Epoch 00003: Learning rate is 0.0500.\n",
      "For batch 0, loss is    3.83.\n",
      "For batch 1, loss is    4.26.\n",
      "For batch 2, loss is    4.19.\n",
      "For batch 3, loss is    4.34.\n",
      "For batch 4, loss is    4.34.\n",
      "The average loss for epoch 3 is    4.34 and mean absolute error is    1.58.\n",
      "\n",
      "Epoch 00004: Learning rate is 0.0500.\n",
      "For batch 0, loss is    3.64.\n",
      "For batch 1, loss is    4.60.\n",
      "For batch 2, loss is    4.17.\n",
      "For batch 3, loss is    3.95.\n",
      "For batch 4, loss is    3.92.\n",
      "The average loss for epoch 4 is    3.92 and mean absolute error is    1.55.\n",
      "\n",
      "Epoch 00005: Learning rate is 0.0500.\n",
      "For batch 0, loss is    3.69.\n",
      "For batch 1, loss is    4.41.\n",
      "For batch 2, loss is    4.96.\n",
      "For batch 3, loss is    6.67.\n",
      "For batch 4, loss is    9.36.\n",
      "The average loss for epoch 5 is    9.36 and mean absolute error is    2.44.\n",
      "\n",
      "Epoch 00006: Learning rate is 0.0100.\n",
      "For batch 0, loss is   14.77.\n",
      "For batch 1, loss is   12.10.\n",
      "For batch 2, loss is    9.43.\n",
      "For batch 3, loss is    7.70.\n",
      "For batch 4, loss is    6.60.\n",
      "The average loss for epoch 6 is    6.60 and mean absolute error is    2.05.\n",
      "\n",
      "Epoch 00007: Learning rate is 0.0100.\n",
      "For batch 0, loss is    3.05.\n",
      "For batch 1, loss is    3.22.\n",
      "For batch 2, loss is    3.17.\n",
      "For batch 3, loss is    3.39.\n",
      "For batch 4, loss is    3.51.\n",
      "The average loss for epoch 7 is    3.51 and mean absolute error is    1.45.\n",
      "\n",
      "Epoch 00008: Learning rate is 0.0100.\n",
      "For batch 0, loss is    4.35.\n",
      "For batch 1, loss is    3.93.\n",
      "For batch 2, loss is    3.34.\n",
      "For batch 3, loss is    3.45.\n",
      "For batch 4, loss is    3.61.\n",
      "The average loss for epoch 8 is    3.61 and mean absolute error is    1.48.\n",
      "\n",
      "Epoch 00009: Learning rate is 0.0050.\n",
      "For batch 0, loss is    3.49.\n",
      "For batch 1, loss is    3.58.\n",
      "For batch 2, loss is    3.35.\n",
      "For batch 3, loss is    2.95.\n",
      "For batch 4, loss is    3.11.\n",
      "The average loss for epoch 9 is    3.11 and mean absolute error is    1.39.\n",
      "\n",
      "Epoch 00010: Learning rate is 0.0050.\n",
      "For batch 0, loss is    3.82.\n",
      "For batch 1, loss is    4.42.\n",
      "For batch 2, loss is    3.77.\n",
      "For batch 3, loss is    3.79.\n",
      "For batch 4, loss is    3.81.\n",
      "The average loss for epoch 10 is    3.81 and mean absolute error is    1.50.\n",
      "\n",
      "Epoch 00011: Learning rate is 0.0050.\n",
      "For batch 0, loss is    1.78.\n",
      "For batch 1, loss is    2.74.\n",
      "For batch 2, loss is    2.91.\n",
      "For batch 3, loss is    2.69.\n",
      "For batch 4, loss is    2.77.\n",
      "The average loss for epoch 11 is    2.77 and mean absolute error is    1.30.\n",
      "\n",
      "Epoch 00012: Learning rate is 0.0010.\n",
      "For batch 0, loss is    3.48.\n",
      "For batch 1, loss is    3.42.\n",
      "For batch 2, loss is    3.38.\n",
      "For batch 3, loss is    3.51.\n",
      "For batch 4, loss is    3.35.\n",
      "The average loss for epoch 12 is    3.35 and mean absolute error is    1.40.\n",
      "\n",
      "Epoch 00013: Learning rate is 0.0010.\n",
      "For batch 0, loss is    4.06.\n",
      "For batch 1, loss is    3.27.\n",
      "For batch 2, loss is    3.38.\n",
      "For batch 3, loss is    3.42.\n",
      "For batch 4, loss is    3.33.\n",
      "The average loss for epoch 13 is    3.33 and mean absolute error is    1.40.\n",
      "\n",
      "Epoch 00014: Learning rate is 0.0010.\n",
      "For batch 0, loss is    4.07.\n",
      "For batch 1, loss is    3.69.\n",
      "For batch 2, loss is    3.27.\n",
      "For batch 3, loss is    3.12.\n",
      "For batch 4, loss is    3.09.\n",
      "The average loss for epoch 14 is    3.09 and mean absolute error is    1.32.\n"
     ]
    },
    {
     "data": {
      "text/plain": [
       "<tensorflow.python.keras.callbacks.History at 0x28423dc2e80>"
      ]
     },
     "execution_count": 8,
     "metadata": {},
     "output_type": "execute_result"
    }
   ],
   "source": [
    "# See callbacks.LearningRateScheduler for a more general implementations.\n",
    "\n",
    "class CustomLearningRateScheduler(keras.callbacks.Callback):\n",
    "    \"\"\"Learning rate scheduler which sets the learning rate according to schedule.\n",
    "\n",
    "  Arguments:\n",
    "      schedule: a function that takes an epoch index\n",
    "          (integer, indexed from 0) and current learning rate\n",
    "          as inputs and returns a new learning rate as output (float).\n",
    "  \"\"\"\n",
    "\n",
    "    def __init__(self, schedule):\n",
    "        super(CustomLearningRateScheduler, self).__init__()\n",
    "        self.schedule = schedule\n",
    "\n",
    "    def on_epoch_begin(self, epoch, logs=None):\n",
    "        if not hasattr(self.model.optimizer, \"lr\"):\n",
    "            raise ValueError('Optimizer must have a \"lr\" attribute.')\n",
    "        # Get the current learning rate from model's optimizer.\n",
    "        lr = float(tf.keras.backend.get_value(self.model.optimizer.learning_rate))\n",
    "        # Call schedule function to get the scheduled learning rate.\n",
    "        scheduled_lr = self.schedule(epoch, lr)\n",
    "        # Set the value back to the optimizer before this epoch starts\n",
    "        tf.keras.backend.set_value(self.model.optimizer.lr, scheduled_lr)\n",
    "        print(\"\\nEpoch %05d: Learning rate is %6.4f.\" % (epoch, scheduled_lr))\n",
    "\n",
    "\n",
    "LR_SCHEDULE = [\n",
    "    # (epoch to start, learning rate) tuples\n",
    "    (3, 0.05),\n",
    "    (6, 0.01),\n",
    "    (9, 0.005),\n",
    "    (12, 0.001),\n",
    "]\n",
    "\n",
    "\n",
    "def lr_schedule(epoch, lr):\n",
    "    \"\"\"Helper function to retrieve the scheduled learning rate based on epoch.\"\"\"\n",
    "    if epoch < LR_SCHEDULE[0][0] or epoch > LR_SCHEDULE[-1][0]:\n",
    "        return lr\n",
    "    for i in range(len(LR_SCHEDULE)):\n",
    "        if epoch == LR_SCHEDULE[i][0]:\n",
    "            return LR_SCHEDULE[i][1]\n",
    "    return lr\n",
    "\n",
    "\n",
    "model = get_model()\n",
    "model.fit(\n",
    "    x_train,\n",
    "    y_train,\n",
    "    batch_size=64,\n",
    "    steps_per_epoch=5,\n",
    "    epochs=15,\n",
    "    verbose=0,\n",
    "    callbacks=[\n",
    "        LossAndErrorPrintingCallback(),\n",
    "        CustomLearningRateScheduler(lr_schedule),\n",
    "    ],\n",
    ")"
   ]
  },
  {
   "cell_type": "markdown",
   "id": "recognized-humor",
   "metadata": {},
   "source": [
    "### iii. Built-in Keras callbacks"
   ]
  },
  {
   "cell_type": "raw",
   "id": "sacred-apple",
   "metadata": {},
   "source": [
    "Be sure to check out the existing Keras callbacks by reading the API docs. Applications include logging to CSV, saving the model, visualizing metrics in TensorBoard, and a lot more!"
   ]
  },
  {
   "cell_type": "markdown",
   "id": "native-satisfaction",
   "metadata": {},
   "source": [
    "# reference\n",
    "\n",
    "### https://tensorflow.google.cn/guide/keras/custom_callback"
   ]
  },
  {
   "cell_type": "code",
   "execution_count": null,
   "id": "pleasant-milan",
   "metadata": {},
   "outputs": [],
   "source": []
  }
 ],
 "metadata": {
  "kernelspec": {
   "display_name": "Python 3",
   "language": "python",
   "name": "python3"
  },
  "language_info": {
   "codemirror_mode": {
    "name": "ipython",
    "version": 3
   },
   "file_extension": ".py",
   "mimetype": "text/x-python",
   "name": "python",
   "nbconvert_exporter": "python",
   "pygments_lexer": "ipython3",
   "version": "3.8.5"
  }
 },
 "nbformat": 4,
 "nbformat_minor": 5
}
