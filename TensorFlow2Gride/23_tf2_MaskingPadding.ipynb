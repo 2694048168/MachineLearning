{
 "cells": [
  {
   "cell_type": "markdown",
   "id": "sonic-thinking",
   "metadata": {},
   "source": [
    "# Masking and padding with Keras"
   ]
  },
  {
   "cell_type": "markdown",
   "id": "threaded-stone",
   "metadata": {},
   "source": [
    "## 0. Setup"
   ]
  },
  {
   "cell_type": "code",
   "execution_count": 1,
   "id": "rotary-junction",
   "metadata": {},
   "outputs": [
    {
     "name": "stdout",
     "output_type": "stream",
     "text": [
      "The version of Tensorflow: 2.4.1\n"
     ]
    }
   ],
   "source": [
    "import numpy as np\n",
    "import tensorflow as tf\n",
    "from tensorflow import keras\n",
    "from tensorflow.keras import layers\n",
    "\n",
    "\n",
    "print(\"The version of Tensorflow: {}\".format(tf.__version__))"
   ]
  },
  {
   "cell_type": "markdown",
   "id": "certified-frost",
   "metadata": {},
   "source": [
    "## 1. Introduction"
   ]
  },
  {
   "cell_type": "raw",
   "id": "otherwise-finnish",
   "metadata": {},
   "source": [
    "Masking is a way to tell sequence-processing layers that certain timesteps in an input are missing, and thus should be skipped when processing the data.\n",
    "\n",
    "Padding is a special form of masking where the masked steps are at the start or the end of a sequence. Padding comes from the need to encode sequence data into contiguous batches: in order to make all sequences in a batch fit a given standard length, it is necessary to pad or truncate some sequences.\n",
    "\n",
    "Let's take a close look."
   ]
  },
  {
   "cell_type": "markdown",
   "id": "positive-hungarian",
   "metadata": {},
   "source": [
    "## 2. Padding sequence data"
   ]
  },
  {
   "cell_type": "raw",
   "id": "verbal-october",
   "metadata": {},
   "source": [
    "When processing sequence data, it is very common for individual samples to have different lengths. Consider the following example (text tokenized as words):"
   ]
  },
  {
   "cell_type": "code",
   "execution_count": 3,
   "id": "intended-brisbane",
   "metadata": {},
   "outputs": [
    {
     "data": {
      "text/plain": [
       "[['Hello', 'world', '!'],\n",
       " ['How', 'are', 'you', 'doing', 'today'],\n",
       " ['The', 'weather', 'will', 'be', 'nice', 'tomorrow']]"
      ]
     },
     "execution_count": 3,
     "metadata": {},
     "output_type": "execute_result"
    }
   ],
   "source": [
    "[\n",
    "  [\"Hello\", \"world\", \"!\"],\n",
    "  [\"How\", \"are\", \"you\", \"doing\", \"today\"],\n",
    "  [\"The\", \"weather\", \"will\", \"be\", \"nice\", \"tomorrow\"],\n",
    "]"
   ]
  },
  {
   "cell_type": "code",
   "execution_count": 5,
   "id": "federal-revelation",
   "metadata": {},
   "outputs": [
    {
     "data": {
      "text/plain": [
       "[[71, 1331, 4231], [73, 8, 3215, 55, 927], [83, 91, 1, 645, 1253, 927]]"
      ]
     },
     "execution_count": 5,
     "metadata": {},
     "output_type": "execute_result"
    }
   ],
   "source": [
    "# After vocabulary lookup, the data might be vectorized as integers, e.g.:\n",
    "\n",
    "[\n",
    "  [71, 1331, 4231],\n",
    "  [73, 8, 3215, 55, 927],\n",
    "  [83, 91, 1, 645, 1253, 927],\n",
    "]"
   ]
  },
  {
   "cell_type": "raw",
   "id": "engaging-detroit",
   "metadata": {},
   "source": [
    "The data is a nested list where individual samples have length 3, 5, and 6, respectively. Since the input data for a deep learning model must be a single tensor (of shape e.g. (batch_size, 6, vocab_size) in this case), samples that are shorter than the longest item need to be padded with some placeholder value (alternatively, one might also truncate long samples before padding short samples)."
   ]
  },
  {
   "cell_type": "code",
   "execution_count": 6,
   "id": "molecular-dress",
   "metadata": {},
   "outputs": [
    {
     "name": "stdout",
     "output_type": "stream",
     "text": [
      "[[ 711  632   71    0    0    0]\n",
      " [  73    8 3215   55  927    0]\n",
      " [  83   91    1  645 1253  927]]\n"
     ]
    }
   ],
   "source": [
    "# Keras provides a utility function to truncate and pad Python lists to a common length: \n",
    "# tf.keras.preprocessing.sequence.pad_sequences\n",
    "\n",
    "\n",
    "raw_inputs = [\n",
    "    [711, 632, 71],\n",
    "    [73, 8, 3215, 55, 927],\n",
    "    [83, 91, 1, 645, 1253, 927],\n",
    "]\n",
    "\n",
    "# By default, this will pad using 0s; it is configurable via the\n",
    "# \"value\" parameter.\n",
    "# Note that you could \"pre\" padding (at the beginning) or\n",
    "# \"post\" padding (at the end).\n",
    "# We recommend using \"post\" padding when working with RNN layers\n",
    "# (in order to be able to use the\n",
    "# CuDNN implementation of the layers).\n",
    "padded_inputs = tf.keras.preprocessing.sequence.pad_sequences(\n",
    "    raw_inputs, padding=\"post\"\n",
    ")\n",
    "print(padded_inputs)"
   ]
  },
  {
   "cell_type": "markdown",
   "id": "working-drama",
   "metadata": {},
   "source": [
    "## 3. Masking"
   ]
  },
  {
   "cell_type": "raw",
   "id": "unlimited-dollar",
   "metadata": {},
   "source": [
    "Now that all samples have a uniform length, the model must be informed that some part of the data is actually padding and should be ignored. That mechanism is masking."
   ]
  },
  {
   "cell_type": "raw",
   "id": "spectacular-stocks",
   "metadata": {},
   "source": [
    "There are three ways to introduce input masks in Keras models:\n",
    "\n",
    "- Add a keras.layers.Masking layer.\n",
    "- Configure a keras.layers.Embedding layer with mask_zero=True.\n",
    "- Pass a mask argument manually when calling layers that support this argument (e.g. RNN layers)."
   ]
  },
  {
   "cell_type": "markdown",
   "id": "pointed-requirement",
   "metadata": {},
   "source": [
    "## 4. Mask-generating layers: Embedding and Masking"
   ]
  },
  {
   "cell_type": "raw",
   "id": "offensive-threat",
   "metadata": {},
   "source": [
    "Under the hood, these layers will create a mask tensor (2D tensor with shape (batch, sequence_length)), and attach it to the tensor output returned by the Masking or Embedding layer."
   ]
  },
  {
   "cell_type": "code",
   "execution_count": 7,
   "id": "competent-small",
   "metadata": {},
   "outputs": [
    {
     "name": "stdout",
     "output_type": "stream",
     "text": [
      "tf.Tensor(\n",
      "[[ True  True  True False False False]\n",
      " [ True  True  True  True  True False]\n",
      " [ True  True  True  True  True  True]], shape=(3, 6), dtype=bool)\n",
      "tf.Tensor(\n",
      "[[ True  True  True False False False]\n",
      " [ True  True  True  True  True False]\n",
      " [ True  True  True  True  True  True]], shape=(3, 6), dtype=bool)\n"
     ]
    }
   ],
   "source": [
    "embedding = layers.Embedding(input_dim=5000, output_dim=16, mask_zero=True)\n",
    "masked_output = embedding(padded_inputs)\n",
    "\n",
    "print(masked_output._keras_mask)\n",
    "\n",
    "masking_layer = layers.Masking()\n",
    "# Simulate the embedding lookup by expanding the 2D input to 3D,\n",
    "# with embedding dimension of 10.\n",
    "unmasked_embedding = tf.cast(\n",
    "    tf.tile(tf.expand_dims(padded_inputs, axis=-1), [1, 1, 10]), tf.float32\n",
    ")\n",
    "\n",
    "masked_embedding = masking_layer(unmasked_embedding)\n",
    "print(masked_embedding._keras_mask)"
   ]
  },
  {
   "cell_type": "raw",
   "id": "documentary-boring",
   "metadata": {},
   "source": [
    "As you can see from the printed result, the mask is a 2D boolean tensor with shape (batch_size, sequence_length), where each individual False entry indicates that the corresponding timestep should be ignored during processing."
   ]
  },
  {
   "cell_type": "markdown",
   "id": "perfect-blake",
   "metadata": {},
   "source": [
    "## 5. Mask propagation in the Functional API and Sequential API"
   ]
  },
  {
   "cell_type": "raw",
   "id": "behavioral-front",
   "metadata": {},
   "source": [
    "When using the Functional API or the Sequential API, a mask generated by an Embedding or Masking layer will be propagated through the network for any layer that is capable of using them (for example, RNN layers). Keras will automatically fetch the mask corresponding to an input and pass it to any layer that knows how to use it."
   ]
  },
  {
   "cell_type": "raw",
   "id": "parliamentary-damage",
   "metadata": {},
   "source": [
    "For instance, in the following Sequential model, the LSTM layer will automatically receive a mask, which means it will ignore padded values:"
   ]
  },
  {
   "cell_type": "code",
   "execution_count": 8,
   "id": "spanish-nomination",
   "metadata": {},
   "outputs": [],
   "source": [
    "model = keras.Sequential(\n",
    "    [layers.Embedding(input_dim=5000, output_dim=16, mask_zero=True), layers.LSTM(32),]\n",
    ")"
   ]
  },
  {
   "cell_type": "code",
   "execution_count": 9,
   "id": "assured-velvet",
   "metadata": {},
   "outputs": [],
   "source": [
    "# This is also the case for the following Functional API model:\n",
    "\n",
    "inputs = keras.Input(shape=(None,), dtype=\"int32\")\n",
    "x = layers.Embedding(input_dim=5000, output_dim=16, mask_zero=True)(inputs)\n",
    "outputs = layers.LSTM(32)(x)\n",
    "\n",
    "model = keras.Model(inputs, outputs)"
   ]
  },
  {
   "cell_type": "markdown",
   "id": "secondary-stage",
   "metadata": {},
   "source": [
    "## 6. Passing mask tensors directly to layers"
   ]
  },
  {
   "cell_type": "raw",
   "id": "eligible-briefing",
   "metadata": {},
   "source": [
    "Layers that can handle masks (such as the LSTM layer) have a mask argument in their __call__ method.\n",
    "\n",
    "Meanwhile, layers that produce a mask (e.g. Embedding) expose a compute_mask(input, previous_mask) method which you can call.\n",
    "\n",
    "Thus, you can pass the output of the compute_mask() method of a mask-producing layer to the __call__ method of a mask-consuming layer, like this:"
   ]
  },
  {
   "cell_type": "code",
   "execution_count": 10,
   "id": "endangered-paste",
   "metadata": {},
   "outputs": [
    {
     "data": {
      "text/plain": [
       "<tf.Tensor: shape=(32, 32), dtype=float32, numpy=\n",
       "array([[ 0.00519906,  0.00862601,  0.00088552, ..., -0.00371608,\n",
       "         0.00270083, -0.0044403 ],\n",
       "       [-0.00078048,  0.00789122,  0.00514322, ...,  0.00468719,\n",
       "         0.00577936, -0.00934781],\n",
       "       [ 0.01215005,  0.00093381,  0.01191148, ..., -0.0005858 ,\n",
       "        -0.0027436 , -0.00080577],\n",
       "       ...,\n",
       "       [ 0.00838645,  0.00241314, -0.0014046 , ..., -0.00544628,\n",
       "         0.0036439 , -0.00782805],\n",
       "       [-0.00429091,  0.00125168, -0.00755523, ..., -0.00659019,\n",
       "         0.00090573, -0.00211196],\n",
       "       [ 0.00166254,  0.00025946,  0.00343899, ...,  0.00013198,\n",
       "        -0.00336992, -0.00107258]], dtype=float32)>"
      ]
     },
     "execution_count": 10,
     "metadata": {},
     "output_type": "execute_result"
    }
   ],
   "source": [
    "class MyLayer(layers.Layer):\n",
    "    def __init__(self, **kwargs):\n",
    "        super(MyLayer, self).__init__(**kwargs)\n",
    "        self.embedding = layers.Embedding(input_dim=5000, output_dim=16, mask_zero=True)\n",
    "        self.lstm = layers.LSTM(32)\n",
    "\n",
    "    def call(self, inputs):\n",
    "        x = self.embedding(inputs)\n",
    "        # Note that you could also prepare a `mask` tensor manually.\n",
    "        # It only needs to be a boolean tensor\n",
    "        # with the right shape, i.e. (batch_size, timesteps).\n",
    "        mask = self.embedding.compute_mask(inputs)\n",
    "        output = self.lstm(x, mask=mask)  # The layer will ignore the masked values\n",
    "        return output\n",
    "\n",
    "\n",
    "layer = MyLayer()\n",
    "x = np.random.random((32, 10)) * 100\n",
    "x = x.astype(\"int32\")\n",
    "layer(x)"
   ]
  },
  {
   "cell_type": "markdown",
   "id": "prime-kennedy",
   "metadata": {},
   "source": [
    "## 7. Supporting masking in your custom layers"
   ]
  },
  {
   "cell_type": "raw",
   "id": "dense-advertiser",
   "metadata": {},
   "source": [
    "Sometimes, you may need to write layers that generate a mask (like Embedding), or layers that need to modify the current mask.\n",
    "\n",
    "For instance, any layer that produces a tensor with a different time dimension than its input, such as a Concatenate layer that concatenates on the time dimension, will need to modify the current mask so that downstream layers will be able to properly take masked timesteps into account.\n",
    "\n",
    "To do this, your layer should implement the layer.compute_mask() method, which produces a new mask given the input and the current mask."
   ]
  },
  {
   "cell_type": "code",
   "execution_count": 11,
   "id": "occupied-bandwidth",
   "metadata": {},
   "outputs": [
    {
     "name": "stdout",
     "output_type": "stream",
     "text": [
      "tf.Tensor(\n",
      "[[ True  True  True]\n",
      " [ True  True  True]\n",
      " [ True  True  True]], shape=(3, 3), dtype=bool)\n",
      "tf.Tensor(\n",
      "[[False False False]\n",
      " [ True  True False]\n",
      " [ True  True  True]], shape=(3, 3), dtype=bool)\n"
     ]
    }
   ],
   "source": [
    "# Here is an example of a TemporalSplit layer that needs to modify the current mask.\n",
    "\n",
    "class TemporalSplit(keras.layers.Layer):\n",
    "    \"\"\"Split the input tensor into 2 tensors along the time dimension.\"\"\"\n",
    "\n",
    "    def call(self, inputs):\n",
    "        # Expect the input to be 3D and mask to be 2D, split the input tensor into 2\n",
    "        # subtensors along the time axis (axis 1).\n",
    "        return tf.split(inputs, 2, axis=1)\n",
    "\n",
    "    def compute_mask(self, inputs, mask=None):\n",
    "        # Also split the mask into 2 if it presents.\n",
    "        if mask is None:\n",
    "            return None\n",
    "        return tf.split(mask, 2, axis=1)\n",
    "\n",
    "\n",
    "first_half, second_half = TemporalSplit()(masked_embedding)\n",
    "print(first_half._keras_mask)\n",
    "print(second_half._keras_mask)"
   ]
  },
  {
   "cell_type": "code",
   "execution_count": 12,
   "id": "musical-creature",
   "metadata": {},
   "outputs": [
    {
     "name": "stdout",
     "output_type": "stream",
     "text": [
      "tf.Tensor(\n",
      "[[ True  True  True  True  True  True  True  True  True  True]\n",
      " [False  True  True  True  True  True  True  True False  True]\n",
      " [ True  True  True  True  True  True  True  True  True  True]], shape=(3, 10), dtype=bool)\n"
     ]
    }
   ],
   "source": [
    "# Here is another example of a CustomEmbedding layer that is capable of generating a mask from input values:\n",
    "\n",
    "\n",
    "class CustomEmbedding(keras.layers.Layer):\n",
    "    def __init__(self, input_dim, output_dim, mask_zero=False, **kwargs):\n",
    "        super(CustomEmbedding, self).__init__(**kwargs)\n",
    "        self.input_dim = input_dim\n",
    "        self.output_dim = output_dim\n",
    "        self.mask_zero = mask_zero\n",
    "\n",
    "    def build(self, input_shape):\n",
    "        self.embeddings = self.add_weight(\n",
    "            shape=(self.input_dim, self.output_dim),\n",
    "            initializer=\"random_normal\",\n",
    "            dtype=\"float32\",\n",
    "        )\n",
    "\n",
    "    def call(self, inputs):\n",
    "        return tf.nn.embedding_lookup(self.embeddings, inputs)\n",
    "\n",
    "    def compute_mask(self, inputs, mask=None):\n",
    "        if not self.mask_zero:\n",
    "            return None\n",
    "        return tf.not_equal(inputs, 0)\n",
    "\n",
    "\n",
    "layer = CustomEmbedding(10, 32, mask_zero=True)\n",
    "x = np.random.random((3, 10)) * 9\n",
    "x = x.astype(\"int32\")\n",
    "\n",
    "y = layer(x)\n",
    "mask = layer.compute_mask(x)\n",
    "\n",
    "print(mask)"
   ]
  },
  {
   "cell_type": "markdown",
   "id": "centered-pound",
   "metadata": {},
   "source": [
    "## 8. Opting-in to mask propagation on compatible layers"
   ]
  },
  {
   "cell_type": "raw",
   "id": "eleven-marks",
   "metadata": {},
   "source": [
    "Most layers don't modify the time dimension, so don't need to modify the current mask. However, they may still want to be able to propagate the current mask, unchanged, to the next layer. This is an opt-in behavior. By default, a custom layer will destroy the current mask (since the framework has no way to tell whether propagating the mask is safe to do).\n",
    "\n",
    "If you have a custom layer that does not modify the time dimension, and if you want it to be able to propagate the current input mask, you should set self.supports_masking = True in the layer constructor. In this case, the default behavior of compute_mask() is to just pass the current mask through."
   ]
  },
  {
   "cell_type": "code",
   "execution_count": 13,
   "id": "young-melbourne",
   "metadata": {},
   "outputs": [],
   "source": [
    "# Here's an example of a layer that is whitelisted for mask propagation:\n",
    "\n",
    "class MyActivation(keras.layers.Layer):\n",
    "    def __init__(self, **kwargs):\n",
    "        super(MyActivation, self).__init__(**kwargs)\n",
    "        # Signal that the layer is safe for mask propagation\n",
    "        self.supports_masking = True\n",
    "\n",
    "    def call(self, inputs):\n",
    "        return tf.nn.relu(inputs)"
   ]
  },
  {
   "cell_type": "raw",
   "id": "continued-canberra",
   "metadata": {},
   "source": [
    "You can now use this custom layer in-between a mask-generating layer (like Embedding) and a mask-consuming layer (like LSTM), and it will pass the mask along so that it reaches the mask-consuming layer."
   ]
  },
  {
   "cell_type": "code",
   "execution_count": 14,
   "id": "direct-brazilian",
   "metadata": {},
   "outputs": [
    {
     "name": "stdout",
     "output_type": "stream",
     "text": [
      "Mask found: KerasTensor(type_spec=TensorSpec(shape=(None, None), dtype=tf.bool, name=None), name='Placeholder_1:0')\n"
     ]
    }
   ],
   "source": [
    "inputs = keras.Input(shape=(None,), dtype=\"int32\")\n",
    "x = layers.Embedding(input_dim=5000, output_dim=16, mask_zero=True)(inputs)\n",
    "x = MyActivation()(x)  # Will pass the mask along\n",
    "print(\"Mask found:\", x._keras_mask)\n",
    "outputs = layers.LSTM(32)(x)  # Will receive the mask\n",
    "\n",
    "model = keras.Model(inputs, outputs)"
   ]
  },
  {
   "cell_type": "markdown",
   "id": "usual-fault",
   "metadata": {},
   "source": [
    "## 9. Writing layers that need mask information"
   ]
  },
  {
   "cell_type": "raw",
   "id": "sweet-whole",
   "metadata": {},
   "source": [
    "Some layers are mask consumers: they accept a mask argument in call and use it to determine whether to skip certain time steps.\n",
    "\n",
    "To write such a layer, you can simply add a mask=None argument in your call signature. The mask associated with the inputs will be passed to your layer whenever it is available.\n",
    "\n",
    "Here's a simple example below: a layer that computes a softmax over the time dimension (axis 1) of an input sequence, while discarding masked timesteps."
   ]
  },
  {
   "cell_type": "code",
   "execution_count": 15,
   "id": "academic-aluminum",
   "metadata": {},
   "outputs": [],
   "source": [
    "class TemporalSoftmax(keras.layers.Layer):\n",
    "    def call(self, inputs, mask=None):\n",
    "        broadcast_float_mask = tf.expand_dims(tf.cast(mask, \"float32\"), -1)\n",
    "        inputs_exp = tf.exp(inputs) * broadcast_float_mask\n",
    "        inputs_sum = tf.reduce_sum(\n",
    "            inputs_exp * broadcast_float_mask, axis=-1, keepdims=True\n",
    "        )\n",
    "        return inputs_exp / inputs_sum\n",
    "\n",
    "\n",
    "inputs = keras.Input(shape=(None,), dtype=\"int32\")\n",
    "x = layers.Embedding(input_dim=10, output_dim=32, mask_zero=True)(inputs)\n",
    "x = layers.Dense(1)(x)\n",
    "outputs = TemporalSoftmax()(x)\n",
    "\n",
    "model = keras.Model(inputs, outputs)\n",
    "y = model(np.random.randint(0, 10, size=(32, 100)), np.random.random((32, 100, 1)))"
   ]
  },
  {
   "cell_type": "markdown",
   "id": "conscious-interstate",
   "metadata": {},
   "source": [
    "## 10. Summary"
   ]
  },
  {
   "cell_type": "raw",
   "id": "directed-charm",
   "metadata": {},
   "source": [
    "That is all you need to know about padding & masking in Keras. To recap:\n",
    "\n",
    "- \"Masking\" is how layers are able to know when to skip / ignore certain timesteps in sequence inputs.\n",
    "\n",
    "- Some layers are mask-generators: Embedding can generate a mask from input values (if mask_zero=True), and so can the Masking layer.\n",
    "\n",
    "- Some layers are mask-consumers: they expose a mask argument in their __call__ method. This is the case for RNN layers.\n",
    "\n",
    "- In the Functional API and Sequential API, mask information is propagated automatically.\n",
    "\n",
    "- When using layers in a standalone way, you can pass the mask arguments to layers manually.\n",
    "\n",
    "- You can easily write layers that modify the current mask, that generate a new mask, or that consume the mask associated with the inputs."
   ]
  },
  {
   "cell_type": "markdown",
   "id": "intense-celebration",
   "metadata": {},
   "source": [
    "# reference\n",
    "\n",
    "### https://tensorflow.google.cn/guide/keras/masking_and_padding"
   ]
  },
  {
   "cell_type": "code",
   "execution_count": null,
   "id": "handed-clarity",
   "metadata": {},
   "outputs": [],
   "source": []
  }
 ],
 "metadata": {
  "kernelspec": {
   "display_name": "Python 3",
   "language": "python",
   "name": "python3"
  },
  "language_info": {
   "codemirror_mode": {
    "name": "ipython",
    "version": 3
   },
   "file_extension": ".py",
   "mimetype": "text/x-python",
   "name": "python",
   "nbconvert_exporter": "python",
   "pygments_lexer": "ipython3",
   "version": "3.8.5"
  }
 },
 "nbformat": 4,
 "nbformat_minor": 5
}
