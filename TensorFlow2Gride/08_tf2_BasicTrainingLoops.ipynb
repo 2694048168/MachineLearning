{
 "cells": [
  {
   "cell_type": "markdown",
   "id": "educational-adolescent",
   "metadata": {},
   "source": [
    "# Basic training loops"
   ]
  },
  {
   "cell_type": "raw",
   "id": "negative-rendering",
   "metadata": {},
   "source": [
    "In the previous guides, you have learned about tensors, variables, gradient tape, and modules. In this guide, you will fit these all together to train models.\n",
    "\n",
    "TensorFlow also includes the tf.Keras API, a high-level neural network API that provides useful abstractions to reduce boilerplate. However, in this guide, you will use basic classes."
   ]
  },
  {
   "cell_type": "markdown",
   "id": "aboriginal-screw",
   "metadata": {},
   "source": [
    "## 1. Setup"
   ]
  },
  {
   "cell_type": "code",
   "execution_count": 1,
   "id": "public-humor",
   "metadata": {},
   "outputs": [
    {
     "name": "stdout",
     "output_type": "stream",
     "text": [
      "The version of Tensorflow: 2.4.1\n"
     ]
    }
   ],
   "source": [
    "import tensorflow as tf\n",
    "\n",
    "print(\"The version of Tensorflow: {}\".format(tf.__version__))"
   ]
  },
  {
   "cell_type": "markdown",
   "id": "conventional-spokesman",
   "metadata": {},
   "source": [
    "## 2. Solving machine learning problems"
   ]
  },
  {
   "cell_type": "raw",
   "id": "bearing-semiconductor",
   "metadata": {},
   "source": [
    "Solving a machine learning problem usually consists of the following steps:\n",
    "- Obtain training data.\n",
    "- Define the model.\n",
    "- Define a loss function.\n",
    "- Run through the training data, calculating loss from the ideal value\n",
    "- Calculate gradients for that loss and use an optimizer to adjust the variables to fit the data.\n",
    "- Evaluate your results."
   ]
  },
  {
   "cell_type": "markdown",
   "id": "adopted-computer",
   "metadata": {},
   "source": [
    "## 3. Data"
   ]
  },
  {
   "cell_type": "raw",
   "id": "biological-optimum",
   "metadata": {},
   "source": [
    "Supervised learning uses inputs (usually denoted as x) and outputs (denoted y, often called labels). The goal is to learn from paired inputs and outputs so that you can predict the value of an output from an input.\n",
    "\n",
    "Each input of your data, in TensorFlow, is almost always represented by a tensor, and is often a vector. In supervised training, the output (or value you'd like to predict) is also a tensor.\n",
    "\n",
    "Here is some data synthesized by adding Gaussian (Normal) noise to points along a line."
   ]
  },
  {
   "cell_type": "code",
   "execution_count": 2,
   "id": "timely-learning",
   "metadata": {},
   "outputs": [],
   "source": [
    "# The actual line\n",
    "TRUE_W = 3.0\n",
    "TRUE_B = 2.0\n",
    "\n",
    "NUM_EXAMPLES = 1000\n",
    "\n",
    "# A vector of random x values\n",
    "x = tf.random.normal(shape=[NUM_EXAMPLES])\n",
    "\n",
    "# Generate some noise\n",
    "noise = tf.random.normal(shape=[NUM_EXAMPLES])\n",
    "\n",
    "# Calculate y\n",
    "y = x * TRUE_W + TRUE_B + noise"
   ]
  },
  {
   "cell_type": "code",
   "execution_count": 5,
   "id": "finite-highland",
   "metadata": {},
   "outputs": [
    {
     "data": {
      "image/png": "[encoded data removed]",
      "text/plain": [
       "<Figure size 720x480 with 1 Axes>"
      ]
     },
     "metadata": {
      "needs_background": "light"
     },
     "output_type": "display_data"
    }
   ],
   "source": [
    "# Plot all the data\n",
    "import matplotlib.pyplot as plt\n",
    "%matplotlib inline\n",
    "\n",
    "plt.figure(figsize=(6, 4), dpi=120)\n",
    "plt.scatter(x, y, c=\"b\")\n",
    "plt.show()"
   ]
  },
  {
   "cell_type": "raw",
   "id": "august-special",
   "metadata": {},
   "source": [
    "Tensors are usually gathered together in batches, or groups of inputs and outputs stacked together. Batching can confer some training benefits and works well with accelerators and vectorized computation. Given how small this dataset is, you can treat the entire dataset as a single batch."
   ]
  },
  {
   "cell_type": "markdown",
   "id": "controlled-republic",
   "metadata": {},
   "source": [
    "## 4. Define the model"
   ]
  },
  {
   "cell_type": "raw",
   "id": "boolean-wyoming",
   "metadata": {},
   "source": [
    "Use tf.Variable to represent all weights in a model. A tf.Variable stores a value and provides this in tensor form as needed. See the variable guide for more details.\n",
    "\n",
    "Use tf.Module to encapsulate the variables and the computation. You could use any Python object, but this way it can be easily saved.\n",
    "\n",
    "Here, you define both w and b as variables."
   ]
  },
  {
   "cell_type": "code",
   "execution_count": 6,
   "id": "novel-motorcycle",
   "metadata": {},
   "outputs": [
    {
     "name": "stdout",
     "output_type": "stream",
     "text": [
      "Variables: (<tf.Variable 'Variable:0' shape=() dtype=float32, numpy=0.0>, <tf.Variable 'Variable:0' shape=() dtype=float32, numpy=5.0>)\n"
     ]
    }
   ],
   "source": [
    "class MyModel(tf.Module):\n",
    "  def __init__(self, **kwargs):\n",
    "    super().__init__(**kwargs)\n",
    "    # Initialize the weights to `5.0` and the bias to `0.0`\n",
    "    # In practice, these should be randomly initialized\n",
    "    self.w = tf.Variable(5.0)\n",
    "    self.b = tf.Variable(0.0)\n",
    "\n",
    "  def __call__(self, x):\n",
    "    return self.w * x + self.b\n",
    "\n",
    "model = MyModel()\n",
    "\n",
    "# List the variables tf.modules's built-in variable aggregation.\n",
    "print(\"Variables:\", model.variables)\n",
    "\n",
    "# Verify the model works\n",
    "assert model(3.0).numpy() == 15.0"
   ]
  },
  {
   "cell_type": "raw",
   "id": "constant-circuit",
   "metadata": {},
   "source": [
    "The initial variables are set here in a fixed way, but Keras comes with any of a number of initalizers you could use, with or without the rest of Keras."
   ]
  },
  {
   "cell_type": "markdown",
   "id": "sustained-accreditation",
   "metadata": {},
   "source": [
    "### i. Define a loss function"
   ]
  },
  {
   "cell_type": "code",
   "execution_count": 7,
   "id": "voluntary-pipeline",
   "metadata": {},
   "outputs": [],
   "source": [
    "# A loss function measures how well the output of a model for a given input matches the target output. \n",
    "# The goal is to minimize this difference during training. Define the standard L2 loss, also known as the \"mean squared\" error:\n",
    "\n",
    "# This computes a single loss value for an entire batch\n",
    "def loss(target_y, predicted_y):\n",
    "  return tf.reduce_mean(tf.square(target_y - predicted_y))"
   ]
  },
  {
   "cell_type": "code",
   "execution_count": 8,
   "id": "committed-joshua",
   "metadata": {},
   "outputs": [
    {
     "data": {
      "image/png": "[encoded data removed]",
      "text/plain": [
       "<Figure size 432x288 with 1 Axes>"
      ]
     },
     "metadata": {
      "needs_background": "light"
     },
     "output_type": "display_data"
    },
    {
     "name": "stdout",
     "output_type": "stream",
     "text": [
      "Current loss: 8.732404\n"
     ]
    }
   ],
   "source": [
    "# Before training the model, \n",
    "# you can visualize the loss value by plotting the model's predictions in red and the training data in blue:\n",
    "\n",
    "plt.scatter(x, y, c=\"b\")\n",
    "plt.scatter(x, model(x), c=\"r\")\n",
    "plt.show()\n",
    "\n",
    "print(\"Current loss: %1.6f\" % loss(y, model(x)).numpy())"
   ]
  },
  {
   "cell_type": "markdown",
   "id": "legislative-ensemble",
   "metadata": {},
   "source": [
    "### ii. Define a training loop"
   ]
  },
  {
   "cell_type": "raw",
   "id": "accredited-withdrawal",
   "metadata": {},
   "source": [
    "The training loop consists of repeatedly doing three tasks in order:\n",
    "\n",
    "- Sending a batch of inputs through the model to generate outputs\n",
    "- Calculating the loss by comparing the outputs to the output (or label)\n",
    "- Using gradient tape to find the gradients\n",
    "- Optimizing the variables with those gradients"
   ]
  },
  {
   "cell_type": "code",
   "execution_count": 9,
   "id": "needed-testament",
   "metadata": {},
   "outputs": [],
   "source": [
    "# For this example, you can train the model using gradient descent.\n",
    "\n",
    "# There are many variants of the gradient descent scheme that are captured in tf.keras.optimizers. \n",
    "# But in the spirit of building from first principles, \n",
    "# here you will implement the basic math yourself with the help of tf.GradientTape for automatic differentiation \n",
    "# and tf.assign_sub for decrementing a value (which combines tf.assign and tf.sub):\n",
    "\n",
    "\n",
    "# Given a callable model, inputs, outputs, and a learning rate...\n",
    "def train(model, x, y, learning_rate):\n",
    "\n",
    "  with tf.GradientTape() as t:\n",
    "    # Trainable variables are automatically tracked by GradientTape\n",
    "    current_loss = loss(y, model(x))\n",
    "\n",
    "  # Use GradientTape to calculate the gradients with respect to W and b\n",
    "  dw, db = t.gradient(current_loss, [model.w, model.b])\n",
    "\n",
    "  # Subtract the gradient scaled by the learning rate\n",
    "  model.w.assign_sub(learning_rate * dw)\n",
    "  model.b.assign_sub(learning_rate * db)"
   ]
  },
  {
   "cell_type": "code",
   "execution_count": 13,
   "id": "royal-gibraltar",
   "metadata": {},
   "outputs": [],
   "source": [
    "# or a look at training, you can send the same batch of x an y through the training loop, and see how W and b evolve.\n",
    "\n",
    "model = MyModel()\n",
    "\n",
    "# Collect the history of W-values and b-values to plot later\n",
    "Ws, bs = [], []\n",
    "epochs = range(10)\n",
    "\n",
    "# Define a training loop\n",
    "def training_loop(model, x, y):\n",
    "\n",
    "  for epoch in epochs:\n",
    "    # Update the model with the single giant batch\n",
    "    train(model, x, y, learning_rate=0.1)\n",
    "\n",
    "    # Track this before I update\n",
    "    Ws.append(model.w.numpy())\n",
    "    bs.append(model.b.numpy())\n",
    "    current_loss = loss(y, model(x))\n",
    "\n",
    "    print(\"Epoch %2d: W=%1.2f b=%1.2f, loss=%2.5f\" %\n",
    "          (epoch, Ws[-1], bs[-1], current_loss))"
   ]
  },
  {
   "cell_type": "code",
   "execution_count": 14,
   "id": "meaning-smith",
   "metadata": {},
   "outputs": [
    {
     "name": "stdout",
     "output_type": "stream",
     "text": [
      "Starting: W=5.00 b=0.00, loss=8.73240\n",
      "Epoch  0: W=4.64 b=0.39, loss=6.12895\n",
      "Epoch  1: W=4.34 b=0.71, loss=4.39637\n",
      "Epoch  2: W=4.09 b=0.97, loss=3.24312\n",
      "Epoch  3: W=3.89 b=1.18, loss=2.47536\n",
      "Epoch  4: W=3.72 b=1.35, loss=1.96415\n",
      "Epoch  5: W=3.59 b=1.48, loss=1.62370\n",
      "Epoch  6: W=3.47 b=1.60, loss=1.39694\n",
      "Epoch  7: W=3.38 b=1.69, loss=1.24588\n",
      "Epoch  8: W=3.31 b=1.76, loss=1.14524\n",
      "Epoch  9: W=3.24 b=1.82, loss=1.07818\n"
     ]
    },
    {
     "data": {
      "image/png": "[encoded data removed]",
      "text/plain": [
       "<Figure size 720x480 with 1 Axes>"
      ]
     },
     "metadata": {
      "needs_background": "light"
     },
     "output_type": "display_data"
    }
   ],
   "source": [
    "print(\"Starting: W=%1.2f b=%1.2f, loss=%2.5f\" %\n",
    "      (model.w, model.b, loss(y, model(x))))\n",
    "\n",
    "# Do the training\n",
    "training_loop(model, x, y)\n",
    "\n",
    "# Plot it\n",
    "plt.figure(figsize=(6, 4), dpi=120)\n",
    "plt.plot(epochs, Ws, \"r\",\n",
    "         epochs, bs, \"b\")\n",
    "\n",
    "plt.plot([TRUE_W] * len(epochs), \"r--\",\n",
    "         [TRUE_B] * len(epochs), \"b--\")\n",
    "\n",
    "plt.legend([\"W\", \"b\", \"True W\", \"True b\"])\n",
    "plt.show()"
   ]
  },
  {
   "cell_type": "code",
   "execution_count": 15,
   "id": "reasonable-animation",
   "metadata": {},
   "outputs": [
    {
     "data": {
      "image/png": "[encoded data removed]",
      "text/plain": [
       "<Figure size 432x288 with 1 Axes>"
      ]
     },
     "metadata": {
      "needs_background": "light"
     },
     "output_type": "display_data"
    },
    {
     "name": "stdout",
     "output_type": "stream",
     "text": [
      "Current loss: 1.078179\n"
     ]
    }
   ],
   "source": [
    "# Visualize how the trained model performs\n",
    "plt.scatter(x, y, c=\"b\")\n",
    "plt.scatter(x, model(x), c=\"r\")\n",
    "plt.show()\n",
    "\n",
    "print(\"Current loss: %1.6f\" % loss(model(x), y).numpy())"
   ]
  },
  {
   "cell_type": "markdown",
   "id": "lonely-reynolds",
   "metadata": {},
   "source": [
    "## 5. The same solution, but with Keras"
   ]
  },
  {
   "cell_type": "raw",
   "id": "front-shark",
   "metadata": {},
   "source": [
    "It's useful to contrast the code above with the equivalent in Keras.\n",
    "\n",
    "Defining the model looks exactly the same if you subclass tf.keras.Model. Remember that Keras models inherit ultimately from module."
   ]
  },
  {
   "cell_type": "code",
   "execution_count": 16,
   "id": "periodic-turning",
   "metadata": {},
   "outputs": [
    {
     "name": "stdout",
     "output_type": "stream",
     "text": [
      "Epoch  0: W=4.64 b=0.39, loss=6.12895\n",
      "Epoch  1: W=4.34 b=0.71, loss=4.39637\n",
      "Epoch  2: W=4.09 b=0.97, loss=3.24312\n",
      "Epoch  3: W=3.89 b=1.18, loss=2.47536\n",
      "Epoch  4: W=3.72 b=1.35, loss=1.96415\n",
      "Epoch  5: W=3.59 b=1.48, loss=1.62370\n",
      "Epoch  6: W=3.47 b=1.60, loss=1.39694\n",
      "Epoch  7: W=3.38 b=1.69, loss=1.24588\n",
      "Epoch  8: W=3.31 b=1.76, loss=1.14524\n",
      "Epoch  9: W=3.24 b=1.82, loss=1.07818\n"
     ]
    }
   ],
   "source": [
    "class MyModelKeras(tf.keras.Model):\n",
    "  def __init__(self, **kwargs):\n",
    "    super().__init__(**kwargs)\n",
    "    # Initialize the weights to `5.0` and the bias to `0.0`\n",
    "    # In practice, these should be randomly initialized\n",
    "    self.w = tf.Variable(5.0)\n",
    "    self.b = tf.Variable(0.0)\n",
    "\n",
    "  def call(self, x):\n",
    "    return self.w * x + self.b\n",
    "\n",
    "keras_model = MyModelKeras()\n",
    "\n",
    "# Reuse the training loop with a Keras model\n",
    "training_loop(keras_model, x, y)\n",
    "\n",
    "# You can also save a checkpoint using Keras's built-in support\n",
    "keras_model.save_weights(\"my_checkpoint\")"
   ]
  },
  {
   "cell_type": "raw",
   "id": "latest-anatomy",
   "metadata": {},
   "source": [
    "If you do, you will need to use model.compile() to set the parameters, and model.fit() to train. It can be less code to use Keras implementations of L2 loss and gradient descent, again as a shortcut. Keras losses and optimizers can be used outside of these convenience functions, too, and the previous example could have used them"
   ]
  },
  {
   "cell_type": "code",
   "execution_count": 17,
   "id": "derived-canberra",
   "metadata": {},
   "outputs": [],
   "source": [
    "keras_model = MyModelKeras()\n",
    "\n",
    "# compile sets the training parameters\n",
    "keras_model.compile(\n",
    "    # By default, fit() uses tf.function().  You can\n",
    "    # turn that off for debugging, but it is on now.\n",
    "    run_eagerly=False,\n",
    "\n",
    "    # Using a built-in optimizer, configuring as an object\n",
    "    optimizer=tf.keras.optimizers.SGD(learning_rate=0.1),\n",
    "\n",
    "    # Keras comes with built-in MSE error\n",
    "    # However, you could use the loss function\n",
    "    # defined above\n",
    "    loss=tf.keras.losses.mean_squared_error,\n",
    ")"
   ]
  },
  {
   "cell_type": "code",
   "execution_count": 18,
   "id": "coupled-needle",
   "metadata": {},
   "outputs": [
    {
     "name": "stdout",
     "output_type": "stream",
     "text": [
      "1000\n",
      "Epoch 1/10\n",
      "1/1 [==============================] - 0s 198ms/step - loss: 8.7324\n",
      "Epoch 2/10\n",
      "1/1 [==============================] - 0s 2ms/step - loss: 6.1290\n",
      "Epoch 3/10\n",
      "1/1 [==============================] - 0s 2ms/step - loss: 4.3964\n",
      "Epoch 4/10\n",
      "1/1 [==============================] - 0s 997us/step - loss: 3.2431\n",
      "Epoch 5/10\n",
      "1/1 [==============================] - 0s 2ms/step - loss: 2.4754\n",
      "Epoch 6/10\n",
      "1/1 [==============================] - 0s 2ms/step - loss: 1.9641\n",
      "Epoch 7/10\n",
      "1/1 [==============================] - 0s 2ms/step - loss: 1.6237\n",
      "Epoch 8/10\n",
      "1/1 [==============================] - 0s 998us/step - loss: 1.3969\n",
      "Epoch 9/10\n",
      "1/1 [==============================] - 0s 2ms/step - loss: 1.2459\n",
      "Epoch 10/10\n",
      "1/1 [==============================] - 0s 2ms/step - loss: 1.1452\n"
     ]
    },
    {
     "data": {
      "text/plain": [
       "<tensorflow.python.keras.callbacks.History at 0x1ff8a851a90>"
      ]
     },
     "execution_count": 18,
     "metadata": {},
     "output_type": "execute_result"
    }
   ],
   "source": [
    "# Keras fit expects batched data or a complete dataset as a NumPy array. \n",
    "# NumPy arrays are chopped into batches and default to a batch size of 32.\n",
    "\n",
    "# In this case, to match the behavior of the hand-written loop, \n",
    "# you should pass x in as a single batch of size 1000.\n",
    "\n",
    "\n",
    "print(x.shape[0])\n",
    "keras_model.fit(x, y, epochs=10, batch_size=1000)"
   ]
  },
  {
   "cell_type": "raw",
   "id": "computational-swedish",
   "metadata": {},
   "source": [
    "Note that Keras prints out the loss after training, not before, so the first loss appears lower, but otherwise this shows essentially the same training performance"
   ]
  },
  {
   "cell_type": "markdown",
   "id": "chronic-fundamental",
   "metadata": {},
   "source": [
    "# reference\n",
    "\n",
    "### https://tensorflow.google.cn/guide/basic_training_loops"
   ]
  },
  {
   "cell_type": "code",
   "execution_count": null,
   "id": "fancy-anger",
   "metadata": {},
   "outputs": [],
   "source": []
  }
 ],
 "metadata": {
  "kernelspec": {
   "display_name": "Python 3",
   "language": "python",
   "name": "python3"
  },
  "language_info": {
   "codemirror_mode": {
    "name": "ipython",
    "version": 3
   },
   "file_extension": ".py",
   "mimetype": "text/x-python",
   "name": "python",
   "nbconvert_exporter": "python",
   "pygments_lexer": "ipython3",
   "version": "3.8.5"
  }
 },
 "nbformat": 4,
 "nbformat_minor": 5
}
