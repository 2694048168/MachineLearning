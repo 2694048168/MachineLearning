{
 "cells": [
  {
   "cell_type": "markdown",
   "id": "separate-producer",
   "metadata": {},
   "source": [
    "# Create an op"
   ]
  },
  {
   "cell_type": "raw",
   "id": "severe-profession",
   "metadata": {},
   "source": [
    "Note: To guarantee that your C++ custom ops are ABI compatible with TensorFlow's official pip packages, please follow the guide at Custom op repository. It has an end-to-end code example, as well as Docker images for building and distributing your custom ops."
   ]
  },
  {
   "cell_type": "raw",
   "id": "republican-walker",
   "metadata": {},
   "source": [
    "If you'd like to create an op that isn't covered by the existing TensorFlow library, we recommend that you first try writing the op in Python as a composition of existing Python ops or functions. If that isn't possible, you can create a custom C++ op. There are several reasons why you might want to create a custom C++ op:\n",
    "\n",
    "- It's not easy or possible to express your operation as a composition of existing ops.\n",
    "- It's not efficient to express your operation as a composition of existing primitives.\n",
    "- You want to hand-fuse a composition of primitives that a future compiler would find difficult fusing."
   ]
  },
  {
   "cell_type": "raw",
   "id": "lonely-project",
   "metadata": {},
   "source": [
    "For example, imagine you want to implement something like \"median pooling\", similar to the \"MaxPool\" operator, but computing medians over sliding windows instead of maximum values. Doing this using a composition of operations may be possible (e.g., using ExtractImagePatches and TopK), but may not be as performance- or memory-efficient as a native operation where you can do something more clever in a single, fused operation. As always, it is typically first worth trying to express what you want using operator composition, only choosing to add a new operation if that proves to be difficult or inefficient."
   ]
  },
  {
   "cell_type": "raw",
   "id": "wicked-dating",
   "metadata": {},
   "source": [
    "To incorporate your custom op you'll need to:\n",
    "\n",
    "1. Register the new op in a C++ file. Op registration defines an interface (specification) for the op's functionality, which is independent of the op's implementation. For example, op registration defines the op's name and the op's inputs and outputs. It also defines the shape function that is used for tensor shape inference.\n",
    "\n",
    "2. Implement the op in C++. The implementation of an op is known as a kernel, and it is the concrete implementation of the specification you registered in Step 1. There can be multiple kernels for different input / output types or architectures (for example, CPUs, GPUs).\n",
    "\n",
    "3. Create a Python wrapper (optional). This wrapper is the public API that's used to create the op in Python. A default wrapper is generated from the op registration, which can be used directly or added to.\n",
    "\n",
    "4. Write a function to compute gradients for the op (optional).\n",
    "\n",
    "5. Test the op. We usually do this in Python for convenience, but you can also test the op in C++. If you define gradients, you can verify them with the Python tf.test.compute_gradient_error. See relu_op_test.py as an example that tests the forward functions of Relu-like operators and their gradients."
   ]
  },
  {
   "cell_type": "markdown",
   "id": "blessed-declaration",
   "metadata": {},
   "source": [
    "## 1. Prerequisites"
   ]
  },
  {
   "cell_type": "raw",
   "id": "lined-juice",
   "metadata": {},
   "source": [
    "- Some familiarity with C++.\n",
    "- Must have installed the TensorFlow binary, or must have downloaded TensorFlow source, and be able to build it."
   ]
  },
  {
   "cell_type": "markdown",
   "id": "professional-imagination",
   "metadata": {},
   "source": [
    "## 2. Define the op interface"
   ]
  },
  {
   "cell_type": "raw",
   "id": "western-investigator",
   "metadata": {},
   "source": [
    "You define the interface of an op by registering it with the TensorFlow system. In the registration, you specify the name of your op, its inputs (types and names) and outputs (types and names), as well as docstrings and any attrs the op might require."
   ]
  },
  {
   "cell_type": "raw",
   "id": "headed-rendering",
   "metadata": {},
   "source": [
    "To see how this works, suppose you'd like to create an op that takes a tensor of int32s and outputs a copy of the tensor, with all but the first element set to zero. To do this, create a file named zero_out.cc. Then add a call to the REGISTER_OP macro that defines the interface for your op:"
   ]
  },
  {
   "cell_type": "code",
   "execution_count": null,
   "id": "confidential-sight",
   "metadata": {},
   "outputs": [],
   "source": [
    "#include \"tensorflow/core/framework/op.h\"\n",
    "#include \"tensorflow/core/framework/shape_inference.h\"\n",
    "\n",
    "using namespace tensorflow;\n",
    "\n",
    "REGISTER_OP(\"ZeroOut\")\n",
    "    .Input(\"to_zero: int32\")\n",
    "    .Output(\"zeroed: int32\")\n",
    "    .SetShapeFn([](::tensorflow::shape_inference::InferenceContext* c) {\n",
    "      c->set_output(0, c->input(0));\n",
    "      return Status::OK();\n",
    "    });"
   ]
  },
  {
   "cell_type": "raw",
   "id": "emotional-chemical",
   "metadata": {},
   "source": [
    "This ZeroOut op takes one tensor to_zero of 32-bit integers as input, and outputs a tensor zeroed of 32-bit integers. The op also uses a shape function to ensure that the output tensor is the same shape as the input tensor. For example, if the input is a tensor of shape [10, 20], then this shape function specifies that the output shape is also [10, 20]."
   ]
  },
  {
   "cell_type": "raw",
   "id": "impossible-toner",
   "metadata": {},
   "source": [
    "Note: The op name must be in CamelCase and it must be unique among all other ops that are registered in the binary."
   ]
  },
  {
   "cell_type": "markdown",
   "id": "outdoor-martin",
   "metadata": {},
   "source": [
    "## 3. Implement the kernel for the op"
   ]
  },
  {
   "cell_type": "raw",
   "id": "laughing-president",
   "metadata": {},
   "source": [
    "After you define the interface, provide one or more implementations of the op. To create one of these kernels, create a class that extends OpKernel and overrides the Compute method. The Compute method provides one context argument of type OpKernelContext*, from which you can access useful things like the input and output tensors."
   ]
  },
  {
   "cell_type": "raw",
   "id": "economic-blanket",
   "metadata": {},
   "source": [
    "Add your kernel to the file you created above. The kernel might look something like this:"
   ]
  },
  {
   "cell_type": "code",
   "execution_count": null,
   "id": "mexican-ethics",
   "metadata": {},
   "outputs": [],
   "source": [
    "#include \"tensorflow/core/framework/op_kernel.h\"\n",
    "\n",
    "using namespace tensorflow;\n",
    "\n",
    "class ZeroOutOp : public OpKernel {\n",
    " public:\n",
    "  explicit ZeroOutOp(OpKernelConstruction* context) : OpKernel(context) {}\n",
    "\n",
    "  void Compute(OpKernelContext* context) override {\n",
    "    // Grab the input tensor\n",
    "    const Tensor& input_tensor = context->input(0);\n",
    "    auto input = input_tensor.flat<int32>();\n",
    "\n",
    "    // Create an output tensor\n",
    "    Tensor* output_tensor = NULL;\n",
    "    OP_REQUIRES_OK(context, context->allocate_output(0, input_tensor.shape(),\n",
    "                                                     &output_tensor));\n",
    "    auto output_flat = output_tensor->flat<int32>();\n",
    "\n",
    "    // Set all but the first element of the output tensor to 0.\n",
    "    const int N = input.size();\n",
    "    for (int i = 1; i < N; i++) {\n",
    "      output_flat(i) = 0;\n",
    "    }\n",
    "\n",
    "    // Preserve the first input value if possible.\n",
    "    if (N > 0) output_flat(0) = input(0);\n",
    "  }\n",
    "};"
   ]
  },
  {
   "cell_type": "raw",
   "id": "assigned-deviation",
   "metadata": {},
   "source": [
    "After implementing your kernel, you register it with the TensorFlow system. In the registration, you specify different constraints under which this kernel will run. For example, you might have one kernel made for CPUs, and a separate one for GPUs."
   ]
  },
  {
   "cell_type": "raw",
   "id": "incredible-alcohol",
   "metadata": {},
   "source": [
    "To do this for the ZeroOut op, add the following to zero_out.cc:"
   ]
  },
  {
   "cell_type": "code",
   "execution_count": null,
   "id": "pleased-basketball",
   "metadata": {},
   "outputs": [],
   "source": [
    "REGISTER_KERNEL_BUILDER(Name(\"ZeroOut\").Device(DEVICE_CPU), ZeroOutOp);"
   ]
  },
  {
   "cell_type": "raw",
   "id": "adjustable-investment",
   "metadata": {},
   "source": [
    "Key Point: Instances of your OpKernel may be accessed concurrently. Your Compute method must be thread-safe. Guard any access to class members with a mutex. Or better yet, don't share state via class members! Consider using a ResourceMgr to keep track of op state."
   ]
  },
  {
   "cell_type": "markdown",
   "id": "metallic-appointment",
   "metadata": {},
   "source": [
    "### i. Multi-threaded CPU kernels"
   ]
  },
  {
   "cell_type": "raw",
   "id": "discrete-harvest",
   "metadata": {},
   "source": [
    "To write a multi-threaded CPU kernel, the Shard function in work_sharder.h can be used. This function shards a computation function across the threads configured to be used for intra-op threading (see intra_op_parallelism_threads in config.proto)."
   ]
  },
  {
   "cell_type": "markdown",
   "id": "cultural-migration",
   "metadata": {},
   "source": [
    "### ii. GPU kernels"
   ]
  },
  {
   "cell_type": "raw",
   "id": "polar-mistake",
   "metadata": {},
   "source": [
    "A GPU kernel is implemented in two parts: the OpKernel and the CUDA kernel and its launch code.\n",
    "\n",
    "Sometimes the OpKernel implementation is common between a CPU and GPU kernel, such as around inspecting inputs and allocating outputs. In that case, a suggested implementation is to:\n",
    "\n",
    "- Define the OpKernel templated on the Device and the primitive type of the tensor.\n",
    "\n",
    "- To do the actual computation of the output, the Compute function calls a templated functor struct.\n",
    "\n",
    "- The specialization of that functor for the CPUDevice is defined in the same file, but the specialization for the GPUDevice is defined in a .cu.cc file, since it will be compiled with the CUDA compiler."
   ]
  },
  {
   "cell_type": "raw",
   "id": "revolutionary-boulder",
   "metadata": {},
   "source": [
    "Here is an example implementation."
   ]
  },
  {
   "cell_type": "code",
   "execution_count": null,
   "id": "appointed-timer",
   "metadata": {},
   "outputs": [],
   "source": [
    "// kernel_example.h\n",
    "#ifndef KERNEL_EXAMPLE_H_\n",
    "#define KERNEL_EXAMPLE_H_\n",
    "\n",
    "template <typename Device, typename T>\n",
    "struct ExampleFunctor {\n",
    "  void operator()(const Device& d, int size, const T* in, T* out);\n",
    "};\n",
    "\n",
    "#if GOOGLE_CUDA\n",
    "// Partially specialize functor for GpuDevice.\n",
    "template <typename T>\n",
    "struct ExampleFunctor<Eigen::GpuDevice, T> {\n",
    "  void operator()(const Eigen::GpuDevice& d, int size, const T* in, T* out);\n",
    "};\n",
    "#endif\n",
    "\n",
    "#endif KERNEL_EXAMPLE_H_"
   ]
  },
  {
   "cell_type": "code",
   "execution_count": null,
   "id": "vital-marina",
   "metadata": {},
   "outputs": [],
   "source": [
    "// kernel_example.cc\n",
    "#include \"kernel_example.h\"\n",
    "#include \"tensorflow/core/framework/op_kernel.h\"\n",
    "\n",
    "using namespace tensorflow;\n",
    "\n",
    "using CPUDevice = Eigen::ThreadPoolDevice;\n",
    "using GPUDevice = Eigen::GpuDevice;\n",
    "\n",
    "// CPU specialization of actual computation.\n",
    "template <typename T>\n",
    "struct ExampleFunctor<CPUDevice, T> {\n",
    "  void operator()(const CPUDevice& d, int size, const T* in, T* out) {\n",
    "    for (int i = 0; i < size; ++i) {\n",
    "      out[i] = 2 * in[i];\n",
    "    }\n",
    "  }\n",
    "};\n",
    "\n",
    "// OpKernel definition.\n",
    "// template parameter <T> is the datatype of the tensors.\n",
    "template <typename Device, typename T>\n",
    "class ExampleOp : public OpKernel {\n",
    " public:\n",
    "  explicit ExampleOp(OpKernelConstruction* context) : OpKernel(context) {}\n",
    "\n",
    "  void Compute(OpKernelContext* context) override {\n",
    "    // Grab the input tensor\n",
    "    const Tensor& input_tensor = context->input(0);\n",
    "\n",
    "    // Create an output tensor\n",
    "    Tensor* output_tensor = NULL;\n",
    "    OP_REQUIRES_OK(context, context->allocate_output(0, input_tensor.shape(),\n",
    "                                                     &output_tensor));\n",
    "\n",
    "    // Do the computation.\n",
    "    OP_REQUIRES(context, input_tensor.NumElements() <= tensorflow::kint32max,\n",
    "                errors::InvalidArgument(\"Too many elements in tensor\"));\n",
    "    ExampleFunctor<Device, T>()(\n",
    "        context->eigen_device<Device>(),\n",
    "        static_cast<int>(input_tensor.NumElements()),\n",
    "        input_tensor.flat<T>().data(),\n",
    "        output_tensor->flat<T>().data());\n",
    "  }\n",
    "};\n",
    "\n",
    "// Register the CPU kernels.\n",
    "#define REGISTER_CPU(T)                                          \\\n",
    "  REGISTER_KERNEL_BUILDER(                                       \\\n",
    "      Name(\"Example\").Device(DEVICE_CPU).TypeConstraint<T>(\"T\"), \\\n",
    "      ExampleOp<CPUDevice, T>);\n",
    "REGISTER_CPU(float);\n",
    "REGISTER_CPU(int32);\n",
    "\n",
    "// Register the GPU kernels.\n",
    "#ifdef GOOGLE_CUDA\n",
    "#define REGISTER_GPU(T)                                          \\\n",
    "  /* Declare explicit instantiations in kernel_example.cu.cc. */ \\\n",
    "  extern template class ExampleFunctor<GPUDevice, T>;            \\\n",
    "  REGISTER_KERNEL_BUILDER(                                       \\\n",
    "      Name(\"Example\").Device(DEVICE_GPU).TypeConstraint<T>(\"T\"), \\\n",
    "      ExampleOp<GPUDevice, T>);\n",
    "REGISTER_GPU(float);\n",
    "REGISTER_GPU(int32);\n",
    "#endif  // GOOGLE_CUDA"
   ]
  },
  {
   "cell_type": "code",
   "execution_count": null,
   "id": "coupled-innocent",
   "metadata": {},
   "outputs": [],
   "source": [
    "// kernel_example.cu.cc\n",
    "#ifdef GOOGLE_CUDA\n",
    "#define EIGEN_USE_GPU\n",
    "#include \"example.h\"\n",
    "#include \"tensorflow/core/util/gpu_kernel_helper.h\"\n",
    "\n",
    "using namespace tensorflow;\n",
    "\n",
    "using GPUDevice = Eigen::GpuDevice;\n",
    "\n",
    "// Define the CUDA kernel.\n",
    "template <typename T>\n",
    "__global__ void ExampleCudaKernel(const int size, const T* in, T* out) {\n",
    "  for (int i = blockIdx.x * blockDim.x + threadIdx.x; i < size;\n",
    "       i += blockDim.x * gridDim.x) {\n",
    "    out[i] = 2 * __ldg(in + i);\n",
    "  }\n",
    "}\n",
    "\n",
    "// Define the GPU implementation that launches the CUDA kernel.\n",
    "template <typename T>\n",
    "void ExampleFunctor<GPUDevice, T>::operator()(\n",
    "    const GPUDevice& d, int size, const T* in, T* out) {\n",
    "  // Launch the cuda kernel.\n",
    "  //\n",
    "  // See core/util/gpu_kernel_helper.h for example of computing\n",
    "  // block count and thread_per_block count.\n",
    "  int block_count = 1024;\n",
    "  int thread_per_block = 20;\n",
    "  ExampleCudaKernel<T>\n",
    "      <<<block_count, thread_per_block, 0, d.stream()>>>(size, in, out);\n",
    "}\n",
    "\n",
    "// Explicitly instantiate functors for the types of OpKernels registered.\n",
    "template struct ExampleFunctor<GPUDevice, float>;\n",
    "template struct ExampleFunctor<GPUDevice, int32>;\n",
    "\n",
    "#endif  // GOOGLE_CUDA"
   ]
  },
  {
   "cell_type": "markdown",
   "id": "engaging-karaoke",
   "metadata": {},
   "source": [
    "## 4. Build the op library"
   ]
  },
  {
   "cell_type": "markdown",
   "id": "familiar-wound",
   "metadata": {},
   "source": [
    "### i. Compile the op using your system compiler (TensorFlow binary installation)"
   ]
  },
  {
   "cell_type": "raw",
   "id": "ordinary-baghdad",
   "metadata": {},
   "source": [
    "You should be able to compile zero_out.cc with a C++ compiler such as g++ or clang available on your system. The binary PIP package installs the header files and the library that you need to compile your op in locations that are system specific. However, the TensorFlow python library provides the get_include function to get the header directory, and the get_lib directory has a shared object to link against. Here are the outputs of these functions on an Ubuntu machine."
   ]
  },
  {
   "cell_type": "code",
   "execution_count": null,
   "id": "dated-spice",
   "metadata": {},
   "outputs": [],
   "source": [
    "$ python\n",
    ">>> import tensorflow as tf\n",
    ">>> tf.sysconfig.get_include()\n",
    "'/usr/local/lib/python3.6/site-packages/tensorflow/include'\n",
    ">>> tf.sysconfig.get_lib()\n",
    "'/usr/local/lib/python3.6/site-packages/tensorflow'"
   ]
  },
  {
   "cell_type": "raw",
   "id": "mighty-atlantic",
   "metadata": {},
   "source": [
    "Assuming you have g++ installed, here is the sequence of commands you can use to compile your op into a dynamic library."
   ]
  },
  {
   "cell_type": "code",
   "execution_count": null,
   "id": "difficult-works",
   "metadata": {},
   "outputs": [],
   "source": [
    "TF_CFLAGS=( $(python -c 'import tensorflow as tf; print(\" \".join(tf.sysconfig.get_compile_flags()))') )\n",
    "TF_LFLAGS=( $(python -c 'import tensorflow as tf; print(\" \".join(tf.sysconfig.get_link_flags()))') )\n",
    "g++ -std=c++11 -shared zero_out.cc -o zero_out.so -fPIC ${TF_CFLAGS[@]} ${TF_LFLAGS[@]} -O2"
   ]
  },
  {
   "cell_type": "raw",
   "id": "unknown-castle",
   "metadata": {},
   "source": [
    "On macOS, the additional flag \"-undefined dynamic_lookup\" is required when building the .so file."
   ]
  },
  {
   "cell_type": "raw",
   "id": "upset-invite",
   "metadata": {},
   "source": [
    "Note on gcc version >=5: gcc uses the new C++ ABI since version 5. The binary pip packages available on the TensorFlow website are built with gcc4 that uses the older ABI. If you compile your op library with gcc>=5, add -D_GLIBCXX_USE_CXX11_ABI=0 to the command line to make the library compatible with the older abi."
   ]
  },
  {
   "cell_type": "markdown",
   "id": "planned-silver",
   "metadata": {},
   "source": [
    "### ii. Compile the op using bazel (TensorFlow source installation)"
   ]
  },
  {
   "cell_type": "raw",
   "id": "potential-laser",
   "metadata": {},
   "source": [
    "If you have TensorFlow sources installed, you can make use of TensorFlow's build system to compile your op. Place a BUILD file with following Bazel build rule in the tensorflow/core/user_ops directory."
   ]
  },
  {
   "cell_type": "code",
   "execution_count": null,
   "id": "exposed-sunrise",
   "metadata": {},
   "outputs": [],
   "source": [
    "load(\"//tensorflow:tensorflow.bzl\", \"tf_custom_op_library\")\n",
    "\n",
    "tf_custom_op_library(\n",
    "    name = \"zero_out.so\",\n",
    "    srcs = [\"zero_out.cc\"],\n",
    ")"
   ]
  },
  {
   "cell_type": "raw",
   "id": "combined-photography",
   "metadata": {},
   "source": [
    "Run the following command to build zero_out.so."
   ]
  },
  {
   "cell_type": "code",
   "execution_count": null,
   "id": "afraid-government",
   "metadata": {},
   "outputs": [],
   "source": [
    "$ bazel build --config opt //tensorflow/core/user_ops:zero_out.so"
   ]
  },
  {
   "cell_type": "raw",
   "id": "dirty-evening",
   "metadata": {},
   "source": [
    "Note: As explained above, if you are compiling with gcc>=5 add --cxxopt=\"-D_GLIBCXX_USE_CXX11_ABI=0\" to the Bazel command line arguments."
   ]
  },
  {
   "cell_type": "raw",
   "id": "twelve-cambodia",
   "metadata": {},
   "source": [
    "Note: Although you can create a shared library (a .so file) with the standard cc_library rule, we strongly recommend that you use the tf_custom_op_library macro. It adds some required dependencies, and performs checks to ensure that the shared library is compatible with TensorFlow's plugin loading mechanism."
   ]
  },
  {
   "cell_type": "markdown",
   "id": "functioning-sterling",
   "metadata": {},
   "source": [
    "## 5. Use the op in Python"
   ]
  },
  {
   "cell_type": "raw",
   "id": "exterior-vinyl",
   "metadata": {},
   "source": [
    "TensorFlow Python API provides the tf.load_op_library function to load the dynamic library and register the op with the TensorFlow framework. load_op_library returns a Python module that contains the Python wrappers for the op and the kernel. Thus, once you have built the op, you can do the following to run it from Python:"
   ]
  },
  {
   "cell_type": "code",
   "execution_count": null,
   "id": "banned-trouble",
   "metadata": {},
   "outputs": [],
   "source": [
    "import tensorflow as tf\n",
    "zero_out_module = tf.load_op_library('./zero_out.so')\n",
    "with tf.Session(''):\n",
    "  zero_out_module.zero_out([[1, 2], [3, 4]]).eval()\n",
    "\n",
    "# Prints\n",
    "array([[1, 0], [0, 0]], dtype=int32)"
   ]
  },
  {
   "cell_type": "raw",
   "id": "stupid-florist",
   "metadata": {},
   "source": [
    "Keep in mind, the generated function will be given a snake_case name (to comply with PEP8). So, if your op is named ZeroOut in the C++ files, the python function will be called zero_out."
   ]
  },
  {
   "cell_type": "raw",
   "id": "classical-estonia",
   "metadata": {},
   "source": [
    "To make the op available as a regular function import-able from a Python module, it maybe useful to have the load_op_library call in a Python source file as follows:"
   ]
  },
  {
   "cell_type": "code",
   "execution_count": null,
   "id": "christian-spanking",
   "metadata": {},
   "outputs": [],
   "source": [
    "import tensorflow as tf\n",
    "\n",
    "zero_out_module = tf.load_op_library('./zero_out.so')\n",
    "zero_out = zero_out_module.zero_out"
   ]
  },
  {
   "cell_type": "markdown",
   "id": "successful-university",
   "metadata": {},
   "source": [
    "## 6. Verify that the op works"
   ]
  },
  {
   "cell_type": "raw",
   "id": "defined-prerequisite",
   "metadata": {},
   "source": [
    "A good way to verify that you've successfully implemented your op is to write a test for it. Create the file zero_out_op_test.py with the contents:"
   ]
  },
  {
   "cell_type": "code",
   "execution_count": null,
   "id": "quarterly-marsh",
   "metadata": {},
   "outputs": [],
   "source": [
    "import tensorflow as tf\n",
    "\n",
    "class ZeroOutTest(tf.test.TestCase):\n",
    "  def testZeroOut(self):\n",
    "    zero_out_module = tf.load_op_library('./zero_out.so')\n",
    "    with self.test_session():\n",
    "      result = zero_out_module.zero_out([5, 4, 3, 2, 1])\n",
    "      self.assertAllEqual(result.eval(), [5, 0, 0, 0, 0])\n",
    "\n",
    "if __name__ == \"__main__\":\n",
    "  tf.test.main()"
   ]
  },
  {
   "cell_type": "raw",
   "id": "eight-greenhouse",
   "metadata": {},
   "source": [
    "Then run your test (assuming you have tensorflow installed):"
   ]
  },
  {
   "cell_type": "code",
   "execution_count": null,
   "id": "clinical-niagara",
   "metadata": {},
   "outputs": [],
   "source": [
    "$ python zero_out_op_test.py"
   ]
  },
  {
   "cell_type": "markdown",
   "id": "comprehensive-strategy",
   "metadata": {},
   "source": [
    "## 7. Build advanced features into your op"
   ]
  },
  {
   "cell_type": "raw",
   "id": "deluxe-solomon",
   "metadata": {},
   "source": [
    "Now that you know how to build a basic (and somewhat restricted) op and implementation, we'll look at some of the more complicated things you will typically need to build into your op. This includes:"
   ]
  },
  {
   "cell_type": "markdown",
   "id": "vertical-publicity",
   "metadata": {},
   "source": [
    "### i. Conditional checks and validation"
   ]
  },
  {
   "cell_type": "raw",
   "id": "lucky-austin",
   "metadata": {},
   "source": [
    "The example above assumed that the op applied to a tensor of any shape. What if it only applied to vectors? That means adding a check to the above OpKernel implementation."
   ]
  },
  {
   "cell_type": "code",
   "execution_count": null,
   "id": "bored-contrast",
   "metadata": {},
   "outputs": [],
   "source": [
    "  void Compute(OpKernelContext* context) override {\n",
    "    // Grab the input tensor\n",
    "    const Tensor& input_tensor = context->input(0);\n",
    "\n",
    "    OP_REQUIRES(context, TensorShapeUtils::IsVector(input_tensor.shape()),\n",
    "                errors::InvalidArgument(\"ZeroOut expects a 1-D vector.\"));\n",
    "    // ...\n",
    "  }"
   ]
  },
  {
   "cell_type": "raw",
   "id": "superb-floor",
   "metadata": {},
   "source": [
    "This asserts that the input is a vector, and returns having set the InvalidArgument status if it isn't. The OP_REQUIRES macro takes three arguments:\n",
    "\n",
    "- The context, which can either be an OpKernelContext or OpKernelConstruction pointer (see tensorflow/core/framework/op_kernel.h), for its SetStatus() method.\n",
    "\n",
    "- The condition. For example, there are functions for validating the shape of a tensor in tensorflow/core/framework/tensor_shape.h\n",
    "\n",
    "- The error itself, which is represented by a Status object, see tensorflow/core/lib/core/status.h. A Status has both a type (frequently InvalidArgument, but see the list of types) and a message. Functions for constructing an error may be found in tensorflow/core/lib/core/errors.h.\n",
    "\n",
    "\n",
    "Alternatively, if you want to test whether a Status object returned from some function is an error, and if so return it, use OP_REQUIRES_OK. Both of these macros return from the function on error."
   ]
  },
  {
   "cell_type": "markdown",
   "id": "underlying-sessions",
   "metadata": {},
   "source": [
    "### ii. Op registration"
   ]
  },
  {
   "cell_type": "markdown",
   "id": "applied-fruit",
   "metadata": {},
   "source": [
    "### Attrs"
   ]
  },
  {
   "cell_type": "raw",
   "id": "democratic-consistency",
   "metadata": {},
   "source": [
    "Ops can have attrs, whose values are set when the op is added to a graph. These are used to configure the op, and their values can be accessed both within the kernel implementation and in the types of inputs and outputs in the op registration. Prefer using an input instead of an attr when possible, since inputs are more flexible. This is because attrs are constants and must be defined at graph construction time. In contrast, inputs are Tensors whose values can be dynamic; that is, inputs can change every step, be set using a feed, etc. Attrs are used for things that can't be done with inputs: any configuration that affects the signature (number or type of inputs or outputs) or that can't change from step-to-step."
   ]
  },
  {
   "cell_type": "raw",
   "id": "collective-respect",
   "metadata": {},
   "source": [
    "You define an attr when you register the op, by specifying its name and type using the Attr method, which expects a spec of the form:"
   ]
  },
  {
   "cell_type": "code",
   "execution_count": null,
   "id": "copyrighted-hawaiian",
   "metadata": {},
   "outputs": [],
   "source": [
    "<name>: <attr-type-expr>"
   ]
  },
  {
   "cell_type": "raw",
   "id": "warming-polymer",
   "metadata": {},
   "source": [
    "where <name> begins with a letter and can be composed of alphanumeric characters and underscores, and <attr-type-expr> is a type expression of the form described below."
   ]
  },
  {
   "cell_type": "raw",
   "id": "premium-stage",
   "metadata": {},
   "source": [
    "For example, if you'd like the ZeroOut op to preserve a user-specified index, instead of only the 0th element, you can register the op like so:"
   ]
  },
  {
   "cell_type": "code",
   "execution_count": null,
   "id": "military-action",
   "metadata": {},
   "outputs": [],
   "source": [
    "REGISTER_OP(\"ZeroOut\")\n",
    "    .Attr(\"preserve_index: int\")\n",
    "    .Input(\"to_zero: int32\")\n",
    "    .Output(\"zeroed: int32\");"
   ]
  },
  {
   "cell_type": "raw",
   "id": "divine-conversation",
   "metadata": {},
   "source": [
    "(Note that the set of attribute types is different from the tf.DType used for inputs and outputs.)"
   ]
  },
  {
   "cell_type": "raw",
   "id": "sunset-vegetation",
   "metadata": {},
   "source": [
    "Your kernel can then access this attr in its constructor via the context parameter:"
   ]
  },
  {
   "cell_type": "code",
   "execution_count": null,
   "id": "appointed-police",
   "metadata": {},
   "outputs": [],
   "source": [
    "class ZeroOutOp : public OpKernel {\n",
    " public:\n",
    "  explicit ZeroOutOp(OpKernelConstruction* context) : OpKernel(context) {\n",
    "    // Get the index of the value to preserve\n",
    "    OP_REQUIRES_OK(context,\n",
    "                   context->GetAttr(\"preserve_index\", &preserve_index_));\n",
    "    // Check that preserve_index is positive\n",
    "    OP_REQUIRES(context, preserve_index_ >= 0,\n",
    "                errors::InvalidArgument(\"Need preserve_index >= 0, got \",\n",
    "                                        preserve_index_));\n",
    "  }\n",
    "  void Compute(OpKernelContext* context) override {\n",
    "    // ...\n",
    "  }\n",
    " private:\n",
    "  int preserve_index_;\n",
    "};"
   ]
  },
  {
   "cell_type": "raw",
   "id": "turned-budapest",
   "metadata": {},
   "source": [
    "which can then be used in the Compute method:"
   ]
  },
  {
   "cell_type": "code",
   "execution_count": null,
   "id": "monthly-prime",
   "metadata": {},
   "outputs": [],
   "source": [
    "  void Compute(OpKernelContext* context) override {\n",
    "    // ...\n",
    "\n",
    "    // We're using saved attr to validate potentially dynamic input\n",
    "    // So we check that preserve_index is in range\n",
    "    OP_REQUIRES(context, preserve_index_ < input.dimension(0),\n",
    "                errors::InvalidArgument(\"preserve_index out of range\"));\n",
    "\n",
    "    // Set all the elements of the output tensor to 0\n",
    "    const int N = input.size();\n",
    "    for (int i = 0; i < N; i++) {\n",
    "      output_flat(i) = 0;\n",
    "    }\n",
    "\n",
    "    // Preserve the requested input value\n",
    "    output_flat(preserve_index_) = input(preserve_index_);\n",
    "  }"
   ]
  },
  {
   "cell_type": "markdown",
   "id": "fantastic-expansion",
   "metadata": {},
   "source": [
    "### Attr types"
   ]
  },
  {
   "cell_type": "raw",
   "id": "cleared-assignment",
   "metadata": {},
   "source": [
    "The following types are supported in an attr:\n",
    "\n",
    "- string: Any sequence of bytes (not required to be UTF8).\n",
    "- int: A signed integer.\n",
    "- float: A floating point number.\n",
    "- bool: True or false.\n",
    "- type: One of the (non-ref) values of DataType.\n",
    "- shape: A TensorShapeProto.\n",
    "- list(<type>): A list of <type>, where <type> is one of the above types. Note that list(list(<type>)) is invalid.\n",
    "\n",
    "\n",
    "See also: op_def_builder.cc:FinalizeAttr for a definitive list."
   ]
  },
  {
   "cell_type": "markdown",
   "id": "civilian-burden",
   "metadata": {},
   "source": [
    "### Default values and constraints"
   ]
  },
  {
   "cell_type": "raw",
   "id": "searching-wiring",
   "metadata": {},
   "source": [
    "Attrs may have default values, and some types of attrs can have constraints. To define an attr with constraints, you can use the following <attr-type-expr>s:\n",
    "\n",
    "{'<string1>', '<string2>'}: The value must be a string that has either the value <string1> or <string2>. The name of the type, string, is implied when you use this syntax. This emulates an enum:"
   ]
  },
  {
   "cell_type": "code",
   "execution_count": null,
   "id": "official-maintenance",
   "metadata": {},
   "outputs": [],
   "source": [
    "REGISTER_OP(\"EnumExample\")\n",
    "    .Attr(\"e: {'apple', 'orange'}\");"
   ]
  },
  {
   "cell_type": "raw",
   "id": "familiar-protest",
   "metadata": {},
   "source": [
    "{<type1>, <type2>}: The value is of type type, and must be one of <type1> or <type2>, where <type1> and <type2> are supported tf.DType. You don't specify that the type of the attr is type. This is implied when you have a list of types in {...}. For example, in this case the attr t is a type that must be an int32, a float, or a bool:"
   ]
  },
  {
   "cell_type": "code",
   "execution_count": null,
   "id": "neural-albert",
   "metadata": {},
   "outputs": [],
   "source": [
    "REGISTER_OP(\"RestrictedTypeExample\")\n",
    "    .Attr(\"t: {int32, float, bool}\");"
   ]
  },
  {
   "cell_type": "raw",
   "id": "broke-dairy",
   "metadata": {},
   "source": [
    "There are shortcuts for common type constraints:\n",
    "\n",
    "- numbertype: Type type restricted to the numeric (non-string and non-bool) types.\n",
    "- realnumbertype: Like numbertype without complex types.\n",
    "- quantizedtype: Like numbertype but just the quantized number types.\n",
    "\n",
    "\n",
    "The specific lists of types allowed by these are defined by the functions (like NumberTypes()) in tensorflow/core/framework/types.h. In this example the attr t must be one of the numeric types:"
   ]
  },
  {
   "cell_type": "code",
   "execution_count": null,
   "id": "complicated-output",
   "metadata": {},
   "outputs": [],
   "source": [
    "REGISTER_OP(\"NumberType\")\n",
    "    .Attr(\"t: numbertype\");"
   ]
  },
  {
   "cell_type": "raw",
   "id": "operational-remains",
   "metadata": {},
   "source": [
    "For this op:"
   ]
  },
  {
   "cell_type": "code",
   "execution_count": null,
   "id": "characteristic-return",
   "metadata": {},
   "outputs": [],
   "source": [
    "tf.number_type(t=tf.int32)  # Valid\n",
    "tf.number_type(t=tf.bool)   # Invalid"
   ]
  },
  {
   "cell_type": "raw",
   "id": "static-camping",
   "metadata": {},
   "source": [
    "Lists can be combined with other lists and single types. The following op allows attr t to be any of the numeric types, or the bool type:"
   ]
  },
  {
   "cell_type": "code",
   "execution_count": null,
   "id": "corporate-attention",
   "metadata": {},
   "outputs": [],
   "source": [
    "REGISTER_OP(\"NumberOrBooleanType\")\n",
    "    .Attr(\"t: {numbertype, bool}\");"
   ]
  },
  {
   "cell_type": "raw",
   "id": "convenient-valentine",
   "metadata": {},
   "source": [
    "For this op:"
   ]
  },
  {
   "cell_type": "code",
   "execution_count": null,
   "id": "native-arnold",
   "metadata": {},
   "outputs": [],
   "source": [
    "tf.number_or_boolean_type(t=tf.int32)  # Valid\n",
    "tf.number_or_boolean_type(t=tf.bool)   # Valid\n",
    "tf.number_or_boolean_type(t=tf.string) # Invalid"
   ]
  },
  {
   "cell_type": "raw",
   "id": "apparent-facial",
   "metadata": {},
   "source": [
    "int >= <n>: The value must be an int whose value is greater than or equal to <n>, where <n> is a natural number. For example, the following op registration specifies that the attr a must have a value that is at least 2:"
   ]
  },
  {
   "cell_type": "code",
   "execution_count": null,
   "id": "beginning-baker",
   "metadata": {},
   "outputs": [],
   "source": [
    "REGISTER_OP(\"MinIntExample\")\n",
    "    .Attr(\"a: int >= 2\");"
   ]
  },
  {
   "cell_type": "raw",
   "id": "parliamentary-ridge",
   "metadata": {},
   "source": [
    "list(<type>) >= <n>: A list of type <type> whose length is greater than or equal to <n>. For example, the following op registration specifies that the attr a is a list of types (either int32 or float), and that there must be at least 3 of them:"
   ]
  },
  {
   "cell_type": "code",
   "execution_count": null,
   "id": "explicit-empty",
   "metadata": {},
   "outputs": [],
   "source": [
    "REGISTER_OP(\"TypeListExample\")\n",
    "    .Attr(\"a: list({int32, float}) >= 3\");"
   ]
  },
  {
   "cell_type": "raw",
   "id": "bigger-hunger",
   "metadata": {},
   "source": [
    "To set a default value for an attr (making it optional in the generated code), add = <default> to the end, as in:"
   ]
  },
  {
   "cell_type": "code",
   "execution_count": null,
   "id": "industrial-roots",
   "metadata": {},
   "outputs": [],
   "source": [
    "REGISTER_OP(\"AttrDefaultExample\")\n",
    "    .Attr(\"i: int = 0\");"
   ]
  },
  {
   "cell_type": "raw",
   "id": "regulated-ecuador",
   "metadata": {},
   "source": [
    "Additionally, both a constraint and a default value can be specified:"
   ]
  },
  {
   "cell_type": "code",
   "execution_count": null,
   "id": "focused-sending",
   "metadata": {},
   "outputs": [],
   "source": [
    "REGISTER_OP(\"AttrConstraintAndDefaultExample\")\n",
    "    .Attr(\"i: int >= 1 = 1\");"
   ]
  },
  {
   "cell_type": "raw",
   "id": "japanese-clearing",
   "metadata": {},
   "source": [
    "The supported syntax of the default value is what would be used in the proto representation of the resulting GraphDef definition."
   ]
  },
  {
   "cell_type": "raw",
   "id": "sexual-endorsement",
   "metadata": {},
   "source": [
    "Here are examples for how to specify a default for all types:"
   ]
  },
  {
   "cell_type": "code",
   "execution_count": null,
   "id": "quiet-stanley",
   "metadata": {},
   "outputs": [],
   "source": [
    "REGISTER_OP(\"AttrDefaultExampleForAllTypes\")\n",
    "   .Attr(\"s: string = 'foo'\")\n",
    "   .Attr(\"i: int = 0\")\n",
    "   .Attr(\"f: float = 1.0\")\n",
    "   .Attr(\"b: bool = true\")\n",
    "   .Attr(\"ty: type = DT_INT32\")\n",
    "   .Attr(\"sh: shape = { dim { size: 1 } dim { size: 2 } }\")\n",
    "   .Attr(\"te: tensor = { dtype: DT_INT32 int_val: 5 }\")\n",
    "   .Attr(\"l_empty: list(int) = []\")\n",
    "   .Attr(\"l_int: list(int) = [2, 3, 5, 7]\");"
   ]
  },
  {
   "cell_type": "raw",
   "id": "hollow-ceramic",
   "metadata": {},
   "source": [
    "Note in particular that the values of type type use tf.DType."
   ]
  },
  {
   "cell_type": "markdown",
   "id": "foster-tolerance",
   "metadata": {},
   "source": [
    "### Polymorphism"
   ]
  },
  {
   "cell_type": "markdown",
   "id": "dominant-stupid",
   "metadata": {},
   "source": [
    "#### Type polymorphism"
   ]
  },
  {
   "cell_type": "raw",
   "id": "incorporate-click",
   "metadata": {},
   "source": [
    "For ops that can take different types as input or produce different output types, you can specify an attr in an input or output type in the op registration. Typically you would then register an OpKernel for each supported type.\n",
    "\n",
    "For instance, if you'd like the ZeroOut op to work on floats in addition to int32s, your op registration might look like"
   ]
  },
  {
   "cell_type": "code",
   "execution_count": null,
   "id": "chicken-medium",
   "metadata": {},
   "outputs": [],
   "source": [
    "REGISTER_OP(\"ZeroOut\")\n",
    "    .Attr(\"T: {float, int32}\")\n",
    "    .Input(\"to_zero: T\")\n",
    "    .Output(\"zeroed: T\");"
   ]
  },
  {
   "cell_type": "raw",
   "id": "protected-archives",
   "metadata": {},
   "source": [
    "Your op registration now specifies that the input's type must be float, or int32, and that its output will be the same type, since both have type T."
   ]
  },
  {
   "cell_type": "markdown",
   "id": "favorite-communication",
   "metadata": {},
   "source": [
    "#### Naming"
   ]
  },
  {
   "cell_type": "raw",
   "id": "lovely-excellence",
   "metadata": {},
   "source": [
    "Inputs, outputs, and attrs generally should be given snake_case names. The one exception is attrs that are used as the type of an input or in the type of an output. Those attrs can be inferred when the op is added to the graph and so don't appear in the op's function. For example, this last definition of ZeroOut will generate a Python function that looks like:"
   ]
  },
  {
   "cell_type": "code",
   "execution_count": null,
   "id": "particular-reviewer",
   "metadata": {},
   "outputs": [],
   "source": [
    "def zero_out(to_zero, name=None):\n",
    "  \"\"\"...\n",
    "  Args:\n",
    "    to_zero: A `Tensor`. Must be one of the following types:\n",
    "        `float32`, `int32`.\n",
    "    name: A name for the operation (optional).\n",
    "\n",
    "  Returns:\n",
    "    A `Tensor`. Has the same type as `to_zero`.\n",
    "  \"\"\""
   ]
  },
  {
   "cell_type": "raw",
   "id": "chubby-advocate",
   "metadata": {},
   "source": [
    "If to_zero is passed an int32 tensor, then T is automatically set to int32 (well, actually DT_INT32). Those inferred attrs are given Capitalized or CamelCase names."
   ]
  },
  {
   "cell_type": "raw",
   "id": "engaging-stand",
   "metadata": {},
   "source": [
    "Compare this with an op that has a type attr that determines the output type:"
   ]
  },
  {
   "cell_type": "code",
   "execution_count": null,
   "id": "external-legislature",
   "metadata": {},
   "outputs": [],
   "source": [
    "REGISTER_OP(\"StringToNumber\")\n",
    "    .Input(\"string_tensor: string\")\n",
    "    .Output(\"output: out_type\")\n",
    "    .Attr(\"out_type: {float, int32} = DT_FLOAT\");\n",
    "    .Doc(R\"doc(\n",
    "Converts each string in the input Tensor to the specified numeric type.\n",
    ")doc\");"
   ]
  },
  {
   "cell_type": "raw",
   "id": "attached-dodge",
   "metadata": {},
   "source": [
    "In this case, the user has to specify the output type, as in the generated Python:"
   ]
  },
  {
   "cell_type": "code",
   "execution_count": null,
   "id": "wrapped-humidity",
   "metadata": {},
   "outputs": [],
   "source": [
    "def string_to_number(string_tensor, out_type=None, name=None):\n",
    "  \"\"\"Converts each string in the input Tensor to the specified numeric type.\n",
    "\n",
    "  Args:\n",
    "    string_tensor: A `Tensor` of type `string`.\n",
    "    out_type: An optional `tf.DType` from: `tf.float32, tf.int32`.\n",
    "      Defaults to `tf.float32`.\n",
    "    name: A name for the operation (optional).\n",
    "\n",
    "  Returns:\n",
    "    A `Tensor` of type `out_type`.\n",
    "  \"\"\""
   ]
  },
  {
   "cell_type": "markdown",
   "id": "modular-specific",
   "metadata": {},
   "source": [
    "#### ype polymorphism example"
   ]
  },
  {
   "cell_type": "code",
   "execution_count": null,
   "id": "derived-toronto",
   "metadata": {},
   "outputs": [],
   "source": [
    "#include \"tensorflow/core/framework/op_kernel.h\"\n",
    "\n",
    "class ZeroOutInt32Op : public OpKernel {\n",
    "  // as before\n",
    "};\n",
    "\n",
    "class ZeroOutFloatOp : public OpKernel {\n",
    " public:\n",
    "  explicit ZeroOutFloatOp(OpKernelConstruction* context)\n",
    "      : OpKernel(context) {}\n",
    "\n",
    "  void Compute(OpKernelContext* context) override {\n",
    "    // Grab the input tensor\n",
    "    const Tensor& input_tensor = context->input(0);\n",
    "    auto input = input_tensor.flat<float>();\n",
    "\n",
    "    // Create an output tensor\n",
    "    Tensor* output = NULL;\n",
    "    OP_REQUIRES_OK(context,\n",
    "                   context->allocate_output(0, input_tensor.shape(), &output));\n",
    "    auto output_flat = output->template flat<float>();\n",
    "\n",
    "    // Set all the elements of the output tensor to 0\n",
    "    const int N = input.size();\n",
    "    for (int i = 0; i < N; i++) {\n",
    "      output_flat(i) = 0;\n",
    "    }\n",
    "\n",
    "    // Preserve the first input value\n",
    "    if (N > 0) output_flat(0) = input(0);\n",
    "  }\n",
    "};\n",
    "\n",
    "// Note that TypeConstraint<int32>(\"T\") means that attr \"T\" (defined\n",
    "// in the op registration above) must be \"int32\" to use this template\n",
    "// instantiation.\n",
    "REGISTER_KERNEL_BUILDER(\n",
    "    Name(\"ZeroOut\")\n",
    "    .Device(DEVICE_CPU)\n",
    "    .TypeConstraint<int32>(\"T\"),\n",
    "    ZeroOutInt32Op);\n",
    "REGISTER_KERNEL_BUILDER(\n",
    "    Name(\"ZeroOut\")\n",
    "    .Device(DEVICE_CPU)\n",
    "    .TypeConstraint<float>(\"T\"),\n",
    "    ZeroOutFloatOp);"
   ]
  },
  {
   "cell_type": "raw",
   "id": "organized-meeting",
   "metadata": {},
   "source": [
    "To preserve backwards compatibility, you should specify a default value when adding an attr to an existing op:"
   ]
  },
  {
   "cell_type": "code",
   "execution_count": null,
   "id": "guided-knitting",
   "metadata": {},
   "outputs": [],
   "source": [
    "REGISTER_OP(\"ZeroOut\")\n",
    "  .Attr(\"T: {float, int32} = DT_INT32\")\n",
    "  .Input(\"to_zero: T\")\n",
    "  .Output(\"zeroed: T\")"
   ]
  },
  {
   "cell_type": "raw",
   "id": "possible-sleeve",
   "metadata": {},
   "source": [
    "Let's say you wanted to add more types, say double"
   ]
  },
  {
   "cell_type": "code",
   "execution_count": null,
   "id": "exposed-winner",
   "metadata": {},
   "outputs": [],
   "source": [
    "REGISTER_OP(\"ZeroOut\")\n",
    "    .Attr(\"T: {float, double, int32}\")\n",
    "    .Input(\"to_zero: T\")\n",
    "    .Output(\"zeroed: T\");"
   ]
  },
  {
   "cell_type": "raw",
   "id": "mobile-jenny",
   "metadata": {},
   "source": [
    "Instead of writing another OpKernel with redundant code as above, often you will be able to use a C++ template instead. You will still have one kernel registration (REGISTER_KERNEL_BUILDER call) per overload."
   ]
  },
  {
   "cell_type": "code",
   "execution_count": null,
   "id": "challenging-question",
   "metadata": {},
   "outputs": [],
   "source": [
    "template <typename T>\n",
    "class ZeroOutOp : public OpKernel {\n",
    " public:\n",
    "  explicit ZeroOutOp(OpKernelConstruction* context) : OpKernel(context) {}\n",
    "\n",
    "  void Compute(OpKernelContext* context) override {\n",
    "    // Grab the input tensor\n",
    "    const Tensor& input_tensor = context->input(0);\n",
    "    auto input = input_tensor.flat<T>();\n",
    "\n",
    "    // Create an output tensor\n",
    "    Tensor* output = NULL;\n",
    "    OP_REQUIRES_OK(context,\n",
    "                   context->allocate_output(0, input_tensor.shape(), &output));\n",
    "    auto output_flat = output->template flat<T>();\n",
    "\n",
    "    // Set all the elements of the output tensor to 0\n",
    "    const int N = input.size();\n",
    "    for (int i = 0; i < N; i++) {\n",
    "      output_flat(i) = 0;\n",
    "    }\n",
    "\n",
    "    // Preserve the first input value\n",
    "    if (N > 0) output_flat(0) = input(0);\n",
    "  }\n",
    "};\n",
    "\n",
    "// Note that TypeConstraint<int32>(\"T\") means that attr \"T\" (defined\n",
    "// in the op registration above) must be \"int32\" to use this template\n",
    "// instantiation.\n",
    "REGISTER_KERNEL_BUILDER(\n",
    "    Name(\"ZeroOut\")\n",
    "    .Device(DEVICE_CPU)\n",
    "    .TypeConstraint<int32>(\"T\"),\n",
    "    ZeroOutOp<int32>);\n",
    "REGISTER_KERNEL_BUILDER(\n",
    "    Name(\"ZeroOut\")\n",
    "    .Device(DEVICE_CPU)\n",
    "    .TypeConstraint<float>(\"T\"),\n",
    "    ZeroOutOp<float>);\n",
    "REGISTER_KERNEL_BUILDER(\n",
    "    Name(\"ZeroOut\")\n",
    "    .Device(DEVICE_CPU)\n",
    "    .TypeConstraint<double>(\"T\"),\n",
    "    ZeroOutOp<double>);"
   ]
  },
  {
   "cell_type": "raw",
   "id": "noticed-superintendent",
   "metadata": {},
   "source": [
    "If you have more than a couple overloads, you can put the registration in a macro."
   ]
  },
  {
   "cell_type": "code",
   "execution_count": null,
   "id": "blind-productivity",
   "metadata": {},
   "outputs": [],
   "source": [
    "#include \"tensorflow/core/framework/op_kernel.h\"\n",
    "\n",
    "#define REGISTER_KERNEL(type)                                       \\\n",
    "  REGISTER_KERNEL_BUILDER(                                          \\\n",
    "      Name(\"ZeroOut\").Device(DEVICE_CPU).TypeConstraint<type>(\"T\"), \\\n",
    "      ZeroOutOp<type>)\n",
    "\n",
    "REGISTER_KERNEL(int32);\n",
    "REGISTER_KERNEL(float);\n",
    "REGISTER_KERNEL(double);\n",
    "\n",
    "#undef REGISTER_KERNEL"
   ]
  },
  {
   "cell_type": "raw",
   "id": "residential-democracy",
   "metadata": {},
   "source": [
    "Depending on the list of types you are registering the kernel for, you may be able to use a macro provided by tensorflow/core/framework/register_types.h:"
   ]
  },
  {
   "cell_type": "code",
   "execution_count": null,
   "id": "artistic-carpet",
   "metadata": {},
   "outputs": [],
   "source": [
    "#include \"tensorflow/core/framework/op_kernel.h\"\n",
    "#include \"tensorflow/core/framework/register_types.h\"\n",
    "\n",
    "REGISTER_OP(\"ZeroOut\")\n",
    "    .Attr(\"T: realnumbertype\")\n",
    "    .Input(\"to_zero: T\")\n",
    "    .Output(\"zeroed: T\");\n",
    "\n",
    "template <typename T>\n",
    "class ZeroOutOp : public OpKernel { ... };\n",
    "\n",
    "#define REGISTER_KERNEL(type)                                       \\\n",
    "  REGISTER_KERNEL_BUILDER(                                          \\\n",
    "      Name(\"ZeroOut\").Device(DEVICE_CPU).TypeConstraint<type>(\"T\"), \\\n",
    "      ZeroOutOp<type>)\n",
    "\n",
    "TF_CALL_REAL_NUMBER_TYPES(REGISTER_KERNEL);\n",
    "\n",
    "#undef REGISTER_KERNEL"
   ]
  },
  {
   "cell_type": "markdown",
   "id": "choice-viewer",
   "metadata": {},
   "source": [
    "### List inputs and outputs"
   ]
  },
  {
   "cell_type": "raw",
   "id": "chief-labor",
   "metadata": {},
   "source": [
    "In addition to being able to accept or produce different types, ops can consume or produce a variable number of tensors.\n",
    "\n",
    "In the next example, the attr T holds a list of types, and is used as the type of both the input in and the output out. The input and output are lists of tensors of that type (and the number and types of tensors in the output are the same as the input, since both have type T)."
   ]
  },
  {
   "cell_type": "code",
   "execution_count": null,
   "id": "fossil-colleague",
   "metadata": {},
   "outputs": [],
   "source": [
    "REGISTER_OP(\"PolymorphicListExample\")\n",
    "    .Attr(\"T: list(type)\")\n",
    "    .Input(\"in: T\")\n",
    "    .Output(\"out: T\");"
   ]
  },
  {
   "cell_type": "raw",
   "id": "revolutionary-consistency",
   "metadata": {},
   "source": [
    "You can also place restrictions on what types can be specified in the list. In this next case, the input is a list of float and double tensors. The op accepts, for example, input types (float, double, float) and in that case the output type would also be (float, double, float)."
   ]
  },
  {
   "cell_type": "code",
   "execution_count": null,
   "id": "annual-league",
   "metadata": {},
   "outputs": [],
   "source": [
    "REGISTER_OP(\"ListTypeRestrictionExample\")\n",
    "    .Attr(\"T: list({float, double})\")\n",
    "    .Input(\"in: T\")\n",
    "    .Output(\"out: T\");"
   ]
  },
  {
   "cell_type": "raw",
   "id": "third-theme",
   "metadata": {},
   "source": [
    "If you want all the tensors in a list to be of the same type, you might do something like:"
   ]
  },
  {
   "cell_type": "code",
   "execution_count": null,
   "id": "geographic-montreal",
   "metadata": {},
   "outputs": [],
   "source": [
    "REGISTER_OP(\"IntListInputExample\")\n",
    "    .Attr(\"N: int\")\n",
    "    .Input(\"in: N * int32\")\n",
    "    .Output(\"out: int32\");"
   ]
  },
  {
   "cell_type": "raw",
   "id": "marked-spring",
   "metadata": {},
   "source": [
    "This accepts a list of int32 tensors, and uses an int attr N to specify the length of the list.\n",
    "\n",
    "This can be made type polymorphic as well. In the next example, the input is a list of tensors (with length \"N\") of the same (but unspecified) type (\"T\"), and the output is a single tensor of matching type:"
   ]
  },
  {
   "cell_type": "code",
   "execution_count": null,
   "id": "exotic-hacker",
   "metadata": {},
   "outputs": [],
   "source": [
    "REGISTER_OP(\"SameListInputExample\")\n",
    "    .Attr(\"N: int\")\n",
    "    .Attr(\"T: type\")\n",
    "    .Input(\"in: N * T\")\n",
    "    .Output(\"out: T\");"
   ]
  },
  {
   "cell_type": "raw",
   "id": "behavioral-allen",
   "metadata": {},
   "source": [
    "By default, tensor lists have a minimum length of 1. You can change that default using a \">=\" constraint on the corresponding attr. In this next example, the input is a list of at least 2 int32 tensors:"
   ]
  },
  {
   "cell_type": "code",
   "execution_count": null,
   "id": "miniature-shelter",
   "metadata": {},
   "outputs": [],
   "source": [
    "REGISTER_OP(\"MinLengthIntListExample\")\n",
    "    .Attr(\"N: int >= 2\")\n",
    "    .Input(\"in: N * int32\")\n",
    "    .Output(\"out: int32\");"
   ]
  },
  {
   "cell_type": "raw",
   "id": "durable-large",
   "metadata": {},
   "source": [
    "The same syntax works with \"list(type)\" attrs:"
   ]
  },
  {
   "cell_type": "code",
   "execution_count": null,
   "id": "innocent-shopping",
   "metadata": {},
   "outputs": [],
   "source": [
    "REGISTER_OP(\"MinimumLengthPolymorphicListExample\")\n",
    "    .Attr(\"T: list(type) >= 3\")\n",
    "    .Input(\"in: T\")\n",
    "    .Output(\"out: T\");"
   ]
  },
  {
   "cell_type": "markdown",
   "id": "toxic-function",
   "metadata": {},
   "source": [
    "### Inputs and outputs"
   ]
  },
  {
   "cell_type": "raw",
   "id": "expanded-generator",
   "metadata": {},
   "source": [
    "To summarize the above, an op registration can have multiple inputs and outputs:"
   ]
  },
  {
   "cell_type": "code",
   "execution_count": null,
   "id": "dedicated-termination",
   "metadata": {},
   "outputs": [],
   "source": [
    "REGISTER_OP(\"MultipleInsAndOuts\")\n",
    "    .Input(\"y: int32\")\n",
    "    .Input(\"z: float\")\n",
    "    .Output(\"a: string\")\n",
    "    .Output(\"b: int32\");"
   ]
  },
  {
   "cell_type": "raw",
   "id": "correct-bridges",
   "metadata": {},
   "source": [
    "Each input or output spec is of the form:"
   ]
  },
  {
   "cell_type": "code",
   "execution_count": null,
   "id": "educated-agenda",
   "metadata": {},
   "outputs": [],
   "source": [
    "<name>: <io-type-expr>"
   ]
  },
  {
   "cell_type": "raw",
   "id": "funny-humanity",
   "metadata": {},
   "source": [
    "where <name> begins with a letter and can be composed of alphanumeric characters and underscores. <io-type-expr> is one of the following type expressions:\n",
    "\n",
    "<type>, where <type> is a supported input type (e.g. float, int32, string). This specifies a single tensor of the given type.\n",
    "\n",
    "See tf.DType."
   ]
  },
  {
   "cell_type": "code",
   "execution_count": null,
   "id": "norman-borough",
   "metadata": {},
   "outputs": [],
   "source": [
    "REGISTER_OP(\"BuiltInTypesExample\")\n",
    "    .Input(\"integers: int32\")\n",
    "    .Input(\"complex_numbers: complex64\");"
   ]
  },
  {
   "cell_type": "raw",
   "id": "specific-format",
   "metadata": {},
   "source": [
    "<attr-type>, where <attr-type> is the name of an Attr with type type or list(type) (with a possible type restriction). This syntax allows for polymorphic ops."
   ]
  },
  {
   "cell_type": "code",
   "execution_count": null,
   "id": "buried-invitation",
   "metadata": {},
   "outputs": [],
   "source": [
    "REGISTER_OP(\"PolymorphicSingleInput\")\n",
    "    .Attr(\"T: type\")\n",
    "    .Input(\"in: T\");\n",
    "\n",
    "REGISTER_OP(\"RestrictedPolymorphicSingleInput\")\n",
    "    .Attr(\"T: {int32, int64}\")\n",
    "    .Input(\"in: T\");"
   ]
  },
  {
   "cell_type": "raw",
   "id": "laden-scope",
   "metadata": {},
   "source": [
    "Referencing an attr of type list(type) allows you to accept a sequence of tensors."
   ]
  },
  {
   "cell_type": "code",
   "execution_count": null,
   "id": "filled-scoop",
   "metadata": {},
   "outputs": [],
   "source": [
    "REGISTER_OP(\"ArbitraryTensorSequenceExample\")\n",
    "    .Attr(\"T: list(type)\")\n",
    "    .Input(\"in: T\")\n",
    "    .Output(\"out: T\");\n",
    "\n",
    "REGISTER_OP(\"RestrictedTensorSequenceExample\")\n",
    "    .Attr(\"T: list({int32, int64})\")\n",
    "    .Input(\"in: T\")\n",
    "    .Output(\"out: T\");"
   ]
  },
  {
   "cell_type": "raw",
   "id": "apparent-hunter",
   "metadata": {},
   "source": [
    "Note that the number and types of tensors in the output out is the same as in the input in, since both are of type T."
   ]
  },
  {
   "cell_type": "raw",
   "id": "forbidden-novel",
   "metadata": {},
   "source": [
    "For a sequence of tensors with the same type: <number> * <type>, where <number> is the name of an Attr with type int. The <type> can either be a tf.DType, or the name of an attr with type type. As an example of the first, this op accepts a list of int32 tensors:"
   ]
  },
  {
   "cell_type": "code",
   "execution_count": null,
   "id": "tropical-wrapping",
   "metadata": {},
   "outputs": [],
   "source": [
    "REGISTER_OP(\"Int32SequenceExample\")\n",
    "    .Attr(\"NumTensors: int\")\n",
    "    .Input(\"in: NumTensors * int32\")"
   ]
  },
  {
   "cell_type": "raw",
   "id": "genetic-bracelet",
   "metadata": {},
   "source": [
    "Whereas this op accepts a list of tensors of any type, as long as they are all the same:"
   ]
  },
  {
   "cell_type": "code",
   "execution_count": null,
   "id": "collectible-subject",
   "metadata": {},
   "outputs": [],
   "source": [
    "REGISTER_OP(\"SameTypeSequenceExample\")\n",
    "    .Attr(\"NumTensors: int\")\n",
    "    .Attr(\"T: type\")\n",
    "    .Input(\"in: NumTensors * T\")"
   ]
  },
  {
   "cell_type": "raw",
   "id": "threatened-framework",
   "metadata": {},
   "source": [
    "For a reference to a tensor: Ref(<type>), where <type> is one of the previous types."
   ]
  },
  {
   "cell_type": "raw",
   "id": "integrated-terror",
   "metadata": {},
   "source": [
    "Any attr used in the type of an input will be inferred. By convention those inferred attrs use capital names (like T or N). Otherwise inputs, outputs, and attrs have names like function parameters (e.g. num_outputs). For more details, see the earlier section on naming.\n",
    "\n",
    "For more details, see tensorflow/core/framework/op_def_builder.h."
   ]
  },
  {
   "cell_type": "markdown",
   "id": "located-montreal",
   "metadata": {},
   "source": [
    "### Backwards compatibility"
   ]
  },
  {
   "cell_type": "raw",
   "id": "filled-technical",
   "metadata": {},
   "source": [
    "Let's assume you have written a nice, custom op and shared it with others, so you have happy customers using your operation. However, you'd like to make changes to the op in some way.\n",
    "\n",
    "In general, changes to existing, checked-in specifications must be backwards-compatible: changing the specification of an op must not break prior serialized GraphDef protocol buffers constructed from older specifications. The details of GraphDef compatibility are described here.\n",
    "\n",
    "There are several ways to preserve backwards-compatibility."
   ]
  },
  {
   "cell_type": "raw",
   "id": "fresh-toddler",
   "metadata": {},
   "source": [
    "1. Any new attrs added to an operation must have default values defined, and with that default value the op must have the original behavior. To change an operation from not polymorphic to polymorphic, you must give a default value to the new type attr to preserve the original signature by default. For example, if your operation was:"
   ]
  },
  {
   "cell_type": "code",
   "execution_count": null,
   "id": "therapeutic-fiction",
   "metadata": {},
   "outputs": [],
   "source": [
    "REGISTER_OP(\"MyGeneralUnaryOp\")\n",
    "    .Input(\"in: float\")\n",
    "    .Output(\"out: float\");"
   ]
  },
  {
   "cell_type": "raw",
   "id": "measured-numbers",
   "metadata": {},
   "source": [
    "you can make it polymorphic in a backwards-compatible way using:"
   ]
  },
  {
   "cell_type": "code",
   "execution_count": null,
   "id": "outer-permission",
   "metadata": {},
   "outputs": [],
   "source": [
    "REGISTER_OP(\"MyGeneralUnaryOp\")\n",
    "    .Input(\"in: T\")\n",
    "    .Output(\"out: T\")\n",
    "    .Attr(\"T: numerictype = DT_FLOAT\");"
   ]
  },
  {
   "cell_type": "raw",
   "id": "advisory-october",
   "metadata": {},
   "source": [
    "2. You can safely make a constraint on an attr less restrictive. For example, you can change from {int32, int64} to {int32, int64, float} or type. Or you may change from {\"apple\", \"orange\"} to {\"apple\", \"banana\", \"orange\"} or string.\n",
    "\n",
    "3. You can change single inputs / outputs into list inputs / outputs, as long as the default for the list type matches the old signature.\n",
    "\n",
    "4. You can add a new list input / output, if it defaults to empty.\n",
    "\n",
    "5. Namespace any new ops you create, by prefixing the op names with something unique to your project. This avoids having your op colliding with any ops that might be included in future versions of TensorFlow.\n",
    "\n",
    "6. Plan ahead! Try to anticipate future uses for the op. Some signature changes can't be done in a compatible way (for example, making a list of the same type into a list of varying types)."
   ]
  },
  {
   "cell_type": "raw",
   "id": "beginning-quantum",
   "metadata": {},
   "source": [
    "The full list of safe and unsafe changes can be found in tensorflow/core/framework/op_compatibility_test.cc. If you cannot make your change to an operation backwards compatible, then create a new operation with a new name with the new semantics.\n",
    "\n",
    "Also note that while these changes can maintain GraphDef compatibility, the generated Python code may change in a way that isn't compatible with old callers. The Python API may be kept compatible by careful changes in a hand-written Python wrapper, by keeping the old signature except possibly adding new optional arguments to the end. Generally incompatible changes may only be made when TensorFlow changes major versions, and must conform to the GraphDef version semantics."
   ]
  },
  {
   "cell_type": "markdown",
   "id": "primary-surprise",
   "metadata": {},
   "source": [
    "### iii. GPU support"
   ]
  },
  {
   "cell_type": "raw",
   "id": "blind-infection",
   "metadata": {},
   "source": [
    "You can implement different OpKernels and register one for CPU and another for GPU, just like you can register kernels for different types. There are several examples of kernels with GPU support in tensorflow/core/kernels/. Notice some kernels have a CPU version in a .cc file, a GPU version in a file ending in _gpu.cu.cc, and some code shared in common in a .h file.\n",
    "\n",
    "For example, the tf.pad has everything but the GPU kernel in tensorflow/core/kernels/pad_op.cc. The GPU kernel is in tensorflow/core/kernels/pad_op_gpu.cu.cc, and the shared code is a templated class defined in tensorflow/core/kernels/pad_op.h. We organize the code this way for two reasons: it allows you to share common code among the CPU and GPU implementations, and it puts the GPU implementation into a separate file so that it can be compiled only by the GPU compiler."
   ]
  },
  {
   "cell_type": "raw",
   "id": "intense-point",
   "metadata": {},
   "source": [
    "One thing to note, even when the GPU kernel version of pad is used, it still needs its \"paddings\" input in CPU memory. To mark that inputs or outputs are kept on the CPU, add a HostMemory() call to the kernel registration, e.g.:"
   ]
  },
  {
   "cell_type": "code",
   "execution_count": null,
   "id": "absent-folder",
   "metadata": {},
   "outputs": [],
   "source": [
    "#define REGISTER_GPU_KERNEL(T)                         \\\n",
    "  REGISTER_KERNEL_BUILDER(Name(\"Pad\")                  \\\n",
    "                              .Device(DEVICE_GPU)      \\\n",
    "                              .TypeConstraint<T>(\"T\")  \\\n",
    "                              .HostMemory(\"paddings\"), \\\n",
    "                          PadOp<GPUDevice, T>)"
   ]
  },
  {
   "cell_type": "markdown",
   "id": "portuguese-startup",
   "metadata": {},
   "source": [
    "### Compiling the kernel for the GPU device"
   ]
  },
  {
   "cell_type": "raw",
   "id": "suited-lunch",
   "metadata": {},
   "source": [
    "Look at cuda_op_kernel.cu.cc for an example that uses a CUDA kernel to implement an op. The tf_custom_op_library accepts a gpu_srcs argument in which the list of source files containing the CUDA kernels (*.cu.cc files) can be specified. For use with a binary installation of TensorFlow, the CUDA kernels have to be compiled with NVIDIA's nvcc compiler. Here is the sequence of commands you can use to compile the cuda_op_kernel.cu.cc and cuda_op_kernel.cc into a single dynamically loadable library:"
   ]
  },
  {
   "cell_type": "code",
   "execution_count": null,
   "id": "first-pointer",
   "metadata": {},
   "outputs": [],
   "source": [
    "nvcc -std=c++11 -c -o cuda_op_kernel.cu.o cuda_op_kernel.cu.cc \\\n",
    "  ${TF_CFLAGS[@]} -D GOOGLE_CUDA=1 -x cu -Xcompiler -fPIC\n",
    "\n",
    "g++ -std=c++11 -shared -o cuda_op_kernel.so cuda_op_kernel.cc \\\n",
    "  cuda_op_kernel.cu.o ${TF_CFLAGS[@]} -fPIC -lcudart ${TF_LFLAGS[@]}"
   ]
  },
  {
   "cell_type": "raw",
   "id": "blank-hazard",
   "metadata": {},
   "source": [
    "cuda_op_kernel.so produced above can be loaded as usual in Python, using the tf.load_op_library function.\n",
    "\n",
    "Note that if your CUDA libraries are not installed in /usr/local/lib64, you'll need to specify the path explicitly in the second (g++) command above. For example, add -L /usr/local/cuda-8.0/lib64/ if your CUDA is installed in /usr/local/cuda-8.0."
   ]
  },
  {
   "cell_type": "raw",
   "id": "substantial-child",
   "metadata": {},
   "source": [
    "Note: In some Linux settings, additional options to nvcc compiling step are needed. Add -D_MWAITXINTRIN_H_INCLUDED to the nvcc command line to avoid errors from mwaitxintrin.h."
   ]
  },
  {
   "cell_type": "markdown",
   "id": "decreased-politics",
   "metadata": {},
   "source": [
    "### iv. Implement the gradient in Python"
   ]
  },
  {
   "cell_type": "raw",
   "id": "blind-slope",
   "metadata": {},
   "source": [
    "Given a graph of ops, TensorFlow uses automatic differentiation (backpropagation) to add new ops representing gradients with respect to the existing ops. To make automatic differentiation work for new ops, you must register a gradient function which computes gradients with respect to the ops' inputs given gradients with respect to the ops' outputs.\n",
    "\n",
    "Mathematically, if an op computes  the registered gradient op converts gradients  of loss  with respect to  into gradients  with respect to  via the chain rule:\n",
    "\n",
    "In the case of ZeroOut, only one entry in the input affects the output, so the gradient with respect to the input is a sparse \"one hot\" tensor. This is expressed as follows:"
   ]
  },
  {
   "cell_type": "code",
   "execution_count": null,
   "id": "limiting-azerbaijan",
   "metadata": {},
   "outputs": [],
   "source": [
    "from tensorflow.python.framework import ops\n",
    "from tensorflow.python.ops import array_ops\n",
    "from tensorflow.python.ops import sparse_ops\n",
    "\n",
    "@ops.RegisterGradient(\"ZeroOut\")\n",
    "def _zero_out_grad(op, grad):\n",
    "  \"\"\"The gradients for `zero_out`.\n",
    "\n",
    "  Args:\n",
    "    op: The `zero_out` `Operation` that we are differentiating, which we can use\n",
    "      to find the inputs and outputs of the original op.\n",
    "    grad: Gradient with respect to the output of the `zero_out` op.\n",
    "\n",
    "  Returns:\n",
    "    Gradients with respect to the input of `zero_out`.\n",
    "  \"\"\"\n",
    "  to_zero = op.inputs[0]\n",
    "  shape = array_ops.shape(to_zero)\n",
    "  index = array_ops.zeros_like(shape)\n",
    "  first_grad = array_ops.reshape(grad, [-1])[0]\n",
    "  to_zero_grad = sparse_ops.sparse_to_dense([index], shape, first_grad, 0)\n",
    "  return [to_zero_grad]  # List of one Tensor, since we have one input"
   ]
  },
  {
   "cell_type": "raw",
   "id": "military-briefs",
   "metadata": {},
   "source": [
    "Details about registering gradient functions with tf.RegisterGradient:\n",
    "\n",
    "- For an op with one output, the gradient function will take an tf.Operation, op, and a tf.Tensor grad and build new ops out of the tensors op.inputs[i], op.outputs[i], and grad. Information about any attrs can be found via tf.Operation.get_attr.\n",
    "\n",
    "- If the op has multiple outputs, the gradient function will take op and grads, where grads is a list of gradients with respect to each output. The result of the gradient function must be a list of Tensor objects representing the gradients with respect to each input.\n",
    "\n",
    "- If there is no well-defined gradient for some input, such as for integer inputs used as indices, the corresponding returned gradient should be None. For example, for an op taking a floating point tensor x and an integer index i, the gradient function would return [x_grad, None].\n",
    "\n",
    "- If there is no meaningful gradient for the op at all, you often will not have to register any gradient, and as long as the op's gradient is never needed, you will be fine. In some cases, an op has no well-defined gradient but can be involved in the computation of the gradient. Here you can use ops.NotDifferentiable to automatically propagate zeros backwards.\n",
    "\n",
    "\n",
    "\n",
    "Note that at the time the gradient function is called, only the data flow graph of ops is available, not the tensor data itself. Thus, all computation must be performed using other tensorflow ops, to be run at graph execution time.`"
   ]
  },
  {
   "cell_type": "markdown",
   "id": "fitted-official",
   "metadata": {},
   "source": [
    "### v. Shape functions in C++"
   ]
  },
  {
   "cell_type": "raw",
   "id": "earned-tamil",
   "metadata": {},
   "source": [
    "The TensorFlow API has a feature called \"shape inference\" that provides information about the shapes of tensors without having to execute the graph. Shape inference is supported by \"shape functions\" that are registered for each op type in the C++ REGISTER_OP declaration, and perform two roles: asserting that the shapes of the inputs are compatible during graph construction, and specifying the shapes for the outputs."
   ]
  },
  {
   "cell_type": "raw",
   "id": "elementary-advocate",
   "metadata": {},
   "source": [
    "Shape functions are defined as operations on the shape_inference::InferenceContext class. For example, in the shape function for ZeroOut:"
   ]
  },
  {
   "cell_type": "code",
   "execution_count": null,
   "id": "future-commander",
   "metadata": {},
   "outputs": [],
   "source": [
    "    .SetShapeFn([](::tensorflow::shape_inference::InferenceContext* c) {\n",
    "      c->set_output(0, c->input(0));\n",
    "      return Status::OK();\n",
    "    });"
   ]
  },
  {
   "cell_type": "raw",
   "id": "greek-walnut",
   "metadata": {},
   "source": [
    "c->set_output(0, c->input(0)); declares that the first output's shape should be set to the first input's shape. If the output is selected by its index as in the above example, the second parameter of set_output should be a ShapeHandle object. You can create an empty ShapeHandle object by its default constructor. The ShapeHandle object for an input with index idx can be obtained by c->input(idx)."
   ]
  },
  {
   "cell_type": "raw",
   "id": "stone-actress",
   "metadata": {},
   "source": [
    "There are a number of common shape functions that apply to many ops, such as shape_inference::UnchangedShape which can be found in common_shape_fns.h and used as follows:"
   ]
  },
  {
   "cell_type": "code",
   "execution_count": null,
   "id": "stock-defense",
   "metadata": {},
   "outputs": [],
   "source": [
    "REGISTER_OP(\"ZeroOut\")\n",
    "    .Input(\"to_zero: int32\")\n",
    "    .Output(\"zeroed: int32\")\n",
    "    .SetShapeFn(::tensorflow::shape_inference::UnchangedShape);"
   ]
  },
  {
   "cell_type": "raw",
   "id": "foreign-canvas",
   "metadata": {},
   "source": [
    "A shape function can also constrain the shape of an input. For the version of ZeroOut with a vector shape constraint, the shape function would be as follows:"
   ]
  },
  {
   "cell_type": "code",
   "execution_count": null,
   "id": "indoor-benefit",
   "metadata": {},
   "outputs": [],
   "source": [
    "    .SetShapeFn([](::tensorflow::shape_inference::InferenceContext* c) {\n",
    "      ::tensorflow::shape_inference::ShapeHandle input;\n",
    "      TF_RETURN_IF_ERROR(c->WithRank(c->input(0), 1, &input));\n",
    "      c->set_output(0, input);\n",
    "      return Status::OK();\n",
    "    });"
   ]
  },
  {
   "cell_type": "raw",
   "id": "improving-participation",
   "metadata": {},
   "source": [
    "The WithRank call validates that the input shape c->input(0) has a shape with exactly one dimension (or if the input shape is unknown, the output shape will be a vector with one unknown dimension).\n",
    "\n",
    "If your op is polymorphic with multiple inputs, you can use members of InferenceContext to determine the number of shapes to check, and Merge to validate that the shapes are all compatible (alternatively, access attributes that indicate the lengths, with InferenceContext::GetAttr, which provides access to the attributes of the op)."
   ]
  },
  {
   "cell_type": "code",
   "execution_count": null,
   "id": "nonprofit-creativity",
   "metadata": {},
   "outputs": [],
   "source": [
    "    .SetShapeFn([](::tensorflow::shape_inference::InferenceContext* c) {\n",
    "      ::tensorflow::shape_inference::ShapeHandle input;\n",
    "      ::tensorflow::shape_inference::ShapeHandle output;\n",
    "      for (size_t i = 0; i < c->num_inputs(); ++i) {\n",
    "        TF_RETURN_IF_ERROR(c->WithRank(c->input(i), 2, &input));\n",
    "        TF_RETURN_IF_ERROR(c->Merge(output, input, &output));\n",
    "      }\n",
    "      c->set_output(0, output);\n",
    "      return Status::OK();\n",
    "    });"
   ]
  },
  {
   "cell_type": "raw",
   "id": "opening-engine",
   "metadata": {},
   "source": [
    "Since shape inference is an optional feature, and the shapes of tensors may vary dynamically, shape functions must be robust to incomplete shape information for any of the inputs. The Merge method in InferenceContext allows the caller to assert that two shapes are the same, even if either or both of them do not have complete information. Shape functions are defined for all of the core TensorFlow ops and provide many different usage examples.\n",
    "\n",
    "The InferenceContext class has a number of functions that can be used to define shape function manipulations. For example, you can validate that a particular dimension has a very specific value using InferenceContext::Dim and InferenceContext::WithValue; you can specify that an output dimension is the sum / product of two input dimensions using InferenceContext::Add and InferenceContext::Multiply. See the InferenceContext class for all of the various shape manipulations you can specify. The following example sets shape of the first output to (n, 3), where first input has shape (n, ...)"
   ]
  },
  {
   "cell_type": "code",
   "execution_count": null,
   "id": "guilty-broadcast",
   "metadata": {},
   "outputs": [],
   "source": [
    ".SetShapeFn([](::tensorflow::shape_inference::InferenceContext* c) {\n",
    "    c->set_output(0, c->Matrix(c->Dim(c->input(0), 0), 3));\n",
    "    return Status::OK();\n",
    "});"
   ]
  },
  {
   "cell_type": "raw",
   "id": "renewable-apartment",
   "metadata": {},
   "source": [
    "If you have a complicated shape function, you should consider adding a test for validating that various input shape combinations produce the expected output shape combinations. You can see examples of how to write these tests in some our core ops tests. (The syntax of INFER_OK and INFER_ERROR are a little cryptic, but try to be compact in representing input and output shape specifications in tests. For now, see the surrounding comments in those tests to get a sense of the shape string specification)."
   ]
  },
  {
   "cell_type": "markdown",
   "id": "weighted-principal",
   "metadata": {},
   "source": [
    "## 8. Build a pip package for your custom op"
   ]
  },
  {
   "cell_type": "raw",
   "id": "exotic-progressive",
   "metadata": {},
   "source": [
    "To build a pip package for your op, see the tensorflow/custom-op example. This guide shows how to build custom ops from the TensorFlow pip package instead of building TensorFlow from source."
   ]
  },
  {
   "cell_type": "markdown",
   "id": "bearing-sleeping",
   "metadata": {},
   "source": [
    "# reference\n",
    "\n",
    "### https://tensorflow.google.cn/guide/create_op"
   ]
  },
  {
   "cell_type": "code",
   "execution_count": null,
   "id": "absent-italian",
   "metadata": {},
   "outputs": [],
   "source": []
  }
 ],
 "metadata": {
  "kernelspec": {
   "display_name": "Python 3",
   "language": "python",
   "name": "python3"
  },
  "language_info": {
   "codemirror_mode": {
    "name": "ipython",
    "version": 3
   },
   "file_extension": ".py",
   "mimetype": "text/x-python",
   "name": "python",
   "nbconvert_exporter": "python",
   "pygments_lexer": "ipython3",
   "version": "3.8.5"
  }
 },
 "nbformat": 4,
 "nbformat_minor": 5
}
