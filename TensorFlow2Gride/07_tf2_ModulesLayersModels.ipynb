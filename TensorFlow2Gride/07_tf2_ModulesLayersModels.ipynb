{
 "cells": [
  {
   "cell_type": "markdown",
   "id": "olympic-moisture",
   "metadata": {},
   "source": [
    "# Introduction to modules, layers, and models"
   ]
  },
  {
   "cell_type": "raw",
   "id": "literary-chuck",
   "metadata": {},
   "source": [
    "To do machine learning in TensorFlow, you are likely to need to define, save, and restore a model.\n",
    "\n",
    "A model is, abstractly:\n",
    "- A function that computes something on tensors (a forward pass)\n",
    "- Some variables that can be updated in response to training\n",
    "\n",
    "In this guide, you will go below the surface of Keras to see how TensorFlow models are defined. This looks at how TensorFlow collects variables and models, as well as how they are saved and restored."
   ]
  },
  {
   "cell_type": "markdown",
   "id": "atmospheric-missile",
   "metadata": {},
   "source": [
    "## 1. Setup"
   ]
  },
  {
   "cell_type": "code",
   "execution_count": 1,
   "id": "enclosed-bridges",
   "metadata": {},
   "outputs": [
    {
     "name": "stdout",
     "output_type": "stream",
     "text": [
      "The version of Tensorflow: 2.4.1\n"
     ]
    }
   ],
   "source": [
    "import tensorflow as tf\n",
    "from datetime import datetime\n",
    "\n",
    "%load_ext tensorboard\n",
    "\n",
    "print(\"The version of Tensorflow: {}\".format(tf.__version__))"
   ]
  },
  {
   "cell_type": "markdown",
   "id": "hazardous-sally",
   "metadata": {},
   "source": [
    "## 2. Defining models and layers in TensorFlow"
   ]
  },
  {
   "cell_type": "raw",
   "id": "thorough-collaboration",
   "metadata": {},
   "source": [
    "Most models are made of layers. Layers are functions with a known mathematical structure that can be reused and have trainable variables. In TensorFlow, most high-level implementations of layers and models, such as Keras or Sonnet, are built on the same foundational class: tf.Module."
   ]
  },
  {
   "cell_type": "code",
   "execution_count": 2,
   "id": "pressed-tsunami",
   "metadata": {},
   "outputs": [
    {
     "data": {
      "text/plain": [
       "<tf.Tensor: shape=(), dtype=float32, numpy=30.0>"
      ]
     },
     "execution_count": 2,
     "metadata": {},
     "output_type": "execute_result"
    }
   ],
   "source": [
    "# Here's an example of a very simple tf.Module that operates on a scalar tensor:\n",
    "\n",
    "class SimpleModule(tf.Module):\n",
    "  def __init__(self, name=None):\n",
    "    super().__init__(name=name)\n",
    "    self.a_variable = tf.Variable(5.0, name=\"train_me\")\n",
    "    self.non_trainable_variable = tf.Variable(5.0, trainable=False, name=\"do_not_train_me\")\n",
    "  def __call__(self, x):\n",
    "    return self.a_variable * x + self.non_trainable_variable\n",
    "\n",
    "simple_module = SimpleModule(name=\"simple\")\n",
    "\n",
    "simple_module(tf.constant(5.0))"
   ]
  },
  {
   "cell_type": "raw",
   "id": "absolute-photography",
   "metadata": {},
   "source": [
    "Modules and, by extension, layers are deep-learning terminology for \"objects\": they have internal state, and methods that use that state.\n",
    "\n",
    "There is nothing special about __call__ except to act like a Python callable; you can invoke your models with whatever functions you wish.\n",
    "\n",
    "You can set the trainability of variables on and off for any reason, including freezing layers and variables during fine-tuning.\n",
    "\n",
    "Note: tf.Module is the base class for both tf.keras.layers.Layer and tf.keras.Model, so everything you come across here also applies in Keras. For historical compatibility reasons Keras layers do not collect variables from modules, so your models should use only modules or only Keras layers. However, the methods shown below for inspecting variables are the same in either case."
   ]
  },
  {
   "cell_type": "code",
   "execution_count": 3,
   "id": "connected-lover",
   "metadata": {},
   "outputs": [
    {
     "name": "stdout",
     "output_type": "stream",
     "text": [
      "trainable variables: (<tf.Variable 'train_me:0' shape=() dtype=float32, numpy=5.0>,)\n",
      "all variables: (<tf.Variable 'train_me:0' shape=() dtype=float32, numpy=5.0>, <tf.Variable 'do_not_train_me:0' shape=() dtype=float32, numpy=5.0>)\n"
     ]
    }
   ],
   "source": [
    "# By subclassing tf.Module, any tf.Variable or tf.Module instances assigned to \n",
    "# this object's properties are automatically collected. \n",
    "# This allows you to save and load variables, and also create collections of tf.Modules.\n",
    "\n",
    "# All trainable variables\n",
    "print(\"trainable variables:\", simple_module.trainable_variables)\n",
    "# Every variable\n",
    "print(\"all variables:\", simple_module.variables)"
   ]
  },
  {
   "cell_type": "code",
   "execution_count": 4,
   "id": "accessory-uruguay",
   "metadata": {},
   "outputs": [],
   "source": [
    "# This is an example of a two-layer linear layer model made out of modules.\n",
    "\n",
    "# First a dense (linear) layer:\n",
    "class Dense(tf.Module):\n",
    "  def __init__(self, in_features, out_features, name=None):\n",
    "    super().__init__(name=name)\n",
    "    self.w = tf.Variable(\n",
    "      tf.random.normal([in_features, out_features]), name='w')\n",
    "    self.b = tf.Variable(tf.zeros([out_features]), name='b')\n",
    "  def __call__(self, x):\n",
    "    y = tf.matmul(x, self.w) + self.b\n",
    "    return tf.nn.relu(y)"
   ]
  },
  {
   "cell_type": "code",
   "execution_count": 5,
   "id": "brilliant-marketing",
   "metadata": {},
   "outputs": [
    {
     "name": "stdout",
     "output_type": "stream",
     "text": [
      "Model results: tf.Tensor([[0.        6.6957006]], shape=(1, 2), dtype=float32)\n"
     ]
    }
   ],
   "source": [
    "# And then the complete model, which makes two layer instances and applies them:\n",
    "class SequentialModule(tf.Module):\n",
    "  def __init__(self, name=None):\n",
    "    super().__init__(name=name)\n",
    "\n",
    "    self.dense_1 = Dense(in_features=3, out_features=3)\n",
    "    self.dense_2 = Dense(in_features=3, out_features=2)\n",
    "\n",
    "  def __call__(self, x):\n",
    "    x = self.dense_1(x)\n",
    "    return self.dense_2(x)\n",
    "\n",
    "# You have made a model!\n",
    "my_model = SequentialModule(name=\"the_model\")\n",
    "\n",
    "# Call it, with random results\n",
    "print(\"Model results:\", my_model(tf.constant([[2.0, 2.0, 2.0]])))"
   ]
  },
  {
   "cell_type": "code",
   "execution_count": 6,
   "id": "focused-aggregate",
   "metadata": {},
   "outputs": [
    {
     "name": "stdout",
     "output_type": "stream",
     "text": [
      "Submodules: (<__main__.Dense object at 0x000001F72D015190>, <__main__.Dense object at 0x000001F6CD840130>)\n"
     ]
    }
   ],
   "source": [
    "# tf.Module instances will automatically collect, recursively, any tf.Variable or tf.Module instances assigned to it. \n",
    "# This allows you to manage collections of tf.Modules with a single model instance, and save and load whole models.\n",
    "\n",
    "print(\"Submodules:\", my_model.submodules)"
   ]
  },
  {
   "cell_type": "code",
   "execution_count": 7,
   "id": "mounted-cooperation",
   "metadata": {},
   "outputs": [
    {
     "name": "stdout",
     "output_type": "stream",
     "text": [
      "<tf.Variable 'b:0' shape=(3,) dtype=float32, numpy=array([0., 0., 0.], dtype=float32)> \n",
      "\n",
      "<tf.Variable 'w:0' shape=(3, 3) dtype=float32, numpy=\n",
      "array([[ 1.4872581 , -0.67542785,  0.7220626 ],\n",
      "       [-0.1911573 , -1.0964158 ,  2.7435508 ],\n",
      "       [ 0.48312464,  0.85014474, -0.13067296]], dtype=float32)> \n",
      "\n",
      "<tf.Variable 'b:0' shape=(2,) dtype=float32, numpy=array([0., 0.], dtype=float32)> \n",
      "\n",
      "<tf.Variable 'w:0' shape=(3, 2) dtype=float32, numpy=\n",
      "array([[-0.64639187,  0.13822186],\n",
      "       [ 0.35022366,  0.3519714 ],\n",
      "       [-0.3433067 ,  0.9301283 ]], dtype=float32)> \n",
      "\n"
     ]
    }
   ],
   "source": [
    "for var in my_model.variables:\n",
    "  print(var, \"\\n\")"
   ]
  },
  {
   "cell_type": "markdown",
   "id": "suspended-place",
   "metadata": {},
   "source": [
    "### i. Waiting to create variables"
   ]
  },
  {
   "cell_type": "raw",
   "id": "expected-multimedia",
   "metadata": {},
   "source": [
    "You may have noticed here that you have to define both input and output sizes to the layer. This is so the w variable has a known shape and can be allocated.\n",
    "\n",
    "By deferring variable creation to the first time the module is called with a specific input shape, you do not need specify the input size up front."
   ]
  },
  {
   "cell_type": "code",
   "execution_count": 8,
   "id": "matched-reform",
   "metadata": {},
   "outputs": [],
   "source": [
    "class FlexibleDenseModule(tf.Module):\n",
    "  # Note: No need for `in_features`\n",
    "  def __init__(self, out_features, name=None):\n",
    "    super().__init__(name=name)\n",
    "    self.is_built = False\n",
    "    self.out_features = out_features\n",
    "\n",
    "  def __call__(self, x):\n",
    "    # Create variables on first call.\n",
    "    if not self.is_built:\n",
    "      self.w = tf.Variable(\n",
    "        tf.random.normal([x.shape[-1], self.out_features]), name='w')\n",
    "      self.b = tf.Variable(tf.zeros([self.out_features]), name='b')\n",
    "      self.is_built = True\n",
    "\n",
    "    y = tf.matmul(x, self.w) + self.b\n",
    "    return tf.nn.relu(y)"
   ]
  },
  {
   "cell_type": "code",
   "execution_count": 9,
   "id": "precise-gates",
   "metadata": {},
   "outputs": [
    {
     "name": "stdout",
     "output_type": "stream",
     "text": [
      "Model results: tf.Tensor([[3.1787279 1.0092701]], shape=(1, 2), dtype=float32)\n"
     ]
    }
   ],
   "source": [
    "# Used in a module\n",
    "class MySequentialModule(tf.Module):\n",
    "  def __init__(self, name=None):\n",
    "    super().__init__(name=name)\n",
    "\n",
    "    self.dense_1 = FlexibleDenseModule(out_features=3)\n",
    "    self.dense_2 = FlexibleDenseModule(out_features=2)\n",
    "\n",
    "  def __call__(self, x):\n",
    "    x = self.dense_1(x)\n",
    "    return self.dense_2(x)\n",
    "\n",
    "my_model = MySequentialModule(name=\"the_model\")\n",
    "print(\"Model results:\", my_model(tf.constant([[2.0, 2.0, 2.0]])))"
   ]
  },
  {
   "cell_type": "raw",
   "id": "identical-antigua",
   "metadata": {},
   "source": [
    "This flexibility is why TensorFlow layers often only need to specify the shape of their outputs, such as in tf.keras.layers.Dense, rather than both the input and output size."
   ]
  },
  {
   "cell_type": "markdown",
   "id": "finished-housing",
   "metadata": {},
   "source": [
    "## 3. Saving weights"
   ]
  },
  {
   "cell_type": "code",
   "execution_count": 10,
   "id": "large-nicaragua",
   "metadata": {},
   "outputs": [
    {
     "data": {
      "text/plain": [
       "'my_checkpoint'"
      ]
     },
     "execution_count": 10,
     "metadata": {},
     "output_type": "execute_result"
    }
   ],
   "source": [
    "# You can save a tf.Module as both a checkpoint and a SavedModel.\n",
    "\n",
    "# Checkpoints are just the weights (that is, the values of the set of variables inside the module and its submodules):\n",
    "\n",
    "chkp_path = \"my_checkpoint\"\n",
    "checkpoint = tf.train.Checkpoint(model=my_model)\n",
    "checkpoint.write(chkp_path)"
   ]
  },
  {
   "cell_type": "raw",
   "id": "copyrighted-possible",
   "metadata": {},
   "source": [
    "Checkpoints consist of two kinds of files: the data itself and an index file for metadata. The index file keeps track of what is actually saved and the numbering of checkpoints, while the checkpoint data contains the variable values and their attribute lookup paths."
   ]
  },
  {
   "cell_type": "code",
   "execution_count": 11,
   "id": "collective-riding",
   "metadata": {},
   "outputs": [
    {
     "name": "stdout",
     "output_type": "stream",
     "text": [
      " 驱动器 D 中的卷是 Data\n",
      " 卷的序列号是 12E0-D62D\n",
      "\n",
      " D:\\miniconda\\workspace\\TensorFlow2Gride 的目录\n",
      "\n",
      "2021/04/04  17:18               427 my_checkpoint.data-00000-of-00001\n",
      "2021/04/04  17:18               362 my_checkpoint.index\n",
      "               2 个文件            789 字节\n",
      "               0 个目录 318,344,138,752 可用字节\n"
     ]
    }
   ],
   "source": [
    "%ls my_checkpoint*"
   ]
  },
  {
   "cell_type": "code",
   "execution_count": 12,
   "id": "liked-huntington",
   "metadata": {},
   "outputs": [
    {
     "data": {
      "text/plain": [
       "[('_CHECKPOINTABLE_OBJECT_GRAPH', []),\n",
       " ('model/dense_1/b/.ATTRIBUTES/VARIABLE_VALUE', [3]),\n",
       " ('model/dense_1/w/.ATTRIBUTES/VARIABLE_VALUE', [3, 3]),\n",
       " ('model/dense_2/b/.ATTRIBUTES/VARIABLE_VALUE', [2]),\n",
       " ('model/dense_2/w/.ATTRIBUTES/VARIABLE_VALUE', [3, 2])]"
      ]
     },
     "execution_count": 12,
     "metadata": {},
     "output_type": "execute_result"
    }
   ],
   "source": [
    "# You can look inside a checkpoint to be sure the whole collection of variables is saved, \n",
    "# sorted by the Python object that contains them.\n",
    "\n",
    "tf.train.list_variables(chkp_path)"
   ]
  },
  {
   "cell_type": "raw",
   "id": "auburn-cleanup",
   "metadata": {},
   "source": [
    "During distributed (multi-machine) training they can be sharded, which is why they are numbered (e.g., '00000-of-00001'). In this case, though, there is only have one shard."
   ]
  },
  {
   "cell_type": "code",
   "execution_count": 13,
   "id": "married-kinase",
   "metadata": {},
   "outputs": [
    {
     "data": {
      "text/plain": [
       "<tf.Tensor: shape=(1, 2), dtype=float32, numpy=array([[3.1787279, 1.0092701]], dtype=float32)>"
      ]
     },
     "execution_count": 13,
     "metadata": {},
     "output_type": "execute_result"
    }
   ],
   "source": [
    "# When you load models back in, you overwrite the values in your Python object.\n",
    "\n",
    "new_model = MySequentialModule()\n",
    "new_checkpoint = tf.train.Checkpoint(model=new_model)\n",
    "new_checkpoint.restore(\"my_checkpoint\")\n",
    "\n",
    "# Should be the same result as above\n",
    "new_model(tf.constant([[2.0, 2.0, 2.0]]))"
   ]
  },
  {
   "cell_type": "raw",
   "id": "motivated-robertson",
   "metadata": {},
   "source": [
    "Note: As checkpoints are at the heart of long training workflows tf.checkpoint.CheckpointManager is a helper class that makes checkpoint management much easier. Refer to the Training checkpoints guide for more details."
   ]
  },
  {
   "cell_type": "markdown",
   "id": "approximate-burton",
   "metadata": {},
   "source": [
    "## 4. Saving functions"
   ]
  },
  {
   "cell_type": "raw",
   "id": "respective-johnson",
   "metadata": {},
   "source": [
    "TensorFlow can run models without the original Python objects, as demonstrated by TensorFlow Serving and TensorFlow Lite, even when you download a trained model from TensorFlow Hub.\n",
    "\n",
    "TensorFlow needs to know how to do the computations described in Python, but without the original code. To do this, you can make a graph, which is described in the Introduction to graphs and functions guide.\n",
    "\n",
    "This graph contains operations, or ops, that implement the function.\n",
    "\n",
    "You can define a graph in the model above by adding the @tf.function decorator to indicate that this code should run as a graph."
   ]
  },
  {
   "cell_type": "code",
   "execution_count": 14,
   "id": "empirical-roads",
   "metadata": {},
   "outputs": [],
   "source": [
    "class MySequentialModule(tf.Module):\n",
    "  def __init__(self, name=None):\n",
    "    super().__init__(name=name)\n",
    "\n",
    "    self.dense_1 = Dense(in_features=3, out_features=3)\n",
    "    self.dense_2 = Dense(in_features=3, out_features=2)\n",
    "\n",
    "  @tf.function\n",
    "  def __call__(self, x):\n",
    "    x = self.dense_1(x)\n",
    "    return self.dense_2(x)\n",
    "\n",
    "# You have made a model with a graph!\n",
    "my_model = MySequentialModule(name=\"the_model\")"
   ]
  },
  {
   "cell_type": "raw",
   "id": "gross-singles",
   "metadata": {},
   "source": [
    "The module you have made works exactly the same as before. Each unique signature passed into the function creates a separate graph. Check the Introduction to graphs and functions guide for details."
   ]
  },
  {
   "cell_type": "code",
   "execution_count": 15,
   "id": "permanent-continent",
   "metadata": {},
   "outputs": [
    {
     "name": "stdout",
     "output_type": "stream",
     "text": [
      "tf.Tensor([[0. 0.]], shape=(1, 2), dtype=float32)\n",
      "tf.Tensor(\n",
      "[[[0. 0.]\n",
      "  [0. 0.]]], shape=(1, 2, 2), dtype=float32)\n"
     ]
    }
   ],
   "source": [
    "print(my_model([[2.0, 2.0, 2.0]]))\n",
    "print(my_model([[[2.0, 2.0, 2.0], [2.0, 2.0, 2.0]]]))"
   ]
  },
  {
   "cell_type": "code",
   "execution_count": 16,
   "id": "elder-exemption",
   "metadata": {},
   "outputs": [
    {
     "name": "stdout",
     "output_type": "stream",
     "text": [
      "tf.Tensor([[0.        2.0163946]], shape=(1, 2), dtype=float32)\n"
     ]
    }
   ],
   "source": [
    "# You can visualize the graph by tracing it within a TensorBoard summary.\n",
    "\n",
    "# Set up logging.\n",
    "stamp = datetime.now().strftime(\"%Y%m%d-%H%M%S\")\n",
    "logdir = \"logs/func/%s\" % stamp\n",
    "writer = tf.summary.create_file_writer(logdir)\n",
    "\n",
    "# Create a new model to get a fresh trace\n",
    "# Otherwise the summary will not see the graph.\n",
    "new_model = MySequentialModule()\n",
    "\n",
    "# Bracket the function call with\n",
    "# tf.summary.trace_on() and tf.summary.trace_export().\n",
    "tf.summary.trace_on(graph=True)\n",
    "tf.profiler.experimental.start(logdir)\n",
    "# Call only one tf.function when tracing.\n",
    "z = print(new_model(tf.constant([[2.0, 2.0, 2.0]])))\n",
    "with writer.as_default():\n",
    "  tf.summary.trace_export(\n",
    "      name=\"my_func_trace\",\n",
    "      step=0,\n",
    "      profiler_outdir=logdir)"
   ]
  },
  {
   "cell_type": "code",
   "execution_count": 18,
   "id": "prepared-congress",
   "metadata": {},
   "outputs": [
    {
     "data": {
      "text/plain": [
       "Reusing TensorBoard on port 6006 (pid 10340), started 0:16:35 ago. (Use '!kill 10340' to kill it.)"
      ]
     },
     "metadata": {},
     "output_type": "display_data"
    },
    {
     "data": {
      "text/html": [
       "\n",
       "      <iframe id=\"tensorboard-frame-231d1e08fd71ce49\" width=\"100%\" height=\"800\" frameborder=\"0\">\n",
       "      </iframe>\n",
       "      <script>\n",
       "        (function() {\n",
       "          const frame = document.getElementById(\"tensorboard-frame-231d1e08fd71ce49\");\n",
       "          const url = new URL(\"/\", window.location);\n",
       "          const port = 6006;\n",
       "          if (port) {\n",
       "            url.port = port;\n",
       "          }\n",
       "          frame.src = url;\n",
       "        })();\n",
       "      </script>\n",
       "    "
      ],
      "text/plain": [
       "<IPython.core.display.HTML object>"
      ]
     },
     "metadata": {},
     "output_type": "display_data"
    }
   ],
   "source": [
    "# Launch TensorBoard to view the resulting trace:\n",
    "%tensorboard --logdir logs/func"
   ]
  },
  {
   "cell_type": "markdown",
   "id": "expired-dialogue",
   "metadata": {},
   "source": [
    "### i. Creating a SavedModel"
   ]
  },
  {
   "cell_type": "raw",
   "id": "collaborative-disposal",
   "metadata": {},
   "source": [
    "The recommended way of sharing completely trained models is to use SavedModel. SavedModel contains both a collection of functions and a collection of weights."
   ]
  },
  {
   "cell_type": "code",
   "execution_count": 20,
   "id": "signal-certification",
   "metadata": {},
   "outputs": [
    {
     "name": "stdout",
     "output_type": "stream",
     "text": [
      "INFO:tensorflow:Assets written to: the_saved_model\\assets\n"
     ]
    }
   ],
   "source": [
    "# You can save the model you have just trained as follows:\n",
    "tf.saved_model.save(my_model, \"the_saved_model\")"
   ]
  },
  {
   "cell_type": "code",
   "execution_count": 25,
   "id": "accredited-excitement",
   "metadata": {},
   "outputs": [
    {
     "name": "stdout",
     "output_type": "stream",
     "text": [
      " 驱动器 D 中的卷是 Data\n",
      " 卷的序列号是 12E0-D62D\n",
      "\n",
      " D:\\miniconda\\workspace\\TensorFlow2Gride\\the_saved_model 的目录\n",
      "\n",
      "2021/04/04  17:21    <DIR>          .\n",
      "2021/04/04  17:21    <DIR>          ..\n",
      "2021/04/04  17:21    <DIR>          assets\n",
      "2021/04/04  17:21            14,140 saved_model.pb\n",
      "2021/04/04  17:21    <DIR>          variables\n",
      "               1 个文件         14,140 字节\n",
      "               4 个目录 318,344,073,216 可用字节\n"
     ]
    }
   ],
   "source": [
    "# Inspect the SavedModel in the directory\n",
    "%ls the_saved_model"
   ]
  },
  {
   "cell_type": "code",
   "execution_count": 29,
   "id": "attached-supervisor",
   "metadata": {},
   "outputs": [
    {
     "name": "stdout",
     "output_type": "stream",
     "text": [
      " 驱动器 D 中的卷是 Data\n",
      " 卷的序列号是 12E0-D62D\n",
      "\n",
      " D:\\miniconda\\workspace\\TensorFlow2Gride\\the_saved_model\\variables 的目录\n",
      "\n",
      "2021/04/04  17:21    <DIR>          .\n",
      "2021/04/04  17:21    <DIR>          ..\n",
      "2021/04/04  17:21               408 variables.data-00000-of-00001\n",
      "2021/04/04  17:21               356 variables.index\n",
      "               2 个文件            764 字节\n",
      "               2 个目录 318,344,073,216 可用字节\n"
     ]
    }
   ],
   "source": [
    "# The variables/ directory contains a checkpoint of the variables\n",
    "%ls the_saved_model\\variables"
   ]
  },
  {
   "cell_type": "raw",
   "id": "south-basis",
   "metadata": {},
   "source": [
    "The saved_model.pb file is a protocol buffer describing the functional tf.Graph.\n",
    "\n",
    "Models and layers can be loaded from this representation without actually making an instance of the class that created it. This is desired in situations where you do not have (or want) a Python interpreter, such as serving at scale or on an edge device, or in situations where the original Python code is not available or practical to use."
   ]
  },
  {
   "cell_type": "code",
   "execution_count": 30,
   "id": "respected-princess",
   "metadata": {},
   "outputs": [],
   "source": [
    "# You can load the model as new object:\n",
    "\n",
    "new_model = tf.saved_model.load(\"the_saved_model\")"
   ]
  },
  {
   "cell_type": "code",
   "execution_count": 31,
   "id": "million-footage",
   "metadata": {},
   "outputs": [
    {
     "data": {
      "text/plain": [
       "False"
      ]
     },
     "execution_count": 31,
     "metadata": {},
     "output_type": "execute_result"
    }
   ],
   "source": [
    "# new_model, created from loading a saved model, is an internal TensorFlow user object without any of the class knowledge. \n",
    "# It is not of type SequentialModule.\n",
    "\n",
    "isinstance(new_model, SequentialModule)"
   ]
  },
  {
   "cell_type": "code",
   "execution_count": 32,
   "id": "turkish-boutique",
   "metadata": {},
   "outputs": [
    {
     "name": "stdout",
     "output_type": "stream",
     "text": [
      "tf.Tensor([[0. 0.]], shape=(1, 2), dtype=float32)\n",
      "tf.Tensor(\n",
      "[[[0. 0.]\n",
      "  [0. 0.]]], shape=(1, 2, 2), dtype=float32)\n"
     ]
    }
   ],
   "source": [
    "# This new model works on the already-defined input signatures. You can't add more signatures to a model restored like this.\n",
    "\n",
    "print(my_model([[2.0, 2.0, 2.0]]))\n",
    "print(my_model([[[2.0, 2.0, 2.0], [2.0, 2.0, 2.0]]]))"
   ]
  },
  {
   "cell_type": "raw",
   "id": "precise-excuse",
   "metadata": {},
   "source": [
    "Thus, using SavedModel, you are able to save TensorFlow weights and graphs using tf.Module, and then load them again."
   ]
  },
  {
   "cell_type": "markdown",
   "id": "broad-booth",
   "metadata": {},
   "source": [
    "## 5. Keras models and layers"
   ]
  },
  {
   "cell_type": "raw",
   "id": "basic-hopkins",
   "metadata": {},
   "source": [
    "Note that up until this point, there is no mention of Keras. You can build your own high-level API on top of tf.Module, and people have.\n",
    "\n",
    "In this section, you will examine how Keras uses tf.Module. A complete user guide to Keras models can be found in the Keras guide."
   ]
  },
  {
   "cell_type": "markdown",
   "id": "outstanding-america",
   "metadata": {},
   "source": [
    "### i. Keras layers"
   ]
  },
  {
   "cell_type": "code",
   "execution_count": 33,
   "id": "advised-palestinian",
   "metadata": {},
   "outputs": [],
   "source": [
    "# tf.keras.layers.Layer is the base class of all Keras layers, and it inherits from tf.Module.\n",
    "\n",
    "# You can convert a module into a Keras layer just by swapping out the parent and then changing __call__ to call:\n",
    "\n",
    "class MyDense(tf.keras.layers.Layer):\n",
    "  # Adding **kwargs to support base Keras layer arguments\n",
    "  def __init__(self, in_features, out_features, **kwargs):\n",
    "    super().__init__(**kwargs)\n",
    "\n",
    "    # This will soon move to the build step; see below\n",
    "    self.w = tf.Variable(\n",
    "      tf.random.normal([in_features, out_features]), name='w')\n",
    "    self.b = tf.Variable(tf.zeros([out_features]), name='b')\n",
    "  def call(self, x):\n",
    "    y = tf.matmul(x, self.w) + self.b\n",
    "    return tf.nn.relu(y)\n",
    "\n",
    "simple_layer = MyDense(name=\"simple\", in_features=3, out_features=3)"
   ]
  },
  {
   "cell_type": "raw",
   "id": "guilty-cameroon",
   "metadata": {},
   "source": [
    "Keras layers have their own __call__ that does some bookkeeping described in the next section and then calls call(). You should notice no change in functionality."
   ]
  },
  {
   "cell_type": "code",
   "execution_count": 34,
   "id": "elegant-steal",
   "metadata": {},
   "outputs": [
    {
     "data": {
      "text/plain": [
       "<tf.Tensor: shape=(1, 3), dtype=float32, numpy=array([[0.       , 3.3632455, 1.8337829]], dtype=float32)>"
      ]
     },
     "execution_count": 34,
     "metadata": {},
     "output_type": "execute_result"
    }
   ],
   "source": [
    "simple_layer([[2.0, 2.0, 2.0]])"
   ]
  },
  {
   "cell_type": "markdown",
   "id": "unexpected-printer",
   "metadata": {},
   "source": [
    "### ii. The build step"
   ]
  },
  {
   "cell_type": "raw",
   "id": "signal-undergraduate",
   "metadata": {},
   "source": [
    "As noted, it's convenient in many cases to wait to create variables until you are sure of the input shape.\n",
    "\n",
    "Keras layers come with an extra lifecycle step that allows you more flexibility in how you define your layers. This is defined in the build function.\n",
    "\n",
    "build is called exactly once, and it is called with the shape of the input. It's usually used to create variables (weights)."
   ]
  },
  {
   "cell_type": "code",
   "execution_count": 35,
   "id": "associate-flooring",
   "metadata": {},
   "outputs": [],
   "source": [
    "# You can rewrite MyDense layer above to be flexible to the size of its inputs:\n",
    "\n",
    "class FlexibleDense(tf.keras.layers.Layer):\n",
    "  # Note the added `**kwargs`, as Keras supports many arguments\n",
    "  def __init__(self, out_features, **kwargs):\n",
    "    super().__init__(**kwargs)\n",
    "    self.out_features = out_features\n",
    "\n",
    "  def build(self, input_shape):  # Create the state of the layer (weights)\n",
    "    self.w = tf.Variable(\n",
    "      tf.random.normal([input_shape[-1], self.out_features]), name='w')\n",
    "    self.b = tf.Variable(tf.zeros([self.out_features]), name='b')\n",
    "\n",
    "  def call(self, inputs):  # Defines the computation from inputs to outputs\n",
    "    return tf.matmul(inputs, self.w) + self.b\n",
    "\n",
    "# Create the instance of the layer\n",
    "flexible_dense = FlexibleDense(out_features=3)"
   ]
  },
  {
   "cell_type": "code",
   "execution_count": 36,
   "id": "appreciated-eclipse",
   "metadata": {},
   "outputs": [
    {
     "data": {
      "text/plain": [
       "[]"
      ]
     },
     "execution_count": 36,
     "metadata": {},
     "output_type": "execute_result"
    }
   ],
   "source": [
    "# At this point, the model has not been built, so there are no variables:\n",
    "\n",
    "flexible_dense.variables"
   ]
  },
  {
   "cell_type": "code",
   "execution_count": 37,
   "id": "german-southeast",
   "metadata": {},
   "outputs": [
    {
     "name": "stdout",
     "output_type": "stream",
     "text": [
      "Model results: tf.Tensor(\n",
      "[[1.4723215 2.3819118 2.5421505]\n",
      " [2.2084823 3.5728676 3.8132257]], shape=(2, 3), dtype=float32)\n"
     ]
    }
   ],
   "source": [
    "# Calling the function allocates appropriately-sized variables:\n",
    "\n",
    "# Call it, with predictably random results\n",
    "print(\"Model results:\", flexible_dense(tf.constant([[2.0, 2.0, 2.0], [3.0, 3.0, 3.0]])))"
   ]
  },
  {
   "cell_type": "code",
   "execution_count": 38,
   "id": "adult-concept",
   "metadata": {},
   "outputs": [
    {
     "data": {
      "text/plain": [
       "[<tf.Variable 'flexible_dense/w:0' shape=(3, 3) dtype=float32, numpy=\n",
       " array([[-0.1288026 ,  1.0187075 ,  0.28111425],\n",
       "        [ 0.39145884,  1.373036  ,  0.93163   ],\n",
       "        [ 0.47350454, -1.2007878 ,  0.058331  ]], dtype=float32)>,\n",
       " <tf.Variable 'flexible_dense/b:0' shape=(3,) dtype=float32, numpy=array([0., 0., 0.], dtype=float32)>]"
      ]
     },
     "execution_count": 38,
     "metadata": {},
     "output_type": "execute_result"
    }
   ],
   "source": [
    "flexible_dense.variables"
   ]
  },
  {
   "cell_type": "code",
   "execution_count": 39,
   "id": "silent-chuck",
   "metadata": {},
   "outputs": [
    {
     "name": "stdout",
     "output_type": "stream",
     "text": [
      "Failed: Matrix size-incompatible: In[0]: [1,4], In[1]: [3,3] [Op:MatMul]\n"
     ]
    }
   ],
   "source": [
    "# Since build is only called once, inputs will be rejected if the input shape is not compatible with the layer's variables:\n",
    "\n",
    "try:\n",
    "  print(\"Model results:\", flexible_dense(tf.constant([[2.0, 2.0, 2.0, 2.0]])))\n",
    "except tf.errors.InvalidArgumentError as e:\n",
    "  print(\"Failed:\", e)"
   ]
  },
  {
   "cell_type": "raw",
   "id": "informative-military",
   "metadata": {},
   "source": [
    "Keras layers have a lot more extra features including:\n",
    "- Optional losses\n",
    "- Support for metrics\n",
    "- Built-in support for an optional training argument to differentiate between training and inference use\n",
    "- get_config and from_config methods that allow you to accurately store configurations to allow model cloning in Python\n",
    "\n",
    "Read about them in the full guide to custom layers and models."
   ]
  },
  {
   "cell_type": "markdown",
   "id": "amazing-earth",
   "metadata": {},
   "source": [
    "### iii. Keras models"
   ]
  },
  {
   "cell_type": "raw",
   "id": "prime-battle",
   "metadata": {},
   "source": [
    "You can define your model as nested Keras layers.\n",
    "\n",
    "However, Keras also provides a full-featured model class called tf.keras.Model. It inherits from tf.keras.layers.Layer, so a Keras model can be used, nested, and saved in the same way as Keras layers. Keras models come with extra functionality that makes them easy to train, evaluate, load, save, and even train on multiple machines."
   ]
  },
  {
   "cell_type": "code",
   "execution_count": 40,
   "id": "worth-blind",
   "metadata": {},
   "outputs": [
    {
     "name": "stdout",
     "output_type": "stream",
     "text": [
      "Model results: tf.Tensor([[0.13101035 1.0429598 ]], shape=(1, 2), dtype=float32)\n"
     ]
    }
   ],
   "source": [
    "# You can define the SequentialModule from above with nearly identical code, \n",
    "# again converting __call__ to call() and changing the parent:\n",
    "\n",
    "class MySequentialModel(tf.keras.Model):\n",
    "  def __init__(self, name=None, **kwargs):\n",
    "    super().__init__(**kwargs)\n",
    "\n",
    "    self.dense_1 = FlexibleDense(out_features=3)\n",
    "    self.dense_2 = FlexibleDense(out_features=2)\n",
    "  def call(self, x):\n",
    "    x = self.dense_1(x)\n",
    "    return self.dense_2(x)\n",
    "\n",
    "# You have made a Keras model!\n",
    "my_sequential_model = MySequentialModel(name=\"the_model\")\n",
    "\n",
    "# Call it on a tensor, with random results\n",
    "print(\"Model results:\", my_sequential_model(tf.constant([[2.0, 2.0, 2.0]])))"
   ]
  },
  {
   "cell_type": "raw",
   "id": "flexible-thomson",
   "metadata": {},
   "source": [
    "All the same features are available, including tracking variables and submodules."
   ]
  },
  {
   "cell_type": "code",
   "execution_count": 41,
   "id": "intellectual-activation",
   "metadata": {},
   "outputs": [
    {
     "data": {
      "text/plain": [
       "[<tf.Variable 'my_sequential_model/flexible_dense_1/w:0' shape=(3, 3) dtype=float32, numpy=\n",
       " array([[ 0.5149364 , -1.0164068 ,  0.6384996 ],\n",
       "        [ 0.37633342,  0.20298098,  0.04507061],\n",
       "        [-0.8428199 ,  1.3251464 , -0.7946522 ]], dtype=float32)>,\n",
       " <tf.Variable 'my_sequential_model/flexible_dense_1/b:0' shape=(3,) dtype=float32, numpy=array([0., 0., 0.], dtype=float32)>,\n",
       " <tf.Variable 'my_sequential_model/flexible_dense_2/w:0' shape=(3, 2) dtype=float32, numpy=\n",
       " array([[-1.0019482,  1.2314947],\n",
       "        [ 0.1557269,  0.784778 ],\n",
       "        [-0.309328 , -0.5421853]], dtype=float32)>,\n",
       " <tf.Variable 'my_sequential_model/flexible_dense_2/b:0' shape=(2,) dtype=float32, numpy=array([0., 0.], dtype=float32)>]"
      ]
     },
     "execution_count": 41,
     "metadata": {},
     "output_type": "execute_result"
    }
   ],
   "source": [
    "my_sequential_model.variables"
   ]
  },
  {
   "cell_type": "code",
   "execution_count": 42,
   "id": "forty-committee",
   "metadata": {},
   "outputs": [
    {
     "data": {
      "text/plain": [
       "(<__main__.FlexibleDense at 0x1f7332f3580>,\n",
       " <__main__.FlexibleDense at 0x1f7337a9850>)"
      ]
     },
     "execution_count": 42,
     "metadata": {},
     "output_type": "execute_result"
    }
   ],
   "source": [
    "my_sequential_model.submodules"
   ]
  },
  {
   "cell_type": "raw",
   "id": "handed-residence",
   "metadata": {},
   "source": [
    "Overriding tf.keras.Model is a very Pythonic approach to building TensorFlow models. If you are migrating models from other frameworks, this can be very straightforward.\n",
    "\n",
    "If you are constructing models that are simple assemblages of existing layers and inputs, you can save time and space by using the functional API, which comes with additional features around model reconstruction and architecture."
   ]
  },
  {
   "cell_type": "code",
   "execution_count": 43,
   "id": "preliminary-energy",
   "metadata": {},
   "outputs": [
    {
     "name": "stdout",
     "output_type": "stream",
     "text": [
      "Model: \"model\"\n",
      "_________________________________________________________________\n",
      "Layer (type)                 Output Shape              Param #   \n",
      "=================================================================\n",
      "input_1 (InputLayer)         [(None, 3)]               0         \n",
      "_________________________________________________________________\n",
      "flexible_dense_3 (FlexibleDe (None, 3)                 12        \n",
      "_________________________________________________________________\n",
      "flexible_dense_4 (FlexibleDe (None, 2)                 8         \n",
      "=================================================================\n",
      "Total params: 20\n",
      "Trainable params: 20\n",
      "Non-trainable params: 0\n",
      "_________________________________________________________________\n"
     ]
    }
   ],
   "source": [
    "# Here is the same model with the functional API:\n",
    "\n",
    "inputs = tf.keras.Input(shape=[3,])\n",
    "\n",
    "x = FlexibleDense(3)(inputs)\n",
    "x = FlexibleDense(2)(x)\n",
    "\n",
    "my_functional_model = tf.keras.Model(inputs=inputs, outputs=x)\n",
    "\n",
    "my_functional_model.summary()"
   ]
  },
  {
   "cell_type": "code",
   "execution_count": 44,
   "id": "welcome-asbestos",
   "metadata": {},
   "outputs": [
    {
     "data": {
      "text/plain": [
       "<tf.Tensor: shape=(1, 2), dtype=float32, numpy=array([[ 1.0714188, -1.7540443]], dtype=float32)>"
      ]
     },
     "execution_count": 44,
     "metadata": {},
     "output_type": "execute_result"
    }
   ],
   "source": [
    "my_functional_model(tf.constant([[2.0, 2.0, 2.0]]))"
   ]
  },
  {
   "cell_type": "raw",
   "id": "pretty-tyler",
   "metadata": {},
   "source": [
    "The major difference here is that the input shape is specified up front as part of the functional construction process. The input_shape argument in this case does not have to be completely specified; you can leave some dimensions as None."
   ]
  },
  {
   "cell_type": "markdown",
   "id": "celtic-amateur",
   "metadata": {},
   "source": [
    "## 6. Saving Keras models"
   ]
  },
  {
   "cell_type": "code",
   "execution_count": 45,
   "id": "dependent-teddy",
   "metadata": {},
   "outputs": [
    {
     "name": "stdout",
     "output_type": "stream",
     "text": [
      "INFO:tensorflow:Assets written to: exname_of_file\\assets\n"
     ]
    }
   ],
   "source": [
    "# Keras models can be checkpointed, and that will look the same as tf.Module.\n",
    "\n",
    "# Keras models can also be saved with tf.saved_models.save(), as they are modules. \n",
    "# However, Keras models have convenience methods and other functionality:\n",
    "\n",
    "my_sequential_model.save(\"exname_of_file\")"
   ]
  },
  {
   "cell_type": "code",
   "execution_count": 46,
   "id": "composed-beverage",
   "metadata": {},
   "outputs": [
    {
     "name": "stdout",
     "output_type": "stream",
     "text": [
      "WARNING:tensorflow:No training configuration found in save file, so the model was *not* compiled. Compile it manually.\n"
     ]
    }
   ],
   "source": [
    "# Just as easily, they can be loaded back in:\n",
    "reconstructed_model = tf.keras.models.load_model(\"exname_of_file\")"
   ]
  },
  {
   "cell_type": "code",
   "execution_count": 47,
   "id": "careful-register",
   "metadata": {},
   "outputs": [
    {
     "data": {
      "text/plain": [
       "<tf.Tensor: shape=(1, 2), dtype=float32, numpy=array([[0.13101035, 1.0429598 ]], dtype=float32)>"
      ]
     },
     "execution_count": 47,
     "metadata": {},
     "output_type": "execute_result"
    }
   ],
   "source": [
    "# Keras SavedModels also save metric, loss, and optimizer states.\n",
    "\n",
    "# This reconstructed model can be used and will produce the same result when called on the same data:\n",
    "\n",
    "reconstructed_model(tf.constant([[2.0, 2.0, 2.0]]))"
   ]
  },
  {
   "cell_type": "raw",
   "id": "complete-clinic",
   "metadata": {},
   "source": [
    "There is more to know about saving and serialization of Keras models, including providing configuration methods for custom layers for feature support. Check out the guide to saving and serialization."
   ]
  },
  {
   "cell_type": "markdown",
   "id": "searching-fraud",
   "metadata": {},
   "source": [
    "# reference\n",
    "\n",
    "### https://tensorflow.google.cn/guide/intro_to_modules"
   ]
  },
  {
   "cell_type": "code",
   "execution_count": null,
   "id": "abstract-spell",
   "metadata": {},
   "outputs": [],
   "source": []
  }
 ],
 "metadata": {
  "kernelspec": {
   "display_name": "Python 3",
   "language": "python",
   "name": "python3"
  },
  "language_info": {
   "codemirror_mode": {
    "name": "ipython",
    "version": 3
   },
   "file_extension": ".py",
   "mimetype": "text/x-python",
   "name": "python",
   "nbconvert_exporter": "python",
   "pygments_lexer": "ipython3",
   "version": "3.8.5"
  }
 },
 "nbformat": 4,
 "nbformat_minor": 5
}
