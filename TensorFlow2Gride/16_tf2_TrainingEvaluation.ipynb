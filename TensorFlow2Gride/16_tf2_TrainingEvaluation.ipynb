{
 "cells": [
  {
   "cell_type": "markdown",
   "id": "external-quest",
   "metadata": {},
   "source": [
    "# Training and evaluation with the built-in methods"
   ]
  },
  {
   "cell_type": "markdown",
   "id": "broad-senior",
   "metadata": {},
   "source": [
    "## 0. Setup"
   ]
  },
  {
   "cell_type": "code",
   "execution_count": 1,
   "id": "orange-sierra",
   "metadata": {},
   "outputs": [
    {
     "name": "stdout",
     "output_type": "stream",
     "text": [
      "The version of Tensorflow: \n"
     ]
    }
   ],
   "source": [
    "import tensorflow as tf\n",
    "from tensorflow import keras\n",
    "from tensorflow.keras import layers\n",
    "\n",
    "print(\"The version of Tensorflow: \".format(tf.__version__))"
   ]
  },
  {
   "cell_type": "markdown",
   "id": "macro-archives",
   "metadata": {},
   "source": [
    "## 1. Introduction"
   ]
  },
  {
   "cell_type": "raw",
   "id": "continuous-interest",
   "metadata": {},
   "source": [
    "This guide covers training, evaluation, and prediction (inference) models when using built-in APIs for training & validation (such as model.fit(), model.evaluate(), model.predict()).\n",
    "\n",
    "If you are interested in leveraging fit() while specifying your own training step function, see the guide \"customizing what happens in fit()\".\n",
    "\n",
    "If you are interested in writing your own training & evaluation loops from scratch, see the guide \"writing a training loop from scratch\".\n",
    "\n",
    "In general, whether you are using built-in loops or writing your own, model training & evaluation works strictly in the same way across every kind of Keras model -- Sequential models, models built with the Functional API, and models written from scratch via model subclassing.\n",
    "\n",
    "This guide doesn't cover distributed training. For distributed training, see our guide to multi-gpu & distributed training."
   ]
  },
  {
   "cell_type": "markdown",
   "id": "greater-current",
   "metadata": {},
   "source": [
    "## 2. API overview: a first end-to-end example"
   ]
  },
  {
   "cell_type": "raw",
   "id": "noticed-faith",
   "metadata": {},
   "source": [
    "When passing data to the built-in training loops of a model, you should either use NumPy arrays (if your data is small and fits in memory) or tf.data Dataset objects. In the next few paragraphs, we'll use the MNIST dataset as NumPy arrays, in order to demonstrate how to use optimizers, losses, and metrics."
   ]
  },
  {
   "cell_type": "code",
   "execution_count": 2,
   "id": "sexual-mountain",
   "metadata": {},
   "outputs": [],
   "source": [
    "# Let's consider the following model (here, we build in with the Functional API, \n",
    "# but it could be a Sequential model or a subclassed model as well):\n",
    "\n",
    "inputs = keras.Input(shape=(784,), name=\"digits\")\n",
    "x = layers.Dense(64, activation=\"relu\", name=\"dense_1\")(inputs)\n",
    "x = layers.Dense(64, activation=\"relu\", name=\"dense_2\")(x)\n",
    "outputs = layers.Dense(10, activation=\"softmax\", name=\"predictions\")(x)\n",
    "\n",
    "model = keras.Model(inputs=inputs, outputs=outputs)"
   ]
  },
  {
   "cell_type": "raw",
   "id": "posted-eugene",
   "metadata": {},
   "source": [
    "Here's what the typical end-to-end workflow looks like, consisting of:\n",
    "\n",
    "- Training\n",
    "- Validation on a holdout set generated from the original training data\n",
    "- Evaluation on the test data"
   ]
  },
  {
   "cell_type": "code",
   "execution_count": 3,
   "id": "abstract-vaccine",
   "metadata": {},
   "outputs": [],
   "source": [
    "# We'll use MNIST data for this example.\n",
    "\n",
    "(x_train, y_train), (x_test, y_test) = keras.datasets.mnist.load_data()\n",
    "\n",
    "# Preprocess the data (these are NumPy arrays)\n",
    "x_train = x_train.reshape(60000, 784).astype(\"float32\") / 255\n",
    "x_test = x_test.reshape(10000, 784).astype(\"float32\") / 255\n",
    "\n",
    "y_train = y_train.astype(\"float32\")\n",
    "y_test = y_test.astype(\"float32\")\n",
    "\n",
    "# Reserve 10,000 samples for validation\n",
    "x_val = x_train[-10000:]\n",
    "y_val = y_train[-10000:]\n",
    "x_train = x_train[:-10000]\n",
    "y_train = y_train[:-10000]"
   ]
  },
  {
   "cell_type": "code",
   "execution_count": 4,
   "id": "expanded-premiere",
   "metadata": {},
   "outputs": [],
   "source": [
    "# We specify the training configuration (optimizer, loss, metrics):\n",
    "\n",
    "model.compile(\n",
    "    optimizer=keras.optimizers.RMSprop(),  # Optimizer\n",
    "    # Loss function to minimize\n",
    "    loss=keras.losses.SparseCategoricalCrossentropy(),\n",
    "    # List of metrics to monitor\n",
    "    metrics=[keras.metrics.SparseCategoricalAccuracy()],\n",
    ")"
   ]
  },
  {
   "cell_type": "code",
   "execution_count": 5,
   "id": "handed-wagon",
   "metadata": {},
   "outputs": [
    {
     "name": "stdout",
     "output_type": "stream",
     "text": [
      "Fit model on training data\n",
      "Epoch 1/2\n",
      "782/782 [==============================] - 4s 4ms/step - loss: 0.5663 - sparse_categorical_accuracy: 0.8459 - val_loss: 0.2043 - val_sparse_categorical_accuracy: 0.9430\n",
      "Epoch 2/2\n",
      "782/782 [==============================] - 3s 3ms/step - loss: 0.1668 - sparse_categorical_accuracy: 0.9495 - val_loss: 0.1451 - val_sparse_categorical_accuracy: 0.9574\n"
     ]
    }
   ],
   "source": [
    "# We call fit(), which will train the model by slicing the data into \"batches\" of size \"batch_size\", \n",
    "# and repeatedly iterating over the entire dataset for a given number of \"epochs\".\n",
    "\n",
    "print(\"Fit model on training data\")\n",
    "history = model.fit(\n",
    "    x_train,\n",
    "    y_train,\n",
    "    batch_size=64,\n",
    "    epochs=2,\n",
    "    # We pass some validation for\n",
    "    # monitoring validation loss and metrics\n",
    "    # at the end of each epoch\n",
    "    validation_data=(x_val, y_val),\n",
    ")"
   ]
  },
  {
   "cell_type": "code",
   "execution_count": 6,
   "id": "exposed-election",
   "metadata": {},
   "outputs": [
    {
     "data": {
      "text/plain": [
       "{'loss': [0.33571407198905945, 0.155551478266716],\n",
       " 'sparse_categorical_accuracy': [0.9049199819564819, 0.953000009059906],\n",
       " 'val_loss': [0.20427437126636505, 0.14510458707809448],\n",
       " 'val_sparse_categorical_accuracy': [0.9430000185966492, 0.9574000239372253]}"
      ]
     },
     "execution_count": 6,
     "metadata": {},
     "output_type": "execute_result"
    }
   ],
   "source": [
    "# The returned \"history\" object holds a record of the loss values and metric values during training:\n",
    "\n",
    "history.history"
   ]
  },
  {
   "cell_type": "code",
   "execution_count": 7,
   "id": "crazy-better",
   "metadata": {},
   "outputs": [
    {
     "name": "stdout",
     "output_type": "stream",
     "text": [
      "Evaluate on test data\n",
      "79/79 [==============================] - 0s 1ms/step - loss: 0.1564 - sparse_categorical_accuracy: 0.9529\n",
      "test loss, test acc: [0.15639930963516235, 0.9528999924659729]\n",
      "Generate predictions for 3 samples\n",
      "predictions shape: (3, 10)\n"
     ]
    }
   ],
   "source": [
    "# We evaluate the model on the test data via evaluate():\n",
    "\n",
    "# Evaluate the model on the test data using `evaluate`\n",
    "print(\"Evaluate on test data\")\n",
    "results = model.evaluate(x_test, y_test, batch_size=128)\n",
    "print(\"test loss, test acc:\", results)\n",
    "\n",
    "# Generate predictions (probabilities -- the output of the last layer)\n",
    "# on new data using `predict`\n",
    "print(\"Generate predictions for 3 samples\")\n",
    "predictions = model.predict(x_test[:3])\n",
    "print(\"predictions shape:\", predictions.shape)"
   ]
  },
  {
   "cell_type": "raw",
   "id": "wrong-shuttle",
   "metadata": {},
   "source": [
    "Now, let's review each piece of this workflow in detail."
   ]
  },
  {
   "cell_type": "markdown",
   "id": "tracked-netscape",
   "metadata": {},
   "source": [
    "## 3. The compile() method: specifying a loss, metrics, and an optimizer"
   ]
  },
  {
   "cell_type": "code",
   "execution_count": 8,
   "id": "saving-consumption",
   "metadata": {},
   "outputs": [],
   "source": [
    "# To train a model with fit(), you need to specify a loss function, an optimizer, and optionally, some metrics to monitor.\n",
    "\n",
    "# You pass these to the model as arguments to the compile() method:\n",
    "\n",
    "model.compile(\n",
    "    optimizer=keras.optimizers.RMSprop(learning_rate=1e-3),\n",
    "    loss=keras.losses.SparseCategoricalCrossentropy(),\n",
    "    metrics=[keras.metrics.SparseCategoricalAccuracy()],\n",
    ")"
   ]
  },
  {
   "cell_type": "raw",
   "id": "preliminary-volunteer",
   "metadata": {},
   "source": [
    "The metrics argument should be a list -- your model can have any number of metrics."
   ]
  },
  {
   "cell_type": "raw",
   "id": "welcome-poultry",
   "metadata": {},
   "source": [
    "If your model has multiple outputs, you can specify different losses and metrics for each output, and you can modulate the contribution of each output to the total loss of the model. You will find more details about this in the section \"Passing data to multi-input, multi-output models\"."
   ]
  },
  {
   "cell_type": "raw",
   "id": "stupid-canada",
   "metadata": {},
   "source": [
    "Note that if you're satisfied with the default settings, in many cases the optimizer, loss, and metrics can be specified via string identifiers as a shortcut:"
   ]
  },
  {
   "cell_type": "code",
   "execution_count": 9,
   "id": "continuing-separate",
   "metadata": {},
   "outputs": [],
   "source": [
    "model.compile(\n",
    "    optimizer=\"rmsprop\",\n",
    "    loss=\"sparse_categorical_crossentropy\",\n",
    "    metrics=[\"sparse_categorical_accuracy\"],\n",
    ")"
   ]
  },
  {
   "cell_type": "code",
   "execution_count": 10,
   "id": "continuous-mercury",
   "metadata": {},
   "outputs": [],
   "source": [
    "# For later reuse, let's put our model definition and compile step in functions;\n",
    "# we will call them several times across different examples in this guide.\n",
    "\n",
    "def get_uncompiled_model():\n",
    "    inputs = keras.Input(shape=(784,), name=\"digits\")\n",
    "    x = layers.Dense(64, activation=\"relu\", name=\"dense_1\")(inputs)\n",
    "    x = layers.Dense(64, activation=\"relu\", name=\"dense_2\")(x)\n",
    "    outputs = layers.Dense(10, activation=\"softmax\", name=\"predictions\")(x)\n",
    "    model = keras.Model(inputs=inputs, outputs=outputs)\n",
    "    return model\n",
    "\n",
    "\n",
    "def get_compiled_model():\n",
    "    model = get_uncompiled_model()\n",
    "    model.compile(\n",
    "        optimizer=\"rmsprop\",\n",
    "        loss=\"sparse_categorical_crossentropy\",\n",
    "        metrics=[\"sparse_categorical_accuracy\"],\n",
    "    )\n",
    "    return model"
   ]
  },
  {
   "cell_type": "markdown",
   "id": "fixed-transcript",
   "metadata": {},
   "source": [
    "### i. Many built-in optimizers, losses, and metrics are available"
   ]
  },
  {
   "cell_type": "raw",
   "id": "empirical-baker",
   "metadata": {},
   "source": [
    "In general, you won't have to create from scratch your own losses, metrics, or optimizers, because what you need is likely already part of the Keras API:\n",
    "\n",
    "Optimizers:\n",
    "- SGD() (with or without momentum)\n",
    "- RMSprop()\n",
    "- Adam()\n",
    "\n",
    "Losses:\n",
    "- MeanSquaredError()\n",
    "- KLDivergence()\n",
    "- CosineSimilarity()\n",
    "\n",
    "Metrics:\n",
    "- AUC()\n",
    "- Precision()\n",
    "- Recall()"
   ]
  },
  {
   "cell_type": "markdown",
   "id": "coated-mortgage",
   "metadata": {},
   "source": [
    "### ii. Custom losses"
   ]
  },
  {
   "cell_type": "raw",
   "id": "brown-contemporary",
   "metadata": {},
   "source": [
    "There are two ways to provide custom losses with Keras. The first example creates a function that accepts inputs y_true and y_pred. The following example shows a loss function that computes the mean squared error between the real data and the predictions:"
   ]
  },
  {
   "cell_type": "code",
   "execution_count": 11,
   "id": "aging-honolulu",
   "metadata": {},
   "outputs": [
    {
     "name": "stdout",
     "output_type": "stream",
     "text": [
      "782/782 [==============================] - 2s 2ms/step - loss: 0.0290\n"
     ]
    },
    {
     "data": {
      "text/plain": [
       "<tensorflow.python.keras.callbacks.History at 0x2085d6e0790>"
      ]
     },
     "execution_count": 11,
     "metadata": {},
     "output_type": "execute_result"
    }
   ],
   "source": [
    "def custom_mean_squared_error(y_true, y_pred):\n",
    "    return tf.math.reduce_mean(tf.square(y_true - y_pred))\n",
    "\n",
    "\n",
    "model = get_uncompiled_model()\n",
    "model.compile(optimizer=keras.optimizers.Adam(), loss=custom_mean_squared_error)\n",
    "\n",
    "# We need to one-hot encode the labels to use MSE\n",
    "y_train_one_hot = tf.one_hot(y_train, depth=10)\n",
    "model.fit(x_train, y_train_one_hot, batch_size=64, epochs=1)"
   ]
  },
  {
   "cell_type": "raw",
   "id": "hollywood-clinton",
   "metadata": {},
   "source": [
    "If you need a loss function that takes in parameters beside y_true and y_pred, you can subclass the tf.keras.losses.Loss class and implement the following two methods:\n",
    "\n",
    "- __init__(self): accept parameters to pass during the call of your loss function\n",
    "- call(self, y_true, y_pred): use the targets (y_true) and the model predictions (y_pred) to compute the model's loss"
   ]
  },
  {
   "cell_type": "raw",
   "id": "worldwide-geneva",
   "metadata": {},
   "source": [
    "Let's say you want to use mean squared error, but with an added term that will de-incentivize prediction values far from 0.5 (we assume that the categorical targets are one-hot encoded and take values between 0 and 1). This creates an incentive for the model not to be too confident, which may help reduce overfitting (we won't know if it works until we try!)."
   ]
  },
  {
   "cell_type": "code",
   "execution_count": 12,
   "id": "combined-therapist",
   "metadata": {},
   "outputs": [
    {
     "name": "stdout",
     "output_type": "stream",
     "text": [
      "782/782 [==============================] - 2s 2ms/step - loss: 0.0493\n"
     ]
    },
    {
     "data": {
      "text/plain": [
       "<tensorflow.python.keras.callbacks.History at 0x209a5343490>"
      ]
     },
     "execution_count": 12,
     "metadata": {},
     "output_type": "execute_result"
    }
   ],
   "source": [
    "# Here's how you would do it:\n",
    "\n",
    "class CustomMSE(keras.losses.Loss):\n",
    "    def __init__(self, regularization_factor=0.1, name=\"custom_mse\"):\n",
    "        super().__init__(name=name)\n",
    "        self.regularization_factor = regularization_factor\n",
    "\n",
    "    def call(self, y_true, y_pred):\n",
    "        mse = tf.math.reduce_mean(tf.square(y_true - y_pred))\n",
    "        reg = tf.math.reduce_mean(tf.square(0.5 - y_pred))\n",
    "        return mse + reg * self.regularization_factor\n",
    "\n",
    "\n",
    "model = get_uncompiled_model()\n",
    "model.compile(optimizer=keras.optimizers.Adam(), loss=CustomMSE())\n",
    "\n",
    "y_train_one_hot = tf.one_hot(y_train, depth=10)\n",
    "model.fit(x_train, y_train_one_hot, batch_size=64, epochs=1)"
   ]
  },
  {
   "cell_type": "markdown",
   "id": "sophisticated-phase",
   "metadata": {},
   "source": [
    "### iii. Custom metrics"
   ]
  },
  {
   "cell_type": "raw",
   "id": "diagnostic-postage",
   "metadata": {},
   "source": [
    "If you need a metric that isn't part of the API, you can easily create custom metrics by subclassing the tf.keras.metrics.Metric class. You will need to implement 4 methods:\n",
    "\n",
    "- __init__(self), in which you will create state variables for your metric.\n",
    "- update_state(self, y_true, y_pred, sample_weight=None), which uses the targets y_true and the model predictions y_pred to update the state variables.\n",
    "- result(self), which uses the state variables to compute the final results.\n",
    "- reset_states(self), which reinitializes the state of the metric."
   ]
  },
  {
   "cell_type": "raw",
   "id": "tired-princeton",
   "metadata": {},
   "source": [
    "State update and results computation are kept separate (in update_state() and result(), respectively) because in some cases, results computation might be very expensive, and would only be done periodically."
   ]
  },
  {
   "cell_type": "code",
   "execution_count": 13,
   "id": "geological-receptor",
   "metadata": {},
   "outputs": [
    {
     "name": "stdout",
     "output_type": "stream",
     "text": [
      "Epoch 1/3\n",
      "782/782 [==============================] - 3s 3ms/step - loss: 0.5653 - categorical_true_positives: 22099.7995\n",
      "Epoch 2/3\n",
      "782/782 [==============================] - 2s 3ms/step - loss: 0.1747 - categorical_true_positives: 23808.0549\n",
      "Epoch 3/3\n",
      "782/782 [==============================] - 2s 3ms/step - loss: 0.1161 - categorical_true_positives: 24207.2273\n"
     ]
    },
    {
     "data": {
      "text/plain": [
       "<tensorflow.python.keras.callbacks.History at 0x209aa20c130>"
      ]
     },
     "execution_count": 13,
     "metadata": {},
     "output_type": "execute_result"
    }
   ],
   "source": [
    "# Here's a simple example showing how to implement a CategoricalTruePositives metric, \n",
    "# that counts how many samples were correctly classified as belonging to a given class:\n",
    "\n",
    "class CategoricalTruePositives(keras.metrics.Metric):\n",
    "    def __init__(self, name=\"categorical_true_positives\", **kwargs):\n",
    "        super(CategoricalTruePositives, self).__init__(name=name, **kwargs)\n",
    "        self.true_positives = self.add_weight(name=\"ctp\", initializer=\"zeros\")\n",
    "\n",
    "    def update_state(self, y_true, y_pred, sample_weight=None):\n",
    "        y_pred = tf.reshape(tf.argmax(y_pred, axis=1), shape=(-1, 1))\n",
    "        values = tf.cast(y_true, \"int32\") == tf.cast(y_pred, \"int32\")\n",
    "        values = tf.cast(values, \"float32\")\n",
    "        if sample_weight is not None:\n",
    "            sample_weight = tf.cast(sample_weight, \"float32\")\n",
    "            values = tf.multiply(values, sample_weight)\n",
    "        self.true_positives.assign_add(tf.reduce_sum(values))\n",
    "\n",
    "    def result(self):\n",
    "        return self.true_positives\n",
    "\n",
    "    def reset_states(self):\n",
    "        # The state of the metric will be reset at the start of each epoch.\n",
    "        self.true_positives.assign(0.0)\n",
    "\n",
    "\n",
    "model = get_uncompiled_model()\n",
    "model.compile(\n",
    "    optimizer=keras.optimizers.RMSprop(learning_rate=1e-3),\n",
    "    loss=keras.losses.SparseCategoricalCrossentropy(),\n",
    "    metrics=[CategoricalTruePositives()],\n",
    ")\n",
    "model.fit(x_train, y_train, batch_size=64, epochs=3)"
   ]
  },
  {
   "cell_type": "markdown",
   "id": "photographic-machine",
   "metadata": {},
   "source": [
    "### iv. Handling losses and metrics that don't fit the standard signature"
   ]
  },
  {
   "cell_type": "raw",
   "id": "northern-witch",
   "metadata": {},
   "source": [
    "The overwhelming majority of losses and metrics can be computed from y_true and y_pred, where y_pred is an output of your model. But not all of them. For instance, a regularization loss may only require the activation of a layer (there are no targets in this case), and this activation may not be a model output.\n",
    "\n",
    "\n",
    "In such cases, you can call self.add_loss(loss_value) from inside the call method of a custom layer. Losses added in this way get added to the \"main\" loss during training (the one passed to compile()). Here's a simple example that adds activity regularization (note that activity regularization is built-in in all Keras layers -- this layer is just for the sake of providing a concrete example):"
   ]
  },
  {
   "cell_type": "code",
   "execution_count": 14,
   "id": "powered-customs",
   "metadata": {},
   "outputs": [
    {
     "name": "stdout",
     "output_type": "stream",
     "text": [
      "782/782 [==============================] - 3s 3ms/step - loss: 3.6212\n"
     ]
    },
    {
     "data": {
      "text/plain": [
       "<tensorflow.python.keras.callbacks.History at 0x209a534a9a0>"
      ]
     },
     "execution_count": 14,
     "metadata": {},
     "output_type": "execute_result"
    }
   ],
   "source": [
    "class ActivityRegularizationLayer(layers.Layer):\n",
    "    def call(self, inputs):\n",
    "        self.add_loss(tf.reduce_sum(inputs) * 0.1)\n",
    "        return inputs  # Pass-through layer.\n",
    "\n",
    "\n",
    "inputs = keras.Input(shape=(784,), name=\"digits\")\n",
    "x = layers.Dense(64, activation=\"relu\", name=\"dense_1\")(inputs)\n",
    "\n",
    "# Insert activity regularization as a layer\n",
    "x = ActivityRegularizationLayer()(x)\n",
    "\n",
    "x = layers.Dense(64, activation=\"relu\", name=\"dense_2\")(x)\n",
    "outputs = layers.Dense(10, name=\"predictions\")(x)\n",
    "\n",
    "model = keras.Model(inputs=inputs, outputs=outputs)\n",
    "model.compile(\n",
    "    optimizer=keras.optimizers.RMSprop(learning_rate=1e-3),\n",
    "    loss=keras.losses.SparseCategoricalCrossentropy(from_logits=True),\n",
    ")\n",
    "\n",
    "# The displayed loss will be much higher than before\n",
    "# due to the regularization component.\n",
    "model.fit(x_train, y_train, batch_size=64, epochs=1)"
   ]
  },
  {
   "cell_type": "code",
   "execution_count": 15,
   "id": "exciting-truth",
   "metadata": {},
   "outputs": [
    {
     "name": "stdout",
     "output_type": "stream",
     "text": [
      "782/782 [==============================] - 3s 3ms/step - loss: 0.5647 - std_of_activation: 0.9332\n"
     ]
    },
    {
     "data": {
      "text/plain": [
       "<tensorflow.python.keras.callbacks.History at 0x209aa02e8b0>"
      ]
     },
     "execution_count": 15,
     "metadata": {},
     "output_type": "execute_result"
    }
   ],
   "source": [
    "# You can do the same for logging metric values, using add_metric():\n",
    "\n",
    "class MetricLoggingLayer(layers.Layer):\n",
    "    def call(self, inputs):\n",
    "        # The `aggregation` argument defines\n",
    "        # how to aggregate the per-batch values\n",
    "        # over each epoch:\n",
    "        # in this case we simply average them.\n",
    "        self.add_metric(\n",
    "            keras.backend.std(inputs), name=\"std_of_activation\", aggregation=\"mean\"\n",
    "        )\n",
    "        return inputs  # Pass-through layer.\n",
    "\n",
    "\n",
    "inputs = keras.Input(shape=(784,), name=\"digits\")\n",
    "x = layers.Dense(64, activation=\"relu\", name=\"dense_1\")(inputs)\n",
    "\n",
    "# Insert std logging as a layer.\n",
    "x = MetricLoggingLayer()(x)\n",
    "\n",
    "x = layers.Dense(64, activation=\"relu\", name=\"dense_2\")(x)\n",
    "outputs = layers.Dense(10, name=\"predictions\")(x)\n",
    "\n",
    "model = keras.Model(inputs=inputs, outputs=outputs)\n",
    "model.compile(\n",
    "    optimizer=keras.optimizers.RMSprop(learning_rate=1e-3),\n",
    "    loss=keras.losses.SparseCategoricalCrossentropy(from_logits=True),\n",
    ")\n",
    "model.fit(x_train, y_train, batch_size=64, epochs=1)"
   ]
  },
  {
   "cell_type": "raw",
   "id": "respected-shame",
   "metadata": {},
   "source": [
    "In the Functional API, you can also call model.add_loss(loss_tensor), or model.add_metric(metric_tensor, name, aggregation)."
   ]
  },
  {
   "cell_type": "code",
   "execution_count": 16,
   "id": "ceramic-lincoln",
   "metadata": {},
   "outputs": [
    {
     "name": "stdout",
     "output_type": "stream",
     "text": [
      "782/782 [==============================] - 3s 3ms/step - loss: 3.4551 - std_of_activation: 0.0019\n"
     ]
    },
    {
     "data": {
      "text/plain": [
       "<tensorflow.python.keras.callbacks.History at 0x209b6d3e5e0>"
      ]
     },
     "execution_count": 16,
     "metadata": {},
     "output_type": "execute_result"
    }
   ],
   "source": [
    "# Here's a simple example:\n",
    "\n",
    "inputs = keras.Input(shape=(784,), name=\"digits\")\n",
    "x1 = layers.Dense(64, activation=\"relu\", name=\"dense_1\")(inputs)\n",
    "x2 = layers.Dense(64, activation=\"relu\", name=\"dense_2\")(x1)\n",
    "outputs = layers.Dense(10, name=\"predictions\")(x2)\n",
    "model = keras.Model(inputs=inputs, outputs=outputs)\n",
    "\n",
    "model.add_loss(tf.reduce_sum(x1) * 0.1)\n",
    "\n",
    "model.add_metric(keras.backend.std(x1), name=\"std_of_activation\", aggregation=\"mean\")\n",
    "\n",
    "model.compile(\n",
    "    optimizer=keras.optimizers.RMSprop(1e-3),\n",
    "    loss=keras.losses.SparseCategoricalCrossentropy(from_logits=True),\n",
    ")\n",
    "model.fit(x_train, y_train, batch_size=64, epochs=1)"
   ]
  },
  {
   "cell_type": "raw",
   "id": "yellow-spectacular",
   "metadata": {},
   "source": [
    "Note that when you pass losses via add_loss(), it becomes possible to call compile() without a loss function, since the model already has a loss to minimize."
   ]
  },
  {
   "cell_type": "raw",
   "id": "palestinian-hierarchy",
   "metadata": {},
   "source": [
    "Consider the following LogisticEndpoint layer: it takes as inputs targets & logits, and it tracks a crossentropy loss via add_loss(). It also tracks classification accuracy via add_metric()."
   ]
  },
  {
   "cell_type": "code",
   "execution_count": 17,
   "id": "serious-memphis",
   "metadata": {},
   "outputs": [],
   "source": [
    "class LogisticEndpoint(keras.layers.Layer):\n",
    "    def __init__(self, name=None):\n",
    "        super(LogisticEndpoint, self).__init__(name=name)\n",
    "        self.loss_fn = keras.losses.BinaryCrossentropy(from_logits=True)\n",
    "        self.accuracy_fn = keras.metrics.BinaryAccuracy()\n",
    "\n",
    "    def call(self, targets, logits, sample_weights=None):\n",
    "        # Compute the training-time loss value and add it\n",
    "        # to the layer using `self.add_loss()`.\n",
    "        loss = self.loss_fn(targets, logits, sample_weights)\n",
    "        self.add_loss(loss)\n",
    "\n",
    "        # Log accuracy as a metric and add it\n",
    "        # to the layer using `self.add_metric()`.\n",
    "        acc = self.accuracy_fn(targets, logits, sample_weights)\n",
    "        self.add_metric(acc, name=\"accuracy\")\n",
    "\n",
    "        # Return the inference-time prediction tensor (for `.predict()`).\n",
    "        return tf.nn.softmax(logits)"
   ]
  },
  {
   "cell_type": "code",
   "execution_count": 18,
   "id": "dressed-extraction",
   "metadata": {},
   "outputs": [
    {
     "name": "stdout",
     "output_type": "stream",
     "text": [
      "1/1 [==============================] - 0s 218ms/step - loss: 0.9083 - binary_accuracy: 0.0000e+00\n"
     ]
    },
    {
     "data": {
      "text/plain": [
       "<tensorflow.python.keras.callbacks.History at 0x209b7125220>"
      ]
     },
     "execution_count": 18,
     "metadata": {},
     "output_type": "execute_result"
    }
   ],
   "source": [
    "# You can use it in a model with two inputs (input data & targets), compiled without a loss argument, like this:\n",
    "\n",
    "import numpy as np\n",
    "\n",
    "inputs = keras.Input(shape=(3,), name=\"inputs\")\n",
    "targets = keras.Input(shape=(10,), name=\"targets\")\n",
    "logits = keras.layers.Dense(10)(inputs)\n",
    "predictions = LogisticEndpoint(name=\"predictions\")(logits, targets)\n",
    "\n",
    "model = keras.Model(inputs=[inputs, targets], outputs=predictions)\n",
    "model.compile(optimizer=\"adam\")  # No loss argument!\n",
    "\n",
    "data = {\n",
    "    \"inputs\": np.random.random((3, 3)),\n",
    "    \"targets\": np.random.random((3, 10)),\n",
    "}\n",
    "model.fit(data)"
   ]
  },
  {
   "cell_type": "raw",
   "id": "accomplished-pencil",
   "metadata": {},
   "source": [
    "For more information about training multi-input models, see the section Passing data to multi-input, multi-output models."
   ]
  },
  {
   "cell_type": "markdown",
   "id": "compact-signature",
   "metadata": {},
   "source": [
    "### v. Automatically setting apart a validation holdout set"
   ]
  },
  {
   "cell_type": "raw",
   "id": "pretty-attraction",
   "metadata": {},
   "source": [
    "In the first end-to-end example you saw, we used the validation_data argument to pass a tuple of NumPy arrays (x_val, y_val) to the model for evaluating a validation loss and validation metrics at the end of each epoch.\n",
    "\n",
    "Here's another option: the argument validation_split allows you to automatically reserve part of your training data for validation. The argument value represents the fraction of the data to be reserved for validation, so it should be set to a number higher than 0 and lower than 1. For instance, validation_split=0.2 means \"use 20% of the data for validation\", and validation_split=0.6 means \"use 60% of the data for validation\".\n",
    "\n",
    "The way the validation is computed is by taking the last x% samples of the arrays received by the fit call, before any shuffling."
   ]
  },
  {
   "cell_type": "code",
   "execution_count": 20,
   "id": "greatest-jerusalem",
   "metadata": {},
   "outputs": [
    {
     "name": "stdout",
     "output_type": "stream",
     "text": [
      "625/625 [==============================] - 2s 3ms/step - loss: 0.6216 - sparse_categorical_accuracy: 0.8304 - val_loss: 0.2422 - val_sparse_categorical_accuracy: 0.9253\n"
     ]
    },
    {
     "data": {
      "text/plain": [
       "<tensorflow.python.keras.callbacks.History at 0x209be51f160>"
      ]
     },
     "execution_count": 20,
     "metadata": {},
     "output_type": "execute_result"
    }
   ],
   "source": [
    "# Note that you can only use validation_split when training with NumPy data.\n",
    "\n",
    "model = get_compiled_model()\n",
    "model.fit(x_train, y_train, batch_size=64, validation_split=0.2, epochs=1)"
   ]
  },
  {
   "cell_type": "markdown",
   "id": "meaning-greek",
   "metadata": {},
   "source": [
    "## 4. Training & evaluation from tf.data Datasets"
   ]
  },
  {
   "cell_type": "raw",
   "id": "mature-vertical",
   "metadata": {},
   "source": [
    "In the past few paragraphs, you've seen how to handle losses, metrics, and optimizers, and you've seen how to use the validation_data and validation_split arguments in fit, when your data is passed as NumPy arrays.\n",
    "\n",
    "Let's now take a look at the case where your data comes in the form of a tf.data.Dataset object.\n",
    "\n",
    "The tf.data API is a set of utilities in TensorFlow 2.0 for loading and preprocessing data in a way that's fast and scalable.\n",
    "\n",
    "For a complete guide about creating Datasets, see the tf.data documentation."
   ]
  },
  {
   "cell_type": "code",
   "execution_count": 21,
   "id": "crucial-satellite",
   "metadata": {},
   "outputs": [
    {
     "name": "stdout",
     "output_type": "stream",
     "text": [
      "Epoch 1/3\n",
      "782/782 [==============================] - 3s 3ms/step - loss: 0.5582 - sparse_categorical_accuracy: 0.8499\n",
      "Epoch 2/3\n",
      "782/782 [==============================] - 2s 3ms/step - loss: 0.1672 - sparse_categorical_accuracy: 0.9514\n",
      "Epoch 3/3\n",
      "782/782 [==============================] - 2s 3ms/step - loss: 0.1173 - sparse_categorical_accuracy: 0.9654\n",
      "Evaluate\n",
      "157/157 [==============================] - 0s 1ms/step - loss: 0.1151 - sparse_categorical_accuracy: 0.9665\n"
     ]
    },
    {
     "data": {
      "text/plain": [
       "{'loss': 0.11511613428592682,\n",
       " 'sparse_categorical_accuracy': 0.9664999842643738}"
      ]
     },
     "execution_count": 21,
     "metadata": {},
     "output_type": "execute_result"
    }
   ],
   "source": [
    "# You can pass a Dataset instance directly to the methods fit(), evaluate(), and predict():\n",
    "\n",
    "model = get_compiled_model()\n",
    "\n",
    "# First, let's create a training Dataset instance.\n",
    "# For the sake of our example, we'll use the same MNIST data as before.\n",
    "train_dataset = tf.data.Dataset.from_tensor_slices((x_train, y_train))\n",
    "# Shuffle and slice the dataset.\n",
    "train_dataset = train_dataset.shuffle(buffer_size=1024).batch(64)\n",
    "\n",
    "# Now we get a test dataset.\n",
    "test_dataset = tf.data.Dataset.from_tensor_slices((x_test, y_test))\n",
    "test_dataset = test_dataset.batch(64)\n",
    "\n",
    "# Since the dataset already takes care of batching,\n",
    "# we don't pass a `batch_size` argument.\n",
    "model.fit(train_dataset, epochs=3)\n",
    "\n",
    "# You can also evaluate or predict on a dataset.\n",
    "print(\"Evaluate\")\n",
    "result = model.evaluate(test_dataset)\n",
    "dict(zip(model.metrics_names, result))"
   ]
  },
  {
   "cell_type": "raw",
   "id": "rocky-police",
   "metadata": {},
   "source": [
    "Note that the Dataset is reset at the end of each epoch, so it can be reused of the next epoch.\n",
    "\n",
    "If you want to run training only on a specific number of batches from this Dataset, you can pass the steps_per_epoch argument, which specifies how many training steps the model should run using this Dataset before moving on to the next epoch.\n",
    "\n",
    "If you do this, the dataset is not reset at the end of each epoch, instead we just keep drawing the next batches. The dataset will eventually run out of data (unless it is an infinitely-looping dataset)."
   ]
  },
  {
   "cell_type": "code",
   "execution_count": 22,
   "id": "blind-application",
   "metadata": {},
   "outputs": [
    {
     "name": "stdout",
     "output_type": "stream",
     "text": [
      "Epoch 1/3\n",
      "100/100 [==============================] - 1s 3ms/step - loss: 1.2085 - sparse_categorical_accuracy: 0.6633\n",
      "Epoch 2/3\n",
      "100/100 [==============================] - 0s 3ms/step - loss: 0.3849 - sparse_categorical_accuracy: 0.8877\n",
      "Epoch 3/3\n",
      "100/100 [==============================] - 0s 3ms/step - loss: 0.3498 - sparse_categorical_accuracy: 0.8953\n"
     ]
    },
    {
     "data": {
      "text/plain": [
       "<tensorflow.python.keras.callbacks.History at 0x209be806700>"
      ]
     },
     "execution_count": 22,
     "metadata": {},
     "output_type": "execute_result"
    }
   ],
   "source": [
    "model = get_compiled_model()\n",
    "\n",
    "# Prepare the training dataset\n",
    "train_dataset = tf.data.Dataset.from_tensor_slices((x_train, y_train))\n",
    "train_dataset = train_dataset.shuffle(buffer_size=1024).batch(64)\n",
    "\n",
    "# Only use the 100 batches per epoch (that's 64 * 100 samples)\n",
    "model.fit(train_dataset, epochs=3, steps_per_epoch=100)"
   ]
  },
  {
   "cell_type": "markdown",
   "id": "hourly-bicycle",
   "metadata": {},
   "source": [
    "### Using a validation dataset"
   ]
  },
  {
   "cell_type": "code",
   "execution_count": 23,
   "id": "secret-medium",
   "metadata": {},
   "outputs": [
    {
     "name": "stdout",
     "output_type": "stream",
     "text": [
      "782/782 [==============================] - 3s 4ms/step - loss: 0.5588 - sparse_categorical_accuracy: 0.8445 - val_loss: 0.2124 - val_sparse_categorical_accuracy: 0.9376\n"
     ]
    },
    {
     "data": {
      "text/plain": [
       "<tensorflow.python.keras.callbacks.History at 0x209bfecea90>"
      ]
     },
     "execution_count": 23,
     "metadata": {},
     "output_type": "execute_result"
    }
   ],
   "source": [
    "# You can pass a Dataset instance as the validation_data argument in fit():\n",
    "\n",
    "model = get_compiled_model()\n",
    "\n",
    "# Prepare the training dataset\n",
    "train_dataset = tf.data.Dataset.from_tensor_slices((x_train, y_train))\n",
    "train_dataset = train_dataset.shuffle(buffer_size=1024).batch(64)\n",
    "\n",
    "# Prepare the validation dataset\n",
    "val_dataset = tf.data.Dataset.from_tensor_slices((x_val, y_val))\n",
    "val_dataset = val_dataset.batch(64)\n",
    "\n",
    "model.fit(train_dataset, epochs=1, validation_data=val_dataset)"
   ]
  },
  {
   "cell_type": "raw",
   "id": "recorded-marina",
   "metadata": {},
   "source": [
    "At the end of each epoch, the model will iterate over the validation dataset and compute the validation loss and validation metrics."
   ]
  },
  {
   "cell_type": "raw",
   "id": "improving-northwest",
   "metadata": {},
   "source": [
    "If you want to run validation only on a specific number of batches from this dataset, you can pass the validation_steps argument, which specifies how many validation steps the model should run with the validation dataset before interrupting validation and moving on to the next epoch:"
   ]
  },
  {
   "cell_type": "code",
   "execution_count": 24,
   "id": "surprised-elimination",
   "metadata": {},
   "outputs": [
    {
     "name": "stdout",
     "output_type": "stream",
     "text": [
      "782/782 [==============================] - 3s 3ms/step - loss: 0.5703 - sparse_categorical_accuracy: 0.8445 - val_loss: 0.2661 - val_sparse_categorical_accuracy: 0.9281\n"
     ]
    },
    {
     "data": {
      "text/plain": [
       "<tensorflow.python.keras.callbacks.History at 0x209bfece550>"
      ]
     },
     "execution_count": 24,
     "metadata": {},
     "output_type": "execute_result"
    }
   ],
   "source": [
    "model = get_compiled_model()\n",
    "\n",
    "# Prepare the training dataset\n",
    "train_dataset = tf.data.Dataset.from_tensor_slices((x_train, y_train))\n",
    "train_dataset = train_dataset.shuffle(buffer_size=1024).batch(64)\n",
    "\n",
    "# Prepare the validation dataset\n",
    "val_dataset = tf.data.Dataset.from_tensor_slices((x_val, y_val))\n",
    "val_dataset = val_dataset.batch(64)\n",
    "\n",
    "model.fit(\n",
    "    train_dataset,\n",
    "    epochs=1,\n",
    "    # Only run validation using the first 10 batches of the dataset\n",
    "    # using the `validation_steps` argument\n",
    "    validation_data=val_dataset,\n",
    "    validation_steps=10,\n",
    ")"
   ]
  },
  {
   "cell_type": "raw",
   "id": "automated-sphere",
   "metadata": {},
   "source": [
    "Note that the validation dataset will be reset after each use (so that you will always be evaluating on the same samples from epoch to epoch)."
   ]
  },
  {
   "cell_type": "raw",
   "id": "center-afternoon",
   "metadata": {},
   "source": [
    "The argument validation_split (generating a holdout set from the training data) is not supported when training from Dataset objects, since this feature requires the ability to index the samples of the datasets, which is not possible in general with the Dataset API."
   ]
  },
  {
   "cell_type": "markdown",
   "id": "convenient-headquarters",
   "metadata": {},
   "source": [
    "## 5. Other input formats supported"
   ]
  },
  {
   "cell_type": "raw",
   "id": "noble-guarantee",
   "metadata": {},
   "source": [
    "Besides NumPy arrays, eager tensors, and TensorFlow Datasets, it's possible to train a Keras model using Pandas dataframes, or from Python generators that yield batches of data & labels."
   ]
  },
  {
   "cell_type": "raw",
   "id": "rational-voice",
   "metadata": {},
   "source": [
    "In particular, the keras.utils.Sequence class offers a simple interface to build Python data generators that are multiprocessing-aware and can be shuffled."
   ]
  },
  {
   "cell_type": "raw",
   "id": "vocational-healthcare",
   "metadata": {},
   "source": [
    "In general, we recommend that you use:\n",
    "\n",
    "- NumPy input data if your data is small and fits in memory\n",
    "- Dataset objects if you have large datasets and you need to do distributed training\n",
    "- Sequence objects if you have large datasets and you need to do a lot of custom Python-side processing that cannot be done in TensorFlow (e.g. if you rely on external libraries for data loading or preprocessing)."
   ]
  },
  {
   "cell_type": "markdown",
   "id": "infinite-consortium",
   "metadata": {},
   "source": [
    "## 6. Using a keras.utils.Sequence object as input"
   ]
  },
  {
   "cell_type": "raw",
   "id": "stuffed-termination",
   "metadata": {},
   "source": [
    "keras.utils.Sequence is a utility that you can subclass to obtain a Python generator with two important properties:\n",
    "\n",
    "- It works well with multiprocessing.\n",
    "- It can be shuffled (e.g. when passing shuffle=True in fit()).\n",
    "\n",
    "A Sequence must implement two methods:\n",
    "\n",
    "- __getitem__\n",
    "- __len__\n",
    "\n",
    "\n",
    "The method __getitem__ should return a complete batch. If you want to modify your dataset between epochs, you may implement on_epoch_end."
   ]
  },
  {
   "cell_type": "code",
   "execution_count": null,
   "id": "numeric-discount",
   "metadata": {},
   "outputs": [],
   "source": [
    "# Here's a quick example:\n",
    "\n",
    "from skimage.io import imread\n",
    "from skimage.transform import resize\n",
    "import numpy as np\n",
    "\n",
    "# Here, `filenames` is list of path to the images\n",
    "# and `labels` are the associated labels.\n",
    "\n",
    "class CIFAR10Sequence(Sequence):\n",
    "    def __init__(self, filenames, labels, batch_size):\n",
    "        self.filenames, self.labels = filenames, labels\n",
    "        self.batch_size = batch_size\n",
    "\n",
    "    def __len__(self):\n",
    "        return int(np.ceil(len(self.filenames) / float(self.batch_size)))\n",
    "\n",
    "    def __getitem__(self, idx):\n",
    "        batch_x = self.filenames[idx * self.batch_size:(idx + 1) * self.batch_size]\n",
    "        batch_y = self.labels[idx * self.batch_size:(idx + 1) * self.batch_size]\n",
    "        return np.array([\n",
    "            resize(imread(filename), (200, 200))\n",
    "               for filename in batch_x]), np.array(batch_y)\n",
    "\n",
    "sequence = CIFAR10Sequence(filenames, labels, batch_size)\n",
    "model.fit(sequence, epochs=10)"
   ]
  },
  {
   "cell_type": "markdown",
   "id": "unexpected-customs",
   "metadata": {},
   "source": [
    "## 7. Using sample weighting and class weighting"
   ]
  },
  {
   "cell_type": "raw",
   "id": "fleet-bracelet",
   "metadata": {},
   "source": [
    "With the default settings the weight of a sample is decided by its frequency in the dataset. There are two methods to weight the data, independent of sample frequency:\n",
    "\n",
    "- Class weights\n",
    "- Sample weights"
   ]
  },
  {
   "cell_type": "markdown",
   "id": "hungarian-japan",
   "metadata": {},
   "source": [
    "### i. Class weights"
   ]
  },
  {
   "cell_type": "raw",
   "id": "bronze-luxury",
   "metadata": {},
   "source": [
    "This is set by passing a dictionary to the class_weight argument to Model.fit(). This dictionary maps class indices to the weight that should be used for samples belonging to this class.\n",
    "\n",
    "This can be used to balance classes without resampling, or to train a model that gives more importance to a particular class.\n",
    "\n",
    "For instance, if class \"0\" is half as represented as class \"1\" in your data, you could use Model.fit(..., class_weight={0: 1., 1: 0.5})."
   ]
  },
  {
   "cell_type": "code",
   "execution_count": 28,
   "id": "intended-shape",
   "metadata": {},
   "outputs": [
    {
     "name": "stdout",
     "output_type": "stream",
     "text": [
      "Fit with class weight\n",
      "782/782 [==============================] - 3s 3ms/step - loss: 0.6280 - sparse_categorical_accuracy: 0.8366\n"
     ]
    },
    {
     "data": {
      "text/plain": [
       "<tensorflow.python.keras.callbacks.History at 0x209c43dd490>"
      ]
     },
     "execution_count": 28,
     "metadata": {},
     "output_type": "execute_result"
    }
   ],
   "source": [
    "# Here's a NumPy example where we use class weights or sample weights to give \n",
    "# more importance to the correct classification of class #5 (which is the digit \"5\" in the MNIST dataset).\n",
    "\n",
    "import numpy as np\n",
    "\n",
    "class_weight = {\n",
    "    0: 1.0,\n",
    "    1: 1.0,\n",
    "    2: 1.0,\n",
    "    3: 1.0,\n",
    "    4: 1.0,\n",
    "    # Set weight \"2\" for class \"5\",\n",
    "    # making this class 2x more important\n",
    "    5: 2.0,\n",
    "    6: 1.0,\n",
    "    7: 1.0,\n",
    "    8: 1.0,\n",
    "    9: 1.0,\n",
    "}\n",
    "\n",
    "print(\"Fit with class weight\")\n",
    "model = get_compiled_model()\n",
    "model.fit(x_train, y_train, class_weight=class_weight, batch_size=64, epochs=1)"
   ]
  },
  {
   "cell_type": "markdown",
   "id": "cordless-testing",
   "metadata": {},
   "source": [
    "### ii. Sample weights"
   ]
  },
  {
   "cell_type": "raw",
   "id": "accessory-argument",
   "metadata": {},
   "source": [
    "For fine grained control, or if you are not building a classifier, you can use \"sample weights\".\n",
    "\n",
    "- When training from NumPy data: Pass the sample_weight argument to Model.fit().\n",
    "- When training from tf.data or any other sort of iterator: Yield (input_batch, label_batch, sample_weight_batch) tuples.\n",
    "\n",
    "A \"sample weights\" array is an array of numbers that specify how much weight each sample in a batch should have in computing the total loss. It is commonly used in imbalanced classification problems (the idea being to give more weight to rarely-seen classes)."
   ]
  },
  {
   "cell_type": "raw",
   "id": "periodic-aquatic",
   "metadata": {},
   "source": [
    "When the weights used are ones and zeros, the array can be used as a mask for the loss function (entirely discarding the contribution of certain samples to the total loss)."
   ]
  },
  {
   "cell_type": "code",
   "execution_count": 29,
   "id": "covered-algebra",
   "metadata": {},
   "outputs": [
    {
     "name": "stdout",
     "output_type": "stream",
     "text": [
      "Fit with sample weight\n",
      "782/782 [==============================] - 3s 3ms/step - loss: 0.6485 - sparse_categorical_accuracy: 0.8323\n"
     ]
    },
    {
     "data": {
      "text/plain": [
       "<tensorflow.python.keras.callbacks.History at 0x209c575d820>"
      ]
     },
     "execution_count": 29,
     "metadata": {},
     "output_type": "execute_result"
    }
   ],
   "source": [
    "sample_weight = np.ones(shape=(len(y_train),))\n",
    "sample_weight[y_train == 5] = 2.0\n",
    "\n",
    "print(\"Fit with sample weight\")\n",
    "model = get_compiled_model()\n",
    "model.fit(x_train, y_train, sample_weight=sample_weight, batch_size=64, epochs=1)"
   ]
  },
  {
   "cell_type": "code",
   "execution_count": 30,
   "id": "dimensional-credits",
   "metadata": {},
   "outputs": [
    {
     "name": "stdout",
     "output_type": "stream",
     "text": [
      "782/782 [==============================] - 3s 3ms/step - loss: 0.6218 - sparse_categorical_accuracy: 0.8402\n"
     ]
    },
    {
     "data": {
      "text/plain": [
       "<tensorflow.python.keras.callbacks.History at 0x209c5ac4b80>"
      ]
     },
     "execution_count": 30,
     "metadata": {},
     "output_type": "execute_result"
    }
   ],
   "source": [
    "# Here's a matching Dataset example:\n",
    "\n",
    "sample_weight = np.ones(shape=(len(y_train),))\n",
    "sample_weight[y_train == 5] = 2.0\n",
    "\n",
    "# Create a Dataset that includes sample weights\n",
    "# (3rd element in the return tuple).\n",
    "train_dataset = tf.data.Dataset.from_tensor_slices((x_train, y_train, sample_weight))\n",
    "\n",
    "# Shuffle and slice the dataset.\n",
    "train_dataset = train_dataset.shuffle(buffer_size=1024).batch(64)\n",
    "\n",
    "model = get_compiled_model()\n",
    "model.fit(train_dataset, epochs=1)"
   ]
  },
  {
   "cell_type": "markdown",
   "id": "general-petersburg",
   "metadata": {},
   "source": [
    "## 8. Passing data to multi-input, multi-output models"
   ]
  },
  {
   "cell_type": "raw",
   "id": "exceptional-cherry",
   "metadata": {},
   "source": [
    "In the previous examples, we were considering a model with a single input (a tensor of shape (764,)) and a single output (a prediction tensor of shape (10,)). But what about models that have multiple inputs or outputs?"
   ]
  },
  {
   "cell_type": "raw",
   "id": "miniature-antarctica",
   "metadata": {},
   "source": [
    "Consider the following model, which has an image input of shape (32, 32, 3) (that's (height, width, channels)) and a timeseries input of shape (None, 10) (that's (timesteps, features)). Our model will have two outputs computed from the combination of these inputs: a \"score\" (of shape (1,)) and a probability distribution over five classes (of shape (5,))."
   ]
  },
  {
   "cell_type": "code",
   "execution_count": 31,
   "id": "optical-solid",
   "metadata": {},
   "outputs": [],
   "source": [
    "image_input = keras.Input(shape=(32, 32, 3), name=\"img_input\")\n",
    "timeseries_input = keras.Input(shape=(None, 10), name=\"ts_input\")\n",
    "\n",
    "x1 = layers.Conv2D(3, 3)(image_input)\n",
    "x1 = layers.GlobalMaxPooling2D()(x1)\n",
    "\n",
    "x2 = layers.Conv1D(3, 3)(timeseries_input)\n",
    "x2 = layers.GlobalMaxPooling1D()(x2)\n",
    "\n",
    "x = layers.concatenate([x1, x2])\n",
    "\n",
    "score_output = layers.Dense(1, name=\"score_output\")(x)\n",
    "class_output = layers.Dense(5, name=\"class_output\")(x)\n",
    "\n",
    "model = keras.Model(\n",
    "    inputs=[image_input, timeseries_input], outputs=[score_output, class_output]\n",
    ")"
   ]
  },
  {
   "cell_type": "code",
   "execution_count": 32,
   "id": "trying-cloud",
   "metadata": {},
   "outputs": [
    {
     "data": {
      "image/png": "[encoded data removed]",
      "text/plain": [
       "<IPython.core.display.Image object>"
      ]
     },
     "execution_count": 32,
     "metadata": {},
     "output_type": "execute_result"
    }
   ],
   "source": [
    "# Let's plot this model, so you can clearly see what we're doing here \n",
    "# (note that the shapes shown in the plot are batch shapes, rather than per-sample shapes).\n",
    "\n",
    "keras.utils.plot_model(model, \"multi_input_and_output_model.png\", show_shapes=True)"
   ]
  },
  {
   "cell_type": "raw",
   "id": "biblical-partnership",
   "metadata": {},
   "source": [
    "If we only passed a single loss function to the model, the same loss function would be applied to every output (which is not appropriate here)."
   ]
  },
  {
   "cell_type": "code",
   "execution_count": 33,
   "id": "little-recommendation",
   "metadata": {},
   "outputs": [],
   "source": [
    "# Likewise for metrics:\n",
    "\n",
    "model.compile(\n",
    "    optimizer=keras.optimizers.RMSprop(1e-3),\n",
    "    loss=[keras.losses.MeanSquaredError(), keras.losses.CategoricalCrossentropy()],\n",
    "    metrics=[\n",
    "        [\n",
    "            keras.metrics.MeanAbsolutePercentageError(),\n",
    "            keras.metrics.MeanAbsoluteError(),\n",
    "        ],\n",
    "        [keras.metrics.CategoricalAccuracy()],\n",
    "    ],\n",
    ")"
   ]
  },
  {
   "cell_type": "code",
   "execution_count": 34,
   "id": "productive-melbourne",
   "metadata": {},
   "outputs": [],
   "source": [
    "# Since we gave names to our output layers, we could also specify per-output losses and metrics via a dict:\n",
    "\n",
    "model.compile(\n",
    "    optimizer=keras.optimizers.RMSprop(1e-3),\n",
    "    loss={\n",
    "        \"score_output\": keras.losses.MeanSquaredError(),\n",
    "        \"class_output\": keras.losses.CategoricalCrossentropy(),\n",
    "    },\n",
    "    metrics={\n",
    "        \"score_output\": [\n",
    "            keras.metrics.MeanAbsolutePercentageError(),\n",
    "            keras.metrics.MeanAbsoluteError(),\n",
    "        ],\n",
    "        \"class_output\": [keras.metrics.CategoricalAccuracy()],\n",
    "    },\n",
    ")"
   ]
  },
  {
   "cell_type": "raw",
   "id": "rubber-jungle",
   "metadata": {},
   "source": [
    "We recommend the use of explicit names and dicts if you have more than 2 outputs."
   ]
  },
  {
   "cell_type": "code",
   "execution_count": 35,
   "id": "invalid-scheme",
   "metadata": {},
   "outputs": [],
   "source": [
    "# It's possible to give different weights to different output-specific losses \n",
    "# (for instance, one might wish to privilege the \"score\" loss in our example, by giving to 2x the importance of the class loss), \n",
    "# using the loss_weights argument:\n",
    "\n",
    "model.compile(\n",
    "    optimizer=keras.optimizers.RMSprop(1e-3),\n",
    "    loss={\n",
    "        \"score_output\": keras.losses.MeanSquaredError(),\n",
    "        \"class_output\": keras.losses.CategoricalCrossentropy(),\n",
    "    },\n",
    "    metrics={\n",
    "        \"score_output\": [\n",
    "            keras.metrics.MeanAbsolutePercentageError(),\n",
    "            keras.metrics.MeanAbsoluteError(),\n",
    "        ],\n",
    "        \"class_output\": [keras.metrics.CategoricalAccuracy()],\n",
    "    },\n",
    "    loss_weights={\"score_output\": 2.0, \"class_output\": 1.0},\n",
    ")"
   ]
  },
  {
   "cell_type": "code",
   "execution_count": 36,
   "id": "secondary-geometry",
   "metadata": {},
   "outputs": [],
   "source": [
    "# You could also chose not to compute a loss for certain outputs, if these outputs meant for prediction but not for training:\n",
    "\n",
    "# List loss version\n",
    "model.compile(\n",
    "    optimizer=keras.optimizers.RMSprop(1e-3),\n",
    "    loss=[None, keras.losses.CategoricalCrossentropy()],\n",
    ")\n",
    "\n",
    "# Or dict loss version\n",
    "model.compile(\n",
    "    optimizer=keras.optimizers.RMSprop(1e-3),\n",
    "    loss={\"class_output\": keras.losses.CategoricalCrossentropy()},\n",
    ")"
   ]
  },
  {
   "cell_type": "raw",
   "id": "opposite-garage",
   "metadata": {},
   "source": [
    "Passing data to a multi-input or multi-output model in fit works in a similar way as specifying a loss function in compile: you can pass lists of NumPy arrays (with 1:1 mapping to the outputs that received a loss function) or dicts mapping output names to NumPy arrays."
   ]
  },
  {
   "cell_type": "code",
   "execution_count": 37,
   "id": "transsexual-default",
   "metadata": {},
   "outputs": [
    {
     "name": "stdout",
     "output_type": "stream",
     "text": [
      "4/4 [==============================] - 2s 26ms/step - loss: 18.9183 - score_output_loss: 0.6276 - class_output_loss: 18.2906\n",
      "4/4 [==============================] - 0s 7ms/step - loss: 18.2324 - score_output_loss: 0.3146 - class_output_loss: 17.9178\n"
     ]
    },
    {
     "data": {
      "text/plain": [
       "<tensorflow.python.keras.callbacks.History at 0x209c474e5e0>"
      ]
     },
     "execution_count": 37,
     "metadata": {},
     "output_type": "execute_result"
    }
   ],
   "source": [
    "model.compile(\n",
    "    optimizer=keras.optimizers.RMSprop(1e-3),\n",
    "    loss=[keras.losses.MeanSquaredError(), keras.losses.CategoricalCrossentropy()],\n",
    ")\n",
    "\n",
    "# Generate dummy NumPy data\n",
    "img_data = np.random.random_sample(size=(100, 32, 32, 3))\n",
    "ts_data = np.random.random_sample(size=(100, 20, 10))\n",
    "score_targets = np.random.random_sample(size=(100, 1))\n",
    "class_targets = np.random.random_sample(size=(100, 5))\n",
    "\n",
    "# Fit on lists\n",
    "model.fit([img_data, ts_data], [score_targets, class_targets], batch_size=32, epochs=1)\n",
    "\n",
    "# Alternatively, fit on dicts\n",
    "model.fit(\n",
    "    {\"img_input\": img_data, \"ts_input\": ts_data},\n",
    "    {\"score_output\": score_targets, \"class_output\": class_targets},\n",
    "    batch_size=32,\n",
    "    epochs=1,\n",
    ")"
   ]
  },
  {
   "cell_type": "code",
   "execution_count": 38,
   "id": "fallen-conservative",
   "metadata": {},
   "outputs": [
    {
     "name": "stdout",
     "output_type": "stream",
     "text": [
      "2/2 [==============================] - 0s 64ms/step - loss: 17.9810 - score_output_loss: 0.2322 - class_output_loss: 17.7488\n"
     ]
    },
    {
     "data": {
      "text/plain": [
       "<tensorflow.python.keras.callbacks.History at 0x209c5a9aeb0>"
      ]
     },
     "execution_count": 38,
     "metadata": {},
     "output_type": "execute_result"
    }
   ],
   "source": [
    "# Here's the Dataset use case: similarly as what we did for NumPy arrays, the Dataset should return a tuple of dicts.\n",
    "\n",
    "train_dataset = tf.data.Dataset.from_tensor_slices(\n",
    "    (\n",
    "        {\"img_input\": img_data, \"ts_input\": ts_data},\n",
    "        {\"score_output\": score_targets, \"class_output\": class_targets},\n",
    "    )\n",
    ")\n",
    "train_dataset = train_dataset.shuffle(buffer_size=1024).batch(64)\n",
    "\n",
    "model.fit(train_dataset, epochs=1)"
   ]
  },
  {
   "cell_type": "markdown",
   "id": "unavailable-homework",
   "metadata": {},
   "source": [
    "## 9. Using callbacks"
   ]
  },
  {
   "cell_type": "raw",
   "id": "excellent-insulation",
   "metadata": {},
   "source": [
    "Callbacks in Keras are objects that are called at different points during training (at the start of an epoch, at the end of a batch, at the end of an epoch, etc.) and which can be used to implement behaviors such as:\n",
    "\n",
    "- Doing validation at different points during training (beyond the built-in per-epoch validation)\n",
    "- Checkpointing the model at regular intervals or when it exceeds a certain accuracy threshold\n",
    "- Changing the learning rate of the model when training seems to be plateauing\n",
    "- Doing fine-tuning of the top layers when training seems to be plateauing\n",
    "- Sending email or instant message notifications when training ends or where a certain performance threshold is exceeded\n"
   ]
  },
  {
   "cell_type": "code",
   "execution_count": 39,
   "id": "destroyed-boxing",
   "metadata": {},
   "outputs": [
    {
     "name": "stdout",
     "output_type": "stream",
     "text": [
      "Epoch 1/20\n",
      "625/625 [==============================] - 2s 3ms/step - loss: 0.6193 - sparse_categorical_accuracy: 0.8281 - val_loss: 0.2226 - val_sparse_categorical_accuracy: 0.9329\n",
      "Epoch 2/20\n",
      "625/625 [==============================] - 2s 3ms/step - loss: 0.1774 - sparse_categorical_accuracy: 0.9476 - val_loss: 0.1816 - val_sparse_categorical_accuracy: 0.9449\n",
      "Epoch 3/20\n",
      "625/625 [==============================] - 2s 3ms/step - loss: 0.1247 - sparse_categorical_accuracy: 0.9623 - val_loss: 0.1584 - val_sparse_categorical_accuracy: 0.9531\n",
      "Epoch 4/20\n",
      "625/625 [==============================] - 2s 3ms/step - loss: 0.0975 - sparse_categorical_accuracy: 0.9695 - val_loss: 0.1471 - val_sparse_categorical_accuracy: 0.9560\n",
      "Epoch 5/20\n",
      "625/625 [==============================] - 2s 3ms/step - loss: 0.0826 - sparse_categorical_accuracy: 0.9754 - val_loss: 0.1371 - val_sparse_categorical_accuracy: 0.9619\n",
      "Epoch 6/20\n",
      "625/625 [==============================] - 2s 3ms/step - loss: 0.0659 - sparse_categorical_accuracy: 0.9799 - val_loss: 0.1494 - val_sparse_categorical_accuracy: 0.9577\n",
      "Epoch 7/20\n",
      "625/625 [==============================] - 2s 3ms/step - loss: 0.0559 - sparse_categorical_accuracy: 0.9837 - val_loss: 0.1431 - val_sparse_categorical_accuracy: 0.9613\n",
      "Epoch 00007: early stopping\n"
     ]
    },
    {
     "data": {
      "text/plain": [
       "<tensorflow.python.keras.callbacks.History at 0x209c8d06cd0>"
      ]
     },
     "execution_count": 39,
     "metadata": {},
     "output_type": "execute_result"
    }
   ],
   "source": [
    "# Callbacks can be passed as a list to your call to fit():\n",
    "\n",
    "model = get_compiled_model()\n",
    "\n",
    "callbacks = [\n",
    "    keras.callbacks.EarlyStopping(\n",
    "        # Stop training when `val_loss` is no longer improving\n",
    "        monitor=\"val_loss\",\n",
    "        # \"no longer improving\" being defined as \"no better than 1e-2 less\"\n",
    "        min_delta=1e-2,\n",
    "        # \"no longer improving\" being further defined as \"for at least 2 epochs\"\n",
    "        patience=2,\n",
    "        verbose=1,\n",
    "    )\n",
    "]\n",
    "model.fit(\n",
    "    x_train,\n",
    "    y_train,\n",
    "    epochs=20,\n",
    "    batch_size=64,\n",
    "    callbacks=callbacks,\n",
    "    validation_split=0.2,\n",
    ")"
   ]
  },
  {
   "cell_type": "markdown",
   "id": "mighty-belly",
   "metadata": {},
   "source": [
    "### i. Many built-in callbacks are available"
   ]
  },
  {
   "cell_type": "raw",
   "id": "funky-topic",
   "metadata": {},
   "source": [
    "- ModelCheckpoint: Periodically save the model.\n",
    "- EarlyStopping: Stop training when training is no longer improving the validation metrics.\n",
    "- TensorBoard: periodically write model logs that can be visualized in TensorBoard (more details in the section \"Visualization\").\n",
    "- CSVLogger: streams loss and metrics data to a CSV file.\n",
    "\n",
    "See the callbacks documentation for the complete list."
   ]
  },
  {
   "cell_type": "markdown",
   "id": "otherwise-toolbox",
   "metadata": {},
   "source": [
    "### ii. Writing your own callback"
   ]
  },
  {
   "cell_type": "raw",
   "id": "conventional-peripheral",
   "metadata": {},
   "source": [
    "You can create a custom callback by extending the base class keras.callbacks.Callback. A callback has access to its associated model through the class property self.model.\n",
    "\n",
    "Make sure to read the complete guide to writing custom callbacks."
   ]
  },
  {
   "cell_type": "code",
   "execution_count": 40,
   "id": "meaning-fiber",
   "metadata": {},
   "outputs": [],
   "source": [
    "# Here's a simple example saving a list of per-batch loss values during training:\n",
    "\n",
    "class LossHistory(keras.callbacks.Callback):\n",
    "  def on_train_begin(self, logs):\n",
    "    self.per_batch_losses = []\n",
    "\n",
    "  def on_batch_end(self, batch, logs):\n",
    "    self.per_batch_losses.append(logs.get(\"loss\"))"
   ]
  },
  {
   "cell_type": "markdown",
   "id": "wound-guidance",
   "metadata": {},
   "source": [
    "## 10. Checkpointing models"
   ]
  },
  {
   "cell_type": "raw",
   "id": "ambient-screw",
   "metadata": {},
   "source": [
    "When you're training model on relatively large datasets, it's crucial to save checkpoints of your model at frequent intervals."
   ]
  },
  {
   "cell_type": "code",
   "execution_count": 41,
   "id": "demonstrated-optimum",
   "metadata": {},
   "outputs": [
    {
     "name": "stdout",
     "output_type": "stream",
     "text": [
      "Epoch 1/2\n",
      "625/625 [==============================] - 2s 3ms/step - loss: 0.6097 - sparse_categorical_accuracy: 0.8349 - val_loss: 0.2524 - val_sparse_categorical_accuracy: 0.9226\n",
      "\n",
      "Epoch 00001: val_loss improved from inf to 0.25242, saving model to mymodel_1\n",
      "INFO:tensorflow:Assets written to: mymodel_1\\assets\n",
      "Epoch 2/2\n",
      "625/625 [==============================] - 2s 3ms/step - loss: 0.1742 - sparse_categorical_accuracy: 0.9488 - val_loss: 0.1694 - val_sparse_categorical_accuracy: 0.9481\n",
      "\n",
      "Epoch 00002: val_loss improved from 0.25242 to 0.16939, saving model to mymodel_2\n",
      "INFO:tensorflow:Assets written to: mymodel_2\\assets\n"
     ]
    },
    {
     "data": {
      "text/plain": [
       "<tensorflow.python.keras.callbacks.History at 0x209e23f7a00>"
      ]
     },
     "execution_count": 41,
     "metadata": {},
     "output_type": "execute_result"
    }
   ],
   "source": [
    "# The easiest way to achieve this is with the ModelCheckpoint callback:\n",
    "\n",
    "model = get_compiled_model()\n",
    "\n",
    "callbacks = [\n",
    "    keras.callbacks.ModelCheckpoint(\n",
    "        # Path where to save the model\n",
    "        # The two parameters below mean that we will overwrite\n",
    "        # the current checkpoint if and only if\n",
    "        # the `val_loss` score has improved.\n",
    "        # The saved model name will include the current epoch.\n",
    "        filepath=\"mymodel_{epoch}\",\n",
    "        save_best_only=True,  # Only save a model if `val_loss` has improved.\n",
    "        monitor=\"val_loss\",\n",
    "        verbose=1,\n",
    "    )\n",
    "]\n",
    "model.fit(\n",
    "    x_train, y_train, epochs=2, batch_size=64, callbacks=callbacks, validation_split=0.2\n",
    ")"
   ]
  },
  {
   "cell_type": "raw",
   "id": "angry-index",
   "metadata": {},
   "source": [
    "The ModelCheckpoint callback can be used to implement fault-tolerance: the ability to restart training from the last saved state of the model in case training gets randomly interrupted. Here's a basic example:"
   ]
  },
  {
   "cell_type": "code",
   "execution_count": 44,
   "id": "stuck-spice",
   "metadata": {},
   "outputs": [
    {
     "name": "stdout",
     "output_type": "stream",
     "text": [
      "Restoring from .//mymodel_2\n",
      " 100/1563 [>.............................] - ETA: 4s - loss: 0.1502 - sparse_categorical_accuracy: 0.9525INFO:tensorflow:Assets written to: .\\ckpt-loss=0.15\\assets\n",
      " 198/1563 [==>...........................] - ETA: 8s - loss: 0.1389 - sparse_categorical_accuracy: 0.9572INFO:tensorflow:Assets written to: .\\ckpt-loss=0.14\\assets\n",
      " 288/1563 [====>.........................] - ETA: 9s - loss: 0.1384 - sparse_categorical_accuracy: 0.9580INFO:tensorflow:Assets written to: .\\ckpt-loss=0.14\\assets\n",
      " 384/1563 [======>.......................] - ETA: 8s - loss: 0.1407 - sparse_categorical_accuracy: 0.9569INFO:tensorflow:Assets written to: .\\ckpt-loss=0.14\\assets\n",
      " 486/1563 [========>.....................] - ETA: 8s - loss: 0.1396 - sparse_categorical_accuracy: 0.9576INFO:tensorflow:Assets written to: .\\ckpt-loss=0.14\\assets\n",
      " 587/1563 [==========>...................] - ETA: 7s - loss: 0.1417 - sparse_categorical_accuracy: 0.9571INFO:tensorflow:Assets written to: .\\ckpt-loss=0.14\\assets\n",
      " 686/1563 [============>.................] - ETA: 7s - loss: 0.1393 - sparse_categorical_accuracy: 0.9575INFO:tensorflow:Assets written to: .\\ckpt-loss=0.14\\assets\n",
      " 788/1563 [==============>...............] - ETA: 6s - loss: 0.1374 - sparse_categorical_accuracy: 0.9584INFO:tensorflow:Assets written to: .\\ckpt-loss=0.14\\assets\n",
      " 890/1563 [================>.............] - ETA: 5s - loss: 0.1362 - sparse_categorical_accuracy: 0.9590INFO:tensorflow:Assets written to: .\\ckpt-loss=0.14\\assets\n",
      " 984/1563 [=================>............] - ETA: 4s - loss: 0.1356 - sparse_categorical_accuracy: 0.9589INFO:tensorflow:Assets written to: .\\ckpt-loss=0.14\\assets\n",
      "1080/1563 [===================>..........] - ETA: 4s - loss: 0.1359 - sparse_categorical_accuracy: 0.9589INFO:tensorflow:Assets written to: .\\ckpt-loss=0.14\\assets\n",
      "1186/1563 [=====================>........] - ETA: 3s - loss: 0.1353 - sparse_categorical_accuracy: 0.9588INFO:tensorflow:Assets written to: .\\ckpt-loss=0.13\\assets\n",
      "1292/1563 [=======================>......] - ETA: 2s - loss: 0.1356 - sparse_categorical_accuracy: 0.9587INFO:tensorflow:Assets written to: .\\ckpt-loss=0.14\\assets\n",
      "1398/1563 [=========================>....] - ETA: 1s - loss: 0.1341 - sparse_categorical_accuracy: 0.9593INFO:tensorflow:Assets written to: .\\ckpt-loss=0.13\\assets\n",
      "1488/1563 [===========================>..] - ETA: 0s - loss: 0.1336 - sparse_categorical_accuracy: 0.9595INFO:tensorflow:Assets written to: .\\ckpt-loss=0.13\\assets\n",
      "1563/1563 [==============================] - 14s 9ms/step - loss: 0.1329 - sparse_categorical_accuracy: 0.9597\n"
     ]
    },
    {
     "data": {
      "text/plain": [
       "<tensorflow.python.keras.callbacks.History at 0x209fb6f4af0>"
      ]
     },
     "execution_count": 44,
     "metadata": {},
     "output_type": "execute_result"
    }
   ],
   "source": [
    "import os\n",
    "\n",
    "# Prepare a directory to store all the checkpoints.\n",
    "checkpoint_dir = \"./\"\n",
    "if not os.path.exists(checkpoint_dir):\n",
    "    os.makedirs(checkpoint_dir)\n",
    "\n",
    "\n",
    "def make_or_restore_model():\n",
    "    # Either restore the latest model, or create a fresh one\n",
    "    # if there is no checkpoint available.\n",
    "    checkpoints = [checkpoint_dir + \"/\" + name for name in os.listdir(checkpoint_dir)]\n",
    "    if checkpoints:\n",
    "        latest_checkpoint = max(checkpoints, key=os.path.getctime)\n",
    "        print(\"Restoring from\", latest_checkpoint)\n",
    "        return keras.models.load_model(latest_checkpoint)\n",
    "    print(\"Creating a new model\")\n",
    "    return get_compiled_model()\n",
    "\n",
    "\n",
    "model = make_or_restore_model()\n",
    "callbacks = [\n",
    "    # This callback saves a SavedModel every 100 batches.\n",
    "    # We include the training loss in the saved model name.\n",
    "    keras.callbacks.ModelCheckpoint(\n",
    "        filepath=checkpoint_dir + \"/ckpt-loss={loss:.2f}\", save_freq=100\n",
    "    )\n",
    "]\n",
    "model.fit(x_train, y_train, epochs=1, callbacks=callbacks)"
   ]
  },
  {
   "cell_type": "raw",
   "id": "moral-biotechnology",
   "metadata": {},
   "source": [
    "You call also write your own callback for saving and restoring models.\n",
    "\n",
    "For a complete guide on serialization and saving, see the guide to saving and serializing Models."
   ]
  },
  {
   "cell_type": "markdown",
   "id": "bound-operation",
   "metadata": {},
   "source": [
    "## 11. Using learning rate schedules"
   ]
  },
  {
   "cell_type": "raw",
   "id": "invalid-audit",
   "metadata": {},
   "source": [
    "A common pattern when training deep learning models is to gradually reduce the learning as training progresses. This is generally known as \"learning rate decay\".\n",
    "\n",
    "The learning decay schedule could be static (fixed in advance, as a function of the current epoch or the current batch index), or dynamic (responding to the current behavior of the model, in particular the validation loss)."
   ]
  },
  {
   "cell_type": "markdown",
   "id": "continuous-services",
   "metadata": {},
   "source": [
    "### i. Passing a schedule to an optimizer"
   ]
  },
  {
   "cell_type": "code",
   "execution_count": 45,
   "id": "whole-customer",
   "metadata": {},
   "outputs": [],
   "source": [
    "# You can easily use a static learning rate decay schedule by \n",
    "# passing a schedule object as the learning_rate argument in your optimizer:\n",
    "\n",
    "initial_learning_rate = 0.1\n",
    "lr_schedule = keras.optimizers.schedules.ExponentialDecay(\n",
    "    initial_learning_rate, decay_steps=100000, decay_rate=0.96, staircase=True\n",
    ")\n",
    "\n",
    "optimizer = keras.optimizers.RMSprop(learning_rate=lr_schedule)"
   ]
  },
  {
   "cell_type": "raw",
   "id": "hidden-aspect",
   "metadata": {},
   "source": [
    "Several built-in schedules are available: ExponentialDecay, PiecewiseConstantDecay, PolynomialDecay, and InverseTimeDecay."
   ]
  },
  {
   "cell_type": "markdown",
   "id": "liberal-monroe",
   "metadata": {},
   "source": [
    "### ii. Using callbacks to implement a dynamic learning rate schedule"
   ]
  },
  {
   "cell_type": "raw",
   "id": "western-indonesian",
   "metadata": {},
   "source": [
    "A dynamic learning rate schedule (for instance, decreasing the learning rate when the validation loss is no longer improving) cannot be achieved with these schedule objects since the optimizer does not have access to validation metrics.\n",
    "\n",
    "However, callbacks do have access to all metrics, including validation metrics! You can thus achieve this pattern by using a callback that modifies the current learning rate on the optimizer. In fact, this is even built-in as the ReduceLROnPlateau callback."
   ]
  },
  {
   "cell_type": "markdown",
   "id": "criminal-conversation",
   "metadata": {},
   "source": [
    "## 12. Visualizing loss and metrics during training"
   ]
  },
  {
   "cell_type": "raw",
   "id": "perceived-ethnic",
   "metadata": {},
   "source": [
    "The best way to keep an eye on your model during training is to use TensorBoard, a browser-based application that you can run locally that provides you with:\n",
    "\n",
    "- Live plots of the loss and metrics for training and evaluation\n",
    "- (optionally) Visualizations of the histograms of your layer activations\n",
    "- (optionally) 3D visualizations of the embedding spaces learned by your Embedding layers"
   ]
  },
  {
   "cell_type": "raw",
   "id": "arctic-blame",
   "metadata": {},
   "source": [
    "# If you have installed TensorFlow with pip, you should be able to launch TensorBoard from the command line:\n",
    "\n",
    "tensorboard --logdir=/full_path_to_your_logs"
   ]
  },
  {
   "cell_type": "markdown",
   "id": "czech-suite",
   "metadata": {},
   "source": [
    "### Using the TensorBoard callback"
   ]
  },
  {
   "cell_type": "code",
   "execution_count": 46,
   "id": "dramatic-weekly",
   "metadata": {},
   "outputs": [
    {
     "data": {
      "text/plain": [
       "<tensorflow.python.keras.callbacks.TensorBoard at 0x20a03fe3370>"
      ]
     },
     "execution_count": 46,
     "metadata": {},
     "output_type": "execute_result"
    }
   ],
   "source": [
    "# The easiest way to use TensorBoard with a Keras model and the fit method is the TensorBoard callback.\n",
    "\n",
    "# In the simplest case, just specify where you want the callback to write logs, and you're good to go:\n",
    "\n",
    "\n",
    "keras.callbacks.TensorBoard(\n",
    "    log_dir=\"/full_path_to_your_logs\",\n",
    "    histogram_freq=0,  # How often to log histogram visualizations\n",
    "    embeddings_freq=0,  # How often to log embedding visualizations\n",
    "    update_freq=\"epoch\",\n",
    ")  # How often to write logs (default: once per epoch)"
   ]
  },
  {
   "cell_type": "raw",
   "id": "essential-vulnerability",
   "metadata": {},
   "source": [
    "For more information, see the documentation for the TensorBoard callback."
   ]
  },
  {
   "cell_type": "markdown",
   "id": "distributed-competition",
   "metadata": {},
   "source": [
    "# reference\n",
    "\n",
    "### https://tensorflow.google.cn/guide/keras/train_and_evaluate"
   ]
  },
  {
   "cell_type": "code",
   "execution_count": null,
   "id": "sticky-border",
   "metadata": {},
   "outputs": [],
   "source": []
  }
 ],
 "metadata": {
  "kernelspec": {
   "display_name": "Python 3",
   "language": "python",
   "name": "python3"
  },
  "language_info": {
   "codemirror_mode": {
    "name": "ipython",
    "version": 3
   },
   "file_extension": ".py",
   "mimetype": "text/x-python",
   "name": "python",
   "nbconvert_exporter": "python",
   "pygments_lexer": "ipython3",
   "version": "3.8.5"
  }
 },
 "nbformat": 4,
 "nbformat_minor": 5
}
