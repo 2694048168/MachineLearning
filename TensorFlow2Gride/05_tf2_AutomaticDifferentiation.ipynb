{
 "cells": [
  {
   "cell_type": "markdown",
   "id": "differential-exercise",
   "metadata": {},
   "source": [
    "# Introduction to gradients and automatic differentiation"
   ]
  },
  {
   "cell_type": "markdown",
   "id": "atlantic-dominican",
   "metadata": {},
   "source": [
    "### [Automatic_differentiation](https://en.wikipedia.org/wiki/Automatic_differentiation)"
   ]
  },
  {
   "cell_type": "raw",
   "id": "organizational-prospect",
   "metadata": {},
   "source": [
    "Automatic differentiation is useful for implementing machine learning algorithms such as backpropagation for training neural networks.\n",
    "\n",
    "In this guide, you will explore ways to compute gradients with TensorFlow, especially in eager execution."
   ]
  },
  {
   "cell_type": "markdown",
   "id": "intense-consistency",
   "metadata": {},
   "source": [
    "## 1. Setup"
   ]
  },
  {
   "cell_type": "code",
   "execution_count": 1,
   "id": "lovely-sacramento",
   "metadata": {},
   "outputs": [
    {
     "name": "stdout",
     "output_type": "stream",
     "text": [
      "The version of Tensorflow: 2.4.1\n"
     ]
    }
   ],
   "source": [
    "import numpy as np\n",
    "import matplotlib.pyplot as plt\n",
    "%matplotlib inline\n",
    "import tensorflow as tf\n",
    "\n",
    "print(\"The version of Tensorflow: {}\".format(tf.__version__))"
   ]
  },
  {
   "cell_type": "markdown",
   "id": "organizational-strategy",
   "metadata": {},
   "source": [
    "## 2. Computing gradients"
   ]
  },
  {
   "cell_type": "raw",
   "id": "hawaiian-jewelry",
   "metadata": {},
   "source": [
    "To differentiate automatically, TensorFlow needs to remember what operations happen in what order during the forward pass. Then, during the backward pass, TensorFlow traverses this list of operations in reverse order to compute gradients."
   ]
  },
  {
   "cell_type": "markdown",
   "id": "modern-interpretation",
   "metadata": {},
   "source": [
    "## 3. Gradient tapes"
   ]
  },
  {
   "cell_type": "raw",
   "id": "voluntary-aquatic",
   "metadata": {},
   "source": [
    "TensorFlow provides the tf.GradientTape API for automatic differentiation; that is, computing the gradient of a computation with respect to some inputs, usually tf.Variables. TensorFlow \"records\" relevant operations executed inside the context of a tf.GradientTape onto a \"tape\". TensorFlow then uses that tape to compute the gradients of a \"recorded\" computation using reverse mode differentiation."
   ]
  },
  {
   "cell_type": "code",
   "execution_count": 2,
   "id": "elementary-skill",
   "metadata": {},
   "outputs": [],
   "source": [
    "# Here is a simple example:\n",
    "\n",
    "x = tf.Variable(3.0)\n",
    "\n",
    "with tf.GradientTape() as tape:\n",
    "  y = x**2"
   ]
  },
  {
   "cell_type": "code",
   "execution_count": 3,
   "id": "consistent-saver",
   "metadata": {},
   "outputs": [
    {
     "data": {
      "text/plain": [
       "6.0"
      ]
     },
     "execution_count": 3,
     "metadata": {},
     "output_type": "execute_result"
    }
   ],
   "source": [
    "# Once you've recorded some operations, use GradientTape.gradient(target, sources) \n",
    "# to calculate the gradient of some target (often a loss) relative to some source (often the model's variables):\n",
    "\n",
    "# dy = 2x * dx\n",
    "dy_dx = tape.gradient(y, x)\n",
    "dy_dx.numpy()"
   ]
  },
  {
   "cell_type": "code",
   "execution_count": 4,
   "id": "revolutionary-amplifier",
   "metadata": {},
   "outputs": [],
   "source": [
    "# The above example uses scalars, but tf.GradientTape works as easily on any tensor:\n",
    "\n",
    "w = tf.Variable(tf.random.normal((3, 2)), name='w')\n",
    "b = tf.Variable(tf.zeros(2, dtype=tf.float32), name='b')\n",
    "x = [[1., 2., 3.]]\n",
    "\n",
    "with tf.GradientTape(persistent=True) as tape:\n",
    "  y = x @ w + b\n",
    "  loss = tf.reduce_mean(y**2)"
   ]
  },
  {
   "cell_type": "raw",
   "id": "substantial-guide",
   "metadata": {},
   "source": [
    "To get the gradient of loss with respect to both variables, you can pass both as sources to the gradient method. The tape is flexible about how sources are passed and will accept any nested combination of lists or dictionaries and return the gradient structured the same way (see tf.nest)."
   ]
  },
  {
   "cell_type": "code",
   "execution_count": 5,
   "id": "sustained-federation",
   "metadata": {},
   "outputs": [],
   "source": [
    "[dl_dw, dl_db] = tape.gradient(loss, [w, b])"
   ]
  },
  {
   "cell_type": "code",
   "execution_count": 6,
   "id": "owned-buying",
   "metadata": {},
   "outputs": [
    {
     "name": "stdout",
     "output_type": "stream",
     "text": [
      "(3, 2)\n",
      "(3, 2)\n"
     ]
    }
   ],
   "source": [
    "# The gradient with respect to each source has the shape of the source:\n",
    "\n",
    "print(w.shape)\n",
    "print(dl_dw.shape)"
   ]
  },
  {
   "cell_type": "code",
   "execution_count": 7,
   "id": "alleged-exemption",
   "metadata": {},
   "outputs": [
    {
     "data": {
      "text/plain": [
       "<tf.Tensor: shape=(2,), dtype=float32, numpy=array([ 0.80596006, -6.2672353 ], dtype=float32)>"
      ]
     },
     "execution_count": 7,
     "metadata": {},
     "output_type": "execute_result"
    }
   ],
   "source": [
    "# Here is the gradient calculation again, this time passing a dictionary of variables:\n",
    "\n",
    "my_vars = {\n",
    "    'w': w,\n",
    "    'b': b\n",
    "}\n",
    "\n",
    "grad = tape.gradient(loss, my_vars)\n",
    "grad['b']"
   ]
  },
  {
   "cell_type": "markdown",
   "id": "working-greenhouse",
   "metadata": {},
   "source": [
    "## 4. Gradients with respect to a model"
   ]
  },
  {
   "cell_type": "raw",
   "id": "adopted-bishop",
   "metadata": {},
   "source": [
    "It's common to collect tf.Variables into a tf.Module or one of its subclasses (layers.Layer, keras.Model) for checkpointing and exporting.\n",
    "\n",
    "In most cases, you will want to calculate gradients with respect to a model's trainable variables. Since all subclasses of tf.Module aggregate their variables in the Module.trainable_variables property, you can calculate these gradients in a few lines of code:"
   ]
  },
  {
   "cell_type": "code",
   "execution_count": 8,
   "id": "cross-prevention",
   "metadata": {},
   "outputs": [],
   "source": [
    "layer = tf.keras.layers.Dense(2, activation='relu')\n",
    "x = tf.constant([[1., 2., 3.]])\n",
    "\n",
    "with tf.GradientTape() as tape:\n",
    "  # Forward pass\n",
    "  y = layer(x)\n",
    "  loss = tf.reduce_mean(y**2)\n",
    "\n",
    "# Calculate gradients with respect to every trainable variable\n",
    "grad = tape.gradient(loss, layer.trainable_variables)"
   ]
  },
  {
   "cell_type": "code",
   "execution_count": 9,
   "id": "structured-homework",
   "metadata": {},
   "outputs": [
    {
     "name": "stdout",
     "output_type": "stream",
     "text": [
      "dense/kernel:0, shape: (3, 2)\n",
      "dense/bias:0, shape: (2,)\n"
     ]
    }
   ],
   "source": [
    "for var, g in zip(layer.trainable_variables, grad):\n",
    "  print(f'{var.name}, shape: {g.shape}')"
   ]
  },
  {
   "cell_type": "markdown",
   "id": "advanced-fetish",
   "metadata": {},
   "source": [
    "## 5. Controlling what the tape watches"
   ]
  },
  {
   "cell_type": "raw",
   "id": "polished-powder",
   "metadata": {},
   "source": [
    "The default behavior is to record all operations after accessing a trainable tf.Variable. The reasons for this are:\n",
    "\n",
    "- The tape needs to know which operations to record in the forward pass to calculate the gradients in the backwards pass.\n",
    "- The tape holds references to intermediate outputs, so you don't want to record unnecessary operations.\n",
    "- The most common use case involves calculating the gradient of a loss with respect to all a model's trainable variables."
   ]
  },
  {
   "cell_type": "code",
   "execution_count": 10,
   "id": "declared-disposal",
   "metadata": {},
   "outputs": [
    {
     "name": "stdout",
     "output_type": "stream",
     "text": [
      "tf.Tensor(6.0, shape=(), dtype=float32)\n",
      "None\n",
      "None\n",
      "None\n"
     ]
    }
   ],
   "source": [
    "# A trainable variable\n",
    "x0 = tf.Variable(3.0, name='x0')\n",
    "# Not trainable\n",
    "x1 = tf.Variable(3.0, name='x1', trainable=False)\n",
    "# Not a Variable: A variable + tensor returns a tensor.\n",
    "x2 = tf.Variable(2.0, name='x2') + 1.0\n",
    "# Not a variable\n",
    "x3 = tf.constant(3.0, name='x3')\n",
    "\n",
    "with tf.GradientTape() as tape:\n",
    "  y = (x0**2) + (x1**2) + (x2**2)\n",
    "\n",
    "grad = tape.gradient(y, [x0, x1, x2, x3])\n",
    "\n",
    "for g in grad:\n",
    "  print(g)"
   ]
  },
  {
   "cell_type": "code",
   "execution_count": 11,
   "id": "framed-while",
   "metadata": {},
   "outputs": [
    {
     "data": {
      "text/plain": [
       "['x0:0']"
      ]
     },
     "execution_count": 11,
     "metadata": {},
     "output_type": "execute_result"
    }
   ],
   "source": [
    "# You can list the variables being watched by the tape using the GradientTape.watched_variables method:\n",
    "[var.name for var in tape.watched_variables()]"
   ]
  },
  {
   "cell_type": "code",
   "execution_count": 12,
   "id": "juvenile-preview",
   "metadata": {},
   "outputs": [
    {
     "name": "stdout",
     "output_type": "stream",
     "text": [
      "6.0\n"
     ]
    }
   ],
   "source": [
    "# tf.GradientTape provides hooks that give the user control over what is or is not watched.\n",
    "\n",
    "# To record gradients with respect to a tf.Tensor, you need to call GradientTape.watch(x):\n",
    "x = tf.constant(3.0)\n",
    "with tf.GradientTape() as tape:\n",
    "  tape.watch(x)\n",
    "  y = x**2\n",
    "\n",
    "# dy = 2x * dx\n",
    "dy_dx = tape.gradient(y, x)\n",
    "print(dy_dx.numpy())"
   ]
  },
  {
   "cell_type": "code",
   "execution_count": 13,
   "id": "prompt-person",
   "metadata": {},
   "outputs": [],
   "source": [
    "# Conversely, to disable the default behavior of watching all tf.Variables, \n",
    "# set watch_accessed_variables=False when creating the gradient tape. \n",
    "# This calculation uses two variables, but only connects the gradient for one of the variables:\n",
    "\n",
    "x0 = tf.Variable(0.0)\n",
    "x1 = tf.Variable(10.0)\n",
    "\n",
    "with tf.GradientTape(watch_accessed_variables=False) as tape:\n",
    "  tape.watch(x1)\n",
    "  y0 = tf.math.sin(x0)\n",
    "  y1 = tf.nn.softplus(x1)\n",
    "  y = y0 + y1\n",
    "  ys = tf.reduce_sum(y)"
   ]
  },
  {
   "cell_type": "code",
   "execution_count": 14,
   "id": "tribal-white",
   "metadata": {},
   "outputs": [
    {
     "name": "stdout",
     "output_type": "stream",
     "text": [
      "dy/dx0: None\n",
      "dy/dx1: 0.9999546\n"
     ]
    }
   ],
   "source": [
    "# Since GradientTape.watch was not called on x0, no gradient is computed with respect to it:\n",
    "\n",
    "# dys/dx1 = exp(x1) / (1 + exp(x1)) = sigmoid(x1)\n",
    "grad = tape.gradient(ys, {'x0': x0, 'x1': x1})\n",
    "\n",
    "print('dy/dx0:', grad['x0'])\n",
    "print('dy/dx1:', grad['x1'].numpy())"
   ]
  },
  {
   "cell_type": "markdown",
   "id": "delayed-stuart",
   "metadata": {},
   "source": [
    "## 6. Intermediate results"
   ]
  },
  {
   "cell_type": "code",
   "execution_count": 15,
   "id": "scheduled-chorus",
   "metadata": {},
   "outputs": [
    {
     "name": "stdout",
     "output_type": "stream",
     "text": [
      "18.0\n"
     ]
    }
   ],
   "source": [
    "# You can also request gradients of the output with respect to intermediate values computed inside the tf.GradientTape context.\n",
    "\n",
    "x = tf.constant(3.0)\n",
    "\n",
    "with tf.GradientTape() as tape:\n",
    "  tape.watch(x)\n",
    "  y = x * x\n",
    "  z = y * y\n",
    "\n",
    "# Use the tape to compute the gradient of z with respect to the\n",
    "# intermediate value y.\n",
    "# dz_dx = 2 * y, where y = x ** 2\n",
    "print(tape.gradient(z, y).numpy())"
   ]
  },
  {
   "cell_type": "raw",
   "id": "moving-algebra",
   "metadata": {},
   "source": [
    "By default, the resources held by a GradientTape are released as soon as the GradientTape.gradient method is called. To compute multiple gradients over the same computation, create a gradient tape with persistent=True. This allows multiple calls to the gradient method as resources are released when the tape object is garbage collected. For example:"
   ]
  },
  {
   "cell_type": "code",
   "execution_count": 16,
   "id": "negative-somerset",
   "metadata": {},
   "outputs": [
    {
     "name": "stdout",
     "output_type": "stream",
     "text": [
      "[  4. 108.]\n",
      "[2. 6.]\n"
     ]
    }
   ],
   "source": [
    "x = tf.constant([1, 3.0])\n",
    "with tf.GradientTape(persistent=True) as tape:\n",
    "  tape.watch(x)\n",
    "  y = x * x\n",
    "  z = y * y\n",
    "\n",
    "print(tape.gradient(z, x).numpy())  # 108.0 (4 * x**3 at x = 3)\n",
    "print(tape.gradient(y, x).numpy())  # 6.0 (2 * x)"
   ]
  },
  {
   "cell_type": "code",
   "execution_count": 17,
   "id": "varied-visiting",
   "metadata": {},
   "outputs": [],
   "source": [
    "del tape   # Drop the reference to the tape"
   ]
  },
  {
   "cell_type": "markdown",
   "id": "laden-thing",
   "metadata": {},
   "source": [
    "## 7. Notes on performance"
   ]
  },
  {
   "cell_type": "raw",
   "id": "august-lightweight",
   "metadata": {},
   "source": [
    "There is a tiny overhead associated with doing operations inside a gradient tape context. For most eager execution this will not be a noticeable cost, but you should still use tape context around the areas only where it is required.\n",
    "\n",
    "Gradient tapes use memory to store intermediate results, including inputs and outputs, for use during the backwards pass.\n",
    "\n",
    "For efficiency, some ops (like ReLU) don't need to keep their intermediate results and they are pruned during the forward pass. However, if you use persistent=True on your tape, nothing is discarded and your peak memory usage will be higher."
   ]
  },
  {
   "cell_type": "markdown",
   "id": "rolled-missouri",
   "metadata": {},
   "source": [
    "## 8. Gradients of non-scalar targets"
   ]
  },
  {
   "cell_type": "code",
   "execution_count": 19,
   "id": "accompanied-dominican",
   "metadata": {},
   "outputs": [
    {
     "name": "stdout",
     "output_type": "stream",
     "text": [
      "4.0\n",
      "-0.25\n"
     ]
    }
   ],
   "source": [
    "# A gradient is fundamentally an operation on a scalar.\n",
    "\n",
    "x = tf.Variable(2.0)\n",
    "with tf.GradientTape(persistent=True) as tape:\n",
    "  y0 = x**2\n",
    "  y1 = 1 / x\n",
    "\n",
    "print(tape.gradient(y0, x).numpy())\n",
    "print(tape.gradient(y1, x).numpy())"
   ]
  },
  {
   "cell_type": "raw",
   "id": "virtual-clone",
   "metadata": {},
   "source": [
    "Thus, if you ask for the gradient of multiple targets, the result for each source is:\n",
    "- The gradient of the sum of the targets, or equivalently\n",
    "- The sum of the gradients of each target.R"
   ]
  },
  {
   "cell_type": "code",
   "execution_count": 20,
   "id": "gorgeous-cricket",
   "metadata": {},
   "outputs": [
    {
     "name": "stdout",
     "output_type": "stream",
     "text": [
      "3.75\n"
     ]
    }
   ],
   "source": [
    "x = tf.Variable(2.0)\n",
    "with tf.GradientTape() as tape:\n",
    "  y0 = x**2\n",
    "  y1 = 1 / x\n",
    "\n",
    "print(tape.gradient({'y0': y0, 'y1': y1}, x).numpy())"
   ]
  },
  {
   "cell_type": "code",
   "execution_count": 21,
   "id": "editorial-intensity",
   "metadata": {},
   "outputs": [
    {
     "name": "stdout",
     "output_type": "stream",
     "text": [
      "7.0\n"
     ]
    }
   ],
   "source": [
    "# Similarly, if the target(s) are not scalar the gradient of the sum is calculated:\n",
    "\n",
    "x = tf.Variable(2.)\n",
    "\n",
    "with tf.GradientTape() as tape:\n",
    "  y = x * [3., 4.]\n",
    "\n",
    "print(tape.gradient(y, x).numpy())"
   ]
  },
  {
   "cell_type": "raw",
   "id": "unauthorized-israel",
   "metadata": {},
   "source": [
    "This makes it simple to take the gradient of the sum of a collection of losses, or the gradient of the sum of an element-wise loss calculation.\n",
    "\n",
    "If you need a separate gradient for each item, refer to Jacobians.\n",
    "\n",
    "In some cases you can skip the Jacobian. For an element-wise calculation, the gradient of the sum gives the derivative of each element with respect to its input-element, since each element is independent:"
   ]
  },
  {
   "cell_type": "code",
   "execution_count": 22,
   "id": "genetic-bermuda",
   "metadata": {},
   "outputs": [],
   "source": [
    "x = tf.linspace(-10.0, 10.0, 200+1)\n",
    "\n",
    "with tf.GradientTape() as tape:\n",
    "  tape.watch(x)\n",
    "  y = tf.nn.sigmoid(x)\n",
    "\n",
    "dy_dx = tape.gradient(y, x)"
   ]
  },
  {
   "cell_type": "code",
   "execution_count": 26,
   "id": "psychological-unknown",
   "metadata": {},
   "outputs": [
    {
     "data": {
      "image/png": "[encoded data removed]",
      "text/plain": [
       "<Figure size 720x480 with 1 Axes>"
      ]
     },
     "metadata": {
      "needs_background": "light"
     },
     "output_type": "display_data"
    }
   ],
   "source": [
    "plt.figure(figsize=(6,4), dpi=120)\n",
    "plt.plot(x, y, label='y')\n",
    "plt.plot(x, dy_dx, label='dy/dx')\n",
    "plt.legend()\n",
    "_ = plt.xlabel('x')"
   ]
  },
  {
   "cell_type": "markdown",
   "id": "human-british",
   "metadata": {},
   "source": [
    "## 9. Control flow"
   ]
  },
  {
   "cell_type": "raw",
   "id": "activated-basin",
   "metadata": {},
   "source": [
    "Because a gradient tape records operations as they are executed, Python control flow is naturally handled (for example, if and while statements)."
   ]
  },
  {
   "cell_type": "code",
   "execution_count": 27,
   "id": "solved-framework",
   "metadata": {},
   "outputs": [
    {
     "name": "stdout",
     "output_type": "stream",
     "text": [
      "tf.Tensor(1.0, shape=(), dtype=float32)\n",
      "None\n"
     ]
    }
   ],
   "source": [
    "# Here a different variable is used on each branch of an if. \n",
    "# The gradient only connects to the variable that was used:\n",
    "\n",
    "x = tf.constant(1.0)\n",
    "\n",
    "v0 = tf.Variable(2.0)\n",
    "v1 = tf.Variable(2.0)\n",
    "\n",
    "with tf.GradientTape(persistent=True) as tape:\n",
    "  tape.watch(x)\n",
    "  if x > 0.0:\n",
    "    result = v0\n",
    "  else:\n",
    "    result = v1**2 \n",
    "\n",
    "dv0, dv1 = tape.gradient(result, [v0, v1])\n",
    "\n",
    "print(dv0)\n",
    "print(dv1)"
   ]
  },
  {
   "cell_type": "raw",
   "id": "controlled-forest",
   "metadata": {},
   "source": [
    "Just remember that the control statements themselves are not differentiable, so they are invisible to gradient-based optimizers.\n",
    "\n",
    "Depending on the value of x in the above example, the tape either records result = v0 or result = v1**2. The gradient with respect to x is always None."
   ]
  },
  {
   "cell_type": "code",
   "execution_count": 28,
   "id": "genetic-pricing",
   "metadata": {},
   "outputs": [
    {
     "name": "stdout",
     "output_type": "stream",
     "text": [
      "None\n"
     ]
    }
   ],
   "source": [
    "dx = tape.gradient(result, x)\n",
    "\n",
    "print(dx)"
   ]
  },
  {
   "cell_type": "markdown",
   "id": "lyric-norfolk",
   "metadata": {},
   "source": [
    "## 10. Getting a gradient of None"
   ]
  },
  {
   "cell_type": "code",
   "execution_count": 29,
   "id": "collect-custom",
   "metadata": {},
   "outputs": [
    {
     "name": "stdout",
     "output_type": "stream",
     "text": [
      "None\n"
     ]
    }
   ],
   "source": [
    "# When a target is not connected to a source you will get a gradient of None.\n",
    "x = tf.Variable(2.)\n",
    "y = tf.Variable(3.)\n",
    "\n",
    "with tf.GradientTape() as tape:\n",
    "  z = y * y\n",
    "print(tape.gradient(z, x))"
   ]
  },
  {
   "cell_type": "raw",
   "id": "affected-offset",
   "metadata": {},
   "source": [
    "Here z is obviously not connected to x, but there are several less-obvious ways that a gradient can be disconnected."
   ]
  },
  {
   "cell_type": "markdown",
   "id": "closing-program",
   "metadata": {},
   "source": [
    "### i. Replaced a variable with a tensor"
   ]
  },
  {
   "cell_type": "raw",
   "id": "eleven-church",
   "metadata": {},
   "source": [
    "In the section on \"controlling what the tape watches\" you saw that the tape will automatically watch a tf.Variable but not a tf.Tensor.\n",
    "\n",
    "One common error is to inadvertently replace a tf.Variable with a tf.Tensor, instead of using Variable.assign to update the tf.Variable. Here is an example:"
   ]
  },
  {
   "cell_type": "code",
   "execution_count": 30,
   "id": "varying-civilization",
   "metadata": {},
   "outputs": [
    {
     "name": "stdout",
     "output_type": "stream",
     "text": [
      "ResourceVariable : tf.Tensor(1.0, shape=(), dtype=float32)\n",
      "EagerTensor : None\n"
     ]
    }
   ],
   "source": [
    "x = tf.Variable(2.0)\n",
    "\n",
    "for epoch in range(2):\n",
    "  with tf.GradientTape() as tape:\n",
    "    y = x+1\n",
    "\n",
    "  print(type(x).__name__, \":\", tape.gradient(y, x))\n",
    "  x = x + 1   # This should be `x.assign_add(1)`"
   ]
  },
  {
   "cell_type": "markdown",
   "id": "white-turner",
   "metadata": {},
   "source": [
    "### ii. Did calculations outside of TensorFlow"
   ]
  },
  {
   "cell_type": "code",
   "execution_count": 31,
   "id": "random-greece",
   "metadata": {},
   "outputs": [
    {
     "name": "stdout",
     "output_type": "stream",
     "text": [
      "None\n"
     ]
    }
   ],
   "source": [
    "# The tape can't record the gradient path if the calculation exits TensorFlow. \n",
    "# For example:\n",
    "\n",
    "x = tf.Variable([[1.0, 2.0],\n",
    "                 [3.0, 4.0]], dtype=tf.float32)\n",
    "\n",
    "with tf.GradientTape() as tape:\n",
    "  x2 = x**2\n",
    "\n",
    "  # This step is calculated with NumPy\n",
    "  y = np.mean(x2, axis=0)\n",
    "\n",
    "  # Like most ops, reduce_mean will cast the NumPy array to a constant tensor\n",
    "  # using `tf.convert_to_tensor`.\n",
    "  y = tf.reduce_mean(y, axis=0)\n",
    "\n",
    "print(tape.gradient(y, x))"
   ]
  },
  {
   "cell_type": "markdown",
   "id": "hawaiian-story",
   "metadata": {},
   "source": [
    "### iii. Took gradients through an integer or string"
   ]
  },
  {
   "cell_type": "raw",
   "id": "acknowledged-hungary",
   "metadata": {},
   "source": [
    "Integers and strings are not differentiable. If a calculation path uses these data types there will be no gradient.\n",
    "\n",
    "Nobody expects strings to be differentiable, but it's easy to accidentally create an int constant or variable if you don't specify the dtype."
   ]
  },
  {
   "cell_type": "code",
   "execution_count": 32,
   "id": "postal-harris",
   "metadata": {},
   "outputs": [
    {
     "name": "stdout",
     "output_type": "stream",
     "text": [
      "WARNING:tensorflow:The dtype of the watched tensor must be floating (e.g. tf.float32), got tf.int32\n",
      "WARNING:tensorflow:The dtype of the target tensor must be floating (e.g. tf.float32) when calling GradientTape.gradient, got tf.int32\n",
      "WARNING:tensorflow:The dtype of the source tensor must be floating (e.g. tf.float32) when calling GradientTape.gradient, got tf.int32\n",
      "None\n"
     ]
    }
   ],
   "source": [
    "x = tf.constant(10)\n",
    "\n",
    "with tf.GradientTape() as g:\n",
    "  g.watch(x)\n",
    "  y = x * x\n",
    "\n",
    "print(g.gradient(y, x))"
   ]
  },
  {
   "cell_type": "raw",
   "id": "experimental-engagement",
   "metadata": {},
   "source": [
    "TensorFlow doesn't automatically cast between types, so, in practice, you'll often get a type error instead of a missing gradient."
   ]
  },
  {
   "cell_type": "markdown",
   "id": "blind-muslim",
   "metadata": {},
   "source": [
    "### iv. Took gradients through a stateful object"
   ]
  },
  {
   "cell_type": "raw",
   "id": "southwest-wagon",
   "metadata": {},
   "source": [
    "State stops gradients. When you read from a stateful object, the tape can only observe the current state, not the history that lead to it.\n",
    "\n",
    "A tf.Tensor is immutable. You can't change a tensor once it's created. It has a value, but no state. All the operations discussed so far are also stateless: the output of a tf.matmul only depends on its inputs.\n",
    "\n",
    "A tf.Variable has internal state—its value. When you use the variable, the state is read. It's normal to calculate a gradient with respect to a variable, but the variable's state blocks gradient calculations from going farther back. \n",
    "\n",
    "For example:"
   ]
  },
  {
   "cell_type": "code",
   "execution_count": 33,
   "id": "tropical-indicator",
   "metadata": {},
   "outputs": [
    {
     "name": "stdout",
     "output_type": "stream",
     "text": [
      "None\n"
     ]
    }
   ],
   "source": [
    "x0 = tf.Variable(3.0)\n",
    "x1 = tf.Variable(0.0)\n",
    "\n",
    "with tf.GradientTape() as tape:\n",
    "  # Update x1 = x1 + x0.\n",
    "  x1.assign_add(x0)\n",
    "  # The tape starts recording from x1.\n",
    "  y = x1**2   # y = (x1 + x0)**2\n",
    "\n",
    "# This doesn't work.\n",
    "print(tape.gradient(y, x0))   #dy/dx0 = 2*(x1 + x0)"
   ]
  },
  {
   "cell_type": "raw",
   "id": "configured-westminster",
   "metadata": {},
   "source": [
    "Similarly, tf.data.Dataset iterators and tf.queues are stateful, and will stop all gradients on tensors that pass through them."
   ]
  },
  {
   "cell_type": "markdown",
   "id": "addressed-douglas",
   "metadata": {},
   "source": [
    "## 11. No gradient registered"
   ]
  },
  {
   "cell_type": "raw",
   "id": "processed-royal",
   "metadata": {},
   "source": [
    "Some tf.Operations are registered as being non-differentiable and will return None. Others have no gradient registered.\n",
    "\n",
    "The tf.raw_ops page shows which low-level ops have gradients registered.\n",
    "\n",
    "If you attempt to take a gradient through a float op that has no gradient registered the tape will throw an error instead of silently returning None. This way you know something has gone wrong.\n",
    "\n",
    "For example, the tf.image.adjust_contrast function wraps raw_ops.AdjustContrastv2, which could have a gradient but the gradient is not implemented:"
   ]
  },
  {
   "cell_type": "code",
   "execution_count": 34,
   "id": "arctic-giant",
   "metadata": {},
   "outputs": [
    {
     "name": "stdout",
     "output_type": "stream",
     "text": [
      "LookupError: gradient registry has no entry for: AdjustContrastv2\n"
     ]
    }
   ],
   "source": [
    "image = tf.Variable([[[0.5, 0.0, 0.0]]])\n",
    "delta = tf.Variable(0.1)\n",
    "\n",
    "with tf.GradientTape() as tape:\n",
    "  new_image = tf.image.adjust_contrast(image, delta)\n",
    "\n",
    "try:\n",
    "  print(tape.gradient(new_image, [image, delta]))\n",
    "  assert False   # This should not happen.\n",
    "except LookupError as e:\n",
    "  print(f'{type(e).__name__}: {e}')"
   ]
  },
  {
   "cell_type": "raw",
   "id": "legal-drawing",
   "metadata": {},
   "source": [
    "If you need to differentiate through this op, you'll either need to implement the gradient and register it (using tf.RegisterGradient) or re-implement the function using other ops."
   ]
  },
  {
   "cell_type": "markdown",
   "id": "sexual-indiana",
   "metadata": {},
   "source": [
    "## 12. Zeros instead of None"
   ]
  },
  {
   "cell_type": "raw",
   "id": "adverse-reunion",
   "metadata": {},
   "source": [
    "In some cases it would be convenient to get 0 instead of None for unconnected gradients. You can decide what to return when you have unconnected gradients using the unconnected_gradients argument:"
   ]
  },
  {
   "cell_type": "code",
   "execution_count": 35,
   "id": "pursuant-convergence",
   "metadata": {},
   "outputs": [
    {
     "name": "stdout",
     "output_type": "stream",
     "text": [
      "tf.Tensor([0. 0.], shape=(2,), dtype=float32)\n"
     ]
    }
   ],
   "source": [
    "x = tf.Variable([2., 2.])\n",
    "y = tf.Variable(3.)\n",
    "\n",
    "with tf.GradientTape() as tape:\n",
    "  z = y**2\n",
    "print(tape.gradient(z, x, unconnected_gradients=tf.UnconnectedGradients.ZERO))"
   ]
  },
  {
   "cell_type": "markdown",
   "id": "changed-reynolds",
   "metadata": {},
   "source": [
    "# reference\n",
    "### https://tensorflow.google.cn/guide/autodiff"
   ]
  },
  {
   "cell_type": "code",
   "execution_count": null,
   "id": "following-viking",
   "metadata": {},
   "outputs": [],
   "source": []
  }
 ],
 "metadata": {
  "kernelspec": {
   "display_name": "Python 3",
   "language": "python",
   "name": "python3"
  },
  "language_info": {
   "codemirror_mode": {
    "name": "ipython",
    "version": 3
   },
   "file_extension": ".py",
   "mimetype": "text/x-python",
   "name": "python",
   "nbconvert_exporter": "python",
   "pygments_lexer": "ipython3",
   "version": "3.8.5"
  }
 },
 "nbformat": 4,
 "nbformat_minor": 5
}
