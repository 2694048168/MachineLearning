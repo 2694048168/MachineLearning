{
 "cells": [
  {
   "cell_type": "markdown",
   "metadata": {},
   "source": [
    "## 线性回归（使用sklearn库）"
   ]
  },
  {
   "cell_type": "code",
   "execution_count": 2,
   "metadata": {},
   "outputs": [],
   "source": [
    "### 0.引入依赖\n",
    "import numpy as np\n",
    "import matplotlib.pyplot as plt\n"
   ]
  },
  {
   "cell_type": "code",
   "execution_count": 3,
   "metadata": {},
   "outputs": [
    {
     "data": {
      "image/png": "[encoded data removed]",
      "text/plain": [
       "<Figure size 432x288 with 1 Axes>"
      ]
     },
     "metadata": {
      "needs_background": "light"
     },
     "output_type": "display_data"
    }
   ],
   "source": [
    "### 1.导入数据（data.csv） \n",
    "points = np.genfromtxt( \"data.csv\", delimiter=\",\" )\n",
    "# points\n",
    "\n",
    "# 提取points里面的两列数据为X，Y\n",
    "x = points[:, 0]\n",
    "y = points[:, 1]\n",
    "\n",
    "# 调用plt画出散点图\n",
    "plt.scatter( x, y )\n",
    "plt.show()\n"
   ]
  },
  {
   "cell_type": "code",
   "execution_count": 4,
   "metadata": {},
   "outputs": [],
   "source": [
    "### 2.定义损失函数（损失函数是系数的函数，传入数据）\n",
    "def compute_cost( w, b, points ):\n",
    "    total_cost = 0\n",
    "    M = len( points )\n",
    "    \n",
    "    # 逐点计算平方损失误差，然后求平均值\n",
    "    for i in range( M ):\n",
    "        x = points[i, 0]\n",
    "        y = points[i, 1]\n",
    "        total_cost += ( y - w * x -b ) ** 2\n",
    "    \n",
    "    return total_cost / M"
   ]
  },
  {
   "cell_type": "code",
   "execution_count": 5,
   "metadata": {},
   "outputs": [
    {
     "data": {
      "text/plain": [
       "LinearRegression(copy_X=True, fit_intercept=True, n_jobs=None, normalize=False)"
      ]
     },
     "execution_count": 5,
     "metadata": {},
     "output_type": "execute_result"
    }
   ],
   "source": [
    "from sklearn.linear_model import LinearRegression\n",
    "lr = LinearRegression()\n",
    "\n",
    "x_new = x.reshape(-1, 1)\n",
    "y_new = y.reshape(-1, 1)\n",
    "\n",
    "lr.fit( x_new, y_new )"
   ]
  },
  {
   "cell_type": "code",
   "execution_count": 8,
   "metadata": {},
   "outputs": [
    {
     "name": "stdout",
     "output_type": "stream",
     "text": [
      "w is:  1.3224310227553597\n",
      "b is:  [7.99102098]\n",
      "cost is:  [110.25738347]\n"
     ]
    }
   ],
   "source": [
    "# 从训练好的模型中提取系数和截距\n",
    "w = lr.coef_[0][0]\n",
    "b = lr.intercept_\n",
    "\n",
    "print(\"w is: \", w)\n",
    "print(\"b is: \", b)\n",
    "\n",
    "cost = compute_cost(w, b, points)\n",
    "\n",
    "print(\"cost is: \", cost)"
   ]
  },
  {
   "cell_type": "code",
   "execution_count": 9,
   "metadata": {},
   "outputs": [
    {
     "data": {
      "image/png": "[encoded data removed]",
      "text/plain": [
       "<Figure size 432x288 with 1 Axes>"
      ]
     },
     "metadata": {
      "needs_background": "light"
     },
     "output_type": "display_data"
    }
   ],
   "source": [
    "### 绘制拟合曲线\n",
    "plt.scatter(x, y)\n",
    "# 针对每一个x，计算出预测的y值\n",
    "pred_y = w * x + b\n",
    "\n",
    "plt.plot(x, pred_y, c='r')\n",
    "plt.show()"
   ]
  }
 ],
 "metadata": {
  "kernelspec": {
   "display_name": "Python 3",
   "language": "python",
   "name": "python3"
  },
  "language_info": {
   "codemirror_mode": {
    "name": "ipython",
    "version": 3
   },
   "file_extension": ".py",
   "mimetype": "text/x-python",
   "name": "python",
   "nbconvert_exporter": "python",
   "pygments_lexer": "ipython3",
   "version": "3.7.6"
  }
 },
 "nbformat": 4,
 "nbformat_minor": 4
}
