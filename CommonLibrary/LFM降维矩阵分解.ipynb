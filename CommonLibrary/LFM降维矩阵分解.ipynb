{
 "cells": [
  {
   "cell_type": "markdown",
   "metadata": {},
   "source": [
    "## LFM降维方法-矩阵因子分解"
   ]
  },
  {
   "cell_type": "code",
   "execution_count": 1,
   "metadata": {},
   "outputs": [],
   "source": [
    "### 0.引入依赖\n",
    "import numpy as np\n",
    "import pandas as pd"
   ]
  },
  {
   "cell_type": "code",
   "execution_count": 2,
   "metadata": {},
   "outputs": [
    {
     "data": {
      "text/plain": [
       "5"
      ]
     },
     "execution_count": 2,
     "metadata": {},
     "output_type": "execute_result"
    }
   ],
   "source": [
    "### 1.准备数据\n",
    "# 评分矩阵R\n",
    "R = np.array([[4,0,2,0,1],\n",
    "             [0,2,3,0,0],\n",
    "             [1,0,2,4,0],\n",
    "             [5,0,0,3,1],\n",
    "             [0,0,1,5,1],\n",
    "             [0,3,2,4,1],])\n",
    "len(R[0])"
   ]
  },
  {
   "cell_type": "code",
   "execution_count": 3,
   "metadata": {},
   "outputs": [],
   "source": [
    "### 2.核心算法实现\n",
    "\"\"\"\n",
    "@输入参数：\n",
    "R：M*N 的评分矩阵\n",
    "K：隐特征向量维度\n",
    "max_iter: 最大迭代次数\n",
    "alpha：步长\n",
    "lamda：正则化系数\n",
    "\n",
    "@输出：\n",
    "分解之后的 P，Q\n",
    "P：初始化用户特征矩阵M*K\n",
    "Q：初始化物品特征矩阵N*K\n",
    "\"\"\"\n",
    "\n",
    "# 给定超参数\n",
    "\n",
    "K = 5\n",
    "max_iter = 5000\n",
    "alpha = 0.0002\n",
    "lamda = 0.004\n",
    "\n",
    "# 核心算法\n",
    "def LFM_grad_desc( R, K=2, max_iter=1000, alpha=0.0001, lamda=0.002 ):\n",
    "    # 基本维度参数定义\n",
    "    M = len(R)\n",
    "    N = len(R[0])\n",
    "    \n",
    "    # P,Q初始值，随机生成\n",
    "    P = np.random.rand(M, K)\n",
    "    Q = np.random.rand(N, K)\n",
    "    Q = Q.T\n",
    "    \n",
    "    # 开始迭代\n",
    "    for step in range(max_iter):\n",
    "        # 对所有的用户u、物品i做遍历，对应的特征向量Pu、Qi梯度下降\n",
    "        for u in range(M):\n",
    "            for i in range(N):\n",
    "                # 对于每一个大于0的评分，求出预测评分误差\n",
    "                if R[u][i] > 0:\n",
    "                    eui = np.dot( P[u,:], Q[:,i] ) - R[u][i]\n",
    "                    \n",
    "                    # 代入公式，按照梯度下降算法更新当前的Pu、Qi\n",
    "                    for k in range(K):\n",
    "                        P[u][k] = P[u][k] - alpha * ( 2 * eui * Q[k][i] + 2 * lamda * P[u][k] )\n",
    "                        Q[k][i] = Q[k][i] - alpha * ( 2 * eui * P[u][k] + 2 * lamda * Q[k][i] )\n",
    "        \n",
    "        # u、i遍历完成，所有特征向量更新完成，可以得到P、Q，可以计算预测评分矩阵\n",
    "        predR = np.dot( P, Q )\n",
    "        \n",
    "        # 计算当前损失函数\n",
    "        cost = 0\n",
    "        for u in range(M):\n",
    "            for i in range(N):\n",
    "                if R[u][i] > 0:\n",
    "                    cost += ( np.dot( P[u,:], Q[:,i] ) - R[u][i] ) ** 2\n",
    "                    # 加上正则化项\n",
    "                    for k in range(K):\n",
    "                        cost += lamda * ( P[u][k] ** 2 + Q[k][i] ** 2 )\n",
    "        if cost < 0.0001:\n",
    "            break\n",
    "        \n",
    "    return P, Q.T, cost"
   ]
  },
  {
   "cell_type": "code",
   "execution_count": 4,
   "metadata": {},
   "outputs": [
    {
     "name": "stdout",
     "output_type": "stream",
     "text": [
      "[[ 3.45342034e-01  4.74623440e-01  9.26460029e-01  9.66959136e-01\n",
      "   1.01772195e+00]\n",
      " [ 4.05200045e-01  1.57468836e+00  3.30657156e-01  5.94536950e-01\n",
      "   6.54199735e-01]\n",
      " [ 8.00096373e-01  1.22447529e+00  2.10807396e-02 -9.64849744e-02\n",
      "   8.04188906e-01]\n",
      " [ 1.41904456e-02  6.39575712e-02  1.43875891e+00  1.28614660e+00\n",
      "   8.08665322e-01]\n",
      " [ 1.13387594e+00  4.26209104e-01  1.20863675e+00 -1.48448771e-03\n",
      "   1.01387146e+00]\n",
      " [ 6.95073010e-01  5.57042595e-01  3.97515493e-01  8.43714642e-01\n",
      "   1.23080235e+00]]\n",
      "[[ 0.27984559  0.22203325  1.6053379   1.57548251  0.77794761]\n",
      " [ 0.82855169  0.25161287  0.29416755  0.55092545  1.34024132]\n",
      " [ 0.02536607  1.38188037  0.02064222  0.85189532  0.41974258]\n",
      " [ 1.60474166  1.47216318  1.13052066  0.2618756   1.14155886]\n",
      " [ 0.26629887  0.68366127  0.33440983  0.39005465 -0.04099233]]\n",
      "0.5541313816526678\n",
      "[[4 0 2 0 1]\n",
      " [0 2 3 0 0]\n",
      " [1 0 2 4 0]\n",
      " [5 0 0 3 1]\n",
      " [0 0 1 5 1]\n",
      " [0 3 2 4 1]]\n"
     ]
    },
    {
     "data": {
      "text/plain": [
       "array([[4.00446759, 2.57480497, 1.93468618, 3.71530262, 1.06171132],\n",
       "       [2.43945877, 2.0335407 , 2.97421349, 4.24475658, 1.5001175 ],\n",
       "       [1.00322582, 2.00186739, 1.96816604, 4.00316953, 0.98664071],\n",
       "       [4.98326677, 2.24346382, 1.55353439, 3.00342412, 0.99715773],\n",
       "       [3.13861324, 2.76027082, 1.06698131, 4.97042132, 0.95537257],\n",
       "       [3.24309918, 2.94739519, 2.03097981, 4.01085129, 0.97750006]])"
      ]
     },
     "execution_count": 4,
     "metadata": {},
     "output_type": "execute_result"
    }
   ],
   "source": [
    "### 3.测试\n",
    "P, Q, cost = LFM_grad_desc(R, K, max_iter, alpha, lamda)\n",
    "\n",
    "print(P)\n",
    "print(Q)\n",
    "print(cost)\n",
    "\n",
    "predR = P.dot(Q.T)\n",
    "\n",
    "print(R)\n",
    "predR"
   ]
  }
 ],
 "metadata": {
  "kernelspec": {
   "display_name": "Python 3",
   "language": "python",
   "name": "python3"
  },
  "language_info": {
   "codemirror_mode": {
    "name": "ipython",
    "version": 3
   },
   "file_extension": ".py",
   "mimetype": "text/x-python",
   "name": "python",
   "nbconvert_exporter": "python",
   "pygments_lexer": "ipython3",
   "version": "3.7.6"
  }
 },
 "nbformat": 4,
 "nbformat_minor": 4
}
