{
 "cells": [
  {
   "cell_type": "markdown",
   "metadata": {},
   "source": [
    "## 简单线性回归（最小二乘法）\n",
    "\n"
   ]
  },
  {
   "cell_type": "code",
   "execution_count": 35,
   "metadata": {},
   "outputs": [],
   "source": [
    "### 0.引入依赖\n",
    "import numpy as np\n",
    "import matplotlib.pyplot as plt"
   ]
  },
  {
   "cell_type": "code",
   "execution_count": 36,
   "metadata": {},
   "outputs": [
    {
     "data": {
      "image/png": "[encoded data removed]",
      "text/plain": [
       "<Figure size 432x288 with 1 Axes>"
      ]
     },
     "metadata": {
      "needs_background": "light"
     },
     "output_type": "display_data"
    }
   ],
   "source": [
    "### 1.导入数据（data.csv） \n",
    "points = np.genfromtxt( \"data.csv\", delimiter=\",\" )\n",
    "# points\n",
    "\n",
    "# 提取points里面的两列数据为X，Y\n",
    "x = points[:, 0]\n",
    "y = points[:, 1]\n",
    "\n",
    "# 调用plt画出散点图\n",
    "plt.scatter( x, y )\n",
    "plt.show()"
   ]
  },
  {
   "cell_type": "code",
   "execution_count": 46,
   "metadata": {},
   "outputs": [],
   "source": [
    "### 2.定义损失函数（损失函数是系数的函数，传入数据）\n",
    "def compute_cost( w, b, points ):\n",
    "    total_cost = 0\n",
    "    M = len( points )\n",
    "    \n",
    "    # 逐点计算平方损失误差，然后求平均值\n",
    "    for i in range( M ):\n",
    "        x = points[i, 0]\n",
    "        y = points[i, 1]\n",
    "        total_cost += ( y - w * x -b ) ** 2\n",
    "    \n",
    "    return total_cost / M"
   ]
  },
  {
   "cell_type": "code",
   "execution_count": 47,
   "metadata": {},
   "outputs": [],
   "source": [
    "### 3.定义算法拟合函数\n",
    "\n",
    "#先定义一个求平均值的函数\n",
    "def average( data ):\n",
    "    sum = 0\n",
    "    num = len( data )\n",
    "    for i in range( num ):\n",
    "        sum += data[i]\n",
    "    return sum / num\n",
    "\n",
    "# 定义核心拟合函数\n",
    "def fit( points ):\n",
    "    M = len( points )\n",
    "    x_bar = average( points[:, 0] )\n",
    "    \n",
    "    sum_yx = 0\n",
    "    sum_x2 = 0 \n",
    "    sum_delta = 0\n",
    "    \n",
    "    for i in range( M ):\n",
    "        x = points[i, 0]\n",
    "        y = points[i, 1]\n",
    "        sum_yx += y * ( x - x_bar )\n",
    "        sum_x2 += x ** 2\n",
    "        \n",
    "    # 根据公式计算w\n",
    "    w = sum_yx / ( sum_x2 - M *( x_bar**2 ) )\n",
    "    \n",
    "    for i in range( M ):\n",
    "        x = points[i, 0]\n",
    "        y = points[i, 1]\n",
    "        sum_delta += ( y - w * x )\n",
    "        \n",
    "    b = sum_delta / M\n",
    "    \n",
    "    return w, b"
   ]
  },
  {
   "cell_type": "code",
   "execution_count": 48,
   "metadata": {},
   "outputs": [
    {
     "name": "stdout",
     "output_type": "stream",
     "text": [
      "w is : 1.3224310227553846\n",
      "b is : 7.991020982269173\n",
      "cost is : 110.25738346621313\n"
     ]
    }
   ],
   "source": [
    "### 4.测试\n",
    "w, b = fit(points)\n",
    "\n",
    "print(\"w is :\", w)\n",
    "print(\"b is :\", b)\n",
    "\n",
    "cost = compute_cost(w, b, points)\n",
    "\n",
    "print(\"cost is :\", cost)"
   ]
  },
  {
   "cell_type": "code",
   "execution_count": 50,
   "metadata": {},
   "outputs": [
    {
     "data": {
      "image/png": "[encoded data removed]",
      "text/plain": [
       "<Figure size 432x288 with 1 Axes>"
      ]
     },
     "metadata": {
      "needs_background": "light"
     },
     "output_type": "display_data"
    }
   ],
   "source": [
    "### 5.画出拟合曲线\n",
    "plt.scatter(x, y)\n",
    "# 针对每一个x,计算预测的y之\n",
    "pred_y = w * x + b \n",
    "\n",
    "plt.plot(x, pred_y, c = \"r\")\n",
    "plt.show()"
   ]
  }
 ],
 "metadata": {
  "kernelspec": {
   "display_name": "Python 3",
   "language": "python",
   "name": "python3"
  },
  "language_info": {
   "codemirror_mode": {
    "name": "ipython",
    "version": 3
   },
   "file_extension": ".py",
   "mimetype": "text/x-python",
   "name": "python",
   "nbconvert_exporter": "python",
   "pygments_lexer": "ipython3",
   "version": "3.7.6"
  }
 },
 "nbformat": 4,
 "nbformat_minor": 4
}
