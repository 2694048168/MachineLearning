{
 "cells": [
  {
   "cell_type": "markdown",
   "id": "472a21d5",
   "metadata": {},
   "source": [
    "# Recommender Systems"
   ]
  },
  {
   "cell_type": "markdown",
   "id": "0c2aa3b6",
   "metadata": {},
   "source": [
    "# Case Study | Deep Collaborative Filtering with MovieLens Dataset"
   ]
  },
  {
   "cell_type": "markdown",
   "id": "31e7a0cf",
   "metadata": {},
   "source": [
    "## 1. Initial Imports"
   ]
  },
  {
   "cell_type": "code",
   "execution_count": 1,
   "id": "08515bf7",
   "metadata": {},
   "outputs": [],
   "source": [
    "import tensorflow as tf\n",
    "from zipfile import ZipFile\n",
    "import pandas as pd\n",
    "import numpy as np\n",
    "from sklearn.model_selection import train_test_split\n",
    "from tensorflow.keras.layers import Embedding\n",
    "from tensorflow.keras.utils import get_file"
   ]
  },
  {
   "cell_type": "markdown",
   "id": "826cd0bc",
   "metadata": {},
   "source": [
    "## 2. Loading the Data"
   ]
  },
  {
   "cell_type": "code",
   "execution_count": 3,
   "id": "c9c9c0b4",
   "metadata": {},
   "outputs": [
    {
     "name": "stdout",
     "output_type": "stream",
     "text": [
      "Downloading data from http://files.grouplens.org/datasets/movielens/ml-latest-small.zip\n",
      "983040/978202 [==============================] - 4s 4us/step\n"
     ]
    }
   ],
   "source": [
    "URL = \"http://files.grouplens.org/datasets/movielens/ml-latest-small.zip\"\n",
    "movielens_path = get_file(\"movielens.zip\", URL, extract=True)"
   ]
  },
  {
   "cell_type": "code",
   "execution_count": 5,
   "id": "1255c95d",
   "metadata": {},
   "outputs": [
    {
     "data": {
      "text/html": [
       "<div>\n",
       "<style scoped>\n",
       "    .dataframe tbody tr th:only-of-type {\n",
       "        vertical-align: middle;\n",
       "    }\n",
       "\n",
       "    .dataframe tbody tr th {\n",
       "        vertical-align: top;\n",
       "    }\n",
       "\n",
       "    .dataframe thead th {\n",
       "        text-align: right;\n",
       "    }\n",
       "</style>\n",
       "<table border=\"1\" class=\"dataframe\">\n",
       "  <thead>\n",
       "    <tr style=\"text-align: right;\">\n",
       "      <th></th>\n",
       "      <th>userId</th>\n",
       "      <th>movieId</th>\n",
       "      <th>rating</th>\n",
       "      <th>timestamp</th>\n",
       "    </tr>\n",
       "  </thead>\n",
       "  <tbody>\n",
       "    <tr>\n",
       "      <th>0</th>\n",
       "      <td>1</td>\n",
       "      <td>1</td>\n",
       "      <td>4.0</td>\n",
       "      <td>964982703</td>\n",
       "    </tr>\n",
       "    <tr>\n",
       "      <th>1</th>\n",
       "      <td>1</td>\n",
       "      <td>3</td>\n",
       "      <td>4.0</td>\n",
       "      <td>964981247</td>\n",
       "    </tr>\n",
       "    <tr>\n",
       "      <th>2</th>\n",
       "      <td>1</td>\n",
       "      <td>6</td>\n",
       "      <td>4.0</td>\n",
       "      <td>964982224</td>\n",
       "    </tr>\n",
       "    <tr>\n",
       "      <th>3</th>\n",
       "      <td>1</td>\n",
       "      <td>47</td>\n",
       "      <td>5.0</td>\n",
       "      <td>964983815</td>\n",
       "    </tr>\n",
       "    <tr>\n",
       "      <th>4</th>\n",
       "      <td>1</td>\n",
       "      <td>50</td>\n",
       "      <td>5.0</td>\n",
       "      <td>964982931</td>\n",
       "    </tr>\n",
       "  </tbody>\n",
       "</table>\n",
       "</div>"
      ],
      "text/plain": [
       "   userId  movieId  rating  timestamp\n",
       "0       1        1     4.0  964982703\n",
       "1       1        3     4.0  964981247\n",
       "2       1        6     4.0  964982224\n",
       "3       1       47     5.0  964983815\n",
       "4       1       50     5.0  964982931"
      ]
     },
     "execution_count": 5,
     "metadata": {},
     "output_type": "execute_result"
    }
   ],
   "source": [
    "with ZipFile(movielens_path) as z:\n",
    "  with z.open(\"ml-latest-small/ratings.csv\") as f:\n",
    "    df = pd.read_csv(f)\n",
    "    \n",
    "df.head()"
   ]
  },
  {
   "cell_type": "markdown",
   "id": "f36ea33d",
   "metadata": {},
   "source": [
    "## 3. Processing the Data"
   ]
  },
  {
   "cell_type": "markdown",
   "id": "9ce54e14",
   "metadata": {},
   "source": [
    "### Processing User IDs"
   ]
  },
  {
   "cell_type": "code",
   "execution_count": 6,
   "id": "a866941a",
   "metadata": {},
   "outputs": [],
   "source": [
    "user_ids = df[\"userId\"].unique().tolist()\n",
    "user2user_encoded = {x: i for i, x in enumerate(user_ids)}\n",
    "user_encoded2user = {i: x for i, x in enumerate(user_ids)}\n",
    "df[\"user\"] = df[\"userId\"].map(user2user_encoded)\n",
    "num_users = len(user_encoded2user)"
   ]
  },
  {
   "cell_type": "markdown",
   "id": "28759a5f",
   "metadata": {},
   "source": [
    "### Processing Movie IDs"
   ]
  },
  {
   "cell_type": "code",
   "execution_count": 7,
   "id": "a6efbc96",
   "metadata": {},
   "outputs": [],
   "source": [
    "movie_ids = df[\"movieId\"].unique().tolist()\n",
    "movie2movie_encoded = {x: i for i, x in enumerate(movie_ids)}\n",
    "movie_encoded2movie = {i: x for i, x in enumerate(movie_ids)}\n",
    "df[\"movie\"] = df[\"movieId\"].map(movie2movie_encoded)\n",
    "num_movies = len(movie_encoded2movie)"
   ]
  },
  {
   "cell_type": "code",
   "execution_count": 8,
   "id": "ce20d2dc",
   "metadata": {},
   "outputs": [
    {
     "name": "stdout",
     "output_type": "stream",
     "text": [
      "Number of users:  610 \n",
      "Number of Movies:  9724\n"
     ]
    }
   ],
   "source": [
    "print(\"Number of users: \", num_users,\"\\nNumber of Movies: \", num_movies)"
   ]
  },
  {
   "cell_type": "markdown",
   "id": "05634282",
   "metadata": {},
   "source": [
    "### Processing the Ratings"
   ]
  },
  {
   "cell_type": "code",
   "execution_count": 10,
   "id": "303fee18",
   "metadata": {},
   "outputs": [
    {
     "data": {
      "text/html": [
       "<div>\n",
       "<style scoped>\n",
       "    .dataframe tbody tr th:only-of-type {\n",
       "        vertical-align: middle;\n",
       "    }\n",
       "\n",
       "    .dataframe tbody tr th {\n",
       "        vertical-align: top;\n",
       "    }\n",
       "\n",
       "    .dataframe thead th {\n",
       "        text-align: right;\n",
       "    }\n",
       "</style>\n",
       "<table border=\"1\" class=\"dataframe\">\n",
       "  <thead>\n",
       "    <tr style=\"text-align: right;\">\n",
       "      <th></th>\n",
       "      <th>userId</th>\n",
       "      <th>movieId</th>\n",
       "      <th>rating</th>\n",
       "      <th>timestamp</th>\n",
       "      <th>user</th>\n",
       "      <th>movie</th>\n",
       "    </tr>\n",
       "  </thead>\n",
       "  <tbody>\n",
       "    <tr>\n",
       "      <th>0</th>\n",
       "      <td>1</td>\n",
       "      <td>1</td>\n",
       "      <td>0.777778</td>\n",
       "      <td>964982703</td>\n",
       "      <td>0</td>\n",
       "      <td>0</td>\n",
       "    </tr>\n",
       "    <tr>\n",
       "      <th>1</th>\n",
       "      <td>1</td>\n",
       "      <td>3</td>\n",
       "      <td>0.777778</td>\n",
       "      <td>964981247</td>\n",
       "      <td>0</td>\n",
       "      <td>1</td>\n",
       "    </tr>\n",
       "    <tr>\n",
       "      <th>2</th>\n",
       "      <td>1</td>\n",
       "      <td>6</td>\n",
       "      <td>0.777778</td>\n",
       "      <td>964982224</td>\n",
       "      <td>0</td>\n",
       "      <td>2</td>\n",
       "    </tr>\n",
       "    <tr>\n",
       "      <th>3</th>\n",
       "      <td>1</td>\n",
       "      <td>47</td>\n",
       "      <td>1.000000</td>\n",
       "      <td>964983815</td>\n",
       "      <td>0</td>\n",
       "      <td>3</td>\n",
       "    </tr>\n",
       "    <tr>\n",
       "      <th>4</th>\n",
       "      <td>1</td>\n",
       "      <td>50</td>\n",
       "      <td>1.000000</td>\n",
       "      <td>964982931</td>\n",
       "      <td>0</td>\n",
       "      <td>4</td>\n",
       "    </tr>\n",
       "  </tbody>\n",
       "</table>\n",
       "</div>"
      ],
      "text/plain": [
       "   userId  movieId    rating  timestamp  user  movie\n",
       "0       1        1  0.777778  964982703     0      0\n",
       "1       1        3  0.777778  964981247     0      1\n",
       "2       1        6  0.777778  964982224     0      2\n",
       "3       1       47  1.000000  964983815     0      3\n",
       "4       1       50  1.000000  964982931     0      4"
      ]
     },
     "execution_count": 10,
     "metadata": {},
     "output_type": "execute_result"
    }
   ],
   "source": [
    "min, max = df[\"rating\"].min(), df[\"rating\"].max()\n",
    "\n",
    "df[\"rating\"] = df[\"rating\"].apply(lambda x:(x-min)/(max-min))\n",
    "\n",
    "df.head()"
   ]
  },
  {
   "cell_type": "markdown",
   "id": "64c2d971",
   "metadata": {},
   "source": [
    "## 4. Splitting the Dataset"
   ]
  },
  {
   "cell_type": "code",
   "execution_count": 11,
   "id": "db9ac90c",
   "metadata": {},
   "outputs": [],
   "source": [
    "X = df[[\"user\", \"movie\"]].values\n",
    "y = df[\"rating\"].values"
   ]
  },
  {
   "cell_type": "code",
   "execution_count": 12,
   "id": "e0cd35c3",
   "metadata": {},
   "outputs": [
    {
     "name": "stdout",
     "output_type": "stream",
     "text": [
      "Shape of the x_train:  (90752, 2)\n",
      "Shape of the y_train:  (90752,)\n",
      "Shape of the x_val:  (10084, 2)\n",
      "Shape of the x_val:  (10084,)\n"
     ]
    }
   ],
   "source": [
    "(x_train, x_val, y_train, y_val) = train_test_split(X, y,test_size=0.1,random_state=42)\n",
    "\n",
    "print(\"Shape of the x_train: \", x_train.shape)\n",
    "print(\"Shape of the y_train: \", y_train.shape)\n",
    "print(\"Shape of the x_val: \", x_val.shape)\n",
    "print(\"Shape of the x_val: \", y_val.shape)"
   ]
  },
  {
   "cell_type": "markdown",
   "id": "9732b717",
   "metadata": {},
   "source": [
    "## 5. Building the Model"
   ]
  },
  {
   "cell_type": "code",
   "execution_count": 13,
   "id": "c2e41332",
   "metadata": {},
   "outputs": [],
   "source": [
    "# In TensorFlow, apart from Sequential API and Functional API, \n",
    "# there is a third option to build models: Model Subclassing. \n",
    "\n",
    "\n",
    "class RecommenderNet(tf.keras.Model):\n",
    "  # __init function is to initialize the values of instance members for the new object\n",
    "  def __init__(self, num_users, num_movies, embedding_size,**kwargs):\n",
    "    super(RecommenderNet, self).__init__(**kwargs)\n",
    "    # Variable for embedding size\n",
    "    self.embedding_size = embedding_size\n",
    "    # Variables for user count, and related weights and biases\n",
    "    self.num_users = num_users\n",
    "    self.user_embedding = Embedding(num_users,embedding_size,embeddings_initializer=\"he_normal\",\n",
    "                                    embeddings_regularizer=tf.keras.regularizers.l2(1e-6),)\n",
    "    self.user_bias = Embedding(num_users, 1)\n",
    "    # Variables for movie count, and related weights and biases\n",
    "    self.num_movies = num_movies\n",
    "    self.movie_embedding = Embedding(num_movies,embedding_size,embeddings_initializer=\"he_normal\",\n",
    "                                     embeddings_regularizer=tf.keras.regularizers.l2(1e-6),)\n",
    "    self.movie_bias = Embedding(num_movies, 1)\n",
    "    \n",
    "  def call(self, inputs):\n",
    "    # call function is for the dot products of user and movie vectors\n",
    "    # It also accepts the inputs, feeds them into the layers,and feed into the final sigmoid layer\n",
    "    # User vector and bias values with input values\n",
    "    user_vector = self.user_embedding(inputs[:, 0])\n",
    "    user_bias = self.user_bias(inputs[:, 0])\n",
    "    # Movie vector and bias values with input values\n",
    "    movie_vector = self.movie_embedding(inputs[:, 1])\n",
    "    movie_bias = self.movie_bias(inputs[:, 1])\n",
    "    # tf.tensordot calculcates the dot product\n",
    "    dot_user_movie = tf.tensordot(user_vector, movie_vector, 2)\n",
    "    # Add all the components (including bias)\n",
    "    x = dot_user_movie + user_bias + movie_bias\n",
    "    # The sigmoid activation forces the rating to between 0 and 1\n",
    "    return tf.nn.sigmoid(x)\n",
    "  \n",
    "# create an instance of this custom class to build our custom RecommenderNet model  \n",
    "model = RecommenderNet(num_users, num_movies, embedding_size=50)"
   ]
  },
  {
   "cell_type": "markdown",
   "id": "a060992f",
   "metadata": {},
   "source": [
    "## 6. Compile and Train the Model"
   ]
  },
  {
   "cell_type": "code",
   "execution_count": 14,
   "id": "aa7ca2d5",
   "metadata": {},
   "outputs": [
    {
     "name": "stdout",
     "output_type": "stream",
     "text": [
      "Epoch 1/5\n",
      "1418/1418 [==============================] - 5s 3ms/step - loss: 0.0642 - val_loss: 0.0470\n",
      "Epoch 2/5\n",
      "1418/1418 [==============================] - 4s 3ms/step - loss: 0.0449 - val_loss: 0.0456\n",
      "Epoch 3/5\n",
      "1418/1418 [==============================] - 4s 3ms/step - loss: 0.0423 - val_loss: 0.0440\n",
      "Epoch 4/5\n",
      "1418/1418 [==============================] - 4s 3ms/step - loss: 0.0412 - val_loss: 0.0432\n",
      "Epoch 5/5\n",
      "1418/1418 [==============================] - 4s 3ms/step - loss: 0.0411 - val_loss: 0.0427\n"
     ]
    }
   ],
   "source": [
    "model.compile(loss='mse',optimizer=tf.keras.optimizers.Adam(lr=0.001))\n",
    "\n",
    "history = model.fit(x=x_train,y=y_train,\n",
    "                    batch_size=64,\n",
    "                    epochs=5,\n",
    "                    verbose=1,\n",
    "                    validation_data=(x_val, y_val),)"
   ]
  },
  {
   "cell_type": "markdown",
   "id": "23e13c59",
   "metadata": {},
   "source": [
    "## 7. Make Recommendations"
   ]
  },
  {
   "cell_type": "code",
   "execution_count": 15,
   "id": "659f915f",
   "metadata": {},
   "outputs": [
    {
     "name": "stdout",
     "output_type": "stream",
     "text": [
      "The selected user ID is:  387\n",
      "The number of movies the user has not seen before:  8697\n"
     ]
    }
   ],
   "source": [
    "# selecting user_id\n",
    "user_id = df.userId.sample(1).iloc[0]\n",
    "print(\"The selected user ID is: \", user_id)\n",
    "\n",
    "# checking and listing user not watching\n",
    "movies_watched = df[df.userId == user_id]\n",
    "not_watched = df[~df['movieId'].isin(movies_watched.movieId.values)]['movieId'].unique()\n",
    "not_watched = [[movie2movie_encoded.get(x)] for x in not_watched]\n",
    "\n",
    "print('The number of movies the user has not seen before: ',len(not_watched))"
   ]
  },
  {
   "cell_type": "code",
   "execution_count": 16,
   "id": "415bb544",
   "metadata": {},
   "outputs": [],
   "source": [
    "# generate the predicted movie ratings\n",
    "user_encoder = user2user_encoded.get(user_id)\n",
    "user_movie_array = np.hstack(([[user_encoder]] * len(not_watched), not_watched ))\n",
    "ratings = model.predict(user_movie_array).flatten()"
   ]
  },
  {
   "cell_type": "code",
   "execution_count": 17,
   "id": "92ef4080",
   "metadata": {},
   "outputs": [],
   "source": [
    "# selecting top10 with order of ratings\n",
    "top10_indices = ratings.argsort()[-10:][::-1]"
   ]
  },
  {
   "cell_type": "code",
   "execution_count": 18,
   "id": "8c865f74",
   "metadata": {},
   "outputs": [],
   "source": [
    "# get the movie ids for the top10\n",
    "recommended_movie_ids = [movie_encoded2movie.get(not_watched[x][0]) for x in top10_indices]"
   ]
  },
  {
   "cell_type": "code",
   "execution_count": 19,
   "id": "0bf095cb",
   "metadata": {},
   "outputs": [
    {
     "data": {
      "text/html": [
       "<div>\n",
       "<style scoped>\n",
       "    .dataframe tbody tr th:only-of-type {\n",
       "        vertical-align: middle;\n",
       "    }\n",
       "\n",
       "    .dataframe tbody tr th {\n",
       "        vertical-align: top;\n",
       "    }\n",
       "\n",
       "    .dataframe thead th {\n",
       "        text-align: right;\n",
       "    }\n",
       "</style>\n",
       "<table border=\"1\" class=\"dataframe\">\n",
       "  <thead>\n",
       "    <tr style=\"text-align: right;\">\n",
       "      <th></th>\n",
       "      <th>movieId</th>\n",
       "      <th>title</th>\n",
       "      <th>genres</th>\n",
       "    </tr>\n",
       "  </thead>\n",
       "  <tbody>\n",
       "    <tr>\n",
       "      <th>0</th>\n",
       "      <td>1</td>\n",
       "      <td>Toy Story (1995)</td>\n",
       "      <td>Adventure|Animation|Children|Comedy|Fantasy</td>\n",
       "    </tr>\n",
       "    <tr>\n",
       "      <th>1</th>\n",
       "      <td>2</td>\n",
       "      <td>Jumanji (1995)</td>\n",
       "      <td>Adventure|Children|Fantasy</td>\n",
       "    </tr>\n",
       "  </tbody>\n",
       "</table>\n",
       "</div>"
      ],
      "text/plain": [
       "   movieId             title                                       genres\n",
       "0        1  Toy Story (1995)  Adventure|Animation|Children|Comedy|Fantasy\n",
       "1        2    Jumanji (1995)                   Adventure|Children|Fantasy"
      ]
     },
     "execution_count": 19,
     "metadata": {},
     "output_type": "execute_result"
    }
   ],
   "source": [
    "# Create a DataFrame from Movies.csv file\n",
    "with ZipFile(movielens_path) as z:\n",
    "  with z.open(\"ml-latest-small/movies.csv\") as f:\n",
    "    movie_df = pd.read_csv(f)\n",
    "    \n",
    "movie_df.head(2)"
   ]
  },
  {
   "cell_type": "code",
   "execution_count": 20,
   "id": "32e47b10",
   "metadata": {},
   "outputs": [],
   "source": [
    "top_movies_user = (movies_watched.sort_values(by=\"rating\", ascending=False).head(10).movieId.values)"
   ]
  },
  {
   "cell_type": "code",
   "execution_count": 21,
   "id": "15c0ed30",
   "metadata": {},
   "outputs": [],
   "source": [
    "movie_df_rows = movie_df[movie_df[\"movieId\"].isin(top_movies_user)]"
   ]
  },
  {
   "cell_type": "code",
   "execution_count": 22,
   "id": "e7044649",
   "metadata": {},
   "outputs": [
    {
     "name": "stdout",
     "output_type": "stream",
     "text": [
      "Movies with high ratings from user\n"
     ]
    },
    {
     "data": {
      "text/html": [
       "<div>\n",
       "<style scoped>\n",
       "    .dataframe tbody tr th:only-of-type {\n",
       "        vertical-align: middle;\n",
       "    }\n",
       "\n",
       "    .dataframe tbody tr th {\n",
       "        vertical-align: top;\n",
       "    }\n",
       "\n",
       "    .dataframe thead th {\n",
       "        text-align: right;\n",
       "    }\n",
       "</style>\n",
       "<table border=\"1\" class=\"dataframe\">\n",
       "  <thead>\n",
       "    <tr style=\"text-align: right;\">\n",
       "      <th></th>\n",
       "      <th>title</th>\n",
       "      <th>genres</th>\n",
       "    </tr>\n",
       "  </thead>\n",
       "  <tbody>\n",
       "    <tr>\n",
       "      <th>602</th>\n",
       "      <td>Dr. Strangelove or: How I Learned to Stop Worr...</td>\n",
       "      <td>Comedy|War</td>\n",
       "    </tr>\n",
       "    <tr>\n",
       "      <th>685</th>\n",
       "      <td>Vertigo (1958)</td>\n",
       "      <td>Drama|Mystery|Romance|Thriller</td>\n",
       "    </tr>\n",
       "    <tr>\n",
       "      <th>694</th>\n",
       "      <td>Casablanca (1942)</td>\n",
       "      <td>Drama|Romance</td>\n",
       "    </tr>\n",
       "    <tr>\n",
       "      <th>907</th>\n",
       "      <td>Clockwork Orange, A (1971)</td>\n",
       "      <td>Crime|Drama|Sci-Fi|Thriller</td>\n",
       "    </tr>\n",
       "    <tr>\n",
       "      <th>909</th>\n",
       "      <td>Apocalypse Now (1979)</td>\n",
       "      <td>Action|Drama|War</td>\n",
       "    </tr>\n",
       "    <tr>\n",
       "      <th>913</th>\n",
       "      <td>Third Man, The (1949)</td>\n",
       "      <td>Film-Noir|Mystery|Thriller</td>\n",
       "    </tr>\n",
       "    <tr>\n",
       "      <th>951</th>\n",
       "      <td>Chinatown (1974)</td>\n",
       "      <td>Crime|Film-Noir|Mystery|Thriller</td>\n",
       "    </tr>\n",
       "    <tr>\n",
       "      <th>3544</th>\n",
       "      <td>Mulholland Drive (2001)</td>\n",
       "      <td>Crime|Drama|Film-Noir|Mystery|Thriller</td>\n",
       "    </tr>\n",
       "    <tr>\n",
       "      <th>4769</th>\n",
       "      <td>Nausicaä of the Valley of the Wind (Kaze no ta...</td>\n",
       "      <td>Adventure|Animation|Drama|Fantasy|Sci-Fi</td>\n",
       "    </tr>\n",
       "    <tr>\n",
       "      <th>5695</th>\n",
       "      <td>Old Boy (2003)</td>\n",
       "      <td>Mystery|Thriller</td>\n",
       "    </tr>\n",
       "  </tbody>\n",
       "</table>\n",
       "</div>"
      ],
      "text/plain": [
       "                                                  title  \\\n",
       "602   Dr. Strangelove or: How I Learned to Stop Worr...   \n",
       "685                                      Vertigo (1958)   \n",
       "694                                   Casablanca (1942)   \n",
       "907                          Clockwork Orange, A (1971)   \n",
       "909                               Apocalypse Now (1979)   \n",
       "913                               Third Man, The (1949)   \n",
       "951                                    Chinatown (1974)   \n",
       "3544                            Mulholland Drive (2001)   \n",
       "4769  Nausicaä of the Valley of the Wind (Kaze no ta...   \n",
       "5695                                     Old Boy (2003)   \n",
       "\n",
       "                                        genres  \n",
       "602                                 Comedy|War  \n",
       "685             Drama|Mystery|Romance|Thriller  \n",
       "694                              Drama|Romance  \n",
       "907                Crime|Drama|Sci-Fi|Thriller  \n",
       "909                           Action|Drama|War  \n",
       "913                 Film-Noir|Mystery|Thriller  \n",
       "951           Crime|Film-Noir|Mystery|Thriller  \n",
       "3544    Crime|Drama|Film-Noir|Mystery|Thriller  \n",
       "4769  Adventure|Animation|Drama|Fantasy|Sci-Fi  \n",
       "5695                          Mystery|Thriller  "
      ]
     },
     "execution_count": 22,
     "metadata": {},
     "output_type": "execute_result"
    }
   ],
   "source": [
    "print(\"Movies with high ratings from user\")\n",
    "movie_df_rows[['title','genres']]"
   ]
  },
  {
   "cell_type": "code",
   "execution_count": 23,
   "id": "8b7d4f9b",
   "metadata": {},
   "outputs": [
    {
     "name": "stdout",
     "output_type": "stream",
     "text": [
      "Top 10 movie recommendations\n"
     ]
    },
    {
     "data": {
      "text/html": [
       "<div>\n",
       "<style scoped>\n",
       "    .dataframe tbody tr th:only-of-type {\n",
       "        vertical-align: middle;\n",
       "    }\n",
       "\n",
       "    .dataframe tbody tr th {\n",
       "        vertical-align: top;\n",
       "    }\n",
       "\n",
       "    .dataframe thead th {\n",
       "        text-align: right;\n",
       "    }\n",
       "</style>\n",
       "<table border=\"1\" class=\"dataframe\">\n",
       "  <thead>\n",
       "    <tr style=\"text-align: right;\">\n",
       "      <th></th>\n",
       "      <th>title</th>\n",
       "      <th>genres</th>\n",
       "    </tr>\n",
       "  </thead>\n",
       "  <tbody>\n",
       "    <tr>\n",
       "      <th>4137</th>\n",
       "      <td>Lord of the Rings: The Two Towers, The (2002)</td>\n",
       "      <td>Adventure|Fantasy</td>\n",
       "    </tr>\n",
       "    <tr>\n",
       "      <th>4159</th>\n",
       "      <td>Catch Me If You Can (2002)</td>\n",
       "      <td>Crime|Drama</td>\n",
       "    </tr>\n",
       "    <tr>\n",
       "      <th>4800</th>\n",
       "      <td>Lord of the Rings: The Return of the King, The...</td>\n",
       "      <td>Action|Adventure|Drama|Fantasy</td>\n",
       "    </tr>\n",
       "    <tr>\n",
       "      <th>4909</th>\n",
       "      <td>Eternal Sunshine of the Spotless Mind (2004)</td>\n",
       "      <td>Drama|Romance|Sci-Fi</td>\n",
       "    </tr>\n",
       "    <tr>\n",
       "      <th>5166</th>\n",
       "      <td>Harry Potter and the Prisoner of Azkaban (2004)</td>\n",
       "      <td>Adventure|Fantasy|IMAX</td>\n",
       "    </tr>\n",
       "    <tr>\n",
       "      <th>6710</th>\n",
       "      <td>Dark Knight, The (2008)</td>\n",
       "      <td>Action|Crime|Drama|IMAX</td>\n",
       "    </tr>\n",
       "    <tr>\n",
       "      <th>7355</th>\n",
       "      <td>Toy Story 3 (2010)</td>\n",
       "      <td>Adventure|Animation|Children|Comedy|Fantasy|IMAX</td>\n",
       "    </tr>\n",
       "    <tr>\n",
       "      <th>8274</th>\n",
       "      <td>Captain Phillips (2013)</td>\n",
       "      <td>Adventure|Drama|Thriller|IMAX</td>\n",
       "    </tr>\n",
       "    <tr>\n",
       "      <th>8475</th>\n",
       "      <td>Guardians of the Galaxy (2014)</td>\n",
       "      <td>Action|Adventure|Sci-Fi</td>\n",
       "    </tr>\n",
       "    <tr>\n",
       "      <th>8879</th>\n",
       "      <td>The Martian (2015)</td>\n",
       "      <td>Adventure|Drama|Sci-Fi</td>\n",
       "    </tr>\n",
       "  </tbody>\n",
       "</table>\n",
       "</div>"
      ],
      "text/plain": [
       "                                                  title  \\\n",
       "4137      Lord of the Rings: The Two Towers, The (2002)   \n",
       "4159                         Catch Me If You Can (2002)   \n",
       "4800  Lord of the Rings: The Return of the King, The...   \n",
       "4909       Eternal Sunshine of the Spotless Mind (2004)   \n",
       "5166    Harry Potter and the Prisoner of Azkaban (2004)   \n",
       "6710                            Dark Knight, The (2008)   \n",
       "7355                                 Toy Story 3 (2010)   \n",
       "8274                            Captain Phillips (2013)   \n",
       "8475                     Guardians of the Galaxy (2014)   \n",
       "8879                                 The Martian (2015)   \n",
       "\n",
       "                                                genres  \n",
       "4137                                 Adventure|Fantasy  \n",
       "4159                                       Crime|Drama  \n",
       "4800                    Action|Adventure|Drama|Fantasy  \n",
       "4909                              Drama|Romance|Sci-Fi  \n",
       "5166                            Adventure|Fantasy|IMAX  \n",
       "6710                           Action|Crime|Drama|IMAX  \n",
       "7355  Adventure|Animation|Children|Comedy|Fantasy|IMAX  \n",
       "8274                     Adventure|Drama|Thriller|IMAX  \n",
       "8475                           Action|Adventure|Sci-Fi  \n",
       "8879                            Adventure|Drama|Sci-Fi  "
      ]
     },
     "execution_count": 23,
     "metadata": {},
     "output_type": "execute_result"
    }
   ],
   "source": [
    "recommended_movies = movie_df[movie_df[\"movieId\"].\n",
    "isin(recommended_movie_ids)]\n",
    "print(\"Top 10 movie recommendations\")\n",
    "recommended_movies[['title','genres']]"
   ]
  },
  {
   "cell_type": "code",
   "execution_count": null,
   "id": "832d3733",
   "metadata": {},
   "outputs": [],
   "source": []
  }
 ],
 "metadata": {
  "kernelspec": {
   "display_name": "Python 3",
   "language": "python",
   "name": "python3"
  },
  "language_info": {
   "codemirror_mode": {
    "name": "ipython",
    "version": 3
   },
   "file_extension": ".py",
   "mimetype": "text/x-python",
   "name": "python",
   "nbconvert_exporter": "python",
   "pygments_lexer": "ipython3",
   "version": "3.8.5"
  }
 },
 "nbformat": 4,
 "nbformat_minor": 5
}
