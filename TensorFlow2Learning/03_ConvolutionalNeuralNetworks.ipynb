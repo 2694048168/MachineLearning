{
 "cells": [
  {
   "cell_type": "markdown",
   "id": "83e9d193",
   "metadata": {},
   "source": [
    "# Convolutional Neural Networks"
   ]
  },
  {
   "cell_type": "markdown",
   "id": "390565e7",
   "metadata": {},
   "source": [
    "# Case Study | Image Classification with MNIST"
   ]
  },
  {
   "cell_type": "markdown",
   "id": "511372aa",
   "metadata": {},
   "source": [
    "## 1. Downloading the MNIST Data"
   ]
  },
  {
   "cell_type": "code",
   "execution_count": 1,
   "id": "edf733b2",
   "metadata": {},
   "outputs": [],
   "source": [
    "import tensorflow as tf\n",
    "import tensorflow_datasets as tfds\n",
    "\n",
    "(x_train,y_train),(x_test,y_test)=tfds.as_numpy(tfds.load('mnist',split=['train', 'test'], \n",
    "                                                          batch_size=-1, #all data in single batch\n",
    "                                                          as_supervised=True, #only input and label\n",
    "                                                          shuffle_files=True #shuffle data to randomize\n",
    "                                                         ))\n"
   ]
  },
  {
   "cell_type": "raw",
   "id": "47f22087",
   "metadata": {},
   "source": [
    "tfds.load(\n",
    "    name: str,\n",
    "    *,\n",
    "    split: Optional[Tree[splits_lib.Split]] = None,\n",
    "    data_dir: Optional[str] = None,\n",
    "    batch_size: tfds.typing.Dim = None,\n",
    "    shuffle_files: bool = False,\n",
    "    download: bool = True,\n",
    "    as_supervised: bool = False,\n",
    "    decoders: Optional[TreeDict[decode.Decoder]] = None,\n",
    "    read_config: Optional[tfds.ReadConfig] = None,\n",
    "    with_info: bool = False,\n",
    "    builder_kwargs: Optional[Dict[str, Any]] = None,\n",
    "    download_and_prepare_kwargs: Optional[Dict[str, Any]] = None,\n",
    "    as_dataset_kwargs: Optional[Dict[str, Any]] = None,\n",
    "    try_gcs: bool = False\n",
    ")"
   ]
  },
  {
   "cell_type": "code",
   "execution_count": 2,
   "id": "1a8b25c9",
   "metadata": {},
   "outputs": [
    {
     "name": "stdout",
     "output_type": "stream",
     "text": [
      "The digit in the image: 3\n"
     ]
    },
    {
     "data": {
      "text/plain": [
       "<matplotlib.image.AxesImage at 0x27fb728bca0>"
      ]
     },
     "execution_count": 2,
     "metadata": {},
     "output_type": "execute_result"
    },
    {
     "data": {
      "image/png": "[encoded data removed]",
      "text/plain": [
       "<Figure size 432x288 with 1 Axes>"
      ]
     },
     "metadata": {
      "needs_background": "light"
     },
     "output_type": "display_data"
    }
   ],
   "source": [
    "import matplotlib.pyplot as plt\n",
    "%matplotlib inline\n",
    "\n",
    "img_index = 7777 #You may pick a number up to 60,000\n",
    "print(\"The digit in the image:\", y_train[img_index])\n",
    "plt.imshow(x_train[img_index].reshape(28,28),cmap='Greys')"
   ]
  },
  {
   "cell_type": "code",
   "execution_count": 3,
   "id": "41a63e71",
   "metadata": {},
   "outputs": [
    {
     "data": {
      "text/plain": [
       "(60000, 28, 28, 1)"
      ]
     },
     "execution_count": 3,
     "metadata": {},
     "output_type": "execute_result"
    }
   ],
   "source": [
    "x_train.shape"
   ]
  },
  {
   "cell_type": "markdown",
   "id": "11d6f6b9",
   "metadata": {},
   "source": [
    "## 2. Reshaping and Normalizing the Images"
   ]
  },
  {
   "cell_type": "code",
   "execution_count": 4,
   "id": "91d27f47",
   "metadata": {},
   "outputs": [
    {
     "name": "stdout",
     "output_type": "stream",
     "text": [
      "x_train shape: (60000, 28, 28, 1)\n",
      "Number of images in x_train 60000\n",
      "Number of images in x_test 10000\n"
     ]
    }
   ],
   "source": [
    "# Making sure that the values are float so that we can get decimal points after division\n",
    "x_train = x_train.astype('float32')\n",
    "x_test = x_test.astype('float32')\n",
    "\n",
    "# Normalizing the grayscale RGB codes by dividing it to the \"max minus min grayscale RGB value\".\n",
    "x_train /= 255\n",
    "x_test /= 255\n",
    "print('x_train shape:', x_train.shape)\n",
    "print('Number of images in x_train', x_train.shape[0])\n",
    "print('Number of images in x_test', x_test.shape[0])"
   ]
  },
  {
   "cell_type": "markdown",
   "id": "122aca0a",
   "metadata": {},
   "source": [
    "## 3. Building the Convolutional Neural Network"
   ]
  },
  {
   "cell_type": "code",
   "execution_count": 7,
   "id": "94dd1d3b",
   "metadata": {},
   "outputs": [],
   "source": [
    "# Importing the required Keras modules containing model and layers\n",
    "from tensorflow.keras.models import Sequential\n",
    "from tensorflow.keras.layers import Dense,Conv2D,Dropout,Flatten,MaxPooling2D\n",
    "\n",
    "#Creating a Sequential Model and adding the layers\n",
    "model = Sequential()\n",
    "model.add(Conv2D(28,kernel_size=(3,3), input_shape=(28,28,1)))\n",
    "model.add(MaxPooling2D(pool_size=(2,2)))\n",
    "model.add(Flatten()) #Flattening the 2D arrays for fully connected layers\n",
    "model.add(Dense(128,activation=tf.nn.relu))\n",
    "model.add(Dropout(0.2))\n",
    "model.add(Dense(10,activation=tf.nn.softmax))"
   ]
  },
  {
   "cell_type": "markdown",
   "id": "e0db4d67",
   "metadata": {},
   "source": [
    "## 4. Compiling and Fitting the Model"
   ]
  },
  {
   "cell_type": "code",
   "execution_count": 8,
   "id": "b86159ee",
   "metadata": {},
   "outputs": [
    {
     "name": "stdout",
     "output_type": "stream",
     "text": [
      "Epoch 1/10\n",
      "1875/1875 [==============================] - 7s 2ms/step - loss: 0.3702 - accuracy: 0.8860\n",
      "Epoch 2/10\n",
      "1875/1875 [==============================] - 4s 2ms/step - loss: 0.0965 - accuracy: 0.9713\n",
      "Epoch 3/10\n",
      "1875/1875 [==============================] - 4s 2ms/step - loss: 0.0637 - accuracy: 0.9800\n",
      "Epoch 4/10\n",
      "1875/1875 [==============================] - 4s 2ms/step - loss: 0.0449 - accuracy: 0.9860\n",
      "Epoch 5/10\n",
      "1875/1875 [==============================] - 5s 2ms/step - loss: 0.0317 - accuracy: 0.9895\n",
      "Epoch 6/10\n",
      "1875/1875 [==============================] - 4s 2ms/step - loss: 0.0276 - accuracy: 0.9906\n",
      "Epoch 7/10\n",
      "1875/1875 [==============================] - 4s 2ms/step - loss: 0.0238 - accuracy: 0.9919\n",
      "Epoch 8/10\n",
      "1875/1875 [==============================] - 4s 2ms/step - loss: 0.0211 - accuracy: 0.9927\n",
      "Epoch 9/10\n",
      "1875/1875 [==============================] - 4s 2ms/step - loss: 0.0172 - accuracy: 0.9936\n",
      "Epoch 10/10\n",
      "1875/1875 [==============================] - 4s 2ms/step - loss: 0.0155 - accuracy: 0.9948\n"
     ]
    },
    {
     "data": {
      "text/plain": [
       "<tensorflow.python.keras.callbacks.History at 0x27fb7a98f10>"
      ]
     },
     "execution_count": 8,
     "metadata": {},
     "output_type": "execute_result"
    }
   ],
   "source": [
    "model.compile(optimizer='adam',loss='sparse_categorical_crossentropy',metrics=['accuracy'])\n",
    "model.fit(x=x_train,y=y_train, epochs=10)"
   ]
  },
  {
   "cell_type": "markdown",
   "id": "d646c182",
   "metadata": {},
   "source": [
    "## 5. Evaluating the Model"
   ]
  },
  {
   "cell_type": "code",
   "execution_count": 9,
   "id": "f54fe29b",
   "metadata": {},
   "outputs": [
    {
     "name": "stdout",
     "output_type": "stream",
     "text": [
      "313/313 [==============================] - 1s 2ms/step - loss: 0.0571 - accuracy: 0.9864\n"
     ]
    },
    {
     "data": {
      "text/plain": [
       "[0.05709945037961006, 0.9864000082015991]"
      ]
     },
     "execution_count": 9,
     "metadata": {},
     "output_type": "execute_result"
    }
   ],
   "source": [
    "model.evaluate(x_test, y_test)"
   ]
  },
  {
   "cell_type": "code",
   "execution_count": 10,
   "id": "b36fbf03",
   "metadata": {},
   "outputs": [
    {
     "name": "stdout",
     "output_type": "stream",
     "text": [
      "Our CNN model predicts that the digit in the image is: 5\n"
     ]
    },
    {
     "data": {
      "image/png": "[encoded data removed]",
      "text/plain": [
       "<Figure size 432x288 with 1 Axes>"
      ]
     },
     "metadata": {
      "needs_background": "light"
     },
     "output_type": "display_data"
    }
   ],
   "source": [
    "# We can also make individual predictions with the following code:\n",
    "img_pred_index = 1000\n",
    "plt.imshow(x_test[img_pred_index].reshape(28,28),cmap='Greys')\n",
    "pred = model.predict(x_test[img_pred_index].reshape(1,28,28,1))\n",
    "print(\"Our CNN model predicts that the digit in the image is:\",pred.argmax())"
   ]
  },
  {
   "cell_type": "markdown",
   "id": "d49ac83a",
   "metadata": {},
   "source": [
    "## 6. Saving the Trained Model"
   ]
  },
  {
   "cell_type": "code",
   "execution_count": 12,
   "id": "06ae79d8",
   "metadata": {},
   "outputs": [
    {
     "name": "stdout",
     "output_type": "stream",
     "text": [
      "INFO:tensorflow:Assets written to: saved_model/digit_classifier\\assets\n"
     ]
    },
    {
     "name": "stderr",
     "output_type": "stream",
     "text": [
      "INFO:tensorflow:Assets written to: saved_model/digit_classifier\\assets\n"
     ]
    }
   ],
   "source": [
    "# Save the entire model as a SavedModel.\n",
    "# Create a 'saved_model' folder under the 'content' folder of your Google Colab Directory.\n",
    "# Save the full model with its variables, weights, and biases.\n",
    "model.save('saved_model/digit_classifier')"
   ]
  },
  {
   "cell_type": "code",
   "execution_count": null,
   "id": "9c2090f0",
   "metadata": {},
   "outputs": [],
   "source": []
  }
 ],
 "metadata": {
  "kernelspec": {
   "display_name": "Python 3",
   "language": "python",
   "name": "python3"
  },
  "language_info": {
   "codemirror_mode": {
    "name": "ipython",
    "version": 3
   },
   "file_extension": ".py",
   "mimetype": "text/x-python",
   "name": "python",
   "nbconvert_exporter": "python",
   "pygments_lexer": "ipython3",
   "version": "3.8.5"
  }
 },
 "nbformat": 4,
 "nbformat_minor": 5
}
