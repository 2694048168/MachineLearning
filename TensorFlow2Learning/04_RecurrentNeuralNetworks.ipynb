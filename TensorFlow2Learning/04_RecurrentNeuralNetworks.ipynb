{
 "cells": [
  {
   "cell_type": "markdown",
   "id": "67b7880e",
   "metadata": {},
   "source": [
    "# Recurrent Neural Networks"
   ]
  },
  {
   "cell_type": "markdown",
   "id": "c3f8b673",
   "metadata": {},
   "source": [
    "# Case Study | Sentiment Analysis with IMDB Reviews"
   ]
  },
  {
   "cell_type": "markdown",
   "id": "789d4c6e",
   "metadata": {},
   "source": [
    "## 1. Preparing Our Colab for GPU Accelerated Training"
   ]
  },
  {
   "cell_type": "code",
   "execution_count": 1,
   "id": "c3cbd151",
   "metadata": {},
   "outputs": [
    {
     "name": "stdout",
     "output_type": "stream",
     "text": [
      "1 Physical GPUs, 1 Logical GPU\n"
     ]
    }
   ],
   "source": [
    "import tensorflow as tf\n",
    "\n",
    "# checking supporting GPU for tensorflow\n",
    "gpus = tf.config.list_physical_devices('GPU')\n",
    "if gpus:\n",
    "  # Restrict TensorFlow to only use the first GPU\n",
    "  try:\n",
    "    tf.config.experimental.set_visible_devices(gpus[0], 'GPU')\n",
    "    logical_gpus = tf.config.experimental.list_logical_devices('GPU')\n",
    "    print(len(gpus), \"Physical GPUs,\", len(logical_gpus), \"Logical GPU\")\n",
    "  except RuntimeError as e:\n",
    "    # Visible devices must be set before GPUs have been initialized\n",
    "    print(e)"
   ]
  },
  {
   "cell_type": "markdown",
   "id": "55623153",
   "metadata": {},
   "source": [
    "## 2. TensorFlow Imports for Dataset Downloading"
   ]
  },
  {
   "cell_type": "code",
   "execution_count": 2,
   "id": "4efce8b5",
   "metadata": {},
   "outputs": [
    {
     "name": "stderr",
     "output_type": "stream",
     "text": [
      "WARNING:absl:TFDS datasets with text encoding are deprecated and will be removed in a future version. Instead, you should use the plain text version and tokenize the text using `tensorflow_text` (See: https://www.tensorflow.org/tutorials/tensorflow_text/intro#tfdata_example)\n"
     ]
    }
   ],
   "source": [
    "import tensorflow_datasets as tfds\n",
    "\n",
    "# Dataset is a dictionary containing train, test, and unlabeled datasets\n",
    "# Info contains relevant information about the dataset\n",
    "dataset, info = tfds.load('imdb_reviews/subwords8k',with_info=True,as_supervised=True)"
   ]
  },
  {
   "cell_type": "code",
   "execution_count": 3,
   "id": "e0e3f3dd",
   "metadata": {},
   "outputs": [
    {
     "name": "stdout",
     "output_type": "stream",
     "text": [
      "Vocabulary size: 8185\n"
     ]
    }
   ],
   "source": [
    "# Understanding the Bag-of-Word Concept: Text Encoding and Decoding\n",
    "\n",
    "# Using info we can load the encoder which converts text to bag of words\n",
    "encoder = info.features['text'].encoder\n",
    "print('Vocabulary size: {}'.format(encoder.vocab_size))"
   ]
  },
  {
   "cell_type": "code",
   "execution_count": 4,
   "id": "d4afb602",
   "metadata": {},
   "outputs": [
    {
     "name": "stdout",
     "output_type": "stream",
     "text": [
      "Encoded review is [3585, 3194, 7785, 7962]\n"
     ]
    }
   ],
   "source": [
    "# By using this encoder, we can encode new reviews:\n",
    "\n",
    "# You can also encode a brand new comment with encode function\n",
    "review = 'Terrible Movie!'\n",
    "encoded_review = encoder.encode(review)\n",
    "print('Encoded review is {}'.format(encoded_review))"
   ]
  },
  {
   "cell_type": "code",
   "execution_count": 5,
   "id": "7928f63f",
   "metadata": {},
   "outputs": [
    {
     "name": "stdout",
     "output_type": "stream",
     "text": [
      "The original review is \"Terrible Movie!\"\n"
     ]
    }
   ],
   "source": [
    "# You can easily decode an encoded review with decode function\n",
    "original_review = encoder.decode(encoded_review)\n",
    "print('The original review is \"{}\"'.format(original_review))"
   ]
  },
  {
   "cell_type": "markdown",
   "id": "7dbe6603",
   "metadata": {},
   "source": [
    "## 3. Preparing the Dataset"
   ]
  },
  {
   "cell_type": "code",
   "execution_count": 6,
   "id": "14ec4bf2",
   "metadata": {},
   "outputs": [],
   "source": [
    "# We can easily split our dataset dictionary with the relevant keys\n",
    "train_dataset, test_dataset = dataset['train'], dataset['test']\n",
    "\n",
    "BUFFER_SIZE = 10000\n",
    "BATCH_SIZE = 64\n",
    "train_dataset = train_dataset.shuffle(BUFFER_SIZE)\n",
    "train_dataset = train_dataset.padded_batch(BATCH_SIZE)\n",
    "test_dataset = test_dataset.padded_batch(BATCH_SIZE)"
   ]
  },
  {
   "cell_type": "markdown",
   "id": "555d2935",
   "metadata": {},
   "source": [
    "## 4. Building the Recurrent Neural Network"
   ]
  },
  {
   "cell_type": "code",
   "execution_count": 7,
   "id": "1f9ff1d3",
   "metadata": {},
   "outputs": [],
   "source": [
    "# Imports for Model Building\n",
    "from tensorflow.keras.models import Sequential\n",
    "from tensorflow.keras.layers import (Dense,Embedding,Bidirectional,Dropout,LSTM)\n",
    "from tensorflow.keras.losses import BinaryCrossentropy\n",
    "from tensorflow.keras.optimizers import Adam"
   ]
  },
  {
   "cell_type": "code",
   "execution_count": 8,
   "id": "5c06876b",
   "metadata": {},
   "outputs": [
    {
     "name": "stdout",
     "output_type": "stream",
     "text": [
      "Model: \"sequential\"\n",
      "_________________________________________________________________\n",
      "Layer (type)                 Output Shape              Param #   \n",
      "=================================================================\n",
      "embedding (Embedding)        (None, None, 64)          523840    \n",
      "_________________________________________________________________\n",
      "bidirectional (Bidirectional (None, None, 128)         66048     \n",
      "_________________________________________________________________\n",
      "bidirectional_1 (Bidirection (None, 64)                41216     \n",
      "_________________________________________________________________\n",
      "dense (Dense)                (None, 64)                4160      \n",
      "_________________________________________________________________\n",
      "dropout (Dropout)            (None, 64)                0         \n",
      "_________________________________________________________________\n",
      "dense_1 (Dense)              (None, 1)                 65        \n",
      "=================================================================\n",
      "Total params: 635,329\n",
      "Trainable params: 635,329\n",
      "Non-trainable params: 0\n",
      "_________________________________________________________________\n"
     ]
    },
    {
     "data": {
      "image/png": "[encoded data removed]",
      "text/plain": [
       "<IPython.core.display.Image object>"
      ]
     },
     "execution_count": 8,
     "metadata": {},
     "output_type": "execute_result"
    }
   ],
   "source": [
    "# Create the Model and Fill It with Layers\n",
    "\n",
    "model = Sequential([Embedding(encoder.vocab_size, 64),\n",
    "                    Bidirectional(LSTM(64, return_sequences=True)),\n",
    "                    Bidirectional(LSTM(32)),\n",
    "                    Dense(64, activation='relu'),\n",
    "                    Dropout(0.5),\n",
    "                    Dense(1)])\n",
    "\n",
    "model.summary()\n",
    "tf.keras.utils.plot_model(model, show_shapes=True)"
   ]
  },
  {
   "cell_type": "code",
   "execution_count": null,
   "id": "aa19eb57",
   "metadata": {},
   "outputs": [
    {
     "name": "stdout",
     "output_type": "stream",
     "text": [
      "Epoch 1/10\n",
      " 17/391 [>.............................] - ETA: 1:07 - loss: 0.6932 - accuracy: 0.4806"
     ]
    }
   ],
   "source": [
    "# Compiling and Fitting the Model\n",
    "\n",
    "model.compile(loss=BinaryCrossentropy(from_logits=True),optimizer=Adam(1e-4),metrics=['accuracy'])\n",
    "\n",
    "history = model.fit(train_dataset, epochs=10,validation_data=test_dataset,validation_steps=30)"
   ]
  },
  {
   "cell_type": "markdown",
   "id": "2f64a7e3",
   "metadata": {},
   "source": [
    "## 5. Evaluating the Model"
   ]
  },
  {
   "cell_type": "code",
   "execution_count": null,
   "id": "250cc796",
   "metadata": {},
   "outputs": [],
   "source": [
    "test_loss, test_acc = model.evaluate(test_dataset)\n",
    "print('Test Loss: {}'.format(test_loss))\n",
    "print('Test Accuracy: {}'.format(test_acc))"
   ]
  },
  {
   "cell_type": "code",
   "execution_count": null,
   "id": "0239f023",
   "metadata": {},
   "outputs": [],
   "source": [
    "# We can also use our history object to plot the performance measures over time with the following code:\n",
    "import matplotlib.pyplot as plt\n",
    "%matplotlib inline\n",
    "\n",
    "def plot_graphs(history, metric):\n",
    "  plt.plot(history.history[metric])\n",
    "  plt.plot(history.history['val_'+metric], '')\n",
    "  plt.xlabel(\"Epochs\")\n",
    "  plt.ylabel(metric)\n",
    "  plt.legend([metric, 'val_'+metric])\n",
    "  plt.show()\n",
    "\n",
    "plot_graphs(history, 'accuracy')"
   ]
  },
  {
   "cell_type": "markdown",
   "id": "a4bddedf",
   "metadata": {},
   "source": [
    "## 6. Making New Predictions"
   ]
  },
  {
   "cell_type": "code",
   "execution_count": null,
   "id": "4e7bf2f4",
   "metadata": {},
   "outputs": [],
   "source": [
    "# The following code is our custom padding function:\n",
    "def review_padding(encoded_review, padding_size):\n",
    "  zeros = [0] * (padding_size - len(encoded_review))\n",
    "  encoded_review.extend(zeros)\n",
    "  return encoded_review\n",
    "\n",
    "# encoder function that would encode and process our review to feed into our trained model\n",
    "def review_encoder(review):\n",
    "  encoded_review = review_padding(encoder.encode( review ),64)\n",
    "  encoded_review = tf.cast( encoded_review, tf.float32)\n",
    "  return tf.expand_dims( encoded_review, 0)\n"
   ]
  },
  {
   "cell_type": "code",
   "execution_count": null,
   "id": "0b60abe9",
   "metadata": {},
   "outputs": [],
   "source": [
    "fight_club_review = 'It has some cliched moments, even for its time, but FIGHT CLUB is an awesome film. \\\n",
    "                     I have watched it about 100 times in the past 20 years. \\\n",
    "                     It never gets old. It is hard to discuss this film without giving things away but suffice it to say,\\\n",
    "                     it is a great thriller with some intriguing twists.'\n"
   ]
  },
  {
   "cell_type": "code",
   "execution_count": null,
   "id": "da8be425",
   "metadata": {},
   "outputs": [],
   "source": [
    "model.predict(review_encoder(fight_club_review))"
   ]
  },
  {
   "cell_type": "raw",
   "id": "120166ca",
   "metadata": {},
   "source": [
    "When the output is larger than 0.5, our model classifies the review\n",
    "as positive, whereas negative if below 0.5. Since our output is 1.57, we\n",
    "confirm that our model successfully predicts the sentiment of the review"
   ]
  },
  {
   "cell_type": "markdown",
   "id": "16668f71",
   "metadata": {},
   "source": [
    "## 7. Saving and Loading the Model"
   ]
  },
  {
   "cell_type": "code",
   "execution_count": null,
   "id": "272b93be",
   "metadata": {},
   "outputs": [],
   "source": [
    "# This will save the full model with its variables, weights, and biases.\n",
    "model.save('/saved_model/sentiment_analysis')\n",
    "\n",
    "# Also save the encoder for later use\n",
    "encoder.save_to_file('/saved_model/sa_vocab')\n"
   ]
  },
  {
   "cell_type": "markdown",
   "id": "41bcee4f",
   "metadata": {},
   "source": [
    "## 8. Load the Trained Model and Make Predictions\n",
    "\n",
    "### you can shut dowm this kernel, and then starting the followingcell."
   ]
  },
  {
   "cell_type": "code",
   "execution_count": null,
   "id": "660963b3",
   "metadata": {},
   "outputs": [],
   "source": [
    "import tensorflow as tf\n",
    "\n",
    "loaded = tf.keras.models.load_model(\"/saved_model/sentiment_analysis/\")"
   ]
  },
  {
   "cell_type": "code",
   "execution_count": null,
   "id": "15e3c633",
   "metadata": {},
   "outputs": [],
   "source": [
    "import tensorflow_datasets as tfds\n",
    "\n",
    "vocab_path = '/saved_model/sa_vocab'\n",
    "encoder = tfds.features.text.SubwordTextEncoder.load_from_file(vocab_path)"
   ]
  },
  {
   "cell_type": "code",
   "execution_count": null,
   "id": "618677f9",
   "metadata": {},
   "outputs": [],
   "source": [
    "# The following code is our custom padding function:\n",
    "def review_padding(encoded_review, padding_size):\n",
    "  zeros = [0] * (padding_size - len(encoded_review))\n",
    "  encoded_review.extend(zeros)\n",
    "  return encoded_review\n",
    "\n",
    "# encoder function that would encode and process our review to feed into our trained model\n",
    "def review_encoder(review):\n",
    "  encoded_review = review_padding(encoder.encode( review ),64)\n",
    "  encoded_review = tf.cast( encoded_review, tf.float32)\n",
    "  return tf.expand_dims( encoded_review, 0)\n",
    "\n",
    "\n",
    "fight_club_review = 'It has some cliched moments, even for its time, but FIGHT CLUB is an awesome film. \\\n",
    "                     I have watched it about 100 times in the past 20 years. \\\n",
    "                     It never gets old. It is hard to discuss this film without giving things away but suffice it to say,\\\n",
    "                     it is a great thriller with some intriguing twists.'\n"
   ]
  },
  {
   "cell_type": "code",
   "execution_count": null,
   "id": "d722d073",
   "metadata": {},
   "outputs": [],
   "source": [
    "loaded.predict(review_encoder(rev))"
   ]
  }
 ],
 "metadata": {
  "kernelspec": {
   "display_name": "Python 3",
   "language": "python",
   "name": "python3"
  },
  "language_info": {
   "codemirror_mode": {
    "name": "ipython",
    "version": 3
   },
   "file_extension": ".py",
   "mimetype": "text/x-python",
   "name": "python",
   "nbconvert_exporter": "python",
   "pygments_lexer": "ipython3",
   "version": "3.8.5"
  }
 },
 "nbformat": 4,
 "nbformat_minor": 5
}
